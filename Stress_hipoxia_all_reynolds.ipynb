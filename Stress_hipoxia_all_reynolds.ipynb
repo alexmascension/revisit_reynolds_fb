{
 "cells": [
  {
   "cell_type": "code",
   "execution_count": null,
   "id": "associate-brooks",
   "metadata": {},
   "outputs": [],
   "source": [
    "# !wget https://raw.githubusercontent.com/alexmascension/revisit_reynolds_fb/master/requirements.txt\n",
    "# !pip install -r requirements.txt"
   ]
  },
  {
   "cell_type": "code",
   "execution_count": null,
   "id": "overhead-gender",
   "metadata": {},
   "outputs": [],
   "source": [
    "import scanpy as sc\n",
    "import scanpy.external as sce\n",
    "\n",
    "import pandas as pd\n",
    "import numpy as np\n",
    "import os\n",
    "from functools import reduce\n",
    "import gseapy as gp\n",
    "\n",
    "import triku as tk\n",
    "\n",
    "import matplotlib.pyplot as plt\n",
    "import matplotlib as mpl\n",
    "import seaborn as sns\n",
    "\n",
    "import scipy.stats as sts"
   ]
  },
  {
   "cell_type": "code",
   "execution_count": null,
   "id": "historic-depth",
   "metadata": {},
   "outputs": [],
   "source": [
    "# To print versions of imports \n",
    "\n",
    "import types\n",
    "\n",
    "def imports():\n",
    "    for name, val in globals().items():\n",
    "        if isinstance(val, types.ModuleType):\n",
    "            yield val.__name__\n",
    "\n",
    "excludes = ['builtins', 'types', 'sys']\n",
    "\n",
    "imported_modules = [module for module in imports() if module not in excludes]\n",
    "\n",
    "clean_modules = []\n",
    "\n",
    "for module in imported_modules:\n",
    "\n",
    "    sep = '.'  # to handle 'matplotlib.pyplot' cases\n",
    "    rest = module.split(sep, 1)[0]\n",
    "    clean_modules.append(rest)\n",
    "\n",
    "changed_imported_modules = list(set(clean_modules))  # drop duplicates\n",
    "\n",
    "pip_modules = !pip freeze  # you could also use `!conda list` with anaconda\n",
    "\n",
    "for module in pip_modules:\n",
    "    try:\n",
    "        name, version = module.split('==')\n",
    "        if name in changed_imported_modules:\n",
    "            print(name + '\\t' + version)\n",
    "    except:\n",
    "        pass"
   ]
  },
  {
   "cell_type": "code",
   "execution_count": null,
   "id": "hydraulic-merchandise",
   "metadata": {},
   "outputs": [],
   "source": [
    "seed = 0"
   ]
  },
  {
   "cell_type": "code",
   "execution_count": null,
   "id": "catholic-samuel",
   "metadata": {},
   "outputs": [],
   "source": [
    "# Palettes for UMAP gene expression\n",
    "\n",
    "magma = [plt.get_cmap('magma')(i) for i in np.linspace(0,1, 80)]\n",
    "magma[0] = (0.88, 0.88, 0.88, 1)\n",
    "magma = mpl.colors.LinearSegmentedColormap.from_list(\"\", magma[:65])"
   ]
  },
  {
   "cell_type": "code",
   "execution_count": null,
   "id": "useful-insert",
   "metadata": {},
   "outputs": [],
   "source": [
    "mpl.rcParams['figure.dpi'] = 150"
   ]
  },
  {
   "cell_type": "code",
   "execution_count": null,
   "id": "respiratory-uzbekistan",
   "metadata": {},
   "outputs": [],
   "source": [
    "def assign_cats(adata, dict_cats, column_groupby='leiden', quantile_gene_sel=0.7, do_return=False, intermediate_states=False, diff=0.05, \n",
    "                key_added='assigned_cats', min_score=50):\n",
    "    \"\"\"\n",
    "    This functions uses a set of genes assigned to different categories so that leiden clusters can be assigned to one of these categories.\n",
    "    For example, to categorize fibroblasts from pericytes, endothelial cells, or cells with high mitochondrial content.\n",
    "    It could be done with each cell individually, but it is better to use clusters to discern the different categories because\n",
    "    the method, although efficient, can sometimes be noisy due to the noisiness of the sc datasets.\n",
    "    \"\"\"\n",
    "    \n",
    "    for cat in list(dict_cats.keys()):\n",
    "        mat_cat = np.zeros((len(adata), len(dict_cats[cat])), dtype=float)\n",
    "        \n",
    "        for gene_idx, gene in enumerate(dict_cats[cat]):\n",
    "            try:\n",
    "                mat_cat[:, gene_idx] = np.asarray(np.dot(adata.obsp['connectivities'], adata[:, gene].X).todense()).ravel() / adata.uns['neighbors']['params']['n_neighbors']\n",
    "                \n",
    "                # We normalize the expression to the maximum (per 98) of expression ** 0.5 to account to some extent for the expression of the gene. \n",
    "                # In the end, a gene highly expressed must account for more than a gene with lower expression\n",
    "                mat_cat[mat_cat[:, gene_idx] > 0, gene_idx] = np.argsort(np.argsort(mat_cat[mat_cat[:, gene_idx] > 0, gene_idx]))\n",
    "                mat_cat[:, gene_idx] /= np.max(mat_cat[:, gene_idx])\n",
    "            except:\n",
    "                print(f'Gene {gene} is not on the list')    \n",
    "            \n",
    "        sum_mat_cat = np.asarray(mat_cat.mean(1)).ravel()       \n",
    "        adata.obs[cat] = sum_mat_cat\n",
    "    \n",
    "    score_per_cluster = adata.obs[[column_groupby] + list(dict_cats.keys())].groupby(column_groupby).quantile(quantile_gene_sel)\n",
    "    max_cat_dict_std = dict(zip(score_per_cluster.std(1).index, score_per_cluster.std(1).values))\n",
    "    adata.obs[f'{key_added}_std'] = [max_cat_dict_std[i] for i in adata.obs[column_groupby]]\n",
    "    max_cat_dict_mean = dict(zip(score_per_cluster.mean(1).index, score_per_cluster.mean(1).values))\n",
    "    adata.obs[f'{key_added}_mean'] = [max_cat_dict_mean[i] for i in adata.obs[column_groupby]]\n",
    "    adata.obs[f'{key_added}_CV'] = adata.obs[f'{key_added}_mean'] / adata.obs[f'{key_added}_std']\n",
    "    \n",
    "    for cat in score_per_cluster.columns:\n",
    "        max_cat_dict = dict(zip(score_per_cluster.index, score_per_cluster[cat].values))\n",
    "        adata.obs[f'{key_added}_{cat}'] = [max_cat_dict[i] for i in adata.obs[column_groupby]]\n",
    "    \n",
    "    if intermediate_states: # For each cluster we will identify which categories are close to the highest one, and merge their names.\n",
    "        list_names_cats_per_cluster = []\n",
    "        for cluster in score_per_cluster.index:\n",
    "            scores_cluster = score_per_cluster.loc[cluster]\n",
    "            scores_cluster = scores_cluster[scores_cluster > scores_cluster.max() - diff]\n",
    "            list_names_cats_per_cluster.append('/'.join(scores_cluster.index))\n",
    "            \n",
    "        inter_cat_dict = dict(zip(score_per_cluster.idxmax(axis=1).index, list_names_cats_per_cluster))\n",
    "        adata.obs[f'{key_added}'] = [str(inter_cat_dict[i]) for i in adata.obs[column_groupby]]\n",
    "    else:\n",
    "        max_cat_dict = dict(zip(score_per_cluster.idxmax(axis=1).index, score_per_cluster.idxmax(axis=1).values))\n",
    "        adata.obs[f'{key_added}'] = [str(max_cat_dict[i]) for i in adata.obs[column_groupby]]\n",
    "    \n",
    "    if do_return:\n",
    "        return score_per_cluster"
   ]
  },
  {
   "cell_type": "markdown",
   "id": "clinical-agreement",
   "metadata": {},
   "source": [
    "# Reynolds et al. 2020 dataset download and preprocess\n",
    "In this section we are going to download and process the anndata files for the 5 healthy samples (S1 to S5). We are first going to use the processed files from Reynolds et al., because they contain the main fb populations, which we are interested in (FB1-3). With that, we can partially replicate the analysis. However, the data richness is not that good (the UMAPs are more *blooby*) so we preprocess the FASTQ files on our own, and used the processed adatas.\n",
    "\n",
    "Once we have our own anndatas, the preprocessing is the following:\n",
    "* Assign FB types based on Reynolds adatas to our adatas. Some cells will be unassigned.\n",
    "* QC metrics \n",
    "* Filter genes (min counts = 30)\n",
    "* Set raw X\n",
    "* Normalize and log1p\n",
    "* PCA + triku + neighbors + umap + leiden\n",
    "* Use  `assign_cats` to assign leiden clusters to cell populations with selected markers (markers for each dataset may vary!)\n",
    "* Filter adata to retain only fibroblasts\n",
    "* Filter genes to remove 0 counts\n",
    "* PCA + triku + neighbors + umap + leiden [leiden is not used here but may be used later]\n",
    "* Check if strange populations appear and filter them in `assign_cats`, then repeat the last steps."
   ]
  },
  {
   "cell_type": "code",
   "execution_count": null,
   "id": "circular-playing",
   "metadata": {},
   "outputs": [],
   "source": [
    "os.getcwd()"
   ]
  },
  {
   "cell_type": "code",
   "execution_count": null,
   "id": "fewer-giant",
   "metadata": {},
   "outputs": [],
   "source": [
    "reynolds_dir = 'reynolds_2020'\n",
    "os.makedirs(reynolds_dir, exist_ok=True)"
   ]
  },
  {
   "cell_type": "markdown",
   "id": "color-qualification",
   "metadata": {},
   "source": [
    "### Making and saving the fb healthy dataset to zenodo"
   ]
  },
  {
   "cell_type": "code",
   "execution_count": null,
   "id": "neutral-stable",
   "metadata": {},
   "outputs": [],
   "source": [
    "# adata_reynolds = sc.read('submission_210120.h5ad', backup_url='https://zenodo.org/record/4536165/files/submission_210120.h5ad')\n",
    "# adata_reynolds_fb = adata_reynolds[(adata_reynolds.obs['full_clustering'].isin(['F1', 'F2', 'F3'])) & \n",
    "#                                    (adata_reynolds.obs['Status'] == 'Healthy')]\n",
    "# sc.pp.filter_genes(adata_reynolds_fb, min_counts=100)\n",
    "# del adata_reynolds_fb.var\n",
    "\n",
    "# for obs in ['mad_prd', 'Status', 'Site', 'Tissue', 'Enrichment', 'Location', 'Sex', 'Age', 'stage']:\n",
    "#     del adata_reynolds_fb.obs[obs]\n",
    "    \n",
    "# adata_reynolds_fb.write_h5ad(reynolds_dir + '/reynolds_2020_fb_healthy.h5ad')"
   ]
  },
  {
   "cell_type": "markdown",
   "id": "regional-leeds",
   "metadata": {},
   "source": [
    "### Direct h5ad download"
   ]
  },
  {
   "cell_type": "code",
   "execution_count": null,
   "id": "falling-reservoir",
   "metadata": {},
   "outputs": [],
   "source": [
    "adata_reynolds_fb_healthy = sc.read(reynolds_dir + '/reynolds_2020_fb_healthy.h5ad', \n",
    "                                    backup_url='https://zenodo.org/record/4605340/files/reynolds_2020_fb_healthy.h5ad?download=1')"
   ]
  },
  {
   "cell_type": "code",
   "execution_count": null,
   "id": "distant-cheese",
   "metadata": {},
   "outputs": [],
   "source": [
    "sc.pp.filter_genes(adata_reynolds_fb_healthy, min_counts=50)"
   ]
  },
  {
   "cell_type": "code",
   "execution_count": null,
   "id": "located-investigation",
   "metadata": {},
   "outputs": [],
   "source": [
    "sc.pp.log1p(adata_reynolds_fb_healthy)\n",
    "sc.pp.normalize_total(adata_reynolds_fb_healthy)"
   ]
  },
  {
   "cell_type": "code",
   "execution_count": null,
   "id": "adapted-arrival",
   "metadata": {},
   "outputs": [],
   "source": [
    "df_batches = pd.DataFrame(np.unique(adata_reynolds_fb_healthy.obs['sample_id'], return_counts=True)).transpose()"
   ]
  },
  {
   "cell_type": "code",
   "execution_count": null,
   "id": "adverse-cisco",
   "metadata": {},
   "outputs": [],
   "source": [
    "df_batches.sort_values(by=1, ascending=False)"
   ]
  },
  {
   "cell_type": "code",
   "execution_count": null,
   "id": "sapphire-plaza",
   "metadata": {},
   "outputs": [],
   "source": [
    "selected_samples = df_batches[df_batches[1] > 50][0].values"
   ]
  },
  {
   "cell_type": "code",
   "execution_count": null,
   "id": "tired-armenia",
   "metadata": {},
   "outputs": [],
   "source": [
    "adata_reynolds_fb_healthy = adata_reynolds_fb_healthy[adata_reynolds_fb_healthy.obs['sample_id'].isin(selected_samples)]  #selected_samples)]"
   ]
  },
  {
   "cell_type": "code",
   "execution_count": null,
   "id": "mysterious-chrome",
   "metadata": {},
   "outputs": [],
   "source": [
    "adata_reynolds_fb_healthy"
   ]
  },
  {
   "cell_type": "code",
   "execution_count": null,
   "id": "fourth-convertible",
   "metadata": {},
   "outputs": [],
   "source": [
    "sc.pp.filter_genes(adata_reynolds_fb_healthy, min_counts=1)"
   ]
  },
  {
   "cell_type": "code",
   "execution_count": null,
   "id": "natural-camcorder",
   "metadata": {},
   "outputs": [],
   "source": [
    "sc.pp.pca(adata_reynolds_fb_healthy, random_state=seed, n_comps=30)\n",
    "sce.pp.bbknn(adata_reynolds_fb_healthy, metric='angular', batch_key='sample_id')\n",
    "tk.tl.triku(adata_reynolds_fb_healthy, n_procs=1, random_state=seed, use_adata_knn=True)"
   ]
  },
  {
   "cell_type": "code",
   "execution_count": null,
   "id": "split-application",
   "metadata": {},
   "outputs": [],
   "source": [
    "sc.tl.umap(adata_reynolds_fb_healthy, min_dist=0.1, random_state=seed)"
   ]
  },
  {
   "cell_type": "code",
   "execution_count": null,
   "id": "robust-immunology",
   "metadata": {},
   "outputs": [],
   "source": [
    "sc.tl.leiden(adata_reynolds_fb_healthy, resolution=1.5, random_state=seed)"
   ]
  },
  {
   "cell_type": "code",
   "execution_count": null,
   "id": "forward-attitude",
   "metadata": {},
   "outputs": [],
   "source": [
    "sc.pl.umap(adata_reynolds_fb_healthy, color=['leiden', 'sample_id', 'full_clustering'], legend_loc='on data')"
   ]
  },
  {
   "cell_type": "code",
   "execution_count": null,
   "id": "clinical-wichita",
   "metadata": {},
   "outputs": [],
   "source": [
    "sc.pl.umap(adata_reynolds_fb_healthy, color=['APCDD1', 'COL18A1', 'COMP', 'SLPI', 'WIF1'], cmap=magma, use_raw=False)"
   ]
  },
  {
   "cell_type": "code",
   "execution_count": null,
   "id": "moving-castle",
   "metadata": {},
   "outputs": [],
   "source": [
    "sc.pl.umap(adata_reynolds_fb_healthy, color=['MT2A', 'CCL19', 'CCL2', 'CD46'], cmap=magma, use_raw=False)"
   ]
  },
  {
   "cell_type": "code",
   "execution_count": null,
   "id": "accessory-ground",
   "metadata": {},
   "outputs": [],
   "source": [
    "sc.pl.umap(adata_reynolds_fb_healthy, color=['POSTN', 'COMP', 'COCH'], cmap=magma, use_raw=False)"
   ]
  },
  {
   "cell_type": "code",
   "execution_count": null,
   "id": "empty-berlin",
   "metadata": {},
   "outputs": [],
   "source": []
  },
  {
   "cell_type": "code",
   "execution_count": null,
   "id": "indonesian-headquarters",
   "metadata": {},
   "outputs": [],
   "source": []
  },
  {
   "cell_type": "code",
   "execution_count": null,
   "id": "dirty-trinity",
   "metadata": {},
   "outputs": [],
   "source": []
  },
  {
   "cell_type": "code",
   "execution_count": null,
   "id": "stopped-presence",
   "metadata": {},
   "outputs": [],
   "source": []
  },
  {
   "cell_type": "code",
   "execution_count": null,
   "id": "indian-trust",
   "metadata": {},
   "outputs": [],
   "source": []
  },
  {
   "cell_type": "code",
   "execution_count": null,
   "id": "molecular-alloy",
   "metadata": {},
   "outputs": [],
   "source": [
    "adata_reynolds = sc.read('submission_210120.h5ad', backup_url='https://zenodo.org/record/4536165/files/submission_210120.h5ad')"
   ]
  },
  {
   "cell_type": "code",
   "execution_count": null,
   "id": "convertible-eugene",
   "metadata": {},
   "outputs": [],
   "source": [
    "for adata_name in ['adata_reynolds']:\n",
    "    sc.pp.filter_genes(eval(adata_name), min_counts=30)\n",
    "    sc.pp.normalize_per_cell(eval(adata_name))\n",
    "    sc.pp.log1p(eval(adata_name))\n",
    "    sc.pp.highly_variable_genes(eval(adata_name))\n",
    "    sc.pp.pca(eval(adata_name), random_state=seed, n_comps=30)\n",
    "    sce.pp.bbknn(eval(adata_name), metric='angular', batch_key='sample_id', neighbors_within_batch=2)\n",
    "    sc.tl.umap(eval(adata_name), min_dist=0.05, random_state=seed)"
   ]
  },
  {
   "cell_type": "code",
   "execution_count": null,
   "id": "increased-gateway",
   "metadata": {},
   "outputs": [],
   "source": [
    "sc.pl.umap(adata_reynolds, color=['full_clustering'])"
   ]
  },
  {
   "cell_type": "code",
   "execution_count": null,
   "id": "medium-asset",
   "metadata": {},
   "outputs": [],
   "source": [
    "sc.pl.umap(adata_reynolds, color=['BNIP3', 'BNIP3L'], cmap=magma, use_raw=False)"
   ]
  },
  {
   "cell_type": "code",
   "execution_count": null,
   "id": "early-design",
   "metadata": {},
   "outputs": [],
   "source": [
    "adata_reynolds_fb = adata_reynolds[adata_reynolds.obs['full_clustering'].isin(['F1', 'F2', 'F3'])]\n",
    "adata_reynolds_ve = adata_reynolds[adata_reynolds.obs['full_clustering'].isin(['VE1', 'VE2', 'VE3'])]\n",
    "adata_reynolds_per = adata_reynolds[adata_reynolds.obs['full_clustering'].isin(['Pericyte_1', 'Pericyte_2'])]\n",
    "adata_reynolds_krt = adata_reynolds[adata_reynolds.obs['full_clustering'].isin(['Differentiated_KC', 'Differentiated_KC*', 'Undifferentiated_KC'])]\n",
    "adata_reynolds_lymphoid = adata_reynolds[adata_reynolds.obs['full_clustering'].isin(['Tc', 'Tc17_Th17', 'Tc_IL13_IL22', 'Th', 'Treg', 'ILC1_3', 'ILC1_NK', 'ILC2'])]\n",
    "adata_reynolds_APC = adata_reynolds[adata_reynolds.obs['full_clustering'].isin(['Macro_1', 'Macro_2', 'Inf_mac', 'DC1', 'DC2', 'LC_1', 'LC_2', 'LC_3', 'Mono_mac', 'MigDC', 'MoDC_1', 'moDC_2', 'mo_DC3'])]"
   ]
  },
  {
   "cell_type": "code",
   "execution_count": null,
   "id": "announced-conducting",
   "metadata": {},
   "outputs": [],
   "source": [
    "samples, counts = np.unique(adata_reynolds_fb.obs['sample_id'], return_counts=True)\n",
    "adata_reynolds_fb = adata_reynolds_fb[adata_reynolds_fb.obs['sample_id'].isin(samples[counts > 10])]\n",
    "\n",
    "samples, counts = np.unique(adata_reynolds_ve.obs['sample_id'], return_counts=True)\n",
    "adata_reynolds_ve = adata_reynolds_ve[adata_reynolds_ve.obs['sample_id'].isin(samples[counts > 10])]\n",
    "\n",
    "samples, counts = np.unique(adata_reynolds_per.obs['sample_id'], return_counts=True)\n",
    "adata_reynolds_per = adata_reynolds_per[adata_reynolds_per.obs['sample_id'].isin(samples[counts > 10])]\n",
    "\n",
    "samples, counts = np.unique(adata_reynolds_krt.obs['sample_id'], return_counts=True)\n",
    "adata_reynolds_krt = adata_reynolds_krt[adata_reynolds_krt.obs['sample_id'].isin(samples[counts > 10])]\n",
    "\n",
    "samples, counts = np.unique(adata_reynolds_lymphoid.obs['sample_id'], return_counts=True)\n",
    "adata_reynolds_lymphoid = adata_reynolds_lymphoid[adata_reynolds_lymphoid.obs['sample_id'].isin(samples[counts > 10])]\n",
    "\n",
    "samples, counts = np.unique(adata_reynolds_APC.obs['sample_id'], return_counts=True)\n",
    "adata_reynolds_APC = adata_reynolds_APC[adata_reynolds_APC.obs['sample_id'].isin(samples[counts > 10])]"
   ]
  },
  {
   "cell_type": "code",
   "execution_count": null,
   "id": "herbal-stranger",
   "metadata": {},
   "outputs": [],
   "source": [
    "for adata_name in ['adata_reynolds_fb', 'adata_reynolds_ve', 'adata_reynolds_per', 'adata_reynolds_krt',\n",
    "                   'adata_reynolds_lymphoid', 'adata_reynolds_APC']:\n",
    "    sc.pp.filter_genes(eval(adata_name), min_counts=1)\n",
    "    sc.pp.pca(eval(adata_name), random_state=seed, n_comps=30)\n",
    "    sce.pp.bbknn(eval(adata_name), metric='angular', batch_key='sample_id', neighbors_within_batch=2)\n",
    "    tk.tl.triku(eval(adata_name), n_procs=1, random_state=seed, use_adata_knn=True)\n",
    "    sc.tl.umap(eval(adata_name), min_dist=0.05, random_state=seed)"
   ]
  },
  {
   "cell_type": "code",
   "execution_count": null,
   "id": "adjacent-range",
   "metadata": {},
   "outputs": [],
   "source": [
    "adata_reynolds_fb.write_h5ad(reynolds_dir + '/adata_reynolds_fb.h5ad')\n",
    "adata_reynolds_ve.write_h5ad(reynolds_dir + '/adata_reynolds_ve.h5ad')\n",
    "adata_reynolds_per.write_h5ad(reynolds_dir + '/adata_reynolds_per.h5ad')\n",
    "adata_reynolds_krt.write_h5ad(reynolds_dir + '/adata_reynolds_krt.h5ad')\n",
    "adata_reynolds_lymphoid.write_h5ad(reynolds_dir + '/adata_reynolds_lymphoid.h5ad')\n",
    "adata_reynolds_APC.write_h5ad(reynolds_dir + '/adata_reynolds_APC.h5ad')"
   ]
  },
  {
   "cell_type": "code",
   "execution_count": null,
   "id": "statewide-married",
   "metadata": {},
   "outputs": [],
   "source": [
    "adata_reynolds_fb = sc.read(reynolds_dir + '/adata_reynolds_fb.h5ad')\n",
    "adata_reynolds_ve = sc.read(reynolds_dir + '/adata_reynolds_ve.h5ad')\n",
    "adata_reynolds_per = sc.read(reynolds_dir + '/adata_reynolds_per.h5ad')\n",
    "adata_reynolds_krt = sc.read(reynolds_dir + '/adata_reynolds_krt.h5ad')\n",
    "adata_reynolds_lymphoid = sc.read(reynolds_dir + '/adata_reynolds_lymphoid.h5ad')\n",
    "adata_reynolds_APC = sc.read(reynolds_dir + '/adata_reynolds_APC.h5ad')"
   ]
  },
  {
   "cell_type": "code",
   "execution_count": null,
   "id": "isolated-rebate",
   "metadata": {},
   "outputs": [],
   "source": [
    "sc.pl.umap(adata_reynolds_fb, color=['full_clustering',  'sample_id'])"
   ]
  },
  {
   "cell_type": "code",
   "execution_count": null,
   "id": "numeric-transformation",
   "metadata": {},
   "outputs": [],
   "source": [
    "dict_cats = {'Stress': ['ATF3', 'BTG2', 'CEBPB', 'CEBPD', 'CLDN4', 'CSRNP1', 'CTGF',\n",
    "       'CXCL1', 'CXCL2', 'CYR61', 'DNAJA1', 'DNAJB1', 'DUSP1', 'DUSP2',\n",
    "       'DUSP5', 'EGR1', 'ELF3', 'FOS', 'FOSB', 'GADD45B', 'GADD45G',\n",
    "       'HSP90AA1', 'HSPA1A', 'HSPA1B', 'HSPB1', 'IER2', 'IER3', 'IFRD1',\n",
    "       'IRF1', 'JUN', 'JUNB', 'JUND', 'KLF2', 'KLF4', 'KLF6', 'MAFF',\n",
    "       'NFKBIA', 'NFKBIZ', 'NR4A1', 'NR4A2', 'PHLDA2', 'PIM1', 'PLAUR',\n",
    "       'PLK3', 'PPP1R15A', 'RASD1', 'RHOB', 'SOCS3', 'TNFAIP3', 'UBC',\n",
    "       'ZFP36'], \n",
    "        'Hypoxia': ['AC010655.2', 'ADIRF', 'ADM', 'AK2', 'AK4', 'ALDOC', 'ANGPTL4',\n",
    "       'ANKRD37', 'ARID5A', 'ATF3', 'AXL', 'BAIAP2', 'BEND5', 'BIRC3',\n",
    "       'BNIP3', 'BNIP3L', 'BNIP3P1', 'BX322234.1', 'CARHSP1', 'CAV1',\n",
    "       'CAVIN1', 'CD44', 'CDON', 'CIRBP', 'CLEC2B', 'CNOT8', 'COL15A1',\n",
    "       'COL27A1', 'CP', 'CRABP2', 'CRISPLD2', 'CRYBB2P1', 'DDIT4',\n",
    "       'DDX41', 'DHRS13', 'DPYSL2', 'EEF1AKMT3', 'EGLN3', 'EHD2', 'ENO1',\n",
    "       'ENO2', 'EPB41L4A-AS1', 'ERO1A', 'FAM162A', 'FAM210A', 'FGFR1',\n",
    "       'FNBP1', 'GAPDH', 'GAS5', 'GBE1', 'GPRC5A', 'GYS1', 'HILPDA',\n",
    "       'HK1', 'HLA-DRB1', 'HLA-J', 'HSD3B7', 'IER3', 'IGFBP3', 'IGFBP5',\n",
    "       'IL6', 'INSIG2', 'IRF1', 'JAM2', 'JUN', 'KCTD11', 'KLF6', 'LDHA',\n",
    "       'LGALS1', 'LIF', 'LMAN1', 'LOX', 'LOXL2', 'LOXL3', 'MEF2A', 'MXI1',\n",
    "       'NBPF9', 'NDRG1', 'NGLY1', 'NRN1', 'OPTN', 'OSBPL5', 'P4HA1',\n",
    "       'P4HA2', 'PDK1', 'PDK3', 'PDLIM2', 'PFKFB4', 'PGF', 'PGK1', 'PGM1',\n",
    "       'PLIN2', 'PLOD2', 'PMP22', 'PPDPF', 'PPP1R15A', 'PPP1R18',\n",
    "       'PPP1R3B', 'PTGIS', 'PTGS2', 'PTTG1IP', 'PYGL', 'RAB20', 'RASSF5',\n",
    "       'RBM3', 'RBPJ', 'RORA', 'S100A10', 'SCD', 'SEC61G', 'SEPTIN9',\n",
    "       'SFXN3', 'SH3BP5', 'SLC16A3', 'SLC2A1', 'SLC2A14', 'SLC2A3',\n",
    "       'SLC38A5', 'SLC39A14', 'SLC6A6', 'SMARCA2', 'SNHG1', 'SNHG12',\n",
    "       'SNHG5', 'SNHG7', 'SNHG8', 'SNX33', 'SPTBN1', 'SYNPO', 'TAF1D',\n",
    "       'THBS2', 'TLCD3A', 'TMEM159', 'TMSB10', 'TNFAIP2', 'TNFAIP8',\n",
    "       'TNIP1', 'TNS1', 'TPI1', 'UGP2', 'VEGFA', 'VIM', 'VKORC1',\n",
    "       'WDR45B', 'WSB1', 'ZFAS1', 'ZFP36', 'ZNF292', 'ZNF395'], \n",
    "        'Normal': ['ACTB', 'ADRM1', 'AHSA1', 'AKR1C1', 'ANAPC11', 'AP2S1', 'APRT',\n",
    "       'ARF4', 'ATP5F1B', 'ATP5MC1', 'ATP5MC3', 'ATP5MF', 'ATP5MG',\n",
    "       'ATP5PD', 'ATP5PF', 'ATP6V0B', 'ATP6V1G1', 'AUP1', 'AURKAIP1',\n",
    "       'BANF1', 'C1QBP', 'CALM2', 'CCT2', 'CCT3', 'CCT5', 'CCT6A', 'CCT7',\n",
    "       'CEMIP', 'CFL1', 'CHCHD2', 'COX5A', 'COX6A1', 'COX6B1', 'CYC1',\n",
    "       'DDX5', 'DNAJA1', 'EEF1B2', 'EIF3I', 'EIF4A1', 'ELOB', 'ELOC',\n",
    "       'EMC7', 'ERH', 'FKBP1A', 'GNG5', 'GSTP1', 'GTF2A2', 'H3-3B',\n",
    "       'HDAC2', 'HIF1A', 'HINT1', 'HMGB1', 'HNRNPM', 'HSBP1', 'HSP90AA1',\n",
    "       'HSPA8', 'HSPA9', 'HSPD1', 'HSPE1', 'ID3', 'IFITM3', 'LAMTOR1',\n",
    "       'LDHB', 'LSM7', 'MAGOH', 'MRPL20', 'MRPL3', 'MRPL36', 'MRPL41',\n",
    "       'NAA10', 'NAMPT', 'NASP', 'NCL', 'NDUFA11', 'NDUFA13', 'NDUFA4',\n",
    "       'NDUFA6', 'NDUFAB1', 'NDUFAF3', 'NDUFB2', 'NDUFB9', 'NDUFS5',\n",
    "       'NDUFS6', 'NDUFS8', 'NHP2', 'NNMT', 'NOP10', 'OAZ1', 'PARK7',\n",
    "       'PDCD5', 'PFDN2', 'PFN1', 'PHB', 'POLR2F', 'POLR2K', 'POLR2L',\n",
    "       'PPIA', 'PPP4C', 'PRDX1', 'PRELID1', 'PRMT1', 'PSMA3', 'PSMA4',\n",
    "       'PSMA5', 'PSMA7', 'PSMB3', 'PSMB5', 'PSMB6', 'PSMC5', 'PSMD2',\n",
    "       'PSMD7', 'PSMD8', 'PUF60', 'RAB5C', 'RAN', 'RANBP1', 'RTRAF',\n",
    "       'SEC61B', 'SERPINE2', 'SF3B6', 'SKP1', 'SLC25A5', 'SLC3A2',\n",
    "       'SNRPG', 'SNU13', 'SOD2', 'SPCS1', 'SRP14', 'SSB', 'SSBP1',\n",
    "       'TALDO1', 'TMA7', 'TMBIM4', 'TMEM147', 'TMEM70', 'TPM4', 'TRMT112',\n",
    "       'TYMP', 'UBL5', 'UQCR11', 'XRCC5', 'YBX1', 'YWHAB', 'ZFAND6']\n",
    "            }\n",
    "assign_cats(adata_reynolds_fb, dict_cats=dict_cats, column_groupby='leiden', intermediate_states=False, min_score=0.55,\n",
    "            key_added='hypoxia_stress')"
   ]
  },
  {
   "cell_type": "code",
   "execution_count": null,
   "id": "illegal-buyer",
   "metadata": {},
   "outputs": [],
   "source": [
    "sc.pl.umap(adata_reynolds_fb, color=['full_clustering', 'Status', 'hypoxia_stress'], cmap=magma, use_raw=False)"
   ]
  },
  {
   "cell_type": "code",
   "execution_count": null,
   "id": "mental-synthesis",
   "metadata": {},
   "outputs": [],
   "source": [
    "assign_cats(adata_reynolds_ve, dict_cats=dict_cats, column_groupby='leiden', intermediate_states=False, min_score=0.55,\n",
    "            key_added='hypoxia_stress')\n",
    "sc.pl.umap(adata_reynolds_ve, color=['full_clustering', 'Status', 'hypoxia_stress'], cmap=magma, use_raw=False)"
   ]
  },
  {
   "cell_type": "code",
   "execution_count": null,
   "id": "invalid-oracle",
   "metadata": {},
   "outputs": [],
   "source": [
    "assign_cats(adata_reynolds_per, dict_cats=dict_cats, column_groupby='leiden', intermediate_states=False, min_score=0.55,\n",
    "            key_added='hypoxia_stress')\n",
    "sc.pl.umap(adata_reynolds_per, color=['full_clustering', 'Status', 'hypoxia_stress'], cmap=magma, use_raw=False)"
   ]
  },
  {
   "cell_type": "code",
   "execution_count": null,
   "id": "pursuant-dictionary",
   "metadata": {},
   "outputs": [],
   "source": [
    "assign_cats(adata_reynolds_krt, dict_cats=dict_cats, column_groupby='leiden', intermediate_states=False, min_score=0.55,\n",
    "            key_added='hypoxia_stress')\n",
    "sc.pl.umap(adata_reynolds_krt, color=['full_clustering', 'Status', 'hypoxia_stress'], cmap=magma, use_raw=False)"
   ]
  },
  {
   "cell_type": "code",
   "execution_count": null,
   "id": "italian-consideration",
   "metadata": {},
   "outputs": [],
   "source": [
    "assign_cats(adata_reynolds_lymphoid, dict_cats=dict_cats, column_groupby='leiden', intermediate_states=False, min_score=0.55,\n",
    "            key_added='hypoxia_stress')\n",
    "sc.pl.umap(adata_reynolds_lymphoid, color=['full_clustering', 'Status', 'hypoxia_stress'], cmap=magma, use_raw=False)"
   ]
  },
  {
   "cell_type": "code",
   "execution_count": null,
   "id": "rough-blackberry",
   "metadata": {},
   "outputs": [],
   "source": [
    "assign_cats(adata_reynolds_APC, dict_cats=dict_cats, column_groupby='leiden', intermediate_states=False, min_score=0.55,\n",
    "            key_added='hypoxia_stress')\n",
    "sc.pl.umap(adata_reynolds_APC, color=['full_clustering', 'Status', 'hypoxia_stress'], cmap=magma, use_raw=False)"
   ]
  },
  {
   "cell_type": "code",
   "execution_count": null,
   "id": "colored-arcade",
   "metadata": {},
   "outputs": [],
   "source": []
  }
 ],
 "metadata": {
  "kernelspec": {
   "display_name": "Python [conda env:alex-base] *",
   "language": "python",
   "name": "conda-env-alex-base-py"
  },
  "language_info": {
   "codemirror_mode": {
    "name": "ipython",
    "version": 3
   },
   "file_extension": ".py",
   "mimetype": "text/x-python",
   "name": "python",
   "nbconvert_exporter": "python",
   "pygments_lexer": "ipython3",
   "version": "3.8.0"
  }
 },
 "nbformat": 4,
 "nbformat_minor": 5
}
