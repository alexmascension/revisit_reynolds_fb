{
 "cells": [
  {
   "cell_type": "code",
   "execution_count": null,
   "id": "hybrid-error",
   "metadata": {},
   "outputs": [],
   "source": [
    "import scanpy as sc\n",
    "import scanpy.external as sce\n",
    "\n",
    "import pandas as pd\n",
    "import numpy as np\n",
    "\n",
    "import os\n",
    "\n",
    "import triku as tk\n",
    "\n",
    "import matplotlib.pyplot as plt\n",
    "import matplotlib as mpl"
   ]
  },
  {
   "cell_type": "code",
   "execution_count": null,
   "id": "empirical-requirement",
   "metadata": {},
   "outputs": [],
   "source": [
    "# To print versions of imports \n",
    "\n",
    "import types\n",
    "\n",
    "def imports():\n",
    "    for name, val in globals().items():\n",
    "        if isinstance(val, types.ModuleType):\n",
    "            yield val.__name__\n",
    "\n",
    "excludes = ['builtins', 'types', 'sys']\n",
    "\n",
    "imported_modules = [module for module in imports() if module not in excludes]\n",
    "\n",
    "clean_modules = []\n",
    "\n",
    "for module in imported_modules:\n",
    "\n",
    "    sep = '.'  # to handle 'matplotlib.pyplot' cases\n",
    "    rest = module.split(sep, 1)[0]\n",
    "    clean_modules.append(rest)\n",
    "\n",
    "changed_imported_modules = list(set(clean_modules))  # drop duplicates\n",
    "\n",
    "pip_modules = !pip freeze  # you could also use `!conda list` with anaconda\n",
    "\n",
    "for module in pip_modules:\n",
    "    try:\n",
    "        name, version = module.split('==')\n",
    "        if name in changed_imported_modules:\n",
    "            print(name + '\\t' + version)\n",
    "    except:\n",
    "        pass"
   ]
  },
  {
   "cell_type": "code",
   "execution_count": null,
   "id": "ready-advertiser",
   "metadata": {},
   "outputs": [],
   "source": [
    "seed = 0"
   ]
  },
  {
   "cell_type": "code",
   "execution_count": null,
   "id": "australian-membership",
   "metadata": {},
   "outputs": [],
   "source": [
    "# Palettes for UMAP gene expression\n",
    "\n",
    "magma = [plt.get_cmap('magma')(i) for i in np.linspace(0,1, 80)]\n",
    "magma[0] = (0.88, 0.88, 0.88, 1)\n",
    "magma = mpl.colors.LinearSegmentedColormap.from_list(\"\", magma[:65])"
   ]
  },
  {
   "cell_type": "code",
   "execution_count": null,
   "id": "postal-marketing",
   "metadata": {},
   "outputs": [],
   "source": [
    "mpl.rcParams['figure.dpi'] = 150"
   ]
  },
  {
   "cell_type": "markdown",
   "id": "cosmetic-homeless",
   "metadata": {},
   "source": [
    "## Reynolds et al. 2020"
   ]
  },
  {
   "cell_type": "code",
   "execution_count": null,
   "id": "dietary-royalty",
   "metadata": {},
   "outputs": [],
   "source": [
    "os.getcwd()"
   ]
  },
  {
   "cell_type": "code",
   "execution_count": null,
   "id": "irish-album",
   "metadata": {},
   "outputs": [],
   "source": [
    "reynolds_dir = 'reynolds_2020'\n",
    "os.makedirs(reynolds_dir, exist_ok=True)"
   ]
  },
  {
   "cell_type": "markdown",
   "id": "legislative-valley",
   "metadata": {},
   "source": [
    "### Direct h5ad download"
   ]
  },
  {
   "cell_type": "code",
   "execution_count": null,
   "id": "laden-proceeding",
   "metadata": {
    "scrolled": true
   },
   "outputs": [],
   "source": [
    "#!aria2c -x 16 https://zenodo.org/record/4536165/files/submission_210120.h5ad -d {reynolds_dir} -o reynolds_2020.h5ad"
   ]
  },
  {
   "cell_type": "code",
   "execution_count": null,
   "id": "voluntary-nashville",
   "metadata": {},
   "outputs": [],
   "source": [
    "adata_reynolds = sc.read_h5ad(reynolds_dir+'/reynolds_2020.h5ad')"
   ]
  },
  {
   "cell_type": "code",
   "execution_count": null,
   "id": "coupled-survivor",
   "metadata": {},
   "outputs": [],
   "source": [
    "adata_reynolds_fb = adata_reynolds[adata_reynolds.obs['full_clustering'].isin(['F1', 'F2', 'F3'])]"
   ]
  },
  {
   "cell_type": "code",
   "execution_count": null,
   "id": "environmental-lewis",
   "metadata": {},
   "outputs": [],
   "source": [
    "sc.pp.filter_genes(adata_reynolds_fb, min_counts=50)"
   ]
  },
  {
   "cell_type": "code",
   "execution_count": null,
   "id": "turned-ultimate",
   "metadata": {},
   "outputs": [],
   "source": [
    "sc.pp.log1p(adata_reynolds_fb)\n",
    "sc.pp.normalize_total(adata_reynolds_fb)"
   ]
  },
  {
   "cell_type": "code",
   "execution_count": null,
   "id": "reasonable-apache",
   "metadata": {},
   "outputs": [],
   "source": [
    "adata_reynolds_fb_healthy = adata_reynolds_fb[adata_reynolds_fb.obs['Status'] == 'Healthy']"
   ]
  },
  {
   "cell_type": "code",
   "execution_count": null,
   "id": "knowing-attendance",
   "metadata": {},
   "outputs": [],
   "source": [
    "df_batches = pd.DataFrame(np.unique(adata_reynolds_fb_healthy.obs['sample_id'], return_counts=True)).transpose()"
   ]
  },
  {
   "cell_type": "code",
   "execution_count": null,
   "id": "urban-spice",
   "metadata": {},
   "outputs": [],
   "source": [
    "df_batches.sort_values(by=1, ascending=False)"
   ]
  },
  {
   "cell_type": "code",
   "execution_count": null,
   "id": "occasional-haven",
   "metadata": {},
   "outputs": [],
   "source": [
    "selected_samples = df_batches[df_batches[1] > 50][0].values"
   ]
  },
  {
   "cell_type": "code",
   "execution_count": null,
   "id": "immune-opera",
   "metadata": {},
   "outputs": [],
   "source": [
    "adata_reynolds_fb_healthy = adata_reynolds_fb_healthy[adata_reynolds_fb_healthy.obs['sample_id'].isin(selected_samples)]  #selected_samples)]"
   ]
  },
  {
   "cell_type": "code",
   "execution_count": null,
   "id": "comparative-booking",
   "metadata": {},
   "outputs": [],
   "source": [
    "adata_reynolds_fb_healthy"
   ]
  },
  {
   "cell_type": "code",
   "execution_count": null,
   "id": "conceptual-sudan",
   "metadata": {},
   "outputs": [],
   "source": [
    "sc.pp.filter_genes(adata_reynolds_fb_healthy, min_counts=1)"
   ]
  },
  {
   "cell_type": "code",
   "execution_count": null,
   "id": "modern-seven",
   "metadata": {},
   "outputs": [],
   "source": [
    "sc.pp.pca(adata_reynolds_fb_healthy, random_state=seed, n_comps=30)\n",
    "sce.pp.bbknn(adata_reynolds_fb_healthy, metric='angular', batch_key='sample_id')\n",
    "tk.tl.triku(adata_reynolds_fb_healthy, n_procs=1, random_state=seed, use_adata_knn=True)"
   ]
  },
  {
   "cell_type": "code",
   "execution_count": null,
   "id": "standing-reverse",
   "metadata": {},
   "outputs": [],
   "source": [
    "sc.tl.umap(adata_reynolds_fb_healthy, min_dist=0.1, random_state=seed)"
   ]
  },
  {
   "cell_type": "code",
   "execution_count": null,
   "id": "vocational-occurrence",
   "metadata": {},
   "outputs": [],
   "source": [
    "sc.tl.leiden(adata_reynolds_fb_healthy, resolution=1.5, random_state=seed)"
   ]
  },
  {
   "cell_type": "code",
   "execution_count": null,
   "id": "sharing-distinction",
   "metadata": {},
   "outputs": [],
   "source": [
    "sc.pl.umap(adata_reynolds_fb_healthy, color=['leiden', 'sample_id', 'full_clustering'], legend_loc='on data')"
   ]
  },
  {
   "cell_type": "code",
   "execution_count": null,
   "id": "eastern-yesterday",
   "metadata": {},
   "outputs": [],
   "source": [
    "sc.pl.umap(adata_reynolds_fb_healthy, color=['APCDD1', 'COL18A1', 'COMP', 'SLPI', 'WIF1'], cmap=magma, use_raw=False)"
   ]
  },
  {
   "cell_type": "code",
   "execution_count": null,
   "id": "painful-doctrine",
   "metadata": {},
   "outputs": [],
   "source": [
    "sc.pl.umap(adata_reynolds_fb_healthy, color=['MT2A', 'CCL19', 'CCL2', 'CD46'], cmap=magma, use_raw=False)"
   ]
  },
  {
   "cell_type": "code",
   "execution_count": null,
   "id": "intermediate-functionality",
   "metadata": {},
   "outputs": [],
   "source": [
    "sc.pl.umap(adata_reynolds_fb_healthy, color=['DPEP1', 'POSTN', 'COMP', 'COCH'], cmap=magma, use_raw=False)"
   ]
  },
  {
   "cell_type": "markdown",
   "id": "serial-holder",
   "metadata": {},
   "source": [
    "## 4820STDY7388991"
   ]
  },
  {
   "cell_type": "markdown",
   "id": "compatible-dominant",
   "metadata": {},
   "source": [
    "### Reynolds preprocessed"
   ]
  },
  {
   "cell_type": "code",
   "execution_count": null,
   "id": "oriented-habitat",
   "metadata": {},
   "outputs": [],
   "source": [
    "adata_reynolds_fb_4820STDY7388991 = adata_reynolds_fb_healthy[adata_reynolds_fb_healthy.obs['sample_id'].isin(['4820STDY7388991'])]  #selected_samples)]"
   ]
  },
  {
   "cell_type": "code",
   "execution_count": null,
   "id": "seasonal-toronto",
   "metadata": {},
   "outputs": [],
   "source": [
    "adata_reynolds_fb_4820STDY7388991"
   ]
  },
  {
   "cell_type": "code",
   "execution_count": null,
   "id": "afraid-mixer",
   "metadata": {},
   "outputs": [],
   "source": [
    "sc.pp.filter_genes(adata_reynolds_fb_4820STDY7388991, min_counts=1)"
   ]
  },
  {
   "cell_type": "code",
   "execution_count": null,
   "id": "naval-board",
   "metadata": {},
   "outputs": [],
   "source": [
    "sc.pp.pca(adata_reynolds_fb_4820STDY7388991, random_state=seed, n_comps=30)\n",
    "tk.tl.triku(adata_reynolds_fb_4820STDY7388991, n_procs=1, random_state=seed, use_adata_knn=True)\n",
    "sc.pp.neighbors(adata_reynolds_fb_4820STDY7388991, metric='cosine')"
   ]
  },
  {
   "cell_type": "code",
   "execution_count": null,
   "id": "usual-scottish",
   "metadata": {},
   "outputs": [],
   "source": [
    "sc.tl.umap(adata_reynolds_fb_4820STDY7388991, min_dist=0.3, random_state=seed)"
   ]
  },
  {
   "cell_type": "code",
   "execution_count": null,
   "id": "identified-heritage",
   "metadata": {},
   "outputs": [],
   "source": [
    "sc.tl.leiden(adata_reynolds_fb_4820STDY7388991, resolution=1, random_state=seed)"
   ]
  },
  {
   "cell_type": "code",
   "execution_count": null,
   "id": "veterinary-shelter",
   "metadata": {},
   "outputs": [],
   "source": [
    "sc.pl.umap(adata_reynolds_fb_4820STDY7388991, color=['leiden', 'sample_id', 'full_clustering'], legend_loc='on data')"
   ]
  },
  {
   "cell_type": "code",
   "execution_count": null,
   "id": "supported-teaching",
   "metadata": {},
   "outputs": [],
   "source": [
    "sc.pl.umap(adata_reynolds_fb_4820STDY7388991, color=['APCDD1', 'COL18A1', 'COMP', 'SLPI', 'WIF1'], cmap=magma, use_raw=False)"
   ]
  },
  {
   "cell_type": "code",
   "execution_count": null,
   "id": "paperback-seafood",
   "metadata": {},
   "outputs": [],
   "source": [
    "sc.pl.umap(adata_reynolds_fb_4820STDY7388991, color=['MT2A', 'CCL19', 'CCL2', 'CD46'], cmap=magma, use_raw=False)"
   ]
  },
  {
   "cell_type": "code",
   "execution_count": null,
   "id": "rental-presentation",
   "metadata": {},
   "outputs": [],
   "source": [
    "sc.pl.umap(adata_reynolds_fb_4820STDY7388991, color=['TNMD', 'POSTN', 'COMP', 'COCH'], cmap=magma, use_raw=False)"
   ]
  },
  {
   "cell_type": "markdown",
   "id": "social-accessory",
   "metadata": {},
   "source": [
    "### Direct loom"
   ]
  },
  {
   "cell_type": "code",
   "execution_count": null,
   "id": "helpful-expert",
   "metadata": {},
   "outputs": [],
   "source": [
    "os.listdir('reynolds_2020')"
   ]
  },
  {
   "cell_type": "code",
   "execution_count": null,
   "id": "continuing-ivory",
   "metadata": {},
   "outputs": [],
   "source": [
    "!aria2c -x 16 -d reynolds_2020 https://zenodo.org/record/4596375/files/reynolds_2020_0_4820STDY7388991_s1_dermis_fibroblasts.loom?download=1"
   ]
  },
  {
   "cell_type": "code",
   "execution_count": null,
   "id": "excess-burden",
   "metadata": {},
   "outputs": [],
   "source": [
    "adata_reynolds_fb_4820STDY7388991_loom = sc.read_loom('reynolds_2020/reynolds_2020_0_4820STDY7388991_s1_dermis_fibroblasts.loom')\n",
    "adata_reynolds_fb_4820STDY7388991_loom.var_names_make_unique()"
   ]
  },
  {
   "cell_type": "code",
   "execution_count": null,
   "id": "environmental-kidney",
   "metadata": {},
   "outputs": [],
   "source": [
    "adata_reynolds_fb_4820STDY7388991_loom.obs_names = [f\"{i.split('_')[-1]}-1-{i.split('_')[1]}\" for i in adata_reynolds_fb_4820STDY7388991_loom.obs_names]"
   ]
  },
  {
   "cell_type": "code",
   "execution_count": null,
   "id": "fifth-little",
   "metadata": {},
   "outputs": [],
   "source": [
    "df_fb_type = pd.Series('-', index=adata_reynolds_fb_4820STDY7388991_loom.obs_names)\n",
    "df_fb_type.loc[adata_reynolds_fb_4820STDY7388991.obs_names & adata_reynolds_fb_4820STDY7388991_loom.obs_names] = adata_reynolds_fb_4820STDY7388991[adata_reynolds_fb_4820STDY7388991.obs_names & adata_reynolds_fb_4820STDY7388991_loom.obs_names].obs['full_clustering']\n",
    "adata_reynolds_fb_4820STDY7388991_loom.obs['science_clustering'] = df_fb_type"
   ]
  },
  {
   "cell_type": "code",
   "execution_count": null,
   "id": "infinite-jewel",
   "metadata": {},
   "outputs": [],
   "source": [
    "sc.pp.calculate_qc_metrics(adata_reynolds_fb_4820STDY7388991_loom, inplace=True)"
   ]
  },
  {
   "cell_type": "code",
   "execution_count": null,
   "id": "norman-color",
   "metadata": {},
   "outputs": [],
   "source": [
    "sc.pl.violin(adata_reynolds_fb_4820STDY7388991_loom, ['n_genes_by_counts'])\n",
    "sc.pl.violin(adata_reynolds_fb_4820STDY7388991_loom, ['log1p_total_counts'])"
   ]
  },
  {
   "cell_type": "code",
   "execution_count": null,
   "id": "determined-census",
   "metadata": {},
   "outputs": [],
   "source": [
    "sc.pp.filter_genes(adata_reynolds_fb_4820STDY7388991_loom, min_counts=30)\n",
    "sc.pp.normalize_per_cell(adata_reynolds_fb_4820STDY7388991_loom)\n",
    "sc.pp.log1p(adata_reynolds_fb_4820STDY7388991_loom)"
   ]
  },
  {
   "cell_type": "code",
   "execution_count": null,
   "id": "ready-wholesale",
   "metadata": {},
   "outputs": [],
   "source": [
    "sc.pp.pca(adata_reynolds_fb_4820STDY7388991_loom, random_state=seed, n_comps=30)\n",
    "tk.tl.triku(adata_reynolds_fb_4820STDY7388991_loom, n_procs=1, random_state=seed, use_adata_knn=True)\n",
    "sc.pp.neighbors(adata_reynolds_fb_4820STDY7388991_loom, metric='cosine')"
   ]
  },
  {
   "cell_type": "code",
   "execution_count": null,
   "id": "passive-discretion",
   "metadata": {},
   "outputs": [],
   "source": [
    "sc.tl.umap(adata_reynolds_fb_4820STDY7388991_loom, min_dist=0.3, random_state=seed)\n",
    "sc.tl.leiden(adata_reynolds_fb_4820STDY7388991_loom, resolution=1.5, random_state=seed)"
   ]
  },
  {
   "cell_type": "code",
   "execution_count": null,
   "id": "senior-argument",
   "metadata": {},
   "outputs": [],
   "source": [
    "sc.pl.umap(adata_reynolds_fb_4820STDY7388991_loom, color=['leiden', 'science_clustering'], legend_loc='on data')"
   ]
  },
  {
   "cell_type": "code",
   "execution_count": null,
   "id": "significant-porter",
   "metadata": {},
   "outputs": [],
   "source": [
    "sc.pl.umap(adata_reynolds_fb_4820STDY7388991_loom, color=['LUM', 'PDGFRA', 'VIM', 'DCN', 'COL1A1', 'SFRP2', 'APOE', 'POSTN'], legend_loc='on data', cmap=magma)"
   ]
  },
  {
   "cell_type": "markdown",
   "id": "greater-niagara",
   "metadata": {},
   "source": [
    "0, 16, 14, 15 - Pericytes\n",
    "\n",
    "17 - Erithrocytes\n",
    "\n",
    "Rest - Fbs"
   ]
  },
  {
   "cell_type": "code",
   "execution_count": null,
   "id": "tired-receiver",
   "metadata": {},
   "outputs": [],
   "source": [
    "sc.tl.rank_genes_groups(adata_reynolds_fb_4820STDY7388991_loom, groupby='leiden')\n",
    "sc.pl.rank_genes_groups(adata_reynolds_fb_4820STDY7388991_loom)"
   ]
  },
  {
   "cell_type": "code",
   "execution_count": null,
   "id": "generous-proportion",
   "metadata": {
    "scrolled": true
   },
   "outputs": [],
   "source": [
    "sc.tl.rank_genes_groups(adata_reynolds_fb_4820STDY7388991_loom, groupby='leiden', groups=['8'], reference='rest')\n",
    "sc.pl.rank_genes_groups_tracksplot(adata_reynolds_fb_4820STDY7388991_loom, n_genes=100, dendrogram=False)"
   ]
  },
  {
   "cell_type": "code",
   "execution_count": null,
   "id": "clean-consistency",
   "metadata": {},
   "outputs": [],
   "source": [
    "adata_reynolds_fb_4820STDY7388991_loom_fb = adata_reynolds_fb_4820STDY7388991_loom[~ adata_reynolds_fb_4820STDY7388991_loom.obs['leiden'].isin(['0', '14', '15', '16', '17'])]"
   ]
  },
  {
   "cell_type": "code",
   "execution_count": null,
   "id": "atmospheric-oregon",
   "metadata": {},
   "outputs": [],
   "source": [
    "sc.pp.filter_genes(adata_reynolds_fb_4820STDY7388991_loom_fb, min_counts=1)"
   ]
  },
  {
   "cell_type": "code",
   "execution_count": null,
   "id": "clinical-height",
   "metadata": {},
   "outputs": [],
   "source": [
    "sc.pp.pca(adata_reynolds_fb_4820STDY7388991_loom_fb, random_state=seed, n_comps=30)\n",
    "tk.tl.triku(adata_reynolds_fb_4820STDY7388991_loom_fb, n_procs=1, random_state=seed, use_adata_knn=True)\n",
    "sc.pp.neighbors(adata_reynolds_fb_4820STDY7388991_loom_fb, metric='cosine')"
   ]
  },
  {
   "cell_type": "code",
   "execution_count": null,
   "id": "pacific-resort",
   "metadata": {},
   "outputs": [],
   "source": [
    "sc.tl.umap(adata_reynolds_fb_4820STDY7388991_loom_fb, min_dist=0.2, random_state=seed)\n",
    "sc.tl.leiden(adata_reynolds_fb_4820STDY7388991_loom_fb, resolution=1, random_state=seed)"
   ]
  },
  {
   "cell_type": "code",
   "execution_count": null,
   "id": "derived-olympus",
   "metadata": {},
   "outputs": [],
   "source": [
    "sc.pl.umap(adata_reynolds_fb_4820STDY7388991_loom_fb, color=['leiden', 'science_clustering'], cmap=magma, use_raw=False, legend_loc='on data')"
   ]
  },
  {
   "cell_type": "code",
   "execution_count": null,
   "id": "numerous-circle",
   "metadata": {},
   "outputs": [],
   "source": [
    "sc.pl.umap(adata_reynolds_fb_4820STDY7388991_loom_fb, color=['leiden', 'SFRP2', 'PI16', 'SLPI', 'WIF1', 'COL18A1', 'COMP', \n",
    "                                               'APOE', 'CCL2',  'ITM2A', 'SPSB1', \n",
    "                                               'CCDC146', 'CCL19', 'CD74', \n",
    "                                               'DKK3', 'TNN', 'SFRP1'], cmap=magma, use_raw=False, legend_loc='on data')"
   ]
  }
 ],
 "metadata": {
  "kernelspec": {
   "display_name": "Python [conda env:alex-base] *",
   "language": "python",
   "name": "conda-env-alex-base-py"
  },
  "language_info": {
   "codemirror_mode": {
    "name": "ipython",
    "version": 3
   },
   "file_extension": ".py",
   "mimetype": "text/x-python",
   "name": "python",
   "nbconvert_exporter": "python",
   "pygments_lexer": "ipython3",
   "version": "3.8.0"
  }
 },
 "nbformat": 4,
 "nbformat_minor": 5
}
