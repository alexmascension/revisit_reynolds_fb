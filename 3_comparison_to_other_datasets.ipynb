{
 "cells": [
  {
   "cell_type": "code",
   "execution_count": null,
   "id": "bacterial-operations",
   "metadata": {},
   "outputs": [],
   "source": [
    "# UNCOMMENT THIS TO INSTALL STUFF!\n",
    "# !wget https://raw.githubusercontent.com/alexmascension/revisit_reynolds_fb/master/requirements.txt\n",
    "# !pip install -r requirements.txt"
   ]
  },
  {
   "cell_type": "code",
   "execution_count": null,
   "id": "congressional-romance",
   "metadata": {
    "tags": []
   },
   "outputs": [],
   "source": [
    "import scanpy as sc\n",
    "import scanpy.external as sce\n",
    "\n",
    "import pandas as pd\n",
    "import numpy as np\n",
    "import os\n",
    "from functools import reduce\n",
    "import gseapy as gp\n",
    "\n",
    "import triku as tk\n",
    "\n",
    "import matplotlib.pyplot as plt\n",
    "import matplotlib as mpl\n",
    "import seaborn as sns\n",
    "\n",
    "import scipy.stats as sts\n",
    "\n",
    "from scipy.sparse import csr_matrix"
   ]
  },
  {
   "cell_type": "code",
   "execution_count": null,
   "id": "mechanical-islam",
   "metadata": {},
   "outputs": [],
   "source": [
    "# To print versions of imports \n",
    "\n",
    "import types\n",
    "\n",
    "def imports():\n",
    "    for name, val in globals().items():\n",
    "        if isinstance(val, types.ModuleType):\n",
    "            yield val.__name__\n",
    "\n",
    "excludes = ['builtins', 'types', 'sys']\n",
    "\n",
    "imported_modules = [module for module in imports() if module not in excludes]\n",
    "\n",
    "clean_modules = []\n",
    "\n",
    "for module in imported_modules:\n",
    "\n",
    "    sep = '.'  # to handle 'matplotlib.pyplot' cases\n",
    "    rest = module.split(sep, 1)[0]\n",
    "    clean_modules.append(rest)\n",
    "\n",
    "changed_imported_modules = list(set(clean_modules))  # drop duplicates\n",
    "\n",
    "pip_modules = !pip freeze  # you could also use `!conda list` with anaconda\n",
    "\n",
    "for module in pip_modules:\n",
    "    try:\n",
    "        name, version = module.split('==')\n",
    "        if name in changed_imported_modules:\n",
    "            print(name + '\\t' + version)\n",
    "    except:\n",
    "        pass"
   ]
  },
  {
   "cell_type": "code",
   "execution_count": null,
   "id": "moved-humidity",
   "metadata": {},
   "outputs": [],
   "source": [
    "seed = 0"
   ]
  },
  {
   "cell_type": "code",
   "execution_count": null,
   "id": "earned-coach",
   "metadata": {},
   "outputs": [],
   "source": [
    "# Palettes for UMAP gene expression\n",
    "\n",
    "magma = [plt.get_cmap('magma')(i) for i in np.linspace(0,1, 80)]\n",
    "magma[0] = (0.88, 0.88, 0.88, 1)\n",
    "magma = mpl.colors.LinearSegmentedColormap.from_list(\"\", magma[:65])"
   ]
  },
  {
   "cell_type": "code",
   "execution_count": null,
   "id": "statewide-budget",
   "metadata": {},
   "outputs": [],
   "source": [
    "selected_enr_cols = ['Gene_set', 'Term', 'Adjusted P-value', 'Odds Ratio', 'Genes']"
   ]
  },
  {
   "cell_type": "code",
   "execution_count": null,
   "id": "protecting-galaxy",
   "metadata": {},
   "outputs": [],
   "source": [
    "mpl.rcParams['figure.dpi'] = 150  # Set this to make higher quality pictures"
   ]
  },
  {
   "cell_type": "code",
   "execution_count": null,
   "id": "blessed-malpractice",
   "metadata": {},
   "outputs": [],
   "source": [
    "def assign_cats(adata, dict_cats, column_groupby='leiden', quantile_gene_sel=0.7, do_return=False, intermediate_states=False, diff=0.05, \n",
    "                key_added='assigned_cats', min_score=0.6, others_name='unassigned'):\n",
    "    \"\"\"\n",
    "    This functions uses a set of genes assigned to different categories so that leiden clusters can be assigned to one of these categories.\n",
    "    For example, to categorize fibroblasts from pericytes, endothelial cells, or cells with high mitochondrial content.\n",
    "    It could be done with each cell individually, but it is better to use clusters to discern the different categories because\n",
    "    the method, although efficient, can sometimes be noisy due to the noisiness of the sc datasets.\n",
    "    \"\"\"\n",
    "    \n",
    "    for cat in list(dict_cats.keys()):\n",
    "        mat_cat = np.zeros((len(adata), len(dict_cats[cat])), dtype=float)\n",
    "        \n",
    "        for gene_idx, gene in enumerate(dict_cats[cat]):\n",
    "            try:\n",
    "                mat_cat[:, gene_idx] = np.asarray(np.dot(adata.obsp['connectivities'], adata[:, gene].X).todense()).ravel() / adata.uns['neighbors']['params']['n_neighbors']\n",
    "                mat_cat[mat_cat[:, gene_idx] > 0, gene_idx] = np.argsort(np.argsort(mat_cat[mat_cat[:, gene_idx] > 0, gene_idx]))\n",
    "                mat_cat[:, gene_idx] /= np.max(mat_cat[:, gene_idx])\n",
    "            except:\n",
    "                print(f'Gene {gene} is not on the list')    \n",
    "            \n",
    "        sum_mat_cat = np.asarray(mat_cat.mean(1)).ravel()       \n",
    "        adata.obs[cat] = sum_mat_cat\n",
    "    \n",
    "    score_per_cluster = adata.obs[[column_groupby] + list(dict_cats.keys())].groupby(column_groupby).quantile(quantile_gene_sel)\n",
    "    max_cat_dict_std = dict(zip(score_per_cluster.std(1).index, score_per_cluster.std(1).values))\n",
    "    adata.obs[f'{key_added}_std'] = [max_cat_dict_std[i] for i in adata.obs[column_groupby]]\n",
    "    max_cat_dict_mean = dict(zip(score_per_cluster.mean(1).index, score_per_cluster.mean(1).values))\n",
    "    adata.obs[f'{key_added}_mean'] = [max_cat_dict_mean[i] for i in adata.obs[column_groupby]]\n",
    "    max_cat_dict_max = dict(zip(score_per_cluster.max(1).index, score_per_cluster.max(1).values))\n",
    "    adata.obs[f'{key_added}_max'] = [max_cat_dict_max[i] for i in adata.obs[column_groupby]]\n",
    "    adata.obs[f'{key_added}_CV'] = adata.obs[f'{key_added}_mean'] / adata.obs[f'{key_added}_std']\n",
    "    \n",
    "    for cat in score_per_cluster.columns:\n",
    "        max_cat_dict = dict(zip(score_per_cluster.index, score_per_cluster[cat].values))        \n",
    "        adata.obs[f'{key_added}_{cat}'] = [max_cat_dict[i] for i in adata.obs[column_groupby]]\n",
    "    \n",
    "    if intermediate_states: # For each cluster we will identify which categories are close to the highest one, and merge their names.\n",
    "        list_names_cats_per_cluster = []\n",
    "        for cluster in score_per_cluster.index:\n",
    "            scores_cluster = score_per_cluster.loc[cluster]\n",
    "            scores_cluster = scores_cluster[scores_cluster > scores_cluster.max() - diff]\n",
    "            list_names_cats_per_cluster.append('/'.join(scores_cluster.index))\n",
    "        \n",
    "        final_cat_dict = dict(zip(score_per_cluster.idxmax(axis=1).index, list_names_cats_per_cluster))\n",
    "    else:        \n",
    "        final_cat_dict = dict(zip(score_per_cluster.idxmax(axis=1).index, score_per_cluster.idxmax(axis=1).values))\n",
    "    \n",
    "    adata.obs[f'{key_added}'] = [str(final_cat_dict[i]) for i in adata.obs[column_groupby]]\n",
    "    \n",
    "    adata.obs[f'{key_added}'][adata.obs[f'{key_added}_max'] < min_score] = others_name\n",
    "    \n",
    "    if do_return:\n",
    "        return score_per_cluster"
   ]
  },
  {
   "cell_type": "markdown",
   "id": "prostate-cable",
   "metadata": {},
   "source": [
    "# Comparison to other datasets\n",
    "In this notebook we are going to use the datasets from our publication to compare the levels of stress and hypoxia in their fibroblasts compared to the dataset of Reynolds et al."
   ]
  },
  {
   "cell_type": "markdown",
   "id": "annual-tokyo",
   "metadata": {},
   "source": [
    "### Get the datasets"
   ]
  },
  {
   "cell_type": "code",
   "execution_count": null,
   "id": "cordless-thesis",
   "metadata": {},
   "outputs": [],
   "source": [
    "reynolds_fb = sc.read('reynolds_2020/adata_reynolds_healthy_fb.h5ad', backup_url='https://zenodo.org/record/4709059/files/adata_reynolds_healthy_fb.h5ad')\n",
    "tabib_fb = sc.read('other/tabib_fb.h5ad', backup_url='https://zenodo.org/record/4455850/files/tabib_fb.h5ad')\n",
    "he_fb = sc.read('other/he_fb.h5ad', backup_url='https://zenodo.org/record/4455850/files/he_fb.h5ad')\n",
    "vors_fb = sc.read('other/vorstandlechner_fb.h5ad', backup_url='https://zenodo.org/record/4455850/files/vorstandlechner_fb.h5ad')\n",
    "sb_fb = sc.read('other/sole_fb.h5ad', backup_url='https://zenodo.org/record/4455850/files/sole_fb.h5ad')"
   ]
  },
  {
   "cell_type": "markdown",
   "id": "presidential-douglas",
   "metadata": {},
   "source": [
    "We need to make some matrices as sparse to run the assign cats function"
   ]
  },
  {
   "cell_type": "code",
   "execution_count": null,
   "id": "compact-lighting",
   "metadata": {},
   "outputs": [],
   "source": [
    "tabib_fb.X = csr_matrix(tabib_fb.X)\n",
    "sb_fb.X = csr_matrix(sb_fb.X)"
   ]
  },
  {
   "cell_type": "markdown",
   "id": "included-chart",
   "metadata": {},
   "source": [
    "We will assign the categories to the reynolds dataset to get similar categories as in the rest of datasets"
   ]
  },
  {
   "cell_type": "code",
   "execution_count": null,
   "id": "foster-coating",
   "metadata": {},
   "outputs": [],
   "source": [
    "dict_cats = {'A1': ['PI16', 'QPCT', 'SLPI', 'CCN5', 'CPE', 'CTHRC1', 'MFAP5', 'PCOLCE2', 'SCARA5', 'TSPAN8'], \n",
    "            'A2': ['APCDD1', 'COL18A1', 'COMP', 'NKD2', 'F13A1', 'HSPB3', 'LEPR', 'TGFBI'], \n",
    "            'B1': ['CXCL2', 'MYC', 'C7', 'SPSB1', 'ITM2A'], \n",
    "            'B2': ['SOCS3', 'CCL19', 'CD74', 'RARRES2', 'CCDC146', 'IGFBP3', 'TNFSF13B'], \n",
    "            'C': ['CRABP1', 'PLXDC1', 'RSPO4', 'ASPN', 'F2R', 'POSTN', 'TNN']}\n",
    "\n",
    "dict_colors = {'A1': '#e14b67', 'A2': '#d98c58', 'B1': '#009f61', 'B2': '#54ab4c', 'B1/B2': '#2AA557', \n",
    "               'A2/B2': '#979C52', 'A1/A2': '#DD6C60', 'A2/B1': '#6D965D', 'A2/B1/B2': '#819857', 'other': '#bcbcbc'}\n",
    "\n",
    "assign_cats(reynolds_fb, dict_cats=dict_cats, column_groupby='leiden', intermediate_states=True, diff=0.05, key_added='clusters', \n",
    "            others_name='other', min_score=0.45)\n",
    "\n",
    "reynolds_fb.uns['clusters_colors'] = [dict_colors[i] for i in sorted(set(reynolds_fb.obs['clusters'].values))]"
   ]
  },
  {
   "cell_type": "code",
   "execution_count": null,
   "id": "impaired-lending",
   "metadata": {},
   "outputs": [],
   "source": [
    "sc.pl.umap(reynolds_fb, color=['clusters'], cmap=magma, use_raw=False)"
   ]
  },
  {
   "cell_type": "markdown",
   "id": "swedish-metabolism",
   "metadata": {},
   "source": [
    "### Get the gene lists"
   ]
  },
  {
   "cell_type": "code",
   "execution_count": null,
   "id": "understanding-dakota",
   "metadata": {},
   "outputs": [],
   "source": [
    "try:\n",
    "    stress_genes = np.loadtxt('papers_genes_bad_quality/stress_genes.txt', dtype=str)\n",
    "    hypoxia_genes = np.loadtxt('papers_genes_bad_quality/hypoxia_genes.txt', dtype=str)\n",
    "except:\n",
    "    stress_genes = np.loadtxt('https://raw.githubusercontent.com/alexmascension/revisit_reynolds_fb/master/papers_genes_bad_quality/stress_genes.txt', dtype=str)\n",
    "    hypoxia_genes = np.loadtxt('https://raw.githubusercontent.com/alexmascension/revisit_reynolds_fb/master/papers_genes_bad_quality/hypoxia_genes.txt', dtype=str)"
   ]
  },
  {
   "cell_type": "code",
   "execution_count": null,
   "id": "interesting-broadcasting",
   "metadata": {},
   "outputs": [],
   "source": [
    "dict_cats = {'Stress': stress_genes, 'Hypoxia': hypoxia_genes}"
   ]
  },
  {
   "cell_type": "code",
   "execution_count": null,
   "id": "boolean-winter",
   "metadata": {},
   "outputs": [],
   "source": [
    "for adata_name in ['reynolds_fb', 'tabib_fb', 'he_fb', 'vors_fb', 'sb_fb']:\n",
    "    print(f\"|||| {adata_name.upper()} ||||\")\n",
    "    assign_cats(eval(adata_name), dict_cats=dict_cats, column_groupby='leiden', intermediate_states=True, min_score=0.5,\n",
    "            key_added='hypoxia_stress')"
   ]
  },
  {
   "cell_type": "code",
   "execution_count": null,
   "id": "aerial-trainer",
   "metadata": {},
   "outputs": [],
   "source": [
    "sc.pl.umap(reynolds_fb, color=['clusters', 'hypoxia_stress_Stress', 'hypoxia_stress_Hypoxia'], \n",
    "           cmap=magma, use_raw=False, ncols=4, legend_loc='on data')"
   ]
  },
  {
   "cell_type": "code",
   "execution_count": null,
   "id": "advance-cambodia",
   "metadata": {},
   "outputs": [],
   "source": [
    "sc.pl.umap(tabib_fb, color=['clusters', 'hypoxia_stress_Stress', 'hypoxia_stress_Hypoxia'], \n",
    "           cmap=magma, use_raw=False, ncols=4, legend_loc='on data')"
   ]
  },
  {
   "cell_type": "code",
   "execution_count": null,
   "id": "exceptional-manual",
   "metadata": {},
   "outputs": [],
   "source": [
    "sc.pl.umap(he_fb, color=['clusters', 'hypoxia_stress_Stress', 'hypoxia_stress_Hypoxia'], \n",
    "           cmap=magma, use_raw=False, ncols=4, legend_loc='on data')"
   ]
  },
  {
   "cell_type": "code",
   "execution_count": null,
   "id": "available-casino",
   "metadata": {},
   "outputs": [],
   "source": [
    "sc.pl.umap(vors_fb, color=['clusters', 'hypoxia_stress_Stress', 'hypoxia_stress_Hypoxia'], \n",
    "           cmap=magma, use_raw=False, ncols=4, legend_loc='on data')"
   ]
  },
  {
   "cell_type": "code",
   "execution_count": null,
   "id": "korean-chaos",
   "metadata": {},
   "outputs": [],
   "source": [
    "sc.pl.umap(sb_fb, color=['clusters', 'hypoxia_stress_Stress', 'hypoxia_stress_Hypoxia'], \n",
    "           cmap=magma, use_raw=False, ncols=4, legend_loc='on data')"
   ]
  },
  {
   "cell_type": "code",
   "execution_count": null,
   "id": "encouraging-elevation",
   "metadata": {},
   "outputs": [],
   "source": [
    "reynolds_fb.obs['clusters'] = reynolds_fb.obs['full_clustering']"
   ]
  },
  {
   "cell_type": "markdown",
   "id": "filled-religious",
   "metadata": {},
   "source": [
    "# Figure 2"
   ]
  },
  {
   "cell_type": "code",
   "execution_count": null,
   "id": "christian-bermuda",
   "metadata": {},
   "outputs": [],
   "source": [
    "fig, axs = plt.subplots(3, 5, figsize=(5*2.5, 3*2.5))\n",
    "for col_idx, adata in enumerate(['reynolds_fb', 'tabib_fb', 'he_fb', 'vors_fb', 'sb_fb']):\n",
    "    for row_idx, cat in enumerate(['clusters', 'hypoxia_stress_Stress', 'hypoxia_stress_Hypoxia']):\n",
    "        if row_idx == 2:\n",
    "            vmin, vmax = 0.2, 0.7\n",
    "        else:\n",
    "            vmin, vmax = 0.25, 0.8\n",
    "            \n",
    "        sc.pl.umap(eval(adata), color=cat, ax=axs[row_idx, col_idx], title='', show=False, legend_loc='on data', \n",
    "                  use_raw=False, frameon=False, vmin=vmin, vmax=vmax, cmap='magma')\n",
    "\n",
    "for col_idx, name in enumerate(['Reynolds', 'Tabib', 'He', 'Vorstandlechner', 'Solé-Boldo']):\n",
    "    axs[0, col_idx].set_title(name)\n",
    "\n",
    "for row_idx, cat in enumerate(['clusters', 'Stress', 'Hypoxia']):\n",
    "    axs[row_idx, 0].axis('on')\n",
    "    axs[row_idx, 0].set_ylabel(cat)\n",
    "    axs[row_idx, 0].set_xlabel('')\n",
    "    axs[row_idx, 0].set_frame_on(False)\n",
    "\n",
    "plt.savefig('figures/umapF2.png', dpi=250)"
   ]
  },
  {
   "cell_type": "code",
   "execution_count": null,
   "id": "otherwise-tribe",
   "metadata": {},
   "outputs": [],
   "source": [
    "for row_idx, cat in enumerate(['clusters', 'Stress', 'Hypoxia']):\n",
    "    axs[row_idx, 0].set_ylabel(cat)"
   ]
  },
  {
   "cell_type": "code",
   "execution_count": null,
   "id": "geographic-smell",
   "metadata": {},
   "outputs": [],
   "source": [
    "plt.show()"
   ]
  },
  {
   "cell_type": "markdown",
   "id": "photographic-dependence",
   "metadata": {},
   "source": [
    "# Plot hypoxia genes"
   ]
  },
  {
   "cell_type": "code",
   "execution_count": null,
   "id": "auburn-oracle",
   "metadata": {},
   "outputs": [],
   "source": [
    "sc.pl.umap(reynolds_fb, color=[i for i in hypoxia_genes if i in tabib_fb.var_names], cmap=magma, use_raw=False, legend_loc='on data')"
   ]
  },
  {
   "cell_type": "code",
   "execution_count": null,
   "id": "verbal-winning",
   "metadata": {},
   "outputs": [],
   "source": [
    "sc.pl.umap(tabib_fb, color=[i for i in hypoxia_genes if i in tabib_fb.var_names], cmap=magma, use_raw=False, legend_loc='on data')"
   ]
  },
  {
   "cell_type": "code",
   "execution_count": null,
   "id": "professional-system",
   "metadata": {},
   "outputs": [],
   "source": [
    "sc.pl.umap(he_fb, color=[i for i in hypoxia_genes if i in he_fb.var_names], cmap=magma, use_raw=False, legend_loc='on data')"
   ]
  },
  {
   "cell_type": "code",
   "execution_count": null,
   "id": "thorough-olympus",
   "metadata": {},
   "outputs": [],
   "source": [
    "sc.pl.umap(vors_fb, color=[i for i in hypoxia_genes if i in vors_fb.var_names], cmap=magma, use_raw=False, legend_loc='on data')"
   ]
  },
  {
   "cell_type": "code",
   "execution_count": null,
   "id": "colored-punch",
   "metadata": {},
   "outputs": [],
   "source": [
    "sc.pl.umap(sb_fb, color=[i for i in hypoxia_genes if i in sb_fb.var_names], cmap=magma, use_raw=False, legend_loc='on data')"
   ]
  },
  {
   "cell_type": "markdown",
   "id": "focal-digest",
   "metadata": {},
   "source": [
    "# Plot stress genes"
   ]
  },
  {
   "cell_type": "code",
   "execution_count": null,
   "id": "removed-recruitment",
   "metadata": {},
   "outputs": [],
   "source": [
    "sc.pl.umap(reynolds_fb, color=[i for i in stress_genes if i in tabib_fb.var_names], cmap=magma, use_raw=False, legend_loc='on data')"
   ]
  },
  {
   "cell_type": "code",
   "execution_count": null,
   "id": "executed-annex",
   "metadata": {},
   "outputs": [],
   "source": [
    "sc.pl.umap(tabib_fb, color=[i for i in stress_genes if i in tabib_fb.var_names], cmap=magma, use_raw=False, legend_loc='on data')"
   ]
  },
  {
   "cell_type": "code",
   "execution_count": null,
   "id": "reverse-gilbert",
   "metadata": {},
   "outputs": [],
   "source": [
    "sc.pl.umap(he_fb, color=[i for i in stress_genes if i in he_fb.var_names], cmap=magma, use_raw=False, legend_loc='on data')"
   ]
  },
  {
   "cell_type": "code",
   "execution_count": null,
   "id": "vertical-moment",
   "metadata": {},
   "outputs": [],
   "source": [
    "sc.pl.umap(vors_fb, color=[i for i in stress_genes if i in vors_fb.var_names], cmap=magma, use_raw=False, legend_loc='on data')"
   ]
  },
  {
   "cell_type": "code",
   "execution_count": null,
   "id": "temporal-andorra",
   "metadata": {
    "tags": []
   },
   "outputs": [],
   "source": [
    "sc.pl.umap(sb_fb, color=[i for i in stress_genes if i in sb_fb.var_names], cmap=magma, use_raw=False, legend_loc='on data')"
   ]
  }
 ],
 "metadata": {
  "kernelspec": {
   "display_name": "Python [conda env:alex-base] *",
   "language": "python",
   "name": "conda-env-alex-base-py"
  },
  "language_info": {
   "codemirror_mode": {
    "name": "ipython",
    "version": 3
   },
   "file_extension": ".py",
   "mimetype": "text/x-python",
   "name": "python",
   "nbconvert_exporter": "python",
   "pygments_lexer": "ipython3",
   "version": "3.8.0"
  }
 },
 "nbformat": 4,
 "nbformat_minor": 5
}
