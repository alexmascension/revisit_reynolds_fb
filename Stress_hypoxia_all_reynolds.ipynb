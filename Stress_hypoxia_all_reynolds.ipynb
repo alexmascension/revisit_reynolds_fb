{
 "cells": [
  {
   "cell_type": "code",
   "execution_count": null,
   "id": "italian-mortality",
   "metadata": {},
   "outputs": [],
   "source": [
    "# !wget https://raw.githubusercontent.com/alexmascension/revisit_reynolds_fb/master/requirements.txt\n",
    "# !pip install -r requirements.txt"
   ]
  },
  {
   "cell_type": "code",
   "execution_count": null,
   "id": "atlantic-console",
   "metadata": {},
   "outputs": [],
   "source": [
    "import scanpy as sc\n",
    "import scanpy.external as sce\n",
    "\n",
    "import pandas as pd\n",
    "import numpy as np\n",
    "import os\n",
    "from functools import reduce\n",
    "import gseapy as gp\n",
    "\n",
    "import triku as tk\n",
    "\n",
    "import matplotlib.pyplot as plt\n",
    "import matplotlib as mpl\n",
    "import seaborn as sns\n",
    "\n",
    "import scipy.stats as sts"
   ]
  },
  {
   "cell_type": "code",
   "execution_count": null,
   "id": "advanced-cycle",
   "metadata": {},
   "outputs": [],
   "source": [
    "# To print versions of imports \n",
    "\n",
    "import types\n",
    "\n",
    "def imports():\n",
    "    for name, val in globals().items():\n",
    "        if isinstance(val, types.ModuleType):\n",
    "            yield val.__name__\n",
    "\n",
    "excludes = ['builtins', 'types', 'sys']\n",
    "\n",
    "imported_modules = [module for module in imports() if module not in excludes]\n",
    "\n",
    "clean_modules = []\n",
    "\n",
    "for module in imported_modules:\n",
    "\n",
    "    sep = '.'  # to handle 'matplotlib.pyplot' cases\n",
    "    rest = module.split(sep, 1)[0]\n",
    "    clean_modules.append(rest)\n",
    "\n",
    "changed_imported_modules = list(set(clean_modules))  # drop duplicates\n",
    "\n",
    "pip_modules = !pip freeze  # you could also use `!conda list` with anaconda\n",
    "\n",
    "for module in pip_modules:\n",
    "    try:\n",
    "        name, version = module.split('==')\n",
    "        if name in changed_imported_modules:\n",
    "            print(name + '\\t' + version)\n",
    "    except:\n",
    "        pass"
   ]
  },
  {
   "cell_type": "code",
   "execution_count": null,
   "id": "protecting-editing",
   "metadata": {},
   "outputs": [],
   "source": [
    "seed = 0"
   ]
  },
  {
   "cell_type": "code",
   "execution_count": null,
   "id": "inclusive-extra",
   "metadata": {},
   "outputs": [],
   "source": [
    "# Palettes for UMAP gene expression\n",
    "\n",
    "magma = [plt.get_cmap('magma')(i) for i in np.linspace(0,1, 80)]\n",
    "magma[0] = (0.88, 0.88, 0.88, 1)\n",
    "magma = mpl.colors.LinearSegmentedColormap.from_list(\"\", magma[:65])"
   ]
  },
  {
   "cell_type": "code",
   "execution_count": null,
   "id": "uniform-distribution",
   "metadata": {},
   "outputs": [],
   "source": [
    "mpl.rcParams['figure.dpi'] = 150"
   ]
  },
  {
   "cell_type": "code",
   "execution_count": null,
   "id": "divided-moore",
   "metadata": {},
   "outputs": [],
   "source": [
    "def assign_cats(adata, dict_cats, column_groupby='leiden', quantile_gene_sel=0.7, do_return=False, intermediate_states=False, diff=0.05, \n",
    "                key_added='assigned_cats', min_score=0.6, others_name='Normal'):\n",
    "    \"\"\"\n",
    "    This functions uses a set of genes assigned to different categories so that leiden clusters can be assigned to one of these categories.\n",
    "    For example, to categorize fibroblasts from pericytes, endothelial cells, or cells with high mitochondrial content.\n",
    "    It could be done with each cell individually, but it is better to use clusters to discern the different categories because\n",
    "    the method, although efficient, can sometimes be noisy due to the noisiness of the sc datasets.\n",
    "    \"\"\"\n",
    "    \n",
    "    for cat in list(dict_cats.keys()):\n",
    "        mat_cat = np.zeros((len(adata), len(dict_cats[cat])), dtype=float)\n",
    "        \n",
    "        for gene_idx, gene in enumerate(dict_cats[cat]):\n",
    "            try:\n",
    "                mat_cat[:, gene_idx] = np.asarray(np.dot(adata.obsp['connectivities'], adata[:, gene].X).todense()).ravel() / adata.uns['neighbors']['params']['n_neighbors']\n",
    "                mat_cat[mat_cat[:, gene_idx] > 0, gene_idx] = np.argsort(np.argsort(mat_cat[mat_cat[:, gene_idx] > 0, gene_idx]))\n",
    "                mat_cat[:, gene_idx] /= np.max(mat_cat[:, gene_idx])\n",
    "            except:\n",
    "                print(f'Gene {gene} is not on the list')    \n",
    "            \n",
    "        sum_mat_cat = np.asarray(mat_cat.mean(1)).ravel()       \n",
    "        adata.obs[cat] = sum_mat_cat\n",
    "    \n",
    "    score_per_cluster = adata.obs[[column_groupby] + list(dict_cats.keys())].groupby(column_groupby).quantile(quantile_gene_sel)\n",
    "    max_cat_dict_std = dict(zip(score_per_cluster.std(1).index, score_per_cluster.std(1).values))\n",
    "    adata.obs[f'{key_added}_std'] = [max_cat_dict_std[i] for i in adata.obs[column_groupby]]\n",
    "    max_cat_dict_mean = dict(zip(score_per_cluster.mean(1).index, score_per_cluster.mean(1).values))\n",
    "    adata.obs[f'{key_added}_mean'] = [max_cat_dict_mean[i] for i in adata.obs[column_groupby]]\n",
    "    max_cat_dict_max = dict(zip(score_per_cluster.max(1).index, score_per_cluster.max(1).values))\n",
    "    adata.obs[f'{key_added}_max'] = [max_cat_dict_max[i] for i in adata.obs[column_groupby]]\n",
    "    adata.obs[f'{key_added}_CV'] = adata.obs[f'{key_added}_mean'] / adata.obs[f'{key_added}_std']\n",
    "    \n",
    "    for cat in score_per_cluster.columns:\n",
    "        max_cat_dict = dict(zip(score_per_cluster.index, score_per_cluster[cat].values))        \n",
    "        adata.obs[f'{key_added}_{cat}'] = [max_cat_dict[i] for i in adata.obs[column_groupby]]\n",
    "    \n",
    "    if intermediate_states: # For each cluster we will identify which categories are close to the highest one, and merge their names.\n",
    "        list_names_cats_per_cluster = []\n",
    "        for cluster in score_per_cluster.index:\n",
    "            scores_cluster = score_per_cluster.loc[cluster]\n",
    "            scores_cluster = scores_cluster[scores_cluster > scores_cluster.max() - diff]\n",
    "            list_names_cats_per_cluster.append('/'.join(scores_cluster.index))\n",
    "        \n",
    "        final_cat_dict = dict(zip(score_per_cluster.idxmax(axis=1).index, list_names_cats_per_cluster))\n",
    "    else:        \n",
    "        final_cat_dict = dict(zip(score_per_cluster.idxmax(axis=1).index, score_per_cluster.idxmax(axis=1).values))\n",
    "    \n",
    "    adata.obs[f'{key_added}'] = [str(final_cat_dict[i]) for i in adata.obs[column_groupby]]\n",
    "    \n",
    "    adata.obs[f'{key_added}'][adata.obs[f'{key_added}_max'] < min_score] = others_name\n",
    "    \n",
    "    if do_return:\n",
    "        return score_per_cluster"
   ]
  },
  {
   "cell_type": "markdown",
   "id": "digital-collectible",
   "metadata": {},
   "source": [
    "# Reynolds et al. 2020 dataset download and preprocess\n",
    "In this section we are going to download and process the anndata files for the 5 healthy samples (S1 to S5). We are first going to use the processed files from Reynolds et al., because they contain the main fb populations, which we are interested in (FB1-3). With that, we can partially replicate the analysis. However, the data richness is not that good (the UMAPs are more *blooby*) so we preprocess the FASTQ files on our own, and used the processed adatas.\n",
    "\n",
    "Once we have our own anndatas, the preprocessing is the following:\n",
    "* Assign FB types based on Reynolds adatas to our adatas. Some cells will be unassigned.\n",
    "* QC metrics \n",
    "* Filter genes (min counts = 30)\n",
    "* Set raw X\n",
    "* Normalize and log1p\n",
    "* PCA + triku + neighbors + umap + leiden\n",
    "* Use  `assign_cats` to assign leiden clusters to cell populations with selected markers (markers for each dataset may vary!)\n",
    "* Filter adata to retain only fibroblasts\n",
    "* Filter genes to remove 0 counts\n",
    "* PCA + triku + neighbors + umap + leiden [leiden is not used here but may be used later]\n",
    "* Check if strange populations appear and filter them in `assign_cats`, then repeat the last steps."
   ]
  },
  {
   "cell_type": "code",
   "execution_count": null,
   "id": "acute-sculpture",
   "metadata": {},
   "outputs": [],
   "source": [
    "os.getcwd()"
   ]
  },
  {
   "cell_type": "code",
   "execution_count": null,
   "id": "integral-diagnosis",
   "metadata": {},
   "outputs": [],
   "source": [
    "reynolds_dir = 'reynolds_2020'\n",
    "os.makedirs(reynolds_dir, exist_ok=True)\n",
    "\n",
    "papers_dir = 'papers_genes_bad_quality'\n",
    "os.makedirs(papers_dir, exist_ok=True)"
   ]
  },
  {
   "cell_type": "code",
   "execution_count": null,
   "id": "collaborative-exploration",
   "metadata": {},
   "outputs": [],
   "source": [
    "try:\n",
    "    stress_genes = np.loadtxt('papers_genes_bad_quality/stress_genes.txt', dtype=str)\n",
    "    hypoxia_genes = np.loadtxt('papers_genes_bad_quality/hypoxia_genes.txt', dtype=str)\n",
    "except:\n",
    "    stress_genes = np.loadtxt('https://raw.githubusercontent.com/alexmascension/revisit_reynolds_fb/master/papers_genes_bad_quality/stress_genes.txt', dtype=str)\n",
    "    hypoxia_genes = np.loadtxt('https://raw.githubusercontent.com/alexmascension/revisit_reynolds_fb/master/papers_genes_bad_quality/hypoxia_genes.txt', dtype=str)"
   ]
  },
  {
   "cell_type": "markdown",
   "id": "varying-warning",
   "metadata": {},
   "source": [
    "### Making and saving the fb healthy dataset to zenodo"
   ]
  },
  {
   "cell_type": "code",
   "execution_count": null,
   "id": "virtual-profile",
   "metadata": {},
   "outputs": [],
   "source": [
    "adata_reynolds = sc.read('submission_210120.h5ad', backup_url='https://zenodo.org/record/4536165/files/submission_210120.h5ad')\n",
    "adata_reynolds_healthy = adata_reynolds[adata_reynolds.obs['Status'] == 'Healthy']\n",
    "adata_reynolds_disease = adata_reynolds[adata_reynolds.obs['Status'].isin(['Eczema', 'Psoriasis'])]"
   ]
  },
  {
   "cell_type": "markdown",
   "id": "active-bones",
   "metadata": {},
   "source": [
    "# Analysis on healthy populations "
   ]
  },
  {
   "cell_type": "code",
   "execution_count": null,
   "id": "homeless-event",
   "metadata": {},
   "outputs": [],
   "source": [
    "for adata_name in ['adata_reynolds_healthy']:\n",
    "    sc.pp.filter_genes(eval(adata_name), min_counts=30)\n",
    "    sc.pp.normalize_per_cell(eval(adata_name))\n",
    "    sc.pp.log1p(eval(adata_name))\n",
    "    sc.pp.highly_variable_genes(eval(adata_name))\n",
    "    sc.pp.pca(eval(adata_name), random_state=seed, n_comps=30)\n",
    "    sce.pp.bbknn(eval(adata_name), metric='angular', batch_key='sample_id', neighbors_within_batch=2)\n",
    "    sc.tl.umap(eval(adata_name), min_dist=0.05, random_state=seed)"
   ]
  },
  {
   "cell_type": "code",
   "execution_count": null,
   "id": "norwegian-titanium",
   "metadata": {},
   "outputs": [],
   "source": [
    "sc.pl.umap(adata_reynolds_healthy, color=['full_clustering'])"
   ]
  },
  {
   "cell_type": "code",
   "execution_count": null,
   "id": "downtown-impossible",
   "metadata": {},
   "outputs": [],
   "source": [
    "adata_reynolds_healthy_fb = adata_reynolds_healthy[adata_reynolds_healthy.obs['full_clustering'].isin(['F1', 'F2', 'F3'])]\n",
    "adata_reynolds_healthy_ve = adata_reynolds_healthy[adata_reynolds_healthy.obs['full_clustering'].isin(['VE1', 'VE2', 'VE3'])]\n",
    "adata_reynolds_healthy_per = adata_reynolds_healthy[adata_reynolds_healthy.obs['full_clustering'].isin(['Pericyte_1', 'Pericyte_2'])]\n",
    "adata_reynolds_healthy_krt = adata_reynolds_healthy[adata_reynolds_healthy.obs['full_clustering'].isin(['Differentiated_KC', 'Differentiated_KC*', 'Undifferentiated_KC'])]\n",
    "adata_reynolds_healthy_lymphoid = adata_reynolds_healthy[adata_reynolds_healthy.obs['full_clustering'].isin(['Tc', 'Tc17_Th17', 'Tc_IL13_IL22', 'Th', 'Treg', 'ILC1_3', 'ILC1_NK', 'ILC2'])]\n",
    "adata_reynolds_healthy_APC = adata_reynolds_healthy[adata_reynolds_healthy.obs['full_clustering'].isin(['Macro_1', 'Macro_2', 'Inf_mac', 'DC1', 'DC2', 'LC_1', 'LC_2', 'LC_3', 'Mono_mac', 'MigDC', 'MoDC_1', 'moDC_2', 'mo_DC3'])]"
   ]
  },
  {
   "cell_type": "code",
   "execution_count": null,
   "id": "inside-snowboard",
   "metadata": {},
   "outputs": [],
   "source": [
    "samples, counts = np.unique(adata_reynolds_healthy_fb.obs['sample_id'], return_counts=True)\n",
    "adata_reynolds_healthy_fb = adata_reynolds_healthy_fb[adata_reynolds_healthy_fb.obs['sample_id'].isin(samples[counts > 10])]\n",
    "\n",
    "samples, counts = np.unique(adata_reynolds_healthy_ve.obs['sample_id'], return_counts=True)\n",
    "adata_reynolds_healthy_ve = adata_reynolds_healthy_ve[adata_reynolds_healthy_ve.obs['sample_id'].isin(samples[counts > 10])]\n",
    "\n",
    "samples, counts = np.unique(adata_reynolds_healthy_per.obs['sample_id'], return_counts=True)\n",
    "adata_reynolds_healthy_per = adata_reynolds_healthy_per[adata_reynolds_healthy_per.obs['sample_id'].isin(samples[counts > 10])]\n",
    "\n",
    "samples, counts = np.unique(adata_reynolds_healthy_krt.obs['sample_id'], return_counts=True)\n",
    "adata_reynolds_healthy_krt = adata_reynolds_healthy_krt[adata_reynolds_healthy_krt.obs['sample_id'].isin(samples[counts > 10])]\n",
    "\n",
    "samples, counts = np.unique(adata_reynolds_healthy_lymphoid.obs['sample_id'], return_counts=True)\n",
    "adata_reynolds_healthy_lymphoid = adata_reynolds_healthy_lymphoid[adata_reynolds_healthy_lymphoid.obs['sample_id'].isin(samples[counts > 10])]\n",
    "\n",
    "samples, counts = np.unique(adata_reynolds_healthy_APC.obs['sample_id'], return_counts=True)\n",
    "adata_reynolds_healthy_APC = adata_reynolds_healthy_APC[adata_reynolds_healthy_APC.obs['sample_id'].isin(samples[counts > 10])]"
   ]
  },
  {
   "cell_type": "code",
   "execution_count": null,
   "id": "federal-appeal",
   "metadata": {},
   "outputs": [],
   "source": [
    "for adata_name in ['adata_reynolds_healthy_fb', 'adata_reynolds_healthy_ve', 'adata_reynolds_healthy_per', \n",
    "                   'adata_reynolds_healthy_krt', 'adata_reynolds_healthy_lymphoid', 'adata_reynolds_healthy_APC']:\n",
    "    sc.pp.filter_genes(eval(adata_name), min_counts=1)\n",
    "    sc.pp.pca(eval(adata_name), random_state=seed, n_comps=30)\n",
    "    sce.pp.bbknn(eval(adata_name), metric='angular', batch_key='sample_id', neighbors_within_batch=2)\n",
    "    tk.tl.triku(eval(adata_name), n_procs=1, random_state=seed, use_adata_knn=True)\n",
    "    sc.tl.umap(eval(adata_name), min_dist=0.05, random_state=seed)\n",
    "    sc.tl.leiden(eval(adata_name), resolution=2.5, random_state=seed)"
   ]
  },
  {
   "cell_type": "code",
   "execution_count": null,
   "id": "needed-coalition",
   "metadata": {},
   "outputs": [],
   "source": [
    "adata_reynolds_healthy_fb.write_h5ad(reynolds_dir + '/adata_reynolds_healthy_fb.h5ad')\n",
    "adata_reynolds_healthy_ve.write_h5ad(reynolds_dir + '/adata_reynolds_healthy_ve.h5ad')\n",
    "adata_reynolds_healthy_per.write_h5ad(reynolds_dir + '/adata_reynolds_healthy_per.h5ad')\n",
    "adata_reynolds_healthy_krt.write_h5ad(reynolds_dir + '/adata_reynolds_healthy_krt.h5ad')\n",
    "adata_reynolds_healthy_lymphoid.write_h5ad(reynolds_dir + '/adata_reynolds_healthy_lymphoid.h5ad')\n",
    "adata_reynolds_healthy_APC.write_h5ad(reynolds_dir + '/adata_reynolds_healthy_APC.h5ad')"
   ]
  },
  {
   "cell_type": "code",
   "execution_count": null,
   "id": "equipped-captain",
   "metadata": {},
   "outputs": [],
   "source": [
    "adata_reynolds_healthy_fb = sc.read(reynolds_dir + '/adata_reynolds_healthy_fb.h5ad')\n",
    "adata_reynolds_healthy_ve = sc.read(reynolds_dir + '/adata_reynolds_healthy_ve.h5ad')\n",
    "adata_reynolds_healthy_per = sc.read(reynolds_dir + '/adata_reynolds_healthy_per.h5ad')\n",
    "adata_reynolds_healthy_krt = sc.read(reynolds_dir + '/adata_reynolds_healthy_krt.h5ad')\n",
    "adata_reynolds_healthy_lymphoid = sc.read(reynolds_dir + '/adata_reynolds_healthy_lymphoid.h5ad')\n",
    "adata_reynolds_healthy_APC = sc.read(reynolds_dir + '/adata_reynolds_healthy_APC.h5ad')"
   ]
  },
  {
   "cell_type": "code",
   "execution_count": null,
   "id": "eastern-modification",
   "metadata": {},
   "outputs": [],
   "source": [
    "dict_cats = {'Stress': stress_genes, 'Hypoxia': hypoxia_genes}"
   ]
  },
  {
   "cell_type": "markdown",
   "id": "asian-worcester",
   "metadata": {},
   "source": [
    "### Fibro"
   ]
  },
  {
   "cell_type": "code",
   "execution_count": null,
   "id": "regular-liberty",
   "metadata": {},
   "outputs": [],
   "source": [
    "assign_cats(adata_reynolds_healthy_fb, dict_cats=dict_cats, column_groupby='leiden', intermediate_states=False, min_score=0.6,\n",
    "            key_added='hypoxia_stress', )\n",
    "sc.pl.umap(adata_reynolds_healthy_fb, color=['full_clustering', 'leiden', 'hypoxia_stress', \n",
    "                                             'hypoxia_stress_Stress', 'hypoxia_stress_Hypoxia'], \n",
    "           cmap=magma, use_raw=False, ncols=3, legend_loc='on data')"
   ]
  },
  {
   "cell_type": "code",
   "execution_count": null,
   "id": "registered-vanilla",
   "metadata": {},
   "outputs": [],
   "source": [
    "sc.pl.umap(adata_reynolds_healthy_fb, color=[i for i in stress_genes if i in adata_reynolds_healthy_fb.var_names], cmap=magma, use_raw=False)"
   ]
  },
  {
   "cell_type": "code",
   "execution_count": null,
   "id": "piano-whale",
   "metadata": {},
   "outputs": [],
   "source": [
    "sc.pl.umap(adata_reynolds_healthy_fb, color=[i for i in hypoxia_genes if i in adata_reynolds_healthy_fb.var_names], cmap=magma, use_raw=False)"
   ]
  },
  {
   "cell_type": "markdown",
   "id": "stuffed-librarian",
   "metadata": {},
   "source": [
    "### VE"
   ]
  },
  {
   "cell_type": "code",
   "execution_count": null,
   "id": "declared-converter",
   "metadata": {},
   "outputs": [],
   "source": [
    "assign_cats(adata_reynolds_healthy_ve, dict_cats=dict_cats, column_groupby='leiden', intermediate_states=False, min_score=0.55,\n",
    "            key_added='hypoxia_stress')\n",
    "sc.pl.umap(adata_reynolds_healthy_ve, color=['full_clustering', 'leiden', 'hypoxia_stress', \n",
    "                                             'hypoxia_stress_Stress', 'hypoxia_stress_Hypoxia'], \n",
    "           cmap=magma, use_raw=False, ncols=3, legend_loc='on data')"
   ]
  },
  {
   "cell_type": "code",
   "execution_count": null,
   "id": "significant-capacity",
   "metadata": {},
   "outputs": [],
   "source": [
    "sc.pl.umap(adata_reynolds_healthy_ve, color=[i for i in stress_genes if i in adata_reynolds_healthy_ve.var_names], cmap=magma, use_raw=False)"
   ]
  },
  {
   "cell_type": "code",
   "execution_count": null,
   "id": "social-passing",
   "metadata": {},
   "outputs": [],
   "source": [
    "sc.pl.umap(adata_reynolds_healthy_ve, color=[i for i in hypoxia_genes if i in adata_reynolds_healthy_ve.var_names], cmap=magma, use_raw=False)"
   ]
  },
  {
   "cell_type": "markdown",
   "id": "prepared-senator",
   "metadata": {},
   "source": [
    "### PER"
   ]
  },
  {
   "cell_type": "code",
   "execution_count": null,
   "id": "hidden-signal",
   "metadata": {},
   "outputs": [],
   "source": [
    "assign_cats(adata_reynolds_healthy_per, dict_cats=dict_cats, column_groupby='leiden', intermediate_states=False, min_score=0.55,\n",
    "            key_added='hypoxia_stress')\n",
    "sc.pl.umap(adata_reynolds_healthy_per, color=['full_clustering', 'leiden', 'hypoxia_stress', \n",
    "                                             'hypoxia_stress_Stress', 'hypoxia_stress_Hypoxia'], \n",
    "           cmap=magma, use_raw=False, ncols=3, legend_loc='on data')"
   ]
  },
  {
   "cell_type": "code",
   "execution_count": null,
   "id": "internal-procedure",
   "metadata": {},
   "outputs": [],
   "source": [
    "sc.pl.umap(adata_reynolds_healthy_per, color=[i for i in hypoxia_genes if i in adata_reynolds_healthy_per.var_names], cmap=magma, use_raw=False)"
   ]
  },
  {
   "cell_type": "code",
   "execution_count": null,
   "id": "magnetic-marketing",
   "metadata": {},
   "outputs": [],
   "source": [
    "sc.pl.umap(adata_reynolds_healthy_per, color=[i for i in stress_genes if i in adata_reynolds_healthy_per.var_names], cmap=magma, use_raw=False)"
   ]
  },
  {
   "cell_type": "markdown",
   "id": "brazilian-diamond",
   "metadata": {},
   "source": [
    "### KRT"
   ]
  },
  {
   "cell_type": "code",
   "execution_count": null,
   "id": "civilian-settlement",
   "metadata": {},
   "outputs": [],
   "source": [
    "assign_cats(adata_reynolds_healthy_krt, dict_cats=dict_cats, column_groupby='leiden', intermediate_states=False, min_score=0.55,\n",
    "            key_added='hypoxia_stress')\n",
    "sc.pl.umap(adata_reynolds_healthy_krt, color=['full_clustering', 'leiden', 'hypoxia_stress', \n",
    "                                             'hypoxia_stress_Stress', 'hypoxia_stress_Hypoxia'], \n",
    "           cmap=magma, use_raw=False, ncols=3, legend_loc='on data')"
   ]
  },
  {
   "cell_type": "code",
   "execution_count": null,
   "id": "bored-thirty",
   "metadata": {},
   "outputs": [],
   "source": [
    "sc.pl.umap(adata_reynolds_healthy_krt, color=[i for i in hypoxia_genes if i in adata_reynolds_healthy_krt.var_names], cmap=magma, use_raw=False)"
   ]
  },
  {
   "cell_type": "code",
   "execution_count": null,
   "id": "exterior-fundamental",
   "metadata": {},
   "outputs": [],
   "source": [
    "sc.pl.umap(adata_reynolds_healthy_krt, color=[i for i in stress_genes if i in adata_reynolds_healthy_krt.var_names], cmap=magma, use_raw=False)"
   ]
  },
  {
   "cell_type": "markdown",
   "id": "academic-tucson",
   "metadata": {},
   "source": [
    "### LYMPHOID"
   ]
  },
  {
   "cell_type": "code",
   "execution_count": null,
   "id": "charitable-plasma",
   "metadata": {},
   "outputs": [],
   "source": [
    "assign_cats(adata_reynolds_healthy_lymphoid, dict_cats=dict_cats, column_groupby='leiden', intermediate_states=False, min_score=0.55,\n",
    "            key_added='hypoxia_stress')\n",
    "sc.pl.umap(adata_reynolds_healthy_lymphoid, color=['full_clustering', 'leiden', 'hypoxia_stress', \n",
    "                                             'hypoxia_stress_Stress', 'hypoxia_stress_Hypoxia'], \n",
    "           cmap=magma, use_raw=False, ncols=3, legend_loc='on data')"
   ]
  },
  {
   "cell_type": "code",
   "execution_count": null,
   "id": "interior-salvation",
   "metadata": {},
   "outputs": [],
   "source": [
    "sc.pl.umap(adata_reynolds_healthy_lymphoid, color=[i for i in hypoxia_genes if i in adata_reynolds_healthy_lymphoid.var_names], cmap=magma, use_raw=False)"
   ]
  },
  {
   "cell_type": "code",
   "execution_count": null,
   "id": "suburban-optimum",
   "metadata": {},
   "outputs": [],
   "source": [
    "sc.pl.umap(adata_reynolds_healthy_lymphoid, color=[i for i in stress_genes if i in adata_reynolds_healthy_lymphoid.var_names], cmap=magma, use_raw=False)"
   ]
  },
  {
   "cell_type": "markdown",
   "id": "collect-sleep",
   "metadata": {},
   "source": [
    "### APC"
   ]
  },
  {
   "cell_type": "code",
   "execution_count": null,
   "id": "skilled-conditions",
   "metadata": {},
   "outputs": [],
   "source": [
    "assign_cats(adata_reynolds_healthy_APC, dict_cats=dict_cats, column_groupby='leiden', intermediate_states=False, min_score=0.55,\n",
    "            key_added='hypoxia_stress', )\n",
    "sc.pl.umap(adata_reynolds_healthy_APC, color=['full_clustering', 'leiden', 'hypoxia_stress', \n",
    "                                             'hypoxia_stress_Stress', 'hypoxia_stress_Hypoxia'], \n",
    "           cmap=magma, use_raw=False, ncols=3, legend_loc='on data')"
   ]
  },
  {
   "cell_type": "code",
   "execution_count": null,
   "id": "raising-violin",
   "metadata": {},
   "outputs": [],
   "source": [
    "sc.pl.umap(adata_reynolds_healthy_APC, color=[i for i in hypoxia_genes if i in adata_reynolds_healthy_APC.var_names], cmap=magma, use_raw=False)"
   ]
  },
  {
   "cell_type": "code",
   "execution_count": null,
   "id": "incredible-soldier",
   "metadata": {},
   "outputs": [],
   "source": [
    "sc.pl.umap(adata_reynolds_healthy_APC, color=[i for i in stress_genes if i in adata_reynolds_healthy_APC.var_names], cmap=magma, use_raw=False)"
   ]
  },
  {
   "cell_type": "markdown",
   "id": "british-satellite",
   "metadata": {},
   "source": [
    "# Analysis on diseased populations "
   ]
  },
  {
   "cell_type": "code",
   "execution_count": null,
   "id": "pleased-nicaragua",
   "metadata": {},
   "outputs": [],
   "source": [
    "for adata_name in ['adata_reynolds_disease']:\n",
    "    sc.pp.filter_genes(eval(adata_name), min_counts=30)\n",
    "    sc.pp.normalize_per_cell(eval(adata_name))\n",
    "    sc.pp.log1p(eval(adata_name))\n",
    "    sc.pp.highly_variable_genes(eval(adata_name))\n",
    "    sc.pp.pca(eval(adata_name), random_state=seed, n_comps=30)\n",
    "    sce.pp.bbknn(eval(adata_name), metric='angular', batch_key='sample_id', neighbors_within_batch=2)\n",
    "    sc.tl.umap(eval(adata_name), min_dist=0.05, random_state=seed)"
   ]
  },
  {
   "cell_type": "code",
   "execution_count": null,
   "id": "scientific-transportation",
   "metadata": {},
   "outputs": [],
   "source": [
    "sc.pl.umap(adata_reynolds_disease, color=['full_clustering'])"
   ]
  },
  {
   "cell_type": "code",
   "execution_count": null,
   "id": "cognitive-vitamin",
   "metadata": {},
   "outputs": [],
   "source": [
    "adata_reynolds_disease_fb = adata_reynolds_disease[adata_reynolds_disease.obs['full_clustering'].isin(['F1', 'F2', 'F3'])]\n",
    "adata_reynolds_disease_ve = adata_reynolds_disease[adata_reynolds_disease.obs['full_clustering'].isin(['VE1', 'VE2', 'VE3'])]\n",
    "adata_reynolds_disease_per = adata_reynolds_disease[adata_reynolds_disease.obs['full_clustering'].isin(['Pericyte_1', 'Pericyte_2'])]\n",
    "adata_reynolds_disease_krt = adata_reynolds_disease[adata_reynolds_disease.obs['full_clustering'].isin(['Differentiated_KC', 'Differentiated_KC*', 'Undifferentiated_KC'])]\n",
    "adata_reynolds_disease_lymphoid = adata_reynolds_disease[adata_reynolds_disease.obs['full_clustering'].isin(['Tc', 'Tc17_Th17', 'Tc_IL13_IL22', 'Th', 'Treg', 'ILC1_3', 'ILC1_NK', 'ILC2'])]\n",
    "adata_reynolds_disease_APC = adata_reynolds_disease[adata_reynolds_disease.obs['full_clustering'].isin(['Macro_1', 'Macro_2', 'Inf_mac', 'DC1', 'DC2', 'LC_1', 'LC_2', 'LC_3', 'Mono_mac', 'MigDC', 'MoDC_1', 'moDC_2', 'mo_DC3'])]"
   ]
  },
  {
   "cell_type": "code",
   "execution_count": null,
   "id": "supreme-programming",
   "metadata": {},
   "outputs": [],
   "source": [
    "samples, counts = np.unique(adata_reynolds_disease_fb.obs['sample_id'], return_counts=True)\n",
    "adata_reynolds_disease_fb = adata_reynolds_disease_fb[adata_reynolds_disease_fb.obs['sample_id'].isin(samples[counts > 10])]\n",
    "\n",
    "samples, counts = np.unique(adata_reynolds_disease_ve.obs['sample_id'], return_counts=True)\n",
    "adata_reynolds_disease_ve = adata_reynolds_disease_ve[adata_reynolds_disease_ve.obs['sample_id'].isin(samples[counts > 10])]\n",
    "\n",
    "samples, counts = np.unique(adata_reynolds_disease_per.obs['sample_id'], return_counts=True)\n",
    "adata_reynolds_disease_per = adata_reynolds_disease_per[adata_reynolds_disease_per.obs['sample_id'].isin(samples[counts > 10])]\n",
    "\n",
    "samples, counts = np.unique(adata_reynolds_disease_krt.obs['sample_id'], return_counts=True)\n",
    "adata_reynolds_disease_krt = adata_reynolds_disease_krt[adata_reynolds_disease_krt.obs['sample_id'].isin(samples[counts > 10])]\n",
    "\n",
    "samples, counts = np.unique(adata_reynolds_disease_lymphoid.obs['sample_id'], return_counts=True)\n",
    "adata_reynolds_disease_lymphoid = adata_reynolds_disease_lymphoid[adata_reynolds_disease_lymphoid.obs['sample_id'].isin(samples[counts > 10])]\n",
    "\n",
    "samples, counts = np.unique(adata_reynolds_disease_APC.obs['sample_id'], return_counts=True)\n",
    "adata_reynolds_disease_APC = adata_reynolds_disease_APC[adata_reynolds_disease_APC.obs['sample_id'].isin(samples[counts > 10])]"
   ]
  },
  {
   "cell_type": "code",
   "execution_count": null,
   "id": "approved-trustee",
   "metadata": {},
   "outputs": [],
   "source": [
    "for adata_name in ['adata_reynolds_disease_fb', 'adata_reynolds_disease_ve', 'adata_reynolds_disease_per', \n",
    "                   'adata_reynolds_disease_krt', 'adata_reynolds_disease_lymphoid', 'adata_reynolds_disease_APC']:\n",
    "    sc.pp.filter_genes(eval(adata_name), min_counts=1)\n",
    "    sc.pp.pca(eval(adata_name), random_state=seed, n_comps=30)\n",
    "    sce.pp.bbknn(eval(adata_name), metric='angular', batch_key='sample_id', neighbors_within_batch=2)\n",
    "    tk.tl.triku(eval(adata_name), n_procs=1, random_state=seed, use_adata_knn=True)\n",
    "    sc.tl.umap(eval(adata_name), min_dist=0.05, random_state=seed)\n",
    "    sc.tl.leiden(eval(adata_name), resolution=2.5, random_state=seed)"
   ]
  },
  {
   "cell_type": "code",
   "execution_count": null,
   "id": "promotional-danish",
   "metadata": {},
   "outputs": [],
   "source": [
    "adata_reynolds_disease_fb.write_h5ad(reynolds_dir + '/adata_reynolds_disease_fb.h5ad')\n",
    "adata_reynolds_disease_ve.write_h5ad(reynolds_dir + '/adata_reynolds_disease_ve.h5ad')\n",
    "adata_reynolds_disease_per.write_h5ad(reynolds_dir + '/adata_reynolds_disease_per.h5ad')\n",
    "adata_reynolds_disease_krt.write_h5ad(reynolds_dir + '/adata_reynolds_disease_krt.h5ad')\n",
    "adata_reynolds_disease_lymphoid.write_h5ad(reynolds_dir + '/adata_reynolds_disease_lymphoid.h5ad')\n",
    "adata_reynolds_disease_APC.write_h5ad(reynolds_dir + '/adata_reynolds_disease_APC.h5ad')"
   ]
  },
  {
   "cell_type": "code",
   "execution_count": null,
   "id": "imposed-limitation",
   "metadata": {},
   "outputs": [],
   "source": [
    "adata_reynolds_disease_fb = sc.read(reynolds_dir + '/adata_reynolds_disease_fb.h5ad')\n",
    "adata_reynolds_disease_ve = sc.read(reynolds_dir + '/adata_reynolds_disease_ve.h5ad')\n",
    "adata_reynolds_disease_per = sc.read(reynolds_dir + '/adata_reynolds_disease_per.h5ad')\n",
    "adata_reynolds_disease_krt = sc.read(reynolds_dir + '/adata_reynolds_disease_krt.h5ad')\n",
    "adata_reynolds_disease_lymphoid = sc.read(reynolds_dir + '/adata_reynolds_disease_lymphoid.h5ad')\n",
    "adata_reynolds_disease_APC = sc.read(reynolds_dir + '/adata_reynolds_disease_APC.h5ad')"
   ]
  },
  {
   "cell_type": "markdown",
   "id": "cutting-nicholas",
   "metadata": {},
   "source": [
    "### Fibro"
   ]
  },
  {
   "cell_type": "code",
   "execution_count": null,
   "id": "moved-entrance",
   "metadata": {},
   "outputs": [],
   "source": [
    "assign_cats(adata_reynolds_disease_fb, dict_cats=dict_cats, column_groupby='leiden', intermediate_states=False, min_score=0.55,\n",
    "            key_added='hypoxia_stress')\n",
    "sc.pl.umap(adata_reynolds_disease_fb, color=['full_clustering', 'leiden', 'hypoxia_stress', \n",
    "                                             'hypoxia_stress_Stress', 'hypoxia_stress_Hypoxia'], \n",
    "           cmap=magma, use_raw=False, ncols=3, legend_loc='on data')"
   ]
  },
  {
   "cell_type": "code",
   "execution_count": null,
   "id": "loose-cleveland",
   "metadata": {},
   "outputs": [],
   "source": [
    "sc.pl.umap(adata_reynolds_disease_fb, color=[i for i in stress_genes if i in adata_reynolds_disease_fb.var_names], cmap=magma, use_raw=False)"
   ]
  },
  {
   "cell_type": "code",
   "execution_count": null,
   "id": "silent-nashville",
   "metadata": {},
   "outputs": [],
   "source": [
    "sc.pl.umap(adata_reynolds_disease_fb, color=[i for i in hypoxia_genes if i in adata_reynolds_disease_fb.var_names], cmap=magma, use_raw=False)"
   ]
  },
  {
   "cell_type": "markdown",
   "id": "streaming-reaction",
   "metadata": {},
   "source": [
    "### VE"
   ]
  },
  {
   "cell_type": "code",
   "execution_count": null,
   "id": "ambient-nurse",
   "metadata": {},
   "outputs": [],
   "source": [
    "assign_cats(adata_reynolds_disease_ve, dict_cats=dict_cats, column_groupby='leiden', intermediate_states=False, min_score=0.55,\n",
    "            key_added='hypoxia_stress')\n",
    "sc.pl.umap(adata_reynolds_disease_ve, color=['full_clustering', 'leiden', 'hypoxia_stress', \n",
    "                                             'hypoxia_stress_Stress', 'hypoxia_stress_Hypoxia'], \n",
    "           cmap=magma, use_raw=False, ncols=3, legend_loc='on data')"
   ]
  },
  {
   "cell_type": "code",
   "execution_count": null,
   "id": "thrown-checkout",
   "metadata": {},
   "outputs": [],
   "source": [
    "sc.pl.umap(adata_reynolds_disease_ve, color=[i for i in stress_genes if i in adata_reynolds_disease_ve.var_names], cmap=magma, use_raw=False)"
   ]
  },
  {
   "cell_type": "code",
   "execution_count": null,
   "id": "complimentary-classic",
   "metadata": {},
   "outputs": [],
   "source": [
    "sc.pl.umap(adata_reynolds_disease_ve, color=[i for i in hypoxia_genes if i in adata_reynolds_disease_ve.var_names], cmap=magma, use_raw=False)"
   ]
  },
  {
   "cell_type": "markdown",
   "id": "third-certification",
   "metadata": {},
   "source": [
    "### PER"
   ]
  },
  {
   "cell_type": "code",
   "execution_count": null,
   "id": "qualified-crowd",
   "metadata": {},
   "outputs": [],
   "source": [
    "assign_cats(adata_reynolds_disease_per, dict_cats=dict_cats, column_groupby='leiden', intermediate_states=False, min_score=0.55,\n",
    "            key_added='hypoxia_stress')\n",
    "sc.pl.umap(adata_reynolds_disease_per, color=['full_clustering', 'leiden', 'hypoxia_stress', \n",
    "                                             'hypoxia_stress_Stress', 'hypoxia_stress_Hypoxia'], \n",
    "           cmap=magma, use_raw=False, ncols=3, legend_loc='on data')"
   ]
  },
  {
   "cell_type": "code",
   "execution_count": null,
   "id": "portable-saver",
   "metadata": {},
   "outputs": [],
   "source": [
    "sc.pl.umap(adata_reynolds_disease_per, color=[i for i in stress_genes if i in adata_reynolds_disease_per.var_names], cmap=magma, use_raw=False)"
   ]
  },
  {
   "cell_type": "code",
   "execution_count": null,
   "id": "resistant-radio",
   "metadata": {},
   "outputs": [],
   "source": [
    "sc.pl.umap(adata_reynolds_disease_per, color=[i for i in hypoxia_genes if i in adata_reynolds_disease_per.var_names], cmap=magma, use_raw=False)"
   ]
  },
  {
   "cell_type": "markdown",
   "id": "amber-qatar",
   "metadata": {},
   "source": [
    "### KRT"
   ]
  },
  {
   "cell_type": "code",
   "execution_count": null,
   "id": "familiar-ancient",
   "metadata": {},
   "outputs": [],
   "source": [
    "assign_cats(adata_reynolds_disease_krt, dict_cats=dict_cats, column_groupby='leiden', intermediate_states=False, min_score=0.55,\n",
    "            key_added='hypoxia_stress')\n",
    "sc.pl.umap(adata_reynolds_disease_krt, color=['full_clustering', 'leiden', 'hypoxia_stress', \n",
    "                                             'hypoxia_stress_Stress', 'hypoxia_stress_Hypoxia'], \n",
    "           cmap=magma, use_raw=False, ncols=3, legend_loc='on data')"
   ]
  },
  {
   "cell_type": "code",
   "execution_count": null,
   "id": "marine-ferry",
   "metadata": {},
   "outputs": [],
   "source": [
    "sc.pl.umap(adata_reynolds_disease_krt, color=[i for i in stress_genes if i in adata_reynolds_disease_krt.var_names], cmap=magma, use_raw=False)"
   ]
  },
  {
   "cell_type": "code",
   "execution_count": null,
   "id": "inner-julian",
   "metadata": {},
   "outputs": [],
   "source": [
    "sc.pl.umap(adata_reynolds_disease_krt, color=[i for i in hypoxia_genes if i in adata_reynolds_disease_krt.var_names], cmap=magma, use_raw=False)"
   ]
  },
  {
   "cell_type": "markdown",
   "id": "promising-brother",
   "metadata": {},
   "source": [
    "### LYMPHOID"
   ]
  },
  {
   "cell_type": "code",
   "execution_count": null,
   "id": "million-maximum",
   "metadata": {},
   "outputs": [],
   "source": [
    "assign_cats(adata_reynolds_disease_lymphoid, dict_cats=dict_cats, column_groupby='leiden', intermediate_states=False, min_score=0.55,\n",
    "            key_added='hypoxia_stress')\n",
    "sc.pl.umap(adata_reynolds_disease_lymphoid, color=['full_clustering', 'leiden', 'hypoxia_stress', \n",
    "                                             'hypoxia_stress_Stress', 'hypoxia_stress_Hypoxia'], \n",
    "           cmap=magma, use_raw=False, ncols=3, legend_loc='on data')"
   ]
  },
  {
   "cell_type": "code",
   "execution_count": null,
   "id": "hired-waste",
   "metadata": {},
   "outputs": [],
   "source": [
    "sc.pl.umap(adata_reynolds_disease_lymphoid, color=[i for i in stress_genes if i in adata_reynolds_disease_lymphoid.var_names], cmap=magma, use_raw=False)"
   ]
  },
  {
   "cell_type": "code",
   "execution_count": null,
   "id": "exempt-shuttle",
   "metadata": {},
   "outputs": [],
   "source": [
    "sc.pl.umap(adata_reynolds_disease_lymphoid, color=[i for i in hypoxia_genes if i in adata_reynolds_disease_lymphoid.var_names], cmap=magma, use_raw=False)"
   ]
  },
  {
   "cell_type": "markdown",
   "id": "attempted-screw",
   "metadata": {},
   "source": [
    "### APC"
   ]
  },
  {
   "cell_type": "code",
   "execution_count": null,
   "id": "bright-ocean",
   "metadata": {},
   "outputs": [],
   "source": [
    "assign_cats(adata_reynolds_disease_APC, dict_cats=dict_cats, column_groupby='leiden', intermediate_states=False, min_score=0.55,\n",
    "            key_added='hypoxia_stress')\n",
    "sc.pl.umap(adata_reynolds_disease_APC, color=['full_clustering', 'leiden', 'hypoxia_stress', \n",
    "                                             'hypoxia_stress_Stress', 'hypoxia_stress_Hypoxia'], \n",
    "           cmap=magma, use_raw=False, ncols=3, legend_loc='on data')"
   ]
  },
  {
   "cell_type": "code",
   "execution_count": null,
   "id": "needed-diary",
   "metadata": {},
   "outputs": [],
   "source": [
    "sc.pl.umap(adata_reynolds_disease_APC, color=[i for i in stress_genes if i in adata_reynolds_disease_APC.var_names], cmap=magma, use_raw=False)"
   ]
  },
  {
   "cell_type": "code",
   "execution_count": null,
   "id": "enclosed-amber",
   "metadata": {},
   "outputs": [],
   "source": [
    "sc.pl.umap(adata_reynolds_disease_APC, color=[i for i in hypoxia_genes if i in adata_reynolds_disease_APC.var_names], cmap=magma, use_raw=False)"
   ]
  },
  {
   "cell_type": "markdown",
   "id": "dirty-century",
   "metadata": {},
   "source": [
    "# Analysis on all populations "
   ]
  },
  {
   "cell_type": "code",
   "execution_count": null,
   "id": "impossible-decrease",
   "metadata": {},
   "outputs": [],
   "source": [
    "for adata_name in ['adata_reynolds']:\n",
    "    sc.pp.filter_genes(eval(adata_name), min_counts=30)\n",
    "    sc.pp.normalize_per_cell(eval(adata_name))\n",
    "    sc.pp.log1p(eval(adata_name))\n",
    "    sc.pp.highly_variable_genes(eval(adata_name))\n",
    "    sc.pp.pca(eval(adata_name), random_state=seed, n_comps=30)\n",
    "    sce.pp.bbknn(eval(adata_name), metric='angular', batch_key='sample_id', neighbors_within_batch=2)\n",
    "    sc.tl.umap(eval(adata_name), min_dist=0.05, random_state=seed)"
   ]
  },
  {
   "cell_type": "code",
   "execution_count": null,
   "id": "assigned-willow",
   "metadata": {},
   "outputs": [],
   "source": [
    "sc.pl.umap(adata_reynolds, color=['full_clustering'])"
   ]
  },
  {
   "cell_type": "code",
   "execution_count": null,
   "id": "invisible-knowing",
   "metadata": {},
   "outputs": [],
   "source": [
    "sc.pl.umap(adata_reynolds, color=['BNIP3', 'BNIP3L'], cmap=magma, use_raw=False)"
   ]
  },
  {
   "cell_type": "code",
   "execution_count": null,
   "id": "theoretical-recorder",
   "metadata": {},
   "outputs": [],
   "source": [
    "adata_reynolds_fb = adata_reynolds[adata_reynolds.obs['full_clustering'].isin(['F1', 'F2', 'F3'])]\n",
    "adata_reynolds_ve = adata_reynolds[adata_reynolds.obs['full_clustering'].isin(['VE1', 'VE2', 'VE3'])]\n",
    "adata_reynolds_per = adata_reynolds[adata_reynolds.obs['full_clustering'].isin(['Pericyte_1', 'Pericyte_2'])]\n",
    "adata_reynolds_krt = adata_reynolds[adata_reynolds.obs['full_clustering'].isin(['Differentiated_KC', 'Differentiated_KC*', 'Undifferentiated_KC'])]\n",
    "adata_reynolds_lymphoid = adata_reynolds[adata_reynolds.obs['full_clustering'].isin(['Tc', 'Tc17_Th17', 'Tc_IL13_IL22', 'Th', 'Treg', 'ILC1_3', 'ILC1_NK', 'ILC2'])]\n",
    "adata_reynolds_APC = adata_reynolds[adata_reynolds.obs['full_clustering'].isin(['Macro_1', 'Macro_2', 'Inf_mac', 'DC1', 'DC2', 'LC_1', 'LC_2', 'LC_3', 'Mono_mac', 'MigDC', 'MoDC_1', 'moDC_2', 'mo_DC3'])]"
   ]
  },
  {
   "cell_type": "code",
   "execution_count": null,
   "id": "particular-healing",
   "metadata": {},
   "outputs": [],
   "source": [
    "samples, counts = np.unique(adata_reynolds_fb.obs['sample_id'], return_counts=True)\n",
    "adata_reynolds_fb = adata_reynolds_fb[adata_reynolds_fb.obs['sample_id'].isin(samples[counts > 10])]\n",
    "\n",
    "samples, counts = np.unique(adata_reynolds_ve.obs['sample_id'], return_counts=True)\n",
    "adata_reynolds_ve = adata_reynolds_ve[adata_reynolds_ve.obs['sample_id'].isin(samples[counts > 10])]\n",
    "\n",
    "samples, counts = np.unique(adata_reynolds_per.obs['sample_id'], return_counts=True)\n",
    "adata_reynolds_per = adata_reynolds_per[adata_reynolds_per.obs['sample_id'].isin(samples[counts > 10])]\n",
    "\n",
    "samples, counts = np.unique(adata_reynolds_krt.obs['sample_id'], return_counts=True)\n",
    "adata_reynolds_krt = adata_reynolds_krt[adata_reynolds_krt.obs['sample_id'].isin(samples[counts > 10])]\n",
    "\n",
    "samples, counts = np.unique(adata_reynolds_lymphoid.obs['sample_id'], return_counts=True)\n",
    "adata_reynolds_lymphoid = adata_reynolds_lymphoid[adata_reynolds_lymphoid.obs['sample_id'].isin(samples[counts > 10])]\n",
    "\n",
    "samples, counts = np.unique(adata_reynolds_APC.obs['sample_id'], return_counts=True)\n",
    "adata_reynolds_APC = adata_reynolds_APC[adata_reynolds_APC.obs['sample_id'].isin(samples[counts > 10])]"
   ]
  },
  {
   "cell_type": "code",
   "execution_count": null,
   "id": "separated-spanking",
   "metadata": {},
   "outputs": [],
   "source": [
    "for adata_name in ['adata_reynolds_fb', 'adata_reynolds_ve', 'adata_reynolds_per', 'adata_reynolds_krt',\n",
    "                   'adata_reynolds_lymphoid', 'adata_reynolds_APC']:\n",
    "    sc.pp.filter_genes(eval(adata_name), min_counts=1)\n",
    "    sc.pp.pca(eval(adata_name), random_state=seed, n_comps=30)\n",
    "    sce.pp.bbknn(eval(adata_name), metric='angular', batch_key='sample_id', neighbors_within_batch=2)\n",
    "    tk.tl.triku(eval(adata_name), n_procs=1, random_state=seed, use_adata_knn=True)\n",
    "    sc.tl.umap(eval(adata_name), min_dist=0.05, random_state=seed)\n",
    "    sc.tl.leiden(eval(adata_name), resolution=2.5, random_state=seed)"
   ]
  },
  {
   "cell_type": "code",
   "execution_count": null,
   "id": "official-entrepreneur",
   "metadata": {},
   "outputs": [],
   "source": [
    "adata_reynolds_fb.write_h5ad(reynolds_dir + '/adata_reynolds_fb.h5ad')\n",
    "adata_reynolds_ve.write_h5ad(reynolds_dir + '/adata_reynolds_ve.h5ad')\n",
    "adata_reynolds_per.write_h5ad(reynolds_dir + '/adata_reynolds_per.h5ad')\n",
    "adata_reynolds_krt.write_h5ad(reynolds_dir + '/adata_reynolds_krt.h5ad')\n",
    "adata_reynolds_lymphoid.write_h5ad(reynolds_dir + '/adata_reynolds_lymphoid.h5ad')\n",
    "adata_reynolds_APC.write_h5ad(reynolds_dir + '/adata_reynolds_APC.h5ad')"
   ]
  },
  {
   "cell_type": "code",
   "execution_count": null,
   "id": "future-savannah",
   "metadata": {},
   "outputs": [],
   "source": [
    "adata_reynolds_fb = sc.read(reynolds_dir + '/adata_reynolds_fb.h5ad')\n",
    "adata_reynolds_ve = sc.read(reynolds_dir + '/adata_reynolds_ve.h5ad')\n",
    "adata_reynolds_per = sc.read(reynolds_dir + '/adata_reynolds_per.h5ad')\n",
    "adata_reynolds_krt = sc.read(reynolds_dir + '/adata_reynolds_krt.h5ad')\n",
    "adata_reynolds_lymphoid = sc.read(reynolds_dir + '/adata_reynolds_lymphoid.h5ad')\n",
    "adata_reynolds_APC = sc.read(reynolds_dir + '/adata_reynolds_APC.h5ad')"
   ]
  },
  {
   "cell_type": "markdown",
   "id": "single-copyright",
   "metadata": {},
   "source": [
    "### Fibro"
   ]
  },
  {
   "cell_type": "code",
   "execution_count": null,
   "id": "scientific-liability",
   "metadata": {},
   "outputs": [],
   "source": [
    "assign_cats(adata_reynolds_fb, dict_cats=dict_cats, column_groupby='leiden', intermediate_states=False, min_score=0.55,\n",
    "            key_added='hypoxia_stress')\n",
    "sc.pl.umap(adata_reynolds_fb, color=['full_clustering', 'leiden', 'hypoxia_stress', \n",
    "                                             'hypoxia_stress_Stress', 'hypoxia_stress_Hypoxia'], \n",
    "           cmap=magma, use_raw=False, ncols=3, legend_loc='on data')"
   ]
  },
  {
   "cell_type": "code",
   "execution_count": null,
   "id": "single-lightning",
   "metadata": {},
   "outputs": [],
   "source": [
    "sc.pl.umap(adata_reynolds_fb, color=[i for i in stress_genes if i in adata_reynolds_fb.var_names], cmap=magma, use_raw=False)"
   ]
  },
  {
   "cell_type": "code",
   "execution_count": null,
   "id": "medieval-numbers",
   "metadata": {},
   "outputs": [],
   "source": [
    "sc.pl.umap(adata_reynolds_fb, color=[i for i in hypoxia_genes if i in adata_reynolds_fb.var_names], cmap=magma, use_raw=False)"
   ]
  },
  {
   "cell_type": "markdown",
   "id": "alive-continent",
   "metadata": {},
   "source": [
    "### VE"
   ]
  },
  {
   "cell_type": "code",
   "execution_count": null,
   "id": "seven-transportation",
   "metadata": {},
   "outputs": [],
   "source": [
    "assign_cats(adata_reynolds_ve, dict_cats=dict_cats, column_groupby='leiden', intermediate_states=False, min_score=0.55,\n",
    "            key_added='hypoxia_stress')\n",
    "sc.pl.umap(adata_reynolds_ve, color=['full_clustering', 'leiden', 'hypoxia_stress', \n",
    "                                             'hypoxia_stress_Stress', 'hypoxia_stress_Hypoxia'], \n",
    "           cmap=magma, use_raw=False, ncols=3, legend_loc='on data')"
   ]
  },
  {
   "cell_type": "code",
   "execution_count": null,
   "id": "supposed-grade",
   "metadata": {},
   "outputs": [],
   "source": [
    "sc.pl.umap(adata_reynolds_ve, color=[i for i in stress_genes if i in adata_reynolds_ve.var_names], cmap=magma, use_raw=False)"
   ]
  },
  {
   "cell_type": "code",
   "execution_count": null,
   "id": "auburn-ranch",
   "metadata": {},
   "outputs": [],
   "source": [
    "sc.pl.umap(adata_reynolds_ve, color=[i for i in hypoxia_genes if i in adata_reynolds_ve.var_names], cmap=magma, use_raw=False)"
   ]
  },
  {
   "cell_type": "markdown",
   "id": "stretch-gross",
   "metadata": {},
   "source": [
    "### PER"
   ]
  },
  {
   "cell_type": "code",
   "execution_count": null,
   "id": "moderate-movement",
   "metadata": {},
   "outputs": [],
   "source": [
    "assign_cats(adata_reynolds_per, dict_cats=dict_cats, column_groupby='leiden', intermediate_states=False, min_score=0.55,\n",
    "            key_added='hypoxia_stress')\n",
    "sc.pl.umap(adata_reynolds_per, color=['full_clustering', 'leiden', 'hypoxia_stress', \n",
    "                                             'hypoxia_stress_Stress', 'hypoxia_stress_Hypoxia'], \n",
    "           cmap=magma, use_raw=False, ncols=3, legend_loc='on data')"
   ]
  },
  {
   "cell_type": "code",
   "execution_count": null,
   "id": "imposed-browser",
   "metadata": {},
   "outputs": [],
   "source": [
    "sc.pl.umap(adata_reynolds_per, color=[i for i in stress_genes if i in adata_reynolds_per.var_names], cmap=magma, use_raw=False)"
   ]
  },
  {
   "cell_type": "code",
   "execution_count": null,
   "id": "comparable-auction",
   "metadata": {},
   "outputs": [],
   "source": [
    "sc.pl.umap(adata_reynolds_per, color=[i for i in hypoxia_genes if i in adata_reynolds_per.var_names], cmap=magma, use_raw=False)"
   ]
  },
  {
   "cell_type": "markdown",
   "id": "activated-mustang",
   "metadata": {},
   "source": [
    "### KRT"
   ]
  },
  {
   "cell_type": "code",
   "execution_count": null,
   "id": "extreme-referral",
   "metadata": {},
   "outputs": [],
   "source": [
    "assign_cats(adata_reynolds_krt, dict_cats=dict_cats, column_groupby='leiden', intermediate_states=False, min_score=0.55,\n",
    "            key_added='hypoxia_stress')\n",
    "sc.pl.umap(adata_reynolds_krt, color=['full_clustering', 'leiden', 'hypoxia_stress', \n",
    "                                             'hypoxia_stress_Stress', 'hypoxia_stress_Hypoxia'], \n",
    "           cmap=magma, use_raw=False, ncols=3, legend_loc='on data')"
   ]
  },
  {
   "cell_type": "code",
   "execution_count": null,
   "id": "settled-distance",
   "metadata": {},
   "outputs": [],
   "source": [
    "sc.pl.umap(adata_reynolds_krt, color=[i for i in stress_genes if i in adata_reynolds_krt.var_names], cmap=magma, use_raw=False)"
   ]
  },
  {
   "cell_type": "code",
   "execution_count": null,
   "id": "royal-logistics",
   "metadata": {},
   "outputs": [],
   "source": [
    "sc.pl.umap(adata_reynolds_krt, color=[i for i in hypoxia_genes if i in adata_reynolds_krt.var_names], cmap=magma, use_raw=False)"
   ]
  },
  {
   "cell_type": "markdown",
   "id": "dedicated-worth",
   "metadata": {},
   "source": [
    "### LYMPHOID"
   ]
  },
  {
   "cell_type": "code",
   "execution_count": null,
   "id": "demonstrated-enemy",
   "metadata": {},
   "outputs": [],
   "source": [
    "assign_cats(adata_reynolds_lymphoid, dict_cats=dict_cats, column_groupby='leiden', intermediate_states=False, min_score=0.55,\n",
    "            key_added='hypoxia_stress')\n",
    "sc.pl.umap(adata_reynolds_lymphoid, color=['full_clustering', 'leiden', 'hypoxia_stress', \n",
    "                                             'hypoxia_stress_Stress', 'hypoxia_stress_Hypoxia'], \n",
    "           cmap=magma, use_raw=False, ncols=3, legend_loc='on data')"
   ]
  },
  {
   "cell_type": "code",
   "execution_count": null,
   "id": "convinced-resident",
   "metadata": {},
   "outputs": [],
   "source": [
    "sc.pl.umap(adata_reynolds_lymphoid, color=[i for i in stress_genes if i in adata_reynolds_lymphoid.var_names], cmap=magma, use_raw=False)"
   ]
  },
  {
   "cell_type": "code",
   "execution_count": null,
   "id": "developing-riverside",
   "metadata": {},
   "outputs": [],
   "source": [
    "sc.pl.umap(adata_reynolds_lymphoid, color=[i for i in hypoxia_genes if i in adata_reynolds_lymphoid.var_names], cmap=magma, use_raw=False)"
   ]
  },
  {
   "cell_type": "markdown",
   "id": "coupled-shelf",
   "metadata": {},
   "source": [
    "### APC"
   ]
  },
  {
   "cell_type": "code",
   "execution_count": null,
   "id": "mature-relaxation",
   "metadata": {},
   "outputs": [],
   "source": [
    "assign_cats(adata_reynolds_APC, dict_cats=dict_cats, column_groupby='leiden', intermediate_states=False, min_score=0.55,\n",
    "            key_added='hypoxia_stress')\n",
    "sc.pl.umap(adata_reynolds_APC, color=['full_clustering', 'leiden', 'hypoxia_stress', \n",
    "                                             'hypoxia_stress_Stress', 'hypoxia_stress_Hypoxia'], \n",
    "           cmap=magma, use_raw=False, ncols=3, legend_loc='on data')"
   ]
  },
  {
   "cell_type": "code",
   "execution_count": null,
   "id": "noble-thompson",
   "metadata": {},
   "outputs": [],
   "source": [
    "sc.pl.umap(adata_reynolds_APC, color=[i for i in stress_genes if i in adata_reynolds_APC.var_names], cmap=magma, use_raw=False)"
   ]
  },
  {
   "cell_type": "code",
   "execution_count": null,
   "id": "descending-friendly",
   "metadata": {},
   "outputs": [],
   "source": [
    "sc.pl.umap(adata_reynolds_APC, color=[i for i in hypoxia_genes if i in adata_reynolds_APC.var_names], cmap=magma, use_raw=False)"
   ]
  }
 ],
 "metadata": {
  "kernelspec": {
   "display_name": "Python [conda env:alex-base] *",
   "language": "python",
   "name": "conda-env-alex-base-py"
  },
  "language_info": {
   "codemirror_mode": {
    "name": "ipython",
    "version": 3
   },
   "file_extension": ".py",
   "mimetype": "text/x-python",
   "name": "python",
   "nbconvert_exporter": "python",
   "pygments_lexer": "ipython3",
   "version": "3.8.0"
  }
 },
 "nbformat": 4,
 "nbformat_minor": 5
}
