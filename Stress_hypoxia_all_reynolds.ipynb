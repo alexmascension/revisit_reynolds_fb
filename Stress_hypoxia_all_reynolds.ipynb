{
 "cells": [
  {
   "cell_type": "code",
   "execution_count": null,
   "id": "phantom-picking",
   "metadata": {},
   "outputs": [],
   "source": [
    "# !wget https://raw.githubusercontent.com/alexmascension/revisit_reynolds_fb/master/requirements.txt\n",
    "# !pip install -r requirements.txt"
   ]
  },
  {
   "cell_type": "code",
   "execution_count": null,
   "id": "handy-mozambique",
   "metadata": {},
   "outputs": [],
   "source": [
    "import scanpy as sc\n",
    "import scanpy.external as sce\n",
    "\n",
    "import pandas as pd\n",
    "import numpy as np\n",
    "import os\n",
    "from functools import reduce\n",
    "import gseapy as gp\n",
    "\n",
    "import triku as tk\n",
    "\n",
    "import matplotlib.pyplot as plt\n",
    "import matplotlib as mpl\n",
    "import seaborn as sns\n",
    "\n",
    "import scipy.stats as sts"
   ]
  },
  {
   "cell_type": "code",
   "execution_count": null,
   "id": "national-colorado",
   "metadata": {},
   "outputs": [],
   "source": [
    "# To print versions of imports \n",
    "\n",
    "import types\n",
    "\n",
    "def imports():\n",
    "    for name, val in globals().items():\n",
    "        if isinstance(val, types.ModuleType):\n",
    "            yield val.__name__\n",
    "\n",
    "excludes = ['builtins', 'types', 'sys']\n",
    "\n",
    "imported_modules = [module for module in imports() if module not in excludes]\n",
    "\n",
    "clean_modules = []\n",
    "\n",
    "for module in imported_modules:\n",
    "\n",
    "    sep = '.'  # to handle 'matplotlib.pyplot' cases\n",
    "    rest = module.split(sep, 1)[0]\n",
    "    clean_modules.append(rest)\n",
    "\n",
    "changed_imported_modules = list(set(clean_modules))  # drop duplicates\n",
    "\n",
    "pip_modules = !pip freeze  # you could also use `!conda list` with anaconda\n",
    "\n",
    "for module in pip_modules:\n",
    "    try:\n",
    "        name, version = module.split('==')\n",
    "        if name in changed_imported_modules:\n",
    "            print(name + '\\t' + version)\n",
    "    except:\n",
    "        pass"
   ]
  },
  {
   "cell_type": "code",
   "execution_count": null,
   "id": "velvet-luxembourg",
   "metadata": {},
   "outputs": [],
   "source": [
    "seed = 0"
   ]
  },
  {
   "cell_type": "code",
   "execution_count": null,
   "id": "diverse-correction",
   "metadata": {},
   "outputs": [],
   "source": [
    "# Palettes for UMAP gene expression\n",
    "\n",
    "magma = [plt.get_cmap('magma')(i) for i in np.linspace(0,1, 80)]\n",
    "magma[0] = (0.88, 0.88, 0.88, 1)\n",
    "magma = mpl.colors.LinearSegmentedColormap.from_list(\"\", magma[:65])"
   ]
  },
  {
   "cell_type": "code",
   "execution_count": null,
   "id": "confidential-enough",
   "metadata": {},
   "outputs": [],
   "source": [
    "mpl.rcParams['figure.dpi'] = 150"
   ]
  },
  {
   "cell_type": "code",
   "execution_count": null,
   "id": "plastic-cleanup",
   "metadata": {},
   "outputs": [],
   "source": [
    "def assign_cats(adata, dict_cats, column_groupby='leiden', quantile_gene_sel=0.7, do_return=False, intermediate_states=False, diff=0.05, \n",
    "                key_added='assigned_cats', min_score=50):\n",
    "    \"\"\"\n",
    "    This functions uses a set of genes assigned to different categories so that leiden clusters can be assigned to one of these categories.\n",
    "    For example, to categorize fibroblasts from pericytes, endothelial cells, or cells with high mitochondrial content.\n",
    "    It could be done with each cell individually, but it is better to use clusters to discern the different categories because\n",
    "    the method, although efficient, can sometimes be noisy due to the noisiness of the sc datasets.\n",
    "    \"\"\"\n",
    "    \n",
    "    for cat in list(dict_cats.keys()):\n",
    "        mat_cat = np.zeros((len(adata), len(dict_cats[cat])), dtype=float)\n",
    "        \n",
    "        for gene_idx, gene in enumerate(dict_cats[cat]):\n",
    "            try:\n",
    "                mat_cat[:, gene_idx] = np.asarray(np.dot(adata.obsp['connectivities'], adata[:, gene].X).todense()).ravel() / adata.uns['neighbors']['params']['n_neighbors']\n",
    "                \n",
    "                # We normalize the expression to the maximum (per 98) of expression ** 0.5 to account to some extent for the expression of the gene. \n",
    "                # In the end, a gene highly expressed must account for more than a gene with lower expression\n",
    "                mat_cat[mat_cat[:, gene_idx] > 0, gene_idx] = np.argsort(np.argsort(mat_cat[mat_cat[:, gene_idx] > 0, gene_idx]))\n",
    "                mat_cat[:, gene_idx] /= np.max(mat_cat[:, gene_idx])\n",
    "            except:\n",
    "                print(f'Gene {gene} is not on the list')    \n",
    "            \n",
    "        sum_mat_cat = np.asarray(mat_cat.mean(1)).ravel()       \n",
    "        adata.obs[cat] = sum_mat_cat\n",
    "    \n",
    "    score_per_cluster = adata.obs[[column_groupby] + list(dict_cats.keys())].groupby(column_groupby).quantile(quantile_gene_sel)\n",
    "    max_cat_dict_std = dict(zip(score_per_cluster.std(1).index, score_per_cluster.std(1).values))\n",
    "    adata.obs[f'{key_added}_std'] = [max_cat_dict_std[i] for i in adata.obs[column_groupby]]\n",
    "    max_cat_dict_mean = dict(zip(score_per_cluster.mean(1).index, score_per_cluster.mean(1).values))\n",
    "    adata.obs[f'{key_added}_mean'] = [max_cat_dict_mean[i] for i in adata.obs[column_groupby]]\n",
    "    adata.obs[f'{key_added}_CV'] = adata.obs[f'{key_added}_mean'] / adata.obs[f'{key_added}_std']\n",
    "    \n",
    "    for cat in score_per_cluster.columns:\n",
    "        max_cat_dict = dict(zip(score_per_cluster.index, score_per_cluster[cat].values))\n",
    "        adata.obs[f'{key_added}_{cat}'] = [max_cat_dict[i] for i in adata.obs[column_groupby]]\n",
    "    \n",
    "    if intermediate_states: # For each cluster we will identify which categories are close to the highest one, and merge their names.\n",
    "        list_names_cats_per_cluster = []\n",
    "        for cluster in score_per_cluster.index:\n",
    "            scores_cluster = score_per_cluster.loc[cluster]\n",
    "            scores_cluster = scores_cluster[scores_cluster > scores_cluster.max() - diff]\n",
    "            list_names_cats_per_cluster.append('/'.join(scores_cluster.index))\n",
    "            \n",
    "        inter_cat_dict = dict(zip(score_per_cluster.idxmax(axis=1).index, list_names_cats_per_cluster))\n",
    "        adata.obs[f'{key_added}'] = [str(inter_cat_dict[i]) for i in adata.obs[column_groupby]]\n",
    "    else:\n",
    "        max_cat_dict = dict(zip(score_per_cluster.idxmax(axis=1).index, score_per_cluster.idxmax(axis=1).values))\n",
    "        adata.obs[f'{key_added}'] = [str(max_cat_dict[i]) for i in adata.obs[column_groupby]]\n",
    "    \n",
    "    if do_return:\n",
    "        return score_per_cluster"
   ]
  },
  {
   "cell_type": "markdown",
   "id": "brazilian-innocent",
   "metadata": {},
   "source": [
    "# Reynolds et al. 2020 dataset download and preprocess\n",
    "In this section we are going to download and process the anndata files for the 5 healthy samples (S1 to S5). We are first going to use the processed files from Reynolds et al., because they contain the main fb populations, which we are interested in (FB1-3). With that, we can partially replicate the analysis. However, the data richness is not that good (the UMAPs are more *blooby*) so we preprocess the FASTQ files on our own, and used the processed adatas.\n",
    "\n",
    "Once we have our own anndatas, the preprocessing is the following:\n",
    "* Assign FB types based on Reynolds adatas to our adatas. Some cells will be unassigned.\n",
    "* QC metrics \n",
    "* Filter genes (min counts = 30)\n",
    "* Set raw X\n",
    "* Normalize and log1p\n",
    "* PCA + triku + neighbors + umap + leiden\n",
    "* Use  `assign_cats` to assign leiden clusters to cell populations with selected markers (markers for each dataset may vary!)\n",
    "* Filter adata to retain only fibroblasts\n",
    "* Filter genes to remove 0 counts\n",
    "* PCA + triku + neighbors + umap + leiden [leiden is not used here but may be used later]\n",
    "* Check if strange populations appear and filter them in `assign_cats`, then repeat the last steps."
   ]
  },
  {
   "cell_type": "code",
   "execution_count": null,
   "id": "fourth-buddy",
   "metadata": {},
   "outputs": [],
   "source": [
    "os.getcwd()"
   ]
  },
  {
   "cell_type": "code",
   "execution_count": null,
   "id": "supreme-angel",
   "metadata": {},
   "outputs": [],
   "source": [
    "reynolds_dir = 'reynolds_2020'\n",
    "os.makedirs(reynolds_dir, exist_ok=True)\n",
    "\n",
    "papers_dir = 'papers_genes_bad_quality'\n",
    "os.makedirs(papers_dir, exist_ok=True)"
   ]
  },
  {
   "cell_type": "code",
   "execution_count": null,
   "id": "renewable-cement",
   "metadata": {},
   "outputs": [],
   "source": [
    "stress_genes = np.loadtxt('papers_genes_bad_quality/stress_genes.txt', dtype=str)\n",
    "hypoxia_genes = np.loadtxt('papers_genes_bad_quality/hypoxia_genes.txt', dtype=str)"
   ]
  },
  {
   "cell_type": "markdown",
   "id": "premier-dispute",
   "metadata": {},
   "source": [
    "### Making and saving the fb healthy dataset to zenodo"
   ]
  },
  {
   "cell_type": "code",
   "execution_count": null,
   "id": "shared-junior",
   "metadata": {},
   "outputs": [],
   "source": [
    "adata_reynolds = sc.read('submission_210120.h5ad', backup_url='https://zenodo.org/record/4536165/files/submission_210120.h5ad')\n",
    "adata_reynolds_healthy = adata_reynolds[adata_reynolds.obs['Status'] == 'Healthy']\n",
    "adata_reynolds_disease = adata_reynolds[adata_reynolds.obs['Status'].isin(['Eczema', 'Psoriasis'])]"
   ]
  },
  {
   "cell_type": "markdown",
   "id": "agricultural-drink",
   "metadata": {},
   "source": [
    "# Analysis on healthy populations "
   ]
  },
  {
   "cell_type": "code",
   "execution_count": null,
   "id": "compressed-advertising",
   "metadata": {},
   "outputs": [],
   "source": [
    "for adata_name in ['adata_reynolds_healthy']:\n",
    "    sc.pp.filter_genes(eval(adata_name), min_counts=30)\n",
    "    sc.pp.normalize_per_cell(eval(adata_name))\n",
    "    sc.pp.log1p(eval(adata_name))\n",
    "    sc.pp.highly_variable_genes(eval(adata_name))\n",
    "    sc.pp.pca(eval(adata_name), random_state=seed, n_comps=30)\n",
    "    sce.pp.bbknn(eval(adata_name), metric='angular', batch_key='sample_id', neighbors_within_batch=2)\n",
    "    sc.tl.umap(eval(adata_name), min_dist=0.05, random_state=seed)"
   ]
  },
  {
   "cell_type": "code",
   "execution_count": null,
   "id": "operating-portrait",
   "metadata": {},
   "outputs": [],
   "source": [
    "sc.pl.umap(adata_reynolds_healthy, color=['full_clustering'])"
   ]
  },
  {
   "cell_type": "code",
   "execution_count": null,
   "id": "bound-special",
   "metadata": {},
   "outputs": [],
   "source": [
    "adata_reynolds_healthy_fb = adata_reynolds_healthy[adata_reynolds_healthy.obs['full_clustering'].isin(['F1', 'F2', 'F3'])]\n",
    "adata_reynolds_healthy_ve = adata_reynolds_healthy[adata_reynolds_healthy.obs['full_clustering'].isin(['VE1', 'VE2', 'VE3'])]\n",
    "adata_reynolds_healthy_per = adata_reynolds_healthy[adata_reynolds_healthy.obs['full_clustering'].isin(['Pericyte_1', 'Pericyte_2'])]\n",
    "adata_reynolds_healthy_krt = adata_reynolds_healthy[adata_reynolds_healthy.obs['full_clustering'].isin(['Differentiated_KC', 'Differentiated_KC*', 'Undifferentiated_KC'])]\n",
    "adata_reynolds_healthy_lymphoid = adata_reynolds_healthy[adata_reynolds_healthy.obs['full_clustering'].isin(['Tc', 'Tc17_Th17', 'Tc_IL13_IL22', 'Th', 'Treg', 'ILC1_3', 'ILC1_NK', 'ILC2'])]\n",
    "adata_reynolds_healthy_APC = adata_reynolds_healthy[adata_reynolds_healthy.obs['full_clustering'].isin(['Macro_1', 'Macro_2', 'Inf_mac', 'DC1', 'DC2', 'LC_1', 'LC_2', 'LC_3', 'Mono_mac', 'MigDC', 'MoDC_1', 'moDC_2', 'mo_DC3'])]"
   ]
  },
  {
   "cell_type": "code",
   "execution_count": null,
   "id": "fossil-manufacturer",
   "metadata": {},
   "outputs": [],
   "source": [
    "samples, counts = np.unique(adata_reynolds_healthy_fb.obs['sample_id'], return_counts=True)\n",
    "adata_reynolds_healthy_fb = adata_reynolds_healthy_fb[adata_reynolds_healthy_fb.obs['sample_id'].isin(samples[counts > 10])]\n",
    "\n",
    "samples, counts = np.unique(adata_reynolds_healthy_ve.obs['sample_id'], return_counts=True)\n",
    "adata_reynolds_healthy_ve = adata_reynolds_healthy_ve[adata_reynolds_healthy_ve.obs['sample_id'].isin(samples[counts > 10])]\n",
    "\n",
    "samples, counts = np.unique(adata_reynolds_healthy_per.obs['sample_id'], return_counts=True)\n",
    "adata_reynolds_healthy_per = adata_reynolds_healthy_per[adata_reynolds_healthy_per.obs['sample_id'].isin(samples[counts > 10])]\n",
    "\n",
    "samples, counts = np.unique(adata_reynolds_healthy_krt.obs['sample_id'], return_counts=True)\n",
    "adata_reynolds_healthy_krt = adata_reynolds_healthy_krt[adata_reynolds_healthy_krt.obs['sample_id'].isin(samples[counts > 10])]\n",
    "\n",
    "samples, counts = np.unique(adata_reynolds_healthy_lymphoid.obs['sample_id'], return_counts=True)\n",
    "adata_reynolds_healthy_lymphoid = adata_reynolds_healthy_lymphoid[adata_reynolds_healthy_lymphoid.obs['sample_id'].isin(samples[counts > 10])]\n",
    "\n",
    "samples, counts = np.unique(adata_reynolds_healthy_APC.obs['sample_id'], return_counts=True)\n",
    "adata_reynolds_healthy_APC = adata_reynolds_healthy_APC[adata_reynolds_healthy_APC.obs['sample_id'].isin(samples[counts > 10])]"
   ]
  },
  {
   "cell_type": "code",
   "execution_count": null,
   "id": "adopted-makeup",
   "metadata": {},
   "outputs": [],
   "source": [
    "for adata_name in ['adata_reynolds_healthy_fb', 'adata_reynolds_healthy_ve', 'adata_reynolds_healthy_per', \n",
    "                   'adata_reynolds_healthy_krt', 'adata_reynolds_healthy_lymphoid', 'adata_reynolds_healthy_APC']:\n",
    "    sc.pp.filter_genes(eval(adata_name), min_counts=1)\n",
    "    sc.pp.pca(eval(adata_name), random_state=seed, n_comps=30)\n",
    "    sce.pp.bbknn(eval(adata_name), metric='angular', batch_key='sample_id', neighbors_within_batch=2)\n",
    "    tk.tl.triku(eval(adata_name), n_procs=1, random_state=seed, use_adata_knn=True)\n",
    "    sc.tl.umap(eval(adata_name), min_dist=0.05, random_state=seed)\n",
    "    sc.tl.leiden(eval(adata_name), resolution=1.7, random_state=seed)"
   ]
  },
  {
   "cell_type": "code",
   "execution_count": null,
   "id": "opening-parliament",
   "metadata": {},
   "outputs": [],
   "source": [
    "for adata_name in ['adata_reynolds_healthy_fb', 'adata_reynolds_healthy_ve', 'adata_reynolds_healthy_per', \n",
    "                   'adata_reynolds_healthy_krt', 'adata_reynolds_healthy_lymphoid', 'adata_reynolds_healthy_APC']:\n",
    "    sc.tl.leiden(eval(adata_name), resolution=1.7, random_state=seed)"
   ]
  },
  {
   "cell_type": "code",
   "execution_count": null,
   "id": "varying-composition",
   "metadata": {},
   "outputs": [],
   "source": [
    "adata_reynolds_healthy_fb.write_h5ad(reynolds_dir + '/adata_reynolds_healthy_fb.h5ad')\n",
    "adata_reynolds_healthy_ve.write_h5ad(reynolds_dir + '/adata_reynolds_healthy_ve.h5ad')\n",
    "adata_reynolds_healthy_per.write_h5ad(reynolds_dir + '/adata_reynolds_healthy_per.h5ad')\n",
    "adata_reynolds_healthy_krt.write_h5ad(reynolds_dir + '/adata_reynolds_healthy_krt.h5ad')\n",
    "adata_reynolds_healthy_lymphoid.write_h5ad(reynolds_dir + '/adata_reynolds_healthy_lymphoid.h5ad')\n",
    "adata_reynolds_healthy_APC.write_h5ad(reynolds_dir + '/adata_reynolds_healthy_APC.h5ad')"
   ]
  },
  {
   "cell_type": "code",
   "execution_count": null,
   "id": "prescription-optimum",
   "metadata": {},
   "outputs": [],
   "source": [
    "adata_reynolds_healthy_fb = sc.read(reynolds_dir + '/adata_reynolds_healthy_fb.h5ad')\n",
    "adata_reynolds_healthy_ve = sc.read(reynolds_dir + '/adata_reynolds_healthy_ve.h5ad')\n",
    "adata_reynolds_healthy_per = sc.read(reynolds_dir + '/adata_reynolds_healthy_per.h5ad')\n",
    "adata_reynolds_healthy_krt = sc.read(reynolds_dir + '/adata_reynolds_healthy_krt.h5ad')\n",
    "adata_reynolds_healthy_lymphoid = sc.read(reynolds_dir + '/adata_reynolds_healthy_lymphoid.h5ad')\n",
    "adata_reynolds_healthy_APC = sc.read(reynolds_dir + '/adata_reynolds_healthy_APC.h5ad')"
   ]
  },
  {
   "cell_type": "code",
   "execution_count": null,
   "id": "angry-influence",
   "metadata": {},
   "outputs": [],
   "source": [
    "dict_cats = {'Stress': stress_genes, 'Hypoxia': hypoxia_genes}"
   ]
  },
  {
   "cell_type": "markdown",
   "id": "rubber-hepatitis",
   "metadata": {},
   "source": [
    "### Fibro"
   ]
  },
  {
   "cell_type": "code",
   "execution_count": null,
   "id": "hollywood-edwards",
   "metadata": {},
   "outputs": [],
   "source": [
    "assign_cats(adata_reynolds_healthy_fb, dict_cats=dict_cats, column_groupby='leiden', intermediate_states=False, min_score=0.55,\n",
    "            key_added='hypoxia_stress')\n",
    "sc.pl.umap(adata_reynolds_healthy_fb, color=['full_clustering', 'Status', 'leiden', 'hypoxia_stress'], \n",
    "           cmap=magma, use_raw=False, legend_loc='on data')"
   ]
  },
  {
   "cell_type": "code",
   "execution_count": null,
   "id": "coupled-fishing",
   "metadata": {},
   "outputs": [],
   "source": [
    "sc.pl.umap(adata_reynolds_healthy_fb, color=stress_genes, cmap=magma, use_raw=False)"
   ]
  },
  {
   "cell_type": "code",
   "execution_count": null,
   "id": "apart-cemetery",
   "metadata": {},
   "outputs": [],
   "source": [
    "sc.pl.umap(adata_reynolds_healthy_fb, color=[i for i in hypoxia_genes if i in adata_reynolds_healthy_fb.var_names], cmap=magma, use_raw=False)"
   ]
  },
  {
   "cell_type": "markdown",
   "id": "operational-price",
   "metadata": {},
   "source": [
    "### VE"
   ]
  },
  {
   "cell_type": "code",
   "execution_count": null,
   "id": "italian-decimal",
   "metadata": {},
   "outputs": [],
   "source": [
    "assign_cats(adata_reynolds_healthy_ve, dict_cats=dict_cats, column_groupby='leiden', intermediate_states=False, min_score=0.55,\n",
    "            key_added='hypoxia_stress')\n",
    "sc.pl.umap(adata_reynolds_healthy_ve, color=['full_clustering', 'Status', 'leiden', 'hypoxia_stress'], \n",
    "           cmap=magma, use_raw=False, legend_loc='on data')"
   ]
  },
  {
   "cell_type": "code",
   "execution_count": null,
   "id": "specified-cosmetic",
   "metadata": {},
   "outputs": [],
   "source": [
    "sc.pl.umap(adata_reynolds_healthy_ve, color=[i for i in stress_genes if i in adata_reynolds_healthy_ve.var_names], cmap=magma, use_raw=False)"
   ]
  },
  {
   "cell_type": "code",
   "execution_count": null,
   "id": "strong-present",
   "metadata": {},
   "outputs": [],
   "source": [
    "sc.pl.umap(adata_reynolds_healthy_ve, color=[i for i in hypoxia_genes if i in adata_reynolds_healthy_ve.var_names], cmap=magma, use_raw=False)"
   ]
  },
  {
   "cell_type": "markdown",
   "id": "minute-minneapolis",
   "metadata": {},
   "source": [
    "### PER"
   ]
  },
  {
   "cell_type": "code",
   "execution_count": null,
   "id": "architectural-kuwait",
   "metadata": {},
   "outputs": [],
   "source": [
    "assign_cats(adata_reynolds_healthy_per, dict_cats=dict_cats, column_groupby='leiden', intermediate_states=False, min_score=0.55,\n",
    "            key_added='hypoxia_stress')\n",
    "sc.pl.umap(adata_reynolds_healthy_per, color=['full_clustering', 'Status', 'leiden', 'hypoxia_stress'], \n",
    "           cmap=magma, use_raw=False, legend_loc='on data')"
   ]
  },
  {
   "cell_type": "code",
   "execution_count": null,
   "id": "architectural-driver",
   "metadata": {},
   "outputs": [],
   "source": [
    "sc.pl.umap(adata_reynolds_healthy_per, color=['full_clustering', 'Status', 'leiden', 'hypoxia_stress'], cmap=magma, use_raw=False, legend_loc='on data')"
   ]
  },
  {
   "cell_type": "code",
   "execution_count": null,
   "id": "grave-surprise",
   "metadata": {},
   "outputs": [],
   "source": [
    "sc.pl.umap(adata_reynolds_healthy_per, color=[i for i in stress_genes if i in adata_reynolds_healthy_per.var_names], cmap=magma, use_raw=False)"
   ]
  },
  {
   "cell_type": "markdown",
   "id": "stable-swift",
   "metadata": {},
   "source": [
    "### KRT"
   ]
  },
  {
   "cell_type": "code",
   "execution_count": null,
   "id": "retained-pride",
   "metadata": {},
   "outputs": [],
   "source": [
    "assign_cats(adata_reynolds_healthy_krt, dict_cats=dict_cats, column_groupby='leiden', intermediate_states=False, min_score=0.55,\n",
    "            key_added='hypoxia_stress')\n",
    "sc.pl.umap(adata_reynolds_healthy_krt, color=['full_clustering', 'Status', 'leiden', 'hypoxia_stress'], \n",
    "           cmap=magma, use_raw=False, legend_loc='on data')"
   ]
  },
  {
   "cell_type": "code",
   "execution_count": null,
   "id": "ongoing-heaven",
   "metadata": {},
   "outputs": [],
   "source": [
    "sc.pl.umap(adata_reynolds_healthy_krt, color=['full_clustering', 'Status', 'leiden', 'hypoxia_stress'], cmap=magma, use_raw=False, legend_loc='on data')"
   ]
  },
  {
   "cell_type": "markdown",
   "id": "decimal-motor",
   "metadata": {},
   "source": [
    "### LYMPHOID"
   ]
  },
  {
   "cell_type": "code",
   "execution_count": null,
   "id": "expressed-column",
   "metadata": {},
   "outputs": [],
   "source": [
    "assign_cats(adata_reynolds_healthy_lymphoid, dict_cats=dict_cats, column_groupby='leiden', intermediate_states=False, min_score=0.55,\n",
    "            key_added='hypoxia_stress')\n",
    "sc.pl.umap(adata_reynolds_healthy_lymphoid, color=['full_clustering', 'Status', 'leiden', 'hypoxia_stress'], \n",
    "           cmap=magma, use_raw=False, legend_loc='on data')"
   ]
  },
  {
   "cell_type": "markdown",
   "id": "delayed-lease",
   "metadata": {},
   "source": [
    "### APC"
   ]
  },
  {
   "cell_type": "code",
   "execution_count": null,
   "id": "confirmed-killer",
   "metadata": {},
   "outputs": [],
   "source": [
    "assign_cats(adata_reynolds_healthy_APC, dict_cats=dict_cats, column_groupby='leiden', intermediate_states=False, min_score=0.55,\n",
    "            key_added='hypoxia_stress')\n",
    "sc.pl.umap(adata_reynolds_healthy_APC, color=['full_clustering', 'Status', 'leiden', 'hypoxia_stress'], \n",
    "           cmap=magma, use_raw=False, legend_loc='on data')"
   ]
  },
  {
   "cell_type": "markdown",
   "id": "running-temple",
   "metadata": {},
   "source": [
    "# Analysis on diseased populations "
   ]
  },
  {
   "cell_type": "code",
   "execution_count": null,
   "id": "endangered-operation",
   "metadata": {},
   "outputs": [],
   "source": [
    "for adata_name in ['adata_reynolds_disease']:\n",
    "    sc.pp.filter_genes(eval(adata_name), min_counts=30)\n",
    "    sc.pp.normalize_per_cell(eval(adata_name))\n",
    "    sc.pp.log1p(eval(adata_name))\n",
    "    sc.pp.highly_variable_genes(eval(adata_name))\n",
    "    sc.pp.pca(eval(adata_name), random_state=seed, n_comps=30)\n",
    "    sce.pp.bbknn(eval(adata_name), metric='angular', batch_key='sample_id', neighbors_within_batch=2)\n",
    "    sc.tl.umap(eval(adata_name), min_dist=0.05, random_state=seed)"
   ]
  },
  {
   "cell_type": "code",
   "execution_count": null,
   "id": "distinguished-chamber",
   "metadata": {},
   "outputs": [],
   "source": [
    "sc.pl.umap(adata_reynolds_disease, color=['full_clustering'])"
   ]
  },
  {
   "cell_type": "code",
   "execution_count": null,
   "id": "contemporary-negotiation",
   "metadata": {},
   "outputs": [],
   "source": [
    "adata_reynolds_disease_fb = adata_reynolds_disease[adata_reynolds_disease.obs['full_clustering'].isin(['F1', 'F2', 'F3'])]\n",
    "adata_reynolds_disease_ve = adata_reynolds_disease[adata_reynolds_disease.obs['full_clustering'].isin(['VE1', 'VE2', 'VE3'])]\n",
    "adata_reynolds_disease_per = adata_reynolds_disease[adata_reynolds_disease.obs['full_clustering'].isin(['Pericyte_1', 'Pericyte_2'])]\n",
    "adata_reynolds_disease_krt = adata_reynolds_disease[adata_reynolds_disease.obs['full_clustering'].isin(['Differentiated_KC', 'Differentiated_KC*', 'Undifferentiated_KC'])]\n",
    "adata_reynolds_disease_lymphoid = adata_reynolds_disease[adata_reynolds_disease.obs['full_clustering'].isin(['Tc', 'Tc17_Th17', 'Tc_IL13_IL22', 'Th', 'Treg', 'ILC1_3', 'ILC1_NK', 'ILC2'])]\n",
    "adata_reynolds_disease_APC = adata_reynolds_disease[adata_reynolds_disease.obs['full_clustering'].isin(['Macro_1', 'Macro_2', 'Inf_mac', 'DC1', 'DC2', 'LC_1', 'LC_2', 'LC_3', 'Mono_mac', 'MigDC', 'MoDC_1', 'moDC_2', 'mo_DC3'])]"
   ]
  },
  {
   "cell_type": "code",
   "execution_count": null,
   "id": "express-swiss",
   "metadata": {},
   "outputs": [],
   "source": [
    "samples, counts = np.unique(adata_reynolds_disease_fb.obs['sample_id'], return_counts=True)\n",
    "adata_reynolds_disease_fb = adata_reynolds_disease_fb[adata_reynolds_disease_fb.obs['sample_id'].isin(samples[counts > 10])]\n",
    "\n",
    "samples, counts = np.unique(adata_reynolds_disease_ve.obs['sample_id'], return_counts=True)\n",
    "adata_reynolds_disease_ve = adata_reynolds_disease_ve[adata_reynolds_disease_ve.obs['sample_id'].isin(samples[counts > 10])]\n",
    "\n",
    "samples, counts = np.unique(adata_reynolds_disease_per.obs['sample_id'], return_counts=True)\n",
    "adata_reynolds_disease_per = adata_reynolds_disease_per[adata_reynolds_disease_per.obs['sample_id'].isin(samples[counts > 10])]\n",
    "\n",
    "samples, counts = np.unique(adata_reynolds_disease_krt.obs['sample_id'], return_counts=True)\n",
    "adata_reynolds_disease_krt = adata_reynolds_disease_krt[adata_reynolds_disease_krt.obs['sample_id'].isin(samples[counts > 10])]\n",
    "\n",
    "samples, counts = np.unique(adata_reynolds_disease_lymphoid.obs['sample_id'], return_counts=True)\n",
    "adata_reynolds_disease_lymphoid = adata_reynolds_disease_lymphoid[adata_reynolds_disease_lymphoid.obs['sample_id'].isin(samples[counts > 10])]\n",
    "\n",
    "samples, counts = np.unique(adata_reynolds_disease_APC.obs['sample_id'], return_counts=True)\n",
    "adata_reynolds_disease_APC = adata_reynolds_disease_APC[adata_reynolds_disease_APC.obs['sample_id'].isin(samples[counts > 10])]"
   ]
  },
  {
   "cell_type": "code",
   "execution_count": null,
   "id": "architectural-burner",
   "metadata": {},
   "outputs": [],
   "source": [
    "for adata_name in ['adata_reynolds_disease_fb', 'adata_reynolds_disease_ve', 'adata_reynolds_disease_per', \n",
    "                   'adata_reynolds_disease_krt', 'adata_reynolds_disease_lymphoid', 'adata_reynolds_disease_APC']:\n",
    "    sc.pp.filter_genes(eval(adata_name), min_counts=1)\n",
    "    sc.pp.pca(eval(adata_name), random_state=seed, n_comps=30)\n",
    "    sce.pp.bbknn(eval(adata_name), metric='angular', batch_key='sample_id', neighbors_within_batch=2)\n",
    "    tk.tl.triku(eval(adata_name), n_procs=1, random_state=seed, use_adata_knn=True)\n",
    "    sc.tl.umap(eval(adata_name), min_dist=0.05, random_state=seed)\n",
    "    sc.tl.leiden(eval(adata_name), resolution=1.7, random_state=seed)"
   ]
  },
  {
   "cell_type": "code",
   "execution_count": null,
   "id": "closing-history",
   "metadata": {},
   "outputs": [],
   "source": [
    "adata_reynolds_disease_fb.write_h5ad(reynolds_dir + '/adata_reynolds_disease_fb.h5ad')\n",
    "adata_reynolds_disease_ve.write_h5ad(reynolds_dir + '/adata_reynolds_disease_ve.h5ad')\n",
    "adata_reynolds_disease_per.write_h5ad(reynolds_dir + '/adata_reynolds_disease_per.h5ad')\n",
    "adata_reynolds_disease_krt.write_h5ad(reynolds_dir + '/adata_reynolds_disease_krt.h5ad')\n",
    "adata_reynolds_disease_lymphoid.write_h5ad(reynolds_dir + '/adata_reynolds_disease_lymphoid.h5ad')\n",
    "adata_reynolds_disease_APC.write_h5ad(reynolds_dir + '/adata_reynolds_disease_APC.h5ad')"
   ]
  },
  {
   "cell_type": "code",
   "execution_count": null,
   "id": "ecological-fabric",
   "metadata": {},
   "outputs": [],
   "source": [
    "adata_reynolds_disease_fb = sc.read(reynolds_dir + '/adata_reynolds_disease_fb.h5ad')\n",
    "adata_reynolds_disease_ve = sc.read(reynolds_dir + '/adata_reynolds_disease_ve.h5ad')\n",
    "adata_reynolds_disease_per = sc.read(reynolds_dir + '/adata_reynolds_disease_per.h5ad')\n",
    "adata_reynolds_disease_krt = sc.read(reynolds_dir + '/adata_reynolds_disease_krt.h5ad')\n",
    "adata_reynolds_disease_lymphoid = sc.read(reynolds_dir + '/adata_reynolds_disease_lymphoid.h5ad')\n",
    "adata_reynolds_disease_APC = sc.read(reynolds_dir + '/adata_reynolds_disease_APC.h5ad')"
   ]
  },
  {
   "cell_type": "markdown",
   "id": "negative-church",
   "metadata": {},
   "source": [
    "### Fibro"
   ]
  },
  {
   "cell_type": "code",
   "execution_count": null,
   "id": "canadian-terry",
   "metadata": {},
   "outputs": [],
   "source": [
    "assign_cats(adata_reynolds_disease_fb, dict_cats=dict_cats, column_groupby='leiden', intermediate_states=False, min_score=0.55,\n",
    "            key_added='hypoxia_stress')\n",
    "sc.pl.umap(adata_reynolds_disease_fb, color=['full_clustering', 'Status', 'leiden', 'hypoxia_stress'], \n",
    "           cmap=magma, use_raw=False, legend_loc='on data')"
   ]
  },
  {
   "cell_type": "code",
   "execution_count": null,
   "id": "enhanced-turner",
   "metadata": {},
   "outputs": [],
   "source": [
    "sc.pl.umap(adata_reynolds_disease_fb, color=[i for i in stress_genes if i in adata_reynolds_disease_fb.var_names], cmap=magma, use_raw=False)"
   ]
  },
  {
   "cell_type": "code",
   "execution_count": null,
   "id": "concerned-hours",
   "metadata": {},
   "outputs": [],
   "source": [
    "sc.pl.umap(adata_reynolds_disease_fb, color=[i for i in hypoxia_genes if i in adata_reynolds_disease_fb.var_names], cmap=magma, use_raw=False)"
   ]
  },
  {
   "cell_type": "markdown",
   "id": "powered-passport",
   "metadata": {},
   "source": [
    "### VE"
   ]
  },
  {
   "cell_type": "code",
   "execution_count": null,
   "id": "reverse-aviation",
   "metadata": {},
   "outputs": [],
   "source": [
    "assign_cats(adata_reynolds_disease_ve, dict_cats=dict_cats, column_groupby='leiden', intermediate_states=False, min_score=0.55,\n",
    "            key_added='hypoxia_stress')\n",
    "sc.pl.umap(adata_reynolds_disease_ve, color=['full_clustering', 'Status', 'leiden', 'hypoxia_stress'], \n",
    "           cmap=magma, use_raw=False, legend_loc='on data')"
   ]
  },
  {
   "cell_type": "code",
   "execution_count": null,
   "id": "hungry-microphone",
   "metadata": {},
   "outputs": [],
   "source": [
    "sc.pl.umap(adata_reynolds_disease_ve, color=[i for i in stress_genes if i in adata_reynolds_disease_ve.var_names], cmap=magma, use_raw=False)"
   ]
  },
  {
   "cell_type": "code",
   "execution_count": null,
   "id": "young-assumption",
   "metadata": {},
   "outputs": [],
   "source": [
    "sc.pl.umap(adata_reynolds_disease_ve, color=[i for i in hypoxia_genes if i in adata_reynolds_disease_ve.var_names], cmap=magma, use_raw=False)"
   ]
  },
  {
   "cell_type": "markdown",
   "id": "violent-domestic",
   "metadata": {},
   "source": [
    "### PER"
   ]
  },
  {
   "cell_type": "code",
   "execution_count": null,
   "id": "varying-capitol",
   "metadata": {},
   "outputs": [],
   "source": [
    "assign_cats(adata_reynolds_disease_per, dict_cats=dict_cats, column_groupby='leiden', intermediate_states=False, min_score=0.55,\n",
    "            key_added='hypoxia_stress')\n",
    "sc.pl.umap(adata_reynolds_disease_per, color=['full_clustering', 'Status', 'leiden', 'hypoxia_stress'], \n",
    "           cmap=magma, use_raw=False, legend_loc='on data')"
   ]
  },
  {
   "cell_type": "code",
   "execution_count": null,
   "id": "alpha-board",
   "metadata": {},
   "outputs": [],
   "source": [
    "sc.pl.umap(adata_reynolds_disease_per, color=[i for i in stress_genes if i in adata_reynolds_disease_per.var_names], cmap=magma, use_raw=False)"
   ]
  },
  {
   "cell_type": "code",
   "execution_count": null,
   "id": "professional-colombia",
   "metadata": {},
   "outputs": [],
   "source": [
    "sc.pl.umap(adata_reynolds_disease_per, color=[i for i in hypoxia_genes if i in adata_reynolds_disease_per.var_names], cmap=magma, use_raw=False)"
   ]
  },
  {
   "cell_type": "markdown",
   "id": "hispanic-oliver",
   "metadata": {},
   "source": [
    "### KRT"
   ]
  },
  {
   "cell_type": "code",
   "execution_count": null,
   "id": "visible-recommendation",
   "metadata": {},
   "outputs": [],
   "source": [
    "assign_cats(adata_reynolds_disease_krt, dict_cats=dict_cats, column_groupby='leiden', intermediate_states=False, min_score=0.55,\n",
    "            key_added='hypoxia_stress')\n",
    "sc.pl.umap(adata_reynolds_disease_krt, color=['full_clustering', 'Status', 'leiden', 'hypoxia_stress'], \n",
    "           cmap=magma, use_raw=False, legend_loc='on data')"
   ]
  },
  {
   "cell_type": "code",
   "execution_count": null,
   "id": "acoustic-projector",
   "metadata": {},
   "outputs": [],
   "source": [
    "sc.pl.umap(adata_reynolds_disease_krt, color=[i for i in stress_genes if i in adata_reynolds_disease_krt.var_names], cmap=magma, use_raw=False)"
   ]
  },
  {
   "cell_type": "code",
   "execution_count": null,
   "id": "collected-outside",
   "metadata": {},
   "outputs": [],
   "source": [
    "sc.pl.umap(adata_reynolds_disease_krt, color=[i for i in hypoxia_genes if i in adata_reynolds_disease_krt.var_names], cmap=magma, use_raw=False)"
   ]
  },
  {
   "cell_type": "markdown",
   "id": "swedish-romania",
   "metadata": {},
   "source": [
    "### LYMPHOID"
   ]
  },
  {
   "cell_type": "code",
   "execution_count": null,
   "id": "developed-thesis",
   "metadata": {},
   "outputs": [],
   "source": [
    "assign_cats(adata_reynolds_healthy_lymphoid, dict_cats=dict_cats, column_groupby='leiden', intermediate_states=False, min_score=0.55,\n",
    "            key_added='hypoxia_stress')\n",
    "sc.pl.umap(adata_reynolds_healthy_lymphoid, color=['full_clustering', 'Status', 'leiden', 'hypoxia_stress'], \n",
    "           cmap=magma, use_raw=False, legend_loc='on data')"
   ]
  },
  {
   "cell_type": "code",
   "execution_count": null,
   "id": "czech-thesis",
   "metadata": {},
   "outputs": [],
   "source": [
    "sc.pl.umap(adata_reynolds_healthy_lymphoid, color=[i for i in stress_genes if i in adata_reynolds_healthy_lymphoid.var_names], cmap=magma, use_raw=False)"
   ]
  },
  {
   "cell_type": "code",
   "execution_count": null,
   "id": "formal-kuwait",
   "metadata": {},
   "outputs": [],
   "source": [
    "sc.pl.umap(adata_reynolds_healthy_lymphoid, color=[i for i in hypoxia_genes if i in adata_reynolds_healthy_lymphoid.var_names], cmap=magma, use_raw=False)"
   ]
  },
  {
   "cell_type": "markdown",
   "id": "turned-constant",
   "metadata": {},
   "source": [
    "### APC"
   ]
  },
  {
   "cell_type": "code",
   "execution_count": null,
   "id": "confident-detection",
   "metadata": {},
   "outputs": [],
   "source": [
    "assign_cats(adata_reynolds_healthy_APC, dict_cats=dict_cats, column_groupby='leiden', intermediate_states=False, min_score=0.55,\n",
    "            key_added='hypoxia_stress')\n",
    "sc.pl.umap(adata_reynolds_healthy_APC, color=['full_clustering', 'Status', 'leiden', 'hypoxia_stress'], \n",
    "           cmap=magma, use_raw=False, legend_loc='on data')"
   ]
  },
  {
   "cell_type": "code",
   "execution_count": null,
   "id": "nasty-appeal",
   "metadata": {},
   "outputs": [],
   "source": [
    "sc.pl.umap(adata_reynolds_healthy_APC, color=[i for i in stress_genes if i in adata_reynolds_healthy_APC.var_names], cmap=magma, use_raw=False)"
   ]
  },
  {
   "cell_type": "code",
   "execution_count": null,
   "id": "responsible-behalf",
   "metadata": {},
   "outputs": [],
   "source": [
    "sc.pl.umap(adata_reynolds_healthy_APC, color=[i for i in hypoxia_genes if i in adata_reynolds_healthy_APC.var_names], cmap=magma, use_raw=False)"
   ]
  },
  {
   "cell_type": "markdown",
   "id": "mediterranean-hotel",
   "metadata": {},
   "source": [
    "# Analysis on all populations "
   ]
  },
  {
   "cell_type": "code",
   "execution_count": null,
   "id": "copyrighted-closer",
   "metadata": {},
   "outputs": [],
   "source": [
    "for adata_name in ['adata_reynolds']:\n",
    "    sc.pp.filter_genes(eval(adata_name), min_counts=30)\n",
    "    sc.pp.normalize_per_cell(eval(adata_name))\n",
    "    sc.pp.log1p(eval(adata_name))\n",
    "    sc.pp.highly_variable_genes(eval(adata_name))\n",
    "    sc.pp.pca(eval(adata_name), random_state=seed, n_comps=30)\n",
    "    sce.pp.bbknn(eval(adata_name), metric='angular', batch_key='sample_id', neighbors_within_batch=2)\n",
    "    sc.tl.umap(eval(adata_name), min_dist=0.05, random_state=seed)"
   ]
  },
  {
   "cell_type": "code",
   "execution_count": null,
   "id": "selective-michigan",
   "metadata": {},
   "outputs": [],
   "source": [
    "sc.pl.umap(adata_reynolds, color=['full_clustering'])"
   ]
  },
  {
   "cell_type": "code",
   "execution_count": null,
   "id": "precious-parking",
   "metadata": {},
   "outputs": [],
   "source": [
    "sc.pl.umap(adata_reynolds, color=['BNIP3', 'BNIP3L'], cmap=magma, use_raw=False)"
   ]
  },
  {
   "cell_type": "code",
   "execution_count": null,
   "id": "signal-desktop",
   "metadata": {},
   "outputs": [],
   "source": [
    "adata_reynolds_fb = adata_reynolds[adata_reynolds.obs['full_clustering'].isin(['F1', 'F2', 'F3'])]\n",
    "adata_reynolds_ve = adata_reynolds[adata_reynolds.obs['full_clustering'].isin(['VE1', 'VE2', 'VE3'])]\n",
    "adata_reynolds_per = adata_reynolds[adata_reynolds.obs['full_clustering'].isin(['Pericyte_1', 'Pericyte_2'])]\n",
    "adata_reynolds_krt = adata_reynolds[adata_reynolds.obs['full_clustering'].isin(['Differentiated_KC', 'Differentiated_KC*', 'Undifferentiated_KC'])]\n",
    "adata_reynolds_lymphoid = adata_reynolds[adata_reynolds.obs['full_clustering'].isin(['Tc', 'Tc17_Th17', 'Tc_IL13_IL22', 'Th', 'Treg', 'ILC1_3', 'ILC1_NK', 'ILC2'])]\n",
    "adata_reynolds_APC = adata_reynolds[adata_reynolds.obs['full_clustering'].isin(['Macro_1', 'Macro_2', 'Inf_mac', 'DC1', 'DC2', 'LC_1', 'LC_2', 'LC_3', 'Mono_mac', 'MigDC', 'MoDC_1', 'moDC_2', 'mo_DC3'])]"
   ]
  },
  {
   "cell_type": "code",
   "execution_count": null,
   "id": "suffering-checklist",
   "metadata": {},
   "outputs": [],
   "source": [
    "samples, counts = np.unique(adata_reynolds_fb.obs['sample_id'], return_counts=True)\n",
    "adata_reynolds_fb = adata_reynolds_fb[adata_reynolds_fb.obs['sample_id'].isin(samples[counts > 10])]\n",
    "\n",
    "samples, counts = np.unique(adata_reynolds_ve.obs['sample_id'], return_counts=True)\n",
    "adata_reynolds_ve = adata_reynolds_ve[adata_reynolds_ve.obs['sample_id'].isin(samples[counts > 10])]\n",
    "\n",
    "samples, counts = np.unique(adata_reynolds_per.obs['sample_id'], return_counts=True)\n",
    "adata_reynolds_per = adata_reynolds_per[adata_reynolds_per.obs['sample_id'].isin(samples[counts > 10])]\n",
    "\n",
    "samples, counts = np.unique(adata_reynolds_krt.obs['sample_id'], return_counts=True)\n",
    "adata_reynolds_krt = adata_reynolds_krt[adata_reynolds_krt.obs['sample_id'].isin(samples[counts > 10])]\n",
    "\n",
    "samples, counts = np.unique(adata_reynolds_lymphoid.obs['sample_id'], return_counts=True)\n",
    "adata_reynolds_lymphoid = adata_reynolds_lymphoid[adata_reynolds_lymphoid.obs['sample_id'].isin(samples[counts > 10])]\n",
    "\n",
    "samples, counts = np.unique(adata_reynolds_APC.obs['sample_id'], return_counts=True)\n",
    "adata_reynolds_APC = adata_reynolds_APC[adata_reynolds_APC.obs['sample_id'].isin(samples[counts > 10])]"
   ]
  },
  {
   "cell_type": "code",
   "execution_count": null,
   "id": "balanced-entrance",
   "metadata": {},
   "outputs": [],
   "source": [
    "for adata_name in ['adata_reynolds_fb', 'adata_reynolds_ve', 'adata_reynolds_per', 'adata_reynolds_krt',\n",
    "                   'adata_reynolds_lymphoid', 'adata_reynolds_APC']:\n",
    "    sc.pp.filter_genes(eval(adata_name), min_counts=1)\n",
    "    sc.pp.pca(eval(adata_name), random_state=seed, n_comps=30)\n",
    "    sce.pp.bbknn(eval(adata_name), metric='angular', batch_key='sample_id', neighbors_within_batch=2)\n",
    "    tk.tl.triku(eval(adata_name), n_procs=1, random_state=seed, use_adata_knn=True)\n",
    "    sc.tl.umap(eval(adata_name), min_dist=0.05, random_state=seed)\n",
    "    sc.tl.leiden(eval(adata_name), resolution=1.2, random_state=seed)"
   ]
  },
  {
   "cell_type": "code",
   "execution_count": null,
   "id": "radical-claim",
   "metadata": {},
   "outputs": [],
   "source": [
    "for adata_name in ['adata_reynolds_fb', 'adata_reynolds_ve', 'adata_reynolds_per', 'adata_reynolds_krt',\n",
    "                   'adata_reynolds_lymphoid', 'adata_reynolds_APC']:\n",
    "    sc.tl.leiden(eval(adata_name), resolution=1.2, random_state=seed)"
   ]
  },
  {
   "cell_type": "code",
   "execution_count": null,
   "id": "automated-century",
   "metadata": {},
   "outputs": [],
   "source": [
    "adata_reynolds_fb.write_h5ad(reynolds_dir + '/adata_reynolds_fb.h5ad')\n",
    "adata_reynolds_ve.write_h5ad(reynolds_dir + '/adata_reynolds_ve.h5ad')\n",
    "adata_reynolds_per.write_h5ad(reynolds_dir + '/adata_reynolds_per.h5ad')\n",
    "adata_reynolds_krt.write_h5ad(reynolds_dir + '/adata_reynolds_krt.h5ad')\n",
    "adata_reynolds_lymphoid.write_h5ad(reynolds_dir + '/adata_reynolds_lymphoid.h5ad')\n",
    "adata_reynolds_APC.write_h5ad(reynolds_dir + '/adata_reynolds_APC.h5ad')"
   ]
  },
  {
   "cell_type": "code",
   "execution_count": null,
   "id": "permanent-flash",
   "metadata": {},
   "outputs": [],
   "source": [
    "adata_reynolds_fb = sc.read(reynolds_dir + '/adata_reynolds_fb.h5ad')\n",
    "adata_reynolds_ve = sc.read(reynolds_dir + '/adata_reynolds_ve.h5ad')\n",
    "adata_reynolds_per = sc.read(reynolds_dir + '/adata_reynolds_per.h5ad')\n",
    "adata_reynolds_krt = sc.read(reynolds_dir + '/adata_reynolds_krt.h5ad')\n",
    "adata_reynolds_lymphoid = sc.read(reynolds_dir + '/adata_reynolds_lymphoid.h5ad')\n",
    "adata_reynolds_APC = sc.read(reynolds_dir + '/adata_reynolds_APC.h5ad')"
   ]
  },
  {
   "cell_type": "markdown",
   "id": "deluxe-chick",
   "metadata": {},
   "source": [
    "### Fibro"
   ]
  },
  {
   "cell_type": "code",
   "execution_count": null,
   "id": "prime-shelter",
   "metadata": {},
   "outputs": [],
   "source": [
    "assign_cats(adata_reynolds_fb, dict_cats=dict_cats, column_groupby='leiden', intermediate_states=False, min_score=0.55,\n",
    "            key_added='hypoxia_stress')\n",
    "sc.pl.umap(adata_reynolds_fb, color=['full_clustering', 'Status', 'leiden', 'hypoxia_stress'], \n",
    "           cmap=magma, use_raw=False, legend_loc='on data')"
   ]
  },
  {
   "cell_type": "code",
   "execution_count": null,
   "id": "established-medicare",
   "metadata": {},
   "outputs": [],
   "source": [
    "sc.pl.umap(adata_reynolds_fb, color=[i for i in stress_genes if i in adata_reynolds_fb.var_names], cmap=magma, use_raw=False)"
   ]
  },
  {
   "cell_type": "code",
   "execution_count": null,
   "id": "educational-inventory",
   "metadata": {},
   "outputs": [],
   "source": [
    "sc.pl.umap(adata_reynolds_fb, color=[i for i in hypoxia_genes if i in adata_reynolds_fb.var_names], cmap=magma, use_raw=False)"
   ]
  },
  {
   "cell_type": "markdown",
   "id": "australian-reminder",
   "metadata": {},
   "source": [
    "### VE"
   ]
  },
  {
   "cell_type": "code",
   "execution_count": null,
   "id": "latin-place",
   "metadata": {},
   "outputs": [],
   "source": [
    "assign_cats(adata_reynolds_ve, dict_cats=dict_cats, column_groupby='leiden', intermediate_states=False, min_score=0.55,\n",
    "            key_added='hypoxia_stress')\n",
    "sc.pl.umap(adata_reynolds_ve, color=['full_clustering', 'Status', 'leiden', 'hypoxia_stress'], \n",
    "           cmap=magma, use_raw=False, legend_loc='on data')"
   ]
  },
  {
   "cell_type": "code",
   "execution_count": null,
   "id": "silent-ranch",
   "metadata": {},
   "outputs": [],
   "source": [
    "sc.pl.umap(adata_reynolds_ve, color=[i for i in stress_genes if i in adata_reynolds_ve.var_names], cmap=magma, use_raw=False)"
   ]
  },
  {
   "cell_type": "code",
   "execution_count": null,
   "id": "immune-words",
   "metadata": {},
   "outputs": [],
   "source": [
    "sc.pl.umap(adata_reynolds_ve, color=[i for i in hypoxia_genes if i in adata_reynolds_ve.var_names], cmap=magma, use_raw=False)"
   ]
  },
  {
   "cell_type": "markdown",
   "id": "reverse-premium",
   "metadata": {},
   "source": [
    "### PER"
   ]
  },
  {
   "cell_type": "code",
   "execution_count": null,
   "id": "sunrise-namibia",
   "metadata": {},
   "outputs": [],
   "source": [
    "assign_cats(adata_reynolds_per, dict_cats=dict_cats, column_groupby='leiden', intermediate_states=False, min_score=0.55,\n",
    "            key_added='hypoxia_stress')\n",
    "sc.pl.umap(adata_reynolds_per, color=['full_clustering', 'Status', 'leiden', 'hypoxia_stress'], \n",
    "           cmap=magma, use_raw=False, legend_loc='on data')"
   ]
  },
  {
   "cell_type": "code",
   "execution_count": null,
   "id": "judicial-colorado",
   "metadata": {},
   "outputs": [],
   "source": [
    "sc.pl.umap(adata_reynolds_per, color=[i for i in stress_genes if i in adata_reynolds_per.var_names], cmap=magma, use_raw=False)"
   ]
  },
  {
   "cell_type": "code",
   "execution_count": null,
   "id": "returning-symposium",
   "metadata": {},
   "outputs": [],
   "source": [
    "sc.pl.umap(adata_reynolds_per, color=[i for i in hypoxia_genes if i in adata_reynolds_per.var_names], cmap=magma, use_raw=False)"
   ]
  },
  {
   "cell_type": "markdown",
   "id": "reduced-rider",
   "metadata": {},
   "source": [
    "### KRT"
   ]
  },
  {
   "cell_type": "code",
   "execution_count": null,
   "id": "subject-arnold",
   "metadata": {},
   "outputs": [],
   "source": [
    "assign_cats(adata_reynolds_krt, dict_cats=dict_cats, column_groupby='leiden', intermediate_states=False, min_score=0.55,\n",
    "            key_added='hypoxia_stress')\n",
    "sc.pl.umap(adata_reynolds_krt, color=['full_clustering', 'Status', 'leiden', 'hypoxia_stress'], \n",
    "           cmap=magma, use_raw=False, legend_loc='on data')"
   ]
  },
  {
   "cell_type": "code",
   "execution_count": null,
   "id": "abstract-improvement",
   "metadata": {},
   "outputs": [],
   "source": [
    "sc.pl.umap(adata_reynolds_krt, color=[i for i in stress_genes if i in adata_reynolds_krt.var_names], cmap=magma, use_raw=False)"
   ]
  },
  {
   "cell_type": "code",
   "execution_count": null,
   "id": "revolutionary-disposition",
   "metadata": {},
   "outputs": [],
   "source": [
    "sc.pl.umap(adata_reynolds_krt, color=[i for i in hypoxia_genes if i in adata_reynolds_krt.var_names], cmap=magma, use_raw=False)"
   ]
  },
  {
   "cell_type": "markdown",
   "id": "found-arrow",
   "metadata": {},
   "source": [
    "### LYMPHOID"
   ]
  },
  {
   "cell_type": "code",
   "execution_count": null,
   "id": "attractive-denver",
   "metadata": {},
   "outputs": [],
   "source": [
    "assign_cats(adata_reynolds_lymphoid, dict_cats=dict_cats, column_groupby='leiden', intermediate_states=False, min_score=0.55,\n",
    "            key_added='hypoxia_stress')\n",
    "sc.pl.umap(adata_reynolds_lymphoid, color=['full_clustering', 'Status', 'leiden', 'hypoxia_stress'], \n",
    "           cmap=magma, use_raw=False, legend_loc='on data')"
   ]
  },
  {
   "cell_type": "code",
   "execution_count": null,
   "id": "geological-hudson",
   "metadata": {},
   "outputs": [],
   "source": [
    "sc.pl.umap(adata_reynolds_lymphoid, color=[i for i in stress_genes if i in adata_reynolds_lymphoid.var_names], cmap=magma, use_raw=False)"
   ]
  },
  {
   "cell_type": "code",
   "execution_count": null,
   "id": "caring-poison",
   "metadata": {},
   "outputs": [],
   "source": [
    "sc.pl.umap(adata_reynolds_lymphoid, color=[i for i in hypoxia_genes if i in adata_reynolds_lymphoid.var_names], cmap=magma, use_raw=False)"
   ]
  },
  {
   "cell_type": "markdown",
   "id": "ranking-treasure",
   "metadata": {},
   "source": [
    "### APC"
   ]
  },
  {
   "cell_type": "code",
   "execution_count": null,
   "id": "stylish-investor",
   "metadata": {},
   "outputs": [],
   "source": [
    "assign_cats(adata_reynolds_APC, dict_cats=dict_cats, column_groupby='leiden', intermediate_states=False, min_score=0.55,\n",
    "            key_added='hypoxia_stress')\n",
    "sc.pl.umap(adata_reynolds_APC, color=['full_clustering', 'Status', 'leiden', 'hypoxia_stress'], \n",
    "           cmap=magma, use_raw=False, legend_loc='on data')"
   ]
  },
  {
   "cell_type": "code",
   "execution_count": null,
   "id": "separate-judges",
   "metadata": {},
   "outputs": [],
   "source": [
    "sc.pl.umap(adata_reynolds_APC, color=[i for i in stress_genes if i in adata_reynolds_APC.var_names], cmap=magma, use_raw=False)"
   ]
  },
  {
   "cell_type": "code",
   "execution_count": null,
   "id": "beautiful-bradley",
   "metadata": {},
   "outputs": [],
   "source": [
    "sc.pl.umap(adata_reynolds_APC, color=[i for i in hypoxia_genes if i in adata_reynolds_APC.var_names], cmap=magma, use_raw=False)"
   ]
  }
 ],
 "metadata": {
  "kernelspec": {
   "display_name": "Python [conda env:alex-base] *",
   "language": "python",
   "name": "conda-env-alex-base-py"
  },
  "language_info": {
   "codemirror_mode": {
    "name": "ipython",
    "version": 3
   },
   "file_extension": ".py",
   "mimetype": "text/x-python",
   "name": "python",
   "nbconvert_exporter": "python",
   "pygments_lexer": "ipython3",
   "version": "3.8.0"
  }
 },
 "nbformat": 4,
 "nbformat_minor": 5
}
