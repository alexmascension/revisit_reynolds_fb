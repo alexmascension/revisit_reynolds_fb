{
 "cells": [
  {
   "cell_type": "code",
   "execution_count": null,
   "id": "stable-museum",
   "metadata": {},
   "outputs": [],
   "source": [
    "# !wget https://raw.githubusercontent.com/alexmascension/revisit_reynolds_fb/master/requirements.txt\n",
    "# !pip install -r requirements.txt"
   ]
  },
  {
   "cell_type": "code",
   "execution_count": null,
   "id": "strategic-crystal",
   "metadata": {},
   "outputs": [],
   "source": [
    "import scanpy as sc\n",
    "import scanpy.external as sce\n",
    "\n",
    "import pandas as pd\n",
    "import numpy as np\n",
    "import os\n",
    "from functools import reduce\n",
    "import gseapy as gp\n",
    "\n",
    "import triku as tk\n",
    "\n",
    "import matplotlib.pyplot as plt\n",
    "import matplotlib as mpl\n",
    "import seaborn as sns\n",
    "\n",
    "import scipy.stats as sts\n",
    "\n",
    "import gc"
   ]
  },
  {
   "cell_type": "code",
   "execution_count": null,
   "id": "damaged-neighborhood",
   "metadata": {},
   "outputs": [],
   "source": [
    "# To print versions of imports \n",
    "\n",
    "import types\n",
    "\n",
    "def imports():\n",
    "    for name, val in globals().items():\n",
    "        if isinstance(val, types.ModuleType):\n",
    "            yield val.__name__\n",
    "\n",
    "excludes = ['builtins', 'types', 'sys']\n",
    "\n",
    "imported_modules = [module for module in imports() if module not in excludes]\n",
    "\n",
    "clean_modules = []\n",
    "\n",
    "for module in imported_modules:\n",
    "\n",
    "    sep = '.'  # to handle 'matplotlib.pyplot' cases\n",
    "    rest = module.split(sep, 1)[0]\n",
    "    clean_modules.append(rest)\n",
    "\n",
    "changed_imported_modules = list(set(clean_modules))  # drop duplicates\n",
    "\n",
    "pip_modules = !pip freeze  # you could also use `!conda list` with anaconda\n",
    "\n",
    "for module in pip_modules:\n",
    "    try:\n",
    "        name, version = module.split('==')\n",
    "        if name in changed_imported_modules:\n",
    "            print(name + '\\t' + version)\n",
    "    except:\n",
    "        pass"
   ]
  },
  {
   "cell_type": "code",
   "execution_count": null,
   "id": "editorial-maintenance",
   "metadata": {},
   "outputs": [],
   "source": [
    "seed = 0"
   ]
  },
  {
   "cell_type": "markdown",
   "id": "chicken-annual",
   "metadata": {},
   "source": [
    "**Set this variable to True if the notebook crashes because of RAM failure. Also, don't run the notebook from beginning to end, and run \n",
    "the cells were processed adatas are loaded.**"
   ]
  },
  {
   "cell_type": "code",
   "execution_count": null,
   "id": "dutch-carbon",
   "metadata": {},
   "outputs": [],
   "source": [
    "del_intermediates = False"
   ]
  },
  {
   "cell_type": "code",
   "execution_count": null,
   "id": "amateur-reducing",
   "metadata": {},
   "outputs": [],
   "source": [
    "# Palettes for UMAP gene expression\n",
    "\n",
    "magma = [plt.get_cmap('magma')(i) for i in np.linspace(0,1, 80)]\n",
    "magma[0] = (0.88, 0.88, 0.88, 1)\n",
    "magma = mpl.colors.LinearSegmentedColormap.from_list(\"\", magma[:65])"
   ]
  },
  {
   "cell_type": "code",
   "execution_count": null,
   "id": "vertical-cotton",
   "metadata": {},
   "outputs": [],
   "source": [
    "mpl.rcParams['figure.dpi'] = 70  # Set this to make higher quality figures"
   ]
  },
  {
   "cell_type": "code",
   "execution_count": null,
   "id": "congressional-assembly",
   "metadata": {},
   "outputs": [],
   "source": [
    "def assign_cats(adata, dict_cats, column_groupby='leiden', quantile_gene_sel=0.7, do_return=False, intermediate_states=False, diff=0.05, \n",
    "                key_added='assigned_cats', min_score=0.6, others_name='Normal'):\n",
    "    \"\"\"\n",
    "    This functions uses a set of genes assigned to different categories so that leiden clusters can be assigned to one of these categories.\n",
    "    For example, to categorize fibroblasts from pericytes, endothelial cells, or cells with high mitochondrial content.\n",
    "    It could be done with each cell individually, but it is better to use clusters to discern the different categories because\n",
    "    the method, although efficient, can sometimes be noisy due to the noisiness of the sc datasets.\n",
    "    \"\"\"\n",
    "    \n",
    "    for cat in list(dict_cats.keys()):\n",
    "        mat_cat = np.zeros((len(adata), len(dict_cats[cat])), dtype=float)\n",
    "        \n",
    "        for gene_idx, gene in enumerate(dict_cats[cat]):\n",
    "            try:\n",
    "                mat_cat[:, gene_idx] = np.asarray(np.dot(adata.obsp['connectivities'], adata[:, gene].X).todense()).ravel() / adata.uns['neighbors']['params']['n_neighbors']\n",
    "                mat_cat[mat_cat[:, gene_idx] > 0, gene_idx] = np.argsort(np.argsort(mat_cat[mat_cat[:, gene_idx] > 0, gene_idx]))\n",
    "                mat_cat[:, gene_idx] /= np.max(mat_cat[:, gene_idx])\n",
    "            except:\n",
    "                print(f'Gene {gene} is not on the list')    \n",
    "            \n",
    "        sum_mat_cat = np.asarray(mat_cat.mean(1)).ravel()       \n",
    "        adata.obs[cat] = sum_mat_cat\n",
    "    \n",
    "    score_per_cluster = adata.obs[[column_groupby] + list(dict_cats.keys())].groupby(column_groupby).quantile(quantile_gene_sel)\n",
    "    max_cat_dict_std = dict(zip(score_per_cluster.std(1).index, score_per_cluster.std(1).values))\n",
    "    adata.obs[f'{key_added}_std'] = [max_cat_dict_std[i] for i in adata.obs[column_groupby]]\n",
    "    max_cat_dict_mean = dict(zip(score_per_cluster.mean(1).index, score_per_cluster.mean(1).values))\n",
    "    adata.obs[f'{key_added}_mean'] = [max_cat_dict_mean[i] for i in adata.obs[column_groupby]]\n",
    "    max_cat_dict_max = dict(zip(score_per_cluster.max(1).index, score_per_cluster.max(1).values))\n",
    "    adata.obs[f'{key_added}_max'] = [max_cat_dict_max[i] for i in adata.obs[column_groupby]]\n",
    "    adata.obs[f'{key_added}_CV'] = adata.obs[f'{key_added}_mean'] / adata.obs[f'{key_added}_std']\n",
    "    \n",
    "    for cat in score_per_cluster.columns:\n",
    "        max_cat_dict = dict(zip(score_per_cluster.index, score_per_cluster[cat].values))        \n",
    "        adata.obs[f'{key_added}_{cat}'] = [max_cat_dict[i] for i in adata.obs[column_groupby]]\n",
    "    \n",
    "    if intermediate_states: # For each cluster we will identify which categories are close to the highest one, and merge their names.\n",
    "        list_names_cats_per_cluster = []\n",
    "        for cluster in score_per_cluster.index:\n",
    "            scores_cluster = score_per_cluster.loc[cluster]\n",
    "            scores_cluster = scores_cluster[scores_cluster > scores_cluster.max() - diff]\n",
    "            list_names_cats_per_cluster.append('/'.join(scores_cluster.index))\n",
    "        \n",
    "        final_cat_dict = dict(zip(score_per_cluster.idxmax(axis=1).index, list_names_cats_per_cluster))\n",
    "    else:        \n",
    "        final_cat_dict = dict(zip(score_per_cluster.idxmax(axis=1).index, score_per_cluster.idxmax(axis=1).values))\n",
    "    \n",
    "    adata.obs[f'{key_added}'] = [str(final_cat_dict[i]) for i in adata.obs[column_groupby]]\n",
    "    \n",
    "    adata.obs[f'{key_added}'][adata.obs[f'{key_added}_max'] < min_score] = others_name\n",
    "    \n",
    "    if do_return:\n",
    "        return score_per_cluster"
   ]
  },
  {
   "cell_type": "markdown",
   "id": "established-trunk",
   "metadata": {},
   "source": [
    "# Reynolds et al. 2020 dataset download and preprocess\n",
    "In this section we are going to download and process the anndata files for the 5 healthy samples (S1 to S5). We are first going to use the processed files from Reynolds et al., because they contain the main fb populations, which we are interested in (FB1-3). With that, we can partially replicate the analysis. However, the data richness is not that good (the UMAPs are more *blooby*) so we preprocess the FASTQ files on our own, and used the processed adatas.\n",
    "\n",
    "Once we have our own anndatas, the preprocessing is the following:\n",
    "* Assign FB types based on Reynolds adatas to our adatas. Some cells will be unassigned.\n",
    "* QC metrics \n",
    "* Filter genes (min counts = 30)\n",
    "* Set raw X\n",
    "* Normalize and log1p\n",
    "* PCA + triku + neighbors + umap + leiden\n",
    "* Use  `assign_cats` to assign leiden clusters to cell populations with selected markers (markers for each dataset may vary!)\n",
    "* Filter adata to retain only fibroblasts\n",
    "* Filter genes to remove 0 counts\n",
    "* PCA + triku + neighbors + umap + leiden [leiden is not used here but may be used later]\n",
    "* Check if strange populations appear and filter them in `assign_cats`, then repeat the last steps."
   ]
  },
  {
   "cell_type": "code",
   "execution_count": null,
   "id": "natural-oracle",
   "metadata": {},
   "outputs": [],
   "source": [
    "os.getcwd()"
   ]
  },
  {
   "cell_type": "code",
   "execution_count": null,
   "id": "invalid-hungarian",
   "metadata": {},
   "outputs": [],
   "source": [
    "reynolds_dir = 'reynolds_2020'\n",
    "os.makedirs(reynolds_dir, exist_ok=True)\n",
    "\n",
    "papers_dir = 'papers_genes_bad_quality'\n",
    "os.makedirs(papers_dir, exist_ok=True)"
   ]
  },
  {
   "cell_type": "code",
   "execution_count": null,
   "id": "equivalent-monday",
   "metadata": {},
   "outputs": [],
   "source": [
    "try:\n",
    "    stress_genes = np.loadtxt('papers_genes_bad_quality/stress_genes.txt', dtype=str)\n",
    "    hypoxia_genes = np.loadtxt('papers_genes_bad_quality/hypoxia_genes.txt', dtype=str)\n",
    "except:\n",
    "    stress_genes = np.loadtxt('https://raw.githubusercontent.com/alexmascension/revisit_reynolds_fb/master/papers_genes_bad_quality/stress_genes.txt', dtype=str)\n",
    "    hypoxia_genes = np.loadtxt('https://raw.githubusercontent.com/alexmascension/revisit_reynolds_fb/master/papers_genes_bad_quality/hypoxia_genes.txt', dtype=str)"
   ]
  },
  {
   "cell_type": "code",
   "execution_count": null,
   "id": "casual-pillow",
   "metadata": {},
   "outputs": [],
   "source": [
    "adata_reynolds = sc.read('submission_210120.h5ad', backup_url='https://zenodo.org/record/4536165/files/submission_210120.h5ad')\n",
    "adata_reynolds_healthy = adata_reynolds[adata_reynolds.obs['Status'] == 'Healthy']\n",
    "adata_reynolds_disease = adata_reynolds[adata_reynolds.obs['Status'].isin(['Eczema', 'Psoriasis'])]"
   ]
  },
  {
   "cell_type": "markdown",
   "id": "devoted-lemon",
   "metadata": {},
   "source": [
    "# Analysis on healthy populations "
   ]
  },
  {
   "cell_type": "code",
   "execution_count": null,
   "id": "printable-sword",
   "metadata": {},
   "outputs": [],
   "source": [
    "for adata_name in ['adata_reynolds_healthy']:\n",
    "    sc.pp.filter_genes(eval(adata_name), min_counts=30)\n",
    "    sc.pp.normalize_per_cell(eval(adata_name))\n",
    "    sc.pp.log1p(eval(adata_name))\n",
    "    sc.pp.highly_variable_genes(eval(adata_name))\n",
    "    sc.pp.pca(eval(adata_name), random_state=seed, n_comps=30)\n",
    "    sce.pp.bbknn(eval(adata_name), metric='angular', batch_key='sample_id', neighbors_within_batch=2)\n",
    "    sc.tl.umap(eval(adata_name), min_dist=0.05, random_state=seed)"
   ]
  },
  {
   "cell_type": "code",
   "execution_count": null,
   "id": "printable-classroom",
   "metadata": {},
   "outputs": [],
   "source": [
    "sc.pl.umap(adata_reynolds_healthy, color=['full_clustering'])"
   ]
  },
  {
   "cell_type": "code",
   "execution_count": null,
   "id": "metallic-departure",
   "metadata": {},
   "outputs": [],
   "source": [
    "adata_reynolds_healthy_fb = adata_reynolds_healthy[adata_reynolds_healthy.obs['full_clustering'].isin(['F1', 'F2', 'F3'])]\n",
    "adata_reynolds_healthy_ve = adata_reynolds_healthy[adata_reynolds_healthy.obs['full_clustering'].isin(['VE1', 'VE2', 'VE3'])]\n",
    "adata_reynolds_healthy_per = adata_reynolds_healthy[adata_reynolds_healthy.obs['full_clustering'].isin(['Pericyte_1', 'Pericyte_2'])]\n",
    "adata_reynolds_healthy_krt = adata_reynolds_healthy[adata_reynolds_healthy.obs['full_clustering'].isin(['Differentiated_KC', 'Differentiated_KC*', 'Undifferentiated_KC'])]\n",
    "adata_reynolds_healthy_lymphoid = adata_reynolds_healthy[adata_reynolds_healthy.obs['full_clustering'].isin(['Tc', 'Tc17_Th17', 'Tc_IL13_IL22', 'Th', 'Treg', 'ILC1_3', 'ILC1_NK', 'ILC2'])]\n",
    "adata_reynolds_healthy_APC = adata_reynolds_healthy[adata_reynolds_healthy.obs['full_clustering'].isin(['Macro_1', 'Macro_2', 'Inf_mac', 'DC1', 'DC2', 'LC_1', 'LC_2', 'LC_3', 'Mono_mac', 'MigDC', 'MoDC_1', 'moDC_2', 'mo_DC3'])]"
   ]
  },
  {
   "cell_type": "code",
   "execution_count": null,
   "id": "collaborative-finger",
   "metadata": {},
   "outputs": [],
   "source": [
    "samples, counts = np.unique(adata_reynolds_healthy_fb.obs['sample_id'], return_counts=True)\n",
    "adata_reynolds_healthy_fb = adata_reynolds_healthy_fb[adata_reynolds_healthy_fb.obs['sample_id'].isin(samples[counts > 10])]\n",
    "\n",
    "samples, counts = np.unique(adata_reynolds_healthy_ve.obs['sample_id'], return_counts=True)\n",
    "adata_reynolds_healthy_ve = adata_reynolds_healthy_ve[adata_reynolds_healthy_ve.obs['sample_id'].isin(samples[counts > 10])]\n",
    "\n",
    "samples, counts = np.unique(adata_reynolds_healthy_per.obs['sample_id'], return_counts=True)\n",
    "adata_reynolds_healthy_per = adata_reynolds_healthy_per[adata_reynolds_healthy_per.obs['sample_id'].isin(samples[counts > 10])]\n",
    "\n",
    "samples, counts = np.unique(adata_reynolds_healthy_krt.obs['sample_id'], return_counts=True)\n",
    "adata_reynolds_healthy_krt = adata_reynolds_healthy_krt[adata_reynolds_healthy_krt.obs['sample_id'].isin(samples[counts > 10])]\n",
    "\n",
    "samples, counts = np.unique(adata_reynolds_healthy_lymphoid.obs['sample_id'], return_counts=True)\n",
    "adata_reynolds_healthy_lymphoid = adata_reynolds_healthy_lymphoid[adata_reynolds_healthy_lymphoid.obs['sample_id'].isin(samples[counts > 10])]\n",
    "\n",
    "samples, counts = np.unique(adata_reynolds_healthy_APC.obs['sample_id'], return_counts=True)\n",
    "adata_reynolds_healthy_APC = adata_reynolds_healthy_APC[adata_reynolds_healthy_APC.obs['sample_id'].isin(samples[counts > 10])]"
   ]
  },
  {
   "cell_type": "code",
   "execution_count": null,
   "id": "thermal-album",
   "metadata": {},
   "outputs": [],
   "source": [
    "for adata_name in ['adata_reynolds_healthy_fb', 'adata_reynolds_healthy_ve', 'adata_reynolds_healthy_per', \n",
    "                   'adata_reynolds_healthy_krt', 'adata_reynolds_healthy_lymphoid', 'adata_reynolds_healthy_APC']:\n",
    "    sc.pp.filter_genes(eval(adata_name), min_counts=1)\n",
    "    sc.pp.pca(eval(adata_name), random_state=seed, n_comps=30)\n",
    "    sce.pp.bbknn(eval(adata_name), metric='angular', batch_key='sample_id', neighbors_within_batch=2)\n",
    "    tk.tl.triku(eval(adata_name), n_procs=1, random_state=seed, use_adata_knn=True)\n",
    "    sc.tl.umap(eval(adata_name), min_dist=0.05, random_state=seed)\n",
    "    sc.tl.leiden(eval(adata_name), resolution=2.5, random_state=seed)"
   ]
  },
  {
   "cell_type": "code",
   "execution_count": null,
   "id": "divided-palestine",
   "metadata": {},
   "outputs": [],
   "source": [
    "adata_reynolds_healthy_fb.write_h5ad(reynolds_dir + '/adata_reynolds_healthy_fb.h5ad')\n",
    "adata_reynolds_healthy_ve.write_h5ad(reynolds_dir + '/adata_reynolds_healthy_ve.h5ad')\n",
    "adata_reynolds_healthy_per.write_h5ad(reynolds_dir + '/adata_reynolds_healthy_per.h5ad')\n",
    "adata_reynolds_healthy_krt.write_h5ad(reynolds_dir + '/adata_reynolds_healthy_krt.h5ad')\n",
    "adata_reynolds_healthy_lymphoid.write_h5ad(reynolds_dir + '/adata_reynolds_healthy_lymphoid.h5ad')\n",
    "adata_reynolds_healthy_APC.write_h5ad(reynolds_dir + '/adata_reynolds_healthy_APC.h5ad')"
   ]
  },
  {
   "cell_type": "markdown",
   "id": "severe-stations",
   "metadata": {},
   "source": [
    "**RUN THIS CELL IF YOU ARE LOW ON RAM!**"
   ]
  },
  {
   "cell_type": "code",
   "execution_count": null,
   "id": "looking-minute",
   "metadata": {},
   "outputs": [],
   "source": [
    "adata_reynolds_healthy_fb = sc.read(reynolds_dir + '/adata_reynolds_healthy_fb.h5ad', backup_url='https://zenodo.org/record/4708700/files/adata_reynolds_healthy_fb.h5ad?download=1')\n",
    "adata_reynolds_healthy_ve = sc.read(reynolds_dir + '/adata_reynolds_healthy_ve.h5ad', backup_url='https://zenodo.org/record/4708700/files/adata_reynolds_healthy_ve.h5ad?download=1')\n",
    "adata_reynolds_healthy_per = sc.read(reynolds_dir + '/adata_reynolds_healthy_per.h5ad', backup_url='https://zenodo.org/record/4708700/files/adata_reynolds_healthy_per.h5ad?download=1')\n",
    "adata_reynolds_healthy_krt = sc.read(reynolds_dir + '/adata_reynolds_healthy_krt.h5ad', backup_url='https://zenodo.org/record/4708700/files/adata_reynolds_healthy_krt.h5ad?download=1')\n",
    "adata_reynolds_healthy_lymphoid = sc.read(reynolds_dir + '/adata_reynolds_healthy_lymphoid.h5ad', backup_url='https://zenodo.org/record/4708700/files/adata_reynolds_healthy_lymphoid.h5ad?download=1')\n",
    "adata_reynolds_healthy_APC = sc.read(reynolds_dir + '/adata_reynolds_healthy_APC.h5ad', backup_url='https://zenodo.org/record/4708700/files/adata_reynolds_healthy_APC.h5ad?download=1')"
   ]
  },
  {
   "cell_type": "code",
   "execution_count": null,
   "id": "laughing-cradle",
   "metadata": {},
   "outputs": [],
   "source": [
    "dict_cats = {'Stress': stress_genes, 'Hypoxia': hypoxia_genes}"
   ]
  },
  {
   "cell_type": "markdown",
   "id": "cross-savage",
   "metadata": {},
   "source": [
    "### Fibro"
   ]
  },
  {
   "cell_type": "code",
   "execution_count": null,
   "id": "embedded-helen",
   "metadata": {},
   "outputs": [],
   "source": [
    "assign_cats(adata_reynolds_healthy_fb, dict_cats=dict_cats, column_groupby='leiden', intermediate_states=True, min_score=0.5,\n",
    "            key_added='hypoxia_stress', )\n",
    "sc.pl.umap(adata_reynolds_healthy_fb, color=['full_clustering', 'leiden', 'hypoxia_stress', \n",
    "                                             'hypoxia_stress_Stress', 'hypoxia_stress_Hypoxia'], \n",
    "           cmap=magma, use_raw=False, ncols=3, legend_loc='on data')"
   ]
  },
  {
   "cell_type": "code",
   "execution_count": null,
   "id": "accompanied-phone",
   "metadata": {},
   "outputs": [],
   "source": [
    "sc.pl.umap(adata_reynolds_healthy_fb, color=[i for i in stress_genes if i in adata_reynolds_healthy_fb.var_names], cmap=magma, use_raw=False)"
   ]
  },
  {
   "cell_type": "code",
   "execution_count": null,
   "id": "convertible-manhattan",
   "metadata": {},
   "outputs": [],
   "source": [
    "sc.pl.umap(adata_reynolds_healthy_fb, color=[i for i in hypoxia_genes if i in adata_reynolds_healthy_fb.var_names], cmap=magma, use_raw=False)"
   ]
  },
  {
   "cell_type": "markdown",
   "id": "organic-failure",
   "metadata": {},
   "source": [
    "### VE"
   ]
  },
  {
   "cell_type": "code",
   "execution_count": null,
   "id": "third-vaccine",
   "metadata": {},
   "outputs": [],
   "source": [
    "assign_cats(adata_reynolds_healthy_ve, dict_cats=dict_cats, column_groupby='leiden', intermediate_states=True, min_score=0.5,\n",
    "            key_added='hypoxia_stress')\n",
    "sc.pl.umap(adata_reynolds_healthy_ve, color=['full_clustering', 'leiden', 'hypoxia_stress', \n",
    "                                             'hypoxia_stress_Stress', 'hypoxia_stress_Hypoxia'], \n",
    "           cmap=magma, use_raw=False, ncols=3, legend_loc='on data')"
   ]
  },
  {
   "cell_type": "code",
   "execution_count": null,
   "id": "excellent-worry",
   "metadata": {},
   "outputs": [],
   "source": [
    "sc.pl.umap(adata_reynolds_healthy_ve, color=[i for i in stress_genes if i in adata_reynolds_healthy_ve.var_names], cmap=magma, use_raw=False)"
   ]
  },
  {
   "cell_type": "code",
   "execution_count": null,
   "id": "natural-driving",
   "metadata": {},
   "outputs": [],
   "source": [
    "sc.pl.umap(adata_reynolds_healthy_ve, color=[i for i in hypoxia_genes if i in adata_reynolds_healthy_ve.var_names], cmap=magma, use_raw=False)"
   ]
  },
  {
   "cell_type": "markdown",
   "id": "binding-yorkshire",
   "metadata": {},
   "source": [
    "### PER"
   ]
  },
  {
   "cell_type": "code",
   "execution_count": null,
   "id": "gothic-seventh",
   "metadata": {},
   "outputs": [],
   "source": [
    "assign_cats(adata_reynolds_healthy_per, dict_cats=dict_cats, column_groupby='leiden', intermediate_states=True, min_score=0.5,\n",
    "            key_added='hypoxia_stress')\n",
    "sc.pl.umap(adata_reynolds_healthy_per, color=['full_clustering', 'leiden', 'hypoxia_stress', \n",
    "                                             'hypoxia_stress_Stress', 'hypoxia_stress_Hypoxia'], \n",
    "           cmap=magma, use_raw=False, ncols=3, legend_loc='on data')"
   ]
  },
  {
   "cell_type": "code",
   "execution_count": null,
   "id": "south-kazakhstan",
   "metadata": {},
   "outputs": [],
   "source": [
    "sc.pl.umap(adata_reynolds_healthy_per, color=[i for i in hypoxia_genes if i in adata_reynolds_healthy_per.var_names], cmap=magma, use_raw=False)"
   ]
  },
  {
   "cell_type": "code",
   "execution_count": null,
   "id": "aging-tract",
   "metadata": {},
   "outputs": [],
   "source": [
    "sc.pl.umap(adata_reynolds_healthy_per, color=[i for i in stress_genes if i in adata_reynolds_healthy_per.var_names], cmap=magma, use_raw=False)"
   ]
  },
  {
   "cell_type": "markdown",
   "id": "distinct-annex",
   "metadata": {},
   "source": [
    "### KRT"
   ]
  },
  {
   "cell_type": "code",
   "execution_count": null,
   "id": "dental-grade",
   "metadata": {},
   "outputs": [],
   "source": [
    "assign_cats(adata_reynolds_healthy_krt, dict_cats=dict_cats, column_groupby='leiden', intermediate_states=True, min_score=0.47,\n",
    "            key_added='hypoxia_stress')\n",
    "sc.pl.umap(adata_reynolds_healthy_krt, color=['full_clustering', 'leiden', 'hypoxia_stress', \n",
    "                                             'hypoxia_stress_Stress', 'hypoxia_stress_Hypoxia'], \n",
    "           cmap=magma, use_raw=False, ncols=3, legend_loc='on data')"
   ]
  },
  {
   "cell_type": "code",
   "execution_count": null,
   "id": "better-trauma",
   "metadata": {},
   "outputs": [],
   "source": [
    "sc.pl.umap(adata_reynolds_healthy_krt, color=[i for i in hypoxia_genes if i in adata_reynolds_healthy_krt.var_names], cmap=magma, use_raw=False)"
   ]
  },
  {
   "cell_type": "code",
   "execution_count": null,
   "id": "renewable-coordinate",
   "metadata": {},
   "outputs": [],
   "source": [
    "sc.pl.umap(adata_reynolds_healthy_krt, color=[i for i in stress_genes if i in adata_reynolds_healthy_krt.var_names], cmap=magma, use_raw=False)"
   ]
  },
  {
   "cell_type": "markdown",
   "id": "presidential-diversity",
   "metadata": {},
   "source": [
    "### LYMPHOID"
   ]
  },
  {
   "cell_type": "code",
   "execution_count": null,
   "id": "square-lecture",
   "metadata": {},
   "outputs": [],
   "source": [
    "assign_cats(adata_reynolds_healthy_lymphoid, dict_cats=dict_cats, column_groupby='leiden', intermediate_states=True, min_score=0.55,\n",
    "            key_added='hypoxia_stress')\n",
    "sc.pl.umap(adata_reynolds_healthy_lymphoid, color=['full_clustering', 'leiden', 'hypoxia_stress', \n",
    "                                             'hypoxia_stress_Stress', 'hypoxia_stress_Hypoxia'], \n",
    "           cmap=magma, use_raw=False, ncols=3, legend_loc='on data')"
   ]
  },
  {
   "cell_type": "code",
   "execution_count": null,
   "id": "fitting-asset",
   "metadata": {},
   "outputs": [],
   "source": [
    "sc.pl.umap(adata_reynolds_healthy_lymphoid, color=[i for i in hypoxia_genes if i in adata_reynolds_healthy_lymphoid.var_names], cmap=magma, use_raw=False)"
   ]
  },
  {
   "cell_type": "code",
   "execution_count": null,
   "id": "atlantic-decrease",
   "metadata": {},
   "outputs": [],
   "source": [
    "sc.pl.umap(adata_reynolds_healthy_lymphoid, color=[i for i in stress_genes if i in adata_reynolds_healthy_lymphoid.var_names], cmap=magma, use_raw=False)"
   ]
  },
  {
   "cell_type": "markdown",
   "id": "cloudy-cylinder",
   "metadata": {},
   "source": [
    "### APC"
   ]
  },
  {
   "cell_type": "code",
   "execution_count": null,
   "id": "circular-contents",
   "metadata": {},
   "outputs": [],
   "source": [
    "assign_cats(adata_reynolds_healthy_APC, dict_cats=dict_cats, column_groupby='leiden', intermediate_states=False, min_score=0.55,\n",
    "            key_added='hypoxia_stress', )\n",
    "sc.pl.umap(adata_reynolds_healthy_APC, color=['full_clustering', 'leiden', 'hypoxia_stress', \n",
    "                                             'hypoxia_stress_Stress', 'hypoxia_stress_Hypoxia'], \n",
    "           cmap=magma, use_raw=False, ncols=3, legend_loc='on data')"
   ]
  },
  {
   "cell_type": "code",
   "execution_count": null,
   "id": "laughing-clerk",
   "metadata": {},
   "outputs": [],
   "source": [
    "sc.pl.umap(adata_reynolds_healthy_APC, color=[i for i in hypoxia_genes if i in adata_reynolds_healthy_APC.var_names], cmap=magma, use_raw=False)"
   ]
  },
  {
   "cell_type": "code",
   "execution_count": null,
   "id": "cosmetic-photographer",
   "metadata": {},
   "outputs": [],
   "source": [
    "sc.pl.umap(adata_reynolds_healthy_APC, color=[i for i in stress_genes if i in adata_reynolds_healthy_APC.var_names], cmap=magma, use_raw=False)"
   ]
  },
  {
   "cell_type": "code",
   "execution_count": null,
   "id": "interpreted-veteran",
   "metadata": {},
   "outputs": [],
   "source": [
    "adata_reynolds_healthy_fb.write_h5ad(reynolds_dir + '/adata_reynolds_healthy_fb.h5ad')\n",
    "adata_reynolds_healthy_ve.write_h5ad(reynolds_dir + '/adata_reynolds_healthy_ve.h5ad')\n",
    "adata_reynolds_healthy_per.write_h5ad(reynolds_dir + '/adata_reynolds_healthy_per.h5ad')\n",
    "adata_reynolds_healthy_krt.write_h5ad(reynolds_dir + '/adata_reynolds_healthy_krt.h5ad')\n",
    "adata_reynolds_healthy_lymphoid.write_h5ad(reynolds_dir + '/adata_reynolds_healthy_lymphoid.h5ad')\n",
    "adata_reynolds_healthy_APC.write_h5ad(reynolds_dir + '/adata_reynolds_healthy_APC.h5ad')"
   ]
  },
  {
   "cell_type": "markdown",
   "id": "failing-congress",
   "metadata": {},
   "source": [
    "# Preparing Figure 1B"
   ]
  },
  {
   "cell_type": "code",
   "execution_count": null,
   "id": "second-finger",
   "metadata": {},
   "outputs": [],
   "source": [
    "from matplotlib.patches import Patch \n",
    "\n",
    "dict_colors = {'Hypoxia': '#e14b67', 'Stress': '#d98c58', 'Stress/Hypoxia': '#DD6C60', 'Normal': '#009f61'}\n",
    "\n",
    "for adata_name in ['adata_reynolds_healthy_fb', 'adata_reynolds_healthy_ve', 'adata_reynolds_healthy_per', \n",
    "                   'adata_reynolds_healthy_krt', 'adata_reynolds_healthy_lymphoid', 'adata_reynolds_healthy_APC']:\n",
    "    eval(adata_name).uns['hypoxia_stress_colors'] = [dict_colors[i] for i in sorted(set(eval(adata_name).obs['hypoxia_stress'].values))]\n",
    "    \n",
    "fig, axs = plt.subplots(2, 3)\n",
    "\n",
    "titles = ['Fibroblasts', 'Vascular endothelium', 'Pericytes', 'Keratinocytes', 'Lymphoid', 'APCs']\n",
    "\n",
    "for idx, adata_name in enumerate(['adata_reynolds_healthy_fb', 'adata_reynolds_healthy_ve', 'adata_reynolds_healthy_per', \n",
    "                   'adata_reynolds_healthy_krt', 'adata_reynolds_healthy_lymphoid', 'adata_reynolds_healthy_APC']):\n",
    "    ax = axs.ravel()[idx]\n",
    "    title = titles[idx]\n",
    "    \n",
    "    # We are going to reduce the number of cells to make the pdf load easily\n",
    "    n_sub = min(len(eval(adata_name)), 4000)\n",
    "    adata_sub = sc.pp.subsample(eval(adata_name), n_obs=n_sub, random_state=seed, copy=True)\n",
    "    \n",
    "    sc.pl.umap(adata_sub, color=['hypoxia_stress'], title=title, frameon=False, ax=ax, legend_loc=None, show=False, s=8)\n",
    "\n",
    "legend = plt.legend(handles = [Patch(color=dict_colors[i], label=i) for i in dict_colors.keys()], \n",
    "                    bbox_to_anchor=(1.05, 1.5), frameon=False)\n",
    "\n",
    "os.makedirs('figures', exist_ok=True)\n",
    "plt.savefig('figures/umapF1B.pdf', bbox_inches='tight')"
   ]
  },
  {
   "cell_type": "code",
   "execution_count": null,
   "id": "manufactured-partner",
   "metadata": {},
   "outputs": [],
   "source": [
    "if del_intermediates:\n",
    "    del [adata_reynolds_healthy_fb, adata_reynolds_healthy_ve, adata_reynolds_healthy_per, adata_reynolds_healthy_krt, \n",
    "         adata_reynolds_healthy_lymphoid, adata_reynolds_healthy_APC]\n",
    "    gc.collect()"
   ]
  },
  {
   "cell_type": "markdown",
   "id": "polyphonic-worcester",
   "metadata": {},
   "source": [
    "# Analysis on diseased populations "
   ]
  },
  {
   "cell_type": "code",
   "execution_count": null,
   "id": "lightweight-adaptation",
   "metadata": {},
   "outputs": [],
   "source": [
    "for adata_name in ['adata_reynolds_disease']:\n",
    "    sc.pp.filter_genes(eval(adata_name), min_counts=30)\n",
    "    sc.pp.normalize_per_cell(eval(adata_name))\n",
    "    sc.pp.log1p(eval(adata_name))\n",
    "    sc.pp.highly_variable_genes(eval(adata_name))\n",
    "    sc.pp.pca(eval(adata_name), random_state=seed, n_comps=30)\n",
    "    sce.pp.bbknn(eval(adata_name), metric='angular', batch_key='sample_id', neighbors_within_batch=2)\n",
    "    sc.tl.umap(eval(adata_name), min_dist=0.05, random_state=seed)"
   ]
  },
  {
   "cell_type": "code",
   "execution_count": null,
   "id": "narrative-layout",
   "metadata": {},
   "outputs": [],
   "source": [
    "sc.pl.umap(adata_reynolds_disease, color=['full_clustering'])"
   ]
  },
  {
   "cell_type": "code",
   "execution_count": null,
   "id": "after-browser",
   "metadata": {},
   "outputs": [],
   "source": [
    "adata_reynolds_disease_fb = adata_reynolds_disease[adata_reynolds_disease.obs['full_clustering'].isin(['F1', 'F2', 'F3'])]\n",
    "adata_reynolds_disease_ve = adata_reynolds_disease[adata_reynolds_disease.obs['full_clustering'].isin(['VE1', 'VE2', 'VE3'])]\n",
    "adata_reynolds_disease_per = adata_reynolds_disease[adata_reynolds_disease.obs['full_clustering'].isin(['Pericyte_1', 'Pericyte_2'])]\n",
    "adata_reynolds_disease_krt = adata_reynolds_disease[adata_reynolds_disease.obs['full_clustering'].isin(['Differentiated_KC', 'Differentiated_KC*', 'Undifferentiated_KC'])]\n",
    "adata_reynolds_disease_lymphoid = adata_reynolds_disease[adata_reynolds_disease.obs['full_clustering'].isin(['Tc', 'Tc17_Th17', 'Tc_IL13_IL22', 'Th', 'Treg', 'ILC1_3', 'ILC1_NK', 'ILC2'])]\n",
    "adata_reynolds_disease_APC = adata_reynolds_disease[adata_reynolds_disease.obs['full_clustering'].isin(['Macro_1', 'Macro_2', 'Inf_mac', 'DC1', 'DC2', 'LC_1', 'LC_2', 'LC_3', 'Mono_mac', 'MigDC', 'MoDC_1', 'moDC_2', 'mo_DC3'])]"
   ]
  },
  {
   "cell_type": "code",
   "execution_count": null,
   "id": "proof-pollution",
   "metadata": {},
   "outputs": [],
   "source": [
    "samples, counts = np.unique(adata_reynolds_disease_fb.obs['sample_id'], return_counts=True)\n",
    "adata_reynolds_disease_fb = adata_reynolds_disease_fb[adata_reynolds_disease_fb.obs['sample_id'].isin(samples[counts > 10])]\n",
    "\n",
    "samples, counts = np.unique(adata_reynolds_disease_ve.obs['sample_id'], return_counts=True)\n",
    "adata_reynolds_disease_ve = adata_reynolds_disease_ve[adata_reynolds_disease_ve.obs['sample_id'].isin(samples[counts > 10])]\n",
    "\n",
    "samples, counts = np.unique(adata_reynolds_disease_per.obs['sample_id'], return_counts=True)\n",
    "adata_reynolds_disease_per = adata_reynolds_disease_per[adata_reynolds_disease_per.obs['sample_id'].isin(samples[counts > 10])]\n",
    "\n",
    "samples, counts = np.unique(adata_reynolds_disease_krt.obs['sample_id'], return_counts=True)\n",
    "adata_reynolds_disease_krt = adata_reynolds_disease_krt[adata_reynolds_disease_krt.obs['sample_id'].isin(samples[counts > 10])]\n",
    "\n",
    "samples, counts = np.unique(adata_reynolds_disease_lymphoid.obs['sample_id'], return_counts=True)\n",
    "adata_reynolds_disease_lymphoid = adata_reynolds_disease_lymphoid[adata_reynolds_disease_lymphoid.obs['sample_id'].isin(samples[counts > 10])]\n",
    "\n",
    "samples, counts = np.unique(adata_reynolds_disease_APC.obs['sample_id'], return_counts=True)\n",
    "adata_reynolds_disease_APC = adata_reynolds_disease_APC[adata_reynolds_disease_APC.obs['sample_id'].isin(samples[counts > 10])]"
   ]
  },
  {
   "cell_type": "code",
   "execution_count": null,
   "id": "fallen-insurance",
   "metadata": {},
   "outputs": [],
   "source": [
    "for adata_name in ['adata_reynolds_disease_fb', 'adata_reynolds_disease_ve', 'adata_reynolds_disease_per', \n",
    "                   'adata_reynolds_disease_krt', 'adata_reynolds_disease_lymphoid', 'adata_reynolds_disease_APC']:\n",
    "    sc.pp.filter_genes(eval(adata_name), min_counts=1)\n",
    "    sc.pp.pca(eval(adata_name), random_state=seed, n_comps=30)\n",
    "    sce.pp.bbknn(eval(adata_name), metric='angular', batch_key='sample_id', neighbors_within_batch=2)\n",
    "    tk.tl.triku(eval(adata_name), n_procs=1, random_state=seed, use_adata_knn=True)\n",
    "    sc.tl.umap(eval(adata_name), min_dist=0.05, random_state=seed)\n",
    "    sc.tl.leiden(eval(adata_name), resolution=2.5, random_state=seed)"
   ]
  },
  {
   "cell_type": "code",
   "execution_count": null,
   "id": "retained-culture",
   "metadata": {},
   "outputs": [],
   "source": [
    "adata_reynolds_disease_fb.write_h5ad(reynolds_dir + '/adata_reynolds_disease_fb.h5ad')\n",
    "adata_reynolds_disease_ve.write_h5ad(reynolds_dir + '/adata_reynolds_disease_ve.h5ad')\n",
    "adata_reynolds_disease_per.write_h5ad(reynolds_dir + '/adata_reynolds_disease_per.h5ad')\n",
    "adata_reynolds_disease_krt.write_h5ad(reynolds_dir + '/adata_reynolds_disease_krt.h5ad')\n",
    "adata_reynolds_disease_lymphoid.write_h5ad(reynolds_dir + '/adata_reynolds_disease_lymphoid.h5ad')\n",
    "adata_reynolds_disease_APC.write_h5ad(reynolds_dir + '/adata_reynolds_disease_APC.h5ad')"
   ]
  },
  {
   "cell_type": "markdown",
   "id": "living-penny",
   "metadata": {},
   "source": [
    "**RUN THIS CELL IF YOU ARE LOW ON RAM!**"
   ]
  },
  {
   "cell_type": "code",
   "execution_count": null,
   "id": "infectious-necessity",
   "metadata": {},
   "outputs": [],
   "source": [
    "adata_reynolds_disease_fb = sc.read(reynolds_dir + '/adata_reynolds_disease_fb.h5ad', backup_url='https://zenodo.org/record/4708700/files/adata_reynolds_disease_fb.h5ad?download=1')\n",
    "adata_reynolds_disease_ve = sc.read(reynolds_dir + '/adata_reynolds_disease_ve.h5ad', backup_url='https://zenodo.org/record/4708700/files/adata_reynolds_disease_ve.h5ad?download=1')\n",
    "adata_reynolds_disease_per = sc.read(reynolds_dir + '/adata_reynolds_disease_per.h5ad', backup_url='https://zenodo.org/record/4708700/files/adata_reynolds_disease_per.h5ad?download=1')\n",
    "adata_reynolds_disease_krt = sc.read(reynolds_dir + '/adata_reynolds_disease_krt.h5ad', backup_url='https://zenodo.org/record/4708700/files/adata_reynolds_disease_krt.h5ad?download=1')\n",
    "adata_reynolds_disease_lymphoid = sc.read(reynolds_dir + '/adata_reynolds_disease_lymphoid.h5ad', backup_url='https://zenodo.org/record/4708700/files/adata_reynolds_disease_lymphoid.h5ad?download=1')\n",
    "adata_reynolds_disease_APC = sc.read(reynolds_dir + '/adata_reynolds_disease_APC.h5ad', backup_url='https://zenodo.org/record/4708700/files/adata_reynolds_disease_APC.h5ad?download=1')"
   ]
  },
  {
   "cell_type": "markdown",
   "id": "powered-composer",
   "metadata": {},
   "source": [
    "### Fibro"
   ]
  },
  {
   "cell_type": "code",
   "execution_count": null,
   "id": "basic-rotation",
   "metadata": {},
   "outputs": [],
   "source": [
    "assign_cats(adata_reynolds_disease_fb, dict_cats=dict_cats, column_groupby='leiden', intermediate_states=False, min_score=0.55,\n",
    "            key_added='hypoxia_stress')\n",
    "sc.pl.umap(adata_reynolds_disease_fb, color=['full_clustering', 'leiden', 'hypoxia_stress', \n",
    "                                             'hypoxia_stress_Stress', 'hypoxia_stress_Hypoxia'], \n",
    "           cmap=magma, use_raw=False, ncols=3, legend_loc='on data')"
   ]
  },
  {
   "cell_type": "code",
   "execution_count": null,
   "id": "animal-tsunami",
   "metadata": {},
   "outputs": [],
   "source": [
    "sc.pl.umap(adata_reynolds_disease_fb, color=[i for i in stress_genes if i in adata_reynolds_disease_fb.var_names], cmap=magma, use_raw=False)"
   ]
  },
  {
   "cell_type": "code",
   "execution_count": null,
   "id": "faced-worthy",
   "metadata": {},
   "outputs": [],
   "source": [
    "sc.pl.umap(adata_reynolds_disease_fb, color=[i for i in hypoxia_genes if i in adata_reynolds_disease_fb.var_names], cmap=magma, use_raw=False)"
   ]
  },
  {
   "cell_type": "markdown",
   "id": "increasing-logistics",
   "metadata": {},
   "source": [
    "### VE"
   ]
  },
  {
   "cell_type": "code",
   "execution_count": null,
   "id": "growing-sector",
   "metadata": {},
   "outputs": [],
   "source": [
    "assign_cats(adata_reynolds_disease_ve, dict_cats=dict_cats, column_groupby='leiden', intermediate_states=False, min_score=0.55,\n",
    "            key_added='hypoxia_stress')\n",
    "sc.pl.umap(adata_reynolds_disease_ve, color=['full_clustering', 'leiden', 'hypoxia_stress', \n",
    "                                             'hypoxia_stress_Stress', 'hypoxia_stress_Hypoxia'], \n",
    "           cmap=magma, use_raw=False, ncols=3, legend_loc='on data')"
   ]
  },
  {
   "cell_type": "code",
   "execution_count": null,
   "id": "adjustable-intensity",
   "metadata": {},
   "outputs": [],
   "source": [
    "sc.pl.umap(adata_reynolds_disease_ve, color=[i for i in stress_genes if i in adata_reynolds_disease_ve.var_names], cmap=magma, use_raw=False)"
   ]
  },
  {
   "cell_type": "code",
   "execution_count": null,
   "id": "undefined-grave",
   "metadata": {},
   "outputs": [],
   "source": [
    "sc.pl.umap(adata_reynolds_disease_ve, color=[i for i in hypoxia_genes if i in adata_reynolds_disease_ve.var_names], cmap=magma, use_raw=False)"
   ]
  },
  {
   "cell_type": "markdown",
   "id": "unusual-ozone",
   "metadata": {},
   "source": [
    "### PER"
   ]
  },
  {
   "cell_type": "code",
   "execution_count": null,
   "id": "effective-romania",
   "metadata": {},
   "outputs": [],
   "source": [
    "assign_cats(adata_reynolds_disease_per, dict_cats=dict_cats, column_groupby='leiden', intermediate_states=False, min_score=0.55,\n",
    "            key_added='hypoxia_stress')\n",
    "sc.pl.umap(adata_reynolds_disease_per, color=['full_clustering', 'leiden', 'hypoxia_stress', \n",
    "                                             'hypoxia_stress_Stress', 'hypoxia_stress_Hypoxia'], \n",
    "           cmap=magma, use_raw=False, ncols=3, legend_loc='on data')"
   ]
  },
  {
   "cell_type": "code",
   "execution_count": null,
   "id": "excited-cookbook",
   "metadata": {},
   "outputs": [],
   "source": [
    "sc.pl.umap(adata_reynolds_disease_per, color=[i for i in stress_genes if i in adata_reynolds_disease_per.var_names], cmap=magma, use_raw=False)"
   ]
  },
  {
   "cell_type": "code",
   "execution_count": null,
   "id": "hired-miracle",
   "metadata": {},
   "outputs": [],
   "source": [
    "sc.pl.umap(adata_reynolds_disease_per, color=[i for i in hypoxia_genes if i in adata_reynolds_disease_per.var_names], cmap=magma, use_raw=False)"
   ]
  },
  {
   "cell_type": "markdown",
   "id": "another-stocks",
   "metadata": {},
   "source": [
    "### KRT"
   ]
  },
  {
   "cell_type": "code",
   "execution_count": null,
   "id": "listed-frederick",
   "metadata": {},
   "outputs": [],
   "source": [
    "assign_cats(adata_reynolds_disease_krt, dict_cats=dict_cats, column_groupby='leiden', intermediate_states=False, min_score=0.55,\n",
    "            key_added='hypoxia_stress')\n",
    "sc.pl.umap(adata_reynolds_disease_krt, color=['full_clustering', 'leiden', 'hypoxia_stress', \n",
    "                                             'hypoxia_stress_Stress', 'hypoxia_stress_Hypoxia'], \n",
    "           cmap=magma, use_raw=False, ncols=3, legend_loc='on data')"
   ]
  },
  {
   "cell_type": "code",
   "execution_count": null,
   "id": "reduced-violin",
   "metadata": {},
   "outputs": [],
   "source": [
    "sc.pl.umap(adata_reynolds_disease_krt, color=[i for i in stress_genes if i in adata_reynolds_disease_krt.var_names], cmap=magma, use_raw=False)"
   ]
  },
  {
   "cell_type": "code",
   "execution_count": null,
   "id": "egyptian-stopping",
   "metadata": {},
   "outputs": [],
   "source": [
    "sc.pl.umap(adata_reynolds_disease_krt, color=[i for i in hypoxia_genes if i in adata_reynolds_disease_krt.var_names], cmap=magma, use_raw=False)"
   ]
  },
  {
   "cell_type": "markdown",
   "id": "professional-search",
   "metadata": {},
   "source": [
    "### LYMPHOID"
   ]
  },
  {
   "cell_type": "code",
   "execution_count": null,
   "id": "higher-magnet",
   "metadata": {},
   "outputs": [],
   "source": [
    "assign_cats(adata_reynolds_disease_lymphoid, dict_cats=dict_cats, column_groupby='leiden', intermediate_states=False, min_score=0.55,\n",
    "            key_added='hypoxia_stress')\n",
    "sc.pl.umap(adata_reynolds_disease_lymphoid, color=['full_clustering', 'leiden', 'hypoxia_stress', \n",
    "                                             'hypoxia_stress_Stress', 'hypoxia_stress_Hypoxia'], \n",
    "           cmap=magma, use_raw=False, ncols=3, legend_loc='on data')"
   ]
  },
  {
   "cell_type": "code",
   "execution_count": null,
   "id": "alternate-patrol",
   "metadata": {},
   "outputs": [],
   "source": [
    "sc.pl.umap(adata_reynolds_disease_lymphoid, color=[i for i in stress_genes if i in adata_reynolds_disease_lymphoid.var_names], cmap=magma, use_raw=False)"
   ]
  },
  {
   "cell_type": "code",
   "execution_count": null,
   "id": "demonstrated-nancy",
   "metadata": {},
   "outputs": [],
   "source": [
    "sc.pl.umap(adata_reynolds_disease_lymphoid, color=[i for i in hypoxia_genes if i in adata_reynolds_disease_lymphoid.var_names], cmap=magma, use_raw=False)"
   ]
  },
  {
   "cell_type": "markdown",
   "id": "hired-annual",
   "metadata": {},
   "source": [
    "### APC"
   ]
  },
  {
   "cell_type": "code",
   "execution_count": null,
   "id": "little-alpha",
   "metadata": {},
   "outputs": [],
   "source": [
    "assign_cats(adata_reynolds_disease_APC, dict_cats=dict_cats, column_groupby='leiden', intermediate_states=False, min_score=0.55,\n",
    "            key_added='hypoxia_stress')\n",
    "sc.pl.umap(adata_reynolds_disease_APC, color=['full_clustering', 'leiden', 'hypoxia_stress', \n",
    "                                             'hypoxia_stress_Stress', 'hypoxia_stress_Hypoxia'], \n",
    "           cmap=magma, use_raw=False, ncols=3, legend_loc='on data')"
   ]
  },
  {
   "cell_type": "code",
   "execution_count": null,
   "id": "polyphonic-iceland",
   "metadata": {},
   "outputs": [],
   "source": [
    "sc.pl.umap(adata_reynolds_disease_APC, color=[i for i in stress_genes if i in adata_reynolds_disease_APC.var_names], cmap=magma, use_raw=False)"
   ]
  },
  {
   "cell_type": "code",
   "execution_count": null,
   "id": "studied-watts",
   "metadata": {},
   "outputs": [],
   "source": [
    "sc.pl.umap(adata_reynolds_disease_APC, color=[i for i in hypoxia_genes if i in adata_reynolds_disease_APC.var_names], cmap=magma, use_raw=False)"
   ]
  },
  {
   "cell_type": "code",
   "execution_count": null,
   "id": "opposed-crack",
   "metadata": {},
   "outputs": [],
   "source": [
    "if del_intermediates:\n",
    "    del [adata_reynolds_disease_fb, adata_reynolds_disease_ve, adata_reynolds_disease_per, adata_reynolds_disease_krt, \n",
    "         adata_reynolds_disease_lymphoid, adata_reynolds_disease_APC]\n",
    "    gc.collect()"
   ]
  },
  {
   "cell_type": "markdown",
   "id": "fantastic-bradley",
   "metadata": {},
   "source": [
    "# Analysis on all populations "
   ]
  },
  {
   "cell_type": "code",
   "execution_count": null,
   "id": "chinese-amber",
   "metadata": {},
   "outputs": [],
   "source": [
    "for adata_name in ['adata_reynolds']:\n",
    "    sc.pp.filter_genes(eval(adata_name), min_counts=30)\n",
    "    sc.pp.normalize_per_cell(eval(adata_name))\n",
    "    sc.pp.log1p(eval(adata_name))\n",
    "    sc.pp.highly_variable_genes(eval(adata_name))\n",
    "    sc.pp.pca(eval(adata_name), random_state=seed, n_comps=30)\n",
    "    sce.pp.bbknn(eval(adata_name), metric='angular', batch_key='sample_id', neighbors_within_batch=2)\n",
    "    sc.tl.umap(eval(adata_name), min_dist=0.05, random_state=seed)"
   ]
  },
  {
   "cell_type": "code",
   "execution_count": null,
   "id": "great-burning",
   "metadata": {},
   "outputs": [],
   "source": [
    "sc.pl.umap(adata_reynolds, color=['full_clustering'])"
   ]
  },
  {
   "cell_type": "code",
   "execution_count": null,
   "id": "academic-symbol",
   "metadata": {},
   "outputs": [],
   "source": [
    "sc.pl.umap(adata_reynolds, color=['BNIP3', 'BNIP3L'], cmap=magma, use_raw=False)"
   ]
  },
  {
   "cell_type": "code",
   "execution_count": null,
   "id": "occupational-rwanda",
   "metadata": {},
   "outputs": [],
   "source": [
    "adata_reynolds_fb = adata_reynolds[adata_reynolds.obs['full_clustering'].isin(['F1', 'F2', 'F3'])]\n",
    "adata_reynolds_ve = adata_reynolds[adata_reynolds.obs['full_clustering'].isin(['VE1', 'VE2', 'VE3'])]\n",
    "adata_reynolds_per = adata_reynolds[adata_reynolds.obs['full_clustering'].isin(['Pericyte_1', 'Pericyte_2'])]\n",
    "adata_reynolds_krt = adata_reynolds[adata_reynolds.obs['full_clustering'].isin(['Differentiated_KC', 'Differentiated_KC*', 'Undifferentiated_KC'])]\n",
    "adata_reynolds_lymphoid = adata_reynolds[adata_reynolds.obs['full_clustering'].isin(['Tc', 'Tc17_Th17', 'Tc_IL13_IL22', 'Th', 'Treg', 'ILC1_3', 'ILC1_NK', 'ILC2'])]\n",
    "adata_reynolds_APC = adata_reynolds[adata_reynolds.obs['full_clustering'].isin(['Macro_1', 'Macro_2', 'Inf_mac', 'DC1', 'DC2', 'LC_1', 'LC_2', 'LC_3', 'Mono_mac', 'MigDC', 'MoDC_1', 'moDC_2', 'mo_DC3'])]"
   ]
  },
  {
   "cell_type": "code",
   "execution_count": null,
   "id": "racial-mongolia",
   "metadata": {},
   "outputs": [],
   "source": [
    "samples, counts = np.unique(adata_reynolds_fb.obs['sample_id'], return_counts=True)\n",
    "adata_reynolds_fb = adata_reynolds_fb[adata_reynolds_fb.obs['sample_id'].isin(samples[counts > 10])]\n",
    "\n",
    "samples, counts = np.unique(adata_reynolds_ve.obs['sample_id'], return_counts=True)\n",
    "adata_reynolds_ve = adata_reynolds_ve[adata_reynolds_ve.obs['sample_id'].isin(samples[counts > 10])]\n",
    "\n",
    "samples, counts = np.unique(adata_reynolds_per.obs['sample_id'], return_counts=True)\n",
    "adata_reynolds_per = adata_reynolds_per[adata_reynolds_per.obs['sample_id'].isin(samples[counts > 10])]\n",
    "\n",
    "samples, counts = np.unique(adata_reynolds_krt.obs['sample_id'], return_counts=True)\n",
    "adata_reynolds_krt = adata_reynolds_krt[adata_reynolds_krt.obs['sample_id'].isin(samples[counts > 10])]\n",
    "\n",
    "samples, counts = np.unique(adata_reynolds_lymphoid.obs['sample_id'], return_counts=True)\n",
    "adata_reynolds_lymphoid = adata_reynolds_lymphoid[adata_reynolds_lymphoid.obs['sample_id'].isin(samples[counts > 10])]\n",
    "\n",
    "samples, counts = np.unique(adata_reynolds_APC.obs['sample_id'], return_counts=True)\n",
    "adata_reynolds_APC = adata_reynolds_APC[adata_reynolds_APC.obs['sample_id'].isin(samples[counts > 10])]"
   ]
  },
  {
   "cell_type": "code",
   "execution_count": null,
   "id": "basic-athletics",
   "metadata": {},
   "outputs": [],
   "source": [
    "for adata_name in ['adata_reynolds_fb', 'adata_reynolds_ve', 'adata_reynolds_per', 'adata_reynolds_krt',\n",
    "                   'adata_reynolds_lymphoid', 'adata_reynolds_APC']:\n",
    "    sc.pp.filter_genes(eval(adata_name), min_counts=1)\n",
    "    sc.pp.pca(eval(adata_name), random_state=seed, n_comps=30)\n",
    "    sce.pp.bbknn(eval(adata_name), metric='angular', batch_key='sample_id', neighbors_within_batch=2)\n",
    "    tk.tl.triku(eval(adata_name), n_procs=1, random_state=seed, use_adata_knn=True)\n",
    "    sc.tl.umap(eval(adata_name), min_dist=0.05, random_state=seed)\n",
    "    sc.tl.leiden(eval(adata_name), resolution=2.5, random_state=seed)"
   ]
  },
  {
   "cell_type": "code",
   "execution_count": null,
   "id": "prompt-julian",
   "metadata": {},
   "outputs": [],
   "source": [
    "adata_reynolds_fb.write_h5ad(reynolds_dir + '/adata_reynolds_fb.h5ad')\n",
    "adata_reynolds_ve.write_h5ad(reynolds_dir + '/adata_reynolds_ve.h5ad')\n",
    "adata_reynolds_per.write_h5ad(reynolds_dir + '/adata_reynolds_per.h5ad')\n",
    "adata_reynolds_krt.write_h5ad(reynolds_dir + '/adata_reynolds_krt.h5ad')\n",
    "adata_reynolds_lymphoid.write_h5ad(reynolds_dir + '/adata_reynolds_lymphoid.h5ad')\n",
    "adata_reynolds_APC.write_h5ad(reynolds_dir + '/adata_reynolds_APC.h5ad')"
   ]
  },
  {
   "cell_type": "markdown",
   "id": "comprehensive-fitting",
   "metadata": {},
   "source": [
    "**RUN THIS CELL IF YOU ARE LOW ON RAM!**"
   ]
  },
  {
   "cell_type": "code",
   "execution_count": null,
   "id": "right-acting",
   "metadata": {},
   "outputs": [],
   "source": [
    "adata_reynolds_fb = sc.read(reynolds_dir + '/adata_reynolds_fb.h5ad', backup_url='https://zenodo.org/record/4708700/files/adata_reynolds_fb.h5ad?download=1')\n",
    "adata_reynolds_ve = sc.read(reynolds_dir + '/adata_reynolds_ve.h5ad', backup_url='https://zenodo.org/record/4708700/files/adata_reynolds_ve.h5ad?download=1')\n",
    "adata_reynolds_per = sc.read(reynolds_dir + '/adata_reynolds_per.h5ad', backup_url='https://zenodo.org/record/4708700/files/adata_reynolds_per.h5ad?download=1')\n",
    "adata_reynolds_krt = sc.read(reynolds_dir + '/adata_reynolds_krt.h5ad', backup_url='https://zenodo.org/record/4708700/files/adata_reynolds_krt.h5ad?download=1')\n",
    "adata_reynolds_lymphoid = sc.read(reynolds_dir + '/adata_reynolds_lymphoid.h5ad', backup_url='https://zenodo.org/record/4708700/files/adata_reynolds_lymphoid.h5ad?download=1')\n",
    "adata_reynolds_APC = sc.read(reynolds_dir + '/adata_reynolds_APC.h5ad', backup_url='https://zenodo.org/record/4708700/files/adata_reynolds_APC.h5ad?download=1')"
   ]
  },
  {
   "cell_type": "markdown",
   "id": "norwegian-dressing",
   "metadata": {},
   "source": [
    "### Fibro"
   ]
  },
  {
   "cell_type": "code",
   "execution_count": null,
   "id": "executed-petroleum",
   "metadata": {},
   "outputs": [],
   "source": [
    "assign_cats(adata_reynolds_fb, dict_cats=dict_cats, column_groupby='leiden', intermediate_states=False, min_score=0.55,\n",
    "            key_added='hypoxia_stress')\n",
    "sc.pl.umap(adata_reynolds_fb, color=['full_clustering', 'leiden', 'hypoxia_stress', \n",
    "                                             'hypoxia_stress_Stress', 'hypoxia_stress_Hypoxia'], \n",
    "           cmap=magma, use_raw=False, ncols=3, legend_loc='on data')"
   ]
  },
  {
   "cell_type": "code",
   "execution_count": null,
   "id": "applied-fellow",
   "metadata": {},
   "outputs": [],
   "source": [
    "sc.pl.umap(adata_reynolds_fb, color=[i for i in stress_genes if i in adata_reynolds_fb.var_names], cmap=magma, use_raw=False)"
   ]
  },
  {
   "cell_type": "code",
   "execution_count": null,
   "id": "hawaiian-kidney",
   "metadata": {},
   "outputs": [],
   "source": [
    "sc.pl.umap(adata_reynolds_fb, color=[i for i in hypoxia_genes if i in adata_reynolds_fb.var_names], cmap=magma, use_raw=False)"
   ]
  },
  {
   "cell_type": "markdown",
   "id": "standard-discrimination",
   "metadata": {},
   "source": [
    "### VE"
   ]
  },
  {
   "cell_type": "code",
   "execution_count": null,
   "id": "cloudy-seven",
   "metadata": {},
   "outputs": [],
   "source": [
    "assign_cats(adata_reynolds_ve, dict_cats=dict_cats, column_groupby='leiden', intermediate_states=False, min_score=0.55,\n",
    "            key_added='hypoxia_stress')\n",
    "sc.pl.umap(adata_reynolds_ve, color=['full_clustering', 'leiden', 'hypoxia_stress', \n",
    "                                             'hypoxia_stress_Stress', 'hypoxia_stress_Hypoxia'], \n",
    "           cmap=magma, use_raw=False, ncols=3, legend_loc='on data')"
   ]
  },
  {
   "cell_type": "code",
   "execution_count": null,
   "id": "liberal-penetration",
   "metadata": {},
   "outputs": [],
   "source": [
    "sc.pl.umap(adata_reynolds_ve, color=[i for i in stress_genes if i in adata_reynolds_ve.var_names], cmap=magma, use_raw=False)"
   ]
  },
  {
   "cell_type": "code",
   "execution_count": null,
   "id": "better-consistency",
   "metadata": {},
   "outputs": [],
   "source": [
    "sc.pl.umap(adata_reynolds_ve, color=[i for i in hypoxia_genes if i in adata_reynolds_ve.var_names], cmap=magma, use_raw=False)"
   ]
  },
  {
   "cell_type": "markdown",
   "id": "spoken-virtue",
   "metadata": {},
   "source": [
    "### PER"
   ]
  },
  {
   "cell_type": "code",
   "execution_count": null,
   "id": "previous-mattress",
   "metadata": {},
   "outputs": [],
   "source": [
    "assign_cats(adata_reynolds_per, dict_cats=dict_cats, column_groupby='leiden', intermediate_states=False, min_score=0.55,\n",
    "            key_added='hypoxia_stress')\n",
    "sc.pl.umap(adata_reynolds_per, color=['full_clustering', 'leiden', 'hypoxia_stress', \n",
    "                                             'hypoxia_stress_Stress', 'hypoxia_stress_Hypoxia'], \n",
    "           cmap=magma, use_raw=False, ncols=3, legend_loc='on data')"
   ]
  },
  {
   "cell_type": "code",
   "execution_count": null,
   "id": "minute-fantasy",
   "metadata": {},
   "outputs": [],
   "source": [
    "sc.pl.umap(adata_reynolds_per, color=[i for i in stress_genes if i in adata_reynolds_per.var_names], cmap=magma, use_raw=False)"
   ]
  },
  {
   "cell_type": "code",
   "execution_count": null,
   "id": "offshore-hours",
   "metadata": {},
   "outputs": [],
   "source": [
    "sc.pl.umap(adata_reynolds_per, color=[i for i in hypoxia_genes if i in adata_reynolds_per.var_names], cmap=magma, use_raw=False)"
   ]
  },
  {
   "cell_type": "markdown",
   "id": "competent-pipeline",
   "metadata": {},
   "source": [
    "### KRT"
   ]
  },
  {
   "cell_type": "code",
   "execution_count": null,
   "id": "ordered-mobile",
   "metadata": {},
   "outputs": [],
   "source": [
    "assign_cats(adata_reynolds_krt, dict_cats=dict_cats, column_groupby='leiden', intermediate_states=False, min_score=0.55,\n",
    "            key_added='hypoxia_stress')\n",
    "sc.pl.umap(adata_reynolds_krt, color=['full_clustering', 'leiden', 'hypoxia_stress', \n",
    "                                             'hypoxia_stress_Stress', 'hypoxia_stress_Hypoxia'], \n",
    "           cmap=magma, use_raw=False, ncols=3, legend_loc='on data')"
   ]
  },
  {
   "cell_type": "code",
   "execution_count": null,
   "id": "finnish-assignment",
   "metadata": {},
   "outputs": [],
   "source": [
    "sc.pl.umap(adata_reynolds_krt, color=[i for i in stress_genes if i in adata_reynolds_krt.var_names], cmap=magma, use_raw=False)"
   ]
  },
  {
   "cell_type": "code",
   "execution_count": null,
   "id": "transsexual-editor",
   "metadata": {},
   "outputs": [],
   "source": [
    "sc.pl.umap(adata_reynolds_krt, color=[i for i in hypoxia_genes if i in adata_reynolds_krt.var_names], cmap=magma, use_raw=False)"
   ]
  },
  {
   "cell_type": "markdown",
   "id": "rotary-philip",
   "metadata": {},
   "source": [
    "### LYMPHOID"
   ]
  },
  {
   "cell_type": "code",
   "execution_count": null,
   "id": "radio-swimming",
   "metadata": {},
   "outputs": [],
   "source": [
    "assign_cats(adata_reynolds_lymphoid, dict_cats=dict_cats, column_groupby='leiden', intermediate_states=False, min_score=0.55,\n",
    "            key_added='hypoxia_stress')\n",
    "sc.pl.umap(adata_reynolds_lymphoid, color=['full_clustering', 'leiden', 'hypoxia_stress', \n",
    "                                             'hypoxia_stress_Stress', 'hypoxia_stress_Hypoxia'], \n",
    "           cmap=magma, use_raw=False, ncols=3, legend_loc='on data')"
   ]
  },
  {
   "cell_type": "code",
   "execution_count": null,
   "id": "horizontal-setup",
   "metadata": {},
   "outputs": [],
   "source": [
    "sc.pl.umap(adata_reynolds_lymphoid, color=[i for i in stress_genes if i in adata_reynolds_lymphoid.var_names], cmap=magma, use_raw=False)"
   ]
  },
  {
   "cell_type": "code",
   "execution_count": null,
   "id": "allied-reflection",
   "metadata": {},
   "outputs": [],
   "source": [
    "sc.pl.umap(adata_reynolds_lymphoid, color=[i for i in hypoxia_genes if i in adata_reynolds_lymphoid.var_names], cmap=magma, use_raw=False)"
   ]
  },
  {
   "cell_type": "markdown",
   "id": "empty-teddy",
   "metadata": {},
   "source": [
    "### APC"
   ]
  },
  {
   "cell_type": "code",
   "execution_count": null,
   "id": "painted-telescope",
   "metadata": {},
   "outputs": [],
   "source": [
    "assign_cats(adata_reynolds_APC, dict_cats=dict_cats, column_groupby='leiden', intermediate_states=False, min_score=0.55,\n",
    "            key_added='hypoxia_stress')\n",
    "sc.pl.umap(adata_reynolds_APC, color=['full_clustering', 'leiden', 'hypoxia_stress', \n",
    "                                             'hypoxia_stress_Stress', 'hypoxia_stress_Hypoxia'], \n",
    "           cmap=magma, use_raw=False, ncols=3, legend_loc='on data')"
   ]
  },
  {
   "cell_type": "code",
   "execution_count": null,
   "id": "acknowledged-white",
   "metadata": {},
   "outputs": [],
   "source": [
    "sc.pl.umap(adata_reynolds_APC, color=[i for i in stress_genes if i in adata_reynolds_APC.var_names], cmap=magma, use_raw=False)"
   ]
  },
  {
   "cell_type": "code",
   "execution_count": null,
   "id": "tutorial-preservation",
   "metadata": {},
   "outputs": [],
   "source": [
    "sc.pl.umap(adata_reynolds_APC, color=[i for i in hypoxia_genes if i in adata_reynolds_APC.var_names], cmap=magma, use_raw=False)"
   ]
  },
  {
   "cell_type": "code",
   "execution_count": null,
   "id": "temporal-advisory",
   "metadata": {},
   "outputs": [],
   "source": [
    "if del_intermediates:\n",
    "    del [adata_reynolds_fb, adata_reynolds_ve, adata_reynolds_per, adata_reynolds_krt, adata_reynolds_lymphoid, adata_reynolds_APC]\n",
    "    gc.collect()"
   ]
  }
 ],
 "metadata": {
  "kernelspec": {
   "display_name": "Python [conda env:alex-base] *",
   "language": "python",
   "name": "conda-env-alex-base-py"
  },
  "language_info": {
   "codemirror_mode": {
    "name": "ipython",
    "version": 3
   },
   "file_extension": ".py",
   "mimetype": "text/x-python",
   "name": "python",
   "nbconvert_exporter": "python",
   "pygments_lexer": "ipython3",
   "version": "3.8.0"
  }
 },
 "nbformat": 4,
 "nbformat_minor": 5
}
