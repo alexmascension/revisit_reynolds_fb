{
 "cells": [
  {
   "cell_type": "code",
   "execution_count": null,
   "id": "stable-museum",
   "metadata": {},
   "outputs": [],
   "source": [
    "# !wget https://raw.githubusercontent.com/alexmascension/revisit_reynolds_fb/master/requirements.txt\n",
    "# !pip install -r requirements.txt"
   ]
  },
  {
   "cell_type": "code",
   "execution_count": null,
   "id": "strategic-crystal",
   "metadata": {},
   "outputs": [],
   "source": [
    "import scanpy as sc\n",
    "import scanpy.external as sce\n",
    "\n",
    "import pandas as pd\n",
    "import numpy as np\n",
    "import os\n",
    "from functools import reduce\n",
    "import gseapy as gp\n",
    "\n",
    "import triku as tk\n",
    "\n",
    "import matplotlib.pyplot as plt\n",
    "import matplotlib as mpl\n",
    "import seaborn as sns\n",
    "\n",
    "import scipy.stats as sts\n",
    "\n",
    "import gc\n",
    "\n",
    "from cellassign import assign_cats"
   ]
  },
  {
   "cell_type": "code",
   "execution_count": null,
   "id": "damaged-neighborhood",
   "metadata": {},
   "outputs": [],
   "source": [
    "# To print versions of imports \n",
    "\n",
    "import types\n",
    "\n",
    "def imports():\n",
    "    for name, val in globals().items():\n",
    "        if isinstance(val, types.ModuleType):\n",
    "            yield val.__name__\n",
    "\n",
    "excludes = ['builtins', 'types', 'sys']\n",
    "\n",
    "imported_modules = [module for module in imports() if module not in excludes]\n",
    "\n",
    "clean_modules = []\n",
    "\n",
    "for module in imported_modules:\n",
    "\n",
    "    sep = '.'  # to handle 'matplotlib.pyplot' cases\n",
    "    rest = module.split(sep, 1)[0]\n",
    "    clean_modules.append(rest)\n",
    "\n",
    "changed_imported_modules = list(set(clean_modules))  # drop duplicates\n",
    "\n",
    "pip_modules = !pip freeze  # you could also use `!conda list` with anaconda\n",
    "\n",
    "for module in pip_modules:\n",
    "    try:\n",
    "        name, version = module.split('==')\n",
    "        if name in changed_imported_modules:\n",
    "            print(name + '\\t' + version)\n",
    "    except:\n",
    "        pass"
   ]
  },
  {
   "cell_type": "code",
   "execution_count": null,
   "id": "editorial-maintenance",
   "metadata": {},
   "outputs": [],
   "source": [
    "seed = 0"
   ]
  },
  {
   "cell_type": "code",
   "execution_count": null,
   "id": "amateur-reducing",
   "metadata": {},
   "outputs": [],
   "source": [
    "# Palettes for UMAP gene expression\n",
    "\n",
    "magma = [plt.get_cmap('magma')(i) for i in np.linspace(0,1, 80)]\n",
    "magma[0] = (0.88, 0.88, 0.88, 1)\n",
    "magma = mpl.colors.LinearSegmentedColormap.from_list(\"\", magma[:65])"
   ]
  },
  {
   "cell_type": "code",
   "execution_count": null,
   "id": "vertical-cotton",
   "metadata": {},
   "outputs": [],
   "source": [
    "mpl.rcParams['figure.dpi'] = 70  # Set this to make higher quality figures"
   ]
  },
  {
   "cell_type": "markdown",
   "id": "established-trunk",
   "metadata": {},
   "source": [
    "# Regressing out hypoxia and stress signals\n",
    "\n",
    "Forms of regressing out:\n",
    "* Removing the genes of \"interest\" and rerun processing\n",
    "* Treat each condition as a batch and using batch effect correction\n",
    "* Use a function like regress_out "
   ]
  },
  {
   "cell_type": "code",
   "execution_count": null,
   "id": "299f2907-bc68-4cfb-a7c9-1723210a674e",
   "metadata": {},
   "outputs": [],
   "source": [
    "reynolds_dir = 'reynolds_2020'\n",
    "os.makedirs(reynolds_dir, exist_ok=True)\n",
    "\n",
    "papers_dir = 'papers_genes_bad_quality'\n",
    "os.makedirs(papers_dir, exist_ok=True)"
   ]
  },
  {
   "cell_type": "code",
   "execution_count": null,
   "id": "f6a186a5-e287-4f4c-8f9a-5ad0b29b3114",
   "metadata": {},
   "outputs": [],
   "source": [
    "try:\n",
    "    stress_genes = np.loadtxt('papers_genes_bad_quality/stress_genes.txt', dtype=str)\n",
    "    hypoxia_genes = np.loadtxt('papers_genes_bad_quality/hypoxia_genes.txt', dtype=str)\n",
    "except:\n",
    "    stress_genes = np.loadtxt('https://raw.githubusercontent.com/alexmascension/revisit_reynolds_fb/master/papers_genes_bad_quality/stress_genes.txt', dtype=str)\n",
    "    hypoxia_genes = np.loadtxt('https://raw.githubusercontent.com/alexmascension/revisit_reynolds_fb/master/papers_genes_bad_quality/hypoxia_genes.txt', dtype=str)"
   ]
  },
  {
   "cell_type": "code",
   "execution_count": null,
   "id": "25314b00-531b-4ea5-961c-5ec43ea5e1a8",
   "metadata": {},
   "outputs": [],
   "source": [
    "adata_reynolds_healthy_fb = sc.read(reynolds_dir + '/adata_reynolds_healthy_fb.h5ad', backup_url='https://zenodo.org/record/4708700/files/adata_reynolds_healthy_fb.h5ad?download=1')\n",
    "adata_reynolds_healthy_ve = sc.read(reynolds_dir + '/adata_reynolds_healthy_ve.h5ad', backup_url='https://zenodo.org/record/4708700/files/adata_reynolds_healthy_ve.h5ad?download=1')\n",
    "adata_reynolds_healthy_per = sc.read(reynolds_dir + '/adata_reynolds_healthy_per.h5ad', backup_url='https://zenodo.org/record/4708700/files/adata_reynolds_healthy_per.h5ad?download=1')\n",
    "adata_reynolds_healthy_krt = sc.read(reynolds_dir + '/adata_reynolds_healthy_krt.h5ad', backup_url='https://zenodo.org/record/4708700/files/adata_reynolds_healthy_krt.h5ad?download=1')\n",
    "adata_reynolds_healthy_lymphoid = sc.read(reynolds_dir + '/adata_reynolds_healthy_lymphoid.h5ad', backup_url='https://zenodo.org/record/4708700/files/adata_reynolds_healthy_lymphoid.h5ad?download=1')\n",
    "adata_reynolds_healthy_APC = sc.read(reynolds_dir + '/adata_reynolds_healthy_APC.h5ad', backup_url='https://zenodo.org/record/4708700/files/adata_reynolds_healthy_APC.h5ad?download=1')"
   ]
  },
  {
   "cell_type": "markdown",
   "id": "382b25d5-04e6-4e42-a1c9-9b038c37d344",
   "metadata": {},
   "source": [
    "## Removing genes of interest"
   ]
  },
  {
   "cell_type": "code",
   "execution_count": null,
   "id": "f2939a2a-85fa-4272-aa1b-e8095f5abb1f",
   "metadata": {},
   "outputs": [],
   "source": [
    "adata_reynolds_healthy_fb = sc.read(reynolds_dir + '/adata_reynolds_healthy_fb.h5ad', backup_url='https://zenodo.org/record/4708700/files/adata_reynolds_healthy_fb.h5ad?download=1')"
   ]
  },
  {
   "cell_type": "code",
   "execution_count": null,
   "id": "d78ae3a3-f371-4250-ae1d-c3fe0f9b8b8a",
   "metadata": {},
   "outputs": [],
   "source": [
    "sc.tl.rank_genes_groups(adata_reynolds_healthy_fb, groupby='hypoxia_stress')"
   ]
  },
  {
   "cell_type": "code",
   "execution_count": null,
   "id": "20b4f2d1-da42-4d25-910e-6b7b70a728de",
   "metadata": {},
   "outputs": [],
   "source": [
    "sc.pl.rank_genes_groups(adata_reynolds_healthy_fb)"
   ]
  },
  {
   "cell_type": "code",
   "execution_count": null,
   "id": "3dc3fb6b-8e86-4057-8938-3dfb05e90dd8",
   "metadata": {},
   "outputs": [],
   "source": [
    "DEGs_hypoxia = adata_reynolds_healthy_fb.uns['rank_genes_groups']['names']['Hypoxia'][(adata_reynolds_healthy_fb.uns['rank_genes_groups']['pvals_adj']['Hypoxia'] < 10e-15) & \n",
    "                                                                                     (adata_reynolds_healthy_fb.uns['rank_genes_groups']['logfoldchanges']['Hypoxia'] > 0)]\n",
    "DEGs_stress = adata_reynolds_healthy_fb.uns['rank_genes_groups']['names']['Stress'][(adata_reynolds_healthy_fb.uns['rank_genes_groups']['pvals_adj']['Stress'] < 10e-15) & \n",
    "                                                                                     (adata_reynolds_healthy_fb.uns['rank_genes_groups']['logfoldchanges']['Stress'] > 0)]\n",
    "\n",
    "list_renes_remove = set(list(stress_genes) + list(hypoxia_genes) + list(DEGs_hypoxia) + list(DEGs_stress))"
   ]
  },
  {
   "cell_type": "code",
   "execution_count": null,
   "id": "7cac4596-3d62-4f3a-8ed1-b7170d3a8d13",
   "metadata": {},
   "outputs": [],
   "source": [
    "len(list_renes_remove)"
   ]
  },
  {
   "cell_type": "code",
   "execution_count": null,
   "id": "b370696a-eddd-4ab1-b016-615989712621",
   "metadata": {},
   "outputs": [],
   "source": [
    "adata_reynolds_healthy_fb = adata_reynolds_healthy_fb[:, [i for i in adata_reynolds_healthy_fb.var_names if i not in list_renes_remove]]"
   ]
  },
  {
   "cell_type": "code",
   "execution_count": null,
   "id": "07b75455-dbd1-489f-a3ef-8e11d2000ec4",
   "metadata": {},
   "outputs": [],
   "source": [
    "for adata_name in ['adata_reynolds_healthy_fb']:\n",
    "    sc.pp.filter_genes(eval(adata_name), min_counts=1)\n",
    "    sc.pp.highly_variable_genes(eval(adata_name))\n",
    "    sc.pp.pca(eval(adata_name), random_state=seed, n_comps=30)\n",
    "    sce.pp.harmony_integrate(eval(adata_name), key='sample_id', epsilon_cluster = 1e-4, epsilon_harmony = 1e-5, max_iter_harmony=30)\n",
    "    sc.pp.neighbors(eval(adata_name), n_neighbors=int(len(eval(adata_name)) ** 0.5 // 2), use_rep='X_pca_harmony')\n",
    "    sc.tl.umap(eval(adata_name), min_dist=0.05, random_state=seed)"
   ]
  },
  {
   "cell_type": "code",
   "execution_count": null,
   "id": "850154a6-dbc6-4c8e-a14b-9f0c14854056",
   "metadata": {},
   "outputs": [],
   "source": [
    "sc.pl.umap(adata_reynolds_healthy_fb, color=['hypoxia_stress', 'sample_id'])"
   ]
  },
  {
   "cell_type": "markdown",
   "id": "abe435ee-a13d-4584-b61e-e9b5b3a71044",
   "metadata": {},
   "source": [
    "## Removing out batch effects"
   ]
  },
  {
   "cell_type": "markdown",
   "id": "74d694d3-f048-40d2-b25b-8dde146c6587",
   "metadata": {},
   "source": [
    "### Harmony for batch, bbknn for sample"
   ]
  },
  {
   "cell_type": "code",
   "execution_count": null,
   "id": "83b2ac8b-c308-4975-90c2-7c70d4bb8e45",
   "metadata": {},
   "outputs": [],
   "source": [
    "adata_reynolds_healthy_fb = sc.read(reynolds_dir + '/adata_reynolds_healthy_fb.h5ad', backup_url='https://zenodo.org/record/4708700/files/adata_reynolds_healthy_fb.h5ad?download=1')"
   ]
  },
  {
   "cell_type": "code",
   "execution_count": null,
   "id": "07c1da01-97d2-4170-a3b5-874f32e36f56",
   "metadata": {},
   "outputs": [],
   "source": [
    "for adata_name in ['adata_reynolds_healthy_fb']:\n",
    "    sc.pp.filter_genes(eval(adata_name), min_counts=1)\n",
    "    sc.pp.highly_variable_genes(eval(adata_name))\n",
    "    sc.pp.pca(eval(adata_name), random_state=seed, n_comps=30)\n",
    "    sce.pp.harmony_integrate(eval(adata_name), key='hypoxia_stress', epsilon_cluster = 1e-6, epsilon_harmony = 1e-6, max_iter_harmony=30)\n",
    "    sce.pp.bbknn(eval(adata_name), metric='angular', batch_key='sample_id', neighbors_within_batch=2, use_rep='X_pca_harmony')\n",
    "    sc.tl.umap(eval(adata_name), min_dist=0.05, random_state=seed)"
   ]
  },
  {
   "cell_type": "code",
   "execution_count": null,
   "id": "1f8d51d3-20f5-45cf-b304-f8d574d9512d",
   "metadata": {},
   "outputs": [],
   "source": [
    "sc.pl.umap(adata_reynolds_healthy_fb, color=['hypoxia_stress'])"
   ]
  },
  {
   "cell_type": "markdown",
   "id": "0ff0f6c9-a3ee-4129-bcf8-cec032ac6ffb",
   "metadata": {},
   "source": [
    "### Harmony for batch and for sample"
   ]
  },
  {
   "cell_type": "code",
   "execution_count": null,
   "id": "0f26a874-b6c7-4ab4-bf68-44cb5d8efada",
   "metadata": {},
   "outputs": [],
   "source": [
    "adata_reynolds_healthy_fb = sc.read(reynolds_dir + '/adata_reynolds_healthy_fb.h5ad', backup_url='https://zenodo.org/record/4708700/files/adata_reynolds_healthy_fb.h5ad?download=1')"
   ]
  },
  {
   "cell_type": "code",
   "execution_count": null,
   "id": "c491a24b-d992-4c47-aade-b26b8b60bc5a",
   "metadata": {},
   "outputs": [],
   "source": [
    "adata_reynolds_healthy_fb.obs['sample_stress'] = adata_reynolds_healthy_fb.obs['sample_id'].astype(str) + '_' + adata_reynolds_healthy_fb.obs['hypoxia_stress'].astype(str)"
   ]
  },
  {
   "cell_type": "code",
   "execution_count": null,
   "id": "5506cc0f-5bf1-4622-b294-0056c62f2b85",
   "metadata": {},
   "outputs": [],
   "source": [
    "for adata_name in ['adata_reynolds_healthy_fb']:\n",
    "    sc.pp.filter_genes(eval(adata_name), min_counts=1)\n",
    "    sc.pp.highly_variable_genes(eval(adata_name))\n",
    "    sc.pp.pca(eval(adata_name), random_state=seed, n_comps=30)\n",
    "    sce.pp.harmony_integrate(eval(adata_name), key='sample_stress', epsilon_cluster = 1e-4, epsilon_harmony = 1e-5, max_iter_harmony=30)\n",
    "    sc.pp.neighbors(eval(adata_name), n_neighbors=int(len(eval(adata_name)) ** 0.5 // 2), use_rep='X_pca_harmony')\n",
    "    sc.tl.umap(eval(adata_name), min_dist=0.05, random_state=seed)"
   ]
  },
  {
   "cell_type": "code",
   "execution_count": null,
   "id": "84776240-d59b-40b2-bdaa-58e72c378124",
   "metadata": {},
   "outputs": [],
   "source": [
    "sc.pl.umap(adata_reynolds_healthy_fb, color=['hypoxia_stress'])"
   ]
  },
  {
   "cell_type": "markdown",
   "id": "70868a43-1575-4772-93ae-f87d4ee1f0ed",
   "metadata": {},
   "source": [
    "### bbknn for batch and for sample"
   ]
  },
  {
   "cell_type": "code",
   "execution_count": null,
   "id": "ae446138-c717-4f3d-9a13-468e1d089f83",
   "metadata": {},
   "outputs": [],
   "source": [
    "adata_reynolds_healthy_fb = sc.read(reynolds_dir + '/adata_reynolds_healthy_fb.h5ad', backup_url='https://zenodo.org/record/4708700/files/adata_reynolds_healthy_fb.h5ad?download=1')"
   ]
  },
  {
   "cell_type": "code",
   "execution_count": null,
   "id": "ba415fe0-507b-4511-8385-8610d3a118a6",
   "metadata": {},
   "outputs": [],
   "source": [
    "adata_reynolds_healthy_fb.obs['sample_stress'] = adata_reynolds_healthy_fb.obs['sample_id'].astype(str) + '_' + adata_reynolds_healthy_fb.obs['hypoxia_stress'].astype(str)"
   ]
  },
  {
   "cell_type": "code",
   "execution_count": null,
   "id": "2eacc035-3fe4-46b3-a795-9b83cd3adf81",
   "metadata": {},
   "outputs": [],
   "source": [
    "for adata_name in ['adata_reynolds_healthy_fb']:\n",
    "    sc.pp.filter_genes(eval(adata_name), min_counts=1)\n",
    "    sc.pp.highly_variable_genes(eval(adata_name))\n",
    "    sc.pp.pca(eval(adata_name), random_state=seed, n_comps=30)\n",
    "    sce.pp.bbknn(eval(adata_name), metric='angular', batch_key='sample_stress', neighbors_within_batch=2, set_op_mix_ratio=0.9)\n",
    "    sc.tl.umap(eval(adata_name), min_dist=0.05, random_state=seed)"
   ]
  },
  {
   "cell_type": "code",
   "execution_count": null,
   "id": "c18544b2-e95f-4e05-89f8-8881924f8aa7",
   "metadata": {},
   "outputs": [],
   "source": [
    "sc.pl.umap(adata_reynolds_healthy_fb, color=['hypoxia_stress'])"
   ]
  },
  {
   "cell_type": "markdown",
   "id": "6ae2a73a-2087-4629-8bf9-a6f7ca4fb760",
   "metadata": {},
   "source": [
    "## Regress out"
   ]
  },
  {
   "cell_type": "code",
   "execution_count": null,
   "id": "5b90450a-18ec-4d46-9eed-08d359571ecc",
   "metadata": {},
   "outputs": [],
   "source": [
    "adata_reynolds_healthy_fb = sc.read(reynolds_dir + '/adata_reynolds_healthy_fb.h5ad', backup_url='https://zenodo.org/record/4708700/files/adata_reynolds_healthy_fb.h5ad?download=1')"
   ]
  },
  {
   "cell_type": "code",
   "execution_count": null,
   "id": "709cbbac-2cc0-4495-b60b-33f329b32c61",
   "metadata": {},
   "outputs": [],
   "source": [
    "sc.pp.filter_genes(adata_reynolds_healthy_fb, min_counts=1)"
   ]
  },
  {
   "cell_type": "code",
   "execution_count": null,
   "id": "131135bf-f416-41fb-95f9-5a3807bc34e9",
   "metadata": {},
   "outputs": [],
   "source": [
    "sc.pp.regress_out(adata_reynolds_healthy_fb, keys=['hypoxia_stress_Stress', 'hypoxia_stress_Hypoxia'], n_jobs=1)"
   ]
  },
  {
   "cell_type": "code",
   "execution_count": null,
   "id": "f2dcde33-32a1-49ba-8e17-07a01d190afc",
   "metadata": {},
   "outputs": [],
   "source": [
    "for adata_name in ['adata_reynolds_healthy_fb']:\n",
    "    sc.pp.pca(eval(adata_name), random_state=seed, n_comps=30)\n",
    "    sce.pp.harmony_integrate(eval(adata_name), key='sample_id', epsilon_cluster = 1e-4, epsilon_harmony = 1e-5, max_iter_harmony=30)\n",
    "    sc.pp.neighbors(eval(adata_name), n_neighbors=int(len(eval(adata_name)) ** 0.5 // 2), use_rep='X_pca_harmony')\n",
    "    sc.tl.umap(eval(adata_name), min_dist=0.05, random_state=seed)"
   ]
  },
  {
   "cell_type": "code",
   "execution_count": null,
   "id": "72632795-201d-4eea-a43f-4ba97b2e9738",
   "metadata": {},
   "outputs": [],
   "source": [
    "sc.pl.umap(adata_reynolds_healthy_fb, color=['hypoxia_stress', 'sample_id'])"
   ]
  },
  {
   "cell_type": "markdown",
   "id": "d0258fe1-3af5-43c3-aed1-6632f00d6fe8",
   "metadata": {},
   "source": [
    "## Regress out of normal / stress populations"
   ]
  },
  {
   "cell_type": "code",
   "execution_count": null,
   "id": "6696ec61-f2d0-40f4-9794-6dea0d0c7a9f",
   "metadata": {},
   "outputs": [],
   "source": [
    "adata_reynolds_healthy_fb = sc.read(reynolds_dir + '/adata_reynolds_healthy_fb.h5ad', backup_url='https://zenodo.org/record/4708700/files/adata_reynolds_healthy_fb.h5ad?download=1')"
   ]
  },
  {
   "cell_type": "code",
   "execution_count": null,
   "id": "15107b1e-c31d-42a3-9cff-5cbd71905fb3",
   "metadata": {},
   "outputs": [],
   "source": [
    "adata_reynolds_healthy_fb = adata_reynolds_healthy_fb[adata_reynolds_healthy_fb.obs['hypoxia_stress'].isin(['Normal', 'Stress'])]"
   ]
  },
  {
   "cell_type": "code",
   "execution_count": null,
   "id": "9d738801-f679-4c0c-9ba1-059cf8f1115d",
   "metadata": {},
   "outputs": [],
   "source": [
    "sc.pp.filter_genes(adata_reynolds_healthy_fb, min_counts=1)"
   ]
  },
  {
   "cell_type": "code",
   "execution_count": null,
   "id": "eb1fea44-5baf-43c6-9526-19ef883ef448",
   "metadata": {},
   "outputs": [],
   "source": [
    "sc.pp.regress_out(adata_reynolds_healthy_fb, keys=['hypoxia_stress_Stress'], n_jobs=1)"
   ]
  },
  {
   "cell_type": "code",
   "execution_count": null,
   "id": "fca2d844-3e46-4a44-9015-c0b3a36592a2",
   "metadata": {},
   "outputs": [],
   "source": [
    "for adata_name in ['adata_reynolds_healthy_fb']:\n",
    "    sc.pp.pca(eval(adata_name), random_state=seed, n_comps=30)\n",
    "    sce.pp.harmony_integrate(eval(adata_name), key='sample_id', epsilon_cluster = 1e-4, epsilon_harmony = 1e-5, max_iter_harmony=30)\n",
    "    sc.pp.neighbors(eval(adata_name), n_neighbors=int(len(eval(adata_name)) ** 0.5 // 2), use_rep='X_pca_harmony')\n",
    "    sc.tl.umap(eval(adata_name), min_dist=0.05, random_state=seed)"
   ]
  },
  {
   "cell_type": "code",
   "execution_count": null,
   "id": "f1bd5840-c8f5-4ca6-b825-5f0b1b721182",
   "metadata": {},
   "outputs": [],
   "source": [
    "sc.pl.umap(adata_reynolds_healthy_fb, color=['hypoxia_stress', 'sample_id'])"
   ]
  },
  {
   "cell_type": "markdown",
   "id": "f9e1025a-7dfb-4377-a2b5-a9f35e40df6d",
   "metadata": {},
   "source": [
    "## Regress out of normal / hypoxia populations"
   ]
  },
  {
   "cell_type": "code",
   "execution_count": null,
   "id": "33d8f337-8131-4cd6-b3ae-6e4393ca26b8",
   "metadata": {},
   "outputs": [],
   "source": [
    "adata_reynolds_healthy_fb = sc.read(reynolds_dir + '/adata_reynolds_healthy_fb.h5ad', backup_url='https://zenodo.org/record/4708700/files/adata_reynolds_healthy_fb.h5ad?download=1')"
   ]
  },
  {
   "cell_type": "code",
   "execution_count": null,
   "id": "c0a56aa7-6c08-4394-94e2-9119a0fad272",
   "metadata": {},
   "outputs": [],
   "source": [
    "adata_reynolds_healthy_fb = adata_reynolds_healthy_fb[adata_reynolds_healthy_fb.obs['hypoxia_stress'].isin(['Normal', 'Hypoxia'])]"
   ]
  },
  {
   "cell_type": "code",
   "execution_count": null,
   "id": "422e065e-8950-4596-b0f6-fb002f7aae87",
   "metadata": {},
   "outputs": [],
   "source": [
    "sc.pp.filter_genes(adata_reynolds_healthy_fb, min_counts=1)"
   ]
  },
  {
   "cell_type": "code",
   "execution_count": null,
   "id": "1c96bcad-d8b3-4dac-b51e-122c5baf4496",
   "metadata": {},
   "outputs": [],
   "source": [
    "sc.pp.regress_out(adata_reynolds_healthy_fb, keys=['hypoxia_stress_Hypoxia'], n_jobs=1)"
   ]
  },
  {
   "cell_type": "code",
   "execution_count": null,
   "id": "cd1d6f83-5ecc-4678-869d-3e071ad81b13",
   "metadata": {},
   "outputs": [],
   "source": [
    "for adata_name in ['adata_reynolds_healthy_fb']:\n",
    "    sc.pp.pca(eval(adata_name), random_state=seed, n_comps=30)\n",
    "    sce.pp.harmony_integrate(eval(adata_name), key='sample_id', epsilon_cluster = 1e-4, epsilon_harmony = 1e-5, max_iter_harmony=30)\n",
    "    sc.pp.neighbors(eval(adata_name), n_neighbors=int(len(eval(adata_name)) ** 0.5 // 2), use_rep='X_pca_harmony')\n",
    "    sc.tl.umap(eval(adata_name), min_dist=0.05, random_state=seed)"
   ]
  },
  {
   "cell_type": "code",
   "execution_count": null,
   "id": "8f232549-681c-4471-ac18-263ccd3610fd",
   "metadata": {},
   "outputs": [],
   "source": [
    "sc.pl.umap(adata_reynolds_healthy_fb, color=['hypoxia_stress', 'sample_id'])"
   ]
  },
  {
   "cell_type": "code",
   "execution_count": null,
   "id": "7d86bdb4-17e8-4104-90af-7e1a0fc5d951",
   "metadata": {},
   "outputs": [],
   "source": [
    "dict_cat = {'A1': ['PI16', 'QPCT', 'SLPI', 'CCN5', 'WIF2', 'CPE', 'CTHRC1', 'MFAP5', 'PCOLCE2', 'SCARA5', 'TSPAN8'], \n",
    "            'A2': ['APCDD1', 'COL18A1', 'COMP', 'NKD2', 'F13A1', 'HSPB3', 'LEPR', 'TGFBI'], \n",
    "            'B1': ['CXCL2', 'MYC', 'C7', 'SPSB1', 'ITM2A'], \n",
    "            'B2': ['SOCS3', 'CCL19', 'CD74', 'RARRES2', 'CCDC146', 'IGFBP3', 'TNFSF13B'], \n",
    "            'C': ['CRABP1', 'PLXDC1', 'RSPO4', 'ASPN', 'F2R', 'POSTN', 'TNN']}"
   ]
  },
  {
   "cell_type": "code",
   "execution_count": null,
   "id": "ec609d2a-5f55-4108-97b3-e57c6c7c7293",
   "metadata": {},
   "outputs": [],
   "source": [
    "del adata_reynolds_healthy_fb.var"
   ]
  },
  {
   "cell_type": "code",
   "execution_count": null,
   "id": "2d5bdc13-fe08-4105-9549-2ad8876c3d31",
   "metadata": {},
   "outputs": [],
   "source": [
    "sc.tl.leiden(adata_reynolds_healthy_fb, resolution=1.4, random_state=seed)"
   ]
  },
  {
   "cell_type": "code",
   "execution_count": null,
   "id": "f9eae9b9-3d26-4f50-b22b-4452db538fe5",
   "metadata": {},
   "outputs": [],
   "source": [
    "assign_cats(adata_reynolds_healthy_fb, dict_cats=dict_cat, column_groupby='leiden', intermediate_states=True, diff=0.05, min_score=0.4, key_added='fb_JID')\n",
    "sc.pl.umap(adata_reynolds_healthy_fb, color=['leiden', 'fb_JID', 'fb_JID_max',\n",
    "                           'fb_JID_A1', 'fb_JID_A2', 'fb_JID_B1', 'fb_JID_B2', 'fb_JID_C'], legend_loc='on data', cmap=magma, use_raw=False)"
   ]
  },
  {
   "cell_type": "markdown",
   "id": "00a5b849-b0c6-431a-8664-96a3e4038144",
   "metadata": {},
   "source": [
    "# Seeing the percentage of counts assigned to hypoxia / stress populations"
   ]
  },
  {
   "cell_type": "code",
   "execution_count": null,
   "id": "1741e1fb-79a4-48f9-9c93-847703d8aaeb",
   "metadata": {},
   "outputs": [],
   "source": [
    "adata_reynolds_healthy_fb = sc.read(reynolds_dir + '/adata_reynolds_healthy_fb.h5ad', backup_url='https://zenodo.org/record/4708700/files/adata_reynolds_healthy_fb.h5ad?download=1')"
   ]
  },
  {
   "cell_type": "code",
   "execution_count": null,
   "id": "7320068a-af60-4eb6-98ce-4210806ea505",
   "metadata": {},
   "outputs": [],
   "source": [
    "bool_stress = np.array([True if i in stress_genes else False for i in adata_reynolds_healthy_fb.var_names])\n",
    "bool_hypoxia = np.array([True if i in hypoxia_genes else False for i in adata_reynolds_healthy_fb.var_names])\n",
    "bool_normal = 1 - (bool_stress + bool_hypoxia)"
   ]
  },
  {
   "cell_type": "code",
   "execution_count": null,
   "id": "55c71426-118e-4889-90e3-f47ba597688b",
   "metadata": {},
   "outputs": [],
   "source": [
    "bool_normal.sum()"
   ]
  },
  {
   "cell_type": "code",
   "execution_count": null,
   "id": "15bc5c7b-ecbb-4f95-9a37-2eb97d5851cf",
   "metadata": {},
   "outputs": [],
   "source": [
    "adata_reynolds_healthy_fb[:, [True if i in stress_genes for i in adata_reynolds_healthy_fb.var_names else False]]"
   ]
  },
  {
   "cell_type": "code",
   "execution_count": null,
   "id": "b09a5f7f-318c-4b1d-8875-031c7e944b90",
   "metadata": {},
   "outputs": [],
   "source": [
    "mirar qué porcentaje de los counts de las células de stress/hipoxia pertenecen a los marcadores"
   ]
  }
 ],
 "metadata": {
  "kernelspec": {
   "display_name": "Python [conda env:alex-base] *",
   "language": "python",
   "name": "conda-env-alex-base-py"
  },
  "language_info": {
   "codemirror_mode": {
    "name": "ipython",
    "version": 3
   },
   "file_extension": ".py",
   "mimetype": "text/x-python",
   "name": "python",
   "nbconvert_exporter": "python",
   "pygments_lexer": "ipython3",
   "version": "3.8.0"
  }
 },
 "nbformat": 4,
 "nbformat_minor": 5
}
