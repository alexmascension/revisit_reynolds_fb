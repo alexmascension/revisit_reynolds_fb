{
 "cells": [
  {
   "cell_type": "code",
   "execution_count": null,
   "id": "strategic-crystal",
   "metadata": {
    "tags": []
   },
   "outputs": [],
   "source": [
    "import scanpy as sc\n",
    "import scanpy.external as sce\n",
    "\n",
    "import pandas as pd\n",
    "import numpy as np\n",
    "import os\n",
    "from functools import reduce\n",
    "import gseapy as gp\n",
    "\n",
    "import triku as tk\n",
    "\n",
    "import matplotlib.pyplot as plt\n",
    "import matplotlib as mpl\n",
    "import seaborn as sns\n",
    "\n",
    "import scipy.stats as sts\n",
    "\n",
    "import gc\n",
    "\n",
    "from cellassign import assign_cats\n",
    "\n",
    "import time\n",
    "from scipy.stats import linregress\n",
    "\n",
    "from tqdm.notebook import tqdm"
   ]
  },
  {
   "cell_type": "code",
   "execution_count": null,
   "id": "editorial-maintenance",
   "metadata": {},
   "outputs": [],
   "source": [
    "seed = 0"
   ]
  },
  {
   "cell_type": "code",
   "execution_count": null,
   "id": "amateur-reducing",
   "metadata": {},
   "outputs": [],
   "source": [
    "# Palettes for UMAP gene expression\n",
    "\n",
    "magma = [plt.get_cmap('magma')(i) for i in np.linspace(0,1, 80)]\n",
    "magma[0] = (0.88, 0.88, 0.88, 1)\n",
    "magma = mpl.colors.LinearSegmentedColormap.from_list(\"\", magma[:65])"
   ]
  },
  {
   "cell_type": "code",
   "execution_count": null,
   "id": "vertical-cotton",
   "metadata": {},
   "outputs": [],
   "source": [
    "mpl.rcParams['figure.dpi'] = 200  # Set this to make higher quality figures"
   ]
  },
  {
   "cell_type": "markdown",
   "id": "8d1e0bb9-ce4b-43aa-a211-1eb075286d1e",
   "metadata": {},
   "source": [
    "# Analyzing runtimes of a standard processing pipeline"
   ]
  },
  {
   "cell_type": "code",
   "execution_count": null,
   "id": "7fbfd5e0-c82e-4182-8a96-4b9102ac321c",
   "metadata": {
    "tags": []
   },
   "outputs": [],
   "source": [
    "reynolds_dir = 'reynolds_2020'\n",
    "\n",
    "adata_all = sc.read(f\"{reynolds_dir}/reynolds_2020.h5ad\")"
   ]
  },
  {
   "cell_type": "code",
   "execution_count": null,
   "id": "01a6b3fa-c4ae-4d01-aee0-81136694b8f2",
   "metadata": {
    "tags": []
   },
   "outputs": [],
   "source": [
    "dict_times = {\n",
    "    'Number of cells': [],\n",
    "    'Filter genes': [],\n",
    "    'Log1p': [],\n",
    "    'Normalization': [],\n",
    "    'PCA': [],\n",
    "    'Batch effect correction (harmony)': [],\n",
    "    'Batch effect correction (bbknn)': [],\n",
    "    'Neighbors': [],\n",
    "    'Feature selection': [],\n",
    "    'UMAP': [],\n",
    "    'Leiden': [], \n",
    "    'DEGs': [],\n",
    "    'Total': [],\n",
    "}\n",
    "\n",
    "\n",
    "def run_analysis(adata, n_cells, min_cells=5, random_state=0):\n",
    "    adata_sub = sc.pp.subsample(adata,n_obs=n_cells, copy=True, random_state=random_state)\n",
    "    \n",
    "    \n",
    "    names, counts = np.unique(adata_sub.obs['sample_id'], return_counts=True)\n",
    "    adata_sub = adata_sub[adata_sub.obs['sample_id'].isin(names[counts > min_cells])]\n",
    "    dict_times['Number of cells'].append(len(adata_sub))\n",
    "    print(len(adata_sub))\n",
    "    \n",
    "    t_total = time.time()\n",
    "    t = time.time()\n",
    "    sc.pp.filter_genes(adata_sub, min_counts=50)\n",
    "    dict_times['Filter genes'].append(time.time() - t)\n",
    "    \n",
    "    t = time.time()\n",
    "    sc.pp.log1p(adata_sub)\n",
    "    dict_times['Log1p'].append(time.time() - t)\n",
    "    \n",
    "    t = time.time()\n",
    "    sc.pp.normalize_total(adata_sub)\n",
    "    dict_times['Normalization'].append(time.time() - t)\n",
    "    \n",
    "    sc.pp.filter_genes(adata_sub, min_counts=1)\n",
    "    \n",
    "    t = time.time()\n",
    "    sc.pp.pca(adata_sub, random_state=seed, n_comps=30)\n",
    "    dict_times['PCA'].append(time.time() - t)\n",
    "\n",
    "    t = time.time()\n",
    "    sce.pp.bbknn(adata_sub, metric='angular', batch_key='sample_id', neighbors_within_batch=5)\n",
    "    dict_times['Batch effect correction (bbknn)'].append(time.time() - t)\n",
    "    \n",
    "    t = time.time()\n",
    "    sce.pp.harmony_integrate(adata_sub, max_iter_harmony=50, key='sample_id', basis='X_pca', adjusted_basis='X_pca_harmony', verbose=False)\n",
    "    dict_times['Batch effect correction (harmony)'].append(time.time() - t)\n",
    "    \n",
    "    t = time.time()\n",
    "    sc.pp.neighbors(adata_sub, use_rep='X_pca_harmony')\n",
    "    dict_times['Neighbors'].append(time.time() - t)\n",
    "    \n",
    "    t = time.time()\n",
    "    tk.tl.triku(adata_sub, use_raw=False)\n",
    "    dict_times['Feature selection'].append(time.time() - t)\n",
    "    \n",
    "    t = time.time()\n",
    "    sc.tl.umap(adata_sub)\n",
    "    dict_times['UMAP'].append(time.time() - t)\n",
    "    \n",
    "    t = time.time()\n",
    "    sc.tl.leiden(adata_sub)\n",
    "    dict_times['Leiden'].append(time.time() - t)\n",
    "    \n",
    "    t = time.time()\n",
    "    sc.tl.rank_genes_groups(adata_sub, groupby='leiden')\n",
    "    dict_times['DEGs'].append(time.time() - t)\n",
    "    \n",
    "    dict_times['Total'].append(time.time() - t_total)"
   ]
  },
  {
   "cell_type": "code",
   "execution_count": null,
   "id": "1b15ab4c-9376-48dc-a4f6-e8ca83d69ec5",
   "metadata": {
    "tags": []
   },
   "outputs": [],
   "source": [
    "cats = [1000] * 3 + [2000] * 3 + [5000] * 3 + [10000] * 3 + [20000] * 3 + [50000] * 3 + [100000] * 3 + [200000] * 3 + [400000] * 3"
   ]
  },
  {
   "cell_type": "code",
   "execution_count": null,
   "id": "6e5d3c95-2500-42de-b474-9f8584da7601",
   "metadata": {
    "tags": []
   },
   "outputs": [],
   "source": [
    "for idx, n_cells in tqdm(enumerate(cats)):\n",
    "    run_analysis(adata=adata_all, n_cells=n_cells, random_state=idx)"
   ]
  },
  {
   "cell_type": "code",
   "execution_count": null,
   "id": "1d4113f2-8b5d-448c-84af-6d52efad44ec",
   "metadata": {
    "tags": []
   },
   "outputs": [],
   "source": [
    "df = pd.DataFrame(dict_times)\n",
    "df['Total (no harmony)'] = df['Total'] - df['Batch effect correction (harmony)']\n",
    "df['x'] = cats\n",
    "df"
   ]
  },
  {
   "cell_type": "code",
   "execution_count": null,
   "id": "19d62899-ec79-4345-9a79-e3d611236296",
   "metadata": {
    "tags": []
   },
   "outputs": [],
   "source": [
    "df.to_csv('figures/supp_table_times.csv')"
   ]
  },
  {
   "cell_type": "code",
   "execution_count": null,
   "id": "4a0eee84-d79a-41a9-a92d-b07d5c158c98",
   "metadata": {
    "tags": []
   },
   "outputs": [],
   "source": [
    "fig, ax = plt.subplots(1,1, figsize=(5, 3))\n",
    "\n",
    "means = df.groupby('x').mean()['Total (no harmony)'].values\n",
    "stds = df.groupby('x').std()['Total (no harmony)'].values\n",
    "xpos = df.groupby('x').mean().index.values\n",
    "\n",
    "ax.scatter(np.log10(xpos), np.log10(means), c=\"#7fb3d5\", marker='_')\n",
    "\n",
    "for x, mean, std in zip(xpos, means, stds):\n",
    "    ax.plot(np.log10([x, x]), np.log10([mean - std, mean + std]), c=\"#7fb3d5\",)\n",
    "    \n",
    "ax.set_xticks(np.log10([1000, 2000, 5000, 10000, 20000, 50000, 100000, 200000, 400000]))\n",
    "ax.set_xticklabels(['1k', '2k', '5k', '10k', '20k', '50k', '100k', '200k', '400k'])\n",
    "\n",
    "ax.set_yticks(np.log10([30, 60, 120, 300, 900, 1800, 3600]))\n",
    "ax.set_yticklabels(['30s', '1 min', '2 min', '5 min', '15 min', '30 min',  '1 h'])\n",
    "\n",
    "ax.set_xlabel('Number of cells')\n",
    "ax.set_ylabel('Computing time')\n",
    "\n",
    "\n",
    "# Plot regresssions\n",
    "l1 = linregress(np.log10(df['Number of cells'][df['Number of cells'] < 20000].values), np.log10(df['Total (no harmony)'][df['Number of cells'] < 20000].values))\n",
    "l2 = linregress(np.log10(df['Number of cells'][df['Number of cells'] > 20000].values), np.log10(df['Total (no harmony)'][df['Number of cells'] > 20000].values))\n",
    "ax.plot(np.log10([900, 100000]), l1.slope * np.log10([900, 100000]) + l1.intercept, alpha=0.1, c=\"#008800\")\n",
    "ax.plot(np.log10([10000, 500000]), l2.slope * np.log10([10000, 500000]) + l2.intercept, alpha=0.1, c=\"#880000\")\n",
    "\n",
    "# Plot horizontal bars\n",
    "alpha, color = 0.2, \"#7fb3d5\"\n",
    "ax.plot(np.log10([1000, 420000]), np.log10([3600, 3600]), alpha=alpha, c=color)\n",
    "ax.plot(np.log10([1000, 420000]), np.log10([1800, 1800]), alpha=alpha, c=color)\n",
    "ax.plot(np.log10([1000, 420000]), np.log10([900, 900]), alpha=alpha, c=color)\n",
    "ax.plot(np.log10([1000, 420000]), np.log10([300, 300]), alpha=alpha, c=color)\n",
    "ax.plot(np.log10([1000, 420000]), np.log10([120, 120]), alpha=alpha, c=color)\n",
    "ax.plot(np.log10([1000, 420000]), np.log10([60, 60]), alpha=alpha, c=color)\n",
    "ax.plot(np.log10([1000, 420000]), np.log10([30, 30]), alpha=alpha, c=color)\n",
    "\n",
    "ax.spines['right'].set_visible(False)\n",
    "ax.spines['top'].set_visible(False)\n",
    "\n",
    "ax.text(3, 3.35, f'$time (s) = 10 ^ {{{l1.slope:.2f} \\cdot log_{{{10}}}(n_c) {l1.intercept:.2f}}}$', fontsize=10, alpha=0.4, c=\"#008800\")\n",
    "ax.text(3, 3.05, f'$time (s) = 10 ^ {{{l2.slope:.2f} \\cdot log_{{{10}}}(n_c) {l2.intercept:.2f}}}$', fontsize=10, alpha=0.4, c=\"#880000\")\n",
    "\n",
    "\n",
    "plt.tight_layout()\n",
    "plt.savefig('figures/figtimes.pdf')"
   ]
  },
  {
   "cell_type": "code",
   "execution_count": null,
   "id": "bf9ff68c-4a45-43ec-bcbd-a87805f6cd82",
   "metadata": {
    "tags": []
   },
   "outputs": [],
   "source": [
    "from scipy.stats import linregress"
   ]
  },
  {
   "cell_type": "code",
   "execution_count": null,
   "id": "fa2d280f-d32f-4af3-a852-6d766bd6501a",
   "metadata": {
    "tags": []
   },
   "outputs": [],
   "source": []
  },
  {
   "cell_type": "code",
   "execution_count": null,
   "id": "2facc231-71c2-438b-884e-b54bbed673b3",
   "metadata": {
    "tags": []
   },
   "outputs": [],
   "source": []
  },
  {
   "cell_type": "code",
   "execution_count": null,
   "id": "f644c919-c53b-45cd-a859-c93f479a0cfd",
   "metadata": {
    "tags": []
   },
   "outputs": [],
   "source": [
    "linregress(np.log10(df['Number of cells'].values), \n",
    "           np.log10(df['Total (no harmony)'].values))"
   ]
  }
 ],
 "metadata": {
  "kernelspec": {
   "display_name": "Python [conda env:alex-base] *",
   "language": "python",
   "name": "conda-env-alex-base-py"
  },
  "language_info": {
   "codemirror_mode": {
    "name": "ipython",
    "version": 3
   },
   "file_extension": ".py",
   "mimetype": "text/x-python",
   "name": "python",
   "nbconvert_exporter": "python",
   "pygments_lexer": "ipython3",
   "version": "3.8.0"
  }
 },
 "nbformat": 4,
 "nbformat_minor": 5
}
