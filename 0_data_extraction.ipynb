{
 "cells": [
  {
   "cell_type": "markdown",
   "id": "eastern-alias",
   "metadata": {},
   "source": [
    "# Data extraction of Reynolds dataset\n",
    "\n",
    "In this notebook we are going to extract the processed and raw data files."
   ]
  },
  {
   "cell_type": "code",
   "execution_count": null,
   "id": "professional-china",
   "metadata": {},
   "outputs": [],
   "source": [
    "# UNCOMMENT THIS TO INSTALL STUFF!\n",
    "# !wget https://raw.githubusercontent.com/alexmascension/revisit_reynolds_fb/master/requirements.txt\n",
    "# !pip install -r requirements.txt"
   ]
  },
  {
   "cell_type": "code",
   "execution_count": null,
   "id": "burning-shadow",
   "metadata": {},
   "outputs": [],
   "source": [
    "import scanpy as sc\n",
    "import os\n",
    "import pandas as pd\n",
    "from tqdm.notebook import tqdm\n",
    "\n",
    "pd.set_option('display.max_columns', None)"
   ]
  },
  {
   "cell_type": "code",
   "execution_count": null,
   "id": "latin-balance",
   "metadata": {},
   "outputs": [],
   "source": [
    "data_dir = os.getcwd()"
   ]
  },
  {
   "cell_type": "code",
   "execution_count": null,
   "id": "ongoing-physiology",
   "metadata": {},
   "outputs": [],
   "source": [
    "human_gencode_dir = \"/media/seth/SETH_DATA/SETH_Alex/Programs/human_GRCh38_gencode.v31.600\""
   ]
  },
  {
   "cell_type": "code",
   "execution_count": null,
   "id": "contrary-there",
   "metadata": {},
   "outputs": [],
   "source": [
    "reynolds_dir = data_dir + '/reynolds_2020'\n",
    "os.makedirs(reynolds_dir, exist_ok=True)"
   ]
  },
  {
   "cell_type": "markdown",
   "id": "greenhouse-accordance",
   "metadata": {},
   "source": [
    "### Direct h5ad download"
   ]
  },
  {
   "cell_type": "code",
   "execution_count": null,
   "id": "optional-criticism",
   "metadata": {},
   "outputs": [],
   "source": [
    "!aria2c -x 16 https://zenodo.org/record/4536165/files/submission_210120.h5ad?download=1 -d {reynolds_dir} -o reynolds_2020.h5ad"
   ]
  },
  {
   "cell_type": "markdown",
   "id": "color-recruitment",
   "metadata": {},
   "source": [
    "### FASTQ processing"
   ]
  },
  {
   "cell_type": "code",
   "execution_count": null,
   "id": "confused-mission",
   "metadata": {},
   "outputs": [],
   "source": [
    "!aria2c -x 16 https://www.ebi.ac.uk/arrayexpress/files/E-MTAB-8142/E-MTAB-8142.sdrf.txt -d {reynolds_dir} -o acctable.txt"
   ]
  },
  {
   "cell_type": "code",
   "execution_count": null,
   "id": "palestinian-vessel",
   "metadata": {},
   "outputs": [],
   "source": [
    "reynolds_metadata = pd.read_csv(reynolds_dir + '/acctable.txt', sep='\\t')"
   ]
  },
  {
   "cell_type": "markdown",
   "id": "twelve-dinner",
   "metadata": {},
   "source": [
    "**We will only download the fibroblasts from healthy donors. If you want to download other datasets, set the reynolds_metadata_sub with the datasets of your preference**"
   ]
  },
  {
   "cell_type": "code",
   "execution_count": null,
   "id": "threaded-engineer",
   "metadata": {},
   "outputs": [],
   "source": [
    "reynolds_metadata_sub = reynolds_metadata[reynolds_metadata['Characteristics[FACS sorting]'] == 'fibroblasts']"
   ]
  },
  {
   "cell_type": "code",
   "execution_count": null,
   "id": "widespread-trainer",
   "metadata": {},
   "outputs": [],
   "source": [
    "reynolds_metadata_sub"
   ]
  },
  {
   "cell_type": "code",
   "execution_count": null,
   "id": "textile-touch",
   "metadata": {},
   "outputs": [],
   "source": [
    "df = pd.DataFrame({'name': [f\"{reynolds_metadata_sub.index[i]}_{reynolds_metadata_sub['Source Name'].values[i]}_{reynolds_metadata_sub['Characteristics[individual]'].values[i]}_{reynolds_metadata_sub['Characteristics[sampling site]'].values[i]}_{reynolds_metadata_sub['Characteristics[FACS sorting]'].values[i].replace('/', '-').replace(' ', '-')}\" for i in range(len(reynolds_metadata_sub))], \n",
    "                   'technology': ['10xv2'] * len(reynolds_metadata_sub), \n",
    "                   'targetnumcells': [1000] * len(reynolds_metadata_sub)})\n",
    "\n",
    "df.to_csv(reynolds_dir + '/metadata.tab', sep='\\t', index=None)"
   ]
  },
  {
   "cell_type": "code",
   "execution_count": null,
   "id": "double-stations",
   "metadata": {},
   "outputs": [],
   "source": [
    "df"
   ]
  },
  {
   "cell_type": "code",
   "execution_count": null,
   "id": "imperial-fourth",
   "metadata": {},
   "outputs": [],
   "source": [
    "for idx, name, indv, site, facs, f1, f2 in zip(reynolds_metadata_sub.index, \n",
    "                                               reynolds_metadata_sub['Source Name'].values, \n",
    "                                    reynolds_metadata_sub['Characteristics[individual]'].values,\n",
    "                                    reynolds_metadata_sub['Characteristics[sampling site]'].values,\n",
    "                                    reynolds_metadata_sub['Characteristics[FACS sorting]'].values,\n",
    "                                    reynolds_metadata_sub['Comment[FASTQ_URI]'].values, \n",
    "                                    reynolds_metadata_sub['Comment[FASTQ_URI].1'].values):\n",
    "    \n",
    "    facs = facs.replace('/', '-').replace(' ', '-')\n",
    "    str_file = f'{idx}_{name}_{indv}_{site}_{facs}'\n",
    "    print(str_file)\n",
    "    while not os.path.exists(f'{reynolds_dir}/reynolds_2020_{str_file}.loom'):\n",
    "        print(idx, name, indv, site, facs, f1, f2)\n",
    "\n",
    "        os.system(f'cd {reynolds_dir} && aria2c -x 16 --file-allocation=none {f1} -d {reynolds_dir} -o {str_file}_S1_L001_R1_001.fastq.gz')\n",
    "        os.system(f'cd {reynolds_dir} && aria2c -x 16 --file-allocation=none {f2} -d {reynolds_dir} -o {str_file}_S1_L001_R2_001.fastq.gz')\n",
    "\n",
    "        os.system(f'cd {reynolds_dir} && loompy fromfq reynolds_2020_{str_file}.loom {str_file} {human_gencode_dir} metadata.tab {str_file}_S1_L001_R1_001.fastq.gz {str_file}_S1_L001_R2_001.fastq.gz ')\n",
    "    else:\n",
    "        print(f'reynolds_2020_{str_file}.loom EXISTS!')\n",
    "        try:\n",
    "            os.system(f'rm {reynolds_dir}/{str_file}_S1_L001_R1_001.fastq.gz')\n",
    "            os.system(f'rm {reynolds_dir}/{str_file}_S1_L001_R2_001.fastq.gz')\n",
    "        except:\n",
    "            pass"
   ]
  }
 ],
 "metadata": {
  "kernelspec": {
   "display_name": "Python [conda env:alex-base] *",
   "language": "python",
   "name": "conda-env-alex-base-py"
  },
  "language_info": {
   "codemirror_mode": {
    "name": "ipython",
    "version": 3
   },
   "file_extension": ".py",
   "mimetype": "text/x-python",
   "name": "python",
   "nbconvert_exporter": "python",
   "pygments_lexer": "ipython3",
   "version": "3.8.0"
  }
 },
 "nbformat": 4,
 "nbformat_minor": 5
}
