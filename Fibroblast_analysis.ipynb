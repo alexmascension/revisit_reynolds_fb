{
 "cells": [
  {
   "cell_type": "code",
   "execution_count": null,
   "id": "constitutional-cursor",
   "metadata": {},
   "outputs": [],
   "source": [
    "# !wget https://raw.githubusercontent.com/alexmascension/revisit_reynolds_fb/master/requirements.txt\n",
    "# !pip install -r requirements.txt"
   ]
  },
  {
   "cell_type": "code",
   "execution_count": null,
   "id": "unavailable-polyester",
   "metadata": {},
   "outputs": [],
   "source": [
    "import scanpy as sc\n",
    "import scanpy.external as sce\n",
    "\n",
    "import pandas as pd\n",
    "import numpy as np\n",
    "import os\n",
    "from functools import reduce\n",
    "import gseapy as gp\n",
    "\n",
    "import triku as tk\n",
    "\n",
    "import matplotlib.pyplot as plt\n",
    "import matplotlib as mpl\n",
    "import seaborn as sns\n",
    "\n",
    "import scipy.stats as sts"
   ]
  },
  {
   "cell_type": "code",
   "execution_count": null,
   "id": "statutory-leonard",
   "metadata": {},
   "outputs": [],
   "source": [
    "# To print versions of imports \n",
    "\n",
    "import types\n",
    "\n",
    "def imports():\n",
    "    for name, val in globals().items():\n",
    "        if isinstance(val, types.ModuleType):\n",
    "            yield val.__name__\n",
    "\n",
    "excludes = ['builtins', 'types', 'sys']\n",
    "\n",
    "imported_modules = [module for module in imports() if module not in excludes]\n",
    "\n",
    "clean_modules = []\n",
    "\n",
    "for module in imported_modules:\n",
    "\n",
    "    sep = '.'  # to handle 'matplotlib.pyplot' cases\n",
    "    rest = module.split(sep, 1)[0]\n",
    "    clean_modules.append(rest)\n",
    "\n",
    "changed_imported_modules = list(set(clean_modules))  # drop duplicates\n",
    "\n",
    "pip_modules = !pip freeze  # you could also use `!conda list` with anaconda\n",
    "\n",
    "for module in pip_modules:\n",
    "    try:\n",
    "        name, version = module.split('==')\n",
    "        if name in changed_imported_modules:\n",
    "            print(name + '\\t' + version)\n",
    "    except:\n",
    "        pass"
   ]
  },
  {
   "cell_type": "code",
   "execution_count": null,
   "id": "rubber-radiation",
   "metadata": {},
   "outputs": [],
   "source": [
    "seed = 0"
   ]
  },
  {
   "cell_type": "code",
   "execution_count": null,
   "id": "detailed-marks",
   "metadata": {},
   "outputs": [],
   "source": [
    "# Palettes for UMAP gene expression\n",
    "\n",
    "magma = [plt.get_cmap('magma')(i) for i in np.linspace(0,1, 80)]\n",
    "magma[0] = (0.88, 0.88, 0.88, 1)\n",
    "magma = mpl.colors.LinearSegmentedColormap.from_list(\"\", magma[:65])"
   ]
  },
  {
   "cell_type": "code",
   "execution_count": null,
   "id": "urban-wesley",
   "metadata": {},
   "outputs": [],
   "source": [
    "selected_enr_cols = ['Gene_set', 'Term', 'Adjusted P-value', 'Odds Ratio', 'Genes']"
   ]
  },
  {
   "cell_type": "code",
   "execution_count": null,
   "id": "alpha-parallel",
   "metadata": {},
   "outputs": [],
   "source": [
    "mpl.rcParams['figure.dpi'] = 150"
   ]
  },
  {
   "cell_type": "code",
   "execution_count": null,
   "id": "assisted-hammer",
   "metadata": {},
   "outputs": [],
   "source": [
    "def assign_cats(adata, dict_cats, column_groupby='leiden', quantile_gene_sel=0.7, do_return=False, intermediate_states=False, diff=0.05, \n",
    "                key_added='assigned_cats', min_score=0.6, others_name='unassigned'):\n",
    "    \"\"\"\n",
    "    This functions uses a set of genes assigned to different categories so that leiden clusters can be assigned to one of these categories.\n",
    "    For example, to categorize fibroblasts from pericytes, endothelial cells, or cells with high mitochondrial content.\n",
    "    It could be done with each cell individually, but it is better to use clusters to discern the different categories because\n",
    "    the method, although efficient, can sometimes be noisy due to the noisiness of the sc datasets.\n",
    "    \"\"\"\n",
    "    \n",
    "    for cat in list(dict_cats.keys()):\n",
    "        mat_cat = np.zeros((len(adata), len(dict_cats[cat])), dtype=float)\n",
    "        \n",
    "        for gene_idx, gene in enumerate(dict_cats[cat]):\n",
    "            try:\n",
    "                mat_cat[:, gene_idx] = np.asarray(np.dot(adata.obsp['connectivities'], adata[:, gene].X).todense()).ravel() / adata.uns['neighbors']['params']['n_neighbors']\n",
    "                \n",
    "                # We normalize the expression to the maximum (per 98) of expression ** 0.5 to account to some extent for the expression of the gene. \n",
    "                # In the end, a gene highly expressed must account for more than a gene with lower expression\n",
    "                mat_cat[mat_cat[:, gene_idx] > 0, gene_idx] = np.argsort(np.argsort(mat_cat[mat_cat[:, gene_idx] > 0, gene_idx]))\n",
    "                mat_cat[:, gene_idx] /= np.max(mat_cat[:, gene_idx])\n",
    "            except:\n",
    "                print(f'Gene {gene} is not on the list')    \n",
    "            \n",
    "        sum_mat_cat = np.asarray(mat_cat.mean(1)).ravel()       \n",
    "        adata.obs[cat] = sum_mat_cat\n",
    "    \n",
    "    score_per_cluster = adata.obs[[column_groupby] + list(dict_cats.keys())].groupby(column_groupby).quantile(quantile_gene_sel)\n",
    "    max_cat_dict_std = dict(zip(score_per_cluster.std(1).index, score_per_cluster.std(1).values))\n",
    "    adata.obs[f'{key_added}_std'] = [max_cat_dict_std[i] for i in adata.obs[column_groupby]]\n",
    "    max_cat_dict_mean = dict(zip(score_per_cluster.mean(1).index, score_per_cluster.mean(1).values))\n",
    "    adata.obs[f'{key_added}_mean'] = [max_cat_dict_mean[i] for i in adata.obs[column_groupby]]\n",
    "    max_cat_dict_max = dict(zip(score_per_cluster.max(1).index, score_per_cluster.max(1).values))\n",
    "    adata.obs[f'{key_added}_max'] = [max_cat_dict_max[i] for i in adata.obs[column_groupby]]\n",
    "    adata.obs[f'{key_added}_CV'] = adata.obs[f'{key_added}_mean'] / adata.obs[f'{key_added}_std']\n",
    "    \n",
    "    for cat in score_per_cluster.columns:\n",
    "        max_cat_dict = dict(zip(score_per_cluster.index, score_per_cluster[cat].values))        \n",
    "        adata.obs[f'{key_added}_{cat}'] = [max_cat_dict[i] for i in adata.obs[column_groupby]]\n",
    "    \n",
    "    if intermediate_states: # For each cluster we will identify which categories are close to the highest one, and merge their names.\n",
    "        list_names_cats_per_cluster = []\n",
    "        for cluster in score_per_cluster.index:\n",
    "            scores_cluster = score_per_cluster.loc[cluster]\n",
    "            scores_cluster = scores_cluster[scores_cluster > scores_cluster.max() - diff]\n",
    "            list_names_cats_per_cluster.append('/'.join(scores_cluster.index))\n",
    "        \n",
    "        final_cat_dict = dict(zip(score_per_cluster.idxmax(axis=1).index, list_names_cats_per_cluster))\n",
    "    else:        \n",
    "        final_cat_dict = dict(zip(score_per_cluster.idxmax(axis=1).index, score_per_cluster.idxmax(axis=1).values))\n",
    "    \n",
    "    adata.obs[f'{key_added}'] = [str(final_cat_dict[i]) for i in adata.obs[column_groupby]]\n",
    "    \n",
    "    adata.obs[f'{key_added}'][adata.obs[f'{key_added}_max'] < min_score] = others_name\n",
    "    \n",
    "    if do_return:\n",
    "        return score_per_cluster"
   ]
  },
  {
   "cell_type": "markdown",
   "id": "israeli-flooring",
   "metadata": {},
   "source": [
    "# Reynolds et al. 2020 dataset download and preprocess\n",
    "In this section we are going to download and process the anndata files for the 5 healthy samples (S1 to S5). We are first going to use the processed files from Reynolds et al., because they contain the main fb populations, which we are interested in (FB1-3). With that, we can partially replicate the analysis. However, the data richness is not that good (the UMAPs are more *blooby*) so we preprocess the FASTQ files on our own, and used the processed adatas.\n",
    "\n",
    "Once we have our own anndatas, the preprocessing is the following:\n",
    "* Assign FB types based on Reynolds adatas to our adatas. Some cells will be unassigned.\n",
    "* QC metrics \n",
    "* Filter genes (min counts = 30)\n",
    "* Set raw X\n",
    "* Normalize and log1p\n",
    "* PCA + triku + neighbors + umap + leiden\n",
    "* Use  `assign_cats` to assign leiden clusters to cell populations with selected markers (markers for each dataset may vary!)\n",
    "* Filter adata to retain only fibroblasts\n",
    "* Filter genes to remove 0 counts\n",
    "* PCA + triku + neighbors + umap + leiden [leiden is not used here but may be used later]\n",
    "* Check if strange populations appear and filter them in `assign_cats`, then repeat the last steps."
   ]
  },
  {
   "cell_type": "code",
   "execution_count": null,
   "id": "employed-customs",
   "metadata": {},
   "outputs": [],
   "source": [
    "os.getcwd()"
   ]
  },
  {
   "cell_type": "code",
   "execution_count": null,
   "id": "specified-honduras",
   "metadata": {},
   "outputs": [],
   "source": [
    "reynolds_dir = 'reynolds_2020'\n",
    "os.makedirs(reynolds_dir, exist_ok=True)\n",
    "\n",
    "\n",
    "papers_dir = 'papers_genes_bad_quality'\n",
    "os.makedirs(papers_dir, exist_ok=True)"
   ]
  },
  {
   "cell_type": "markdown",
   "id": "suspended-consortium",
   "metadata": {},
   "source": [
    "### Making and saving the fb healthy dataset to zenodo"
   ]
  },
  {
   "cell_type": "code",
   "execution_count": null,
   "id": "worse-network",
   "metadata": {},
   "outputs": [],
   "source": [
    "# adata_reynolds = sc.read('submission_210120.h5ad', backup_url='https://zenodo.org/record/4536165/files/submission_210120.h5ad')\n",
    "# adata_reynolds_fb = adata_reynolds[(adata_reynolds.obs['full_clustering'].isin(['F1', 'F2', 'F3'])) & \n",
    "#                                    (adata_reynolds.obs['Status'] == 'Healthy')]\n",
    "# sc.pp.filter_genes(adata_reynolds_fb, min_counts=100)\n",
    "# del adata_reynolds_fb.var\n",
    "\n",
    "# for obs in ['mad_prd', 'Status', 'Site', 'Tissue', 'Enrichment', 'Location', 'Sex', 'Age', 'stage']:\n",
    "#     del adata_reynolds_fb.obs[obs]\n",
    "    \n",
    "# adata_reynolds_fb.write_h5ad(reynolds_dir + '/reynolds_2020_fb_healthy.h5ad')"
   ]
  },
  {
   "cell_type": "markdown",
   "id": "broke-choice",
   "metadata": {},
   "source": [
    "### Direct h5ad download"
   ]
  },
  {
   "cell_type": "code",
   "execution_count": null,
   "id": "sapphire-accused",
   "metadata": {},
   "outputs": [],
   "source": [
    "adata_reynolds_fb_healthy = sc.read(reynolds_dir + '/reynolds_2020_fb_healthy.h5ad', \n",
    "                                    backup_url='https://zenodo.org/record/4605340/files/reynolds_2020_fb_healthy.h5ad?download=1')"
   ]
  },
  {
   "cell_type": "code",
   "execution_count": null,
   "id": "relative-graphics",
   "metadata": {},
   "outputs": [],
   "source": [
    "sc.pp.filter_genes(adata_reynolds_fb_healthy, min_counts=50)"
   ]
  },
  {
   "cell_type": "code",
   "execution_count": null,
   "id": "christian-anchor",
   "metadata": {},
   "outputs": [],
   "source": [
    "sc.pp.log1p(adata_reynolds_fb_healthy)\n",
    "sc.pp.normalize_total(adata_reynolds_fb_healthy)"
   ]
  },
  {
   "cell_type": "code",
   "execution_count": null,
   "id": "lined-election",
   "metadata": {},
   "outputs": [],
   "source": [
    "df_batches = pd.DataFrame(np.unique(adata_reynolds_fb_healthy.obs['sample_id'], return_counts=True)).transpose()"
   ]
  },
  {
   "cell_type": "code",
   "execution_count": null,
   "id": "heavy-resort",
   "metadata": {},
   "outputs": [],
   "source": [
    "df_batches.sort_values(by=1, ascending=False)"
   ]
  },
  {
   "cell_type": "code",
   "execution_count": null,
   "id": "steady-graduate",
   "metadata": {},
   "outputs": [],
   "source": [
    "selected_samples = df_batches[df_batches[1] > 50][0].values"
   ]
  },
  {
   "cell_type": "code",
   "execution_count": null,
   "id": "unknown-chapter",
   "metadata": {},
   "outputs": [],
   "source": [
    "adata_reynolds_fb_healthy = adata_reynolds_fb_healthy[adata_reynolds_fb_healthy.obs['sample_id'].isin(selected_samples)]  #selected_samples)]"
   ]
  },
  {
   "cell_type": "code",
   "execution_count": null,
   "id": "efficient-rider",
   "metadata": {},
   "outputs": [],
   "source": [
    "adata_reynolds_fb_healthy"
   ]
  },
  {
   "cell_type": "code",
   "execution_count": null,
   "id": "billion-teddy",
   "metadata": {},
   "outputs": [],
   "source": [
    "sc.pp.filter_genes(adata_reynolds_fb_healthy, min_counts=1)"
   ]
  },
  {
   "cell_type": "code",
   "execution_count": null,
   "id": "complicated-newcastle",
   "metadata": {},
   "outputs": [],
   "source": [
    "sc.pp.pca(adata_reynolds_fb_healthy, random_state=seed, n_comps=30)\n",
    "sce.pp.bbknn(adata_reynolds_fb_healthy, metric='angular', batch_key='sample_id')\n",
    "tk.tl.triku(adata_reynolds_fb_healthy, n_procs=1, random_state=seed, use_adata_knn=True)"
   ]
  },
  {
   "cell_type": "code",
   "execution_count": null,
   "id": "affecting-projector",
   "metadata": {},
   "outputs": [],
   "source": [
    "sc.tl.umap(adata_reynolds_fb_healthy, min_dist=0.1, random_state=seed)"
   ]
  },
  {
   "cell_type": "code",
   "execution_count": null,
   "id": "hearing-means",
   "metadata": {},
   "outputs": [],
   "source": [
    "sc.tl.leiden(adata_reynolds_fb_healthy, resolution=1.5, random_state=seed)"
   ]
  },
  {
   "cell_type": "code",
   "execution_count": null,
   "id": "insured-participant",
   "metadata": {},
   "outputs": [],
   "source": [
    "sc.pl.umap(adata_reynolds_fb_healthy, color=['leiden', 'sample_id', 'full_clustering'], legend_loc='on data')"
   ]
  },
  {
   "cell_type": "code",
   "execution_count": null,
   "id": "general-moscow",
   "metadata": {},
   "outputs": [],
   "source": [
    "sc.pl.umap(adata_reynolds_fb_healthy, color=['APCDD1', 'COL18A1', 'COMP', 'SLPI', 'WIF1'], cmap=magma, use_raw=False)"
   ]
  },
  {
   "cell_type": "code",
   "execution_count": null,
   "id": "signed-innocent",
   "metadata": {},
   "outputs": [],
   "source": [
    "sc.pl.umap(adata_reynolds_fb_healthy, color=['MT2A', 'CCL19', 'CCL2', 'CD46'], cmap=magma, use_raw=False)"
   ]
  },
  {
   "cell_type": "code",
   "execution_count": null,
   "id": "peaceful-niger",
   "metadata": {},
   "outputs": [],
   "source": [
    "sc.pl.umap(adata_reynolds_fb_healthy, color=['POSTN', 'COMP', 'COCH'], cmap=magma, use_raw=False)"
   ]
  },
  {
   "cell_type": "markdown",
   "id": "adverse-wesley",
   "metadata": {},
   "source": [
    "## 4820STDY7388991 (S1)"
   ]
  },
  {
   "cell_type": "markdown",
   "id": "touched-cyprus",
   "metadata": {},
   "source": [
    "### Reynolds preprocessed"
   ]
  },
  {
   "cell_type": "code",
   "execution_count": null,
   "id": "horizontal-sending",
   "metadata": {},
   "outputs": [],
   "source": [
    "adata_reynolds_fb_4820STDY7388991 = adata_reynolds_fb_healthy[adata_reynolds_fb_healthy.obs['sample_id'].isin(['4820STDY7388991'])]  #selected_samples)]"
   ]
  },
  {
   "cell_type": "code",
   "execution_count": null,
   "id": "impressive-cartridge",
   "metadata": {},
   "outputs": [],
   "source": [
    "adata_reynolds_fb_4820STDY7388991"
   ]
  },
  {
   "cell_type": "code",
   "execution_count": null,
   "id": "cellular-brief",
   "metadata": {},
   "outputs": [],
   "source": [
    "sc.pp.filter_genes(adata_reynolds_fb_4820STDY7388991, min_counts=1)\n",
    "adata_reynolds_fb_4820STDY7388991 = adata_reynolds_fb_4820STDY7388991[:, adata_reynolds_fb_4820STDY7388991.var_names != 'C3']"
   ]
  },
  {
   "cell_type": "code",
   "execution_count": null,
   "id": "lightweight-dining",
   "metadata": {},
   "outputs": [],
   "source": [
    "sc.pp.pca(adata_reynolds_fb_4820STDY7388991, random_state=seed, n_comps=30)\n",
    "tk.tl.triku(adata_reynolds_fb_4820STDY7388991, n_procs=1, random_state=seed, use_adata_knn=True)\n",
    "sc.pp.neighbors(adata_reynolds_fb_4820STDY7388991, metric='cosine', random_state=seed)"
   ]
  },
  {
   "cell_type": "code",
   "execution_count": null,
   "id": "assigned-geometry",
   "metadata": {},
   "outputs": [],
   "source": [
    "sc.tl.umap(adata_reynolds_fb_4820STDY7388991, min_dist=0.3, random_state=seed)"
   ]
  },
  {
   "cell_type": "code",
   "execution_count": null,
   "id": "alternative-bankruptcy",
   "metadata": {},
   "outputs": [],
   "source": [
    "sc.tl.leiden(adata_reynolds_fb_4820STDY7388991, resolution=1, random_state=seed)"
   ]
  },
  {
   "cell_type": "code",
   "execution_count": null,
   "id": "rapid-hardware",
   "metadata": {},
   "outputs": [],
   "source": [
    "sc.pl.umap(adata_reynolds_fb_4820STDY7388991, color=['leiden', 'sample_id', 'full_clustering'], legend_loc='on data')"
   ]
  },
  {
   "cell_type": "code",
   "execution_count": null,
   "id": "acknowledged-recognition",
   "metadata": {},
   "outputs": [],
   "source": [
    "sc.pl.umap(adata_reynolds_fb_4820STDY7388991, color=['APCDD1', 'COL18A1', 'COMP', 'SLPI', 'WIF1'], cmap=magma, use_raw=False)"
   ]
  },
  {
   "cell_type": "code",
   "execution_count": null,
   "id": "bibliographic-mistake",
   "metadata": {},
   "outputs": [],
   "source": [
    "sc.pl.umap(adata_reynolds_fb_4820STDY7388991, color=['MT2A', 'CCL19', 'CCL2', 'CD46'], cmap=magma, use_raw=False)"
   ]
  },
  {
   "cell_type": "code",
   "execution_count": null,
   "id": "declared-monte",
   "metadata": {},
   "outputs": [],
   "source": [
    "sc.pl.umap(adata_reynolds_fb_4820STDY7388991, color=['POSTN', 'COMP', 'COCH'], cmap=magma, use_raw=False)"
   ]
  },
  {
   "cell_type": "markdown",
   "id": "geological-blues",
   "metadata": {},
   "source": [
    "### Direct loom"
   ]
  },
  {
   "cell_type": "code",
   "execution_count": null,
   "id": "alike-valentine",
   "metadata": {},
   "outputs": [],
   "source": [
    "adata_reynolds_fb_4820STDY7388991_loom = sc.read('reynolds_2020/reynolds_2020_0_4820STDY7388991_s1_dermis_fibroblasts.loom', \n",
    "                                                 backup_url='https://zenodo.org/record/4596375/files/reynolds_2020_0_4820STDY7388991_s1_dermis_fibroblasts.loom')\n",
    "adata_reynolds_fb_4820STDY7388991_loom.var_names_make_unique()\n",
    "\n",
    "adata_reynolds_fb_4820STDY7388991_loom = adata_reynolds_fb_4820STDY7388991_loom[:, adata_reynolds_fb_4820STDY7388991_loom.var_names != 'C3']"
   ]
  },
  {
   "cell_type": "code",
   "execution_count": null,
   "id": "sharing-herald",
   "metadata": {},
   "outputs": [],
   "source": [
    "adata_reynolds_fb_4820STDY7388991_loom.obs_names = [f\"{i.split('_')[-1]}-1-{i.split('_')[1]}\" for i in adata_reynolds_fb_4820STDY7388991_loom.obs_names]"
   ]
  },
  {
   "cell_type": "code",
   "execution_count": null,
   "id": "angry-steam",
   "metadata": {},
   "outputs": [],
   "source": [
    "df_fb_type = pd.Series('-', index=adata_reynolds_fb_4820STDY7388991_loom.obs_names)\n",
    "df_fb_type.loc[adata_reynolds_fb_4820STDY7388991.obs_names & adata_reynolds_fb_4820STDY7388991_loom.obs_names] = adata_reynolds_fb_4820STDY7388991[adata_reynolds_fb_4820STDY7388991.obs_names & adata_reynolds_fb_4820STDY7388991_loom.obs_names].obs['full_clustering']\n",
    "adata_reynolds_fb_4820STDY7388991_loom.obs['science_clustering'] = df_fb_type"
   ]
  },
  {
   "cell_type": "code",
   "execution_count": null,
   "id": "southern-compensation",
   "metadata": {},
   "outputs": [],
   "source": [
    "sc.pp.calculate_qc_metrics(adata_reynolds_fb_4820STDY7388991_loom, inplace=True)"
   ]
  },
  {
   "cell_type": "code",
   "execution_count": null,
   "id": "beautiful-auditor",
   "metadata": {},
   "outputs": [],
   "source": [
    "sc.pl.violin(adata_reynolds_fb_4820STDY7388991_loom, ['n_genes_by_counts'])\n",
    "sc.pl.violin(adata_reynolds_fb_4820STDY7388991_loom, ['log1p_total_counts'])"
   ]
  },
  {
   "cell_type": "code",
   "execution_count": null,
   "id": "worldwide-pennsylvania",
   "metadata": {},
   "outputs": [],
   "source": [
    "sc.pp.filter_genes(adata_reynolds_fb_4820STDY7388991_loom, min_counts=30)\n",
    "adata_reynolds_fb_4820STDY7388991_loom.raw = adata_reynolds_fb_4820STDY7388991_loom"
   ]
  },
  {
   "cell_type": "code",
   "execution_count": null,
   "id": "bearing-manner",
   "metadata": {},
   "outputs": [],
   "source": [
    "sc.pp.normalize_per_cell(adata_reynolds_fb_4820STDY7388991_loom)\n",
    "sc.pp.log1p(adata_reynolds_fb_4820STDY7388991_loom)"
   ]
  },
  {
   "cell_type": "code",
   "execution_count": null,
   "id": "basic-deficit",
   "metadata": {},
   "outputs": [],
   "source": [
    "sc.pp.pca(adata_reynolds_fb_4820STDY7388991_loom, random_state=seed, n_comps=30)\n",
    "tk.tl.triku(adata_reynolds_fb_4820STDY7388991_loom, n_procs=1, random_state=seed, use_adata_knn=True)\n",
    "sc.pp.neighbors(adata_reynolds_fb_4820STDY7388991_loom, metric='cosine', random_state=seed)"
   ]
  },
  {
   "cell_type": "code",
   "execution_count": null,
   "id": "quarterly-afghanistan",
   "metadata": {},
   "outputs": [],
   "source": [
    "sc.tl.umap(adata_reynolds_fb_4820STDY7388991_loom, min_dist=0.3, random_state=seed)\n",
    "sc.tl.leiden(adata_reynolds_fb_4820STDY7388991_loom, resolution=3.2, random_state=seed)"
   ]
  },
  {
   "cell_type": "code",
   "execution_count": null,
   "id": "interior-arena",
   "metadata": {},
   "outputs": [],
   "source": [
    "sc.pl.umap(adata_reynolds_fb_4820STDY7388991_loom, color=['leiden', 'science_clustering'], legend_loc='on data')"
   ]
  },
  {
   "cell_type": "code",
   "execution_count": null,
   "id": "coordinate-census",
   "metadata": {},
   "outputs": [],
   "source": [
    "sc.pl.umap(adata_reynolds_fb_4820STDY7388991_loom, color=['LUM', 'PDGFRA', 'VIM', 'DCN', 'COL1A1', 'SFRP2', 'APOE', 'POSTN'], legend_loc='on data', cmap=magma)"
   ]
  },
  {
   "cell_type": "code",
   "execution_count": null,
   "id": "congressional-screening",
   "metadata": {},
   "outputs": [],
   "source": [
    "sc.tl.rank_genes_groups(adata_reynolds_fb_4820STDY7388991_loom, groupby='leiden')\n",
    "sc.pl.rank_genes_groups(adata_reynolds_fb_4820STDY7388991_loom)"
   ]
  },
  {
   "cell_type": "code",
   "execution_count": null,
   "id": "hundred-thread",
   "metadata": {},
   "outputs": [],
   "source": [
    "dict_cat = {'fb': ['LUM', 'PDGFRA', 'COL1A1'], 'peri': ['RGS5', 'MYL9', 'NDUFA4L2'], 'eritro': ['HBB', 'HBA2', 'HBA1'], \n",
    "            'immune': ['TPSB2', 'TPSAB1', 'HLA-DRA', 'FCER1G', 'CD74'], 'melanocyte': ['PMEL', 'MLANA'], \n",
    "            'mt': ['MTND2P28', 'MTND4P12', 'MTCO1P40', 'ADAM33', 'RN7SL2', 'MTRNR2L6']}\n",
    "\n",
    "assign_cats(adata_reynolds_fb_4820STDY7388991_loom, dict_cat, min_score=0.05)"
   ]
  },
  {
   "cell_type": "code",
   "execution_count": null,
   "id": "advance-thought",
   "metadata": {},
   "outputs": [],
   "source": [
    "sc.pl.umap(adata_reynolds_fb_4820STDY7388991_loom, color=['leiden', 'science_clustering', 'assigned_cats'], legend_loc='on data', cmap=magma)"
   ]
  },
  {
   "cell_type": "code",
   "execution_count": null,
   "id": "comprehensive-baghdad",
   "metadata": {},
   "outputs": [],
   "source": [
    "adata_reynolds_fb_4820STDY7388991_loom_fb = adata_reynolds_fb_4820STDY7388991_loom[adata_reynolds_fb_4820STDY7388991_loom.obs['assigned_cats'] == 'fb']"
   ]
  },
  {
   "cell_type": "code",
   "execution_count": null,
   "id": "impressed-wheel",
   "metadata": {},
   "outputs": [],
   "source": [
    "sc.pp.filter_genes(adata_reynolds_fb_4820STDY7388991_loom_fb, min_counts=1)"
   ]
  },
  {
   "cell_type": "code",
   "execution_count": null,
   "id": "pregnant-moore",
   "metadata": {},
   "outputs": [],
   "source": [
    "sc.pp.pca(adata_reynolds_fb_4820STDY7388991_loom_fb, random_state=seed, n_comps=30)\n",
    "tk.tl.triku(adata_reynolds_fb_4820STDY7388991_loom_fb, n_procs=1, random_state=seed, use_adata_knn=True)\n",
    "sc.pp.neighbors(adata_reynolds_fb_4820STDY7388991_loom_fb, metric='cosine', random_state=seed)"
   ]
  },
  {
   "cell_type": "code",
   "execution_count": null,
   "id": "resident-relationship",
   "metadata": {},
   "outputs": [],
   "source": [
    "sc.tl.umap(adata_reynolds_fb_4820STDY7388991_loom_fb, min_dist=0.2, random_state=seed)\n",
    "sc.tl.leiden(adata_reynolds_fb_4820STDY7388991_loom_fb, resolution=1, random_state=seed)"
   ]
  },
  {
   "cell_type": "code",
   "execution_count": null,
   "id": "ambient-agreement",
   "metadata": {},
   "outputs": [],
   "source": [
    "sc.pl.umap(adata_reynolds_fb_4820STDY7388991_loom_fb, color=['leiden', 'science_clustering'], cmap=magma, use_raw=False, legend_loc='on data')"
   ]
  },
  {
   "cell_type": "code",
   "execution_count": null,
   "id": "immune-chest",
   "metadata": {},
   "outputs": [],
   "source": [
    "sc.pl.umap(adata_reynolds_fb_4820STDY7388991_loom_fb, color=['leiden', 'SFRP2', 'PI16', 'SLPI', 'WIF1', 'COL18A1', 'COMP', \n",
    "                                               'APOE', 'CCL2',  'ITM2A', 'SPSB1', \n",
    "                                               'CCDC146', 'CCL19', 'CD74', \n",
    "                                               'DKK3', 'TNN', 'SFRP1', 'POSTN'], cmap=magma, use_raw=False, legend_loc='on data')"
   ]
  },
  {
   "cell_type": "markdown",
   "id": "vertical-singapore",
   "metadata": {},
   "source": [
    "## 4820STDY7388999 (S2)"
   ]
  },
  {
   "cell_type": "markdown",
   "id": "impaired-eligibility",
   "metadata": {},
   "source": [
    "### Reynolds preprocessed"
   ]
  },
  {
   "cell_type": "code",
   "execution_count": null,
   "id": "excessive-niger",
   "metadata": {},
   "outputs": [],
   "source": [
    "adata_reynolds_fb_4820STDY7388999 = adata_reynolds_fb_healthy[adata_reynolds_fb_healthy.obs['sample_id'].isin(['4820STDY7388999'])]  #selected_samples)]"
   ]
  },
  {
   "cell_type": "code",
   "execution_count": null,
   "id": "incomplete-adjustment",
   "metadata": {},
   "outputs": [],
   "source": [
    "adata_reynolds_fb_4820STDY7388999"
   ]
  },
  {
   "cell_type": "code",
   "execution_count": null,
   "id": "running-modern",
   "metadata": {},
   "outputs": [],
   "source": [
    "sc.pp.filter_genes(adata_reynolds_fb_4820STDY7388999, min_counts=1)\n",
    "adata_reynolds_fb_4820STDY7388999 = adata_reynolds_fb_4820STDY7388999[:, adata_reynolds_fb_4820STDY7388999.var_names != 'C3']"
   ]
  },
  {
   "cell_type": "code",
   "execution_count": null,
   "id": "arranged-injection",
   "metadata": {},
   "outputs": [],
   "source": [
    "sc.pp.pca(adata_reynolds_fb_4820STDY7388999, random_state=seed, n_comps=30)\n",
    "tk.tl.triku(adata_reynolds_fb_4820STDY7388999, n_procs=1, random_state=seed, use_adata_knn=True)\n",
    "sc.pp.neighbors(adata_reynolds_fb_4820STDY7388999, metric='cosine', random_state=seed)"
   ]
  },
  {
   "cell_type": "code",
   "execution_count": null,
   "id": "standing-length",
   "metadata": {},
   "outputs": [],
   "source": [
    "sc.tl.umap(adata_reynolds_fb_4820STDY7388999, min_dist=0.3, random_state=seed)"
   ]
  },
  {
   "cell_type": "code",
   "execution_count": null,
   "id": "saving-solution",
   "metadata": {},
   "outputs": [],
   "source": [
    "sc.tl.leiden(adata_reynolds_fb_4820STDY7388999, resolution=1, random_state=seed)"
   ]
  },
  {
   "cell_type": "code",
   "execution_count": null,
   "id": "structured-technology",
   "metadata": {},
   "outputs": [],
   "source": [
    "sc.pl.umap(adata_reynolds_fb_4820STDY7388999, color=['leiden', 'sample_id', 'full_clustering'], legend_loc='on data')"
   ]
  },
  {
   "cell_type": "code",
   "execution_count": null,
   "id": "contrary-fireplace",
   "metadata": {},
   "outputs": [],
   "source": [
    "sc.pl.umap(adata_reynolds_fb_4820STDY7388999, color=['APCDD1', 'COL18A1', 'COMP', 'SLPI', 'WIF1'], cmap=magma, use_raw=False)"
   ]
  },
  {
   "cell_type": "code",
   "execution_count": null,
   "id": "civic-pepper",
   "metadata": {},
   "outputs": [],
   "source": [
    "sc.pl.umap(adata_reynolds_fb_4820STDY7388999, color=['MT2A', 'CCL19', 'CCL2', 'CD46'], cmap=magma, use_raw=False)"
   ]
  },
  {
   "cell_type": "code",
   "execution_count": null,
   "id": "bibliographic-friendly",
   "metadata": {},
   "outputs": [],
   "source": [
    "sc.pl.umap(adata_reynolds_fb_4820STDY7388999, color=['POSTN', 'COMP', 'COCH'], cmap=magma, use_raw=False)"
   ]
  },
  {
   "cell_type": "markdown",
   "id": "excited-horror",
   "metadata": {},
   "source": [
    "### Direct loom"
   ]
  },
  {
   "cell_type": "code",
   "execution_count": null,
   "id": "committed-glance",
   "metadata": {},
   "outputs": [],
   "source": [
    "adata_reynolds_fb_4820STDY7388999_loom = sc.read('reynolds_2020/reynolds_2020_8_4820STDY7388999_s2_dermis_fibroblasts.loom', \n",
    "                                                 backup_url='https://zenodo.org/record/4596375/files/reynolds_2020_8_4820STDY7388999_s2_dermis_fibroblasts.loom')\n",
    "\n",
    "adata_reynolds_fb_4820STDY7388999_loom.var_names_make_unique()\n",
    "adata_reynolds_fb_4820STDY7388999_loom = adata_reynolds_fb_4820STDY7388999_loom[:, adata_reynolds_fb_4820STDY7388999_loom.var_names != 'C3']"
   ]
  },
  {
   "cell_type": "code",
   "execution_count": null,
   "id": "organizational-daisy",
   "metadata": {},
   "outputs": [],
   "source": [
    "adata_reynolds_fb_4820STDY7388999_loom.obs_names = [f\"{i.split('_')[-1]}-1-{i.split('_')[1]}\" for i in adata_reynolds_fb_4820STDY7388999_loom.obs_names]"
   ]
  },
  {
   "cell_type": "code",
   "execution_count": null,
   "id": "elect-reconstruction",
   "metadata": {},
   "outputs": [],
   "source": [
    "df_fb_type = pd.Series('Other', index=adata_reynolds_fb_4820STDY7388999_loom.obs_names)\n",
    "df_fb_type.loc[adata_reynolds_fb_4820STDY7388999.obs_names & adata_reynolds_fb_4820STDY7388999_loom.obs_names] = adata_reynolds_fb_4820STDY7388999[adata_reynolds_fb_4820STDY7388999.obs_names & adata_reynolds_fb_4820STDY7388999_loom.obs_names].obs['full_clustering']\n",
    "adata_reynolds_fb_4820STDY7388999_loom.obs['science_clustering'] = df_fb_type"
   ]
  },
  {
   "cell_type": "code",
   "execution_count": null,
   "id": "coral-backing",
   "metadata": {},
   "outputs": [],
   "source": [
    "sc.pp.calculate_qc_metrics(adata_reynolds_fb_4820STDY7388999_loom, inplace=True)"
   ]
  },
  {
   "cell_type": "code",
   "execution_count": null,
   "id": "competent-wireless",
   "metadata": {},
   "outputs": [],
   "source": [
    "sc.pl.violin(adata_reynolds_fb_4820STDY7388999_loom, ['n_genes_by_counts'])\n",
    "sc.pl.violin(adata_reynolds_fb_4820STDY7388999_loom, ['log1p_total_counts'])"
   ]
  },
  {
   "cell_type": "code",
   "execution_count": null,
   "id": "optimum-belize",
   "metadata": {},
   "outputs": [],
   "source": [
    "sc.pp.filter_genes(adata_reynolds_fb_4820STDY7388999_loom, min_counts=30)\n",
    "adata_reynolds_fb_4820STDY7388999_loom.raw = adata_reynolds_fb_4820STDY7388999_loom"
   ]
  },
  {
   "cell_type": "code",
   "execution_count": null,
   "id": "thick-partition",
   "metadata": {},
   "outputs": [],
   "source": [
    "sc.pp.normalize_per_cell(adata_reynolds_fb_4820STDY7388999_loom)\n",
    "sc.pp.log1p(adata_reynolds_fb_4820STDY7388999_loom)"
   ]
  },
  {
   "cell_type": "code",
   "execution_count": null,
   "id": "equipped-chair",
   "metadata": {},
   "outputs": [],
   "source": [
    "sc.pp.pca(adata_reynolds_fb_4820STDY7388999_loom, random_state=seed, n_comps=30)\n",
    "tk.tl.triku(adata_reynolds_fb_4820STDY7388999_loom, n_procs=1, random_state=seed, use_adata_knn=True)\n",
    "sc.pp.neighbors(adata_reynolds_fb_4820STDY7388999_loom, metric='cosine', random_state=seed)"
   ]
  },
  {
   "cell_type": "code",
   "execution_count": null,
   "id": "biblical-intake",
   "metadata": {},
   "outputs": [],
   "source": [
    "sc.tl.umap(adata_reynolds_fb_4820STDY7388999_loom, min_dist=0.3, random_state=seed)\n",
    "sc.tl.leiden(adata_reynolds_fb_4820STDY7388999_loom, resolution=0.5, random_state=seed)"
   ]
  },
  {
   "cell_type": "code",
   "execution_count": null,
   "id": "buried-cincinnati",
   "metadata": {},
   "outputs": [],
   "source": [
    "sc.pl.umap(adata_reynolds_fb_4820STDY7388999_loom, color=['leiden', 'science_clustering'], legend_loc='on data')"
   ]
  },
  {
   "cell_type": "code",
   "execution_count": null,
   "id": "forced-monthly",
   "metadata": {},
   "outputs": [],
   "source": [
    "sc.pl.umap(adata_reynolds_fb_4820STDY7388999_loom, color=['LUM', 'PDGFRA', 'VIM', 'COL1A1', 'SFRP2', 'APOE', 'POSTN'], legend_loc='on data', cmap=magma)"
   ]
  },
  {
   "cell_type": "code",
   "execution_count": null,
   "id": "critical-gibson",
   "metadata": {},
   "outputs": [],
   "source": [
    "sc.pl.umap(adata_reynolds_fb_4820STDY7388999_loom, color=['leiden', 'SFRP2', 'PI16', 'SLPI', 'WIF1', 'COL18A1', 'COMP', \n",
    "                                               'APOE', 'CCL2',  'ITM2A', 'SPSB1', \n",
    "                                               'CCDC146', 'CCL19', 'CD74', \n",
    "                                               'DKK3', 'TNN', 'SFRP1'], cmap=magma, use_raw=False, legend_loc='on data')"
   ]
  },
  {
   "cell_type": "code",
   "execution_count": null,
   "id": "surface-broadcast",
   "metadata": {},
   "outputs": [],
   "source": [
    "sc.pl.umap(adata_reynolds_fb_4820STDY7388999_loom, color=['leiden', \n",
    "                                                          'DMKN', 'KRT1'], cmap=magma, use_raw=False, legend_loc='on data')"
   ]
  },
  {
   "cell_type": "code",
   "execution_count": null,
   "id": "infinite-swedish",
   "metadata": {},
   "outputs": [],
   "source": [
    "dict_cat = {'fb': ['LUM', 'PDGFRA', 'COL1A1', 'SFRP2', 'CCL19'], 'peri': ['RGS5', 'MYL9', 'NDUFA4L2'], 'eritro': ['HBB', 'HBA2', 'HBA1'], \n",
    "            'immune': ['TPSB2', 'TRAC', 'TPSAB1', 'HLA-DRA', 'FCER1G', 'CD74'], 'endo': ['CLDN5', 'PECAM1'], 'kerato': ['DMKN', 'KRT1'],\n",
    "            'mt': ['MTND2P28', 'MTND4P12', 'MTCO1P40', 'ADAM33', 'RN7SL2', 'MTRNR2L6']}\n",
    "\n",
    "assign_cats(adata_reynolds_fb_4820STDY7388999_loom, dict_cat, min_score=0.05)"
   ]
  },
  {
   "cell_type": "code",
   "execution_count": null,
   "id": "ethical-israeli",
   "metadata": {},
   "outputs": [],
   "source": [
    "sc.pl.umap(adata_reynolds_fb_4820STDY7388999_loom, color=['leiden', 'science_clustering', 'assigned_cats'], legend_loc='on data', cmap=magma)"
   ]
  },
  {
   "cell_type": "code",
   "execution_count": null,
   "id": "compliant-graham",
   "metadata": {},
   "outputs": [],
   "source": [
    "sc.tl.rank_genes_groups(adata_reynolds_fb_4820STDY7388999_loom, groupby='leiden')\n",
    "sc.pl.rank_genes_groups(adata_reynolds_fb_4820STDY7388999_loom)"
   ]
  },
  {
   "cell_type": "code",
   "execution_count": null,
   "id": "israeli-experience",
   "metadata": {},
   "outputs": [],
   "source": [
    "adata_reynolds_fb_4820STDY7388999_loom = adata_reynolds_fb_4820STDY7388999_loom[adata_reynolds_fb_4820STDY7388999_loom.obs['assigned_cats'] == 'fb']"
   ]
  },
  {
   "cell_type": "code",
   "execution_count": null,
   "id": "advisory-computer",
   "metadata": {},
   "outputs": [],
   "source": [
    "sc.pp.filter_genes(adata_reynolds_fb_4820STDY7388999_loom, min_counts=1)"
   ]
  },
  {
   "cell_type": "code",
   "execution_count": null,
   "id": "considered-consequence",
   "metadata": {},
   "outputs": [],
   "source": [
    "sc.pp.pca(adata_reynolds_fb_4820STDY7388999_loom, random_state=seed, n_comps=30)\n",
    "tk.tl.triku(adata_reynolds_fb_4820STDY7388999_loom, n_procs=1, random_state=seed, use_adata_knn=True)\n",
    "sc.pp.neighbors(adata_reynolds_fb_4820STDY7388999_loom, metric='cosine', random_state=seed)"
   ]
  },
  {
   "cell_type": "code",
   "execution_count": null,
   "id": "organizational-priest",
   "metadata": {},
   "outputs": [],
   "source": [
    "sc.tl.umap(adata_reynolds_fb_4820STDY7388999_loom, min_dist=0.05, random_state=seed)\n",
    "sc.tl.leiden(adata_reynolds_fb_4820STDY7388999_loom, resolution=1.2, random_state=seed)"
   ]
  },
  {
   "cell_type": "code",
   "execution_count": null,
   "id": "another-horizontal",
   "metadata": {},
   "outputs": [],
   "source": [
    "sc.pl.umap(adata_reynolds_fb_4820STDY7388999_loom, color=['leiden', 'science_clustering'], cmap=magma, use_raw=False, legend_loc='on data')"
   ]
  },
  {
   "cell_type": "code",
   "execution_count": null,
   "id": "cutting-counter",
   "metadata": {},
   "outputs": [],
   "source": [
    "sc.pl.umap(adata_reynolds_fb_4820STDY7388999_loom, color=['leiden', 'SFRP2', 'PI16', 'SLPI', 'WIF1', 'COL18A1', 'COMP', \n",
    "                                               'APOE', 'CCL2',  'ITM2A', 'SPSB1', \n",
    "                                               'CCDC146', 'CCL19', 'CD74', \n",
    "                                               'DKK3', 'TNN', 'SFRP1', 'EDNRB', 'IGFBP7'], cmap=magma, use_raw=False, legend_loc='on data')"
   ]
  },
  {
   "cell_type": "code",
   "execution_count": null,
   "id": "serial-headset",
   "metadata": {},
   "outputs": [],
   "source": [
    "sc.tl.rank_genes_groups(adata_reynolds_fb_4820STDY7388999_loom, groupby='leiden')"
   ]
  },
  {
   "cell_type": "code",
   "execution_count": null,
   "id": "moved-concrete",
   "metadata": {},
   "outputs": [],
   "source": [
    "sc.pl.rank_genes_groups(adata_reynolds_fb_4820STDY7388999_loom)"
   ]
  },
  {
   "cell_type": "markdown",
   "id": "ecological-findings",
   "metadata": {},
   "source": [
    "## 4820STDY7389007 (S3)"
   ]
  },
  {
   "cell_type": "markdown",
   "id": "racial-saying",
   "metadata": {},
   "source": [
    "### Reynolds preprocessed"
   ]
  },
  {
   "cell_type": "code",
   "execution_count": null,
   "id": "disturbed-numbers",
   "metadata": {},
   "outputs": [],
   "source": [
    "adata_reynolds_fb_4820STDY7389007 = adata_reynolds_fb_healthy[adata_reynolds_fb_healthy.obs['sample_id'].isin(['4820STDY7389007'])]  #selected_samples)]"
   ]
  },
  {
   "cell_type": "code",
   "execution_count": null,
   "id": "recent-forum",
   "metadata": {},
   "outputs": [],
   "source": [
    "adata_reynolds_fb_4820STDY7389007"
   ]
  },
  {
   "cell_type": "code",
   "execution_count": null,
   "id": "million-banner",
   "metadata": {},
   "outputs": [],
   "source": [
    "sc.pp.filter_genes(adata_reynolds_fb_4820STDY7389007, min_counts=1)\n",
    "adata_reynolds_fb_4820STDY7389007 = adata_reynolds_fb_4820STDY7389007[:, adata_reynolds_fb_4820STDY7389007.var_names != 'C3']"
   ]
  },
  {
   "cell_type": "code",
   "execution_count": null,
   "id": "caroline-tamil",
   "metadata": {},
   "outputs": [],
   "source": [
    "sc.pp.pca(adata_reynolds_fb_4820STDY7389007, random_state=seed, n_comps=30)\n",
    "tk.tl.triku(adata_reynolds_fb_4820STDY7389007, n_procs=1, random_state=seed, use_adata_knn=True)\n",
    "sc.pp.neighbors(adata_reynolds_fb_4820STDY7389007, metric='cosine', random_state=seed)"
   ]
  },
  {
   "cell_type": "code",
   "execution_count": null,
   "id": "fitting-portugal",
   "metadata": {},
   "outputs": [],
   "source": [
    "sc.tl.umap(adata_reynolds_fb_4820STDY7389007, min_dist=0.3, random_state=seed)"
   ]
  },
  {
   "cell_type": "code",
   "execution_count": null,
   "id": "liable-replica",
   "metadata": {},
   "outputs": [],
   "source": [
    "sc.tl.leiden(adata_reynolds_fb_4820STDY7389007, resolution=1, random_state=seed)"
   ]
  },
  {
   "cell_type": "code",
   "execution_count": null,
   "id": "grand-minneapolis",
   "metadata": {},
   "outputs": [],
   "source": [
    "sc.pl.umap(adata_reynolds_fb_4820STDY7389007, color=['leiden', 'sample_id', 'full_clustering'], legend_loc='on data')"
   ]
  },
  {
   "cell_type": "code",
   "execution_count": null,
   "id": "quality-strike",
   "metadata": {},
   "outputs": [],
   "source": [
    "sc.pl.umap(adata_reynolds_fb_4820STDY7389007, color=['APCDD1', 'COL18A1', 'COMP', 'SLPI', 'WIF1'], cmap=magma, use_raw=False)"
   ]
  },
  {
   "cell_type": "code",
   "execution_count": null,
   "id": "weird-mustang",
   "metadata": {},
   "outputs": [],
   "source": [
    "sc.pl.umap(adata_reynolds_fb_4820STDY7389007, color=['MT2A', 'CCL19', 'CCL2', 'CD46'], cmap=magma, use_raw=False)"
   ]
  },
  {
   "cell_type": "code",
   "execution_count": null,
   "id": "impaired-honduras",
   "metadata": {},
   "outputs": [],
   "source": [
    "sc.pl.umap(adata_reynolds_fb_4820STDY7389007, color=['POSTN', 'COMP', 'COCH'], cmap=magma, use_raw=False)"
   ]
  },
  {
   "cell_type": "markdown",
   "id": "resistant-difficulty",
   "metadata": {},
   "source": [
    "### Direct loom"
   ]
  },
  {
   "cell_type": "code",
   "execution_count": null,
   "id": "documentary-start",
   "metadata": {},
   "outputs": [],
   "source": [
    "adata_reynolds_fb_4820STDY7389007_loom = sc.read('reynolds_2020/reynolds_2020_16_4820STDY7389007_s3_dermis_fibroblasts.loom', \n",
    "                                                 backup_url='https://zenodo.org/record/4596375/files/reynolds_2020_16_4820STDY7389007_s3_dermis_fibroblasts.loom')\n",
    "\n",
    "adata_reynolds_fb_4820STDY7389007_loom.var_names_make_unique()\n",
    "\n",
    "adata_reynolds_fb_4820STDY7389007_loom = adata_reynolds_fb_4820STDY7389007_loom[:, adata_reynolds_fb_4820STDY7389007_loom.var_names != 'C3']"
   ]
  },
  {
   "cell_type": "code",
   "execution_count": null,
   "id": "regulated-imagination",
   "metadata": {},
   "outputs": [],
   "source": [
    "adata_reynolds_fb_4820STDY7389007_loom.obs_names = [f\"{i.split('_')[-1]}-1-{i.split('_')[1]}\" for i in adata_reynolds_fb_4820STDY7389007_loom.obs_names]"
   ]
  },
  {
   "cell_type": "code",
   "execution_count": null,
   "id": "another-texas",
   "metadata": {},
   "outputs": [],
   "source": [
    "df_fb_type = pd.Series('-', index=adata_reynolds_fb_4820STDY7389007_loom.obs_names)\n",
    "df_fb_type.loc[adata_reynolds_fb_4820STDY7389007.obs_names & adata_reynolds_fb_4820STDY7389007_loom.obs_names] = adata_reynolds_fb_4820STDY7389007[adata_reynolds_fb_4820STDY7389007.obs_names & adata_reynolds_fb_4820STDY7389007_loom.obs_names].obs['full_clustering']\n",
    "adata_reynolds_fb_4820STDY7389007_loom.obs['science_clustering'] = df_fb_type"
   ]
  },
  {
   "cell_type": "code",
   "execution_count": null,
   "id": "genetic-haven",
   "metadata": {},
   "outputs": [],
   "source": [
    "sc.pp.calculate_qc_metrics(adata_reynolds_fb_4820STDY7389007_loom, inplace=True)"
   ]
  },
  {
   "cell_type": "code",
   "execution_count": null,
   "id": "activated-possible",
   "metadata": {},
   "outputs": [],
   "source": [
    "sc.pl.violin(adata_reynolds_fb_4820STDY7389007_loom, ['n_genes_by_counts'])\n",
    "sc.pl.violin(adata_reynolds_fb_4820STDY7389007_loom, ['log1p_total_counts'])"
   ]
  },
  {
   "cell_type": "code",
   "execution_count": null,
   "id": "competent-knight",
   "metadata": {},
   "outputs": [],
   "source": [
    "sc.pp.filter_genes(adata_reynolds_fb_4820STDY7389007_loom, min_counts=30)\n",
    "adata_reynolds_fb_4820STDY7389007_loom.raw = adata_reynolds_fb_4820STDY7389007_loom"
   ]
  },
  {
   "cell_type": "code",
   "execution_count": null,
   "id": "applicable-afghanistan",
   "metadata": {},
   "outputs": [],
   "source": [
    "sc.pp.normalize_per_cell(adata_reynolds_fb_4820STDY7389007_loom)\n",
    "sc.pp.log1p(adata_reynolds_fb_4820STDY7389007_loom)"
   ]
  },
  {
   "cell_type": "code",
   "execution_count": null,
   "id": "historical-render",
   "metadata": {},
   "outputs": [],
   "source": [
    "sc.pp.pca(adata_reynolds_fb_4820STDY7389007_loom, random_state=seed, n_comps=30)\n",
    "tk.tl.triku(adata_reynolds_fb_4820STDY7389007_loom, n_procs=1, random_state=seed, use_adata_knn=True)\n",
    "sc.pp.neighbors(adata_reynolds_fb_4820STDY7389007_loom, metric='cosine', random_state=seed)"
   ]
  },
  {
   "cell_type": "code",
   "execution_count": null,
   "id": "serious-welsh",
   "metadata": {},
   "outputs": [],
   "source": [
    "sc.tl.umap(adata_reynolds_fb_4820STDY7389007_loom, min_dist=0.3, random_state=seed)\n",
    "sc.tl.leiden(adata_reynolds_fb_4820STDY7389007_loom, resolution=0.8, random_state=seed)"
   ]
  },
  {
   "cell_type": "code",
   "execution_count": null,
   "id": "loving-calvin",
   "metadata": {},
   "outputs": [],
   "source": [
    "sc.pl.umap(adata_reynolds_fb_4820STDY7389007_loom, color=['leiden', 'science_clustering'], legend_loc='on data')"
   ]
  },
  {
   "cell_type": "code",
   "execution_count": null,
   "id": "colored-shelter",
   "metadata": {},
   "outputs": [],
   "source": [
    "sc.pl.umap(adata_reynolds_fb_4820STDY7389007_loom, color=['LUM', 'PDGFRA', 'VIM', 'COL1A1', 'SFRP2', 'APOE', \n",
    "                                                          'POSTN', 'RGS5', 'MYL9', 'NDUFA4L2', 'HBB', \n",
    "                                                          'DMKN', 'KRT1', 'KRT5'], legend_loc='on data', cmap=magma)"
   ]
  },
  {
   "cell_type": "code",
   "execution_count": null,
   "id": "usual-edmonton",
   "metadata": {},
   "outputs": [],
   "source": [
    "sc.pl.umap(adata_reynolds_fb_4820STDY7389007_loom, color=['leiden', 'SFRP2', 'PI16', 'SLPI', 'WIF1', 'COL18A1', 'COMP', \n",
    "                                               'APOE', 'CCL2',  'ITM2A', 'SPSB1', \n",
    "                                               'CCDC146', 'CCL19', 'CD74'], cmap=magma, use_raw=False, legend_loc='on data')"
   ]
  },
  {
   "cell_type": "code",
   "execution_count": null,
   "id": "charged-climb",
   "metadata": {},
   "outputs": [],
   "source": [
    "dict_cat = {'fb': ['LUM', 'PDGFRA', 'COL1A1', 'SFRP2', 'CCL19'], 'peri': ['RGS5', 'MYL9', 'NDUFA4L2'], 'eritro': ['HBB', 'HBA2', 'HBA1'], \n",
    "            'immune': ['TPSB2', 'TRAC', 'TPSAB1', 'HLA-DRA', 'FCER1G'], 'kerato': ['DMKN', 'KRT1', 'KRT5'],\n",
    "            'mt': ['MTND2P28', 'MTND4P12', 'MTCO1P40', 'ADAM33', 'RN7SL2', 'MTRNR2L6']}\n",
    "\n",
    "assign_cats(adata_reynolds_fb_4820STDY7389007_loom, dict_cat, quantile_gene_sel=0.85, min_score=0.05)"
   ]
  },
  {
   "cell_type": "code",
   "execution_count": null,
   "id": "advance-anime",
   "metadata": {},
   "outputs": [],
   "source": [
    "sc.pl.umap(adata_reynolds_fb_4820STDY7389007_loom, color=['leiden', 'science_clustering', 'assigned_cats'], legend_loc='on data', cmap=magma)"
   ]
  },
  {
   "cell_type": "code",
   "execution_count": null,
   "id": "frank-corrections",
   "metadata": {},
   "outputs": [],
   "source": [
    "sc.tl.rank_genes_groups(adata_reynolds_fb_4820STDY7389007_loom, groupby='leiden')\n",
    "sc.pl.rank_genes_groups(adata_reynolds_fb_4820STDY7389007_loom)"
   ]
  },
  {
   "cell_type": "code",
   "execution_count": null,
   "id": "lesbian-cathedral",
   "metadata": {},
   "outputs": [],
   "source": [
    "adata_reynolds_fb_4820STDY7389007_loom = adata_reynolds_fb_4820STDY7389007_loom[adata_reynolds_fb_4820STDY7389007_loom.obs['assigned_cats'] == 'fb']"
   ]
  },
  {
   "cell_type": "code",
   "execution_count": null,
   "id": "metric-equity",
   "metadata": {},
   "outputs": [],
   "source": [
    "sc.pp.filter_genes(adata_reynolds_fb_4820STDY7389007_loom, min_counts=1)"
   ]
  },
  {
   "cell_type": "code",
   "execution_count": null,
   "id": "interesting-bristol",
   "metadata": {},
   "outputs": [],
   "source": [
    "sc.pp.pca(adata_reynolds_fb_4820STDY7389007_loom, random_state=seed, n_comps=30)\n",
    "tk.tl.triku(adata_reynolds_fb_4820STDY7389007_loom, n_procs=1, random_state=seed, use_adata_knn=True)\n",
    "sc.pp.neighbors(adata_reynolds_fb_4820STDY7389007_loom, metric='cosine', random_state=seed)"
   ]
  },
  {
   "cell_type": "code",
   "execution_count": null,
   "id": "conservative-silly",
   "metadata": {},
   "outputs": [],
   "source": [
    "sc.tl.umap(adata_reynolds_fb_4820STDY7389007_loom, min_dist=0.05, random_state=seed)\n",
    "sc.tl.leiden(adata_reynolds_fb_4820STDY7389007_loom, resolution=1.2, random_state=seed)"
   ]
  },
  {
   "cell_type": "code",
   "execution_count": null,
   "id": "relevant-statement",
   "metadata": {},
   "outputs": [],
   "source": [
    "adata_reynolds_fb_4820STDY7389007_loom"
   ]
  },
  {
   "cell_type": "code",
   "execution_count": null,
   "id": "cooked-alcohol",
   "metadata": {},
   "outputs": [],
   "source": [
    "sc.pl.umap(adata_reynolds_fb_4820STDY7389007_loom, color=['leiden', 'science_clustering'], cmap=magma, use_raw=False, legend_loc='on data')"
   ]
  },
  {
   "cell_type": "code",
   "execution_count": null,
   "id": "norwegian-encyclopedia",
   "metadata": {},
   "outputs": [],
   "source": [
    "sc.pl.umap(adata_reynolds_fb_4820STDY7389007_loom, color=['leiden', 'SFRP2', 'PI16', 'SLPI', 'WIF1', 'COL18A1', 'COMP', \n",
    "                                               'APOE', 'CCL2',  'ITM2A', 'SPSB1', \n",
    "                                               'CCDC146', 'CCL19', 'CD74'], cmap=magma, use_raw=False, legend_loc='on data')"
   ]
  },
  {
   "cell_type": "markdown",
   "id": "infrared-marina",
   "metadata": {},
   "source": [
    "## SKN8104899 (S4)"
   ]
  },
  {
   "cell_type": "markdown",
   "id": "later-leone",
   "metadata": {},
   "source": [
    "### Reynolds preprocessed"
   ]
  },
  {
   "cell_type": "code",
   "execution_count": null,
   "id": "dense-shopping",
   "metadata": {},
   "outputs": [],
   "source": [
    "adata_reynolds_fb_SKN8104899 = adata_reynolds_fb_healthy[adata_reynolds_fb_healthy.obs['sample_id'].isin(['SKN8104899'])]  #selected_samples)]"
   ]
  },
  {
   "cell_type": "code",
   "execution_count": null,
   "id": "solid-affiliation",
   "metadata": {},
   "outputs": [],
   "source": [
    "adata_reynolds_fb_SKN8104899"
   ]
  },
  {
   "cell_type": "code",
   "execution_count": null,
   "id": "dried-amber",
   "metadata": {},
   "outputs": [],
   "source": [
    "sc.pp.filter_genes(adata_reynolds_fb_SKN8104899, min_counts=1)\n",
    "adata_reynolds_fb_SKN8104899 = adata_reynolds_fb_SKN8104899[:, adata_reynolds_fb_SKN8104899.var_names != 'C3']"
   ]
  },
  {
   "cell_type": "code",
   "execution_count": null,
   "id": "nervous-cambridge",
   "metadata": {},
   "outputs": [],
   "source": [
    "sc.pp.pca(adata_reynolds_fb_SKN8104899, random_state=seed, n_comps=30)\n",
    "tk.tl.triku(adata_reynolds_fb_SKN8104899, n_procs=1, random_state=seed, use_adata_knn=True)\n",
    "sc.pp.neighbors(adata_reynolds_fb_SKN8104899, metric='cosine', random_state=seed)"
   ]
  },
  {
   "cell_type": "code",
   "execution_count": null,
   "id": "romance-motor",
   "metadata": {},
   "outputs": [],
   "source": [
    "sc.tl.umap(adata_reynolds_fb_SKN8104899, min_dist=0.3, random_state=seed)"
   ]
  },
  {
   "cell_type": "code",
   "execution_count": null,
   "id": "smaller-uganda",
   "metadata": {},
   "outputs": [],
   "source": [
    "sc.tl.leiden(adata_reynolds_fb_SKN8104899, resolution=1, random_state=seed)"
   ]
  },
  {
   "cell_type": "code",
   "execution_count": null,
   "id": "serial-salem",
   "metadata": {},
   "outputs": [],
   "source": [
    "sc.pl.umap(adata_reynolds_fb_SKN8104899, color=['leiden', 'sample_id', 'full_clustering'], legend_loc='on data')"
   ]
  },
  {
   "cell_type": "code",
   "execution_count": null,
   "id": "polish-exclusion",
   "metadata": {},
   "outputs": [],
   "source": [
    "sc.pl.umap(adata_reynolds_fb_SKN8104899, color=['APCDD1', 'COL18A1', 'COMP', 'SLPI', 'WIF1'], cmap=magma, use_raw=False)"
   ]
  },
  {
   "cell_type": "code",
   "execution_count": null,
   "id": "cognitive-press",
   "metadata": {},
   "outputs": [],
   "source": [
    "sc.pl.umap(adata_reynolds_fb_SKN8104899, color=['MT2A', 'CCL19', 'CCL2', 'CD46'], cmap=magma, use_raw=False)"
   ]
  },
  {
   "cell_type": "markdown",
   "id": "incident-sitting",
   "metadata": {},
   "source": [
    "### Direct loom"
   ]
  },
  {
   "cell_type": "code",
   "execution_count": null,
   "id": "fitted-conversation",
   "metadata": {},
   "outputs": [],
   "source": [
    "adata_reynolds_fb_SKN8104899_loom = sc.read('reynolds_2020/reynolds_2020_84_SKN8104899_S4_dermis_fibroblasts.loom', \n",
    "                                                 backup_url='https://zenodo.org/record/4596375/files/reynolds_2020_84_SKN8104899_S4_dermis_fibroblasts.loom')\n",
    "\n",
    "adata_reynolds_fb_SKN8104899_loom.var_names_make_unique()\n",
    "\n",
    "adata_reynolds_fb_SKN8104899_loom = adata_reynolds_fb_SKN8104899_loom[:, adata_reynolds_fb_SKN8104899_loom.var_names != 'C3']"
   ]
  },
  {
   "cell_type": "code",
   "execution_count": null,
   "id": "south-champagne",
   "metadata": {},
   "outputs": [],
   "source": [
    "adata_reynolds_fb_SKN8104899_loom.obs_names = [f\"{i.split('_')[-1]}-1-{i.split('_')[1]}\" for i in adata_reynolds_fb_SKN8104899_loom.obs_names]"
   ]
  },
  {
   "cell_type": "code",
   "execution_count": null,
   "id": "published-opposition",
   "metadata": {},
   "outputs": [],
   "source": [
    "df_fb_type = pd.Series('-', index=adata_reynolds_fb_SKN8104899_loom.obs_names)\n",
    "df_fb_type.loc[adata_reynolds_fb_SKN8104899.obs_names & adata_reynolds_fb_SKN8104899_loom.obs_names] = adata_reynolds_fb_SKN8104899[adata_reynolds_fb_SKN8104899.obs_names & adata_reynolds_fb_SKN8104899_loom.obs_names].obs['full_clustering']\n",
    "adata_reynolds_fb_SKN8104899_loom.obs['science_clustering'] = df_fb_type"
   ]
  },
  {
   "cell_type": "code",
   "execution_count": null,
   "id": "judicial-ratio",
   "metadata": {},
   "outputs": [],
   "source": [
    "sc.pp.calculate_qc_metrics(adata_reynolds_fb_SKN8104899_loom, inplace=True)"
   ]
  },
  {
   "cell_type": "code",
   "execution_count": null,
   "id": "buried-armor",
   "metadata": {},
   "outputs": [],
   "source": [
    "sc.pl.violin(adata_reynolds_fb_SKN8104899_loom, ['n_genes_by_counts'])\n",
    "sc.pl.violin(adata_reynolds_fb_SKN8104899_loom, ['log1p_total_counts'])"
   ]
  },
  {
   "cell_type": "code",
   "execution_count": null,
   "id": "specialized-stewart",
   "metadata": {},
   "outputs": [],
   "source": [
    "sc.pp.filter_genes(adata_reynolds_fb_SKN8104899_loom, min_counts=30)\n",
    "adata_reynolds_fb_SKN8104899_loom.raw = adata_reynolds_fb_SKN8104899_loom"
   ]
  },
  {
   "cell_type": "code",
   "execution_count": null,
   "id": "parental-conjunction",
   "metadata": {},
   "outputs": [],
   "source": [
    "sc.pp.normalize_per_cell(adata_reynolds_fb_SKN8104899_loom)\n",
    "sc.pp.log1p(adata_reynolds_fb_SKN8104899_loom)"
   ]
  },
  {
   "cell_type": "code",
   "execution_count": null,
   "id": "attached-brazilian",
   "metadata": {},
   "outputs": [],
   "source": [
    "sc.pp.pca(adata_reynolds_fb_SKN8104899_loom, random_state=seed, n_comps=30)\n",
    "tk.tl.triku(adata_reynolds_fb_SKN8104899_loom, n_procs=1, random_state=seed, use_adata_knn=True)\n",
    "sc.pp.neighbors(adata_reynolds_fb_SKN8104899_loom, metric='cosine', random_state=seed)"
   ]
  },
  {
   "cell_type": "code",
   "execution_count": null,
   "id": "metallic-humanity",
   "metadata": {},
   "outputs": [],
   "source": [
    "sc.tl.umap(adata_reynolds_fb_SKN8104899_loom, min_dist=0.3, random_state=seed)\n",
    "sc.tl.leiden(adata_reynolds_fb_SKN8104899_loom, resolution=0.8, random_state=seed)"
   ]
  },
  {
   "cell_type": "code",
   "execution_count": null,
   "id": "false-bloom",
   "metadata": {},
   "outputs": [],
   "source": [
    "sc.pl.umap(adata_reynolds_fb_SKN8104899_loom, color=['leiden', 'science_clustering'], legend_loc='on data')"
   ]
  },
  {
   "cell_type": "code",
   "execution_count": null,
   "id": "directed-reliance",
   "metadata": {},
   "outputs": [],
   "source": [
    "sc.pl.umap(adata_reynolds_fb_SKN8104899_loom, color=['LUM', 'PDGFRA', 'VIM', 'COL1A1', 'SFRP2', 'APOE', \n",
    "                                                     'POSTN', 'RGS5', 'MYL9', 'NDUFA4L2', 'HBB'], legend_loc='on data', cmap=magma, use_raw=False)"
   ]
  },
  {
   "cell_type": "code",
   "execution_count": null,
   "id": "above-sheffield",
   "metadata": {},
   "outputs": [],
   "source": [
    "sc.pl.umap(adata_reynolds_fb_SKN8104899_loom, color=['leiden', 'SFRP2', 'PI16', 'SLPI', 'WIF1', 'COL18A1', 'COMP', \n",
    "                                               'APOE', 'CCL2',  'ITM2A', 'SPSB1', \n",
    "                                               'CCDC146', 'CCL19', 'CD74', 'POSTN'], cmap=magma, use_raw=False, legend_loc='on data')"
   ]
  },
  {
   "cell_type": "code",
   "execution_count": null,
   "id": "miniature-walter",
   "metadata": {},
   "outputs": [],
   "source": [
    "dict_cat = {'fb': ['LUM', 'PDGFRA', 'COL1A1', 'SFRP2', 'CCL19'], 'peri': ['RGS5', 'MYL9', 'NDUFA4L2'], 'eritro': ['HBB', 'HBA2', 'HBA1'], \n",
    "            'immune': ['TRAC', 'HLA-DRA', 'FCER1G'], 'kerato': ['DMKN', 'KRT1'],\n",
    "            'mt': ['MTND4P12', 'ADAM33', 'RN7SL2', ]}\n",
    "\n",
    "assign_cats(adata_reynolds_fb_SKN8104899_loom, dict_cat, min_score=0.05)"
   ]
  },
  {
   "cell_type": "code",
   "execution_count": null,
   "id": "harmful-rwanda",
   "metadata": {},
   "outputs": [],
   "source": [
    "sc.pl.umap(adata_reynolds_fb_SKN8104899_loom, color=['leiden', 'science_clustering', 'assigned_cats'], legend_loc='on data', cmap=magma)"
   ]
  },
  {
   "cell_type": "code",
   "execution_count": null,
   "id": "experienced-aside",
   "metadata": {},
   "outputs": [],
   "source": [
    "sc.tl.rank_genes_groups(adata_reynolds_fb_SKN8104899_loom, groupby='leiden')\n",
    "sc.pl.rank_genes_groups(adata_reynolds_fb_SKN8104899_loom)"
   ]
  },
  {
   "cell_type": "code",
   "execution_count": null,
   "id": "correct-player",
   "metadata": {},
   "outputs": [],
   "source": [
    "adata_reynolds_fb_SKN8104899_loom = adata_reynolds_fb_SKN8104899_loom[adata_reynolds_fb_SKN8104899_loom.obs['assigned_cats'] == 'fb']"
   ]
  },
  {
   "cell_type": "code",
   "execution_count": null,
   "id": "mobile-taxation",
   "metadata": {},
   "outputs": [],
   "source": [
    "sc.pp.filter_genes(adata_reynolds_fb_SKN8104899_loom, min_counts=1)"
   ]
  },
  {
   "cell_type": "code",
   "execution_count": null,
   "id": "vanilla-stroke",
   "metadata": {},
   "outputs": [],
   "source": [
    "sc.pp.pca(adata_reynolds_fb_SKN8104899_loom, random_state=seed, n_comps=30)\n",
    "tk.tl.triku(adata_reynolds_fb_SKN8104899_loom, n_procs=1, random_state=seed, use_adata_knn=True)\n",
    "sc.pp.neighbors(adata_reynolds_fb_SKN8104899_loom, metric='cosine', random_state=seed)"
   ]
  },
  {
   "cell_type": "code",
   "execution_count": null,
   "id": "nuclear-fleece",
   "metadata": {},
   "outputs": [],
   "source": [
    "sc.tl.umap(adata_reynolds_fb_SKN8104899_loom, min_dist=0.05, random_state=seed)\n",
    "sc.tl.leiden(adata_reynolds_fb_SKN8104899_loom, resolution=1.2, random_state=seed)"
   ]
  },
  {
   "cell_type": "code",
   "execution_count": null,
   "id": "peripheral-register",
   "metadata": {},
   "outputs": [],
   "source": [
    "sc.pl.umap(adata_reynolds_fb_SKN8104899_loom, color=['leiden', 'science_clustering'], cmap=magma, use_raw=False, legend_loc='on data')"
   ]
  },
  {
   "cell_type": "code",
   "execution_count": null,
   "id": "prostate-prediction",
   "metadata": {},
   "outputs": [],
   "source": [
    "sc.pl.umap(adata_reynolds_fb_SKN8104899_loom, color=['leiden', 'SFRP2', 'PI16', 'SLPI', 'WIF1', 'COL18A1', 'COMP', \n",
    "                                               'APOE', 'CCL2',  'ITM2A', 'SPSB1', \n",
    "                                               'CCDC146', 'CCL19', 'CD74'], cmap=magma, use_raw=False, legend_loc='on data')"
   ]
  },
  {
   "cell_type": "code",
   "execution_count": null,
   "id": "hired-cycling",
   "metadata": {},
   "outputs": [],
   "source": [
    "sc.tl.rank_genes_groups(adata_reynolds_fb_SKN8104899_loom, groupby='leiden')\n",
    "sc.pl.rank_genes_groups(adata_reynolds_fb_SKN8104899_loom)"
   ]
  },
  {
   "cell_type": "markdown",
   "id": "sweet-procedure",
   "metadata": {},
   "source": [
    "## SKN8105197 (S5)"
   ]
  },
  {
   "cell_type": "markdown",
   "id": "downtown-institution",
   "metadata": {},
   "source": [
    "### Reynolds preprocessed"
   ]
  },
  {
   "cell_type": "code",
   "execution_count": null,
   "id": "improved-bicycle",
   "metadata": {},
   "outputs": [],
   "source": [
    "adata_reynolds_fb_SKN8105197 = adata_reynolds_fb_healthy[adata_reynolds_fb_healthy.obs['sample_id'].isin(['SKN8105197'])]  #selected_samples)]"
   ]
  },
  {
   "cell_type": "code",
   "execution_count": null,
   "id": "composite-mozambique",
   "metadata": {},
   "outputs": [],
   "source": [
    "adata_reynolds_fb_SKN8105197"
   ]
  },
  {
   "cell_type": "code",
   "execution_count": null,
   "id": "derived-guinea",
   "metadata": {},
   "outputs": [],
   "source": [
    "sc.pp.filter_genes(adata_reynolds_fb_SKN8105197, min_counts=1)\n",
    "adata_reynolds_fb_SKN8105197 = adata_reynolds_fb_SKN8105197[:, adata_reynolds_fb_SKN8105197.var_names != 'C3']"
   ]
  },
  {
   "cell_type": "code",
   "execution_count": null,
   "id": "dynamic-yukon",
   "metadata": {},
   "outputs": [],
   "source": [
    "sc.pp.pca(adata_reynolds_fb_SKN8105197, random_state=seed, n_comps=30)\n",
    "tk.tl.triku(adata_reynolds_fb_SKN8105197, n_procs=1, random_state=seed, use_adata_knn=True)\n",
    "sc.pp.neighbors(adata_reynolds_fb_SKN8105197, metric='cosine', random_state=seed)"
   ]
  },
  {
   "cell_type": "code",
   "execution_count": null,
   "id": "cathedral-accommodation",
   "metadata": {},
   "outputs": [],
   "source": [
    "sc.tl.umap(adata_reynolds_fb_SKN8105197, min_dist=0.3, random_state=seed)"
   ]
  },
  {
   "cell_type": "code",
   "execution_count": null,
   "id": "metropolitan-economy",
   "metadata": {},
   "outputs": [],
   "source": [
    "sc.tl.leiden(adata_reynolds_fb_SKN8105197, resolution=1, random_state=seed)"
   ]
  },
  {
   "cell_type": "code",
   "execution_count": null,
   "id": "sharp-croatia",
   "metadata": {},
   "outputs": [],
   "source": [
    "sc.pl.umap(adata_reynolds_fb_SKN8105197, color=['leiden', 'sample_id', 'full_clustering'], legend_loc='on data')"
   ]
  },
  {
   "cell_type": "code",
   "execution_count": null,
   "id": "handmade-physiology",
   "metadata": {},
   "outputs": [],
   "source": [
    "sc.pl.umap(adata_reynolds_fb_SKN8105197, color=['APCDD1', 'COL18A1', 'COMP', 'SLPI', 'WIF1'], cmap=magma, use_raw=False)"
   ]
  },
  {
   "cell_type": "code",
   "execution_count": null,
   "id": "lesbian-syria",
   "metadata": {},
   "outputs": [],
   "source": [
    "sc.pl.umap(adata_reynolds_fb_SKN8105197, color=['MT2A', 'CCL19', 'CCL2', 'CD46'], cmap=magma, use_raw=False)"
   ]
  },
  {
   "cell_type": "markdown",
   "id": "grateful-scotland",
   "metadata": {},
   "source": [
    "### Direct loom"
   ]
  },
  {
   "cell_type": "code",
   "execution_count": null,
   "id": "german-farming",
   "metadata": {},
   "outputs": [],
   "source": [
    "adata_reynolds_fb_SKN8105197_loom = sc.read('reynolds_2020/reynolds_2020_92_SKN8105197_S5_dermis_fibroblasts.loom', \n",
    "                                                 backup_url='https://zenodo.org/record/4596375/files/reynolds_2020_92_SKN8105197_S5_dermis_fibroblasts.loom')\n",
    "adata_reynolds_fb_SKN8105197_loom.var_names_make_unique()\n",
    "\n",
    "adata_reynolds_fb_SKN8105197_loom = adata_reynolds_fb_SKN8105197_loom[:, adata_reynolds_fb_SKN8105197_loom.var_names != 'C3']"
   ]
  },
  {
   "cell_type": "code",
   "execution_count": null,
   "id": "polyphonic-christopher",
   "metadata": {},
   "outputs": [],
   "source": [
    "adata_reynolds_fb_SKN8105197_loom.obs_names = [f\"{i.split('_')[-1]}-1-{i.split('_')[1]}\" for i in adata_reynolds_fb_SKN8105197_loom.obs_names]"
   ]
  },
  {
   "cell_type": "code",
   "execution_count": null,
   "id": "excessive-cursor",
   "metadata": {},
   "outputs": [],
   "source": [
    "df_fb_type = pd.Series('-', index=adata_reynolds_fb_SKN8105197_loom.obs_names)\n",
    "df_fb_type.loc[adata_reynolds_fb_SKN8105197.obs_names & adata_reynolds_fb_SKN8105197_loom.obs_names] = adata_reynolds_fb_SKN8105197[adata_reynolds_fb_SKN8105197.obs_names & adata_reynolds_fb_SKN8105197_loom.obs_names].obs['full_clustering']\n",
    "adata_reynolds_fb_SKN8105197_loom.obs['science_clustering'] = df_fb_type"
   ]
  },
  {
   "cell_type": "code",
   "execution_count": null,
   "id": "younger-sellers",
   "metadata": {},
   "outputs": [],
   "source": [
    "sc.pp.calculate_qc_metrics(adata_reynolds_fb_SKN8105197_loom, inplace=True)"
   ]
  },
  {
   "cell_type": "code",
   "execution_count": null,
   "id": "flush-housing",
   "metadata": {},
   "outputs": [],
   "source": [
    "sc.pl.violin(adata_reynolds_fb_SKN8105197_loom, ['n_genes_by_counts'])\n",
    "sc.pl.violin(adata_reynolds_fb_SKN8105197_loom, ['log1p_total_counts'])"
   ]
  },
  {
   "cell_type": "code",
   "execution_count": null,
   "id": "residential-twelve",
   "metadata": {},
   "outputs": [],
   "source": [
    "sc.pp.filter_genes(adata_reynolds_fb_SKN8105197_loom, min_counts=30)\n",
    "adata_reynolds_fb_SKN8105197_loom.raw = adata_reynolds_fb_SKN8105197_loom"
   ]
  },
  {
   "cell_type": "code",
   "execution_count": null,
   "id": "german-destiny",
   "metadata": {},
   "outputs": [],
   "source": [
    "sc.pp.normalize_per_cell(adata_reynolds_fb_SKN8105197_loom)\n",
    "sc.pp.log1p(adata_reynolds_fb_SKN8105197_loom)"
   ]
  },
  {
   "cell_type": "code",
   "execution_count": null,
   "id": "endless-turkey",
   "metadata": {},
   "outputs": [],
   "source": [
    "sc.pp.pca(adata_reynolds_fb_SKN8105197_loom, random_state=seed, n_comps=30)\n",
    "tk.tl.triku(adata_reynolds_fb_SKN8105197_loom, n_procs=1, random_state=seed, use_adata_knn=True)\n",
    "sc.pp.neighbors(adata_reynolds_fb_SKN8105197_loom, metric='cosine', random_state=seed)"
   ]
  },
  {
   "cell_type": "code",
   "execution_count": null,
   "id": "governmental-tension",
   "metadata": {},
   "outputs": [],
   "source": [
    "sc.tl.umap(adata_reynolds_fb_SKN8105197_loom, min_dist=0.3, random_state=seed)\n",
    "sc.tl.leiden(adata_reynolds_fb_SKN8105197_loom, resolution=1, random_state=seed)"
   ]
  },
  {
   "cell_type": "code",
   "execution_count": null,
   "id": "recognized-strand",
   "metadata": {},
   "outputs": [],
   "source": [
    "sc.pl.umap(adata_reynolds_fb_SKN8105197_loom, color=['leiden', 'science_clustering'], legend_loc='on data')"
   ]
  },
  {
   "cell_type": "code",
   "execution_count": null,
   "id": "essential-message",
   "metadata": {},
   "outputs": [],
   "source": [
    "sc.pl.umap(adata_reynolds_fb_SKN8105197_loom, color=['LUM', 'PDGFRA', 'VIM', 'COL1A1', 'SFRP2', 'APOE', 'RGS5', 'MYL9', 'NDUFA4L2', 'HBB'], legend_loc='on data', cmap=magma)"
   ]
  },
  {
   "cell_type": "code",
   "execution_count": null,
   "id": "seeing-season",
   "metadata": {},
   "outputs": [],
   "source": [
    "sc.pl.umap(adata_reynolds_fb_SKN8105197_loom, color=['leiden', 'SFRP2', 'SLPI', 'WIF1', 'COL18A1', 'COMP', \n",
    "                                               'APOE', 'CCL2',  'ITM2A', 'SPSB1', \n",
    "                                               'CCDC146', 'CCL19', 'CD74'], cmap=magma, use_raw=False, legend_loc='on data')"
   ]
  },
  {
   "cell_type": "code",
   "execution_count": null,
   "id": "derived-tenant",
   "metadata": {},
   "outputs": [],
   "source": [
    "dict_cat = {'fb': ['LUM', 'PDGFRA', 'COL1A1', 'SFRP2', 'CCL19'], 'peri': ['RGS5', 'MYL9', 'NDUFA4L2'], 'eritro': ['HBB', 'HBA2', 'HBA1'], \n",
    "            'immune': ['HLA-DRA', 'FCER1G'], 'melano':['PMEL', 'MLANA']}\n",
    "\n",
    "assign_cats(adata_reynolds_fb_SKN8105197_loom, dict_cat, min_score=0.05)"
   ]
  },
  {
   "cell_type": "code",
   "execution_count": null,
   "id": "classical-wrong",
   "metadata": {},
   "outputs": [],
   "source": [
    "sc.pl.umap(adata_reynolds_fb_SKN8105197_loom, color=['leiden', 'science_clustering', 'assigned_cats'], legend_loc='on data', cmap=magma)"
   ]
  },
  {
   "cell_type": "code",
   "execution_count": null,
   "id": "stuffed-lightning",
   "metadata": {},
   "outputs": [],
   "source": [
    "sc.tl.rank_genes_groups(adata_reynolds_fb_SKN8105197_loom, groupby='leiden')\n",
    "sc.pl.rank_genes_groups(adata_reynolds_fb_SKN8105197_loom)"
   ]
  },
  {
   "cell_type": "code",
   "execution_count": null,
   "id": "ceramic-torture",
   "metadata": {},
   "outputs": [],
   "source": [
    "adata_reynolds_fb_SKN8105197_loom = adata_reynolds_fb_SKN8105197_loom[adata_reynolds_fb_SKN8105197_loom.obs['assigned_cats'] == 'fb']"
   ]
  },
  {
   "cell_type": "code",
   "execution_count": null,
   "id": "innovative-command",
   "metadata": {},
   "outputs": [],
   "source": [
    "sc.pp.filter_genes(adata_reynolds_fb_SKN8105197_loom, min_counts=1)"
   ]
  },
  {
   "cell_type": "code",
   "execution_count": null,
   "id": "willing-local",
   "metadata": {},
   "outputs": [],
   "source": [
    "sc.pp.pca(adata_reynolds_fb_SKN8105197_loom, random_state=seed, n_comps=30)\n",
    "tk.tl.triku(adata_reynolds_fb_SKN8105197_loom, n_procs=1, random_state=seed, use_adata_knn=True)\n",
    "sc.pp.neighbors(adata_reynolds_fb_SKN8105197_loom, metric='cosine', random_state=seed)"
   ]
  },
  {
   "cell_type": "code",
   "execution_count": null,
   "id": "painted-section",
   "metadata": {},
   "outputs": [],
   "source": [
    "sc.tl.umap(adata_reynolds_fb_SKN8105197_loom, min_dist=0.05, random_state=seed)\n",
    "sc.tl.leiden(adata_reynolds_fb_SKN8105197_loom, resolution=1.2, random_state=seed)"
   ]
  },
  {
   "cell_type": "code",
   "execution_count": null,
   "id": "prescription-delight",
   "metadata": {},
   "outputs": [],
   "source": [
    "sc.pl.umap(adata_reynolds_fb_SKN8105197_loom, color=['leiden', 'science_clustering'], cmap=magma, use_raw=False, legend_loc='on data')"
   ]
  },
  {
   "cell_type": "code",
   "execution_count": null,
   "id": "broad-blocking",
   "metadata": {},
   "outputs": [],
   "source": [
    "sc.pl.umap(adata_reynolds_fb_SKN8105197_loom, color=['leiden', 'SFRP2', 'SLPI', 'WIF1', 'COL18A1', 'COMP', \n",
    "                                               'APOE', 'CCL2',  'ITM2A', 'SPSB1', \n",
    "                                               'CCDC146', 'CCL19', 'CD74'], cmap=magma, use_raw=False, legend_loc='on data')"
   ]
  },
  {
   "cell_type": "markdown",
   "id": "elder-sixth",
   "metadata": {},
   "source": [
    "## SKN8105197 exclusion\n",
    "We do not see SFRP2 expression, which has been a through fb marker, together with APOE. We will not include this sample in the analysis."
   ]
  },
  {
   "cell_type": "code",
   "execution_count": null,
   "id": "swedish-original",
   "metadata": {},
   "outputs": [],
   "source": [
    "genes = ['science_clustering', 'SFRP2', 'APOE', 'CCL19']\n",
    "\n",
    "sc.pl.umap(adata_reynolds_fb_4820STDY7388991_loom_fb, color=genes, cmap=magma, use_raw=False, legend_loc='on data')\n",
    "sc.pl.umap(adata_reynolds_fb_4820STDY7388999_loom, color=genes, cmap=magma, use_raw=False, legend_loc='on data')\n",
    "sc.pl.umap(adata_reynolds_fb_4820STDY7389007_loom, color=genes, cmap=magma, use_raw=False, legend_loc='on data')\n",
    "\n",
    "sc.pl.umap(adata_reynolds_fb_SKN8104899_loom, color=genes, cmap=magma, use_raw=False, legend_loc='on data')\n",
    "sc.pl.umap(adata_reynolds_fb_SKN8105197_loom, color=genes, cmap=magma, use_raw=False, legend_loc='on data')"
   ]
  },
  {
   "cell_type": "markdown",
   "id": "together-celtic",
   "metadata": {},
   "source": [
    "# Preparing adatas for FB1+3 and FB2\n",
    "\n",
    "We've realized that FB1+3 and FB2 showed the same main populations based on JID (A1, A2 and B2 mainly). We want to obtain distinct populations based on the marker expression, and also be able to separate these two populations. The problem is that the FB1+3 and FB2 populations, although not fully overlapping, they do show some overlap between them, and we would like to separate them only based on marker genes and clustering. These markers should be shared between all datasets. To do that, we are going to do a preeliminar DEG analysis and find markers that separate these populations in an unbiased manner."
   ]
  },
  {
   "cell_type": "markdown",
   "id": "focal-township",
   "metadata": {},
   "source": [
    "## Finding markers to separate 1+3 from 2"
   ]
  },
  {
   "cell_type": "markdown",
   "id": "simple-error",
   "metadata": {},
   "source": [
    "**This part may not be reproducible in other notebooks. This part is to get markers that will be reproducible later on**"
   ]
  },
  {
   "cell_type": "code",
   "execution_count": null,
   "id": "imperial-andorra",
   "metadata": {},
   "outputs": [],
   "source": [
    "# S1\n",
    "sc.tl.leiden(adata_reynolds_fb_4820STDY7388991_loom_fb, resolution=3, random_state=seed)\n",
    "sc.pl.umap(adata_reynolds_fb_4820STDY7388991_loom_fb, color=['leiden', 'science_clustering'], cmap=magma, use_raw=False, legend_loc='on data')\n",
    "adata_reynolds_fb_4820STDY7388991_loom_fb.obs['fb_type'] = ['1+3' if i in ['3', '16', '12', '19', '6', '17', '8', '2', '9', '11', '12', '14', '0', '21', '22'] else '2' for i in adata_reynolds_fb_4820STDY7388991_loom_fb.obs['leiden']]\n",
    "sc.pl.umap(adata_reynolds_fb_4820STDY7388991_loom_fb, color=['fb_type', 'science_clustering'], cmap=magma, use_raw=False, legend_loc='on data')"
   ]
  },
  {
   "cell_type": "code",
   "execution_count": null,
   "id": "communist-input",
   "metadata": {},
   "outputs": [],
   "source": [
    "sc.tl.rank_genes_groups(adata_reynolds_fb_4820STDY7388991_loom_fb, groupby='fb_type', groups=['1+3'], reference='2', rankby_abs=True)\n",
    "df_rank_s1 = pd.DataFrame(adata_reynolds_fb_4820STDY7388991_loom_fb.uns['rank_genes_groups']['names']['1+3'],\n",
    "adata_reynolds_fb_4820STDY7388991_loom_fb.uns['rank_genes_groups']['scores']['1+3']).sort_index(ascending=False)"
   ]
  },
  {
   "cell_type": "code",
   "execution_count": null,
   "id": "innovative-carroll",
   "metadata": {},
   "outputs": [],
   "source": [
    "# S2\n",
    "sc.tl.leiden(adata_reynolds_fb_4820STDY7388999_loom, resolution=3, random_state=seed)\n",
    "sc.pl.umap(adata_reynolds_fb_4820STDY7388999_loom, color=['leiden', 'science_clustering'], cmap=magma, use_raw=False, legend_loc='on data')\n",
    "adata_reynolds_fb_4820STDY7388999_loom.obs['fb_type'] = ['2' if i in ['15', '16', '19'] else '1+3' for i in adata_reynolds_fb_4820STDY7388999_loom.obs['leiden']]\n",
    "sc.pl.umap(adata_reynolds_fb_4820STDY7388999_loom, color=['fb_type', 'science_clustering'], cmap=magma, use_raw=False, legend_loc='on data')"
   ]
  },
  {
   "cell_type": "code",
   "execution_count": null,
   "id": "beginning-float",
   "metadata": {},
   "outputs": [],
   "source": [
    "sc.tl.rank_genes_groups(adata_reynolds_fb_4820STDY7388999_loom, groupby='fb_type', groups=['1+3'], reference='2', rankby_abs=True)\n",
    "df_rank_s2 = pd.DataFrame(adata_reynolds_fb_4820STDY7388999_loom.uns['rank_genes_groups']['names']['1+3'],\n",
    "adata_reynolds_fb_4820STDY7388999_loom.uns['rank_genes_groups']['scores']['1+3']).sort_index(ascending=False)"
   ]
  },
  {
   "cell_type": "code",
   "execution_count": null,
   "id": "cognitive-cholesterol",
   "metadata": {},
   "outputs": [],
   "source": [
    "# S3\n",
    "sc.tl.leiden(adata_reynolds_fb_4820STDY7389007_loom, resolution=2.8, random_state=seed)\n",
    "sc.pl.umap(adata_reynolds_fb_4820STDY7389007_loom, color=['leiden', 'science_clustering'], cmap=magma, use_raw=False, legend_loc='on data')\n",
    "adata_reynolds_fb_4820STDY7389007_loom.obs['fb_type'] = ['2' if i in ['0', '17', '16', '13', '4', '1', '19'] else '1+3' for i in adata_reynolds_fb_4820STDY7389007_loom.obs['leiden']]\n",
    "sc.pl.umap(adata_reynolds_fb_4820STDY7389007_loom, color=['fb_type', 'science_clustering'], cmap=magma, use_raw=False, legend_loc='on data')"
   ]
  },
  {
   "cell_type": "code",
   "execution_count": null,
   "id": "chronic-organization",
   "metadata": {},
   "outputs": [],
   "source": [
    "sc.tl.rank_genes_groups(adata_reynolds_fb_4820STDY7389007_loom, groupby='fb_type', groups=['1+3'], reference='2', rankby_abs=True)\n",
    "df_rank_s3 = pd.DataFrame(adata_reynolds_fb_4820STDY7389007_loom.uns['rank_genes_groups']['names']['1+3'],\n",
    "adata_reynolds_fb_4820STDY7389007_loom.uns['rank_genes_groups']['scores']['1+3']).sort_index(ascending=False)"
   ]
  },
  {
   "cell_type": "code",
   "execution_count": null,
   "id": "happy-poland",
   "metadata": {},
   "outputs": [],
   "source": [
    "# S4\n",
    "sc.tl.leiden(adata_reynolds_fb_SKN8104899_loom, resolution=3, random_state=seed)\n",
    "sc.pl.umap(adata_reynolds_fb_SKN8104899_loom, color=['leiden', 'science_clustering'], cmap=magma, use_raw=False, legend_loc='on data')\n",
    "adata_reynolds_fb_SKN8104899_loom.obs['fb_type'] = ['2' if i in ['8', '6', '14', '27'] else '1+3' for i in adata_reynolds_fb_SKN8104899_loom.obs['leiden']]\n",
    "sc.pl.umap(adata_reynolds_fb_SKN8104899_loom, color=['fb_type', 'science_clustering'], cmap=magma, use_raw=False, legend_loc='on data')"
   ]
  },
  {
   "cell_type": "code",
   "execution_count": null,
   "id": "fatty-circle",
   "metadata": {},
   "outputs": [],
   "source": [
    "sc.tl.rank_genes_groups(adata_reynolds_fb_SKN8104899_loom, groupby='fb_type', groups=['1+3'], reference='2', rankby_abs=True)\n",
    "df_rank_s4 = pd.DataFrame(adata_reynolds_fb_SKN8104899_loom.uns['rank_genes_groups']['names']['1+3'],\n",
    "adata_reynolds_fb_SKN8104899_loom.uns['rank_genes_groups']['scores']['1+3']).sort_index(ascending=False)"
   ]
  },
  {
   "cell_type": "code",
   "execution_count": null,
   "id": "perfect-chain",
   "metadata": {},
   "outputs": [],
   "source": [
    "N = 100\n",
    "\n",
    "genes_13, counts_13 = np.unique(list(df_rank_s1.iloc[:N, 0].values) + list(df_rank_s2.iloc[:N, 0].values) + list(df_rank_s3.iloc[:N, 0].values) + list(df_rank_s4.iloc[:N, 0].values), return_counts=True)\n",
    "genes_13_shared = genes_13[counts_13 >= 3]\n",
    "\n",
    "genes_2, counts_2 = np.unique(list(df_rank_s1.iloc[-N:, 0].values) + list(df_rank_s2.iloc[-N:, 0].values) + list(df_rank_s3.iloc[-N:, 0].values) + list(df_rank_s4.iloc[-N:, 0].values), return_counts=True)\n",
    "genes_2_shared = genes_2[counts_2 >= 3]"
   ]
  },
  {
   "cell_type": "code",
   "execution_count": null,
   "id": "statistical-lewis",
   "metadata": {},
   "outputs": [],
   "source": [
    "genes_13_shared"
   ]
  },
  {
   "cell_type": "code",
   "execution_count": null,
   "id": "latin-medium",
   "metadata": {},
   "outputs": [],
   "source": [
    "genes_2_shared"
   ]
  },
  {
   "cell_type": "markdown",
   "id": "dutch-triangle",
   "metadata": {},
   "source": [
    "## Separe the 1+3 from 2"
   ]
  },
  {
   "cell_type": "code",
   "execution_count": null,
   "id": "coastal-music",
   "metadata": {},
   "outputs": [],
   "source": [
    "genes_13_shared = ['BNIP3L', 'BNIP3P1', 'CEMIP', 'ENO1', 'GSTO1', 'MEDAG', 'NAMPT', 'NAMPTP1', 'NRN1', ]"
   ]
  },
  {
   "cell_type": "code",
   "execution_count": null,
   "id": "cooperative-situation",
   "metadata": {},
   "outputs": [],
   "source": [
    "genes_2_shared = ['ANXA2', 'CALM1', 'FOSB', 'LMNA', 'MTRNR2L12', 'S100A10', 'S100A4', 'S100A6', 'TMSB4X', 'TPPP3']"
   ]
  },
  {
   "cell_type": "code",
   "execution_count": null,
   "id": "political-point",
   "metadata": {},
   "outputs": [],
   "source": [
    "dict_cat = {'1+3': genes_13_shared, '2': genes_2_shared}\n",
    "\n",
    "for adata in [adata_reynolds_fb_4820STDY7388991_loom_fb, adata_reynolds_fb_4820STDY7388999_loom, adata_reynolds_fb_4820STDY7389007_loom, adata_reynolds_fb_SKN8104899_loom]:\n",
    "    assign_cats(adata, dict_cat, min_score=0.3)"
   ]
  },
  {
   "cell_type": "code",
   "execution_count": null,
   "id": "modular-wildlife",
   "metadata": {},
   "outputs": [],
   "source": [
    "sc.pl.umap(adata_reynolds_fb_4820STDY7388991_loom_fb, color=['leiden', 'science_clustering', 'fb_type', 'assigned_cats',  \n",
    "                                                             'assigned_cats_1+3', 'assigned_cats_2', 'assigned_cats_CV'], legend_loc='on data', cmap=magma)"
   ]
  },
  {
   "cell_type": "code",
   "execution_count": null,
   "id": "placed-addition",
   "metadata": {},
   "outputs": [],
   "source": [
    "sc.pl.umap(adata_reynolds_fb_4820STDY7388991_loom_fb, color=['leiden'] + genes_13_shared, legend_loc='on data', cmap=magma, use_raw=False)"
   ]
  },
  {
   "cell_type": "code",
   "execution_count": null,
   "id": "beautiful-representative",
   "metadata": {},
   "outputs": [],
   "source": [
    "sc.pl.umap(adata_reynolds_fb_4820STDY7388991_loom_fb, color=['leiden'] + genes_2_shared, legend_loc='on data', cmap=magma, use_raw=False)"
   ]
  },
  {
   "cell_type": "code",
   "execution_count": null,
   "id": "smooth-revelation",
   "metadata": {},
   "outputs": [],
   "source": [
    "sc.pl.umap(adata_reynolds_fb_4820STDY7388999_loom, color=['leiden', 'science_clustering', 'fb_type', 'assigned_cats', \n",
    "                                                          'assigned_cats_1+3', 'assigned_cats_2', 'assigned_cats_CV'], legend_loc='on data', cmap=magma)"
   ]
  },
  {
   "cell_type": "code",
   "execution_count": null,
   "id": "creative-worcester",
   "metadata": {},
   "outputs": [],
   "source": [
    "sc.pl.umap(adata_reynolds_fb_4820STDY7388999_loom, color=['leiden'] + genes_13_shared, legend_loc='on data', cmap=magma, use_raw=False)"
   ]
  },
  {
   "cell_type": "code",
   "execution_count": null,
   "id": "animated-memphis",
   "metadata": {},
   "outputs": [],
   "source": [
    "sc.pl.umap(adata_reynolds_fb_4820STDY7388999_loom, color=['leiden'] + genes_2_shared, legend_loc='on data', cmap=magma, use_raw=False)"
   ]
  },
  {
   "cell_type": "code",
   "execution_count": null,
   "id": "loving-diagnosis",
   "metadata": {},
   "outputs": [],
   "source": [
    "sc.pl.umap(adata_reynolds_fb_4820STDY7389007_loom, color=['leiden', 'science_clustering', 'fb_type', 'assigned_cats',  \n",
    "                                                          'assigned_cats_1+3', 'assigned_cats_2', 'assigned_cats_CV'], legend_loc='on data', cmap=magma)"
   ]
  },
  {
   "cell_type": "code",
   "execution_count": null,
   "id": "cognitive-official",
   "metadata": {},
   "outputs": [],
   "source": [
    "sc.pl.umap(adata_reynolds_fb_4820STDY7389007_loom, color=['leiden'] + genes_13_shared, legend_loc='on data', cmap=magma, use_raw=False)"
   ]
  },
  {
   "cell_type": "code",
   "execution_count": null,
   "id": "dramatic-adjustment",
   "metadata": {},
   "outputs": [],
   "source": [
    "sc.pl.umap(adata_reynolds_fb_4820STDY7389007_loom, color=['leiden'] + genes_2_shared, legend_loc='on data', cmap=magma, use_raw=False)"
   ]
  },
  {
   "cell_type": "code",
   "execution_count": null,
   "id": "packed-bloom",
   "metadata": {},
   "outputs": [],
   "source": [
    "sc.pl.umap(adata_reynolds_fb_SKN8104899_loom, color=['leiden', 'science_clustering', 'fb_type', 'assigned_cats',  \n",
    "                                                     'assigned_cats_1+3', 'assigned_cats_2', 'assigned_cats_CV'], legend_loc='on data', cmap=magma)"
   ]
  },
  {
   "cell_type": "code",
   "execution_count": null,
   "id": "burning-peninsula",
   "metadata": {},
   "outputs": [],
   "source": [
    "sc.pl.umap(adata_reynolds_fb_SKN8104899_loom, color=['leiden'] + genes_13_shared, legend_loc='on data', cmap=magma, use_raw=False)"
   ]
  },
  {
   "cell_type": "code",
   "execution_count": null,
   "id": "compound-printing",
   "metadata": {},
   "outputs": [],
   "source": [
    "sc.pl.umap(adata_reynolds_fb_SKN8104899_loom, color=['leiden'] + genes_2_shared, legend_loc='on data', cmap=magma, use_raw=False)"
   ]
  },
  {
   "cell_type": "markdown",
   "id": "international-superintendent",
   "metadata": {},
   "source": [
    "## Create the adatas"
   ]
  },
  {
   "cell_type": "code",
   "execution_count": null,
   "id": "efficient-timber",
   "metadata": {},
   "outputs": [],
   "source": [
    "adata_s1_13 = adata_reynolds_fb_4820STDY7388991_loom_fb[adata_reynolds_fb_4820STDY7388991_loom_fb.obs['assigned_cats'] == '1+3'].copy()\n",
    "adata_s1_2 = adata_reynolds_fb_4820STDY7388991_loom_fb[adata_reynolds_fb_4820STDY7388991_loom_fb.obs['assigned_cats'] == '2'].copy()\n",
    "\n",
    "adata_s2_13 = adata_reynolds_fb_4820STDY7388999_loom[adata_reynolds_fb_4820STDY7388999_loom.obs['assigned_cats'] == '1+3'].copy()\n",
    "adata_s2_2 = adata_reynolds_fb_4820STDY7388999_loom[adata_reynolds_fb_4820STDY7388999_loom.obs['assigned_cats'] == '2'].copy()\n",
    "\n",
    "adata_s3_13 = adata_reynolds_fb_4820STDY7389007_loom[adata_reynolds_fb_4820STDY7389007_loom.obs['assigned_cats'] == '1+3'].copy()\n",
    "adata_s3_2 = adata_reynolds_fb_4820STDY7389007_loom[adata_reynolds_fb_4820STDY7389007_loom.obs['assigned_cats'] == '2'].copy()\n",
    "\n",
    "adata_s4_13 = adata_reynolds_fb_SKN8104899_loom[adata_reynolds_fb_SKN8104899_loom.obs['assigned_cats'] == '1+3'].copy()\n",
    "adata_s4_2 = adata_reynolds_fb_SKN8104899_loom[adata_reynolds_fb_SKN8104899_loom.obs['assigned_cats'] == '2'].copy()"
   ]
  },
  {
   "cell_type": "code",
   "execution_count": null,
   "id": "false-headline",
   "metadata": {},
   "outputs": [],
   "source": [
    "for adata_s_name in ['adata_s1_13', 'adata_s1_2', 'adata_s2_13', 'adata_s2_2', 'adata_s3_13', 'adata_s3_2', 'adata_s4_13', 'adata_s4_2']:  # We do this because with the adata name by itselft it won't work!!!\n",
    "    sc.pp.filter_genes(eval(adata_s_name), min_counts=1)\n",
    "    sc.pp.pca(eval(adata_s_name), random_state=seed, n_comps=30)\n",
    "    tk.tl.triku(eval(adata_s_name), n_procs=1, random_state=seed)\n",
    "    sc.pp.neighbors(eval(adata_s_name), metric='cosine')\n",
    "    sc.tl.umap(eval(adata_s_name), min_dist=0.05, random_state=seed)"
   ]
  },
  {
   "cell_type": "code",
   "execution_count": null,
   "id": "compound-semester",
   "metadata": {},
   "outputs": [],
   "source": [
    "fig, axs = plt.subplots(1, 2, figsize=(6, 3))\n",
    "sc.pl.umap(adata_s1_13, color=['science_clustering'], legend_loc='on data', cmap=magma, ax=axs[0], show=False)\n",
    "sc.pl.umap(adata_s1_2, color=['science_clustering'], legend_loc='on data', cmap=magma, ax=axs[1], show=False)"
   ]
  },
  {
   "cell_type": "code",
   "execution_count": null,
   "id": "tamil-donor",
   "metadata": {},
   "outputs": [],
   "source": [
    "fig, axs = plt.subplots(1, 2, figsize=(6, 3))\n",
    "sc.pl.umap(adata_s2_13, color=['science_clustering'], legend_loc='on data', cmap=magma, ax=axs[0], show=False)\n",
    "sc.pl.umap(adata_s2_2, color=['science_clustering'], legend_loc='on data', cmap=magma, ax=axs[1], show=False)"
   ]
  },
  {
   "cell_type": "code",
   "execution_count": null,
   "id": "living-belarus",
   "metadata": {},
   "outputs": [],
   "source": [
    "fig, axs = plt.subplots(1, 2, figsize=(6, 3))\n",
    "sc.pl.umap(adata_s3_13, color=['science_clustering'], legend_loc='on data', cmap=magma, ax=axs[0], show=False)\n",
    "sc.pl.umap(adata_s3_2, color=['science_clustering'], legend_loc='on data', cmap=magma, ax=axs[1], show=False)"
   ]
  },
  {
   "cell_type": "code",
   "execution_count": null,
   "id": "educated-strengthening",
   "metadata": {},
   "outputs": [],
   "source": [
    "fig, axs = plt.subplots(1, 2, figsize=(6, 3))\n",
    "sc.pl.umap(adata_s4_13, color=['science_clustering'], legend_loc='on data', cmap=magma, ax=axs[0], show=False)\n",
    "sc.pl.umap(adata_s4_2, color=['science_clustering'], legend_loc='on data', cmap=magma, ax=axs[1], show=False)"
   ]
  },
  {
   "cell_type": "markdown",
   "id": "nasty-metallic",
   "metadata": {},
   "source": [
    "## Assigning JID categories\n",
    "Based on this we do not see any discordancies in the dataset. We are going to apply the category assignation to assign the JID clusters to the dataset."
   ]
  },
  {
   "cell_type": "code",
   "execution_count": null,
   "id": "continuous-granny",
   "metadata": {},
   "outputs": [],
   "source": [
    "## MAP JID populations\n",
    "\n",
    "dict_cat = {'A1': ['PI16', 'QPCT', 'SLPI', 'CCN5', 'CPE', 'CTHRC1', 'MFAP5', 'PCOLCE2', 'SCARA5', 'TSPAN8'], \n",
    "            'A2': ['APCDD1', 'COL18A1', 'COMP', 'NKD2', 'F13A1', 'HSPB3', 'LEPR', 'TGFBI'], \n",
    "            'B1': ['CXCL2', 'MYC', 'C7', 'SPSB1', 'ITM2A'], #['CCL2', 'ITM2A', 'SPSB1', 'SOD2', 'APOD', 'C3', 'C7', 'CXCL2', 'CXCL12', 'DNAJA1', 'GGT5', 'IGFBP7', 'MYC'], \n",
    "            'B2': ['SOCS3', 'CCL19', 'CD74', 'RARRES2', 'CCDC146', 'IGFBP3', 'TNFSF13B'], \n",
    "            'C': ['CRABP1', 'PLXDC1', 'RSPO4', 'ASPN', 'F2R', 'POSTN', 'TNN']}\n",
    "#             'C2': ['COCH', 'CRABP1', 'ARHGAP15', 'PLXDC1', 'RSPO4'], \n",
    "#             'C3': ['ASPN', 'F2R', 'POSTN', 'TNN'],}\n",
    "\n",
    "# dict_cat = {key: val[:4] for key, val in dict_cat.items()}"
   ]
  },
  {
   "cell_type": "markdown",
   "id": "willing-teacher",
   "metadata": {},
   "source": [
    "* A1: TSPAN8, SCARA5 less expressed in 1+3 datasets\n",
    "* A2: F13A1, HSPB3 less expressed in 1+3 datasets. APCDD1 is not a good marker for all samples\n",
    "* B1: removed many genes because expression patter is not consistent\n",
    "* B2: CCDC146 + TNFSF13B not expressed in 1+3 datasets\n",
    "* C1: Is not appearing\n",
    "* C2: Is not appearing except in 2 datasets of some patients (s2 and S4)\n",
    "* C3: Is not completely expressed, and sometimes POSTN does not collocalize with F2R\n",
    "* C4: Is not present in the data"
   ]
  },
  {
   "cell_type": "markdown",
   "id": "loose-jerusalem",
   "metadata": {},
   "source": [
    "### S1 1+3"
   ]
  },
  {
   "cell_type": "code",
   "execution_count": null,
   "id": "identical-netherlands",
   "metadata": {},
   "outputs": [],
   "source": [
    "adata_s = adata_s1_13"
   ]
  },
  {
   "cell_type": "code",
   "execution_count": null,
   "id": "chemical-mouth",
   "metadata": {},
   "outputs": [],
   "source": [
    "for key, val in dict_cat.items():\n",
    "        print(key, val)\n",
    "        sc.pl.umap(adata_s, color=['science_clustering'] + [i for i in val[:4] if i in eval(adata_s_name).var_names], legend_loc='on data', cmap=magma, use_raw=False, ncols=5)"
   ]
  },
  {
   "cell_type": "code",
   "execution_count": null,
   "id": "square-champion",
   "metadata": {},
   "outputs": [],
   "source": [
    "sc.tl.leiden(adata_s, resolution=1.4, random_state=seed)\n",
    "assign_cats(adata_s, dict_cats=dict_cat, column_groupby='leiden', intermediate_states=True, diff=0.05, min_score=0.6)\n",
    "sc.pl.umap(adata_s, color=['leiden', 'assigned_cats', 'assigned_cats_max',\n",
    "                           'assigned_cats_A1', 'assigned_cats_A2', 'assigned_cats_B1', 'assigned_cats_B2', 'assigned_cats_C'], legend_loc='on data', vmax=1, vmin=0, cmap=magma, use_raw=False)"
   ]
  },
  {
   "cell_type": "markdown",
   "id": "swedish-cattle",
   "metadata": {},
   "source": [
    "### S1 2"
   ]
  },
  {
   "cell_type": "code",
   "execution_count": null,
   "id": "processed-nigeria",
   "metadata": {},
   "outputs": [],
   "source": [
    "adata_s = adata_s1_2"
   ]
  },
  {
   "cell_type": "code",
   "execution_count": null,
   "id": "uniform-postage",
   "metadata": {},
   "outputs": [],
   "source": [
    "for key, val in dict_cat.items():\n",
    "        print(key, val)\n",
    "        sc.pl.umap(adata_s, color=['science_clustering'] + [i for i in val if i in eval(adata_s_name).var_names], legend_loc='on data', cmap=magma, use_raw=False, ncols=5)"
   ]
  },
  {
   "cell_type": "code",
   "execution_count": null,
   "id": "younger-turkey",
   "metadata": {},
   "outputs": [],
   "source": [
    "sc.tl.leiden(adata_s, resolution=1.5, random_state=seed)\n",
    "assign_cats(adata_s, dict_cats=dict_cat, column_groupby='leiden', intermediate_states=True, diff=0.07)\n",
    "sc.pl.umap(adata_s, color=['leiden', 'assigned_cats', \n",
    "                           'assigned_cats_A1', 'assigned_cats_A2', 'assigned_cats_B1', 'assigned_cats_B2', 'assigned_cats_C'], legend_loc='on data', vmax=1, cmap=magma, use_raw=False)"
   ]
  },
  {
   "cell_type": "markdown",
   "id": "photographic-fields",
   "metadata": {},
   "source": [
    "### S2 1+3"
   ]
  },
  {
   "cell_type": "code",
   "execution_count": null,
   "id": "boxed-mobility",
   "metadata": {},
   "outputs": [],
   "source": [
    "adata_s = adata_s2_13"
   ]
  },
  {
   "cell_type": "code",
   "execution_count": null,
   "id": "turned-disposal",
   "metadata": {},
   "outputs": [],
   "source": [
    "for key, val in dict_cat.items():\n",
    "        print(key, val)\n",
    "        sc.pl.umap(adata_s, color=['science_clustering'] + [i for i in val if i in eval(adata_s_name).var_names], legend_loc='on data', cmap=magma, use_raw=False, ncols=5)"
   ]
  },
  {
   "cell_type": "code",
   "execution_count": null,
   "id": "single-truck",
   "metadata": {},
   "outputs": [],
   "source": [
    "sc.tl.leiden(adata_s, resolution=1.5, random_state=seed)\n",
    "assign_cats(adata_s, dict_cats=dict_cat, column_groupby='leiden', intermediate_states=True, diff=0.07)\n",
    "sc.pl.umap(adata_s, color=['leiden', 'assigned_cats', \n",
    "                           'assigned_cats_A1', 'assigned_cats_A2', 'assigned_cats_B1', 'assigned_cats_B2', 'assigned_cats_C'], legend_loc='on data', vmax=1, cmap=magma, use_raw=False)"
   ]
  },
  {
   "cell_type": "markdown",
   "id": "satellite-mechanics",
   "metadata": {},
   "source": [
    "### S2 2"
   ]
  },
  {
   "cell_type": "code",
   "execution_count": null,
   "id": "exciting-consultation",
   "metadata": {},
   "outputs": [],
   "source": [
    "adata_s = adata_s2_2"
   ]
  },
  {
   "cell_type": "code",
   "execution_count": null,
   "id": "aging-spending",
   "metadata": {},
   "outputs": [],
   "source": [
    "for key, val in dict_cat.items():\n",
    "        print(key, val)\n",
    "        sc.pl.umap(adata_s, color=['science_clustering'] + [i for i in val if i in eval(adata_s_name).var_names], legend_loc='on data', cmap=magma, use_raw=False, ncols=5)"
   ]
  },
  {
   "cell_type": "code",
   "execution_count": null,
   "id": "chicken-senegal",
   "metadata": {},
   "outputs": [],
   "source": [
    "sc.tl.leiden(adata_s, resolution=1, random_state=seed)\n",
    "assign_cats(adata_s, dict_cats=dict_cat, column_groupby='leiden', intermediate_states=True, diff=0.07)\n",
    "sc.pl.umap(adata_s, color=['leiden', 'assigned_cats', \n",
    "                           'assigned_cats_A1', 'assigned_cats_A2', 'assigned_cats_B1', 'assigned_cats_B2', 'assigned_cats_C'], legend_loc='on data', vmax=1, cmap=magma, use_raw=False)"
   ]
  },
  {
   "cell_type": "markdown",
   "id": "naked-galaxy",
   "metadata": {},
   "source": [
    "### S3 1+3"
   ]
  },
  {
   "cell_type": "code",
   "execution_count": null,
   "id": "respected-comment",
   "metadata": {},
   "outputs": [],
   "source": [
    "adata_s = adata_s3_13"
   ]
  },
  {
   "cell_type": "code",
   "execution_count": null,
   "id": "earlier-nylon",
   "metadata": {},
   "outputs": [],
   "source": [
    "for key, val in dict_cat.items():\n",
    "        print(key, val)\n",
    "        sc.pl.umap(adata_s, color=['science_clustering'] + [i for i in val if i in adata_s.var_names], legend_loc='on data', cmap=magma, use_raw=False, ncols=5)"
   ]
  },
  {
   "cell_type": "code",
   "execution_count": null,
   "id": "postal-brown",
   "metadata": {},
   "outputs": [],
   "source": [
    "sc.tl.leiden(adata_s, resolution=2, random_state=seed)\n",
    "assign_cats(adata_s, dict_cats=dict_cat, column_groupby='leiden', intermediate_states=True, diff=0.05)\n",
    "sc.pl.umap(adata_s, color=['leiden', 'assigned_cats', \n",
    "                           'assigned_cats_A1', 'assigned_cats_A2', 'assigned_cats_B1', 'assigned_cats_B2', 'assigned_cats_C'], legend_loc='on data', vmax=1, cmap=magma, use_raw=False)"
   ]
  },
  {
   "cell_type": "markdown",
   "id": "smooth-evanescence",
   "metadata": {},
   "source": [
    "### S3 2"
   ]
  },
  {
   "cell_type": "code",
   "execution_count": null,
   "id": "formed-blair",
   "metadata": {},
   "outputs": [],
   "source": [
    "adata_s = adata_s3_2"
   ]
  },
  {
   "cell_type": "code",
   "execution_count": null,
   "id": "further-manufacturer",
   "metadata": {},
   "outputs": [],
   "source": [
    "for key, val in dict_cat.items():\n",
    "        print(key, val)\n",
    "        sc.pl.umap(adata_s, color=['science_clustering'] + [i for i in val if i in adata_s.var_names], legend_loc='on data', cmap=magma, use_raw=False)"
   ]
  },
  {
   "cell_type": "code",
   "execution_count": null,
   "id": "japanese-combination",
   "metadata": {},
   "outputs": [],
   "source": [
    "sc.tl.leiden(adata_s, resolution=1.4, random_state=seed)\n",
    "assign_cats(adata_s, dict_cats=dict_cat, column_groupby='leiden', intermediate_states=True, diff=0.07)\n",
    "sc.pl.umap(adata_s, color=['leiden', 'assigned_cats', \n",
    "                           'assigned_cats_A1', 'assigned_cats_A2', 'assigned_cats_B1', 'assigned_cats_B2', 'assigned_cats_C'], legend_loc='on data', vmax=1, cmap=magma, use_raw=False)"
   ]
  },
  {
   "cell_type": "markdown",
   "id": "surrounded-stretch",
   "metadata": {},
   "source": [
    "### S4 1+3"
   ]
  },
  {
   "cell_type": "code",
   "execution_count": null,
   "id": "educational-consideration",
   "metadata": {},
   "outputs": [],
   "source": [
    "adata_s = adata_s4_13"
   ]
  },
  {
   "cell_type": "code",
   "execution_count": null,
   "id": "certified-macedonia",
   "metadata": {},
   "outputs": [],
   "source": [
    "for key, val in dict_cat.items():\n",
    "        print(key, val)\n",
    "        sc.pl.umap(adata_s, color=['science_clustering'] + [i for i in val if i in adata_s.var_names], legend_loc='on data', cmap=magma, use_raw=False)"
   ]
  },
  {
   "cell_type": "code",
   "execution_count": null,
   "id": "generous-deficit",
   "metadata": {},
   "outputs": [],
   "source": [
    "sc.tl.leiden(adata_s, resolution=2, random_state=seed)\n",
    "assign_cats(adata_s, dict_cats=dict_cat, column_groupby='leiden', intermediate_states=True, diff=0.07)\n",
    "sc.pl.umap(adata_s, color=['leiden', 'assigned_cats', \n",
    "                           'assigned_cats_A1', 'assigned_cats_A2', 'assigned_cats_B1', 'assigned_cats_B2', 'assigned_cats_C'], legend_loc='on data', vmax=1, cmap=magma, use_raw=False)"
   ]
  },
  {
   "cell_type": "markdown",
   "id": "regional-holmes",
   "metadata": {},
   "source": [
    "### S4 2"
   ]
  },
  {
   "cell_type": "code",
   "execution_count": null,
   "id": "outstanding-arabic",
   "metadata": {},
   "outputs": [],
   "source": [
    "adata_s = adata_s4_2"
   ]
  },
  {
   "cell_type": "code",
   "execution_count": null,
   "id": "understanding-junior",
   "metadata": {},
   "outputs": [],
   "source": [
    "for key, val in dict_cat.items():\n",
    "        print(key, val)\n",
    "        sc.pl.umap(adata_s, color=['science_clustering'] + [i for i in val if i in adata_s.var_names], legend_loc='on data', cmap=magma, use_raw=False)"
   ]
  },
  {
   "cell_type": "code",
   "execution_count": null,
   "id": "heard-armor",
   "metadata": {},
   "outputs": [],
   "source": [
    "sc.tl.leiden(adata_s, resolution=2, random_state=seed)\n",
    "assign_cats(adata_s, dict_cats=dict_cat, column_groupby='leiden', intermediate_states=True, diff=0.07)\n",
    "sc.pl.umap(adata_s, color=['leiden', 'assigned_cats', \n",
    "                           'assigned_cats_A1', 'assigned_cats_A2', 'assigned_cats_B1', 'assigned_cats_B2', 'assigned_cats_C'], legend_loc='on data', vmax=1, cmap=magma, use_raw=False)"
   ]
  },
  {
   "cell_type": "markdown",
   "id": "vital-assessment",
   "metadata": {},
   "source": [
    "## Joining 1+3 and 2 adatas\n",
    "Now we are going to join all adatas into two: one for each category. We should find that the predicted categories should match between them across adatas.\n",
    "\n",
    "**OUTER JOIN IS APPLIED TO KEEPS GENES NOT EXPRESSED IN ALL ADATAS**"
   ]
  },
  {
   "cell_type": "markdown",
   "id": "lasting-representative",
   "metadata": {},
   "source": [
    "### No batch effect correction"
   ]
  },
  {
   "cell_type": "code",
   "execution_count": null,
   "id": "joint-parent",
   "metadata": {},
   "outputs": [],
   "source": [
    "adata_all_13 = sc.AnnData.concatenate(adata_s1_13, adata_s2_13, adata_s3_13, adata_s4_13, batch_categories=['s1', 's2', 's3', 's4'], batch_key='s_dataset', join='outer')\n",
    "adata_all_2 = sc.AnnData.concatenate(adata_s1_2, adata_s2_2, adata_s3_2, adata_s4_2, batch_categories=['s1', 's2', 's3', 's4'], batch_key='s_dataset', join='outer')"
   ]
  },
  {
   "cell_type": "code",
   "execution_count": null,
   "id": "specific-contemporary",
   "metadata": {},
   "outputs": [],
   "source": [
    "for adata_name in ['adata_all_13', 'adata_all_2']:\n",
    "    sc.pp.filter_genes(eval(adata_name), min_counts=1)\n",
    "    sc.pp.pca(eval(adata_name), random_state=seed, n_comps=30)\n",
    "    tk.tl.triku(eval(adata_name), n_procs=1, random_state=seed, use_adata_knn=True)\n",
    "    sc.pp.neighbors(eval(adata_name), metric='cosine', random_state=seed)\n",
    "    sc.tl.umap(eval(adata_name), min_dist=0.3, random_state=seed)"
   ]
  },
  {
   "cell_type": "code",
   "execution_count": null,
   "id": "wireless-eagle",
   "metadata": {},
   "outputs": [],
   "source": [
    "for adata_name in ['adata_all_13', 'adata_all_2']:\n",
    "    sc.pl.umap(eval(adata_name),  color=['s_dataset', 'assigned_cats'])"
   ]
  },
  {
   "cell_type": "markdown",
   "id": "supported-douglas",
   "metadata": {},
   "source": [
    "### bbknn"
   ]
  },
  {
   "cell_type": "markdown",
   "id": "familiar-section",
   "metadata": {},
   "source": [
    "#### kNN within batch: 2"
   ]
  },
  {
   "cell_type": "code",
   "execution_count": null,
   "id": "abroad-concept",
   "metadata": {},
   "outputs": [],
   "source": [
    "adata_all_13 = sc.AnnData.concatenate(adata_s1_13, adata_s2_13, adata_s3_13, adata_s4_13, batch_categories=['s1', 's2', 's3', 's4'], batch_key='s_dataset', join='outer')\n",
    "adata_all_2 = sc.AnnData.concatenate(adata_s1_2, adata_s2_2, adata_s3_2, adata_s4_2, batch_categories=['s1', 's2', 's3', 's4'], batch_key='s_dataset', join='outer')"
   ]
  },
  {
   "cell_type": "code",
   "execution_count": null,
   "id": "realistic-telephone",
   "metadata": {},
   "outputs": [],
   "source": [
    "for adata_name in ['adata_all_13', 'adata_all_2']:\n",
    "    sc.pp.filter_genes(eval(adata_name), min_counts=30)\n",
    "    sc.pp.pca(eval(adata_name), random_state=seed, n_comps=30)\n",
    "    sce.pp.bbknn(eval(adata_name), metric='angular', batch_key='s_dataset', neighbors_within_batch=2)\n",
    "    tk.tl.triku(eval(adata_name), n_procs=1, random_state=seed, use_adata_knn=True)\n",
    "    sc.tl.umap(eval(adata_name), min_dist=0.05, random_state=seed)"
   ]
  },
  {
   "cell_type": "code",
   "execution_count": null,
   "id": "thousand-asian",
   "metadata": {},
   "outputs": [],
   "source": [
    "for adata_name in ['adata_all_13', 'adata_all_2']:\n",
    "    sc.tl.leiden(eval(adata_name), resolution=1.5)\n",
    "    sc.pl.umap(eval(adata_name),  color=['s_dataset', 'leiden', 'assigned_cats'])"
   ]
  },
  {
   "cell_type": "markdown",
   "id": "boring-experiment",
   "metadata": {},
   "source": [
    "#### kNN within batch: 3"
   ]
  },
  {
   "cell_type": "code",
   "execution_count": null,
   "id": "alleged-berlin",
   "metadata": {},
   "outputs": [],
   "source": [
    "adata_all_13 = sc.AnnData.concatenate(adata_s1_13, adata_s2_13, adata_s3_13, adata_s4_13, batch_categories=['s1', 's2', 's3', 's4'], batch_key='s_dataset', join='outer')\n",
    "adata_all_2 = sc.AnnData.concatenate(adata_s1_2, adata_s2_2, adata_s3_2, adata_s4_2, batch_categories=['s1', 's2', 's3', 's4'], batch_key='s_dataset', join='outer')"
   ]
  },
  {
   "cell_type": "code",
   "execution_count": null,
   "id": "attached-desert",
   "metadata": {},
   "outputs": [],
   "source": [
    "for adata_name in ['adata_all_13', 'adata_all_2']:\n",
    "    sc.pp.filter_genes(eval(adata_name), min_counts=30)\n",
    "    sc.pp.pca(eval(adata_name), random_state=seed, n_comps=30)\n",
    "    sce.pp.bbknn(eval(adata_name), metric='angular', batch_key='s_dataset', neighbors_within_batch=3)\n",
    "    tk.tl.triku(eval(adata_name), n_procs=1, random_state=seed, use_adata_knn=True)\n",
    "    sc.tl.umap(eval(adata_name), min_dist=0.05, random_state=seed)"
   ]
  },
  {
   "cell_type": "code",
   "execution_count": null,
   "id": "considerable-batman",
   "metadata": {},
   "outputs": [],
   "source": [
    "for adata_name in ['adata_all_13', 'adata_all_2']:\n",
    "    sc.tl.leiden(eval(adata_name), resolution=1.5)\n",
    "    sc.pl.umap(eval(adata_name),  color=['s_dataset', 'leiden', 'assigned_cats'])"
   ]
  },
  {
   "cell_type": "markdown",
   "id": "spread-stuff",
   "metadata": {},
   "source": [
    "#### kNN within batch: 6"
   ]
  },
  {
   "cell_type": "code",
   "execution_count": null,
   "id": "color-promotion",
   "metadata": {},
   "outputs": [],
   "source": [
    "adata_all_13 = sc.AnnData.concatenate(adata_s1_13, adata_s2_13, adata_s3_13, adata_s4_13, batch_categories=['s1', 's2', 's3', 's4'], batch_key='s_dataset', join='outer')\n",
    "adata_all_2 = sc.AnnData.concatenate(adata_s1_2, adata_s2_2, adata_s3_2, adata_s4_2, batch_categories=['s1', 's2', 's3', 's4'], batch_key='s_dataset', join='outer')"
   ]
  },
  {
   "cell_type": "code",
   "execution_count": null,
   "id": "proud-tourist",
   "metadata": {},
   "outputs": [],
   "source": [
    "for adata_name in ['adata_all_13', 'adata_all_2']:\n",
    "    sc.pp.filter_genes(eval(adata_name), min_counts=30)\n",
    "    sc.pp.pca(eval(adata_name), random_state=seed, n_comps=30)\n",
    "    sce.pp.bbknn(eval(adata_name), metric='angular', batch_key='s_dataset', neighbors_within_batch=6)\n",
    "    tk.tl.triku(eval(adata_name), n_procs=1, random_state=seed, use_adata_knn=True)\n",
    "    sc.tl.umap(eval(adata_name), min_dist=0.05, random_state=seed)"
   ]
  },
  {
   "cell_type": "code",
   "execution_count": null,
   "id": "lightweight-sheet",
   "metadata": {},
   "outputs": [],
   "source": [
    "for adata_name in ['adata_all_13', 'adata_all_2']:\n",
    "    sc.pl.umap(eval(adata_name),  color=['s_dataset', 'assigned_cats'])"
   ]
  },
  {
   "cell_type": "markdown",
   "id": "thorough-beauty",
   "metadata": {},
   "source": [
    "#### kNN within batch: 8"
   ]
  },
  {
   "cell_type": "code",
   "execution_count": null,
   "id": "absolute-dollar",
   "metadata": {},
   "outputs": [],
   "source": [
    "adata_all_13 = sc.AnnData.concatenate(adata_s1_13, adata_s2_13, adata_s3_13, adata_s4_13, batch_categories=['s1', 's2', 's3', 's4'], batch_key='s_dataset', join='outer')\n",
    "adata_all_2 = sc.AnnData.concatenate(adata_s1_2, adata_s2_2, adata_s3_2, adata_s4_2, batch_categories=['s1', 's2', 's3', 's4'], batch_key='s_dataset', join='outer')"
   ]
  },
  {
   "cell_type": "code",
   "execution_count": null,
   "id": "operational-provider",
   "metadata": {},
   "outputs": [],
   "source": [
    "for adata_name in ['adata_all_13', 'adata_all_2']:\n",
    "    sc.pp.filter_genes(eval(adata_name), min_counts=30)\n",
    "    sc.pp.pca(eval(adata_name), random_state=seed, n_comps=30)\n",
    "    sce.pp.bbknn(eval(adata_name), metric='angular', batch_key='s_dataset', neighbors_within_batch=8)\n",
    "    tk.tl.triku(eval(adata_name), n_procs=1, random_state=seed, use_adata_knn=True)\n",
    "    sc.tl.umap(eval(adata_name), min_dist=0.05, random_state=seed)"
   ]
  },
  {
   "cell_type": "code",
   "execution_count": null,
   "id": "lesser-purchase",
   "metadata": {},
   "outputs": [],
   "source": [
    "for adata_name in ['adata_all_13', 'adata_all_2']:\n",
    "    sc.pl.umap(eval(adata_name),  color=['s_dataset', 'assigned_cats'])"
   ]
  },
  {
   "cell_type": "markdown",
   "id": "similar-ready",
   "metadata": {},
   "source": [
    "### harmonypy"
   ]
  },
  {
   "cell_type": "markdown",
   "id": "surrounded-polyester",
   "metadata": {},
   "source": [
    "#### sigma = 0.1"
   ]
  },
  {
   "cell_type": "code",
   "execution_count": null,
   "id": "hispanic-reviewer",
   "metadata": {},
   "outputs": [],
   "source": [
    "adata_all_13 = sc.AnnData.concatenate(adata_s1_13, adata_s2_13, adata_s3_13, adata_s4_13, batch_categories=['s1', 's2', 's3', 's4'], batch_key='s_dataset', join='outer')\n",
    "adata_all_2 = sc.AnnData.concatenate(adata_s1_2, adata_s2_2, adata_s3_2, adata_s4_2, batch_categories=['s1', 's2', 's3', 's4'], batch_key='s_dataset', join='outer')"
   ]
  },
  {
   "cell_type": "code",
   "execution_count": null,
   "id": "arctic-measurement",
   "metadata": {},
   "outputs": [],
   "source": [
    "for adata_name in ['adata_all_13', 'adata_all_2']:\n",
    "    sc.pp.filter_genes(eval(adata_name), min_counts=30)\n",
    "    sc.pp.pca(eval(adata_name), random_state=seed, n_comps=30)\n",
    "    sce.pp.harmony_integrate(eval(adata_name), key='s_dataset', basis='X_pca', \n",
    "                             adjusted_basis='X_pca_harmony', random_state=seed, \n",
    "                             epsilon_cluster=1e-06, epsilon_harmony=0.00001, \n",
    "                             max_iter_harmony=25, sigma=0.1)\n",
    "    sc.pp.neighbors(eval(adata_name), metric='cosine', use_rep='X_pca_harmony', random_state=seed)\n",
    "    tk.tl.triku(eval(adata_name), n_procs=1, random_state=seed, use_adata_knn=True)\n",
    "    sc.tl.umap(eval(adata_name), min_dist=0.3, random_state=seed)"
   ]
  },
  {
   "cell_type": "code",
   "execution_count": null,
   "id": "printable-alexandria",
   "metadata": {},
   "outputs": [],
   "source": [
    "for adata_name in ['adata_all_13', 'adata_all_2']:\n",
    "    sc.tl.leiden(eval(adata_name), resolution=0.2)\n",
    "    sc.tl.rank_genes_groups(eval(adata_name), method='wilcoxon', groupby='leiden')\n",
    "    sc.pl.umap(eval(adata_name),  color=['s_dataset', 'leiden', 'assigned_cats',])"
   ]
  },
  {
   "cell_type": "code",
   "execution_count": null,
   "id": "sharp-boundary",
   "metadata": {},
   "outputs": [],
   "source": [
    "sc.pl.umap(adata_all_13,  color=['s_dataset', 'leiden', 'assigned_cats',])"
   ]
  },
  {
   "cell_type": "markdown",
   "id": "italian-assurance",
   "metadata": {},
   "source": [
    "#### sigma = 0.25"
   ]
  },
  {
   "cell_type": "code",
   "execution_count": null,
   "id": "professional-evolution",
   "metadata": {},
   "outputs": [],
   "source": [
    "adata_all_13 = sc.AnnData.concatenate(adata_s1_13, adata_s2_13, adata_s3_13, adata_s4_13, batch_categories=['s1', 's2', 's3', 's4'], batch_key='s_dataset', join='outer')\n",
    "adata_all_2 = sc.AnnData.concatenate(adata_s1_2, adata_s2_2, adata_s3_2, adata_s4_2, batch_categories=['s1', 's2', 's3', 's4'], batch_key='s_dataset', join='outer')"
   ]
  },
  {
   "cell_type": "code",
   "execution_count": null,
   "id": "acknowledged-invasion",
   "metadata": {},
   "outputs": [],
   "source": [
    "for adata_name in ['adata_all_13', 'adata_all_2']:\n",
    "    sc.pp.filter_genes(eval(adata_name), min_counts=30)\n",
    "    sc.pp.pca(eval(adata_name), random_state=seed, n_comps=30)\n",
    "    sce.pp.harmony_integrate(eval(adata_name), key='s_dataset', basis='X_pca', \n",
    "                             adjusted_basis='X_pca_harmony', random_state=seed, \n",
    "                             epsilon_cluster=1e-06, epsilon_harmony=0.00001, \n",
    "                             max_iter_harmony=25, sigma=0.25)\n",
    "    sc.pp.neighbors(eval(adata_name), metric='cosine', use_rep='X_pca_harmony', random_state=seed)\n",
    "    tk.tl.triku(eval(adata_name), n_procs=1, random_state=seed, use_adata_knn=True)\n",
    "    sc.tl.umap(eval(adata_name), min_dist=0.3, random_state=seed)"
   ]
  },
  {
   "cell_type": "code",
   "execution_count": null,
   "id": "excited-flush",
   "metadata": {},
   "outputs": [],
   "source": [
    "for adata_name in ['adata_all_13', 'adata_all_2']:\n",
    "    sc.tl.leiden(eval(adata_name), resolution=0.6)\n",
    "    sc.tl.rank_genes_groups(eval(adata_name), method='wilcoxon', groupby='leiden')\n",
    "    sc.pl.umap(eval(adata_name),  color=['s_dataset', 'leiden', 'assigned_cats',])"
   ]
  },
  {
   "cell_type": "code",
   "execution_count": null,
   "id": "alternative-mention",
   "metadata": {},
   "outputs": [],
   "source": [
    "sc.pl.umap(adata_all_13,  color=['s_dataset', 'leiden', 'assigned_cats',])\n",
    "sc.pl.rank_genes_groups_tracksplot(adata_all_13, dendrogram=False, use_raw=False, n_genes=20)"
   ]
  },
  {
   "cell_type": "code",
   "execution_count": null,
   "id": "electric-nowhere",
   "metadata": {},
   "outputs": [],
   "source": [
    "sc.pl.umap(adata_all_2,  color=['s_dataset', 'leiden', 'assigned_cats',])\n",
    "sc.pl.rank_genes_groups_tracksplot(adata_all_2, dendrogram=False, use_raw=False, n_genes=20)"
   ]
  },
  {
   "cell_type": "markdown",
   "id": "environmental-sleeve",
   "metadata": {},
   "source": [
    "#### sigma = 0.5"
   ]
  },
  {
   "cell_type": "code",
   "execution_count": null,
   "id": "running-montreal",
   "metadata": {},
   "outputs": [],
   "source": [
    "adata_all_13 = sc.AnnData.concatenate(adata_s1_13, adata_s2_13, adata_s3_13, adata_s4_13, batch_categories=['s1', 's2', 's3', 's4'], batch_key='s_dataset', join='outer')\n",
    "adata_all_2 = sc.AnnData.concatenate(adata_s1_2, adata_s2_2, adata_s3_2, adata_s4_2, batch_categories=['s1', 's2', 's3', 's4'], batch_key='s_dataset', join='outer')"
   ]
  },
  {
   "cell_type": "code",
   "execution_count": null,
   "id": "understanding-insulin",
   "metadata": {},
   "outputs": [],
   "source": [
    "for adata_name in ['adata_all_13', 'adata_all_2']:\n",
    "    sc.pp.filter_genes(eval(adata_name), min_counts=30)\n",
    "    sc.pp.pca(eval(adata_name), random_state=seed, n_comps=30)\n",
    "    sce.pp.harmony_integrate(eval(adata_name), key='s_dataset', basis='X_pca', \n",
    "                             adjusted_basis='X_pca_harmony', random_state=seed, \n",
    "                             epsilon_cluster=1e-06, epsilon_harmony=0.00001, \n",
    "                             max_iter_harmony=25, sigma=0.5)\n",
    "    sc.pp.neighbors(eval(adata_name), metric='cosine', use_rep='X_pca_harmony', random_state=seed)\n",
    "    tk.tl.triku(eval(adata_name), n_procs=1, random_state=seed, use_adata_knn=True)\n",
    "    sc.tl.umap(eval(adata_name), min_dist=0.3, random_state=seed)"
   ]
  },
  {
   "cell_type": "code",
   "execution_count": null,
   "id": "composed-organizer",
   "metadata": {},
   "outputs": [],
   "source": [
    "for adata_name in ['adata_all_13', 'adata_all_2']:\n",
    "    sc.tl.leiden(eval(adata_name), resolution=0.6)\n",
    "    sc.tl.rank_genes_groups(eval(adata_name), method='wilcoxon', groupby='leiden')\n",
    "    sc.pl.umap(eval(adata_name),  color=['s_dataset', 'leiden', 'assigned_cats',])"
   ]
  },
  {
   "cell_type": "code",
   "execution_count": null,
   "id": "planned-cherry",
   "metadata": {
    "scrolled": true
   },
   "outputs": [],
   "source": [
    "sc.pl.umap(adata_all_13,  color=['s_dataset', 'leiden', 'assigned_cats',])\n",
    "sc.pl.rank_genes_groups_tracksplot(adata_all_13, dendrogram=False, use_raw=False, n_genes=20)"
   ]
  },
  {
   "cell_type": "code",
   "execution_count": null,
   "id": "pressing-traffic",
   "metadata": {
    "scrolled": true
   },
   "outputs": [],
   "source": [
    "sc.pl.umap(adata_all_2,  color=['s_dataset', 'leiden', 'assigned_cats',])\n",
    "sc.pl.rank_genes_groups_tracksplot(adata_all_2, dendrogram=False, use_raw=False, n_genes=20)"
   ]
  },
  {
   "cell_type": "markdown",
   "id": "associate-stylus",
   "metadata": {},
   "source": [
    "### Selecting the definitive option with bbknn with k=2"
   ]
  },
  {
   "cell_type": "code",
   "execution_count": null,
   "id": "defined-fleet",
   "metadata": {},
   "outputs": [],
   "source": [
    "adata_all_13 = sc.AnnData.concatenate(adata_s1_13, adata_s2_13, adata_s3_13, adata_s4_13, batch_categories=['s1', 's2', 's3', 's4'], batch_key='s_dataset', join='outer')\n",
    "adata_all_2 = sc.AnnData.concatenate(adata_s1_2, adata_s2_2, adata_s3_2, adata_s4_2, batch_categories=['s1', 's2', 's3', 's4'], batch_key='s_dataset', join='outer')"
   ]
  },
  {
   "cell_type": "code",
   "execution_count": null,
   "id": "inappropriate-specialist",
   "metadata": {},
   "outputs": [],
   "source": [
    "for adata_name in ['adata_all_13', 'adata_all_2']:\n",
    "    sc.pp.filter_genes(eval(adata_name), min_counts=30)\n",
    "    sc.pp.pca(eval(adata_name), random_state=seed, n_comps=30)\n",
    "    sce.pp.bbknn(eval(adata_name), metric='angular', batch_key='s_dataset', neighbors_within_batch=2)\n",
    "    tk.tl.triku(eval(adata_name), n_procs=1, random_state=seed, use_adata_knn=True)\n",
    "    sc.tl.umap(eval(adata_name), min_dist=0.05, random_state=seed)"
   ]
  },
  {
   "cell_type": "code",
   "execution_count": null,
   "id": "italian-mainland",
   "metadata": {},
   "outputs": [],
   "source": [
    "for adata_name in ['adata_all_13', 'adata_all_2']:\n",
    "    sc.tl.leiden(eval(adata_name), resolution=1.5)\n",
    "    sc.pl.umap(eval(adata_name),  color=['s_dataset', 'leiden', 'assigned_cats'])"
   ]
  },
  {
   "cell_type": "markdown",
   "id": "demographic-consultancy",
   "metadata": {},
   "source": [
    "## Analysis\n",
    "We observe that either FB1+FB3 or FB2 cells show an A1, an A2 and a B1/B2 population. Moreover, in the FB1+FB3 clusters there are two A2 clusters, and the A1 and B1/B2 clusters seem \"enlarged\", that is, can be differentiated along a \"differentiation\" axis. We are going to understand why are there 3 copies of the A and B populations. To do that we are going to answer two questions:\n",
    "* What genes separate FB2 from FB1+FB3 clusters?\n",
    "* What genes separate the two axes from the FB2 cluster?"
   ]
  },
  {
   "cell_type": "markdown",
   "id": "suspected-canon",
   "metadata": {},
   "source": [
    "## What genes separate clusters FB2 from FB1+FB3?\n",
    "To answer that question we are going to get the DEGs from FB2 and FB1+FB3 clusters, and get ontology terms to discern any pattern."
   ]
  },
  {
   "cell_type": "code",
   "execution_count": null,
   "id": "sound-alexander",
   "metadata": {},
   "outputs": [],
   "source": [
    "adata_all_123 = sc.AnnData.concatenate(adata_all_2, adata_all_13, batch_categories=['2', '1+3'], batch_key='a_dataset', join='outer')"
   ]
  },
  {
   "cell_type": "code",
   "execution_count": null,
   "id": "incredible-credit",
   "metadata": {},
   "outputs": [],
   "source": [
    "sc.pp.filter_genes(adata_all_123, min_counts=30)\n",
    "sc.pp.pca(adata_all_123, random_state=seed, n_comps=30)\n",
    "sce.pp.bbknn(adata_all_123, metric='angular', batch_key='s_dataset', neighbors_within_batch=2)\n",
    "tk.tl.triku(adata_all_123, n_procs=1, random_state=seed, use_adata_knn=True)\n",
    "sc.tl.umap(adata_all_123, min_dist=0.05, random_state=seed)"
   ]
  },
  {
   "cell_type": "code",
   "execution_count": null,
   "id": "official-toilet",
   "metadata": {},
   "outputs": [],
   "source": [
    "sc.tl.leiden(adata_all_123, resolution=1.5)\n",
    "sc.pl.umap(adata_all_123,  color=['a_dataset', 'science_clustering', 's_dataset', 'leiden', 'assigned_cats'])"
   ]
  },
  {
   "cell_type": "code",
   "execution_count": null,
   "id": "initial-cardiff",
   "metadata": {},
   "outputs": [],
   "source": [
    "sc.tl.rank_genes_groups(adata_all_123, groupby='a_dataset', method='wilcoxon', use_raw=False)"
   ]
  },
  {
   "cell_type": "code",
   "execution_count": null,
   "id": "systematic-decade",
   "metadata": {},
   "outputs": [],
   "source": [
    "DEGs_123_2 = adata_all_123.uns['rank_genes_groups']['names']['2'][:150]\n",
    "# there are many MT and RP, so we are going to remove them to make GOs easier to interpret\n",
    "DEGs_123_2 = np.array([i for i in DEGs_123_2 if (i[:2] != 'RP') & (i[:3] != 'MT-')])\n",
    "\n",
    "DEGs_123_13 = adata_all_123.uns['rank_genes_groups']['names']['1+3'][:150]"
   ]
  },
  {
   "cell_type": "code",
   "execution_count": null,
   "id": "representative-velvet",
   "metadata": {},
   "outputs": [],
   "source": [
    "DEGs_123_2.sort()\n",
    "DEGs_123_2"
   ]
  },
  {
   "cell_type": "code",
   "execution_count": null,
   "id": "finished-abraham",
   "metadata": {},
   "outputs": [],
   "source": [
    "DEGs_123_13.sort()\n",
    "DEGs_123_13"
   ]
  },
  {
   "cell_type": "markdown",
   "id": "modular-stage",
   "metadata": {},
   "source": [
    "In DEGs from the 2 cluster dataset we see genes like FOS, JUN, JUND, GADD45B, IER2, IRF, which are classic stress-related genes. \n",
    "\n",
    "In the DEGs from the 1+3 cluster we see glicolysis-related genes (ALDOA, LDHA, PGK1, GAPDH) and, some hypoxia-related genes (BNIP3, BNIP3L), so it might be related to hypoxia.   \n",
    "\n",
    "**We are going to focus on the DEGs / GOs associated to the cluster 2.**"
   ]
  },
  {
   "cell_type": "code",
   "execution_count": null,
   "id": "duplicate-donna",
   "metadata": {},
   "outputs": [],
   "source": [
    "enr_123_2 = gp.enrichr(gene_list=list(DEGs_123_2),\n",
    "                    gene_sets=['GO_Biological_Process_2018'],\n",
    "                 organism='Human', # don't forget to set organism to the one you desired! e.g. Yeast\n",
    "                 description='test_name',\n",
    "                 cutoff=0.5 # test dataset, use lower value from range(0,1)\n",
    "                )"
   ]
  },
  {
   "cell_type": "code",
   "execution_count": null,
   "id": "union-support",
   "metadata": {},
   "outputs": [],
   "source": [
    "enr_123_2.results.sort_values(by='Adjusted P-value').iloc[:15][selected_enr_cols]"
   ]
  },
  {
   "cell_type": "code",
   "execution_count": null,
   "id": "seeing-refund",
   "metadata": {},
   "outputs": [],
   "source": [
    "enr_123_13 = gp.enrichr(gene_list=list(DEGs_123_13),\n",
    "                    gene_sets=['GO_Biological_Process_2018'],\n",
    "                 organism='Human', # don't forget to set organism to the one you desired! e.g. Yeast\n",
    "                 description='test_name',\n",
    "                 cutoff=0.5 # test dataset, use lower value from range(0,1)\n",
    "                )"
   ]
  },
  {
   "cell_type": "code",
   "execution_count": null,
   "id": "cordless-freight",
   "metadata": {},
   "outputs": [],
   "source": [
    "enr_123_13.results.sort_values(by='Adjusted P-value').iloc[:15][selected_enr_cols]"
   ]
  },
  {
   "cell_type": "markdown",
   "id": "logical-flood",
   "metadata": {},
   "source": [
    "The GO terms are clearly replicating the same results from *de visu* analysis. DEGs from FB2 dataset reveal GO terms related to stress (*response to unfolded protein*, *regulation of apoptotic process*, *mRNA catabolic process*). To make sure of these results, we are going to search in the literature for stress-related genes, and we will map them to our dataset. We should expect cluster FB2 to show an increased expression of many of the genes set in the literature."
   ]
  },
  {
   "cell_type": "markdown",
   "id": "included-insurance",
   "metadata": {},
   "source": [
    "### Mapping stress-related genes to populations\n",
    "In this section we are going to use a set of genes from the following references:\n",
    "* [van den Brick et al. (2017)](https://www.nature.com/articles/nmeth.4437) Table S1\n",
    "* [O'Flanagan et al. (2019)](https://genomebiology.biomedcentral.com/articles/10.1186/s13059-019-1830-0) Figure 3, and [Github](https://github.com/kieranrcampbell/scrnaseq-digestion-paper/blob/master/data/deliverables/coregene_df-FALSE-v3.csv)\n",
    "* [Denisenko et al. (2020)](https://genomebiology.biomedcentral.com/articles/10.1186/s13059-020-02048-6) Tables S1 and S3\n",
    "* [Adam et al. (2017)](https://journals.biologists.com/dev/article/144/19/3625/48196/Psychrophilic-proteases-dramatically-reduce-single) Tables S1 and S2\n",
    "\n",
    "These tables include genes overexpressed in different tissues (kidney, tumours, etc.) and hot (37 ºC) and cold conditions. Most of the authors assess that these conditions are not tissue-specific and appear, overall, in all samples with a certain degree of processing. Therefore, we are going to use these gene lists and map their genes to the dataset to see how apparent the gene expression patterns are. "
   ]
  },
  {
   "cell_type": "code",
   "execution_count": null,
   "id": "arranged-peoples",
   "metadata": {},
   "outputs": [],
   "source": [
    "gene_list_adam_2017_s1_hot = np.loadtxt('papers_genes_bad_quality/adam_2017_s1_hot.txt', dtype=str)\n",
    "gene_list_adam_2017_s1_cold = np.loadtxt('papers_genes_bad_quality/adam_2017_s1_cold.txt', dtype=str)\n",
    "\n",
    "gene_list_adam_2017_s2_hot = np.loadtxt('papers_genes_bad_quality/adam_2017_s2_hot.txt', dtype=str)\n",
    "gene_list_adam_2017_s2_cold = np.loadtxt('papers_genes_bad_quality/adam_2017_s2_cold.txt', dtype=str)"
   ]
  },
  {
   "cell_type": "code",
   "execution_count": null,
   "id": "guided-washer",
   "metadata": {},
   "outputs": [],
   "source": [
    "gene_list_denisenko_2020_s1_hot = np.loadtxt('papers_genes_bad_quality/denisenko_2020_s1.txt', dtype=str)\n",
    "gene_list_denisenko_2020_s1_cold = np.loadtxt('papers_genes_bad_quality/denisenko_2020_s1_cold.txt', dtype=str)\n",
    "\n",
    "gene_list_denisenko_2020_s3_hot = np.loadtxt('papers_genes_bad_quality/denisenko_2020_s3.txt', dtype=str)"
   ]
  },
  {
   "cell_type": "code",
   "execution_count": null,
   "id": "heated-century",
   "metadata": {},
   "outputs": [],
   "source": [
    "gene_list_oflanagan_2019_supp_hot = np.loadtxt('papers_genes_bad_quality/oflanagan_2019_gene_list_supp_hot.txt', dtype=str)\n",
    "gene_list_oflanagan_2019_supp_cold = np.loadtxt('papers_genes_bad_quality/oflanagan_2019_gene_list_supp_cold.txt', dtype=str)\n",
    "\n",
    "gene_list_oflanagan_2019_fig3_hot = np.loadtxt('papers_genes_bad_quality/oflanagan_2019_gene_list_fig3.txt', dtype=str)"
   ]
  },
  {
   "cell_type": "code",
   "execution_count": null,
   "id": "stone-fantasy",
   "metadata": {},
   "outputs": [],
   "source": [
    "gene_list_vandenbrick_2017_hot = np.loadtxt('papers_genes_bad_quality/vandenbrink_2017_gene_list.txt', dtype=str)"
   ]
  },
  {
   "cell_type": "code",
   "execution_count": null,
   "id": "responsible-conditioning",
   "metadata": {},
   "outputs": [],
   "source": [
    "hot_genes = np.concatenate((gene_list_adam_2017_s1_hot, gene_list_adam_2017_s2_hot, gene_list_denisenko_2020_s1_hot, gene_list_denisenko_2020_s3_hot, \n",
    "                            gene_list_oflanagan_2019_supp_hot, gene_list_oflanagan_2019_fig3_hot, gene_list_vandenbrick_2017_hot))\n",
    "\n",
    "cold_genes = np.concatenate((gene_list_adam_2017_s1_cold, gene_list_adam_2017_s2_cold, gene_list_denisenko_2020_s1_cold, gene_list_oflanagan_2019_supp_cold))"
   ]
  },
  {
   "cell_type": "code",
   "execution_count": null,
   "id": "absent-father",
   "metadata": {},
   "outputs": [],
   "source": [
    "hot_genes, hot_counts = np.unique(hot_genes, return_counts=True)\n",
    "cold_genes, cold_counts = np.unique(cold_genes, return_counts=True)"
   ]
  },
  {
   "cell_type": "markdown",
   "id": "canadian-survivor",
   "metadata": {},
   "source": [
    "We are going to keep genes that appear at least once across the different *cold*-related gene lists, and at least twice across the *hot*-related gene lists."
   ]
  },
  {
   "cell_type": "code",
   "execution_count": null,
   "id": "opposed-psychology",
   "metadata": {},
   "outputs": [],
   "source": [
    "hot_genes_good = hot_genes[hot_counts > 2]\n",
    "hot_genes_good"
   ]
  },
  {
   "cell_type": "code",
   "execution_count": null,
   "id": "eleven-narrow",
   "metadata": {},
   "outputs": [],
   "source": [
    "np.savetxt('papers_genes_bad_quality/stress_genes.txt', hot_genes_good, fmt='%s')"
   ]
  },
  {
   "cell_type": "code",
   "execution_count": null,
   "id": "metric-genealogy",
   "metadata": {},
   "outputs": [],
   "source": [
    "cold_genes_good = cold_genes[cold_counts > 1]\n",
    "cold_genes_good"
   ]
  },
  {
   "cell_type": "code",
   "execution_count": null,
   "id": "structural-aquarium",
   "metadata": {},
   "outputs": [],
   "source": [
    "np.intersect1d(DEGs_123_2, hot_genes_good)"
   ]
  },
  {
   "cell_type": "markdown",
   "id": "controlling-fossil",
   "metadata": {},
   "source": [
    "We see that there is a certain grade of intersect between the selected genes and the DEGs from Reynolds cluster FB2."
   ]
  },
  {
   "cell_type": "code",
   "execution_count": null,
   "id": "younger-poison",
   "metadata": {},
   "outputs": [],
   "source": [
    "sc.pl.umap(adata_all_123,  color=['a_dataset', 'assigned_cats'] + [i for i in list(hot_genes_good) if i in adata_all_123.var_names], \n",
    "           cmap=magma, use_raw=False)"
   ]
  },
  {
   "cell_type": "markdown",
   "id": "valid-garage",
   "metadata": {},
   "source": [
    "We see that most of the genes are more expressed in the FB2 cluster. Moreover, some of them (BTG2, FOSB, KLF2, PHLDA2, HSPA1B) are mainly expressed in cluster FB2!"
   ]
  },
  {
   "cell_type": "code",
   "execution_count": null,
   "id": "scheduled-depression",
   "metadata": {},
   "outputs": [],
   "source": [
    "dict_cats = {'Stress': ['ATF3', 'BTG2', 'CEBPB', 'CEBPD', 'CLDN4', 'CSRNP1', 'CTGF',\n",
    "       'CXCL1', 'CXCL2', 'CYR61', 'DNAJA1', 'DNAJB1', 'DUSP1', 'DUSP2',\n",
    "       'DUSP5', 'EGR1', 'ELF3', 'FOS', 'FOSB', 'GADD45B', 'GADD45G',\n",
    "       'HSP90AA1', 'HSPA1A', 'HSPA1B', 'HSPB1', 'IER2', 'IER3', 'IFRD1',\n",
    "       'IRF1', 'JUN', 'JUNB', 'JUND', 'KLF2', 'KLF4', 'KLF6', 'MAFF',\n",
    "       'NFKBIA', 'NFKBIZ', 'NR4A1', 'NR4A2', 'PHLDA2', 'PIM1', 'PLAUR',\n",
    "       'PLK3', 'PPP1R15A', 'RASD1', 'RHOB', 'SOCS3', 'TNFAIP3', 'UBC',\n",
    "       'ZFP36']}\n",
    "assign_cats(adata_all_123, dict_cats=dict_cats, column_groupby='leiden', intermediate_states=True, \n",
    "            others_name='Non-stress', min_score=0.55, key_added='assigned_cats_stress')"
   ]
  },
  {
   "cell_type": "code",
   "execution_count": null,
   "id": "cognitive-impossible",
   "metadata": {},
   "outputs": [],
   "source": [
    "sc.pl.umap(adata_all_123,  color=['a_dataset', 'assigned_cats', 'assigned_cats_stress'], legend_loc='on data',\n",
    "           cmap=magma, use_raw=False)"
   ]
  },
  {
   "cell_type": "markdown",
   "id": "remarkable-tablet",
   "metadata": {},
   "source": [
    "## What genes separate A1/A2/B fibroblasts within FB1+FB3?\n",
    "To answer that question we are going to get the DEGs from A2 clusters within FB1+FB3 cells, and get ontology terms to discern any pattern."
   ]
  },
  {
   "cell_type": "code",
   "execution_count": null,
   "id": "separated-means",
   "metadata": {},
   "outputs": [],
   "source": [
    "sc.tl.leiden(adata_all_13, resolution=2)\n",
    "\n",
    "sc.pl.umap(adata_all_13,  color=['s_dataset', 'leiden', 'assigned_cats'])\n",
    "sc.tl.rank_genes_groups(adata_all_13, groupby='leiden', method='wilcoxon', use_raw=False)"
   ]
  },
  {
   "cell_type": "code",
   "execution_count": null,
   "id": "bottom-treat",
   "metadata": {
    "scrolled": true
   },
   "outputs": [],
   "source": [
    "sc.pl.rank_genes_groups_tracksplot(adata_all_13, dendrogram=False, use_raw=False, n_genes=50)"
   ]
  },
  {
   "cell_type": "code",
   "execution_count": null,
   "id": "raising-essay",
   "metadata": {
    "scrolled": true
   },
   "outputs": [],
   "source": [
    "# THIS PART MIGHT NOT BE REPLICABLE OUTSIDE!!! Clusters are set to detect differences in A2 left VS right\n",
    "sc.tl.rank_genes_groups(adata_all_13, groupby='leiden', method='wilcoxon', groups=['1'], reference='0')\n",
    "sc.pl.rank_genes_groups_tracksplot(adata_all_13, dendrogram=False, use_raw=False, n_genes=150)"
   ]
  },
  {
   "cell_type": "code",
   "execution_count": null,
   "id": "studied-country",
   "metadata": {
    "scrolled": true
   },
   "outputs": [],
   "source": [
    "sc.pl.umap(adata_all_13, color=['leiden'] + list(adata_all_13.uns['rank_genes_groups']['names']['1'][:150]), cmap=magma, use_raw=False)"
   ]
  },
  {
   "cell_type": "code",
   "execution_count": null,
   "id": "executed-tutorial",
   "metadata": {
    "scrolled": true
   },
   "outputs": [],
   "source": [
    "# THIS PART MIGHT NOT BE REPLICABLE OUTSIDE!!! Clusters are set to detect differences in A2 left VS right\n",
    "sc.tl.rank_genes_groups(adata_all_13, groupby='leiden', method='wilcoxon', groups=['0'], reference='1')\n",
    "sc.pl.rank_genes_groups_tracksplot(adata_all_13, dendrogram=False, use_raw=False, n_genes=150)"
   ]
  },
  {
   "cell_type": "code",
   "execution_count": null,
   "id": "enhanced-denmark",
   "metadata": {
    "scrolled": true
   },
   "outputs": [],
   "source": [
    "sc.tl.rank_genes_groups(adata_all_13, groupby='leiden', method='wilcoxon', groups=['1'], reference='0')\n",
    "sc.pl.umap(adata_all_13, color=['leiden'] + list(adata_all_13.uns['rank_genes_groups']['names']['1'][:150]), cmap=magma, use_raw=False)"
   ]
  },
  {
   "cell_type": "code",
   "execution_count": null,
   "id": "informal-aviation",
   "metadata": {},
   "outputs": [],
   "source": [
    "genes_cluster_A2_A = ['HILPDA', 'VIM', 'FAM162A', 'VEGFA', 'LDHA', 'ADM', 'SNHG7', 'SYNPO', 'INSIG2', 'ERO1A', 'ZNF395', 'ANGPTL4', \n",
    "                      'NRN1', 'SLC2A1', 'EHD2', 'DDIT4', 'P4HA2', 'DPYSL2', 'WSB1', 'SNHG1', 'SNHG8', 'SLC16A3', 'BNIP3', 'RAB20', 'VKORC1',\n",
    "                      'LOXL2', 'KLF6', 'PGM1', 'SLC2A14', 'PPP1R18', 'BAIAP2', 'CDON', 'CLK1', 'PDK1', 'PYGL', 'NFIX', 'AK4', 'RORA',\n",
    "                      'NGLY1', 'SCD', 'GPRC5A', 'RASSF5', 'COPS2', 'COL27A1', 'SH3BP5', 'EGLN3', 'JUN', 'PGF', 'CXCR4', 'PPP1R3B', \n",
    "                      'HSD3B7', 'SNX33', 'KCTD11', 'MAFF', 'BEND5', 'SEPTIN9', 'PPP1R3C', 'SMIM3', 'SFXN3', 'SNHG18', 'OSBPL5',\n",
    "                      ]\n",
    "genes_cluster_A2_B = ['HSPE1', 'HMGB1', 'CEMIP', 'SNRPG', 'ERH', 'PRDX1', 'AKR1C1', 'PSMB3', 'DDX5', 'ATP5MF', 'CCT7', 'NDUFS6', \n",
    "                      'COX6B1', 'PSMA4', 'SPON1', 'NDUFAF3', 'ACTB', 'ADAMTS5', 'SLIRP', 'SSB', 'MRPL41', 'POLR2K', 'NQO2']"
   ]
  },
  {
   "cell_type": "markdown",
   "id": "renewable-blind",
   "metadata": {},
   "source": [
    "From the gene sets, we are going to assume that A gene set represents hypoxic conditions ('hypoxia') and B represents normoxic conditions ('normoxia')"
   ]
  },
  {
   "cell_type": "code",
   "execution_count": null,
   "id": "statistical-jaguar",
   "metadata": {},
   "outputs": [],
   "source": [
    "sc.pl.umap(adata_all_13, color=genes_cluster_A2_A, cmap=magma, use_raw=False)"
   ]
  },
  {
   "cell_type": "code",
   "execution_count": null,
   "id": "racial-relevance",
   "metadata": {},
   "outputs": [],
   "source": [
    "sc.pl.umap(adata_all_13, color=genes_cluster_A2_B, cmap=magma, use_raw=False)"
   ]
  },
  {
   "cell_type": "code",
   "execution_count": null,
   "id": "inside-trail",
   "metadata": {},
   "outputs": [],
   "source": [
    "assign_cats(adata_all_13, min_score=0.3, key_added='cats_hypoxia',\n",
    "            dict_cats={'Hypoxia': genes_cluster_A2_A, 'Normoxia': genes_cluster_A2_B})"
   ]
  },
  {
   "cell_type": "code",
   "execution_count": null,
   "id": "tough-speed",
   "metadata": {},
   "outputs": [],
   "source": [
    "sc.pl.umap(adata_all_13, color=['assigned_cats', 'leiden', 'cats_hypoxia'], cmap=magma, use_raw=False)"
   ]
  },
  {
   "cell_type": "code",
   "execution_count": null,
   "id": "ambient-solid",
   "metadata": {
    "scrolled": true
   },
   "outputs": [],
   "source": [
    "sc.tl.rank_genes_groups(adata_all_13, groupby='cats_hypoxia', method='wilcoxon')\n",
    "sc.pl.rank_genes_groups_tracksplot(adata_all_13, dendrogram=False, use_raw=False, n_genes=150)"
   ]
  },
  {
   "cell_type": "code",
   "execution_count": null,
   "id": "proper-formation",
   "metadata": {
    "scrolled": true
   },
   "outputs": [],
   "source": [
    "DEGs_hypoxia =  list(adata_all_13.uns['rank_genes_groups']['names']['Hypoxia'][:150])\n",
    "DEGs_hypoxia = np.array([i for i in DEGs_hypoxia if (i[:2] != 'RP') & (i[:3] != 'MT-')])\n",
    "\n",
    "DEGs_normoxia =  list(adata_all_13.uns['rank_genes_groups']['names']['Normoxia'][:150])\n",
    "DEGs_normoxia = np.array([i for i in DEGs_normoxia if (i[:2] != 'RP') & (i[:3] != 'MT-')])"
   ]
  },
  {
   "cell_type": "code",
   "execution_count": null,
   "id": "loving-laugh",
   "metadata": {},
   "outputs": [],
   "source": [
    "DEGs_hypoxia.sort()\n",
    "DEGs_hypoxia"
   ]
  },
  {
   "cell_type": "code",
   "execution_count": null,
   "id": "respiratory-bulgaria",
   "metadata": {},
   "outputs": [],
   "source": [
    "DEGs_normoxia.sort()\n",
    "DEGs_normoxia"
   ]
  },
  {
   "cell_type": "code",
   "execution_count": null,
   "id": "cooked-washer",
   "metadata": {},
   "outputs": [],
   "source": [
    "enr_hypoxia = gp.enrichr(gene_list=list(DEGs_hypoxia),\n",
    "                    gene_sets=['GO_Biological_Process_2018'],\n",
    "                 organism='Human', # don't forget to set organism to the one you desired! e.g. Yeast\n",
    "                 description='test_name',\n",
    "                 cutoff=0.5 # test dataset, use lower value from range(0,1)\n",
    "                )"
   ]
  },
  {
   "cell_type": "code",
   "execution_count": null,
   "id": "instrumental-carol",
   "metadata": {},
   "outputs": [],
   "source": [
    "enr_hypoxia.results.sort_values(by='Adjusted P-value').iloc[:15][selected_enr_cols]"
   ]
  },
  {
   "cell_type": "code",
   "execution_count": null,
   "id": "gentle-myrtle",
   "metadata": {},
   "outputs": [],
   "source": [
    "enr_normoxia = gp.enrichr(gene_list=list(DEGs_normoxia),\n",
    "                    gene_sets=['GO_Biological_Process_2018'],\n",
    "                 organism='Human', # don't forget to set organism to the one you desired! e.g. Yeast\n",
    "                 description='test_name',\n",
    "                 cutoff=0.5 # test dataset, use lower value from range(0,1)\n",
    "                )"
   ]
  },
  {
   "cell_type": "code",
   "execution_count": null,
   "id": "hidden-branch",
   "metadata": {},
   "outputs": [],
   "source": [
    "enr_normoxia.results.sort_values(by='Adjusted P-value').iloc[:15][selected_enr_cols]"
   ]
  },
  {
   "cell_type": "markdown",
   "id": "comfortable-representation",
   "metadata": {},
   "source": [
    "We confirm that the cell set with genes related to hypoxic conditions show a clear enrichment of glicolysis-related genes and hypoxia. It has been observed that cells in hypoxic conditions upregulate glicolysis to produce energy under hypoxic conditions. Therefore, these cell will underexpress genes related to energy production with oxygen, such as the NDUFA proteins, subunits of the mitochondrial complex III; PSMAs, which are involved in general metabolism; or the ATPase subunits.\n",
    "\n",
    "Interestingly, normoxic cells overexpress *HIF1A*. Maybe it is an underexpression of *HIF1A* because hypoxic cells are already under hypoxia, and normoxic cells are starting to express it to signal hypoxic conditions?"
   ]
  },
  {
   "cell_type": "code",
   "execution_count": null,
   "id": "funded-constraint",
   "metadata": {},
   "outputs": [],
   "source": [
    "sc.pl.umap(adata_all_13, color=['leiden', 'VEGFA', 'HIF1A', 'ATR'] , cmap=magma, use_raw=False)"
   ]
  },
  {
   "cell_type": "markdown",
   "id": "nearby-solid",
   "metadata": {},
   "source": [
    "### Mapping hypoxia-related genes to populations\n",
    "In this section we are going to use a set of genes from the following references:\n",
    "* HALLMARK_HYPOXIA, and HALLMARK_GLICOLYSIS gene lists from GSEA. The use of these lists are supported by different references ([Evers et al. (2019)](https://doi.org/10.1021/acs.analchem.9b02410), \n",
    "[Xiao et al. (2019)](https://doi.org/10.1038/s41467-019-11738-0), \n",
    "[Mohyeldin et al. (2010)](https://doi.org/10.1016/j.stem.2010.07.007), \n",
    "[Simon et al. (2008)](https://doi.org/10.1038/nrm2354))\n",
    "* [Wu et al. (2021)](https://doi.org/10.7554/eLife.63003) \n",
    "* [Guo et al. (2020)](https://doi.org/10.3389/fcell.2021.624711) Supplementary File 1\n",
    "\n",
    "These tables include genes overexpressed in different tissues (kidney, tumours, etc.) and hot (37 ºC) and cold conditions. Most of the authors assess that these conditions are not tissue-specific and appear, overall, in all samples with a certain degree of processing. Therefore, we are going to use these gene lists and map their genes to the dataset to see how apparent the gene expression patterns are. "
   ]
  },
  {
   "cell_type": "code",
   "execution_count": null,
   "id": "whole-sender",
   "metadata": {},
   "outputs": [],
   "source": [
    "gene_list_GSEA_hallmark_hypoxia = np.loadtxt('papers_genes_bad_quality/GSEA_hallmark_hypoxia.txt', dtype=str)\n",
    "gene_list_GSEA_hallmark_glicolysis = np.loadtxt('papers_genes_bad_quality/GSEA_hallmark_glicolysis.txt', dtype=str)"
   ]
  },
  {
   "cell_type": "code",
   "execution_count": null,
   "id": "controlling-likelihood",
   "metadata": {},
   "outputs": [],
   "source": [
    "gene_list_guo_2021 = np.loadtxt('papers_genes_bad_quality/guo_2021_brain_hypoxia.txt', dtype=str)"
   ]
  },
  {
   "cell_type": "code",
   "execution_count": null,
   "id": "written-shield",
   "metadata": {},
   "outputs": [],
   "source": [
    "gene_list_wu_2021_bulk = np.loadtxt('papers_genes_bad_quality/wu_2021_lung_hypoxia_bulk.txt', dtype=str)\n",
    "gene_list_wu_2021_endo = np.loadtxt('papers_genes_bad_quality/wu_2021_lung_hypoxia_bulk.txt', dtype=str)"
   ]
  },
  {
   "cell_type": "code",
   "execution_count": null,
   "id": "boxed-parks",
   "metadata": {},
   "outputs": [],
   "source": [
    "gene_list_ferreira_2018_s1_all = np.loadtxt('papers_genes_bad_quality/ferreira_2018_s1_all.txt', dtype=str)\n",
    "gene_list_ferreira_2018_s1_filtered = np.loadtxt('papers_genes_bad_quality/ferreira_2018_s1_filtered.txt', dtype=str)\n",
    "gene_list_ferreira_2018_s2_blood = np.loadtxt('papers_genes_bad_quality/ferreira_2018_s2_blood.txt', dtype=str)"
   ]
  },
  {
   "cell_type": "code",
   "execution_count": null,
   "id": "promising-omega",
   "metadata": {},
   "outputs": [],
   "source": [
    "manual_list_hypoxia_genes = ['ADM', 'ANGPTL4', 'ANKRD37', 'ARID5B', 'ARRDC3', 'BHLHE40', 'BNIP3', 'BNIP3L', 'C4orf3', 'CD44', 'CLN8', \n",
    "'COPS2', 'DDIT3', 'DDIT4', 'DHRS3', 'EHD2', 'EIF4A2', 'ENO1', 'ENO2', 'ERO1A', 'FAM162A', 'FGF11', 'FGFR1', 'FNBP1', \n",
    "'GBE1', 'GPI', 'HIF1A-AS2', 'HILPDA', 'HK2', 'INSIG2', 'LDHA', 'LOXL2', 'NDRG1', 'NGLY1', 'NRN1', 'P4HA1', 'PDE2A', \n",
    "'PGK1', 'PLIN2', 'PLOD2', 'PLP2', 'RBPJ', 'SERPINE1', 'SLC2A1', 'SLC2A3', 'SNHG12', 'SNHG7', 'SYNPO', 'TAF1D', 'TNFAIP8', \n",
    "'TNIP1', 'TPI1', 'VEGFA', 'ZFAS1', 'ZNF267', 'ZNF395', ]"
   ]
  },
  {
   "cell_type": "code",
   "execution_count": null,
   "id": "crude-colors",
   "metadata": {},
   "outputs": [],
   "source": [
    "hypoxia_genes = np.concatenate((gene_list_GSEA_hallmark_hypoxia, gene_list_GSEA_hallmark_glicolysis\n",
    "                                , gene_list_guo_2021, gene_list_wu_2021_bulk, \n",
    "                                gene_list_wu_2021_endo, gene_list_ferreira_2018_s1_all, gene_list_ferreira_2018_s1_filtered, \n",
    "                                gene_list_ferreira_2018_s2_blood))\n",
    "hypoxia_genes, hypoxia_counts = np.unique(hypoxia_genes, return_counts=True)\n",
    "hypoxia_genes_good = np.array(sorted(list(set(hypoxia_genes[hypoxia_counts > 2]) | set(manual_list_hypoxia_genes))))\n",
    "hypoxia_genes_good"
   ]
  },
  {
   "cell_type": "code",
   "execution_count": null,
   "id": "likely-milton",
   "metadata": {},
   "outputs": [],
   "source": [
    "np.savetxt('papers_genes_bad_quality/hypoxia_genes.txt', hypoxia_genes_good, fmt='%s')"
   ]
  },
  {
   "cell_type": "code",
   "execution_count": null,
   "id": "lightweight-motorcycle",
   "metadata": {},
   "outputs": [],
   "source": [
    "dict_cats = {'Stress': hot_genes_good, 'Hypoxia': hypoxia_genes_good,}"
   ]
  },
  {
   "cell_type": "code",
   "execution_count": null,
   "id": "complimentary-premium",
   "metadata": {},
   "outputs": [],
   "source": [
    "sc.tl.leiden(adata_all_123, resolution=1.7)\n",
    "assign_cats(adata_all_123, dict_cats=dict_cats, column_groupby='leiden', intermediate_states=False, min_score=0.5,\n",
    "            key_added='hypoxia_stress', others_name='Normal')\n",
    "sc.pl.umap(adata_all_123, color=['hypoxia_stress', 'assigned_cats'], \n",
    "           cmap=magma, use_raw=False)"
   ]
  },
  {
   "cell_type": "code",
   "execution_count": null,
   "id": "beautiful-fleece",
   "metadata": {},
   "outputs": [],
   "source": [
    "sc.pl.umap(adata_all_123, color=['leiden', 'hypoxia_stress', 'assigned_cats', 'hypoxia_stress_Stress', 'hypoxia_stress_Hypoxia'], \n",
    "           cmap=magma, use_raw=False, ncols=3, legend_loc='on data')"
   ]
  },
  {
   "cell_type": "code",
   "execution_count": null,
   "id": "fewer-tuition",
   "metadata": {},
   "outputs": [],
   "source": []
  }
 ],
 "metadata": {
  "kernelspec": {
   "display_name": "Python [conda env:alex-base] *",
   "language": "python",
   "name": "conda-env-alex-base-py"
  },
  "language_info": {
   "codemirror_mode": {
    "name": "ipython",
    "version": 3
   },
   "file_extension": ".py",
   "mimetype": "text/x-python",
   "name": "python",
   "nbconvert_exporter": "python",
   "pygments_lexer": "ipython3",
   "version": "3.8.0"
  }
 },
 "nbformat": 4,
 "nbformat_minor": 5
}
