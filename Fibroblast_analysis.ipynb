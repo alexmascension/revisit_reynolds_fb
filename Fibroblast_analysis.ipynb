{
 "cells": [
  {
   "cell_type": "code",
   "execution_count": null,
   "id": "bound-temperature",
   "metadata": {},
   "outputs": [],
   "source": [
    "# !wget https://raw.githubusercontent.com/alexmascension/revisit_reynolds_fb/master/requirements.txt\n",
    "# !pip install -r requirements.txt"
   ]
  },
  {
   "cell_type": "code",
   "execution_count": null,
   "id": "going-prior",
   "metadata": {},
   "outputs": [],
   "source": [
    "import scanpy as sc\n",
    "import scanpy.external as sce\n",
    "\n",
    "import pandas as pd\n",
    "import numpy as np\n",
    "\n",
    "import os\n",
    "\n",
    "import triku as tk\n",
    "\n",
    "import matplotlib.pyplot as plt\n",
    "import matplotlib as mpl\n",
    "\n",
    "from functools import reduce"
   ]
  },
  {
   "cell_type": "code",
   "execution_count": null,
   "id": "short-limit",
   "metadata": {},
   "outputs": [],
   "source": [
    "# To print versions of imports \n",
    "\n",
    "import types\n",
    "\n",
    "def imports():\n",
    "    for name, val in globals().items():\n",
    "        if isinstance(val, types.ModuleType):\n",
    "            yield val.__name__\n",
    "\n",
    "excludes = ['builtins', 'types', 'sys']\n",
    "\n",
    "imported_modules = [module for module in imports() if module not in excludes]\n",
    "\n",
    "clean_modules = []\n",
    "\n",
    "for module in imported_modules:\n",
    "\n",
    "    sep = '.'  # to handle 'matplotlib.pyplot' cases\n",
    "    rest = module.split(sep, 1)[0]\n",
    "    clean_modules.append(rest)\n",
    "\n",
    "changed_imported_modules = list(set(clean_modules))  # drop duplicates\n",
    "\n",
    "pip_modules = !pip freeze  # you could also use `!conda list` with anaconda\n",
    "\n",
    "for module in pip_modules:\n",
    "    try:\n",
    "        name, version = module.split('==')\n",
    "        if name in changed_imported_modules:\n",
    "            print(name + '\\t' + version)\n",
    "    except:\n",
    "        pass"
   ]
  },
  {
   "cell_type": "code",
   "execution_count": null,
   "id": "deluxe-thomson",
   "metadata": {},
   "outputs": [],
   "source": [
    "seed = 0"
   ]
  },
  {
   "cell_type": "code",
   "execution_count": null,
   "id": "stone-character",
   "metadata": {},
   "outputs": [],
   "source": [
    "# Palettes for UMAP gene expression\n",
    "\n",
    "magma = [plt.get_cmap('magma')(i) for i in np.linspace(0,1, 80)]\n",
    "magma[0] = (0.88, 0.88, 0.88, 1)\n",
    "magma = mpl.colors.LinearSegmentedColormap.from_list(\"\", magma[:65])"
   ]
  },
  {
   "cell_type": "code",
   "execution_count": null,
   "id": "lined-backing",
   "metadata": {},
   "outputs": [],
   "source": [
    "mpl.rcParams['figure.dpi'] = 150"
   ]
  },
  {
   "cell_type": "code",
   "execution_count": null,
   "id": "injured-amplifier",
   "metadata": {},
   "outputs": [],
   "source": [
    "def assign_cats(adata, dict_cats, column_groupby='leiden', per=98, do_return=False):\n",
    "    \"\"\"\n",
    "    This functions uses a set of genes assigned to different categories so that leiden clusters can be assigned to one of these categories.\n",
    "    For example, to categorize fibroblasts from pericytes, endothelial cells, or cells with high mitochondrial content.\n",
    "    It could be done with each cell individually, but it is better to use clusters to discern the different categories because\n",
    "    the method, although efficient, can sometimes be noisy due to the noisiness of the sc datasets.\n",
    "    \"\"\"\n",
    "    \n",
    "    for cat in list(dict_cats.keys()):\n",
    "        mat_cat = np.zeros((len(adata), len(dict_cat[cat])), dtype=float)\n",
    "        \n",
    "        for gene_idx, gene in enumerate(dict_cat[cat]):\n",
    "            try:\n",
    "                mat_cat[:, gene_idx] = adata[:, gene].X.todense().ravel()\n",
    "                mat_cat[:, gene_idx] /= np.percentile(mat_cat[:, gene_idx][mat_cat[:, gene_idx] > 0], per)\n",
    "            except:\n",
    "                print(f'Gene {gene} is not on the list')            \n",
    "\n",
    "        sum_mat_cat = np.asarray(mat_cat.sum(1)).ravel()\n",
    "        sum_mat_cat /= np.percentile(sum_mat_cat[sum_mat_cat > 0], per, axis=0)\n",
    "\n",
    "        adata.obs[cat] = sum_mat_cat\n",
    "    \n",
    "    score_per_cluster = adata.obs[[column_groupby] + list(dict_cats.keys())].groupby(column_groupby).mean()\n",
    "    max_cat_dict = dict(zip(score_per_cluster.idxmax(axis=1).index, score_per_cluster.idxmax(axis=1).values))\n",
    "    adata.obs['assigned_cats'] = [max_cat_dict[i] for i in adata.obs[column_groupby]]\n",
    "    max_cat_dict_std = dict(zip(score_per_cluster.std(1).index, score_per_cluster.std(1).values))\n",
    "    adata.obs['assigned_cats_std'] = [max_cat_dict_std[i] for i in adata.obs[column_groupby]]\n",
    "    max_cat_dict_mean = dict(zip(score_per_cluster.mean(1).index, score_per_cluster.mean(1).values))\n",
    "    adata.obs['assigned_cats_mean'] = [max_cat_dict_mean[i] for i in adata.obs[column_groupby]]\n",
    "    adata.obs['assigned_cats_CV'] = adata.obs['assigned_cats_mean'] / adata.obs['assigned_cats_std']\n",
    "    \n",
    "    for cat in score_per_cluster.columns:\n",
    "        max_cat_dict = dict(zip(score_per_cluster.index, score_per_cluster[cat].values))\n",
    "        adata.obs[f'score_assign_{cat}'] = [max_cat_dict[i] for i in adata.obs[column_groupby]]\n",
    "    \n",
    "    if do_return:\n",
    "        return score_per_cluster"
   ]
  },
  {
   "cell_type": "markdown",
   "id": "intimate-agriculture",
   "metadata": {},
   "source": [
    "# Reynolds et al. 2020 dataset download and preprocess\n",
    "In this section we are going to download and process the anndata files for the 5 healthy samples (S1 to S5). We are first going to use the processed files from Reynolds et al., because they contain the main fb populations, which we are interested in (FB1-3). With that, we can partially replicate the analysis. However, the data richness is not that good (the UMAPs are more *blooby*) so we preprocess the FASTQ files on our own, and used the processed adatas.\n",
    "\n",
    "Once we have our own anndatas, the preprocessing is the following:\n",
    "* Assign FB types based on Reynolds adatas to our adatas. Some cells will be unassigned.\n",
    "* QC metrics \n",
    "* Filter genes (min counts = 30)\n",
    "* Set raw X\n",
    "* Normalize and log1p\n",
    "* PCA + triku + neighbors + umap + leiden\n",
    "* Use  `assign_cats` to assign leiden clusters to cell populations with selected markers (markers for each dataset may vary!)\n",
    "* Filter adata to retain only fibroblasts\n",
    "* Filter genes to remove 0 counts\n",
    "* PCA + triku + neighbors + umap + leiden [leiden is not used here but may be used later]\n",
    "* Check if strange populations appear and filter them in `assign_cats`, then repeat the last steps."
   ]
  },
  {
   "cell_type": "code",
   "execution_count": null,
   "id": "existing-anthony",
   "metadata": {},
   "outputs": [],
   "source": [
    "os.getcwd()"
   ]
  },
  {
   "cell_type": "code",
   "execution_count": null,
   "id": "voluntary-tanzania",
   "metadata": {},
   "outputs": [],
   "source": [
    "reynolds_dir = 'reynolds_2020'\n",
    "os.makedirs(reynolds_dir, exist_ok=True)"
   ]
  },
  {
   "cell_type": "markdown",
   "id": "sexual-registrar",
   "metadata": {},
   "source": [
    "### Making and saving the fb healthy dataset to zenodo"
   ]
  },
  {
   "cell_type": "code",
   "execution_count": null,
   "id": "annoying-audit",
   "metadata": {},
   "outputs": [],
   "source": [
    "# adata_reynolds = sc.read('submission_210120.h5ad', backup_url='https://zenodo.org/record/4536165/files/submission_210120.h5ad')\n",
    "# adata_reynolds_fb = adata_reynolds[(adata_reynolds.obs['full_clustering'].isin(['F1', 'F2', 'F3'])) & \n",
    "#                                    (adata_reynolds.obs['Status'] == 'Healthy')]\n",
    "# sc.pp.filter_genes(adata_reynolds_fb, min_counts=100)\n",
    "# del adata_reynolds_fb.var\n",
    "\n",
    "# for obs in ['mad_prd', 'Status', 'Site', 'Tissue', 'Enrichment', 'Location', 'Sex', 'Age', 'stage']:\n",
    "#     del adata_reynolds_fb.obs[obs]\n",
    "    \n",
    "# adata_reynolds_fb.write_h5ad(reynolds_dir + '/reynolds_2020_fb_healthy.h5ad')"
   ]
  },
  {
   "cell_type": "markdown",
   "id": "damaged-mobility",
   "metadata": {},
   "source": [
    "### Direct h5ad download"
   ]
  },
  {
   "cell_type": "code",
   "execution_count": null,
   "id": "thermal-prison",
   "metadata": {},
   "outputs": [],
   "source": [
    "adata_reynolds_fb_healthy = sc.read(reynolds_dir + '/reynolds_2020_fb_healthy.h5ad', \n",
    "                                    backup_url='https://zenodo.org/record/4605340/files/reynolds_2020_fb_healthy.h5ad?download=1')"
   ]
  },
  {
   "cell_type": "code",
   "execution_count": null,
   "id": "incident-recorder",
   "metadata": {},
   "outputs": [],
   "source": [
    "sc.pp.filter_genes(adata_reynolds_fb_healthy, min_counts=50)"
   ]
  },
  {
   "cell_type": "code",
   "execution_count": null,
   "id": "physical-aberdeen",
   "metadata": {},
   "outputs": [],
   "source": [
    "sc.pp.log1p(adata_reynolds_fb_healthy)\n",
    "sc.pp.normalize_total(adata_reynolds_fb_healthy)"
   ]
  },
  {
   "cell_type": "code",
   "execution_count": null,
   "id": "existing-timothy",
   "metadata": {},
   "outputs": [],
   "source": [
    "df_batches = pd.DataFrame(np.unique(adata_reynolds_fb_healthy.obs['sample_id'], return_counts=True)).transpose()"
   ]
  },
  {
   "cell_type": "code",
   "execution_count": null,
   "id": "amateur-learning",
   "metadata": {},
   "outputs": [],
   "source": [
    "df_batches.sort_values(by=1, ascending=False)"
   ]
  },
  {
   "cell_type": "code",
   "execution_count": null,
   "id": "catholic-lighting",
   "metadata": {},
   "outputs": [],
   "source": [
    "selected_samples = df_batches[df_batches[1] > 50][0].values"
   ]
  },
  {
   "cell_type": "code",
   "execution_count": null,
   "id": "reflected-anaheim",
   "metadata": {},
   "outputs": [],
   "source": [
    "adata_reynolds_fb_healthy = adata_reynolds_fb_healthy[adata_reynolds_fb_healthy.obs['sample_id'].isin(selected_samples)]  #selected_samples)]"
   ]
  },
  {
   "cell_type": "code",
   "execution_count": null,
   "id": "restricted-appreciation",
   "metadata": {},
   "outputs": [],
   "source": [
    "adata_reynolds_fb_healthy"
   ]
  },
  {
   "cell_type": "code",
   "execution_count": null,
   "id": "corporate-alignment",
   "metadata": {},
   "outputs": [],
   "source": [
    "sc.pp.filter_genes(adata_reynolds_fb_healthy, min_counts=1)"
   ]
  },
  {
   "cell_type": "code",
   "execution_count": null,
   "id": "posted-bikini",
   "metadata": {},
   "outputs": [],
   "source": [
    "sc.pp.pca(adata_reynolds_fb_healthy, random_state=seed, n_comps=30)\n",
    "sce.pp.bbknn(adata_reynolds_fb_healthy, metric='angular', batch_key='sample_id')\n",
    "tk.tl.triku(adata_reynolds_fb_healthy, n_procs=1, random_state=seed, use_adata_knn=True)"
   ]
  },
  {
   "cell_type": "code",
   "execution_count": null,
   "id": "tight-increase",
   "metadata": {},
   "outputs": [],
   "source": [
    "sc.tl.umap(adata_reynolds_fb_healthy, min_dist=0.1, random_state=seed)"
   ]
  },
  {
   "cell_type": "code",
   "execution_count": null,
   "id": "resident-transformation",
   "metadata": {},
   "outputs": [],
   "source": [
    "sc.tl.leiden(adata_reynolds_fb_healthy, resolution=1.5, random_state=seed)"
   ]
  },
  {
   "cell_type": "code",
   "execution_count": null,
   "id": "framed-strain",
   "metadata": {},
   "outputs": [],
   "source": [
    "sc.pl.umap(adata_reynolds_fb_healthy, color=['leiden', 'sample_id', 'full_clustering'], legend_loc='on data')"
   ]
  },
  {
   "cell_type": "code",
   "execution_count": null,
   "id": "elegant-torture",
   "metadata": {},
   "outputs": [],
   "source": [
    "sc.pl.umap(adata_reynolds_fb_healthy, color=['APCDD1', 'COL18A1', 'COMP', 'SLPI', 'WIF1'], cmap=magma, use_raw=False)"
   ]
  },
  {
   "cell_type": "code",
   "execution_count": null,
   "id": "considerable-broadcast",
   "metadata": {},
   "outputs": [],
   "source": [
    "sc.pl.umap(adata_reynolds_fb_healthy, color=['MT2A', 'CCL19', 'CCL2', 'CD46'], cmap=magma, use_raw=False)"
   ]
  },
  {
   "cell_type": "code",
   "execution_count": null,
   "id": "interim-reduction",
   "metadata": {},
   "outputs": [],
   "source": [
    "sc.pl.umap(adata_reynolds_fb_healthy, color=['POSTN', 'COMP', 'COCH'], cmap=magma, use_raw=False)"
   ]
  },
  {
   "cell_type": "markdown",
   "id": "legendary-macro",
   "metadata": {},
   "source": [
    "## 4820STDY7388991 (S1)"
   ]
  },
  {
   "cell_type": "markdown",
   "id": "adequate-heather",
   "metadata": {},
   "source": [
    "### Reynolds preprocessed"
   ]
  },
  {
   "cell_type": "code",
   "execution_count": null,
   "id": "occasional-express",
   "metadata": {},
   "outputs": [],
   "source": [
    "adata_reynolds_fb_4820STDY7388991 = adata_reynolds_fb_healthy[adata_reynolds_fb_healthy.obs['sample_id'].isin(['4820STDY7388991'])]  #selected_samples)]"
   ]
  },
  {
   "cell_type": "code",
   "execution_count": null,
   "id": "southern-optimization",
   "metadata": {},
   "outputs": [],
   "source": [
    "adata_reynolds_fb_4820STDY7388991"
   ]
  },
  {
   "cell_type": "code",
   "execution_count": null,
   "id": "derived-credit",
   "metadata": {},
   "outputs": [],
   "source": [
    "sc.pp.filter_genes(adata_reynolds_fb_4820STDY7388991, min_counts=1)"
   ]
  },
  {
   "cell_type": "code",
   "execution_count": null,
   "id": "parallel-insertion",
   "metadata": {},
   "outputs": [],
   "source": [
    "sc.pp.pca(adata_reynolds_fb_4820STDY7388991, random_state=seed, n_comps=30)\n",
    "tk.tl.triku(adata_reynolds_fb_4820STDY7388991, n_procs=1, random_state=seed, use_adata_knn=True)\n",
    "sc.pp.neighbors(adata_reynolds_fb_4820STDY7388991, metric='cosine')"
   ]
  },
  {
   "cell_type": "code",
   "execution_count": null,
   "id": "rational-rental",
   "metadata": {},
   "outputs": [],
   "source": [
    "sc.tl.umap(adata_reynolds_fb_4820STDY7388991, min_dist=0.3, random_state=seed)"
   ]
  },
  {
   "cell_type": "code",
   "execution_count": null,
   "id": "colonial-church",
   "metadata": {},
   "outputs": [],
   "source": [
    "sc.tl.leiden(adata_reynolds_fb_4820STDY7388991, resolution=1, random_state=seed)"
   ]
  },
  {
   "cell_type": "code",
   "execution_count": null,
   "id": "strange-bachelor",
   "metadata": {},
   "outputs": [],
   "source": [
    "sc.pl.umap(adata_reynolds_fb_4820STDY7388991, color=['leiden', 'sample_id', 'full_clustering'], legend_loc='on data')"
   ]
  },
  {
   "cell_type": "code",
   "execution_count": null,
   "id": "completed-immigration",
   "metadata": {},
   "outputs": [],
   "source": [
    "sc.pl.umap(adata_reynolds_fb_4820STDY7388991, color=['APCDD1', 'COL18A1', 'COMP', 'SLPI', 'WIF1'], cmap=magma, use_raw=False)"
   ]
  },
  {
   "cell_type": "code",
   "execution_count": null,
   "id": "trying-column",
   "metadata": {},
   "outputs": [],
   "source": [
    "sc.pl.umap(adata_reynolds_fb_4820STDY7388991, color=['MT2A', 'CCL19', 'CCL2', 'CD46'], cmap=magma, use_raw=False)"
   ]
  },
  {
   "cell_type": "code",
   "execution_count": null,
   "id": "brutal-animation",
   "metadata": {},
   "outputs": [],
   "source": [
    "sc.pl.umap(adata_reynolds_fb_4820STDY7388991, color=['POSTN', 'COMP', 'COCH'], cmap=magma, use_raw=False)"
   ]
  },
  {
   "cell_type": "markdown",
   "id": "rapid-rescue",
   "metadata": {},
   "source": [
    "### Direct loom"
   ]
  },
  {
   "cell_type": "code",
   "execution_count": null,
   "id": "funky-david",
   "metadata": {},
   "outputs": [],
   "source": [
    "adata_reynolds_fb_4820STDY7388991_loom = sc.read('reynolds_2020/reynolds_2020_0_4820STDY7388991_s1_dermis_fibroblasts.loom', \n",
    "                                                 backup_url='https://zenodo.org/record/4596375/files/reynolds_2020_0_4820STDY7388991_s1_dermis_fibroblasts.loom')\n",
    "adata_reynolds_fb_4820STDY7388991_loom.var_names_make_unique()"
   ]
  },
  {
   "cell_type": "code",
   "execution_count": null,
   "id": "spiritual-machine",
   "metadata": {},
   "outputs": [],
   "source": [
    "adata_reynolds_fb_4820STDY7388991_loom.obs_names = [f\"{i.split('_')[-1]}-1-{i.split('_')[1]}\" for i in adata_reynolds_fb_4820STDY7388991_loom.obs_names]"
   ]
  },
  {
   "cell_type": "code",
   "execution_count": null,
   "id": "opposed-victorian",
   "metadata": {},
   "outputs": [],
   "source": [
    "df_fb_type = pd.Series('-', index=adata_reynolds_fb_4820STDY7388991_loom.obs_names)\n",
    "df_fb_type.loc[adata_reynolds_fb_4820STDY7388991.obs_names & adata_reynolds_fb_4820STDY7388991_loom.obs_names] = adata_reynolds_fb_4820STDY7388991[adata_reynolds_fb_4820STDY7388991.obs_names & adata_reynolds_fb_4820STDY7388991_loom.obs_names].obs['full_clustering']\n",
    "adata_reynolds_fb_4820STDY7388991_loom.obs['science_clustering'] = df_fb_type"
   ]
  },
  {
   "cell_type": "code",
   "execution_count": null,
   "id": "hispanic-transfer",
   "metadata": {},
   "outputs": [],
   "source": [
    "sc.pp.calculate_qc_metrics(adata_reynolds_fb_4820STDY7388991_loom, inplace=True)"
   ]
  },
  {
   "cell_type": "code",
   "execution_count": null,
   "id": "reverse-estate",
   "metadata": {},
   "outputs": [],
   "source": [
    "sc.pl.violin(adata_reynolds_fb_4820STDY7388991_loom, ['n_genes_by_counts'])\n",
    "sc.pl.violin(adata_reynolds_fb_4820STDY7388991_loom, ['log1p_total_counts'])"
   ]
  },
  {
   "cell_type": "code",
   "execution_count": null,
   "id": "referenced-protest",
   "metadata": {},
   "outputs": [],
   "source": [
    "sc.pp.filter_genes(adata_reynolds_fb_4820STDY7388991_loom, min_counts=30)\n",
    "adata_reynolds_fb_4820STDY7388991_loom.raw = adata_reynolds_fb_4820STDY7388991_loom"
   ]
  },
  {
   "cell_type": "code",
   "execution_count": null,
   "id": "herbal-lindsay",
   "metadata": {},
   "outputs": [],
   "source": [
    "sc.pp.normalize_per_cell(adata_reynolds_fb_4820STDY7388991_loom)\n",
    "sc.pp.log1p(adata_reynolds_fb_4820STDY7388991_loom)"
   ]
  },
  {
   "cell_type": "code",
   "execution_count": null,
   "id": "aquatic-miracle",
   "metadata": {},
   "outputs": [],
   "source": [
    "sc.pp.pca(adata_reynolds_fb_4820STDY7388991_loom, random_state=seed, n_comps=30)\n",
    "tk.tl.triku(adata_reynolds_fb_4820STDY7388991_loom, n_procs=1, random_state=seed, use_adata_knn=True)\n",
    "sc.pp.neighbors(adata_reynolds_fb_4820STDY7388991_loom, metric='cosine')"
   ]
  },
  {
   "cell_type": "code",
   "execution_count": null,
   "id": "several-transport",
   "metadata": {},
   "outputs": [],
   "source": [
    "sc.tl.umap(adata_reynolds_fb_4820STDY7388991_loom, min_dist=0.3, random_state=seed)\n",
    "sc.tl.leiden(adata_reynolds_fb_4820STDY7388991_loom, resolution=3.2, random_state=seed)"
   ]
  },
  {
   "cell_type": "code",
   "execution_count": null,
   "id": "rolled-feedback",
   "metadata": {},
   "outputs": [],
   "source": [
    "sc.pl.umap(adata_reynolds_fb_4820STDY7388991_loom, color=['leiden', 'science_clustering'], legend_loc='on data')"
   ]
  },
  {
   "cell_type": "code",
   "execution_count": null,
   "id": "involved-boring",
   "metadata": {},
   "outputs": [],
   "source": [
    "sc.pl.umap(adata_reynolds_fb_4820STDY7388991_loom, color=['LUM', 'PDGFRA', 'VIM', 'DCN', 'COL1A1', 'SFRP2', 'APOE', 'POSTN'], legend_loc='on data', cmap=magma)"
   ]
  },
  {
   "cell_type": "code",
   "execution_count": null,
   "id": "compound-brush",
   "metadata": {},
   "outputs": [],
   "source": [
    "sc.tl.rank_genes_groups(adata_reynolds_fb_4820STDY7388991_loom, groupby='leiden')\n",
    "sc.pl.rank_genes_groups(adata_reynolds_fb_4820STDY7388991_loom)"
   ]
  },
  {
   "cell_type": "code",
   "execution_count": null,
   "id": "employed-lighting",
   "metadata": {},
   "outputs": [],
   "source": [
    "dict_cat = {'fb': ['LUM', 'PDGFRA', 'COL1A1'], 'peri': ['RGS5', 'MYL9', 'NDUFA4L2'], 'eritro': ['HBB', 'HBA2', 'HBA1'], \n",
    "            'immune': ['TPSB2', 'TPSAB1', 'HLA-DRA', 'FCER1G', 'CD74'], 'melanocyte': ['PMEL', 'MLANA'], \n",
    "            'mt': ['MTND2P28', 'MTND4P12', 'MTCO1P40', 'ADAM33', 'RN7SL2', 'MTRNR2L6']}\n",
    "\n",
    "assign_cats(adata_reynolds_fb_4820STDY7388991_loom, dict_cat)"
   ]
  },
  {
   "cell_type": "code",
   "execution_count": null,
   "id": "actual-gibraltar",
   "metadata": {},
   "outputs": [],
   "source": [
    "sc.pl.umap(adata_reynolds_fb_4820STDY7388991_loom, color=['leiden', 'science_clustering', 'assigned_cats'], legend_loc='on data', cmap=magma)"
   ]
  },
  {
   "cell_type": "code",
   "execution_count": null,
   "id": "unauthorized-nashville",
   "metadata": {},
   "outputs": [],
   "source": [
    "adata_reynolds_fb_4820STDY7388991_loom_fb = adata_reynolds_fb_4820STDY7388991_loom[adata_reynolds_fb_4820STDY7388991_loom.obs['assigned_cats'] == 'fb']"
   ]
  },
  {
   "cell_type": "code",
   "execution_count": null,
   "id": "overhead-phenomenon",
   "metadata": {},
   "outputs": [],
   "source": [
    "sc.pp.filter_genes(adata_reynolds_fb_4820STDY7388991_loom_fb, min_counts=1)"
   ]
  },
  {
   "cell_type": "code",
   "execution_count": null,
   "id": "contrary-young",
   "metadata": {},
   "outputs": [],
   "source": [
    "sc.pp.pca(adata_reynolds_fb_4820STDY7388991_loom_fb, random_state=seed, n_comps=30)\n",
    "tk.tl.triku(adata_reynolds_fb_4820STDY7388991_loom_fb, n_procs=1, random_state=seed, use_adata_knn=True)\n",
    "sc.pp.neighbors(adata_reynolds_fb_4820STDY7388991_loom_fb, metric='cosine')"
   ]
  },
  {
   "cell_type": "code",
   "execution_count": null,
   "id": "turkish-murder",
   "metadata": {},
   "outputs": [],
   "source": [
    "sc.tl.umap(adata_reynolds_fb_4820STDY7388991_loom_fb, min_dist=0.2, random_state=seed)\n",
    "sc.tl.leiden(adata_reynolds_fb_4820STDY7388991_loom_fb, resolution=1, random_state=seed)"
   ]
  },
  {
   "cell_type": "code",
   "execution_count": null,
   "id": "nervous-mixer",
   "metadata": {},
   "outputs": [],
   "source": [
    "sc.pl.umap(adata_reynolds_fb_4820STDY7388991_loom_fb, color=['leiden', 'science_clustering'], cmap=magma, use_raw=False, legend_loc='on data')"
   ]
  },
  {
   "cell_type": "code",
   "execution_count": null,
   "id": "pressing-fundamentals",
   "metadata": {},
   "outputs": [],
   "source": [
    "sc.pl.umap(adata_reynolds_fb_4820STDY7388991_loom_fb, color=['leiden', 'SFRP2', 'PI16', 'SLPI', 'WIF1', 'COL18A1', 'COMP', \n",
    "                                               'APOE', 'CCL2',  'ITM2A', 'SPSB1', \n",
    "                                               'CCDC146', 'CCL19', 'CD74', \n",
    "                                               'DKK3', 'TNN', 'SFRP1', 'POSTN'], cmap=magma, use_raw=False, legend_loc='on data')"
   ]
  },
  {
   "cell_type": "markdown",
   "id": "temporal-excuse",
   "metadata": {},
   "source": [
    "## 4820STDY7388999 (S2)"
   ]
  },
  {
   "cell_type": "markdown",
   "id": "taken-reducing",
   "metadata": {},
   "source": [
    "### Reynolds preprocessed"
   ]
  },
  {
   "cell_type": "code",
   "execution_count": null,
   "id": "latest-surgery",
   "metadata": {},
   "outputs": [],
   "source": [
    "adata_reynolds_fb_4820STDY7388999 = adata_reynolds_fb_healthy[adata_reynolds_fb_healthy.obs['sample_id'].isin(['4820STDY7388999'])]  #selected_samples)]"
   ]
  },
  {
   "cell_type": "code",
   "execution_count": null,
   "id": "attractive-session",
   "metadata": {},
   "outputs": [],
   "source": [
    "adata_reynolds_fb_4820STDY7388999"
   ]
  },
  {
   "cell_type": "code",
   "execution_count": null,
   "id": "unavailable-advancement",
   "metadata": {},
   "outputs": [],
   "source": [
    "sc.pp.filter_genes(adata_reynolds_fb_4820STDY7388999, min_counts=1)"
   ]
  },
  {
   "cell_type": "code",
   "execution_count": null,
   "id": "radio-lyric",
   "metadata": {},
   "outputs": [],
   "source": [
    "sc.pp.pca(adata_reynolds_fb_4820STDY7388999, random_state=seed, n_comps=30)\n",
    "tk.tl.triku(adata_reynolds_fb_4820STDY7388999, n_procs=1, random_state=seed, use_adata_knn=True)\n",
    "sc.pp.neighbors(adata_reynolds_fb_4820STDY7388999, metric='cosine')"
   ]
  },
  {
   "cell_type": "code",
   "execution_count": null,
   "id": "harmful-material",
   "metadata": {},
   "outputs": [],
   "source": [
    "sc.tl.umap(adata_reynolds_fb_4820STDY7388999, min_dist=0.3, random_state=seed)"
   ]
  },
  {
   "cell_type": "code",
   "execution_count": null,
   "id": "pursuant-jimmy",
   "metadata": {},
   "outputs": [],
   "source": [
    "sc.tl.leiden(adata_reynolds_fb_4820STDY7388999, resolution=1, random_state=seed)"
   ]
  },
  {
   "cell_type": "code",
   "execution_count": null,
   "id": "national-restriction",
   "metadata": {},
   "outputs": [],
   "source": [
    "sc.pl.umap(adata_reynolds_fb_4820STDY7388999, color=['leiden', 'sample_id', 'full_clustering'], legend_loc='on data')"
   ]
  },
  {
   "cell_type": "code",
   "execution_count": null,
   "id": "contrary-teddy",
   "metadata": {},
   "outputs": [],
   "source": [
    "sc.pl.umap(adata_reynolds_fb_4820STDY7388999, color=['APCDD1', 'COL18A1', 'COMP', 'SLPI', 'WIF1'], cmap=magma, use_raw=False)"
   ]
  },
  {
   "cell_type": "code",
   "execution_count": null,
   "id": "dutch-diving",
   "metadata": {},
   "outputs": [],
   "source": [
    "sc.pl.umap(adata_reynolds_fb_4820STDY7388999, color=['MT2A', 'CCL19', 'CCL2', 'CD46'], cmap=magma, use_raw=False)"
   ]
  },
  {
   "cell_type": "code",
   "execution_count": null,
   "id": "given-indonesia",
   "metadata": {},
   "outputs": [],
   "source": [
    "sc.pl.umap(adata_reynolds_fb_4820STDY7388999, color=['POSTN', 'COMP', 'COCH'], cmap=magma, use_raw=False)"
   ]
  },
  {
   "cell_type": "markdown",
   "id": "productive-advertising",
   "metadata": {},
   "source": [
    "### Direct loom"
   ]
  },
  {
   "cell_type": "code",
   "execution_count": null,
   "id": "nuclear-robertson",
   "metadata": {},
   "outputs": [],
   "source": [
    "adata_reynolds_fb_4820STDY7388999_loom = sc.read('reynolds_2020/reynolds_2020_8_4820STDY7388999_s2_dermis_fibroblasts.loom', \n",
    "                                                 backup_url='https://zenodo.org/record/4596375/files/reynolds_2020_8_4820STDY7388999_s2_dermis_fibroblasts.loom')\n",
    "\n",
    "adata_reynolds_fb_4820STDY7388999_loom.var_names_make_unique()"
   ]
  },
  {
   "cell_type": "code",
   "execution_count": null,
   "id": "empty-heavy",
   "metadata": {},
   "outputs": [],
   "source": [
    "adata_reynolds_fb_4820STDY7388999_loom.obs_names = [f\"{i.split('_')[-1]}-1-{i.split('_')[1]}\" for i in adata_reynolds_fb_4820STDY7388999_loom.obs_names]"
   ]
  },
  {
   "cell_type": "code",
   "execution_count": null,
   "id": "clear-mixture",
   "metadata": {},
   "outputs": [],
   "source": [
    "df_fb_type = pd.Series('Other', index=adata_reynolds_fb_4820STDY7388999_loom.obs_names)\n",
    "df_fb_type.loc[adata_reynolds_fb_4820STDY7388999.obs_names & adata_reynolds_fb_4820STDY7388999_loom.obs_names] = adata_reynolds_fb_4820STDY7388999[adata_reynolds_fb_4820STDY7388999.obs_names & adata_reynolds_fb_4820STDY7388999_loom.obs_names].obs['full_clustering']\n",
    "adata_reynolds_fb_4820STDY7388999_loom.obs['science_clustering'] = df_fb_type"
   ]
  },
  {
   "cell_type": "code",
   "execution_count": null,
   "id": "directed-behavior",
   "metadata": {},
   "outputs": [],
   "source": [
    "sc.pp.calculate_qc_metrics(adata_reynolds_fb_4820STDY7388999_loom, inplace=True)"
   ]
  },
  {
   "cell_type": "code",
   "execution_count": null,
   "id": "impaired-exhibit",
   "metadata": {},
   "outputs": [],
   "source": [
    "sc.pl.violin(adata_reynolds_fb_4820STDY7388999_loom, ['n_genes_by_counts'])\n",
    "sc.pl.violin(adata_reynolds_fb_4820STDY7388999_loom, ['log1p_total_counts'])"
   ]
  },
  {
   "cell_type": "code",
   "execution_count": null,
   "id": "potential-discharge",
   "metadata": {},
   "outputs": [],
   "source": [
    "sc.pp.filter_genes(adata_reynolds_fb_4820STDY7388999_loom, min_counts=30)\n",
    "adata_reynolds_fb_4820STDY7388999_loom.raw = adata_reynolds_fb_4820STDY7388999_loom"
   ]
  },
  {
   "cell_type": "code",
   "execution_count": null,
   "id": "involved-injury",
   "metadata": {},
   "outputs": [],
   "source": [
    "sc.pp.normalize_per_cell(adata_reynolds_fb_4820STDY7388999_loom)\n",
    "sc.pp.log1p(adata_reynolds_fb_4820STDY7388999_loom)"
   ]
  },
  {
   "cell_type": "code",
   "execution_count": null,
   "id": "still-stuart",
   "metadata": {},
   "outputs": [],
   "source": [
    "sc.pp.pca(adata_reynolds_fb_4820STDY7388999_loom, random_state=seed, n_comps=30)\n",
    "tk.tl.triku(adata_reynolds_fb_4820STDY7388999_loom, n_procs=1, random_state=seed, use_adata_knn=True)\n",
    "sc.pp.neighbors(adata_reynolds_fb_4820STDY7388999_loom, metric='cosine')"
   ]
  },
  {
   "cell_type": "code",
   "execution_count": null,
   "id": "advance-colleague",
   "metadata": {},
   "outputs": [],
   "source": [
    "sc.tl.umap(adata_reynolds_fb_4820STDY7388999_loom, min_dist=0.3, random_state=seed)\n",
    "sc.tl.leiden(adata_reynolds_fb_4820STDY7388999_loom, resolution=0.5, random_state=seed)"
   ]
  },
  {
   "cell_type": "code",
   "execution_count": null,
   "id": "final-criticism",
   "metadata": {},
   "outputs": [],
   "source": [
    "sc.pl.umap(adata_reynolds_fb_4820STDY7388999_loom, color=['leiden', 'science_clustering'], legend_loc='on data')"
   ]
  },
  {
   "cell_type": "code",
   "execution_count": null,
   "id": "extended-karen",
   "metadata": {},
   "outputs": [],
   "source": [
    "sc.pl.umap(adata_reynolds_fb_4820STDY7388999_loom, color=['LUM', 'PDGFRA', 'VIM', 'COL1A1', 'SFRP2', 'APOE', 'POSTN'], legend_loc='on data', cmap=magma)"
   ]
  },
  {
   "cell_type": "code",
   "execution_count": null,
   "id": "guilty-winter",
   "metadata": {},
   "outputs": [],
   "source": [
    "sc.pl.umap(adata_reynolds_fb_4820STDY7388999_loom, color=['leiden', 'SFRP2', 'PI16', 'SLPI', 'WIF1', 'COL18A1', 'COMP', \n",
    "                                               'APOE', 'CCL2',  'ITM2A', 'SPSB1', \n",
    "                                               'CCDC146', 'CCL19', 'CD74', \n",
    "                                               'DKK3', 'TNN', 'SFRP1'], cmap=magma, use_raw=False, legend_loc='on data')"
   ]
  },
  {
   "cell_type": "code",
   "execution_count": null,
   "id": "serious-sequence",
   "metadata": {},
   "outputs": [],
   "source": [
    "sc.pl.umap(adata_reynolds_fb_4820STDY7388999_loom, color=['leiden', \n",
    "                                                          'DMKN', 'KRT1'], cmap=magma, use_raw=False, legend_loc='on data')"
   ]
  },
  {
   "cell_type": "code",
   "execution_count": null,
   "id": "robust-oxide",
   "metadata": {},
   "outputs": [],
   "source": [
    "dict_cat = {'fb': ['LUM', 'PDGFRA', 'COL1A1', 'SFRP2', 'CCL19'], 'peri': ['RGS5', 'MYL9', 'NDUFA4L2'], 'eritro': ['HBB', 'HBA2', 'HBA1'], \n",
    "            'immune': ['TPSB2', 'TRAC', 'TPSAB1', 'HLA-DRA', 'FCER1G', 'CD74'], 'endo': ['CLDN5', 'PECAM1'], 'kerato': ['DMKN', 'KRT1'],\n",
    "            'mt': ['MTND2P28', 'MTND4P12', 'MTCO1P40', 'ADAM33', 'RN7SL2', 'MTRNR2L6']}\n",
    "\n",
    "assign_cats(adata_reynolds_fb_4820STDY7388999_loom, dict_cat)"
   ]
  },
  {
   "cell_type": "code",
   "execution_count": null,
   "id": "corresponding-professor",
   "metadata": {},
   "outputs": [],
   "source": [
    "sc.pl.umap(adata_reynolds_fb_4820STDY7388999_loom, color=['leiden', 'science_clustering', 'assigned_cats'], legend_loc='on data', cmap=magma)"
   ]
  },
  {
   "cell_type": "code",
   "execution_count": null,
   "id": "diverse-spank",
   "metadata": {},
   "outputs": [],
   "source": [
    "sc.tl.rank_genes_groups(adata_reynolds_fb_4820STDY7388999_loom, groupby='leiden')\n",
    "sc.pl.rank_genes_groups(adata_reynolds_fb_4820STDY7388999_loom)"
   ]
  },
  {
   "cell_type": "code",
   "execution_count": null,
   "id": "suffering-lecture",
   "metadata": {},
   "outputs": [],
   "source": [
    "adata_reynolds_fb_4820STDY7388999_loom = adata_reynolds_fb_4820STDY7388999_loom[adata_reynolds_fb_4820STDY7388999_loom.obs['assigned_cats'] == 'fb']"
   ]
  },
  {
   "cell_type": "code",
   "execution_count": null,
   "id": "center-details",
   "metadata": {},
   "outputs": [],
   "source": [
    "sc.pp.filter_genes(adata_reynolds_fb_4820STDY7388999_loom, min_counts=1)"
   ]
  },
  {
   "cell_type": "code",
   "execution_count": null,
   "id": "hungry-brown",
   "metadata": {},
   "outputs": [],
   "source": [
    "sc.pp.pca(adata_reynolds_fb_4820STDY7388999_loom, random_state=seed, n_comps=30)\n",
    "tk.tl.triku(adata_reynolds_fb_4820STDY7388999_loom, n_procs=1, random_state=seed, use_adata_knn=True)\n",
    "sc.pp.neighbors(adata_reynolds_fb_4820STDY7388999_loom, metric='cosine')"
   ]
  },
  {
   "cell_type": "code",
   "execution_count": null,
   "id": "contained-mistake",
   "metadata": {},
   "outputs": [],
   "source": [
    "sc.tl.umap(adata_reynolds_fb_4820STDY7388999_loom, min_dist=0.05, random_state=seed)\n",
    "sc.tl.leiden(adata_reynolds_fb_4820STDY7388999_loom, resolution=1.2, random_state=seed)"
   ]
  },
  {
   "cell_type": "code",
   "execution_count": null,
   "id": "documentary-hormone",
   "metadata": {},
   "outputs": [],
   "source": [
    "sc.pl.umap(adata_reynolds_fb_4820STDY7388999_loom, color=['leiden', 'science_clustering'], cmap=magma, use_raw=False, legend_loc='on data')"
   ]
  },
  {
   "cell_type": "code",
   "execution_count": null,
   "id": "theoretical-reverse",
   "metadata": {},
   "outputs": [],
   "source": [
    "sc.pl.umap(adata_reynolds_fb_4820STDY7388999_loom, color=['leiden', 'SFRP2', 'PI16', 'SLPI', 'WIF1', 'COL18A1', 'COMP', \n",
    "                                               'APOE', 'CCL2',  'ITM2A', 'SPSB1', \n",
    "                                               'CCDC146', 'CCL19', 'CD74', \n",
    "                                               'DKK3', 'TNN', 'SFRP1', 'EDNRB', 'IGFBP7'], cmap=magma, use_raw=False, legend_loc='on data')"
   ]
  },
  {
   "cell_type": "code",
   "execution_count": null,
   "id": "touched-superior",
   "metadata": {},
   "outputs": [],
   "source": [
    "sc.tl.rank_genes_groups(adata_reynolds_fb_4820STDY7388999_loom, groupby='leiden')"
   ]
  },
  {
   "cell_type": "code",
   "execution_count": null,
   "id": "confirmed-current",
   "metadata": {},
   "outputs": [],
   "source": [
    "sc.pl.rank_genes_groups(adata_reynolds_fb_4820STDY7388999_loom)"
   ]
  },
  {
   "cell_type": "markdown",
   "id": "animal-ultimate",
   "metadata": {},
   "source": [
    "## 4820STDY7389007 (S3)"
   ]
  },
  {
   "cell_type": "markdown",
   "id": "known-teddy",
   "metadata": {},
   "source": [
    "### Reynolds preprocessed"
   ]
  },
  {
   "cell_type": "code",
   "execution_count": null,
   "id": "suburban-violence",
   "metadata": {},
   "outputs": [],
   "source": [
    "adata_reynolds_fb_4820STDY7389007 = adata_reynolds_fb_healthy[adata_reynolds_fb_healthy.obs['sample_id'].isin(['4820STDY7389007'])]  #selected_samples)]"
   ]
  },
  {
   "cell_type": "code",
   "execution_count": null,
   "id": "descending-wildlife",
   "metadata": {},
   "outputs": [],
   "source": [
    "adata_reynolds_fb_4820STDY7389007"
   ]
  },
  {
   "cell_type": "code",
   "execution_count": null,
   "id": "honest-heater",
   "metadata": {},
   "outputs": [],
   "source": [
    "sc.pp.filter_genes(adata_reynolds_fb_4820STDY7389007, min_counts=1)"
   ]
  },
  {
   "cell_type": "code",
   "execution_count": null,
   "id": "therapeutic-monroe",
   "metadata": {},
   "outputs": [],
   "source": [
    "sc.pp.pca(adata_reynolds_fb_4820STDY7389007, random_state=seed, n_comps=30)\n",
    "tk.tl.triku(adata_reynolds_fb_4820STDY7389007, n_procs=1, random_state=seed, use_adata_knn=True)\n",
    "sc.pp.neighbors(adata_reynolds_fb_4820STDY7389007, metric='cosine')"
   ]
  },
  {
   "cell_type": "code",
   "execution_count": null,
   "id": "signal-trustee",
   "metadata": {},
   "outputs": [],
   "source": [
    "sc.tl.umap(adata_reynolds_fb_4820STDY7389007, min_dist=0.3, random_state=seed)"
   ]
  },
  {
   "cell_type": "code",
   "execution_count": null,
   "id": "accomplished-currency",
   "metadata": {},
   "outputs": [],
   "source": [
    "sc.tl.leiden(adata_reynolds_fb_4820STDY7389007, resolution=1, random_state=seed)"
   ]
  },
  {
   "cell_type": "code",
   "execution_count": null,
   "id": "stone-ranch",
   "metadata": {},
   "outputs": [],
   "source": [
    "sc.pl.umap(adata_reynolds_fb_4820STDY7389007, color=['leiden', 'sample_id', 'full_clustering'], legend_loc='on data')"
   ]
  },
  {
   "cell_type": "code",
   "execution_count": null,
   "id": "homeless-qualification",
   "metadata": {},
   "outputs": [],
   "source": [
    "sc.pl.umap(adata_reynolds_fb_4820STDY7389007, color=['APCDD1', 'COL18A1', 'COMP', 'SLPI', 'WIF1'], cmap=magma, use_raw=False)"
   ]
  },
  {
   "cell_type": "code",
   "execution_count": null,
   "id": "powered-powell",
   "metadata": {},
   "outputs": [],
   "source": [
    "sc.pl.umap(adata_reynolds_fb_4820STDY7389007, color=['MT2A', 'CCL19', 'CCL2', 'CD46'], cmap=magma, use_raw=False)"
   ]
  },
  {
   "cell_type": "code",
   "execution_count": null,
   "id": "coordinated-excellence",
   "metadata": {},
   "outputs": [],
   "source": [
    "sc.pl.umap(adata_reynolds_fb_4820STDY7389007, color=['POSTN', 'COMP', 'COCH'], cmap=magma, use_raw=False)"
   ]
  },
  {
   "cell_type": "markdown",
   "id": "female-toddler",
   "metadata": {},
   "source": [
    "### Direct loom"
   ]
  },
  {
   "cell_type": "code",
   "execution_count": null,
   "id": "rocky-circular",
   "metadata": {},
   "outputs": [],
   "source": [
    "adata_reynolds_fb_4820STDY7389007_loom = sc.read('reynolds_2020/reynolds_2020_16_4820STDY7389007_s3_dermis_fibroblasts.loom', \n",
    "                                                 backup_url='https://zenodo.org/record/4596375/files/reynolds_2020_16_4820STDY7389007_s3_dermis_fibroblasts.loom')\n",
    "\n",
    "adata_reynolds_fb_4820STDY7389007_loom.var_names_make_unique()"
   ]
  },
  {
   "cell_type": "code",
   "execution_count": null,
   "id": "practical-pleasure",
   "metadata": {},
   "outputs": [],
   "source": [
    "adata_reynolds_fb_4820STDY7389007_loom.obs_names = [f\"{i.split('_')[-1]}-1-{i.split('_')[1]}\" for i in adata_reynolds_fb_4820STDY7389007_loom.obs_names]"
   ]
  },
  {
   "cell_type": "code",
   "execution_count": null,
   "id": "incorporate-microwave",
   "metadata": {},
   "outputs": [],
   "source": [
    "df_fb_type = pd.Series('-', index=adata_reynolds_fb_4820STDY7389007_loom.obs_names)\n",
    "df_fb_type.loc[adata_reynolds_fb_4820STDY7389007.obs_names & adata_reynolds_fb_4820STDY7389007_loom.obs_names] = adata_reynolds_fb_4820STDY7389007[adata_reynolds_fb_4820STDY7389007.obs_names & adata_reynolds_fb_4820STDY7389007_loom.obs_names].obs['full_clustering']\n",
    "adata_reynolds_fb_4820STDY7389007_loom.obs['science_clustering'] = df_fb_type"
   ]
  },
  {
   "cell_type": "code",
   "execution_count": null,
   "id": "meaning-essay",
   "metadata": {},
   "outputs": [],
   "source": [
    "sc.pp.calculate_qc_metrics(adata_reynolds_fb_4820STDY7389007_loom, inplace=True)"
   ]
  },
  {
   "cell_type": "code",
   "execution_count": null,
   "id": "ordered-conflict",
   "metadata": {},
   "outputs": [],
   "source": [
    "sc.pl.violin(adata_reynolds_fb_4820STDY7389007_loom, ['n_genes_by_counts'])\n",
    "sc.pl.violin(adata_reynolds_fb_4820STDY7389007_loom, ['log1p_total_counts'])"
   ]
  },
  {
   "cell_type": "code",
   "execution_count": null,
   "id": "reserved-companion",
   "metadata": {},
   "outputs": [],
   "source": [
    "sc.pp.filter_genes(adata_reynolds_fb_4820STDY7389007_loom, min_counts=30)\n",
    "adata_reynolds_fb_4820STDY7389007_loom.raw = adata_reynolds_fb_4820STDY7389007_loom"
   ]
  },
  {
   "cell_type": "code",
   "execution_count": null,
   "id": "substantial-customer",
   "metadata": {},
   "outputs": [],
   "source": [
    "sc.pp.normalize_per_cell(adata_reynolds_fb_4820STDY7389007_loom)\n",
    "sc.pp.log1p(adata_reynolds_fb_4820STDY7389007_loom)"
   ]
  },
  {
   "cell_type": "code",
   "execution_count": null,
   "id": "military-cleveland",
   "metadata": {},
   "outputs": [],
   "source": [
    "sc.pp.pca(adata_reynolds_fb_4820STDY7389007_loom, random_state=seed, n_comps=30)\n",
    "tk.tl.triku(adata_reynolds_fb_4820STDY7389007_loom, n_procs=1, random_state=seed, use_adata_knn=True)\n",
    "sc.pp.neighbors(adata_reynolds_fb_4820STDY7389007_loom, metric='cosine')"
   ]
  },
  {
   "cell_type": "code",
   "execution_count": null,
   "id": "addressed-duration",
   "metadata": {},
   "outputs": [],
   "source": [
    "sc.tl.umap(adata_reynolds_fb_4820STDY7389007_loom, min_dist=0.3, random_state=seed)\n",
    "sc.tl.leiden(adata_reynolds_fb_4820STDY7389007_loom, resolution=0.8, random_state=seed)"
   ]
  },
  {
   "cell_type": "code",
   "execution_count": null,
   "id": "spiritual-remainder",
   "metadata": {},
   "outputs": [],
   "source": [
    "sc.pl.umap(adata_reynolds_fb_4820STDY7389007_loom, color=['leiden', 'science_clustering'], legend_loc='on data')"
   ]
  },
  {
   "cell_type": "code",
   "execution_count": null,
   "id": "honey-maria",
   "metadata": {},
   "outputs": [],
   "source": [
    "sc.pl.umap(adata_reynolds_fb_4820STDY7389007_loom, color=['LUM', 'PDGFRA', 'VIM', 'COL1A1', 'SFRP2', 'APOE', 'POSTN', 'RGS5', 'MYL9', 'NDUFA4L2', 'HBB'], legend_loc='on data', cmap=magma)"
   ]
  },
  {
   "cell_type": "code",
   "execution_count": null,
   "id": "satisfactory-pakistan",
   "metadata": {},
   "outputs": [],
   "source": [
    "sc.pl.umap(adata_reynolds_fb_4820STDY7389007_loom, color=['leiden', 'SFRP2', 'PI16', 'SLPI', 'WIF1', 'COL18A1', 'COMP', \n",
    "                                               'APOE', 'CCL2',  'ITM2A', 'SPSB1', \n",
    "                                               'CCDC146', 'CCL19', 'CD74'], cmap=magma, use_raw=False, legend_loc='on data')"
   ]
  },
  {
   "cell_type": "code",
   "execution_count": null,
   "id": "considerable-comparison",
   "metadata": {},
   "outputs": [],
   "source": [
    "dict_cat = {'fb': ['LUM', 'PDGFRA', 'COL1A1', 'SFRP2', 'CCL19'], 'peri': ['RGS5', 'MYL9', 'NDUFA4L2'], 'eritro': ['HBB', 'HBA2', 'HBA1'], \n",
    "            'immune': ['TPSB2', 'TRAC', 'TPSAB1', 'HLA-DRA', 'FCER1G'], 'kerato': ['DMKN', 'KRT1'],\n",
    "            'mt': ['MTND2P28', 'MTND4P12', 'MTCO1P40', 'ADAM33', 'RN7SL2', 'MTRNR2L6']}\n",
    "\n",
    "assign_cats(adata_reynolds_fb_4820STDY7389007_loom, dict_cat)"
   ]
  },
  {
   "cell_type": "code",
   "execution_count": null,
   "id": "interpreted-complex",
   "metadata": {},
   "outputs": [],
   "source": [
    "sc.pl.umap(adata_reynolds_fb_4820STDY7389007_loom, color=['leiden', 'science_clustering', 'assigned_cats'], legend_loc='on data', cmap=magma)"
   ]
  },
  {
   "cell_type": "code",
   "execution_count": null,
   "id": "twenty-caution",
   "metadata": {},
   "outputs": [],
   "source": [
    "sc.tl.rank_genes_groups(adata_reynolds_fb_4820STDY7389007_loom, groupby='leiden')\n",
    "sc.pl.rank_genes_groups(adata_reynolds_fb_4820STDY7389007_loom)"
   ]
  },
  {
   "cell_type": "code",
   "execution_count": null,
   "id": "driving-transaction",
   "metadata": {},
   "outputs": [],
   "source": [
    "adata_reynolds_fb_4820STDY7389007_loom = adata_reynolds_fb_4820STDY7389007_loom[adata_reynolds_fb_4820STDY7389007_loom.obs['assigned_cats'] == 'fb']"
   ]
  },
  {
   "cell_type": "code",
   "execution_count": null,
   "id": "authentic-myanmar",
   "metadata": {},
   "outputs": [],
   "source": [
    "sc.pp.filter_genes(adata_reynolds_fb_4820STDY7389007_loom, min_counts=1)"
   ]
  },
  {
   "cell_type": "code",
   "execution_count": null,
   "id": "compound-portfolio",
   "metadata": {},
   "outputs": [],
   "source": [
    "sc.pp.pca(adata_reynolds_fb_4820STDY7389007_loom, random_state=seed, n_comps=30)\n",
    "tk.tl.triku(adata_reynolds_fb_4820STDY7389007_loom, n_procs=1, random_state=seed, use_adata_knn=True)\n",
    "sc.pp.neighbors(adata_reynolds_fb_4820STDY7389007_loom, metric='cosine')"
   ]
  },
  {
   "cell_type": "code",
   "execution_count": null,
   "id": "retired-apache",
   "metadata": {},
   "outputs": [],
   "source": [
    "sc.tl.umap(adata_reynolds_fb_4820STDY7389007_loom, min_dist=0.05, random_state=seed)\n",
    "sc.tl.leiden(adata_reynolds_fb_4820STDY7389007_loom, resolution=1.2, random_state=seed)"
   ]
  },
  {
   "cell_type": "code",
   "execution_count": null,
   "id": "dress-february",
   "metadata": {},
   "outputs": [],
   "source": [
    "adata_reynolds_fb_4820STDY7389007_loom"
   ]
  },
  {
   "cell_type": "code",
   "execution_count": null,
   "id": "attended-nashville",
   "metadata": {},
   "outputs": [],
   "source": [
    "sc.pl.umap(adata_reynolds_fb_4820STDY7389007_loom, color=['leiden', 'science_clustering'], cmap=magma, use_raw=False, legend_loc='on data')"
   ]
  },
  {
   "cell_type": "code",
   "execution_count": null,
   "id": "recreational-marketplace",
   "metadata": {},
   "outputs": [],
   "source": [
    "sc.pl.umap(adata_reynolds_fb_4820STDY7389007_loom, color=['leiden', 'SFRP2', 'PI16', 'SLPI', 'WIF1', 'COL18A1', 'COMP', \n",
    "                                               'APOE', 'CCL2',  'ITM2A', 'SPSB1', \n",
    "                                               'CCDC146', 'CCL19', 'CD74'], cmap=magma, use_raw=False, legend_loc='on data')"
   ]
  },
  {
   "cell_type": "markdown",
   "id": "compressed-roots",
   "metadata": {},
   "source": [
    "## SKN8104899 (S4)"
   ]
  },
  {
   "cell_type": "markdown",
   "id": "passing-locking",
   "metadata": {},
   "source": [
    "### Reynolds preprocessed"
   ]
  },
  {
   "cell_type": "code",
   "execution_count": null,
   "id": "mounted-tuning",
   "metadata": {},
   "outputs": [],
   "source": [
    "adata_reynolds_fb_SKN8104899 = adata_reynolds_fb_healthy[adata_reynolds_fb_healthy.obs['sample_id'].isin(['SKN8104899'])]  #selected_samples)]"
   ]
  },
  {
   "cell_type": "code",
   "execution_count": null,
   "id": "level-polish",
   "metadata": {},
   "outputs": [],
   "source": [
    "adata_reynolds_fb_SKN8104899"
   ]
  },
  {
   "cell_type": "code",
   "execution_count": null,
   "id": "soviet-roommate",
   "metadata": {},
   "outputs": [],
   "source": [
    "sc.pp.filter_genes(adata_reynolds_fb_SKN8104899, min_counts=1)"
   ]
  },
  {
   "cell_type": "code",
   "execution_count": null,
   "id": "instant-aircraft",
   "metadata": {},
   "outputs": [],
   "source": [
    "sc.pp.pca(adata_reynolds_fb_SKN8104899, random_state=seed, n_comps=30)\n",
    "tk.tl.triku(adata_reynolds_fb_SKN8104899, n_procs=1, random_state=seed, use_adata_knn=True)\n",
    "sc.pp.neighbors(adata_reynolds_fb_SKN8104899, metric='cosine')"
   ]
  },
  {
   "cell_type": "code",
   "execution_count": null,
   "id": "available-arrest",
   "metadata": {},
   "outputs": [],
   "source": [
    "sc.tl.umap(adata_reynolds_fb_SKN8104899, min_dist=0.3, random_state=seed)"
   ]
  },
  {
   "cell_type": "code",
   "execution_count": null,
   "id": "harmful-spirituality",
   "metadata": {},
   "outputs": [],
   "source": [
    "sc.tl.leiden(adata_reynolds_fb_SKN8104899, resolution=1, random_state=seed)"
   ]
  },
  {
   "cell_type": "code",
   "execution_count": null,
   "id": "advanced-legislature",
   "metadata": {},
   "outputs": [],
   "source": [
    "sc.pl.umap(adata_reynolds_fb_SKN8104899, color=['leiden', 'sample_id', 'full_clustering'], legend_loc='on data')"
   ]
  },
  {
   "cell_type": "code",
   "execution_count": null,
   "id": "experienced-bonus",
   "metadata": {},
   "outputs": [],
   "source": [
    "sc.pl.umap(adata_reynolds_fb_SKN8104899, color=['APCDD1', 'COL18A1', 'COMP', 'SLPI', 'WIF1'], cmap=magma, use_raw=False)"
   ]
  },
  {
   "cell_type": "code",
   "execution_count": null,
   "id": "ultimate-hostel",
   "metadata": {},
   "outputs": [],
   "source": [
    "sc.pl.umap(adata_reynolds_fb_SKN8104899, color=['MT2A', 'CCL19', 'CCL2', 'CD46'], cmap=magma, use_raw=False)"
   ]
  },
  {
   "cell_type": "markdown",
   "id": "portable-stewart",
   "metadata": {},
   "source": [
    "### Direct loom"
   ]
  },
  {
   "cell_type": "code",
   "execution_count": null,
   "id": "constant-edition",
   "metadata": {},
   "outputs": [],
   "source": [
    "adata_reynolds_fb_SKN8104899_loom = sc.read('reynolds_2020/reynolds_2020_84_SKN8104899_S4_dermis_fibroblasts.loom', \n",
    "                                                 backup_url='https://zenodo.org/record/4596375/files/reynolds_2020_84_SKN8104899_S4_dermis_fibroblasts.loom')\n",
    "\n",
    "adata_reynolds_fb_SKN8104899_loom.var_names_make_unique()"
   ]
  },
  {
   "cell_type": "code",
   "execution_count": null,
   "id": "crazy-husband",
   "metadata": {},
   "outputs": [],
   "source": [
    "adata_reynolds_fb_SKN8104899_loom.obs_names = [f\"{i.split('_')[-1]}-1-{i.split('_')[1]}\" for i in adata_reynolds_fb_SKN8104899_loom.obs_names]"
   ]
  },
  {
   "cell_type": "code",
   "execution_count": null,
   "id": "brown-sperm",
   "metadata": {},
   "outputs": [],
   "source": [
    "df_fb_type = pd.Series('-', index=adata_reynolds_fb_SKN8104899_loom.obs_names)\n",
    "df_fb_type.loc[adata_reynolds_fb_SKN8104899.obs_names & adata_reynolds_fb_SKN8104899_loom.obs_names] = adata_reynolds_fb_SKN8104899[adata_reynolds_fb_SKN8104899.obs_names & adata_reynolds_fb_SKN8104899_loom.obs_names].obs['full_clustering']\n",
    "adata_reynolds_fb_SKN8104899_loom.obs['science_clustering'] = df_fb_type"
   ]
  },
  {
   "cell_type": "code",
   "execution_count": null,
   "id": "radio-parking",
   "metadata": {},
   "outputs": [],
   "source": [
    "sc.pp.calculate_qc_metrics(adata_reynolds_fb_SKN8104899_loom, inplace=True)"
   ]
  },
  {
   "cell_type": "code",
   "execution_count": null,
   "id": "incident-investor",
   "metadata": {},
   "outputs": [],
   "source": [
    "sc.pl.violin(adata_reynolds_fb_SKN8104899_loom, ['n_genes_by_counts'])\n",
    "sc.pl.violin(adata_reynolds_fb_SKN8104899_loom, ['log1p_total_counts'])"
   ]
  },
  {
   "cell_type": "code",
   "execution_count": null,
   "id": "awful-madagascar",
   "metadata": {},
   "outputs": [],
   "source": [
    "sc.pp.filter_genes(adata_reynolds_fb_SKN8104899_loom, min_counts=30)\n",
    "adata_reynolds_fb_SKN8104899_loom.raw = adata_reynolds_fb_SKN8104899_loom"
   ]
  },
  {
   "cell_type": "code",
   "execution_count": null,
   "id": "broadband-complement",
   "metadata": {},
   "outputs": [],
   "source": [
    "sc.pp.normalize_per_cell(adata_reynolds_fb_SKN8104899_loom)\n",
    "sc.pp.log1p(adata_reynolds_fb_SKN8104899_loom)"
   ]
  },
  {
   "cell_type": "code",
   "execution_count": null,
   "id": "protected-netherlands",
   "metadata": {},
   "outputs": [],
   "source": [
    "sc.pp.pca(adata_reynolds_fb_SKN8104899_loom, random_state=seed, n_comps=30)\n",
    "tk.tl.triku(adata_reynolds_fb_SKN8104899_loom, n_procs=1, random_state=seed, use_adata_knn=True)\n",
    "sc.pp.neighbors(adata_reynolds_fb_SKN8104899_loom, metric='cosine')"
   ]
  },
  {
   "cell_type": "code",
   "execution_count": null,
   "id": "portuguese-emergency",
   "metadata": {},
   "outputs": [],
   "source": [
    "sc.tl.umap(adata_reynolds_fb_SKN8104899_loom, min_dist=0.3, random_state=seed)\n",
    "sc.tl.leiden(adata_reynolds_fb_SKN8104899_loom, resolution=0.8, random_state=seed)"
   ]
  },
  {
   "cell_type": "code",
   "execution_count": null,
   "id": "improved-degree",
   "metadata": {},
   "outputs": [],
   "source": [
    "sc.pl.umap(adata_reynolds_fb_SKN8104899_loom, color=['leiden', 'science_clustering'], legend_loc='on data')"
   ]
  },
  {
   "cell_type": "code",
   "execution_count": null,
   "id": "streaming-corrections",
   "metadata": {},
   "outputs": [],
   "source": [
    "sc.pl.umap(adata_reynolds_fb_SKN8104899_loom, color=['LUM', 'PDGFRA', 'VIM', 'COL1A1', 'SFRP2', 'APOE', 'POSTN', 'RGS5', 'MYL9', 'NDUFA4L2', 'HBB'], legend_loc='on data', cmap=magma)"
   ]
  },
  {
   "cell_type": "code",
   "execution_count": null,
   "id": "greater-company",
   "metadata": {},
   "outputs": [],
   "source": [
    "sc.pl.umap(adata_reynolds_fb_SKN8104899_loom, color=['leiden', 'SFRP2', 'PI16', 'SLPI', 'WIF1', 'COL18A1', 'COMP', \n",
    "                                               'APOE', 'CCL2',  'ITM2A', 'SPSB1', \n",
    "                                               'CCDC146', 'CCL19', 'CD74', 'POSTN'], cmap=magma, use_raw=False, legend_loc='on data')"
   ]
  },
  {
   "cell_type": "code",
   "execution_count": null,
   "id": "indonesian-first",
   "metadata": {},
   "outputs": [],
   "source": [
    "dict_cat = {'fb': ['LUM', 'PDGFRA', 'COL1A1', 'SFRP2', 'CCL19'], 'peri': ['RGS5', 'MYL9', 'NDUFA4L2'], 'eritro': ['HBB', 'HBA2', 'HBA1'], \n",
    "            'immune': ['TRAC', 'HLA-DRA', 'FCER1G'], 'kerato': ['DMKN', 'KRT1'],\n",
    "            'mt': ['MTND4P12', 'ADAM33', 'RN7SL2', ]}\n",
    "\n",
    "assign_cats(adata_reynolds_fb_SKN8104899_loom, dict_cat)"
   ]
  },
  {
   "cell_type": "code",
   "execution_count": null,
   "id": "approved-export",
   "metadata": {},
   "outputs": [],
   "source": [
    "sc.pl.umap(adata_reynolds_fb_SKN8104899_loom, color=['leiden', 'science_clustering', 'assigned_cats'], legend_loc='on data', cmap=magma)"
   ]
  },
  {
   "cell_type": "code",
   "execution_count": null,
   "id": "ultimate-tuition",
   "metadata": {},
   "outputs": [],
   "source": [
    "sc.tl.rank_genes_groups(adata_reynolds_fb_SKN8104899_loom, groupby='leiden')\n",
    "sc.pl.rank_genes_groups(adata_reynolds_fb_SKN8104899_loom)"
   ]
  },
  {
   "cell_type": "code",
   "execution_count": null,
   "id": "sporting-allocation",
   "metadata": {},
   "outputs": [],
   "source": [
    "adata_reynolds_fb_SKN8104899_loom = adata_reynolds_fb_SKN8104899_loom[adata_reynolds_fb_SKN8104899_loom.obs['assigned_cats'] == 'fb']"
   ]
  },
  {
   "cell_type": "code",
   "execution_count": null,
   "id": "peripheral-hardware",
   "metadata": {},
   "outputs": [],
   "source": [
    "sc.pp.filter_genes(adata_reynolds_fb_SKN8104899_loom, min_counts=1)"
   ]
  },
  {
   "cell_type": "code",
   "execution_count": null,
   "id": "geological-democracy",
   "metadata": {},
   "outputs": [],
   "source": [
    "sc.pp.pca(adata_reynolds_fb_SKN8104899_loom, random_state=seed, n_comps=30)\n",
    "tk.tl.triku(adata_reynolds_fb_SKN8104899_loom, n_procs=1, random_state=seed, use_adata_knn=True)\n",
    "sc.pp.neighbors(adata_reynolds_fb_SKN8104899_loom, metric='cosine')"
   ]
  },
  {
   "cell_type": "code",
   "execution_count": null,
   "id": "elder-rhythm",
   "metadata": {},
   "outputs": [],
   "source": [
    "sc.tl.umap(adata_reynolds_fb_SKN8104899_loom, min_dist=0.05, random_state=seed)\n",
    "sc.tl.leiden(adata_reynolds_fb_SKN8104899_loom, resolution=1.2, random_state=seed)"
   ]
  },
  {
   "cell_type": "code",
   "execution_count": null,
   "id": "competitive-mentor",
   "metadata": {},
   "outputs": [],
   "source": [
    "sc.pl.umap(adata_reynolds_fb_SKN8104899_loom, color=['leiden', 'science_clustering'], cmap=magma, use_raw=False, legend_loc='on data')"
   ]
  },
  {
   "cell_type": "code",
   "execution_count": null,
   "id": "middle-clerk",
   "metadata": {},
   "outputs": [],
   "source": [
    "sc.pl.umap(adata_reynolds_fb_SKN8104899_loom, color=['leiden', 'SFRP2', 'PI16', 'SLPI', 'WIF1', 'COL18A1', 'COMP', \n",
    "                                               'APOE', 'CCL2',  'ITM2A', 'SPSB1', \n",
    "                                               'CCDC146', 'CCL19', 'CD74'], cmap=magma, use_raw=False, legend_loc='on data')"
   ]
  },
  {
   "cell_type": "code",
   "execution_count": null,
   "id": "interim-button",
   "metadata": {},
   "outputs": [],
   "source": [
    "sc.tl.rank_genes_groups(adata_reynolds_fb_SKN8104899_loom, groupby='leiden')\n",
    "sc.pl.rank_genes_groups(adata_reynolds_fb_SKN8104899_loom)"
   ]
  },
  {
   "cell_type": "markdown",
   "id": "ongoing-cliff",
   "metadata": {},
   "source": [
    "## SKN8105197 (S5)"
   ]
  },
  {
   "cell_type": "markdown",
   "id": "bridal-palace",
   "metadata": {},
   "source": [
    "### Reynolds preprocessed"
   ]
  },
  {
   "cell_type": "code",
   "execution_count": null,
   "id": "sticky-comment",
   "metadata": {},
   "outputs": [],
   "source": [
    "adata_reynolds_fb_SKN8105197 = adata_reynolds_fb_healthy[adata_reynolds_fb_healthy.obs['sample_id'].isin(['SKN8105197'])]  #selected_samples)]"
   ]
  },
  {
   "cell_type": "code",
   "execution_count": null,
   "id": "academic-quilt",
   "metadata": {},
   "outputs": [],
   "source": [
    "adata_reynolds_fb_SKN8105197"
   ]
  },
  {
   "cell_type": "code",
   "execution_count": null,
   "id": "consolidated-mechanism",
   "metadata": {},
   "outputs": [],
   "source": [
    "sc.pp.filter_genes(adata_reynolds_fb_SKN8105197, min_counts=1)"
   ]
  },
  {
   "cell_type": "code",
   "execution_count": null,
   "id": "wireless-complaint",
   "metadata": {},
   "outputs": [],
   "source": [
    "sc.pp.pca(adata_reynolds_fb_SKN8105197, random_state=seed, n_comps=30)\n",
    "tk.tl.triku(adata_reynolds_fb_SKN8105197, n_procs=1, random_state=seed, use_adata_knn=True)\n",
    "sc.pp.neighbors(adata_reynolds_fb_SKN8105197, metric='cosine')"
   ]
  },
  {
   "cell_type": "code",
   "execution_count": null,
   "id": "sticky-boards",
   "metadata": {},
   "outputs": [],
   "source": [
    "sc.tl.umap(adata_reynolds_fb_SKN8105197, min_dist=0.3, random_state=seed)"
   ]
  },
  {
   "cell_type": "code",
   "execution_count": null,
   "id": "ruled-dress",
   "metadata": {},
   "outputs": [],
   "source": [
    "sc.tl.leiden(adata_reynolds_fb_SKN8105197, resolution=1, random_state=seed)"
   ]
  },
  {
   "cell_type": "code",
   "execution_count": null,
   "id": "south-meeting",
   "metadata": {},
   "outputs": [],
   "source": [
    "sc.pl.umap(adata_reynolds_fb_SKN8105197, color=['leiden', 'sample_id', 'full_clustering'], legend_loc='on data')"
   ]
  },
  {
   "cell_type": "code",
   "execution_count": null,
   "id": "german-plumbing",
   "metadata": {},
   "outputs": [],
   "source": [
    "sc.pl.umap(adata_reynolds_fb_SKN8105197, color=['APCDD1', 'COL18A1', 'COMP', 'SLPI', 'WIF1'], cmap=magma, use_raw=False)"
   ]
  },
  {
   "cell_type": "code",
   "execution_count": null,
   "id": "checked-ability",
   "metadata": {},
   "outputs": [],
   "source": [
    "sc.pl.umap(adata_reynolds_fb_SKN8105197, color=['MT2A', 'CCL19', 'CCL2', 'CD46'], cmap=magma, use_raw=False)"
   ]
  },
  {
   "cell_type": "markdown",
   "id": "twelve-cisco",
   "metadata": {},
   "source": [
    "### Direct loom"
   ]
  },
  {
   "cell_type": "code",
   "execution_count": null,
   "id": "synthetic-dream",
   "metadata": {},
   "outputs": [],
   "source": [
    "adata_reynolds_fb_SKN8105197_loom = sc.read('reynolds_2020/reynolds_2020_92_SKN8105197_S5_dermis_fibroblasts.loom', \n",
    "                                                 backup_url='https://zenodo.org/record/4596375/files/reynolds_2020_92_SKN8105197_S5_dermis_fibroblasts.loom')\n",
    "adata_reynolds_fb_SKN8105197_loom.var_names_make_unique()"
   ]
  },
  {
   "cell_type": "code",
   "execution_count": null,
   "id": "packed-chapter",
   "metadata": {},
   "outputs": [],
   "source": [
    "adata_reynolds_fb_SKN8105197_loom.obs_names = [f\"{i.split('_')[-1]}-1-{i.split('_')[1]}\" for i in adata_reynolds_fb_SKN8105197_loom.obs_names]"
   ]
  },
  {
   "cell_type": "code",
   "execution_count": null,
   "id": "classified-advantage",
   "metadata": {},
   "outputs": [],
   "source": [
    "df_fb_type = pd.Series('-', index=adata_reynolds_fb_SKN8105197_loom.obs_names)\n",
    "df_fb_type.loc[adata_reynolds_fb_SKN8105197.obs_names & adata_reynolds_fb_SKN8105197_loom.obs_names] = adata_reynolds_fb_SKN8105197[adata_reynolds_fb_SKN8105197.obs_names & adata_reynolds_fb_SKN8105197_loom.obs_names].obs['full_clustering']\n",
    "adata_reynolds_fb_SKN8105197_loom.obs['science_clustering'] = df_fb_type"
   ]
  },
  {
   "cell_type": "code",
   "execution_count": null,
   "id": "acquired-monster",
   "metadata": {},
   "outputs": [],
   "source": [
    "sc.pp.calculate_qc_metrics(adata_reynolds_fb_SKN8105197_loom, inplace=True)"
   ]
  },
  {
   "cell_type": "code",
   "execution_count": null,
   "id": "suffering-settle",
   "metadata": {},
   "outputs": [],
   "source": [
    "sc.pl.violin(adata_reynolds_fb_SKN8105197_loom, ['n_genes_by_counts'])\n",
    "sc.pl.violin(adata_reynolds_fb_SKN8105197_loom, ['log1p_total_counts'])"
   ]
  },
  {
   "cell_type": "code",
   "execution_count": null,
   "id": "lucky-award",
   "metadata": {},
   "outputs": [],
   "source": [
    "sc.pp.filter_genes(adata_reynolds_fb_SKN8105197_loom, min_counts=30)\n",
    "adata_reynolds_fb_SKN8105197_loom.raw = adata_reynolds_fb_SKN8105197_loom"
   ]
  },
  {
   "cell_type": "code",
   "execution_count": null,
   "id": "everyday-mirror",
   "metadata": {},
   "outputs": [],
   "source": [
    "sc.pp.normalize_per_cell(adata_reynolds_fb_SKN8105197_loom)\n",
    "sc.pp.log1p(adata_reynolds_fb_SKN8105197_loom)"
   ]
  },
  {
   "cell_type": "code",
   "execution_count": null,
   "id": "administrative-justice",
   "metadata": {},
   "outputs": [],
   "source": [
    "sc.pp.pca(adata_reynolds_fb_SKN8105197_loom, random_state=seed, n_comps=30)\n",
    "tk.tl.triku(adata_reynolds_fb_SKN8105197_loom, n_procs=1, random_state=seed, use_adata_knn=True)\n",
    "sc.pp.neighbors(adata_reynolds_fb_SKN8105197_loom, metric='cosine')"
   ]
  },
  {
   "cell_type": "code",
   "execution_count": null,
   "id": "photographic-staff",
   "metadata": {},
   "outputs": [],
   "source": [
    "sc.tl.umap(adata_reynolds_fb_SKN8105197_loom, min_dist=0.3, random_state=seed)\n",
    "sc.tl.leiden(adata_reynolds_fb_SKN8105197_loom, resolution=1, random_state=seed)"
   ]
  },
  {
   "cell_type": "code",
   "execution_count": null,
   "id": "minor-contract",
   "metadata": {},
   "outputs": [],
   "source": [
    "sc.pl.umap(adata_reynolds_fb_SKN8105197_loom, color=['leiden', 'science_clustering'], legend_loc='on data')"
   ]
  },
  {
   "cell_type": "code",
   "execution_count": null,
   "id": "hidden-logging",
   "metadata": {},
   "outputs": [],
   "source": [
    "sc.pl.umap(adata_reynolds_fb_SKN8105197_loom, color=['LUM', 'PDGFRA', 'VIM', 'COL1A1', 'SFRP2', 'APOE', 'RGS5', 'MYL9', 'NDUFA4L2', 'HBB'], legend_loc='on data', cmap=magma)"
   ]
  },
  {
   "cell_type": "code",
   "execution_count": null,
   "id": "based-juvenile",
   "metadata": {},
   "outputs": [],
   "source": [
    "sc.pl.umap(adata_reynolds_fb_SKN8105197_loom, color=['leiden', 'SFRP2', 'SLPI', 'WIF1', 'COL18A1', 'COMP', \n",
    "                                               'APOE', 'CCL2',  'ITM2A', 'SPSB1', \n",
    "                                               'CCDC146', 'CCL19', 'CD74'], cmap=magma, use_raw=False, legend_loc='on data')"
   ]
  },
  {
   "cell_type": "code",
   "execution_count": null,
   "id": "responsible-lesbian",
   "metadata": {},
   "outputs": [],
   "source": [
    "dict_cat = {'fb': ['LUM', 'PDGFRA', 'COL1A1', 'SFRP2', 'CCL19'], 'peri': ['RGS5', 'MYL9', 'NDUFA4L2'], 'eritro': ['HBB', 'HBA2', 'HBA1'], \n",
    "            'immune': ['HLA-DRA', 'FCER1G'], 'melano':['PMEL', 'MLANA']}\n",
    "\n",
    "assign_cats(adata_reynolds_fb_SKN8105197_loom, dict_cat)"
   ]
  },
  {
   "cell_type": "code",
   "execution_count": null,
   "id": "posted-matrix",
   "metadata": {},
   "outputs": [],
   "source": [
    "sc.pl.umap(adata_reynolds_fb_SKN8105197_loom, color=['leiden', 'science_clustering', 'assigned_cats'], legend_loc='on data', cmap=magma)"
   ]
  },
  {
   "cell_type": "code",
   "execution_count": null,
   "id": "medical-entrance",
   "metadata": {},
   "outputs": [],
   "source": [
    "sc.tl.rank_genes_groups(adata_reynolds_fb_SKN8105197_loom, groupby='leiden')\n",
    "sc.pl.rank_genes_groups(adata_reynolds_fb_SKN8105197_loom)"
   ]
  },
  {
   "cell_type": "code",
   "execution_count": null,
   "id": "trying-digest",
   "metadata": {},
   "outputs": [],
   "source": [
    "adata_reynolds_fb_SKN8105197_loom = adata_reynolds_fb_SKN8105197_loom[adata_reynolds_fb_SKN8105197_loom.obs['assigned_cats'] == 'fb']"
   ]
  },
  {
   "cell_type": "code",
   "execution_count": null,
   "id": "outer-greensboro",
   "metadata": {},
   "outputs": [],
   "source": [
    "sc.pp.filter_genes(adata_reynolds_fb_SKN8105197_loom, min_counts=1)"
   ]
  },
  {
   "cell_type": "code",
   "execution_count": null,
   "id": "preceding-tension",
   "metadata": {},
   "outputs": [],
   "source": [
    "sc.pp.pca(adata_reynolds_fb_SKN8105197_loom, random_state=seed, n_comps=30)\n",
    "tk.tl.triku(adata_reynolds_fb_SKN8105197_loom, n_procs=1, random_state=seed, use_adata_knn=True)\n",
    "sc.pp.neighbors(adata_reynolds_fb_SKN8105197_loom, metric='cosine')"
   ]
  },
  {
   "cell_type": "code",
   "execution_count": null,
   "id": "hairy-carnival",
   "metadata": {},
   "outputs": [],
   "source": [
    "sc.tl.umap(adata_reynolds_fb_SKN8105197_loom, min_dist=0.05, random_state=seed)\n",
    "sc.tl.leiden(adata_reynolds_fb_SKN8105197_loom, resolution=1.2, random_state=seed)"
   ]
  },
  {
   "cell_type": "code",
   "execution_count": null,
   "id": "welsh-continuity",
   "metadata": {},
   "outputs": [],
   "source": [
    "sc.pl.umap(adata_reynolds_fb_SKN8105197_loom, color=['leiden', 'science_clustering'], cmap=magma, use_raw=False, legend_loc='on data')"
   ]
  },
  {
   "cell_type": "code",
   "execution_count": null,
   "id": "sensitive-nickname",
   "metadata": {},
   "outputs": [],
   "source": [
    "sc.pl.umap(adata_reynolds_fb_SKN8105197_loom, color=['leiden', 'SFRP2', 'SLPI', 'WIF1', 'COL18A1', 'COMP', \n",
    "                                               'APOE', 'CCL2',  'ITM2A', 'SPSB1', \n",
    "                                               'CCDC146', 'CCL19', 'CD74'], cmap=magma, use_raw=False, legend_loc='on data')"
   ]
  },
  {
   "cell_type": "markdown",
   "id": "acceptable-savage",
   "metadata": {},
   "source": [
    "### SKN8105197 exclusion\n",
    "We do not see SFRP2 expression, which has been a through fb marker, together with APOE. We will not include this sample in the analysis."
   ]
  },
  {
   "cell_type": "markdown",
   "id": "south-truth",
   "metadata": {},
   "source": [
    "# Preparing adatas for FB1+3 and FB2\n",
    "\n",
    "We've realized that FB1+3 and FB2 showed the same main populations based on JID (A1, A2 and B2 mainly). We want to obtain distinct populations based on the marker expression, and also be able to separate these two populations. The problem is that the FB1+3 and FB2 populations, although not fully overlapping, they do show some overlap between them, and we would like to separate them only based on marker genes and clustering. These markers should be shared between all datasets. To do that, we are going to do a preeliminar DEG analysis and find markers that separate these populations in an unbiased manner."
   ]
  },
  {
   "cell_type": "markdown",
   "id": "contained-defeat",
   "metadata": {},
   "source": [
    "## Finding markers to separate 1+3 from 2"
   ]
  },
  {
   "cell_type": "markdown",
   "id": "consecutive-sharp",
   "metadata": {},
   "source": [
    "**This part may not be reproducible in other notebooks. This part is to get markers that will be reproducible later on**"
   ]
  },
  {
   "cell_type": "code",
   "execution_count": null,
   "id": "speaking-washer",
   "metadata": {},
   "outputs": [],
   "source": [
    "# S1\n",
    "sc.tl.leiden(adata_reynolds_fb_4820STDY7388991_loom_fb, resolution=3, random_state=seed)\n",
    "sc.pl.umap(adata_reynolds_fb_4820STDY7388991_loom_fb, color=['leiden', 'science_clustering'], cmap=magma, use_raw=False, legend_loc='on data')\n",
    "adata_reynolds_fb_4820STDY7388991_loom_fb.obs['fb_type'] = ['1+3' if i in ['3', '16', '12', '19', '6', '17', '8', '2', '9', '11', '12', '14', '0', '21', '22'] else '2' for i in adata_reynolds_fb_4820STDY7388991_loom_fb.obs['leiden']]\n",
    "sc.pl.umap(adata_reynolds_fb_4820STDY7388991_loom_fb, color=['fb_type', 'science_clustering'], cmap=magma, use_raw=False, legend_loc='on data')"
   ]
  },
  {
   "cell_type": "code",
   "execution_count": null,
   "id": "ancient-blast",
   "metadata": {},
   "outputs": [],
   "source": [
    "sc.tl.rank_genes_groups(adata_reynolds_fb_4820STDY7388991_loom_fb, groupby='fb_type', groups=['1+3'], reference='2', rankby_abs=True)\n",
    "df_rank_s1 = pd.DataFrame(adata_reynolds_fb_4820STDY7388991_loom_fb.uns['rank_genes_groups']['names']['1+3'],\n",
    "adata_reynolds_fb_4820STDY7388991_loom_fb.uns['rank_genes_groups']['scores']['1+3']).sort_index(ascending=False)"
   ]
  },
  {
   "cell_type": "code",
   "execution_count": null,
   "id": "conditional-brave",
   "metadata": {},
   "outputs": [],
   "source": [
    "# S2\n",
    "sc.tl.leiden(adata_reynolds_fb_4820STDY7388999_loom, resolution=3, random_state=seed)\n",
    "sc.pl.umap(adata_reynolds_fb_4820STDY7388999_loom, color=['leiden', 'science_clustering'], cmap=magma, use_raw=False, legend_loc='on data')\n",
    "adata_reynolds_fb_4820STDY7388999_loom.obs['fb_type'] = ['2' if i in ['15', '16', '19'] else '1+3' for i in adata_reynolds_fb_4820STDY7388999_loom.obs['leiden']]\n",
    "sc.pl.umap(adata_reynolds_fb_4820STDY7388999_loom, color=['fb_type', 'science_clustering'], cmap=magma, use_raw=False, legend_loc='on data')"
   ]
  },
  {
   "cell_type": "code",
   "execution_count": null,
   "id": "applicable-deadline",
   "metadata": {},
   "outputs": [],
   "source": [
    "sc.tl.rank_genes_groups(adata_reynolds_fb_4820STDY7388999_loom, groupby='fb_type', groups=['1+3'], reference='2', rankby_abs=True)\n",
    "df_rank_s2 = pd.DataFrame(adata_reynolds_fb_4820STDY7388999_loom.uns['rank_genes_groups']['names']['1+3'],\n",
    "adata_reynolds_fb_4820STDY7388999_loom.uns['rank_genes_groups']['scores']['1+3']).sort_index(ascending=False)"
   ]
  },
  {
   "cell_type": "code",
   "execution_count": null,
   "id": "digital-treasury",
   "metadata": {},
   "outputs": [],
   "source": [
    "# S3\n",
    "sc.tl.leiden(adata_reynolds_fb_4820STDY7389007_loom, resolution=2.8, random_state=seed)\n",
    "sc.pl.umap(adata_reynolds_fb_4820STDY7389007_loom, color=['leiden', 'science_clustering'], cmap=magma, use_raw=False, legend_loc='on data')\n",
    "adata_reynolds_fb_4820STDY7389007_loom.obs['fb_type'] = ['2' if i in ['0', '17', '16', '13', '4', '1', '19'] else '1+3' for i in adata_reynolds_fb_4820STDY7389007_loom.obs['leiden']]\n",
    "sc.pl.umap(adata_reynolds_fb_4820STDY7389007_loom, color=['fb_type', 'science_clustering'], cmap=magma, use_raw=False, legend_loc='on data')"
   ]
  },
  {
   "cell_type": "code",
   "execution_count": null,
   "id": "nominated-sculpture",
   "metadata": {},
   "outputs": [],
   "source": [
    "sc.tl.rank_genes_groups(adata_reynolds_fb_4820STDY7389007_loom, groupby='fb_type', groups=['1+3'], reference='2', rankby_abs=True)\n",
    "df_rank_s3 = pd.DataFrame(adata_reynolds_fb_4820STDY7389007_loom.uns['rank_genes_groups']['names']['1+3'],\n",
    "adata_reynolds_fb_4820STDY7389007_loom.uns['rank_genes_groups']['scores']['1+3']).sort_index(ascending=False)"
   ]
  },
  {
   "cell_type": "code",
   "execution_count": null,
   "id": "twelve-breach",
   "metadata": {},
   "outputs": [],
   "source": [
    "# S4\n",
    "sc.tl.leiden(adata_reynolds_fb_SKN8104899_loom, resolution=3, random_state=seed)\n",
    "sc.pl.umap(adata_reynolds_fb_SKN8104899_loom, color=['leiden', 'science_clustering'], cmap=magma, use_raw=False, legend_loc='on data')\n",
    "adata_reynolds_fb_SKN8104899_loom.obs['fb_type'] = ['2' if i in ['8', '6', '14', '27'] else '1+3' for i in adata_reynolds_fb_SKN8104899_loom.obs['leiden']]\n",
    "sc.pl.umap(adata_reynolds_fb_SKN8104899_loom, color=['fb_type', 'science_clustering'], cmap=magma, use_raw=False, legend_loc='on data')"
   ]
  },
  {
   "cell_type": "code",
   "execution_count": null,
   "id": "automated-channels",
   "metadata": {},
   "outputs": [],
   "source": [
    "sc.tl.rank_genes_groups(adata_reynolds_fb_SKN8104899_loom, groupby='fb_type', groups=['1+3'], reference='2', rankby_abs=True)\n",
    "df_rank_s4 = pd.DataFrame(adata_reynolds_fb_SKN8104899_loom.uns['rank_genes_groups']['names']['1+3'],\n",
    "adata_reynolds_fb_SKN8104899_loom.uns['rank_genes_groups']['scores']['1+3']).sort_index(ascending=False)"
   ]
  },
  {
   "cell_type": "code",
   "execution_count": null,
   "id": "korean-tamil",
   "metadata": {},
   "outputs": [],
   "source": [
    "N = 30\n",
    "\n",
    "genes_13, counts_13 = np.unique(list(df_rank_s1.iloc[:N, 0].values) + list(df_rank_s2.iloc[:N, 0].values) + list(df_rank_s3.iloc[:N, 0].values) + list(df_rank_s4.iloc[:N, 0].values), return_counts=True)\n",
    "genes_13_shared = genes_13[counts_13 >= 3]\n",
    "\n",
    "genes_2, counts_2 = np.unique(list(df_rank_s1.iloc[-N:, 0].values) + list(df_rank_s2.iloc[-N:, 0].values) + list(df_rank_s3.iloc[-N:, 0].values) + list(df_rank_s4.iloc[-N:, 0].values), return_counts=True)\n",
    "genes_2_shared = genes_2[counts_2 >= 3]"
   ]
  },
  {
   "cell_type": "code",
   "execution_count": null,
   "id": "dependent-hughes",
   "metadata": {},
   "outputs": [],
   "source": [
    "genes_13_shared"
   ]
  },
  {
   "cell_type": "code",
   "execution_count": null,
   "id": "coated-medication",
   "metadata": {},
   "outputs": [],
   "source": [
    "genes_2_shared"
   ]
  },
  {
   "cell_type": "markdown",
   "id": "entertaining-cycling",
   "metadata": {},
   "source": [
    "## Separe the 1+3 from 2"
   ]
  },
  {
   "cell_type": "code",
   "execution_count": null,
   "id": "mental-medicaid",
   "metadata": {},
   "outputs": [],
   "source": [
    "genes_13_shared = ['BNIP3L', 'BNIP3P1', 'CEMIP', 'ENO1', 'GSTO1', 'MEDAG', 'NAMPT', 'NAMPTP1', 'NRN1', ]"
   ]
  },
  {
   "cell_type": "code",
   "execution_count": null,
   "id": "promotional-baking",
   "metadata": {},
   "outputs": [],
   "source": [
    "genes_2_shared = ['ANXA2', 'CALM1', 'FOSB', 'LMNA', 'MTRNR2L12', 'S100A10', 'S100A4', 'S100A6', 'TMSB4X', 'TPPP3']"
   ]
  },
  {
   "cell_type": "code",
   "execution_count": null,
   "id": "aware-norwegian",
   "metadata": {},
   "outputs": [],
   "source": [
    "dict_cat = {'1+3': genes_13_shared, '2': genes_2_shared}\n",
    "\n",
    "for adata in [adata_reynolds_fb_4820STDY7388991_loom_fb, adata_reynolds_fb_4820STDY7388999_loom, adata_reynolds_fb_4820STDY7389007_loom, adata_reynolds_fb_SKN8104899_loom]:\n",
    "    assign_cats(adata, dict_cat)"
   ]
  },
  {
   "cell_type": "code",
   "execution_count": null,
   "id": "scientific-drive",
   "metadata": {},
   "outputs": [],
   "source": [
    "sc.pl.umap(adata_reynolds_fb_4820STDY7388991_loom_fb, color=['leiden', 'science_clustering', 'fb_type', 'assigned_cats',  'score_assign_1+3', 'score_assign_2', 'assigned_cats_CV'], legend_loc='on data', cmap=magma)"
   ]
  },
  {
   "cell_type": "code",
   "execution_count": null,
   "id": "retained-juice",
   "metadata": {},
   "outputs": [],
   "source": [
    "sc.pl.umap(adata_reynolds_fb_4820STDY7388991_loom_fb, color=['leiden'] + genes_13_shared, legend_loc='on data', cmap=magma, use_raw=False)"
   ]
  },
  {
   "cell_type": "code",
   "execution_count": null,
   "id": "collaborative-consequence",
   "metadata": {},
   "outputs": [],
   "source": [
    "sc.pl.umap(adata_reynolds_fb_4820STDY7388991_loom_fb, color=['leiden'] + genes_2_shared, legend_loc='on data', cmap=magma, use_raw=False)"
   ]
  },
  {
   "cell_type": "code",
   "execution_count": null,
   "id": "painted-zimbabwe",
   "metadata": {},
   "outputs": [],
   "source": [
    "sc.pl.umap(adata_reynolds_fb_4820STDY7388999_loom, color=['leiden', 'science_clustering', 'fb_type', 'assigned_cats', 'score_assign_1+3', 'score_assign_2', 'assigned_cats_CV'], legend_loc='on data', cmap=magma)"
   ]
  },
  {
   "cell_type": "code",
   "execution_count": null,
   "id": "instructional-seeking",
   "metadata": {},
   "outputs": [],
   "source": [
    "sc.pl.umap(adata_reynolds_fb_4820STDY7388999_loom, color=['leiden'] + genes_13_shared, legend_loc='on data', cmap=magma, use_raw=False)"
   ]
  },
  {
   "cell_type": "code",
   "execution_count": null,
   "id": "latin-harmony",
   "metadata": {},
   "outputs": [],
   "source": [
    "sc.pl.umap(adata_reynolds_fb_4820STDY7388999_loom, color=['leiden'] + genes_2_shared, legend_loc='on data', cmap=magma, use_raw=False)"
   ]
  },
  {
   "cell_type": "code",
   "execution_count": null,
   "id": "structural-deputy",
   "metadata": {},
   "outputs": [],
   "source": [
    "sc.pl.umap(adata_reynolds_fb_4820STDY7389007_loom, color=['leiden', 'science_clustering', 'fb_type', 'assigned_cats',  'score_assign_1+3', 'score_assign_2', 'assigned_cats_CV'], legend_loc='on data', cmap=magma)"
   ]
  },
  {
   "cell_type": "code",
   "execution_count": null,
   "id": "logical-confidentiality",
   "metadata": {},
   "outputs": [],
   "source": [
    "sc.pl.umap(adata_reynolds_fb_4820STDY7389007_loom, color=['leiden'] + genes_13_shared, legend_loc='on data', cmap=magma, use_raw=False)"
   ]
  },
  {
   "cell_type": "code",
   "execution_count": null,
   "id": "tested-luxembourg",
   "metadata": {},
   "outputs": [],
   "source": [
    "sc.pl.umap(adata_reynolds_fb_4820STDY7389007_loom, color=['leiden'] + genes_2_shared, legend_loc='on data', cmap=magma, use_raw=False)"
   ]
  },
  {
   "cell_type": "code",
   "execution_count": null,
   "id": "ideal-portland",
   "metadata": {},
   "outputs": [],
   "source": [
    "sc.pl.umap(adata_reynolds_fb_SKN8104899_loom, color=['leiden', 'science_clustering', 'fb_type', 'assigned_cats',  'score_assign_1+3', 'score_assign_2', 'assigned_cats_CV'], legend_loc='on data', cmap=magma)"
   ]
  },
  {
   "cell_type": "code",
   "execution_count": null,
   "id": "consistent-summit",
   "metadata": {},
   "outputs": [],
   "source": [
    "sc.pl.umap(adata_reynolds_fb_SKN8104899_loom, color=['leiden'] + genes_13_shared, legend_loc='on data', cmap=magma, use_raw=False)"
   ]
  },
  {
   "cell_type": "code",
   "execution_count": null,
   "id": "burning-hughes",
   "metadata": {},
   "outputs": [],
   "source": [
    "sc.pl.umap(adata_reynolds_fb_SKN8104899_loom, color=['leiden'] + genes_2_shared, legend_loc='on data', cmap=magma, use_raw=False)"
   ]
  },
  {
   "cell_type": "markdown",
   "id": "multiple-ceiling",
   "metadata": {},
   "source": [
    "## Create the adatas"
   ]
  },
  {
   "cell_type": "code",
   "execution_count": null,
   "id": "qualified-shell",
   "metadata": {},
   "outputs": [],
   "source": [
    "adata_s1_13 = adata_reynolds_fb_4820STDY7388991_loom_fb[adata_reynolds_fb_4820STDY7388991_loom_fb.obs['assigned_cats'] == '1+3'].copy()\n",
    "adata_s1_2 = adata_reynolds_fb_4820STDY7388991_loom_fb[adata_reynolds_fb_4820STDY7388991_loom_fb.obs['assigned_cats'] == '2'].copy()\n",
    "\n",
    "adata_s2_13 = adata_reynolds_fb_4820STDY7388999_loom[adata_reynolds_fb_4820STDY7388999_loom.obs['assigned_cats'] == '1+3'].copy()\n",
    "adata_s2_2 = adata_reynolds_fb_4820STDY7388999_loom[adata_reynolds_fb_4820STDY7388999_loom.obs['assigned_cats'] == '2'].copy()\n",
    "\n",
    "adata_s3_13 = adata_reynolds_fb_4820STDY7389007_loom[adata_reynolds_fb_4820STDY7389007_loom.obs['assigned_cats'] == '1+3'].copy()\n",
    "adata_s3_2 = adata_reynolds_fb_4820STDY7389007_loom[adata_reynolds_fb_4820STDY7389007_loom.obs['assigned_cats'] == '2'].copy()\n",
    "\n",
    "adata_s4_13 = adata_reynolds_fb_SKN8104899_loom[adata_reynolds_fb_SKN8104899_loom.obs['assigned_cats'] == '1+3'].copy()\n",
    "adata_s4_2 = adata_reynolds_fb_SKN8104899_loom[adata_reynolds_fb_SKN8104899_loom.obs['assigned_cats'] == '2'].copy()"
   ]
  },
  {
   "cell_type": "code",
   "execution_count": null,
   "id": "proprietary-retirement",
   "metadata": {},
   "outputs": [],
   "source": [
    "for adata_s_name in ['adata_s1_13', 'adata_s1_2', 'adata_s2_13', 'adata_s2_2', 'adata_s3_13', 'adata_s3_2', 'adata_s4_13', 'adata_s4_2']:  # We do this because with the adata name by itselft it won't work!!!\n",
    "    sc.pp.filter_genes(eval(adata_s_name), min_counts=1)\n",
    "    sc.pp.pca(eval(adata_s_name), random_state=seed, n_comps=30)\n",
    "    tk.tl.triku(eval(adata_s_name), n_procs=1, random_state=seed)\n",
    "    sc.pp.neighbors(eval(adata_s_name), metric='cosine')\n",
    "    sc.tl.umap(eval(adata_s_name), min_dist=0.05, random_state=seed)"
   ]
  },
  {
   "cell_type": "code",
   "execution_count": null,
   "id": "balanced-theology",
   "metadata": {},
   "outputs": [],
   "source": [
    "fig, axs = plt.subplots(1, 2, figsize=(6, 3))\n",
    "sc.pl.umap(adata_s1_13, color=['science_clustering'], legend_loc='on data', cmap=magma, ax=axs[0], show=False)\n",
    "sc.pl.umap(adata_s1_2, color=['science_clustering'], legend_loc='on data', cmap=magma, ax=axs[1], show=False)"
   ]
  },
  {
   "cell_type": "code",
   "execution_count": null,
   "id": "clear-concern",
   "metadata": {},
   "outputs": [],
   "source": [
    "fig, axs = plt.subplots(1, 2, figsize=(6, 3))\n",
    "sc.pl.umap(adata_s2_13, color=['science_clustering'], legend_loc='on data', cmap=magma, ax=axs[0], show=False)\n",
    "sc.pl.umap(adata_s2_2, color=['science_clustering'], legend_loc='on data', cmap=magma, ax=axs[1], show=False)"
   ]
  },
  {
   "cell_type": "code",
   "execution_count": null,
   "id": "alive-desert",
   "metadata": {},
   "outputs": [],
   "source": [
    "fig, axs = plt.subplots(1, 2, figsize=(6, 3))\n",
    "sc.pl.umap(adata_s3_13, color=['science_clustering'], legend_loc='on data', cmap=magma, ax=axs[0], show=False)\n",
    "sc.pl.umap(adata_s3_2, color=['science_clustering'], legend_loc='on data', cmap=magma, ax=axs[1], show=False)"
   ]
  },
  {
   "cell_type": "code",
   "execution_count": null,
   "id": "major-contrary",
   "metadata": {},
   "outputs": [],
   "source": [
    "fig, axs = plt.subplots(1, 2, figsize=(6, 3))\n",
    "sc.pl.umap(adata_s4_13, color=['science_clustering'], legend_loc='on data', cmap=magma, ax=axs[0], show=False)\n",
    "sc.pl.umap(adata_s4_2, color=['science_clustering'], legend_loc='on data', cmap=magma, ax=axs[1], show=False)"
   ]
  },
  {
   "cell_type": "code",
   "execution_count": null,
   "id": "interested-blues",
   "metadata": {},
   "outputs": [],
   "source": [
    "## MAP JID populations\n",
    "\n",
    "dict_cat = {'A1': ['IGFBP6', 'PI16', 'SLPI', 'WISP2'], 'A2': ['APCDD1', 'COL18A1', 'COMP', 'NKD2'], \n",
    "            'B1': ['CCL2', 'ITM2A', 'SPSB1'], 'B2': ['CCDC146', 'CCL19', 'CD74', 'TNFSF13B'], \n",
    "            'C2': ['COCH', 'CRABP1', 'RSPO4'], 'C3': ['ASPN', 'F2R', 'GPM6B', 'POSTN']}"
   ]
  },
  {
   "cell_type": "code",
   "execution_count": null,
   "id": "measured-behalf",
   "metadata": {},
   "outputs": [],
   "source": [
    "for adata_s_name in ['adata_s1_13', 'adata_s1_2', 'adata_s2_13', 'adata_s2_2', 'adata_s3_13', 'adata_s3_2', 'adata_s4_13', 'adata_s4_2']: \n",
    "    print(adata_s_name.upper())\n",
    "    for key, val in dict_cat.items():\n",
    "        print(key, val)\n",
    "        sc.pl.umap(eval(adata_s_name), color=['science_clustering'] + [i for i in val if i in eval(adata_s_name).var_names], legend_loc='on data', cmap=magma, use_raw=False)"
   ]
  },
  {
   "cell_type": "code",
   "execution_count": null,
   "id": "declared-concert",
   "metadata": {},
   "outputs": [],
   "source": []
  }
 ],
 "metadata": {
  "kernelspec": {
   "display_name": "Python [conda env:alex-base] *",
   "language": "python",
   "name": "conda-env-alex-base-py"
  },
  "language_info": {
   "codemirror_mode": {
    "name": "ipython",
    "version": 3
   },
   "file_extension": ".py",
   "mimetype": "text/x-python",
   "name": "python",
   "nbconvert_exporter": "python",
   "pygments_lexer": "ipython3",
   "version": "3.8.0"
  }
 },
 "nbformat": 4,
 "nbformat_minor": 5
}
