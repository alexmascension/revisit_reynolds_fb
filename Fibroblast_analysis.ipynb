{
 "cells": [
  {
   "cell_type": "code",
   "execution_count": null,
   "id": "future-adobe",
   "metadata": {},
   "outputs": [],
   "source": [
    "!wget https://raw.githubusercontent.com/alexmascension/revisit_reynolds_fb/master/requirements.txt\n",
    "!pip install -r requirements.txt"
   ]
  },
  {
   "cell_type": "code",
   "execution_count": null,
   "id": "defensive-sydney",
   "metadata": {},
   "outputs": [],
   "source": [
    "import scanpy as sc\n",
    "import scanpy.external as sce\n",
    "\n",
    "import pandas as pd\n",
    "import numpy as np\n",
    "\n",
    "import os\n",
    "\n",
    "import triku as tk\n",
    "\n",
    "import matplotlib.pyplot as plt\n",
    "import matplotlib as mpl"
   ]
  },
  {
   "cell_type": "markdown",
   "id": "pregnant-bidder",
   "metadata": {},
   "source": [
    "# TODO\n",
    "* Adapt adata loading from URL\n",
    "* Intro + conclusions  "
   ]
  },
  {
   "cell_type": "code",
   "execution_count": null,
   "id": "given-milan",
   "metadata": {},
   "outputs": [],
   "source": [
    "# To print versions of imports \n",
    "\n",
    "import types\n",
    "\n",
    "def imports():\n",
    "    for name, val in globals().items():\n",
    "        if isinstance(val, types.ModuleType):\n",
    "            yield val.__name__\n",
    "\n",
    "excludes = ['builtins', 'types', 'sys']\n",
    "\n",
    "imported_modules = [module for module in imports() if module not in excludes]\n",
    "\n",
    "clean_modules = []\n",
    "\n",
    "for module in imported_modules:\n",
    "\n",
    "    sep = '.'  # to handle 'matplotlib.pyplot' cases\n",
    "    rest = module.split(sep, 1)[0]\n",
    "    clean_modules.append(rest)\n",
    "\n",
    "changed_imported_modules = list(set(clean_modules))  # drop duplicates\n",
    "\n",
    "pip_modules = !pip freeze  # you could also use `!conda list` with anaconda\n",
    "\n",
    "for module in pip_modules:\n",
    "    try:\n",
    "        name, version = module.split('==')\n",
    "        if name in changed_imported_modules:\n",
    "            print(name + '\\t' + version)\n",
    "    except:\n",
    "        pass"
   ]
  },
  {
   "cell_type": "code",
   "execution_count": null,
   "id": "sapphire-static",
   "metadata": {},
   "outputs": [],
   "source": [
    "seed = 0"
   ]
  },
  {
   "cell_type": "code",
   "execution_count": null,
   "id": "attached-sleep",
   "metadata": {},
   "outputs": [],
   "source": [
    "# Palettes for UMAP gene expression\n",
    "\n",
    "magma = [plt.get_cmap('magma')(i) for i in np.linspace(0,1, 80)]\n",
    "magma[0] = (0.88, 0.88, 0.88, 1)\n",
    "magma = mpl.colors.LinearSegmentedColormap.from_list(\"\", magma[:65])"
   ]
  },
  {
   "cell_type": "code",
   "execution_count": null,
   "id": "vulnerable-watch",
   "metadata": {},
   "outputs": [],
   "source": [
    "mpl.rcParams['figure.dpi'] = 150"
   ]
  },
  {
   "cell_type": "code",
   "execution_count": null,
   "id": "posted-thursday",
   "metadata": {},
   "outputs": [],
   "source": [
    "def assign_cats(adata, dict_cats, column_groupby='leiden', per=98):\n",
    "    \"\"\"\n",
    "    This functions uses a set of genes assigned to different categories so that leiden clusters can be assigned to one of these categories.\n",
    "    For example, to categorize fibroblasts from pericytes, endothelial cells, or cells with high mitochondrial content.\n",
    "    It could be done with each cell individually, but it is better to use clusters to discern the different categories because\n",
    "    the method, although efficient, can sometimes be noisy due to the noisiness of the sc datasets.\n",
    "    \"\"\"\n",
    "    for cat in list(dict_cats.keys()):\n",
    "        mat_cat = adata[:, dict_cat[cat]].X.copy().todense()\n",
    "\n",
    "        for c in range(mat_cat.shape[1]):\n",
    "            mat_cat[:, c] /= np.percentile(mat_cat[:, c][mat_cat[:, c] > 0], per)\n",
    "\n",
    "        sum_mat_cat = np.asarray(mat_cat.sum(1)).ravel()\n",
    "        sum_mat_cat /= np.percentile(sum_mat_cat[sum_mat_cat > 0], per, axis=0)\n",
    "\n",
    "        adata.obs[cat] = sum_mat_cat\n",
    "    \n",
    "    score_per_cluster = adata.obs[[column_groupby] + list(dict_cats.keys())].groupby(column_groupby).mean()\n",
    "    max_cat_dict = dict(zip(score_per_cluster.idxmax(axis=1).index, score_per_cluster.idxmax(axis=1).values))\n",
    "    adata.obs['assigned_cats'] = [max_cat_dict[i] for i in adata.obs[column_groupby]]"
   ]
  },
  {
   "cell_type": "markdown",
   "id": "applied-evening",
   "metadata": {},
   "source": [
    "## Reynolds et al. 2020"
   ]
  },
  {
   "cell_type": "code",
   "execution_count": null,
   "id": "bulgarian-anaheim",
   "metadata": {},
   "outputs": [],
   "source": [
    "os.getcwd()"
   ]
  },
  {
   "cell_type": "code",
   "execution_count": null,
   "id": "apparent-conditioning",
   "metadata": {},
   "outputs": [],
   "source": [
    "reynolds_dir = 'reynolds_2020'\n",
    "os.makedirs(reynolds_dir, exist_ok=True)"
   ]
  },
  {
   "cell_type": "code",
   "execution_count": null,
   "id": "billion-workshop",
   "metadata": {},
   "outputs": [],
   "source": [
    "# Making and saving the fb healthy dataset to zenodo\n",
    "adata_reynolds = sc.read('submission_210120.h5ad', backup_url='https://zenodo.org/record/4536165/files/submission_210120.h5ad')\n",
    "adata_reynolds_fb = adata_reynolds[(adata_reynolds.obs['full_clustering'].isin(['F1', 'F2', 'F3'])) & \n",
    "                                   (adata_reynolds.obs['Status'] == 'Healthy')]\n",
    "sc.pp.filter_genes(adata_reynolds_fb, min_counts=100)\n",
    "del adata_reynolds_fb.var\n",
    "\n",
    "for obs in ['mad_prd', 'Status', 'Site', 'Tissue', 'Enrichment', 'Location', 'Sex', 'Age', 'stage']:\n",
    "    del adata_reynolds_fb.obs[obs]\n",
    "    \n",
    "adata_reynolds_fb.write_h5ad(reynolds_dir + '/reynolds_2020_fb_healthy.h5ad')"
   ]
  },
  {
   "cell_type": "markdown",
   "id": "assured-somewhere",
   "metadata": {},
   "source": [
    "### Direct h5ad download"
   ]
  },
  {
   "cell_type": "code",
   "execution_count": null,
   "id": "spectacular-intention",
   "metadata": {
    "scrolled": true
   },
   "outputs": [],
   "source": [
    "#!wget https://zenodo.org/record/4536165/files/submission_210120.h5ad -o {reynolds_dir}/reynolds_2020.h5ad\n",
    "# adata_reynolds = sc.read_h5ad(reynolds_dir+'/reynolds_2020.h5ad')"
   ]
  },
  {
   "cell_type": "code",
   "execution_count": null,
   "id": "polyphonic-timothy",
   "metadata": {},
   "outputs": [],
   "source": [
    "adata_reynolds_fb_healthy = sc.read(reynolds_dir + '/reynolds_2020_fb_healthy.h5ad', backup_url='https://zenodo.org/record/4605340/files/reynolds_2020_fb_healthy.h5ad?download=1')"
   ]
  },
  {
   "cell_type": "code",
   "execution_count": null,
   "id": "overall-preliminary",
   "metadata": {},
   "outputs": [],
   "source": [
    "sc.pp.filter_genes(adata_reynolds_fb_healthy, min_counts=50)"
   ]
  },
  {
   "cell_type": "code",
   "execution_count": null,
   "id": "possible-stress",
   "metadata": {},
   "outputs": [],
   "source": [
    "sc.pp.log1p(adata_reynolds_fb_healthy)\n",
    "sc.pp.normalize_total(adata_reynolds_fb_healthy)"
   ]
  },
  {
   "cell_type": "code",
   "execution_count": null,
   "id": "light-timber",
   "metadata": {},
   "outputs": [],
   "source": [
    "df_batches = pd.DataFrame(np.unique(adata_reynolds_fb_healthy.obs['sample_id'], return_counts=True)).transpose()"
   ]
  },
  {
   "cell_type": "code",
   "execution_count": null,
   "id": "central-champion",
   "metadata": {},
   "outputs": [],
   "source": [
    "df_batches.sort_values(by=1, ascending=False)"
   ]
  },
  {
   "cell_type": "code",
   "execution_count": null,
   "id": "magnetic-original",
   "metadata": {},
   "outputs": [],
   "source": [
    "selected_samples = df_batches[df_batches[1] > 50][0].values"
   ]
  },
  {
   "cell_type": "code",
   "execution_count": null,
   "id": "continuing-click",
   "metadata": {},
   "outputs": [],
   "source": [
    "adata_reynolds_fb_healthy = adata_reynolds_fb_healthy[adata_reynolds_fb_healthy.obs['sample_id'].isin(selected_samples)]  #selected_samples)]"
   ]
  },
  {
   "cell_type": "code",
   "execution_count": null,
   "id": "floating-measure",
   "metadata": {},
   "outputs": [],
   "source": [
    "adata_reynolds_fb_healthy"
   ]
  },
  {
   "cell_type": "code",
   "execution_count": null,
   "id": "monthly-norway",
   "metadata": {},
   "outputs": [],
   "source": [
    "sc.pp.filter_genes(adata_reynolds_fb_healthy, min_counts=1)"
   ]
  },
  {
   "cell_type": "code",
   "execution_count": null,
   "id": "compressed-boutique",
   "metadata": {},
   "outputs": [],
   "source": [
    "sc.pp.pca(adata_reynolds_fb_healthy, random_state=seed, n_comps=30)\n",
    "sce.pp.bbknn(adata_reynolds_fb_healthy, metric='angular', batch_key='sample_id')\n",
    "tk.tl.triku(adata_reynolds_fb_healthy, n_procs=1, random_state=seed, use_adata_knn=True)"
   ]
  },
  {
   "cell_type": "code",
   "execution_count": null,
   "id": "aggregate-hebrew",
   "metadata": {},
   "outputs": [],
   "source": [
    "sc.tl.umap(adata_reynolds_fb_healthy, min_dist=0.1, random_state=seed)"
   ]
  },
  {
   "cell_type": "code",
   "execution_count": null,
   "id": "valuable-artist",
   "metadata": {},
   "outputs": [],
   "source": [
    "sc.tl.leiden(adata_reynolds_fb_healthy, resolution=1.5, random_state=seed)"
   ]
  },
  {
   "cell_type": "code",
   "execution_count": null,
   "id": "corporate-parks",
   "metadata": {},
   "outputs": [],
   "source": [
    "sc.pl.umap(adata_reynolds_fb_healthy, color=['leiden', 'sample_id', 'full_clustering'], legend_loc='on data')"
   ]
  },
  {
   "cell_type": "code",
   "execution_count": null,
   "id": "passive-aluminum",
   "metadata": {},
   "outputs": [],
   "source": [
    "sc.pl.umap(adata_reynolds_fb_healthy, color=['APCDD1', 'COL18A1', 'COMP', 'SLPI', 'WIF1'], cmap=magma, use_raw=False)"
   ]
  },
  {
   "cell_type": "code",
   "execution_count": null,
   "id": "composed-eleven",
   "metadata": {},
   "outputs": [],
   "source": [
    "sc.pl.umap(adata_reynolds_fb_healthy, color=['MT2A', 'CCL19', 'CCL2', 'CD46'], cmap=magma, use_raw=False)"
   ]
  },
  {
   "cell_type": "code",
   "execution_count": null,
   "id": "abroad-envelope",
   "metadata": {},
   "outputs": [],
   "source": [
    "sc.pl.umap(adata_reynolds_fb_healthy, color=['POSTN', 'COMP', 'COCH'], cmap=magma, use_raw=False)"
   ]
  },
  {
   "cell_type": "markdown",
   "id": "designing-deposit",
   "metadata": {},
   "source": [
    "## 4820STDY7388991"
   ]
  },
  {
   "cell_type": "markdown",
   "id": "burning-disney",
   "metadata": {},
   "source": [
    "### Reynolds preprocessed"
   ]
  },
  {
   "cell_type": "code",
   "execution_count": null,
   "id": "smoking-bracket",
   "metadata": {},
   "outputs": [],
   "source": [
    "adata_reynolds_fb_4820STDY7388991 = adata_reynolds_fb_healthy[adata_reynolds_fb_healthy.obs['sample_id'].isin(['4820STDY7388991'])]  #selected_samples)]"
   ]
  },
  {
   "cell_type": "code",
   "execution_count": null,
   "id": "consolidated-information",
   "metadata": {},
   "outputs": [],
   "source": [
    "adata_reynolds_fb_4820STDY7388991"
   ]
  },
  {
   "cell_type": "code",
   "execution_count": null,
   "id": "third-vulnerability",
   "metadata": {},
   "outputs": [],
   "source": [
    "sc.pp.filter_genes(adata_reynolds_fb_4820STDY7388991, min_counts=1)"
   ]
  },
  {
   "cell_type": "code",
   "execution_count": null,
   "id": "banner-concept",
   "metadata": {},
   "outputs": [],
   "source": [
    "sc.pp.pca(adata_reynolds_fb_4820STDY7388991, random_state=seed, n_comps=30)\n",
    "tk.tl.triku(adata_reynolds_fb_4820STDY7388991, n_procs=1, random_state=seed, use_adata_knn=True)\n",
    "sc.pp.neighbors(adata_reynolds_fb_4820STDY7388991, metric='cosine')"
   ]
  },
  {
   "cell_type": "code",
   "execution_count": null,
   "id": "bacterial-weapon",
   "metadata": {},
   "outputs": [],
   "source": [
    "sc.tl.umap(adata_reynolds_fb_4820STDY7388991, min_dist=0.3, random_state=seed)"
   ]
  },
  {
   "cell_type": "code",
   "execution_count": null,
   "id": "upper-ownership",
   "metadata": {},
   "outputs": [],
   "source": [
    "sc.tl.leiden(adata_reynolds_fb_4820STDY7388991, resolution=1, random_state=seed)"
   ]
  },
  {
   "cell_type": "code",
   "execution_count": null,
   "id": "changing-terrorist",
   "metadata": {},
   "outputs": [],
   "source": [
    "sc.pl.umap(adata_reynolds_fb_4820STDY7388991, color=['leiden', 'sample_id', 'full_clustering'], legend_loc='on data')"
   ]
  },
  {
   "cell_type": "code",
   "execution_count": null,
   "id": "excessive-citation",
   "metadata": {},
   "outputs": [],
   "source": [
    "sc.pl.umap(adata_reynolds_fb_4820STDY7388991, color=['APCDD1', 'COL18A1', 'COMP', 'SLPI', 'WIF1'], cmap=magma, use_raw=False)"
   ]
  },
  {
   "cell_type": "code",
   "execution_count": null,
   "id": "oriented-container",
   "metadata": {},
   "outputs": [],
   "source": [
    "sc.pl.umap(adata_reynolds_fb_4820STDY7388991, color=['MT2A', 'CCL19', 'CCL2', 'CD46'], cmap=magma, use_raw=False)"
   ]
  },
  {
   "cell_type": "code",
   "execution_count": null,
   "id": "velvet-procedure",
   "metadata": {},
   "outputs": [],
   "source": [
    "sc.pl.umap(adata_reynolds_fb_4820STDY7388991, color=['POSTN', 'COMP', 'COCH'], cmap=magma, use_raw=False)"
   ]
  },
  {
   "cell_type": "markdown",
   "id": "furnished-tournament",
   "metadata": {},
   "source": [
    "### Direct loom"
   ]
  },
  {
   "cell_type": "code",
   "execution_count": null,
   "id": "laden-niagara",
   "metadata": {},
   "outputs": [],
   "source": [
    "adata_reynolds_fb_4820STDY7388991_loom = sc.read('reynolds_2020/reynolds_2020_0_4820STDY7388991_s1_dermis_fibroblasts.loom', \n",
    "                                                 backup_url='https://zenodo.org/record/4596375/files/reynolds_2020_0_4820STDY7388991_s1_dermis_fibroblasts.loom')\n",
    "adata_reynolds_fb_4820STDY7388991_loom.var_names_make_unique()"
   ]
  },
  {
   "cell_type": "code",
   "execution_count": null,
   "id": "fantastic-chemistry",
   "metadata": {},
   "outputs": [],
   "source": [
    "adata_reynolds_fb_4820STDY7388991_loom.obs_names = [f\"{i.split('_')[-1]}-1-{i.split('_')[1]}\" for i in adata_reynolds_fb_4820STDY7388991_loom.obs_names]"
   ]
  },
  {
   "cell_type": "code",
   "execution_count": null,
   "id": "appointed-folks",
   "metadata": {},
   "outputs": [],
   "source": [
    "df_fb_type = pd.Series('-', index=adata_reynolds_fb_4820STDY7388991_loom.obs_names)\n",
    "df_fb_type.loc[adata_reynolds_fb_4820STDY7388991.obs_names & adata_reynolds_fb_4820STDY7388991_loom.obs_names] = adata_reynolds_fb_4820STDY7388991[adata_reynolds_fb_4820STDY7388991.obs_names & adata_reynolds_fb_4820STDY7388991_loom.obs_names].obs['full_clustering']\n",
    "adata_reynolds_fb_4820STDY7388991_loom.obs['science_clustering'] = df_fb_type"
   ]
  },
  {
   "cell_type": "code",
   "execution_count": null,
   "id": "short-trouble",
   "metadata": {},
   "outputs": [],
   "source": [
    "sc.pp.calculate_qc_metrics(adata_reynolds_fb_4820STDY7388991_loom, inplace=True)"
   ]
  },
  {
   "cell_type": "code",
   "execution_count": null,
   "id": "transsexual-blowing",
   "metadata": {},
   "outputs": [],
   "source": [
    "sc.pl.violin(adata_reynolds_fb_4820STDY7388991_loom, ['n_genes_by_counts'])\n",
    "sc.pl.violin(adata_reynolds_fb_4820STDY7388991_loom, ['log1p_total_counts'])"
   ]
  },
  {
   "cell_type": "code",
   "execution_count": null,
   "id": "discrete-father",
   "metadata": {},
   "outputs": [],
   "source": [
    "sc.pp.filter_genes(adata_reynolds_fb_4820STDY7388991_loom, min_counts=30)\n",
    "sc.pp.normalize_per_cell(adata_reynolds_fb_4820STDY7388991_loom)\n",
    "sc.pp.log1p(adata_reynolds_fb_4820STDY7388991_loom)"
   ]
  },
  {
   "cell_type": "code",
   "execution_count": null,
   "id": "canadian-transaction",
   "metadata": {},
   "outputs": [],
   "source": [
    "sc.pp.pca(adata_reynolds_fb_4820STDY7388991_loom, random_state=seed, n_comps=30)\n",
    "tk.tl.triku(adata_reynolds_fb_4820STDY7388991_loom, n_procs=1, random_state=seed, use_adata_knn=True)\n",
    "sc.pp.neighbors(adata_reynolds_fb_4820STDY7388991_loom, metric='cosine')"
   ]
  },
  {
   "cell_type": "code",
   "execution_count": null,
   "id": "partial-portable",
   "metadata": {},
   "outputs": [],
   "source": [
    "sc.tl.umap(adata_reynolds_fb_4820STDY7388991_loom, min_dist=0.3, random_state=seed)\n",
    "sc.tl.leiden(adata_reynolds_fb_4820STDY7388991_loom, resolution=3.2, random_state=seed)"
   ]
  },
  {
   "cell_type": "code",
   "execution_count": null,
   "id": "sunset-print",
   "metadata": {},
   "outputs": [],
   "source": [
    "sc.pl.umap(adata_reynolds_fb_4820STDY7388991_loom, color=['leiden', 'science_clustering'], legend_loc='on data')"
   ]
  },
  {
   "cell_type": "code",
   "execution_count": null,
   "id": "oriented-journey",
   "metadata": {},
   "outputs": [],
   "source": [
    "sc.pl.umap(adata_reynolds_fb_4820STDY7388991_loom, color=['LUM', 'PDGFRA', 'VIM', 'DCN', 'COL1A1', 'SFRP2', 'APOE', 'POSTN'], legend_loc='on data', cmap=magma)"
   ]
  },
  {
   "cell_type": "code",
   "execution_count": null,
   "id": "hawaiian-paper",
   "metadata": {},
   "outputs": [],
   "source": [
    "sc.tl.rank_genes_groups(adata_reynolds_fb_4820STDY7388991_loom, groupby='leiden')\n",
    "sc.pl.rank_genes_groups(adata_reynolds_fb_4820STDY7388991_loom)"
   ]
  },
  {
   "cell_type": "code",
   "execution_count": null,
   "id": "middle-health",
   "metadata": {},
   "outputs": [],
   "source": [
    "dict_cat = {'fb': ['LUM', 'PDGFRA', 'COL1A1'], 'peri': ['RGS5', 'MYL9', 'NDUFA4L2'], 'eritro': ['HBB', 'HBA2', 'HBA1'], \n",
    "            'immune': ['TPSB2', 'TPSAB1', 'HLA-DRA', 'FCER1G', 'CD74'], 'melanocyte': ['PMEL', 'MLANA'], \n",
    "            'mt': ['MTND2P28', 'MTND4P12', 'MTCO1P40', 'ADAM33', 'RN7SL2', 'MTRNR2L6']}\n",
    "\n",
    "assign_cats(adata_reynolds_fb_4820STDY7388991_loom, dict_cat)"
   ]
  },
  {
   "cell_type": "code",
   "execution_count": null,
   "id": "ideal-auction",
   "metadata": {},
   "outputs": [],
   "source": [
    "sc.pl.umap(adata_reynolds_fb_4820STDY7388991_loom, color=['leiden', 'science_clustering', 'assigned_cats'], legend_loc='on data', cmap=magma)"
   ]
  },
  {
   "cell_type": "code",
   "execution_count": null,
   "id": "nuclear-cooper",
   "metadata": {},
   "outputs": [],
   "source": [
    "adata_reynolds_fb_4820STDY7388991_loom_fb = adata_reynolds_fb_4820STDY7388991_loom[adata_reynolds_fb_4820STDY7388991_loom.obs['assigned_cats'] == 'fb']"
   ]
  },
  {
   "cell_type": "code",
   "execution_count": null,
   "id": "strange-hierarchy",
   "metadata": {},
   "outputs": [],
   "source": [
    "sc.pp.filter_genes(adata_reynolds_fb_4820STDY7388991_loom_fb, min_counts=1)"
   ]
  },
  {
   "cell_type": "code",
   "execution_count": null,
   "id": "passing-feeling",
   "metadata": {},
   "outputs": [],
   "source": [
    "sc.pp.pca(adata_reynolds_fb_4820STDY7388991_loom_fb, random_state=seed, n_comps=30)\n",
    "tk.tl.triku(adata_reynolds_fb_4820STDY7388991_loom_fb, n_procs=1, random_state=seed, use_adata_knn=True)\n",
    "sc.pp.neighbors(adata_reynolds_fb_4820STDY7388991_loom_fb, metric='cosine')"
   ]
  },
  {
   "cell_type": "code",
   "execution_count": null,
   "id": "conditional-windows",
   "metadata": {},
   "outputs": [],
   "source": [
    "sc.tl.umap(adata_reynolds_fb_4820STDY7388991_loom_fb, min_dist=0.2, random_state=seed)\n",
    "sc.tl.leiden(adata_reynolds_fb_4820STDY7388991_loom_fb, resolution=1, random_state=seed)"
   ]
  },
  {
   "cell_type": "code",
   "execution_count": null,
   "id": "unknown-glory",
   "metadata": {},
   "outputs": [],
   "source": [
    "sc.pl.umap(adata_reynolds_fb_4820STDY7388991_loom_fb, color=['leiden', 'science_clustering'], cmap=magma, use_raw=False, legend_loc='on data')"
   ]
  },
  {
   "cell_type": "code",
   "execution_count": null,
   "id": "inclusive-factory",
   "metadata": {},
   "outputs": [],
   "source": [
    "sc.pl.umap(adata_reynolds_fb_4820STDY7388991_loom_fb, color=['leiden', 'SFRP2', 'PI16', 'SLPI', 'WIF1', 'COL18A1', 'COMP', \n",
    "                                               'APOE', 'CCL2',  'ITM2A', 'SPSB1', \n",
    "                                               'CCDC146', 'CCL19', 'CD74', \n",
    "                                               'DKK3', 'TNN', 'SFRP1', 'POSTN'], cmap=magma, use_raw=False, legend_loc='on data')"
   ]
  },
  {
   "cell_type": "markdown",
   "id": "single-strength",
   "metadata": {},
   "source": [
    "## 4820STDY7388999"
   ]
  },
  {
   "cell_type": "markdown",
   "id": "straight-nudist",
   "metadata": {},
   "source": [
    "### Reynolds preprocessed"
   ]
  },
  {
   "cell_type": "code",
   "execution_count": null,
   "id": "aerial-multimedia",
   "metadata": {},
   "outputs": [],
   "source": [
    "adata_reynolds_fb_4820STDY7388999 = adata_reynolds_fb_healthy[adata_reynolds_fb_healthy.obs['sample_id'].isin(['4820STDY7388999'])]  #selected_samples)]"
   ]
  },
  {
   "cell_type": "code",
   "execution_count": null,
   "id": "jewish-holocaust",
   "metadata": {},
   "outputs": [],
   "source": [
    "adata_reynolds_fb_4820STDY7388999"
   ]
  },
  {
   "cell_type": "code",
   "execution_count": null,
   "id": "accurate-prevention",
   "metadata": {},
   "outputs": [],
   "source": [
    "sc.pp.filter_genes(adata_reynolds_fb_4820STDY7388999, min_counts=1)"
   ]
  },
  {
   "cell_type": "code",
   "execution_count": null,
   "id": "similar-windows",
   "metadata": {},
   "outputs": [],
   "source": [
    "sc.pp.pca(adata_reynolds_fb_4820STDY7388999, random_state=seed, n_comps=30)\n",
    "tk.tl.triku(adata_reynolds_fb_4820STDY7388999, n_procs=1, random_state=seed, use_adata_knn=True)\n",
    "sc.pp.neighbors(adata_reynolds_fb_4820STDY7388999, metric='cosine')"
   ]
  },
  {
   "cell_type": "code",
   "execution_count": null,
   "id": "indonesian-silence",
   "metadata": {},
   "outputs": [],
   "source": [
    "sc.tl.umap(adata_reynolds_fb_4820STDY7388999, min_dist=0.3, random_state=seed)"
   ]
  },
  {
   "cell_type": "code",
   "execution_count": null,
   "id": "banned-standard",
   "metadata": {},
   "outputs": [],
   "source": [
    "sc.tl.leiden(adata_reynolds_fb_4820STDY7388999, resolution=1, random_state=seed)"
   ]
  },
  {
   "cell_type": "code",
   "execution_count": null,
   "id": "catholic-interview",
   "metadata": {},
   "outputs": [],
   "source": [
    "sc.pl.umap(adata_reynolds_fb_4820STDY7388999, color=['leiden', 'sample_id', 'full_clustering'], legend_loc='on data')"
   ]
  },
  {
   "cell_type": "code",
   "execution_count": null,
   "id": "parliamentary-trash",
   "metadata": {},
   "outputs": [],
   "source": [
    "sc.pl.umap(adata_reynolds_fb_4820STDY7388999, color=['APCDD1', 'COL18A1', 'COMP', 'SLPI', 'WIF1'], cmap=magma, use_raw=False)"
   ]
  },
  {
   "cell_type": "code",
   "execution_count": null,
   "id": "piano-exposure",
   "metadata": {},
   "outputs": [],
   "source": [
    "sc.pl.umap(adata_reynolds_fb_4820STDY7388999, color=['MT2A', 'CCL19', 'CCL2', 'CD46'], cmap=magma, use_raw=False)"
   ]
  },
  {
   "cell_type": "code",
   "execution_count": null,
   "id": "starting-johns",
   "metadata": {},
   "outputs": [],
   "source": [
    "sc.pl.umap(adata_reynolds_fb_4820STDY7388999, color=['POSTN', 'COMP', 'COCH'], cmap=magma, use_raw=False)"
   ]
  },
  {
   "cell_type": "markdown",
   "id": "realistic-southeast",
   "metadata": {},
   "source": [
    "### Direct loom"
   ]
  },
  {
   "cell_type": "code",
   "execution_count": null,
   "id": "dominant-geometry",
   "metadata": {},
   "outputs": [],
   "source": [
    "adata_reynolds_fb_4820STDY7388999_loom = sc.read('reynolds_2020/reynolds_2020_8_4820STDY7388999_s2_dermis_fibroblasts.loom', \n",
    "                                                 backup_url='https://zenodo.org/record/4596375/files/reynolds_2020_8_4820STDY7388999_s2_dermis_fibroblasts.loom')\n",
    "\n",
    "adata_reynolds_fb_4820STDY7388999_loom.var_names_make_unique()"
   ]
  },
  {
   "cell_type": "code",
   "execution_count": null,
   "id": "objective-region",
   "metadata": {},
   "outputs": [],
   "source": [
    "adata_reynolds_fb_4820STDY7388999_loom.obs_names = [f\"{i.split('_')[-1]}-1-{i.split('_')[1]}\" for i in adata_reynolds_fb_4820STDY7388999_loom.obs_names]"
   ]
  },
  {
   "cell_type": "code",
   "execution_count": null,
   "id": "selective-chamber",
   "metadata": {},
   "outputs": [],
   "source": [
    "df_fb_type = pd.Series('Other', index=adata_reynolds_fb_4820STDY7388999_loom.obs_names)\n",
    "df_fb_type.loc[adata_reynolds_fb_4820STDY7388999.obs_names & adata_reynolds_fb_4820STDY7388999_loom.obs_names] = adata_reynolds_fb_4820STDY7388999[adata_reynolds_fb_4820STDY7388999.obs_names & adata_reynolds_fb_4820STDY7388999_loom.obs_names].obs['full_clustering']\n",
    "adata_reynolds_fb_4820STDY7388999_loom.obs['science_clustering'] = df_fb_type"
   ]
  },
  {
   "cell_type": "code",
   "execution_count": null,
   "id": "charming-sugar",
   "metadata": {},
   "outputs": [],
   "source": [
    "sc.pp.calculate_qc_metrics(adata_reynolds_fb_4820STDY7388999_loom, inplace=True)"
   ]
  },
  {
   "cell_type": "code",
   "execution_count": null,
   "id": "daily-cleveland",
   "metadata": {},
   "outputs": [],
   "source": [
    "sc.pl.violin(adata_reynolds_fb_4820STDY7388999_loom, ['n_genes_by_counts'])\n",
    "sc.pl.violin(adata_reynolds_fb_4820STDY7388999_loom, ['log1p_total_counts'])"
   ]
  },
  {
   "cell_type": "code",
   "execution_count": null,
   "id": "danish-accountability",
   "metadata": {},
   "outputs": [],
   "source": [
    "sc.pp.filter_genes(adata_reynolds_fb_4820STDY7388999_loom, min_counts=30)\n",
    "sc.pp.normalize_per_cell(adata_reynolds_fb_4820STDY7388999_loom)\n",
    "sc.pp.log1p(adata_reynolds_fb_4820STDY7388999_loom)"
   ]
  },
  {
   "cell_type": "code",
   "execution_count": null,
   "id": "paperback-nancy",
   "metadata": {},
   "outputs": [],
   "source": [
    "sc.pp.pca(adata_reynolds_fb_4820STDY7388999_loom, random_state=seed, n_comps=30)\n",
    "tk.tl.triku(adata_reynolds_fb_4820STDY7388999_loom, n_procs=1, random_state=seed, use_adata_knn=True)\n",
    "sc.pp.neighbors(adata_reynolds_fb_4820STDY7388999_loom, metric='cosine')"
   ]
  },
  {
   "cell_type": "code",
   "execution_count": null,
   "id": "located-airport",
   "metadata": {},
   "outputs": [],
   "source": [
    "sc.tl.umap(adata_reynolds_fb_4820STDY7388999_loom, min_dist=0.3, random_state=seed)\n",
    "sc.tl.leiden(adata_reynolds_fb_4820STDY7388999_loom, resolution=0.5, random_state=seed)"
   ]
  },
  {
   "cell_type": "code",
   "execution_count": null,
   "id": "isolated-ladder",
   "metadata": {},
   "outputs": [],
   "source": [
    "sc.pl.umap(adata_reynolds_fb_4820STDY7388999_loom, color=['leiden', 'science_clustering'], legend_loc='on data')"
   ]
  },
  {
   "cell_type": "code",
   "execution_count": null,
   "id": "deluxe-sydney",
   "metadata": {},
   "outputs": [],
   "source": [
    "sc.pl.umap(adata_reynolds_fb_4820STDY7388999_loom, color=['LUM', 'PDGFRA', 'VIM', 'COL1A1', 'SFRP2', 'APOE', 'POSTN'], legend_loc='on data', cmap=magma)"
   ]
  },
  {
   "cell_type": "code",
   "execution_count": null,
   "id": "aging-equivalent",
   "metadata": {},
   "outputs": [],
   "source": [
    "sc.pl.umap(adata_reynolds_fb_4820STDY7388999_loom, color=['leiden', 'SFRP2', 'PI16', 'SLPI', 'WIF1', 'COL18A1', 'COMP', \n",
    "                                               'APOE', 'CCL2',  'ITM2A', 'SPSB1', \n",
    "                                               'CCDC146', 'CCL19', 'CD74', \n",
    "                                               'DKK3', 'TNN', 'SFRP1'], cmap=magma, use_raw=False, legend_loc='on data')"
   ]
  },
  {
   "cell_type": "code",
   "execution_count": null,
   "id": "magnetic-thursday",
   "metadata": {},
   "outputs": [],
   "source": [
    "sc.pl.umap(adata_reynolds_fb_4820STDY7388999_loom, color=['leiden', \n",
    "                                                          'DMKN', 'KRT1'], cmap=magma, use_raw=False, legend_loc='on data')"
   ]
  },
  {
   "cell_type": "code",
   "execution_count": null,
   "id": "distinguished-wichita",
   "metadata": {},
   "outputs": [],
   "source": [
    "dict_cat = {'fb': ['LUM', 'PDGFRA', 'COL1A1', 'SFRP2', 'CCL19'], 'peri': ['RGS5', 'MYL9', 'NDUFA4L2'], 'eritro': ['HBB', 'HBA2', 'HBA1'], \n",
    "            'immune': ['TPSB2', 'TRAC', 'TPSAB1', 'HLA-DRA', 'FCER1G', 'CD74'], 'endo': ['CLDN5', 'PECAM1'], 'kerato': ['DMKN', 'KRT1'],\n",
    "            'mt': ['MTND2P28', 'MTND4P12', 'MTCO1P40', 'ADAM33', 'RN7SL2', 'MTRNR2L6']}\n",
    "\n",
    "assign_cats(adata_reynolds_fb_4820STDY7388999_loom, dict_cat)"
   ]
  },
  {
   "cell_type": "code",
   "execution_count": null,
   "id": "handy-briefs",
   "metadata": {},
   "outputs": [],
   "source": [
    "sc.pl.umap(adata_reynolds_fb_4820STDY7388999_loom, color=['leiden', 'science_clustering', 'assigned_cats'], legend_loc='on data', cmap=magma)"
   ]
  },
  {
   "cell_type": "code",
   "execution_count": null,
   "id": "inappropriate-disabled",
   "metadata": {},
   "outputs": [],
   "source": [
    "sc.tl.rank_genes_groups(adata_reynolds_fb_4820STDY7388999_loom, groupby='leiden')\n",
    "sc.pl.rank_genes_groups(adata_reynolds_fb_4820STDY7388999_loom)"
   ]
  },
  {
   "cell_type": "code",
   "execution_count": null,
   "id": "smooth-humanity",
   "metadata": {},
   "outputs": [],
   "source": [
    "adata_reynolds_fb_4820STDY7388999_loom = adata_reynolds_fb_4820STDY7388999_loom[adata_reynolds_fb_4820STDY7388999_loom.obs['assigned_cats'] == 'fb']"
   ]
  },
  {
   "cell_type": "code",
   "execution_count": null,
   "id": "serious-receiver",
   "metadata": {},
   "outputs": [],
   "source": [
    "sc.pp.filter_genes(adata_reynolds_fb_4820STDY7388999_loom, min_counts=1)"
   ]
  },
  {
   "cell_type": "code",
   "execution_count": null,
   "id": "interim-gregory",
   "metadata": {},
   "outputs": [],
   "source": [
    "sc.pp.pca(adata_reynolds_fb_4820STDY7388999_loom, random_state=seed, n_comps=30)\n",
    "tk.tl.triku(adata_reynolds_fb_4820STDY7388999_loom, n_procs=1, random_state=seed, use_adata_knn=True)\n",
    "sc.pp.neighbors(adata_reynolds_fb_4820STDY7388999_loom, metric='cosine')"
   ]
  },
  {
   "cell_type": "code",
   "execution_count": null,
   "id": "continent-distance",
   "metadata": {},
   "outputs": [],
   "source": [
    "sc.tl.umap(adata_reynolds_fb_4820STDY7388999_loom, min_dist=0.05, random_state=seed)\n",
    "sc.tl.leiden(adata_reynolds_fb_4820STDY7388999_loom, resolution=1.2, random_state=seed)"
   ]
  },
  {
   "cell_type": "code",
   "execution_count": null,
   "id": "extreme-picnic",
   "metadata": {},
   "outputs": [],
   "source": [
    "sc.pl.umap(adata_reynolds_fb_4820STDY7388999_loom, color=['leiden', 'science_clustering'], cmap=magma, use_raw=False, legend_loc='on data')"
   ]
  },
  {
   "cell_type": "code",
   "execution_count": null,
   "id": "quality-cisco",
   "metadata": {},
   "outputs": [],
   "source": [
    "sc.pl.umap(adata_reynolds_fb_4820STDY7388999_loom, color=['leiden', 'SFRP2', 'PI16', 'SLPI', 'WIF1', 'COL18A1', 'COMP', \n",
    "                                               'APOE', 'CCL2',  'ITM2A', 'SPSB1', \n",
    "                                               'CCDC146', 'CCL19', 'CD74', \n",
    "                                               'DKK3', 'TNN', 'SFRP1', 'EDNRB', 'IGFBP7'], cmap=magma, use_raw=False, legend_loc='on data')"
   ]
  },
  {
   "cell_type": "code",
   "execution_count": null,
   "id": "legendary-steps",
   "metadata": {},
   "outputs": [],
   "source": [
    "sc.tl.rank_genes_groups(adata_reynolds_fb_4820STDY7388999_loom, groupby='leiden')"
   ]
  },
  {
   "cell_type": "code",
   "execution_count": null,
   "id": "national-encyclopedia",
   "metadata": {},
   "outputs": [],
   "source": [
    "sc.pl.rank_genes_groups(adata_reynolds_fb_4820STDY7388999_loom)"
   ]
  },
  {
   "cell_type": "markdown",
   "id": "satisfied-brazilian",
   "metadata": {},
   "source": [
    "## 4820STDY7389007"
   ]
  },
  {
   "cell_type": "markdown",
   "id": "existing-congress",
   "metadata": {},
   "source": [
    "### Reynolds preprocessed"
   ]
  },
  {
   "cell_type": "code",
   "execution_count": null,
   "id": "engaging-statement",
   "metadata": {},
   "outputs": [],
   "source": [
    "adata_reynolds_fb_4820STDY7389007 = adata_reynolds_fb_healthy[adata_reynolds_fb_healthy.obs['sample_id'].isin(['4820STDY7389007'])]  #selected_samples)]"
   ]
  },
  {
   "cell_type": "code",
   "execution_count": null,
   "id": "swedish-legend",
   "metadata": {},
   "outputs": [],
   "source": [
    "adata_reynolds_fb_4820STDY7389007"
   ]
  },
  {
   "cell_type": "code",
   "execution_count": null,
   "id": "meaningful-blame",
   "metadata": {},
   "outputs": [],
   "source": [
    "sc.pp.filter_genes(adata_reynolds_fb_4820STDY7389007, min_counts=1)"
   ]
  },
  {
   "cell_type": "code",
   "execution_count": null,
   "id": "romantic-mailing",
   "metadata": {},
   "outputs": [],
   "source": [
    "sc.pp.pca(adata_reynolds_fb_4820STDY7389007, random_state=seed, n_comps=30)\n",
    "tk.tl.triku(adata_reynolds_fb_4820STDY7389007, n_procs=1, random_state=seed, use_adata_knn=True)\n",
    "sc.pp.neighbors(adata_reynolds_fb_4820STDY7389007, metric='cosine')"
   ]
  },
  {
   "cell_type": "code",
   "execution_count": null,
   "id": "spiritual-strap",
   "metadata": {},
   "outputs": [],
   "source": [
    "sc.tl.umap(adata_reynolds_fb_4820STDY7389007, min_dist=0.3, random_state=seed)"
   ]
  },
  {
   "cell_type": "code",
   "execution_count": null,
   "id": "religious-nerve",
   "metadata": {},
   "outputs": [],
   "source": [
    "sc.tl.leiden(adata_reynolds_fb_4820STDY7389007, resolution=1, random_state=seed)"
   ]
  },
  {
   "cell_type": "code",
   "execution_count": null,
   "id": "unable-gospel",
   "metadata": {},
   "outputs": [],
   "source": [
    "sc.pl.umap(adata_reynolds_fb_4820STDY7389007, color=['leiden', 'sample_id', 'full_clustering'], legend_loc='on data')"
   ]
  },
  {
   "cell_type": "code",
   "execution_count": null,
   "id": "little-norwegian",
   "metadata": {},
   "outputs": [],
   "source": [
    "sc.pl.umap(adata_reynolds_fb_4820STDY7389007, color=['APCDD1', 'COL18A1', 'COMP', 'SLPI', 'WIF1'], cmap=magma, use_raw=False)"
   ]
  },
  {
   "cell_type": "code",
   "execution_count": null,
   "id": "conscious-helicopter",
   "metadata": {},
   "outputs": [],
   "source": [
    "sc.pl.umap(adata_reynolds_fb_4820STDY7389007, color=['MT2A', 'CCL19', 'CCL2', 'CD46'], cmap=magma, use_raw=False)"
   ]
  },
  {
   "cell_type": "code",
   "execution_count": null,
   "id": "unexpected-humor",
   "metadata": {},
   "outputs": [],
   "source": [
    "sc.pl.umap(adata_reynolds_fb_4820STDY7389007, color=['POSTN', 'COMP', 'COCH'], cmap=magma, use_raw=False)"
   ]
  },
  {
   "cell_type": "markdown",
   "id": "daily-twist",
   "metadata": {},
   "source": [
    "### Direct loom"
   ]
  },
  {
   "cell_type": "code",
   "execution_count": null,
   "id": "parental-ensemble",
   "metadata": {},
   "outputs": [],
   "source": [
    "adata_reynolds_fb_4820STDY7389007_loom = sc.read('reynolds_2020/reynolds_2020_16_4820STDY7389007_s3_dermis_fibroblasts.loom', \n",
    "                                                 backup_url='https://zenodo.org/record/4596375/files/reynolds_2020_16_4820STDY7389007_s3_dermis_fibroblasts.loom')\n",
    "\n",
    "adata_reynolds_fb_4820STDY7389007_loom.var_names_make_unique()"
   ]
  },
  {
   "cell_type": "code",
   "execution_count": null,
   "id": "public-budapest",
   "metadata": {},
   "outputs": [],
   "source": [
    "adata_reynolds_fb_4820STDY7389007_loom.obs_names = [f\"{i.split('_')[-1]}-1-{i.split('_')[1]}\" for i in adata_reynolds_fb_4820STDY7389007_loom.obs_names]"
   ]
  },
  {
   "cell_type": "code",
   "execution_count": null,
   "id": "automotive-finish",
   "metadata": {},
   "outputs": [],
   "source": [
    "df_fb_type = pd.Series('-', index=adata_reynolds_fb_4820STDY7389007_loom.obs_names)\n",
    "df_fb_type.loc[adata_reynolds_fb_4820STDY7389007.obs_names & adata_reynolds_fb_4820STDY7389007_loom.obs_names] = adata_reynolds_fb_4820STDY7389007[adata_reynolds_fb_4820STDY7389007.obs_names & adata_reynolds_fb_4820STDY7389007_loom.obs_names].obs['full_clustering']\n",
    "adata_reynolds_fb_4820STDY7389007_loom.obs['science_clustering'] = df_fb_type"
   ]
  },
  {
   "cell_type": "code",
   "execution_count": null,
   "id": "jewish-railway",
   "metadata": {},
   "outputs": [],
   "source": [
    "sc.pp.calculate_qc_metrics(adata_reynolds_fb_4820STDY7389007_loom, inplace=True)"
   ]
  },
  {
   "cell_type": "code",
   "execution_count": null,
   "id": "significant-dictionary",
   "metadata": {},
   "outputs": [],
   "source": [
    "sc.pl.violin(adata_reynolds_fb_4820STDY7389007_loom, ['n_genes_by_counts'])\n",
    "sc.pl.violin(adata_reynolds_fb_4820STDY7389007_loom, ['log1p_total_counts'])"
   ]
  },
  {
   "cell_type": "code",
   "execution_count": null,
   "id": "tribal-pollution",
   "metadata": {},
   "outputs": [],
   "source": [
    "sc.pp.filter_genes(adata_reynolds_fb_4820STDY7389007_loom, min_counts=30)\n",
    "sc.pp.normalize_per_cell(adata_reynolds_fb_4820STDY7389007_loom)\n",
    "sc.pp.log1p(adata_reynolds_fb_4820STDY7389007_loom)"
   ]
  },
  {
   "cell_type": "code",
   "execution_count": null,
   "id": "wireless-leave",
   "metadata": {},
   "outputs": [],
   "source": [
    "sc.pp.pca(adata_reynolds_fb_4820STDY7389007_loom, random_state=seed, n_comps=30)\n",
    "tk.tl.triku(adata_reynolds_fb_4820STDY7389007_loom, n_procs=1, random_state=seed, use_adata_knn=True)\n",
    "sc.pp.neighbors(adata_reynolds_fb_4820STDY7389007_loom, metric='cosine')"
   ]
  },
  {
   "cell_type": "code",
   "execution_count": null,
   "id": "light-rider",
   "metadata": {},
   "outputs": [],
   "source": [
    "sc.tl.umap(adata_reynolds_fb_4820STDY7389007_loom, min_dist=0.3, random_state=seed)\n",
    "sc.tl.leiden(adata_reynolds_fb_4820STDY7389007_loom, resolution=0.8, random_state=seed)"
   ]
  },
  {
   "cell_type": "code",
   "execution_count": null,
   "id": "creative-weather",
   "metadata": {},
   "outputs": [],
   "source": [
    "sc.pl.umap(adata_reynolds_fb_4820STDY7389007_loom, color=['leiden', 'science_clustering'], legend_loc='on data')"
   ]
  },
  {
   "cell_type": "code",
   "execution_count": null,
   "id": "distinguished-waters",
   "metadata": {},
   "outputs": [],
   "source": [
    "sc.pl.umap(adata_reynolds_fb_4820STDY7389007_loom, color=['LUM', 'PDGFRA', 'VIM', 'COL1A1', 'SFRP2', 'APOE', 'POSTN', 'RGS5', 'MYL9', 'NDUFA4L2', 'HBB'], legend_loc='on data', cmap=magma)"
   ]
  },
  {
   "cell_type": "code",
   "execution_count": null,
   "id": "enabling-final",
   "metadata": {},
   "outputs": [],
   "source": [
    "sc.pl.umap(adata_reynolds_fb_4820STDY7389007_loom, color=['leiden', 'SFRP2', 'PI16', 'SLPI', 'WIF1', 'COL18A1', 'COMP', \n",
    "                                               'APOE', 'CCL2',  'ITM2A', 'SPSB1', \n",
    "                                               'CCDC146', 'CCL19', 'CD74'], cmap=magma, use_raw=False, legend_loc='on data')"
   ]
  },
  {
   "cell_type": "code",
   "execution_count": null,
   "id": "processed-tourist",
   "metadata": {},
   "outputs": [],
   "source": [
    "dict_cat = {'fb': ['LUM', 'PDGFRA', 'COL1A1', 'SFRP2', 'CCL19'], 'peri': ['RGS5', 'MYL9', 'NDUFA4L2'], 'eritro': ['HBB', 'HBA2', 'HBA1'], \n",
    "            'immune': ['TPSB2', 'TRAC', 'TPSAB1', 'HLA-DRA', 'FCER1G'], 'kerato': ['DMKN', 'KRT1'],\n",
    "            'mt': ['MTND2P28', 'MTND4P12', 'MTCO1P40', 'ADAM33', 'RN7SL2', 'MTRNR2L6']}\n",
    "\n",
    "assign_cats(adata_reynolds_fb_4820STDY7389007_loom, dict_cat)"
   ]
  },
  {
   "cell_type": "code",
   "execution_count": null,
   "id": "reported-accommodation",
   "metadata": {},
   "outputs": [],
   "source": [
    "sc.pl.umap(adata_reynolds_fb_4820STDY7389007_loom, color=['leiden', 'science_clustering', 'assigned_cats'], legend_loc='on data', cmap=magma)"
   ]
  },
  {
   "cell_type": "code",
   "execution_count": null,
   "id": "valuable-wilderness",
   "metadata": {},
   "outputs": [],
   "source": [
    "sc.tl.rank_genes_groups(adata_reynolds_fb_4820STDY7389007_loom, groupby='leiden')\n",
    "sc.pl.rank_genes_groups(adata_reynolds_fb_4820STDY7389007_loom)"
   ]
  },
  {
   "cell_type": "code",
   "execution_count": null,
   "id": "spread-general",
   "metadata": {},
   "outputs": [],
   "source": [
    "adata_reynolds_fb_4820STDY7389007_loom = adata_reynolds_fb_4820STDY7389007_loom[adata_reynolds_fb_4820STDY7389007_loom.obs['assigned_cats'] == 'fb']"
   ]
  },
  {
   "cell_type": "code",
   "execution_count": null,
   "id": "binding-jenny",
   "metadata": {},
   "outputs": [],
   "source": [
    "sc.pp.filter_genes(adata_reynolds_fb_4820STDY7389007_loom, min_counts=1)"
   ]
  },
  {
   "cell_type": "code",
   "execution_count": null,
   "id": "photographic-fetish",
   "metadata": {},
   "outputs": [],
   "source": [
    "sc.pp.pca(adata_reynolds_fb_4820STDY7389007_loom, random_state=seed, n_comps=30)\n",
    "tk.tl.triku(adata_reynolds_fb_4820STDY7389007_loom, n_procs=1, random_state=seed, use_adata_knn=True)\n",
    "sc.pp.neighbors(adata_reynolds_fb_4820STDY7389007_loom, metric='cosine')"
   ]
  },
  {
   "cell_type": "code",
   "execution_count": null,
   "id": "removable-marketplace",
   "metadata": {},
   "outputs": [],
   "source": [
    "sc.tl.umap(adata_reynolds_fb_4820STDY7389007_loom, min_dist=0.05, random_state=seed)\n",
    "sc.tl.leiden(adata_reynolds_fb_4820STDY7389007_loom, resolution=1.2, random_state=seed)"
   ]
  },
  {
   "cell_type": "code",
   "execution_count": null,
   "id": "protecting-jacob",
   "metadata": {},
   "outputs": [],
   "source": [
    "sc.pl.umap(adata_reynolds_fb_4820STDY7389007_loom, color=['leiden', 'science_clustering'], cmap=magma, use_raw=False, legend_loc='on data')"
   ]
  },
  {
   "cell_type": "code",
   "execution_count": null,
   "id": "parental-beginning",
   "metadata": {},
   "outputs": [],
   "source": [
    "sc.pl.umap(adata_reynolds_fb_4820STDY7389007_loom, color=['leiden', 'SFRP2', 'PI16', 'SLPI', 'WIF1', 'COL18A1', 'COMP', \n",
    "                                               'APOE', 'CCL2',  'ITM2A', 'SPSB1', \n",
    "                                               'CCDC146', 'CCL19', 'CD74'], cmap=magma, use_raw=False, legend_loc='on data')"
   ]
  },
  {
   "cell_type": "markdown",
   "id": "mechanical-handbook",
   "metadata": {},
   "source": [
    "## SKN8104899"
   ]
  },
  {
   "cell_type": "markdown",
   "id": "indirect-perspective",
   "metadata": {},
   "source": [
    "### Reynolds preprocessed"
   ]
  },
  {
   "cell_type": "code",
   "execution_count": null,
   "id": "regular-height",
   "metadata": {},
   "outputs": [],
   "source": [
    "adata_reynolds_fb_SKN8104899 = adata_reynolds_fb_healthy[adata_reynolds_fb_healthy.obs['sample_id'].isin(['SKN8104899'])]  #selected_samples)]"
   ]
  },
  {
   "cell_type": "code",
   "execution_count": null,
   "id": "nominated-foundation",
   "metadata": {},
   "outputs": [],
   "source": [
    "adata_reynolds_fb_SKN8104899"
   ]
  },
  {
   "cell_type": "code",
   "execution_count": null,
   "id": "acute-detection",
   "metadata": {},
   "outputs": [],
   "source": [
    "sc.pp.filter_genes(adata_reynolds_fb_SKN8104899, min_counts=1)"
   ]
  },
  {
   "cell_type": "code",
   "execution_count": null,
   "id": "specific-philippines",
   "metadata": {},
   "outputs": [],
   "source": [
    "sc.pp.pca(adata_reynolds_fb_SKN8104899, random_state=seed, n_comps=30)\n",
    "tk.tl.triku(adata_reynolds_fb_SKN8104899, n_procs=1, random_state=seed, use_adata_knn=True)\n",
    "sc.pp.neighbors(adata_reynolds_fb_SKN8104899, metric='cosine')"
   ]
  },
  {
   "cell_type": "code",
   "execution_count": null,
   "id": "immediate-surface",
   "metadata": {},
   "outputs": [],
   "source": [
    "sc.tl.umap(adata_reynolds_fb_SKN8104899, min_dist=0.3, random_state=seed)"
   ]
  },
  {
   "cell_type": "code",
   "execution_count": null,
   "id": "paperback-bibliography",
   "metadata": {},
   "outputs": [],
   "source": [
    "sc.tl.leiden(adata_reynolds_fb_SKN8104899, resolution=1, random_state=seed)"
   ]
  },
  {
   "cell_type": "code",
   "execution_count": null,
   "id": "further-ivory",
   "metadata": {},
   "outputs": [],
   "source": [
    "sc.pl.umap(adata_reynolds_fb_SKN8104899, color=['leiden', 'sample_id', 'full_clustering'], legend_loc='on data')"
   ]
  },
  {
   "cell_type": "code",
   "execution_count": null,
   "id": "composed-organic",
   "metadata": {},
   "outputs": [],
   "source": [
    "sc.pl.umap(adata_reynolds_fb_SKN8104899, color=['APCDD1', 'COL18A1', 'COMP', 'SLPI', 'WIF1'], cmap=magma, use_raw=False)"
   ]
  },
  {
   "cell_type": "code",
   "execution_count": null,
   "id": "round-trout",
   "metadata": {},
   "outputs": [],
   "source": [
    "sc.pl.umap(adata_reynolds_fb_SKN8104899, color=['MT2A', 'CCL19', 'CCL2', 'CD46'], cmap=magma, use_raw=False)"
   ]
  },
  {
   "cell_type": "markdown",
   "id": "oriental-eleven",
   "metadata": {},
   "source": [
    "### Direct loom"
   ]
  },
  {
   "cell_type": "code",
   "execution_count": null,
   "id": "immediate-arbitration",
   "metadata": {},
   "outputs": [],
   "source": [
    "adata_reynolds_fb_SKN8104899_loom = sc.read('reynolds_2020/reynolds_2020_84_SKN8104899_S4_dermis_fibroblasts.loom', \n",
    "                                                 backup_url='https://zenodo.org/record/4596375/files/reynolds_2020_84_SKN8104899_S4_dermis_fibroblasts.loom')\n",
    "\n",
    "adata_reynolds_fb_SKN8104899_loom.var_names_make_unique()"
   ]
  },
  {
   "cell_type": "code",
   "execution_count": null,
   "id": "handmade-affair",
   "metadata": {},
   "outputs": [],
   "source": [
    "adata_reynolds_fb_SKN8104899_loom.obs_names = [f\"{i.split('_')[-1]}-1-{i.split('_')[1]}\" for i in adata_reynolds_fb_SKN8104899_loom.obs_names]"
   ]
  },
  {
   "cell_type": "code",
   "execution_count": null,
   "id": "substantial-airline",
   "metadata": {},
   "outputs": [],
   "source": [
    "df_fb_type = pd.Series('-', index=adata_reynolds_fb_SKN8104899_loom.obs_names)\n",
    "df_fb_type.loc[adata_reynolds_fb_SKN8104899.obs_names & adata_reynolds_fb_SKN8104899_loom.obs_names] = adata_reynolds_fb_SKN8104899[adata_reynolds_fb_SKN8104899.obs_names & adata_reynolds_fb_SKN8104899_loom.obs_names].obs['full_clustering']\n",
    "adata_reynolds_fb_SKN8104899_loom.obs['science_clustering'] = df_fb_type"
   ]
  },
  {
   "cell_type": "code",
   "execution_count": null,
   "id": "hungarian-canadian",
   "metadata": {},
   "outputs": [],
   "source": [
    "sc.pp.calculate_qc_metrics(adata_reynolds_fb_SKN8104899_loom, inplace=True)"
   ]
  },
  {
   "cell_type": "code",
   "execution_count": null,
   "id": "similar-entity",
   "metadata": {},
   "outputs": [],
   "source": [
    "sc.pl.violin(adata_reynolds_fb_SKN8104899_loom, ['n_genes_by_counts'])\n",
    "sc.pl.violin(adata_reynolds_fb_SKN8104899_loom, ['log1p_total_counts'])"
   ]
  },
  {
   "cell_type": "code",
   "execution_count": null,
   "id": "spoken-armor",
   "metadata": {},
   "outputs": [],
   "source": [
    "sc.pp.filter_genes(adata_reynolds_fb_SKN8104899_loom, min_counts=30)\n",
    "sc.pp.normalize_per_cell(adata_reynolds_fb_SKN8104899_loom)\n",
    "sc.pp.log1p(adata_reynolds_fb_SKN8104899_loom)"
   ]
  },
  {
   "cell_type": "code",
   "execution_count": null,
   "id": "adjustable-instruction",
   "metadata": {},
   "outputs": [],
   "source": [
    "sc.pp.pca(adata_reynolds_fb_SKN8104899_loom, random_state=seed, n_comps=30)\n",
    "tk.tl.triku(adata_reynolds_fb_SKN8104899_loom, n_procs=1, random_state=seed, use_adata_knn=True)\n",
    "sc.pp.neighbors(adata_reynolds_fb_SKN8104899_loom, metric='cosine')"
   ]
  },
  {
   "cell_type": "code",
   "execution_count": null,
   "id": "front-parker",
   "metadata": {},
   "outputs": [],
   "source": [
    "sc.tl.umap(adata_reynolds_fb_SKN8104899_loom, min_dist=0.3, random_state=seed)\n",
    "sc.tl.leiden(adata_reynolds_fb_SKN8104899_loom, resolution=0.8, random_state=seed)"
   ]
  },
  {
   "cell_type": "code",
   "execution_count": null,
   "id": "laden-uncle",
   "metadata": {},
   "outputs": [],
   "source": [
    "sc.pl.umap(adata_reynolds_fb_SKN8104899_loom, color=['leiden', 'science_clustering'], legend_loc='on data')"
   ]
  },
  {
   "cell_type": "code",
   "execution_count": null,
   "id": "immune-tobago",
   "metadata": {},
   "outputs": [],
   "source": [
    "sc.pl.umap(adata_reynolds_fb_SKN8104899_loom, color=['LUM', 'PDGFRA', 'VIM', 'COL1A1', 'SFRP2', 'APOE', 'POSTN', 'RGS5', 'MYL9', 'NDUFA4L2', 'HBB'], legend_loc='on data', cmap=magma)"
   ]
  },
  {
   "cell_type": "code",
   "execution_count": null,
   "id": "appropriate-union",
   "metadata": {},
   "outputs": [],
   "source": [
    "sc.pl.umap(adata_reynolds_fb_SKN8104899_loom, color=['leiden', 'SFRP2', 'PI16', 'SLPI', 'WIF1', 'COL18A1', 'COMP', \n",
    "                                               'APOE', 'CCL2',  'ITM2A', 'SPSB1', \n",
    "                                               'CCDC146', 'CCL19', 'CD74', 'POSTN'], cmap=magma, use_raw=False, legend_loc='on data')"
   ]
  },
  {
   "cell_type": "code",
   "execution_count": null,
   "id": "pleased-emission",
   "metadata": {},
   "outputs": [],
   "source": [
    "dict_cat = {'fb': ['LUM', 'PDGFRA', 'COL1A1', 'SFRP2', 'CCL19'], 'peri': ['RGS5', 'MYL9', 'NDUFA4L2'], 'eritro': ['HBB', 'HBA2', 'HBA1'], \n",
    "            'immune': ['TRAC', 'HLA-DRA', 'FCER1G'], 'kerato': ['DMKN', 'KRT1'],\n",
    "            'mt': ['MTND4P12', 'ADAM33', 'RN7SL2', ]}\n",
    "\n",
    "assign_cats(adata_reynolds_fb_SKN8104899_loom, dict_cat)"
   ]
  },
  {
   "cell_type": "code",
   "execution_count": null,
   "id": "static-priest",
   "metadata": {},
   "outputs": [],
   "source": [
    "sc.pl.umap(adata_reynolds_fb_SKN8104899_loom, color=['leiden', 'science_clustering', 'assigned_cats'], legend_loc='on data', cmap=magma)"
   ]
  },
  {
   "cell_type": "code",
   "execution_count": null,
   "id": "isolated-laugh",
   "metadata": {},
   "outputs": [],
   "source": [
    "sc.tl.rank_genes_groups(adata_reynolds_fb_SKN8104899_loom, groupby='leiden')\n",
    "sc.pl.rank_genes_groups(adata_reynolds_fb_SKN8104899_loom)"
   ]
  },
  {
   "cell_type": "code",
   "execution_count": null,
   "id": "stopped-checklist",
   "metadata": {},
   "outputs": [],
   "source": [
    "adata_reynolds_fb_SKN8104899_loom = adata_reynolds_fb_SKN8104899_loom[adata_reynolds_fb_SKN8104899_loom.obs['assigned_cats'] == 'fb']"
   ]
  },
  {
   "cell_type": "code",
   "execution_count": null,
   "id": "imported-prompt",
   "metadata": {},
   "outputs": [],
   "source": [
    "sc.pp.filter_genes(adata_reynolds_fb_SKN8104899_loom, min_counts=1)"
   ]
  },
  {
   "cell_type": "code",
   "execution_count": null,
   "id": "piano-native",
   "metadata": {},
   "outputs": [],
   "source": [
    "sc.pp.pca(adata_reynolds_fb_SKN8104899_loom, random_state=seed, n_comps=30)\n",
    "tk.tl.triku(adata_reynolds_fb_SKN8104899_loom, n_procs=1, random_state=seed, use_adata_knn=True)\n",
    "sc.pp.neighbors(adata_reynolds_fb_SKN8104899_loom, metric='cosine')"
   ]
  },
  {
   "cell_type": "code",
   "execution_count": null,
   "id": "extraordinary-reach",
   "metadata": {},
   "outputs": [],
   "source": [
    "sc.tl.umap(adata_reynolds_fb_SKN8104899_loom, min_dist=0.05, random_state=seed)\n",
    "sc.tl.leiden(adata_reynolds_fb_SKN8104899_loom, resolution=1.2, random_state=seed)"
   ]
  },
  {
   "cell_type": "code",
   "execution_count": null,
   "id": "brown-possibility",
   "metadata": {},
   "outputs": [],
   "source": [
    "sc.pl.umap(adata_reynolds_fb_SKN8104899_loom, color=['leiden', 'science_clustering'], cmap=magma, use_raw=False, legend_loc='on data')"
   ]
  },
  {
   "cell_type": "code",
   "execution_count": null,
   "id": "sixth-nothing",
   "metadata": {},
   "outputs": [],
   "source": [
    "sc.pl.umap(adata_reynolds_fb_SKN8104899_loom, color=['leiden', 'SFRP2', 'PI16', 'SLPI', 'WIF1', 'COL18A1', 'COMP', \n",
    "                                               'APOE', 'CCL2',  'ITM2A', 'SPSB1', \n",
    "                                               'CCDC146', 'CCL19', 'CD74'], cmap=magma, use_raw=False, legend_loc='on data')"
   ]
  },
  {
   "cell_type": "markdown",
   "id": "amber-hundred",
   "metadata": {},
   "source": [
    "## SKN8105197"
   ]
  },
  {
   "cell_type": "markdown",
   "id": "understood-indianapolis",
   "metadata": {},
   "source": [
    "### Reynolds preprocessed"
   ]
  },
  {
   "cell_type": "code",
   "execution_count": null,
   "id": "random-estonia",
   "metadata": {},
   "outputs": [],
   "source": [
    "adata_reynolds_fb_SKN8105197 = adata_reynolds_fb_healthy[adata_reynolds_fb_healthy.obs['sample_id'].isin(['SKN8105197'])]  #selected_samples)]"
   ]
  },
  {
   "cell_type": "code",
   "execution_count": null,
   "id": "potential-legend",
   "metadata": {},
   "outputs": [],
   "source": [
    "adata_reynolds_fb_SKN8105197"
   ]
  },
  {
   "cell_type": "code",
   "execution_count": null,
   "id": "aboriginal-arrival",
   "metadata": {},
   "outputs": [],
   "source": [
    "sc.pp.filter_genes(adata_reynolds_fb_SKN8105197, min_counts=1)"
   ]
  },
  {
   "cell_type": "code",
   "execution_count": null,
   "id": "beautiful-train",
   "metadata": {},
   "outputs": [],
   "source": [
    "sc.pp.pca(adata_reynolds_fb_SKN8105197, random_state=seed, n_comps=30)\n",
    "tk.tl.triku(adata_reynolds_fb_SKN8105197, n_procs=1, random_state=seed, use_adata_knn=True)\n",
    "sc.pp.neighbors(adata_reynolds_fb_SKN8105197, metric='cosine')"
   ]
  },
  {
   "cell_type": "code",
   "execution_count": null,
   "id": "moderate-interstate",
   "metadata": {},
   "outputs": [],
   "source": [
    "sc.tl.umap(adata_reynolds_fb_SKN8105197, min_dist=0.3, random_state=seed)"
   ]
  },
  {
   "cell_type": "code",
   "execution_count": null,
   "id": "copyrighted-intellectual",
   "metadata": {},
   "outputs": [],
   "source": [
    "sc.tl.leiden(adata_reynolds_fb_SKN8105197, resolution=1, random_state=seed)"
   ]
  },
  {
   "cell_type": "code",
   "execution_count": null,
   "id": "alive-residence",
   "metadata": {},
   "outputs": [],
   "source": [
    "sc.pl.umap(adata_reynolds_fb_SKN8105197, color=['leiden', 'sample_id', 'full_clustering'], legend_loc='on data')"
   ]
  },
  {
   "cell_type": "code",
   "execution_count": null,
   "id": "impaired-hawaii",
   "metadata": {},
   "outputs": [],
   "source": [
    "sc.pl.umap(adata_reynolds_fb_SKN8105197, color=['APCDD1', 'COL18A1', 'COMP', 'SLPI', 'WIF1'], cmap=magma, use_raw=False)"
   ]
  },
  {
   "cell_type": "code",
   "execution_count": null,
   "id": "regulated-economy",
   "metadata": {},
   "outputs": [],
   "source": [
    "sc.pl.umap(adata_reynolds_fb_SKN8105197, color=['MT2A', 'CCL19', 'CCL2', 'CD46'], cmap=magma, use_raw=False)"
   ]
  },
  {
   "cell_type": "markdown",
   "id": "federal-majority",
   "metadata": {},
   "source": [
    "### Direct loom"
   ]
  },
  {
   "cell_type": "code",
   "execution_count": null,
   "id": "comprehensive-mystery",
   "metadata": {},
   "outputs": [],
   "source": [
    "adata_reynolds_fb_SKN8105197_loom = sc.read('reynolds_2020/reynolds_2020_92_SKN8105197_S5_dermis_fibroblasts.loom', \n",
    "                                                 backup_url='https://zenodo.org/record/4596375/files/reynolds_2020_92_SKN8105197_S5_dermis_fibroblasts.loom')\n",
    "adata_reynolds_fb_SKN8105197_loom.var_names_make_unique()"
   ]
  },
  {
   "cell_type": "code",
   "execution_count": null,
   "id": "inappropriate-split",
   "metadata": {},
   "outputs": [],
   "source": [
    "adata_reynolds_fb_SKN8105197_loom.obs_names = [f\"{i.split('_')[-1]}-1-{i.split('_')[1]}\" for i in adata_reynolds_fb_SKN8105197_loom.obs_names]"
   ]
  },
  {
   "cell_type": "code",
   "execution_count": null,
   "id": "collect-stress",
   "metadata": {},
   "outputs": [],
   "source": [
    "df_fb_type = pd.Series('-', index=adata_reynolds_fb_SKN8105197_loom.obs_names)\n",
    "df_fb_type.loc[adata_reynolds_fb_SKN8105197.obs_names & adata_reynolds_fb_SKN8105197_loom.obs_names] = adata_reynolds_fb_SKN8105197[adata_reynolds_fb_SKN8105197.obs_names & adata_reynolds_fb_SKN8105197_loom.obs_names].obs['full_clustering']\n",
    "adata_reynolds_fb_SKN8105197_loom.obs['science_clustering'] = df_fb_type"
   ]
  },
  {
   "cell_type": "code",
   "execution_count": null,
   "id": "crazy-corpus",
   "metadata": {},
   "outputs": [],
   "source": [
    "sc.pp.calculate_qc_metrics(adata_reynolds_fb_SKN8105197_loom, inplace=True)"
   ]
  },
  {
   "cell_type": "code",
   "execution_count": null,
   "id": "common-seventh",
   "metadata": {},
   "outputs": [],
   "source": [
    "sc.pl.violin(adata_reynolds_fb_SKN8105197_loom, ['n_genes_by_counts'])\n",
    "sc.pl.violin(adata_reynolds_fb_SKN8105197_loom, ['log1p_total_counts'])"
   ]
  },
  {
   "cell_type": "code",
   "execution_count": null,
   "id": "inclusive-modeling",
   "metadata": {},
   "outputs": [],
   "source": [
    "sc.pp.filter_genes(adata_reynolds_fb_SKN8105197_loom, min_counts=30)\n",
    "sc.pp.normalize_per_cell(adata_reynolds_fb_SKN8105197_loom)\n",
    "sc.pp.log1p(adata_reynolds_fb_SKN8105197_loom)"
   ]
  },
  {
   "cell_type": "code",
   "execution_count": null,
   "id": "prompt-boating",
   "metadata": {},
   "outputs": [],
   "source": [
    "sc.pp.pca(adata_reynolds_fb_SKN8105197_loom, random_state=seed, n_comps=30)\n",
    "tk.tl.triku(adata_reynolds_fb_SKN8105197_loom, n_procs=1, random_state=seed, use_adata_knn=True)\n",
    "sc.pp.neighbors(adata_reynolds_fb_SKN8105197_loom, metric='cosine')"
   ]
  },
  {
   "cell_type": "code",
   "execution_count": null,
   "id": "incomplete-investor",
   "metadata": {},
   "outputs": [],
   "source": [
    "sc.tl.umap(adata_reynolds_fb_SKN8105197_loom, min_dist=0.3, random_state=seed)\n",
    "sc.tl.leiden(adata_reynolds_fb_SKN8105197_loom, resolution=1, random_state=seed)"
   ]
  },
  {
   "cell_type": "code",
   "execution_count": null,
   "id": "lucky-broadcasting",
   "metadata": {},
   "outputs": [],
   "source": [
    "sc.pl.umap(adata_reynolds_fb_SKN8105197_loom, color=['leiden', 'science_clustering'], legend_loc='on data')"
   ]
  },
  {
   "cell_type": "code",
   "execution_count": null,
   "id": "hawaiian-terry",
   "metadata": {},
   "outputs": [],
   "source": [
    "sc.pl.umap(adata_reynolds_fb_SKN8105197_loom, color=['LUM', 'PDGFRA', 'VIM', 'COL1A1', 'SFRP2', 'APOE', 'RGS5', 'MYL9', 'NDUFA4L2', 'HBB'], legend_loc='on data', cmap=magma)"
   ]
  },
  {
   "cell_type": "code",
   "execution_count": null,
   "id": "healthy-alpha",
   "metadata": {},
   "outputs": [],
   "source": [
    "sc.pl.umap(adata_reynolds_fb_SKN8105197_loom, color=['leiden', 'SFRP2', 'SLPI', 'WIF1', 'COL18A1', 'COMP', \n",
    "                                               'APOE', 'CCL2',  'ITM2A', 'SPSB1', \n",
    "                                               'CCDC146', 'CCL19', 'CD74'], cmap=magma, use_raw=False, legend_loc='on data')"
   ]
  },
  {
   "cell_type": "code",
   "execution_count": null,
   "id": "antique-directory",
   "metadata": {},
   "outputs": [],
   "source": [
    "dict_cat = {'fb': ['LUM', 'PDGFRA', 'COL1A1', 'SFRP2', 'CCL19'], 'peri': ['RGS5', 'MYL9', 'NDUFA4L2'], 'eritro': ['HBB', 'HBA2', 'HBA1'], \n",
    "            'immune': ['HLA-DRA', 'FCER1G'], 'melano':['PMEL', 'MLANA']}\n",
    "\n",
    "assign_cats(adata_reynolds_fb_SKN8105197_loom, dict_cat)"
   ]
  },
  {
   "cell_type": "code",
   "execution_count": null,
   "id": "educated-boutique",
   "metadata": {},
   "outputs": [],
   "source": [
    "sc.pl.umap(adata_reynolds_fb_SKN8105197_loom, color=['leiden', 'science_clustering', 'assigned_cats'], legend_loc='on data', cmap=magma)"
   ]
  },
  {
   "cell_type": "code",
   "execution_count": null,
   "id": "pending-syndication",
   "metadata": {},
   "outputs": [],
   "source": [
    "sc.tl.rank_genes_groups(adata_reynolds_fb_SKN8105197_loom, groupby='leiden')\n",
    "sc.pl.rank_genes_groups(adata_reynolds_fb_SKN8105197_loom)"
   ]
  },
  {
   "cell_type": "code",
   "execution_count": null,
   "id": "inappropriate-tours",
   "metadata": {},
   "outputs": [],
   "source": [
    "adata_reynolds_fb_SKN8105197_loom = adata_reynolds_fb_SKN8105197_loom[adata_reynolds_fb_SKN8105197_loom.obs['assigned_cats'] == 'fb']"
   ]
  },
  {
   "cell_type": "code",
   "execution_count": null,
   "id": "legendary-terrorist",
   "metadata": {},
   "outputs": [],
   "source": [
    "sc.pp.filter_genes(adata_reynolds_fb_SKN8105197_loom, min_counts=1)"
   ]
  },
  {
   "cell_type": "code",
   "execution_count": null,
   "id": "beneficial-jersey",
   "metadata": {},
   "outputs": [],
   "source": [
    "sc.pp.pca(adata_reynolds_fb_SKN8105197_loom, random_state=seed, n_comps=30)\n",
    "tk.tl.triku(adata_reynolds_fb_SKN8105197_loom, n_procs=1, random_state=seed, use_adata_knn=True)\n",
    "sc.pp.neighbors(adata_reynolds_fb_SKN8105197_loom, metric='cosine')"
   ]
  },
  {
   "cell_type": "code",
   "execution_count": null,
   "id": "acknowledged-macedonia",
   "metadata": {},
   "outputs": [],
   "source": [
    "sc.tl.umap(adata_reynolds_fb_SKN8105197_loom, min_dist=0.05, random_state=seed)\n",
    "sc.tl.leiden(adata_reynolds_fb_SKN8105197_loom, resolution=1.2, random_state=seed)"
   ]
  },
  {
   "cell_type": "code",
   "execution_count": null,
   "id": "aquatic-confidentiality",
   "metadata": {},
   "outputs": [],
   "source": [
    "sc.pl.umap(adata_reynolds_fb_SKN8105197_loom, color=['leiden', 'science_clustering'], cmap=magma, use_raw=False, legend_loc='on data')"
   ]
  },
  {
   "cell_type": "code",
   "execution_count": null,
   "id": "prostate-colombia",
   "metadata": {},
   "outputs": [],
   "source": [
    "sc.pl.umap(adata_reynolds_fb_SKN8105197_loom, color=['leiden', 'SFRP2', 'SLPI', 'WIF1', 'COL18A1', 'COMP', \n",
    "                                               'APOE', 'CCL2',  'ITM2A', 'SPSB1', \n",
    "                                               'CCDC146', 'CCL19', 'CD74'], cmap=magma, use_raw=False, legend_loc='on data')"
   ]
  },
  {
   "cell_type": "markdown",
   "id": "latter-cookbook",
   "metadata": {},
   "source": [
    "### SKN8105197 exclusion\n",
    "We do not see SFRP2 expression, which has been a through fb marker, together with APOE. We will not include this sample in the analysis."
   ]
  }
 ],
 "metadata": {
  "kernelspec": {
   "display_name": "Python [conda env:alex-base] *",
   "language": "python",
   "name": "conda-env-alex-base-py"
  },
  "language_info": {
   "codemirror_mode": {
    "name": "ipython",
    "version": 3
   },
   "file_extension": ".py",
   "mimetype": "text/x-python",
   "name": "python",
   "nbconvert_exporter": "python",
   "pygments_lexer": "ipython3",
   "version": "3.8.0"
  }
 },
 "nbformat": 4,
 "nbformat_minor": 5
}
