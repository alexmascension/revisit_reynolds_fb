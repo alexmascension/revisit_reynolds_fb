{
 "cells": [
  {
   "cell_type": "code",
   "execution_count": null,
   "id": "worse-dublin",
   "metadata": {},
   "outputs": [],
   "source": [
    "# !wget https://raw.githubusercontent.com/alexmascension/revisit_reynolds_fb/master/requirements.txt\n",
    "# !pip install -r requirements.txt"
   ]
  },
  {
   "cell_type": "code",
   "execution_count": null,
   "id": "insured-ordering",
   "metadata": {},
   "outputs": [],
   "source": [
    "import scanpy as sc\n",
    "import scanpy.external as sce\n",
    "\n",
    "import pandas as pd\n",
    "import numpy as np\n",
    "\n",
    "import os\n",
    "\n",
    "import triku as tk\n",
    "\n",
    "import matplotlib.pyplot as plt\n",
    "import matplotlib as mpl\n",
    "\n",
    "from functools import reduce"
   ]
  },
  {
   "cell_type": "code",
   "execution_count": null,
   "id": "capital-light",
   "metadata": {},
   "outputs": [],
   "source": [
    "# To print versions of imports \n",
    "\n",
    "import types\n",
    "\n",
    "def imports():\n",
    "    for name, val in globals().items():\n",
    "        if isinstance(val, types.ModuleType):\n",
    "            yield val.__name__\n",
    "\n",
    "excludes = ['builtins', 'types', 'sys']\n",
    "\n",
    "imported_modules = [module for module in imports() if module not in excludes]\n",
    "\n",
    "clean_modules = []\n",
    "\n",
    "for module in imported_modules:\n",
    "\n",
    "    sep = '.'  # to handle 'matplotlib.pyplot' cases\n",
    "    rest = module.split(sep, 1)[0]\n",
    "    clean_modules.append(rest)\n",
    "\n",
    "changed_imported_modules = list(set(clean_modules))  # drop duplicates\n",
    "\n",
    "pip_modules = !pip freeze  # you could also use `!conda list` with anaconda\n",
    "\n",
    "for module in pip_modules:\n",
    "    try:\n",
    "        name, version = module.split('==')\n",
    "        if name in changed_imported_modules:\n",
    "            print(name + '\\t' + version)\n",
    "    except:\n",
    "        pass"
   ]
  },
  {
   "cell_type": "code",
   "execution_count": null,
   "id": "fallen-campbell",
   "metadata": {},
   "outputs": [],
   "source": [
    "seed = 0"
   ]
  },
  {
   "cell_type": "code",
   "execution_count": null,
   "id": "judicial-newark",
   "metadata": {},
   "outputs": [],
   "source": [
    "# Palettes for UMAP gene expression\n",
    "\n",
    "magma = [plt.get_cmap('magma')(i) for i in np.linspace(0,1, 80)]\n",
    "magma[0] = (0.88, 0.88, 0.88, 1)\n",
    "magma = mpl.colors.LinearSegmentedColormap.from_list(\"\", magma[:65])"
   ]
  },
  {
   "cell_type": "code",
   "execution_count": null,
   "id": "matched-parameter",
   "metadata": {},
   "outputs": [],
   "source": [
    "mpl.rcParams['figure.dpi'] = 150"
   ]
  },
  {
   "cell_type": "code",
   "execution_count": null,
   "id": "spectacular-chicago",
   "metadata": {},
   "outputs": [],
   "source": [
    "def assign_cats(adata, dict_cats, column_groupby='leiden', per=98, do_return=False):\n",
    "    \"\"\"\n",
    "    This functions uses a set of genes assigned to different categories so that leiden clusters can be assigned to one of these categories.\n",
    "    For example, to categorize fibroblasts from pericytes, endothelial cells, or cells with high mitochondrial content.\n",
    "    It could be done with each cell individually, but it is better to use clusters to discern the different categories because\n",
    "    the method, although efficient, can sometimes be noisy due to the noisiness of the sc datasets.\n",
    "    \"\"\"\n",
    "    \n",
    "    for cat in list(dict_cats.keys()):\n",
    "        mat_cat = np.zeros((len(adata), len(dict_cat[cat])), dtype=float)\n",
    "        \n",
    "        for gene_idx, gene in enumerate(dict_cat[cat]):\n",
    "            try:\n",
    "                mat_cat[:, gene_idx] = adata[:, gene].X.todense().ravel()\n",
    "                mat_cat[:, gene_idx] /= np.percentile(mat_cat[:, gene_idx][mat_cat[:, gene_idx] > 0], per)\n",
    "            except:\n",
    "                print(f'Gene {gene} is not on the list')            \n",
    "\n",
    "        sum_mat_cat = np.asarray(mat_cat.sum(1)).ravel()\n",
    "        sum_mat_cat /= np.percentile(sum_mat_cat[sum_mat_cat > 0], per, axis=0)\n",
    "\n",
    "        adata.obs[cat] = sum_mat_cat\n",
    "    \n",
    "    score_per_cluster = adata.obs[[column_groupby] + list(dict_cats.keys())].groupby(column_groupby).quantile(.8)\n",
    "    max_cat_dict = dict(zip(score_per_cluster.idxmax(axis=1).index, score_per_cluster.idxmax(axis=1).values))\n",
    "    adata.obs['assigned_cats'] = [max_cat_dict[i] for i in adata.obs[column_groupby]]\n",
    "    max_cat_dict_std = dict(zip(score_per_cluster.std(1).index, score_per_cluster.std(1).values))\n",
    "    adata.obs['assigned_cats_std'] = [max_cat_dict_std[i] for i in adata.obs[column_groupby]]\n",
    "    max_cat_dict_mean = dict(zip(score_per_cluster.mean(1).index, score_per_cluster.mean(1).values))\n",
    "    adata.obs['assigned_cats_mean'] = [max_cat_dict_mean[i] for i in adata.obs[column_groupby]]\n",
    "    adata.obs['assigned_cats_CV'] = adata.obs['assigned_cats_mean'] / adata.obs['assigned_cats_std']\n",
    "    \n",
    "    for cat in score_per_cluster.columns:\n",
    "        max_cat_dict = dict(zip(score_per_cluster.index, score_per_cluster[cat].values))\n",
    "        adata.obs[f'score_assign_{cat}'] = [max_cat_dict[i] for i in adata.obs[column_groupby]]\n",
    "    \n",
    "    if do_return:\n",
    "        return score_per_cluster"
   ]
  },
  {
   "cell_type": "markdown",
   "id": "roman-surfing",
   "metadata": {},
   "source": [
    "# Reynolds et al. 2020 dataset download and preprocess\n",
    "In this section we are going to download and process the anndata files for the 5 healthy samples (S1 to S5). We are first going to use the processed files from Reynolds et al., because they contain the main fb populations, which we are interested in (FB1-3). With that, we can partially replicate the analysis. However, the data richness is not that good (the UMAPs are more *blooby*) so we preprocess the FASTQ files on our own, and used the processed adatas.\n",
    "\n",
    "Once we have our own anndatas, the preprocessing is the following:\n",
    "* Assign FB types based on Reynolds adatas to our adatas. Some cells will be unassigned.\n",
    "* QC metrics \n",
    "* Filter genes (min counts = 30)\n",
    "* Set raw X\n",
    "* Normalize and log1p\n",
    "* PCA + triku + neighbors + umap + leiden\n",
    "* Use  `assign_cats` to assign leiden clusters to cell populations with selected markers (markers for each dataset may vary!)\n",
    "* Filter adata to retain only fibroblasts\n",
    "* Filter genes to remove 0 counts\n",
    "* PCA + triku + neighbors + umap + leiden [leiden is not used here but may be used later]\n",
    "* Check if strange populations appear and filter them in `assign_cats`, then repeat the last steps."
   ]
  },
  {
   "cell_type": "code",
   "execution_count": null,
   "id": "still-mississippi",
   "metadata": {},
   "outputs": [],
   "source": [
    "os.getcwd()"
   ]
  },
  {
   "cell_type": "code",
   "execution_count": null,
   "id": "interracial-accuracy",
   "metadata": {},
   "outputs": [],
   "source": [
    "reynolds_dir = 'reynolds_2020'\n",
    "os.makedirs(reynolds_dir, exist_ok=True)"
   ]
  },
  {
   "cell_type": "markdown",
   "id": "american-dublin",
   "metadata": {},
   "source": [
    "### Making and saving the fb healthy dataset to zenodo"
   ]
  },
  {
   "cell_type": "code",
   "execution_count": null,
   "id": "built-grammar",
   "metadata": {},
   "outputs": [],
   "source": [
    "# adata_reynolds = sc.read('submission_210120.h5ad', backup_url='https://zenodo.org/record/4536165/files/submission_210120.h5ad')\n",
    "# adata_reynolds_fb = adata_reynolds[(adata_reynolds.obs['full_clustering'].isin(['F1', 'F2', 'F3'])) & \n",
    "#                                    (adata_reynolds.obs['Status'] == 'Healthy')]\n",
    "# sc.pp.filter_genes(adata_reynolds_fb, min_counts=100)\n",
    "# del adata_reynolds_fb.var\n",
    "\n",
    "# for obs in ['mad_prd', 'Status', 'Site', 'Tissue', 'Enrichment', 'Location', 'Sex', 'Age', 'stage']:\n",
    "#     del adata_reynolds_fb.obs[obs]\n",
    "    \n",
    "# adata_reynolds_fb.write_h5ad(reynolds_dir + '/reynolds_2020_fb_healthy.h5ad')"
   ]
  },
  {
   "cell_type": "markdown",
   "id": "italic-style",
   "metadata": {},
   "source": [
    "### Direct h5ad download"
   ]
  },
  {
   "cell_type": "code",
   "execution_count": null,
   "id": "unavailable-charger",
   "metadata": {},
   "outputs": [],
   "source": [
    "adata_reynolds_fb_healthy = sc.read(reynolds_dir + '/reynolds_2020_fb_healthy.h5ad', \n",
    "                                    backup_url='https://zenodo.org/record/4605340/files/reynolds_2020_fb_healthy.h5ad?download=1')"
   ]
  },
  {
   "cell_type": "code",
   "execution_count": null,
   "id": "committed-drunk",
   "metadata": {},
   "outputs": [],
   "source": [
    "sc.pp.filter_genes(adata_reynolds_fb_healthy, min_counts=50)"
   ]
  },
  {
   "cell_type": "code",
   "execution_count": null,
   "id": "informal-petroleum",
   "metadata": {},
   "outputs": [],
   "source": [
    "sc.pp.log1p(adata_reynolds_fb_healthy)\n",
    "sc.pp.normalize_total(adata_reynolds_fb_healthy)"
   ]
  },
  {
   "cell_type": "code",
   "execution_count": null,
   "id": "neural-grounds",
   "metadata": {},
   "outputs": [],
   "source": [
    "df_batches = pd.DataFrame(np.unique(adata_reynolds_fb_healthy.obs['sample_id'], return_counts=True)).transpose()"
   ]
  },
  {
   "cell_type": "code",
   "execution_count": null,
   "id": "adjacent-controversy",
   "metadata": {},
   "outputs": [],
   "source": [
    "df_batches.sort_values(by=1, ascending=False)"
   ]
  },
  {
   "cell_type": "code",
   "execution_count": null,
   "id": "horizontal-nicaragua",
   "metadata": {},
   "outputs": [],
   "source": [
    "selected_samples = df_batches[df_batches[1] > 50][0].values"
   ]
  },
  {
   "cell_type": "code",
   "execution_count": null,
   "id": "cutting-rocket",
   "metadata": {},
   "outputs": [],
   "source": [
    "adata_reynolds_fb_healthy = adata_reynolds_fb_healthy[adata_reynolds_fb_healthy.obs['sample_id'].isin(selected_samples)]  #selected_samples)]"
   ]
  },
  {
   "cell_type": "code",
   "execution_count": null,
   "id": "conditional-affiliation",
   "metadata": {},
   "outputs": [],
   "source": [
    "adata_reynolds_fb_healthy"
   ]
  },
  {
   "cell_type": "code",
   "execution_count": null,
   "id": "complimentary-handle",
   "metadata": {},
   "outputs": [],
   "source": [
    "sc.pp.filter_genes(adata_reynolds_fb_healthy, min_counts=1)"
   ]
  },
  {
   "cell_type": "code",
   "execution_count": null,
   "id": "secure-warrior",
   "metadata": {},
   "outputs": [],
   "source": [
    "sc.pp.pca(adata_reynolds_fb_healthy, random_state=seed, n_comps=30)\n",
    "sce.pp.bbknn(adata_reynolds_fb_healthy, metric='angular', batch_key='sample_id')\n",
    "tk.tl.triku(adata_reynolds_fb_healthy, n_procs=1, random_state=seed, use_adata_knn=True)"
   ]
  },
  {
   "cell_type": "code",
   "execution_count": null,
   "id": "tribal-suspension",
   "metadata": {},
   "outputs": [],
   "source": [
    "sc.tl.umap(adata_reynolds_fb_healthy, min_dist=0.1, random_state=seed)"
   ]
  },
  {
   "cell_type": "code",
   "execution_count": null,
   "id": "geological-acoustic",
   "metadata": {},
   "outputs": [],
   "source": [
    "sc.tl.leiden(adata_reynolds_fb_healthy, resolution=1.5, random_state=seed)"
   ]
  },
  {
   "cell_type": "code",
   "execution_count": null,
   "id": "reasonable-wrestling",
   "metadata": {},
   "outputs": [],
   "source": [
    "sc.pl.umap(adata_reynolds_fb_healthy, color=['leiden', 'sample_id', 'full_clustering'], legend_loc='on data')"
   ]
  },
  {
   "cell_type": "code",
   "execution_count": null,
   "id": "hydraulic-bouquet",
   "metadata": {},
   "outputs": [],
   "source": [
    "sc.pl.umap(adata_reynolds_fb_healthy, color=['APCDD1', 'COL18A1', 'COMP', 'SLPI', 'WIF1'], cmap=magma, use_raw=False)"
   ]
  },
  {
   "cell_type": "code",
   "execution_count": null,
   "id": "competitive-console",
   "metadata": {},
   "outputs": [],
   "source": [
    "sc.pl.umap(adata_reynolds_fb_healthy, color=['MT2A', 'CCL19', 'CCL2', 'CD46'], cmap=magma, use_raw=False)"
   ]
  },
  {
   "cell_type": "code",
   "execution_count": null,
   "id": "emotional-afghanistan",
   "metadata": {},
   "outputs": [],
   "source": [
    "sc.pl.umap(adata_reynolds_fb_healthy, color=['POSTN', 'COMP', 'COCH'], cmap=magma, use_raw=False)"
   ]
  },
  {
   "cell_type": "markdown",
   "id": "preceding-tracker",
   "metadata": {},
   "source": [
    "## 4820STDY7388991 (S1)"
   ]
  },
  {
   "cell_type": "markdown",
   "id": "violent-night",
   "metadata": {},
   "source": [
    "### Reynolds preprocessed"
   ]
  },
  {
   "cell_type": "code",
   "execution_count": null,
   "id": "prospective-particle",
   "metadata": {},
   "outputs": [],
   "source": [
    "adata_reynolds_fb_4820STDY7388991 = adata_reynolds_fb_healthy[adata_reynolds_fb_healthy.obs['sample_id'].isin(['4820STDY7388991'])]  #selected_samples)]"
   ]
  },
  {
   "cell_type": "code",
   "execution_count": null,
   "id": "absolute-civilian",
   "metadata": {},
   "outputs": [],
   "source": [
    "adata_reynolds_fb_4820STDY7388991"
   ]
  },
  {
   "cell_type": "code",
   "execution_count": null,
   "id": "enclosed-montreal",
   "metadata": {},
   "outputs": [],
   "source": [
    "sc.pp.filter_genes(adata_reynolds_fb_4820STDY7388991, min_counts=1)"
   ]
  },
  {
   "cell_type": "code",
   "execution_count": null,
   "id": "mysterious-package",
   "metadata": {},
   "outputs": [],
   "source": [
    "sc.pp.pca(adata_reynolds_fb_4820STDY7388991, random_state=seed, n_comps=30)\n",
    "tk.tl.triku(adata_reynolds_fb_4820STDY7388991, n_procs=1, random_state=seed, use_adata_knn=True)\n",
    "sc.pp.neighbors(adata_reynolds_fb_4820STDY7388991, metric='cosine')"
   ]
  },
  {
   "cell_type": "code",
   "execution_count": null,
   "id": "direct-mandate",
   "metadata": {},
   "outputs": [],
   "source": [
    "sc.tl.umap(adata_reynolds_fb_4820STDY7388991, min_dist=0.3, random_state=seed)"
   ]
  },
  {
   "cell_type": "code",
   "execution_count": null,
   "id": "dutch-history",
   "metadata": {},
   "outputs": [],
   "source": [
    "sc.tl.leiden(adata_reynolds_fb_4820STDY7388991, resolution=1, random_state=seed)"
   ]
  },
  {
   "cell_type": "code",
   "execution_count": null,
   "id": "third-shopper",
   "metadata": {},
   "outputs": [],
   "source": [
    "sc.pl.umap(adata_reynolds_fb_4820STDY7388991, color=['leiden', 'sample_id', 'full_clustering'], legend_loc='on data')"
   ]
  },
  {
   "cell_type": "code",
   "execution_count": null,
   "id": "choice-difference",
   "metadata": {},
   "outputs": [],
   "source": [
    "sc.pl.umap(adata_reynolds_fb_4820STDY7388991, color=['APCDD1', 'COL18A1', 'COMP', 'SLPI', 'WIF1'], cmap=magma, use_raw=False)"
   ]
  },
  {
   "cell_type": "code",
   "execution_count": null,
   "id": "chinese-olympus",
   "metadata": {},
   "outputs": [],
   "source": [
    "sc.pl.umap(adata_reynolds_fb_4820STDY7388991, color=['MT2A', 'CCL19', 'CCL2', 'CD46'], cmap=magma, use_raw=False)"
   ]
  },
  {
   "cell_type": "code",
   "execution_count": null,
   "id": "nutritional-commodity",
   "metadata": {},
   "outputs": [],
   "source": [
    "sc.pl.umap(adata_reynolds_fb_4820STDY7388991, color=['POSTN', 'COMP', 'COCH'], cmap=magma, use_raw=False)"
   ]
  },
  {
   "cell_type": "markdown",
   "id": "fantastic-saturday",
   "metadata": {},
   "source": [
    "### Direct loom"
   ]
  },
  {
   "cell_type": "code",
   "execution_count": null,
   "id": "american-frequency",
   "metadata": {},
   "outputs": [],
   "source": [
    "adata_reynolds_fb_4820STDY7388991_loom = sc.read('reynolds_2020/reynolds_2020_0_4820STDY7388991_s1_dermis_fibroblasts.loom', \n",
    "                                                 backup_url='https://zenodo.org/record/4596375/files/reynolds_2020_0_4820STDY7388991_s1_dermis_fibroblasts.loom')\n",
    "adata_reynolds_fb_4820STDY7388991_loom.var_names_make_unique()"
   ]
  },
  {
   "cell_type": "code",
   "execution_count": null,
   "id": "infectious-television",
   "metadata": {},
   "outputs": [],
   "source": [
    "adata_reynolds_fb_4820STDY7388991_loom.obs_names = [f\"{i.split('_')[-1]}-1-{i.split('_')[1]}\" for i in adata_reynolds_fb_4820STDY7388991_loom.obs_names]"
   ]
  },
  {
   "cell_type": "code",
   "execution_count": null,
   "id": "perceived-poverty",
   "metadata": {},
   "outputs": [],
   "source": [
    "df_fb_type = pd.Series('-', index=adata_reynolds_fb_4820STDY7388991_loom.obs_names)\n",
    "df_fb_type.loc[adata_reynolds_fb_4820STDY7388991.obs_names & adata_reynolds_fb_4820STDY7388991_loom.obs_names] = adata_reynolds_fb_4820STDY7388991[adata_reynolds_fb_4820STDY7388991.obs_names & adata_reynolds_fb_4820STDY7388991_loom.obs_names].obs['full_clustering']\n",
    "adata_reynolds_fb_4820STDY7388991_loom.obs['science_clustering'] = df_fb_type"
   ]
  },
  {
   "cell_type": "code",
   "execution_count": null,
   "id": "painful-conviction",
   "metadata": {},
   "outputs": [],
   "source": [
    "sc.pp.calculate_qc_metrics(adata_reynolds_fb_4820STDY7388991_loom, inplace=True)"
   ]
  },
  {
   "cell_type": "code",
   "execution_count": null,
   "id": "secondary-meeting",
   "metadata": {},
   "outputs": [],
   "source": [
    "sc.pl.violin(adata_reynolds_fb_4820STDY7388991_loom, ['n_genes_by_counts'])\n",
    "sc.pl.violin(adata_reynolds_fb_4820STDY7388991_loom, ['log1p_total_counts'])"
   ]
  },
  {
   "cell_type": "code",
   "execution_count": null,
   "id": "exposed-investment",
   "metadata": {},
   "outputs": [],
   "source": [
    "sc.pp.filter_genes(adata_reynolds_fb_4820STDY7388991_loom, min_counts=30)\n",
    "adata_reynolds_fb_4820STDY7388991_loom.raw = adata_reynolds_fb_4820STDY7388991_loom"
   ]
  },
  {
   "cell_type": "code",
   "execution_count": null,
   "id": "concrete-wayne",
   "metadata": {},
   "outputs": [],
   "source": [
    "sc.pp.normalize_per_cell(adata_reynolds_fb_4820STDY7388991_loom)\n",
    "sc.pp.log1p(adata_reynolds_fb_4820STDY7388991_loom)"
   ]
  },
  {
   "cell_type": "code",
   "execution_count": null,
   "id": "further-general",
   "metadata": {},
   "outputs": [],
   "source": [
    "sc.pp.pca(adata_reynolds_fb_4820STDY7388991_loom, random_state=seed, n_comps=30)\n",
    "tk.tl.triku(adata_reynolds_fb_4820STDY7388991_loom, n_procs=1, random_state=seed, use_adata_knn=True)\n",
    "sc.pp.neighbors(adata_reynolds_fb_4820STDY7388991_loom, metric='cosine')"
   ]
  },
  {
   "cell_type": "code",
   "execution_count": null,
   "id": "angry-confirmation",
   "metadata": {},
   "outputs": [],
   "source": [
    "sc.tl.umap(adata_reynolds_fb_4820STDY7388991_loom, min_dist=0.3, random_state=seed)\n",
    "sc.tl.leiden(adata_reynolds_fb_4820STDY7388991_loom, resolution=3.2, random_state=seed)"
   ]
  },
  {
   "cell_type": "code",
   "execution_count": null,
   "id": "bored-brand",
   "metadata": {},
   "outputs": [],
   "source": [
    "sc.pl.umap(adata_reynolds_fb_4820STDY7388991_loom, color=['leiden', 'science_clustering'], legend_loc='on data')"
   ]
  },
  {
   "cell_type": "code",
   "execution_count": null,
   "id": "planned-digest",
   "metadata": {},
   "outputs": [],
   "source": [
    "sc.pl.umap(adata_reynolds_fb_4820STDY7388991_loom, color=['LUM', 'PDGFRA', 'VIM', 'DCN', 'COL1A1', 'SFRP2', 'APOE', 'POSTN'], legend_loc='on data', cmap=magma)"
   ]
  },
  {
   "cell_type": "code",
   "execution_count": null,
   "id": "civic-parts",
   "metadata": {},
   "outputs": [],
   "source": [
    "sc.tl.rank_genes_groups(adata_reynolds_fb_4820STDY7388991_loom, groupby='leiden')\n",
    "sc.pl.rank_genes_groups(adata_reynolds_fb_4820STDY7388991_loom)"
   ]
  },
  {
   "cell_type": "code",
   "execution_count": null,
   "id": "asian-variety",
   "metadata": {},
   "outputs": [],
   "source": [
    "dict_cat = {'fb': ['LUM', 'PDGFRA', 'COL1A1'], 'peri': ['RGS5', 'MYL9', 'NDUFA4L2'], 'eritro': ['HBB', 'HBA2', 'HBA1'], \n",
    "            'immune': ['TPSB2', 'TPSAB1', 'HLA-DRA', 'FCER1G', 'CD74'], 'melanocyte': ['PMEL', 'MLANA'], \n",
    "            'mt': ['MTND2P28', 'MTND4P12', 'MTCO1P40', 'ADAM33', 'RN7SL2', 'MTRNR2L6']}\n",
    "\n",
    "assign_cats(adata_reynolds_fb_4820STDY7388991_loom, dict_cat)"
   ]
  },
  {
   "cell_type": "code",
   "execution_count": null,
   "id": "prompt-industry",
   "metadata": {},
   "outputs": [],
   "source": [
    "sc.pl.umap(adata_reynolds_fb_4820STDY7388991_loom, color=['leiden', 'science_clustering', 'assigned_cats'], legend_loc='on data', cmap=magma)"
   ]
  },
  {
   "cell_type": "code",
   "execution_count": null,
   "id": "rough-wyoming",
   "metadata": {},
   "outputs": [],
   "source": [
    "adata_reynolds_fb_4820STDY7388991_loom_fb = adata_reynolds_fb_4820STDY7388991_loom[adata_reynolds_fb_4820STDY7388991_loom.obs['assigned_cats'] == 'fb']"
   ]
  },
  {
   "cell_type": "code",
   "execution_count": null,
   "id": "brave-webcam",
   "metadata": {},
   "outputs": [],
   "source": [
    "sc.pp.filter_genes(adata_reynolds_fb_4820STDY7388991_loom_fb, min_counts=1)"
   ]
  },
  {
   "cell_type": "code",
   "execution_count": null,
   "id": "brown-indie",
   "metadata": {},
   "outputs": [],
   "source": [
    "sc.pp.pca(adata_reynolds_fb_4820STDY7388991_loom_fb, random_state=seed, n_comps=30)\n",
    "tk.tl.triku(adata_reynolds_fb_4820STDY7388991_loom_fb, n_procs=1, random_state=seed, use_adata_knn=True)\n",
    "sc.pp.neighbors(adata_reynolds_fb_4820STDY7388991_loom_fb, metric='cosine')"
   ]
  },
  {
   "cell_type": "code",
   "execution_count": null,
   "id": "least-weekend",
   "metadata": {},
   "outputs": [],
   "source": [
    "sc.tl.umap(adata_reynolds_fb_4820STDY7388991_loom_fb, min_dist=0.2, random_state=seed)\n",
    "sc.tl.leiden(adata_reynolds_fb_4820STDY7388991_loom_fb, resolution=1, random_state=seed)"
   ]
  },
  {
   "cell_type": "code",
   "execution_count": null,
   "id": "raising-brown",
   "metadata": {},
   "outputs": [],
   "source": [
    "sc.pl.umap(adata_reynolds_fb_4820STDY7388991_loom_fb, color=['leiden', 'science_clustering'], cmap=magma, use_raw=False, legend_loc='on data')"
   ]
  },
  {
   "cell_type": "code",
   "execution_count": null,
   "id": "statutory-sheffield",
   "metadata": {},
   "outputs": [],
   "source": [
    "sc.pl.umap(adata_reynolds_fb_4820STDY7388991_loom_fb, color=['leiden', 'SFRP2', 'PI16', 'SLPI', 'WIF1', 'COL18A1', 'COMP', \n",
    "                                               'APOE', 'CCL2',  'ITM2A', 'SPSB1', \n",
    "                                               'CCDC146', 'CCL19', 'CD74', \n",
    "                                               'DKK3', 'TNN', 'SFRP1', 'POSTN'], cmap=magma, use_raw=False, legend_loc='on data')"
   ]
  },
  {
   "cell_type": "markdown",
   "id": "varying-sellers",
   "metadata": {},
   "source": [
    "## 4820STDY7388999 (S2)"
   ]
  },
  {
   "cell_type": "markdown",
   "id": "material-riverside",
   "metadata": {},
   "source": [
    "### Reynolds preprocessed"
   ]
  },
  {
   "cell_type": "code",
   "execution_count": null,
   "id": "supreme-clinic",
   "metadata": {},
   "outputs": [],
   "source": [
    "adata_reynolds_fb_4820STDY7388999 = adata_reynolds_fb_healthy[adata_reynolds_fb_healthy.obs['sample_id'].isin(['4820STDY7388999'])]  #selected_samples)]"
   ]
  },
  {
   "cell_type": "code",
   "execution_count": null,
   "id": "accredited-trinidad",
   "metadata": {},
   "outputs": [],
   "source": [
    "adata_reynolds_fb_4820STDY7388999"
   ]
  },
  {
   "cell_type": "code",
   "execution_count": null,
   "id": "arbitrary-price",
   "metadata": {},
   "outputs": [],
   "source": [
    "sc.pp.filter_genes(adata_reynolds_fb_4820STDY7388999, min_counts=1)"
   ]
  },
  {
   "cell_type": "code",
   "execution_count": null,
   "id": "impaired-titanium",
   "metadata": {},
   "outputs": [],
   "source": [
    "sc.pp.pca(adata_reynolds_fb_4820STDY7388999, random_state=seed, n_comps=30)\n",
    "tk.tl.triku(adata_reynolds_fb_4820STDY7388999, n_procs=1, random_state=seed, use_adata_knn=True)\n",
    "sc.pp.neighbors(adata_reynolds_fb_4820STDY7388999, metric='cosine')"
   ]
  },
  {
   "cell_type": "code",
   "execution_count": null,
   "id": "based-employee",
   "metadata": {},
   "outputs": [],
   "source": [
    "sc.tl.umap(adata_reynolds_fb_4820STDY7388999, min_dist=0.3, random_state=seed)"
   ]
  },
  {
   "cell_type": "code",
   "execution_count": null,
   "id": "isolated-heavy",
   "metadata": {},
   "outputs": [],
   "source": [
    "sc.tl.leiden(adata_reynolds_fb_4820STDY7388999, resolution=1, random_state=seed)"
   ]
  },
  {
   "cell_type": "code",
   "execution_count": null,
   "id": "bigger-track",
   "metadata": {},
   "outputs": [],
   "source": [
    "sc.pl.umap(adata_reynolds_fb_4820STDY7388999, color=['leiden', 'sample_id', 'full_clustering'], legend_loc='on data')"
   ]
  },
  {
   "cell_type": "code",
   "execution_count": null,
   "id": "hungarian-court",
   "metadata": {},
   "outputs": [],
   "source": [
    "sc.pl.umap(adata_reynolds_fb_4820STDY7388999, color=['APCDD1', 'COL18A1', 'COMP', 'SLPI', 'WIF1'], cmap=magma, use_raw=False)"
   ]
  },
  {
   "cell_type": "code",
   "execution_count": null,
   "id": "little-debate",
   "metadata": {},
   "outputs": [],
   "source": [
    "sc.pl.umap(adata_reynolds_fb_4820STDY7388999, color=['MT2A', 'CCL19', 'CCL2', 'CD46'], cmap=magma, use_raw=False)"
   ]
  },
  {
   "cell_type": "code",
   "execution_count": null,
   "id": "hybrid-veteran",
   "metadata": {},
   "outputs": [],
   "source": [
    "sc.pl.umap(adata_reynolds_fb_4820STDY7388999, color=['POSTN', 'COMP', 'COCH'], cmap=magma, use_raw=False)"
   ]
  },
  {
   "cell_type": "markdown",
   "id": "aware-queensland",
   "metadata": {},
   "source": [
    "### Direct loom"
   ]
  },
  {
   "cell_type": "code",
   "execution_count": null,
   "id": "romantic-customer",
   "metadata": {},
   "outputs": [],
   "source": [
    "adata_reynolds_fb_4820STDY7388999_loom = sc.read('reynolds_2020/reynolds_2020_8_4820STDY7388999_s2_dermis_fibroblasts.loom', \n",
    "                                                 backup_url='https://zenodo.org/record/4596375/files/reynolds_2020_8_4820STDY7388999_s2_dermis_fibroblasts.loom')\n",
    "\n",
    "adata_reynolds_fb_4820STDY7388999_loom.var_names_make_unique()"
   ]
  },
  {
   "cell_type": "code",
   "execution_count": null,
   "id": "boolean-postage",
   "metadata": {},
   "outputs": [],
   "source": [
    "adata_reynolds_fb_4820STDY7388999_loom.obs_names = [f\"{i.split('_')[-1]}-1-{i.split('_')[1]}\" for i in adata_reynolds_fb_4820STDY7388999_loom.obs_names]"
   ]
  },
  {
   "cell_type": "code",
   "execution_count": null,
   "id": "hidden-danger",
   "metadata": {},
   "outputs": [],
   "source": [
    "df_fb_type = pd.Series('Other', index=adata_reynolds_fb_4820STDY7388999_loom.obs_names)\n",
    "df_fb_type.loc[adata_reynolds_fb_4820STDY7388999.obs_names & adata_reynolds_fb_4820STDY7388999_loom.obs_names] = adata_reynolds_fb_4820STDY7388999[adata_reynolds_fb_4820STDY7388999.obs_names & adata_reynolds_fb_4820STDY7388999_loom.obs_names].obs['full_clustering']\n",
    "adata_reynolds_fb_4820STDY7388999_loom.obs['science_clustering'] = df_fb_type"
   ]
  },
  {
   "cell_type": "code",
   "execution_count": null,
   "id": "placed-respondent",
   "metadata": {},
   "outputs": [],
   "source": [
    "sc.pp.calculate_qc_metrics(adata_reynolds_fb_4820STDY7388999_loom, inplace=True)"
   ]
  },
  {
   "cell_type": "code",
   "execution_count": null,
   "id": "supported-contribution",
   "metadata": {},
   "outputs": [],
   "source": [
    "sc.pl.violin(adata_reynolds_fb_4820STDY7388999_loom, ['n_genes_by_counts'])\n",
    "sc.pl.violin(adata_reynolds_fb_4820STDY7388999_loom, ['log1p_total_counts'])"
   ]
  },
  {
   "cell_type": "code",
   "execution_count": null,
   "id": "necessary-supplement",
   "metadata": {},
   "outputs": [],
   "source": [
    "sc.pp.filter_genes(adata_reynolds_fb_4820STDY7388999_loom, min_counts=30)\n",
    "adata_reynolds_fb_4820STDY7388999_loom.raw = adata_reynolds_fb_4820STDY7388999_loom"
   ]
  },
  {
   "cell_type": "code",
   "execution_count": null,
   "id": "indonesian-heart",
   "metadata": {},
   "outputs": [],
   "source": [
    "sc.pp.normalize_per_cell(adata_reynolds_fb_4820STDY7388999_loom)\n",
    "sc.pp.log1p(adata_reynolds_fb_4820STDY7388999_loom)"
   ]
  },
  {
   "cell_type": "code",
   "execution_count": null,
   "id": "psychological-inquiry",
   "metadata": {},
   "outputs": [],
   "source": [
    "sc.pp.pca(adata_reynolds_fb_4820STDY7388999_loom, random_state=seed, n_comps=30)\n",
    "tk.tl.triku(adata_reynolds_fb_4820STDY7388999_loom, n_procs=1, random_state=seed, use_adata_knn=True)\n",
    "sc.pp.neighbors(adata_reynolds_fb_4820STDY7388999_loom, metric='cosine')"
   ]
  },
  {
   "cell_type": "code",
   "execution_count": null,
   "id": "dependent-hamburg",
   "metadata": {},
   "outputs": [],
   "source": [
    "sc.tl.umap(adata_reynolds_fb_4820STDY7388999_loom, min_dist=0.3, random_state=seed)\n",
    "sc.tl.leiden(adata_reynolds_fb_4820STDY7388999_loom, resolution=0.5, random_state=seed)"
   ]
  },
  {
   "cell_type": "code",
   "execution_count": null,
   "id": "tutorial-bubble",
   "metadata": {},
   "outputs": [],
   "source": [
    "sc.pl.umap(adata_reynolds_fb_4820STDY7388999_loom, color=['leiden', 'science_clustering'], legend_loc='on data')"
   ]
  },
  {
   "cell_type": "code",
   "execution_count": null,
   "id": "overhead-theorem",
   "metadata": {},
   "outputs": [],
   "source": [
    "sc.pl.umap(adata_reynolds_fb_4820STDY7388999_loom, color=['LUM', 'PDGFRA', 'VIM', 'COL1A1', 'SFRP2', 'APOE', 'POSTN'], legend_loc='on data', cmap=magma)"
   ]
  },
  {
   "cell_type": "code",
   "execution_count": null,
   "id": "different-sheriff",
   "metadata": {},
   "outputs": [],
   "source": [
    "sc.pl.umap(adata_reynolds_fb_4820STDY7388999_loom, color=['leiden', 'SFRP2', 'PI16', 'SLPI', 'WIF1', 'COL18A1', 'COMP', \n",
    "                                               'APOE', 'CCL2',  'ITM2A', 'SPSB1', \n",
    "                                               'CCDC146', 'CCL19', 'CD74', \n",
    "                                               'DKK3', 'TNN', 'SFRP1'], cmap=magma, use_raw=False, legend_loc='on data')"
   ]
  },
  {
   "cell_type": "code",
   "execution_count": null,
   "id": "correct-pavilion",
   "metadata": {},
   "outputs": [],
   "source": [
    "sc.pl.umap(adata_reynolds_fb_4820STDY7388999_loom, color=['leiden', \n",
    "                                                          'DMKN', 'KRT1'], cmap=magma, use_raw=False, legend_loc='on data')"
   ]
  },
  {
   "cell_type": "code",
   "execution_count": null,
   "id": "revised-authority",
   "metadata": {},
   "outputs": [],
   "source": [
    "dict_cat = {'fb': ['LUM', 'PDGFRA', 'COL1A1', 'SFRP2', 'CCL19'], 'peri': ['RGS5', 'MYL9', 'NDUFA4L2'], 'eritro': ['HBB', 'HBA2', 'HBA1'], \n",
    "            'immune': ['TPSB2', 'TRAC', 'TPSAB1', 'HLA-DRA', 'FCER1G', 'CD74'], 'endo': ['CLDN5', 'PECAM1'], 'kerato': ['DMKN', 'KRT1'],\n",
    "            'mt': ['MTND2P28', 'MTND4P12', 'MTCO1P40', 'ADAM33', 'RN7SL2', 'MTRNR2L6']}\n",
    "\n",
    "assign_cats(adata_reynolds_fb_4820STDY7388999_loom, dict_cat)"
   ]
  },
  {
   "cell_type": "code",
   "execution_count": null,
   "id": "manufactured-malpractice",
   "metadata": {},
   "outputs": [],
   "source": [
    "sc.pl.umap(adata_reynolds_fb_4820STDY7388999_loom, color=['leiden', 'science_clustering', 'assigned_cats'], legend_loc='on data', cmap=magma)"
   ]
  },
  {
   "cell_type": "code",
   "execution_count": null,
   "id": "unexpected-creature",
   "metadata": {},
   "outputs": [],
   "source": [
    "sc.tl.rank_genes_groups(adata_reynolds_fb_4820STDY7388999_loom, groupby='leiden')\n",
    "sc.pl.rank_genes_groups(adata_reynolds_fb_4820STDY7388999_loom)"
   ]
  },
  {
   "cell_type": "code",
   "execution_count": null,
   "id": "positive-turkish",
   "metadata": {},
   "outputs": [],
   "source": [
    "adata_reynolds_fb_4820STDY7388999_loom = adata_reynolds_fb_4820STDY7388999_loom[adata_reynolds_fb_4820STDY7388999_loom.obs['assigned_cats'] == 'fb']"
   ]
  },
  {
   "cell_type": "code",
   "execution_count": null,
   "id": "another-aberdeen",
   "metadata": {},
   "outputs": [],
   "source": [
    "sc.pp.filter_genes(adata_reynolds_fb_4820STDY7388999_loom, min_counts=1)"
   ]
  },
  {
   "cell_type": "code",
   "execution_count": null,
   "id": "engaging-hollow",
   "metadata": {},
   "outputs": [],
   "source": [
    "sc.pp.pca(adata_reynolds_fb_4820STDY7388999_loom, random_state=seed, n_comps=30)\n",
    "tk.tl.triku(adata_reynolds_fb_4820STDY7388999_loom, n_procs=1, random_state=seed, use_adata_knn=True)\n",
    "sc.pp.neighbors(adata_reynolds_fb_4820STDY7388999_loom, metric='cosine')"
   ]
  },
  {
   "cell_type": "code",
   "execution_count": null,
   "id": "prescription-reader",
   "metadata": {},
   "outputs": [],
   "source": [
    "sc.tl.umap(adata_reynolds_fb_4820STDY7388999_loom, min_dist=0.05, random_state=seed)\n",
    "sc.tl.leiden(adata_reynolds_fb_4820STDY7388999_loom, resolution=1.2, random_state=seed)"
   ]
  },
  {
   "cell_type": "code",
   "execution_count": null,
   "id": "worst-settlement",
   "metadata": {},
   "outputs": [],
   "source": [
    "sc.pl.umap(adata_reynolds_fb_4820STDY7388999_loom, color=['leiden', 'science_clustering'], cmap=magma, use_raw=False, legend_loc='on data')"
   ]
  },
  {
   "cell_type": "code",
   "execution_count": null,
   "id": "mighty-deadline",
   "metadata": {},
   "outputs": [],
   "source": [
    "sc.pl.umap(adata_reynolds_fb_4820STDY7388999_loom, color=['leiden', 'SFRP2', 'PI16', 'SLPI', 'WIF1', 'COL18A1', 'COMP', \n",
    "                                               'APOE', 'CCL2',  'ITM2A', 'SPSB1', \n",
    "                                               'CCDC146', 'CCL19', 'CD74', \n",
    "                                               'DKK3', 'TNN', 'SFRP1', 'EDNRB', 'IGFBP7'], cmap=magma, use_raw=False, legend_loc='on data')"
   ]
  },
  {
   "cell_type": "code",
   "execution_count": null,
   "id": "conservative-oregon",
   "metadata": {},
   "outputs": [],
   "source": [
    "sc.tl.rank_genes_groups(adata_reynolds_fb_4820STDY7388999_loom, groupby='leiden')"
   ]
  },
  {
   "cell_type": "code",
   "execution_count": null,
   "id": "acute-difference",
   "metadata": {},
   "outputs": [],
   "source": [
    "sc.pl.rank_genes_groups(adata_reynolds_fb_4820STDY7388999_loom)"
   ]
  },
  {
   "cell_type": "markdown",
   "id": "outer-manner",
   "metadata": {},
   "source": [
    "## 4820STDY7389007 (S3)"
   ]
  },
  {
   "cell_type": "markdown",
   "id": "starting-literacy",
   "metadata": {},
   "source": [
    "### Reynolds preprocessed"
   ]
  },
  {
   "cell_type": "code",
   "execution_count": null,
   "id": "colored-daniel",
   "metadata": {},
   "outputs": [],
   "source": [
    "adata_reynolds_fb_4820STDY7389007 = adata_reynolds_fb_healthy[adata_reynolds_fb_healthy.obs['sample_id'].isin(['4820STDY7389007'])]  #selected_samples)]"
   ]
  },
  {
   "cell_type": "code",
   "execution_count": null,
   "id": "enhanced-airplane",
   "metadata": {},
   "outputs": [],
   "source": [
    "adata_reynolds_fb_4820STDY7389007"
   ]
  },
  {
   "cell_type": "code",
   "execution_count": null,
   "id": "numerous-cholesterol",
   "metadata": {},
   "outputs": [],
   "source": [
    "sc.pp.filter_genes(adata_reynolds_fb_4820STDY7389007, min_counts=1)"
   ]
  },
  {
   "cell_type": "code",
   "execution_count": null,
   "id": "earned-intake",
   "metadata": {},
   "outputs": [],
   "source": [
    "sc.pp.pca(adata_reynolds_fb_4820STDY7389007, random_state=seed, n_comps=30)\n",
    "tk.tl.triku(adata_reynolds_fb_4820STDY7389007, n_procs=1, random_state=seed, use_adata_knn=True)\n",
    "sc.pp.neighbors(adata_reynolds_fb_4820STDY7389007, metric='cosine')"
   ]
  },
  {
   "cell_type": "code",
   "execution_count": null,
   "id": "massive-briefing",
   "metadata": {},
   "outputs": [],
   "source": [
    "sc.tl.umap(adata_reynolds_fb_4820STDY7389007, min_dist=0.3, random_state=seed)"
   ]
  },
  {
   "cell_type": "code",
   "execution_count": null,
   "id": "molecular-factor",
   "metadata": {},
   "outputs": [],
   "source": [
    "sc.tl.leiden(adata_reynolds_fb_4820STDY7389007, resolution=1, random_state=seed)"
   ]
  },
  {
   "cell_type": "code",
   "execution_count": null,
   "id": "naked-requirement",
   "metadata": {},
   "outputs": [],
   "source": [
    "sc.pl.umap(adata_reynolds_fb_4820STDY7389007, color=['leiden', 'sample_id', 'full_clustering'], legend_loc='on data')"
   ]
  },
  {
   "cell_type": "code",
   "execution_count": null,
   "id": "artificial-implement",
   "metadata": {},
   "outputs": [],
   "source": [
    "sc.pl.umap(adata_reynolds_fb_4820STDY7389007, color=['APCDD1', 'COL18A1', 'COMP', 'SLPI', 'WIF1'], cmap=magma, use_raw=False)"
   ]
  },
  {
   "cell_type": "code",
   "execution_count": null,
   "id": "imposed-awareness",
   "metadata": {},
   "outputs": [],
   "source": [
    "sc.pl.umap(adata_reynolds_fb_4820STDY7389007, color=['MT2A', 'CCL19', 'CCL2', 'CD46'], cmap=magma, use_raw=False)"
   ]
  },
  {
   "cell_type": "code",
   "execution_count": null,
   "id": "heavy-magazine",
   "metadata": {},
   "outputs": [],
   "source": [
    "sc.pl.umap(adata_reynolds_fb_4820STDY7389007, color=['POSTN', 'COMP', 'COCH'], cmap=magma, use_raw=False)"
   ]
  },
  {
   "cell_type": "markdown",
   "id": "christian-tsunami",
   "metadata": {},
   "source": [
    "### Direct loom"
   ]
  },
  {
   "cell_type": "code",
   "execution_count": null,
   "id": "looking-sudan",
   "metadata": {},
   "outputs": [],
   "source": [
    "adata_reynolds_fb_4820STDY7389007_loom = sc.read('reynolds_2020/reynolds_2020_16_4820STDY7389007_s3_dermis_fibroblasts.loom', \n",
    "                                                 backup_url='https://zenodo.org/record/4596375/files/reynolds_2020_16_4820STDY7389007_s3_dermis_fibroblasts.loom')\n",
    "\n",
    "adata_reynolds_fb_4820STDY7389007_loom.var_names_make_unique()"
   ]
  },
  {
   "cell_type": "code",
   "execution_count": null,
   "id": "opening-politics",
   "metadata": {},
   "outputs": [],
   "source": [
    "adata_reynolds_fb_4820STDY7389007_loom.obs_names = [f\"{i.split('_')[-1]}-1-{i.split('_')[1]}\" for i in adata_reynolds_fb_4820STDY7389007_loom.obs_names]"
   ]
  },
  {
   "cell_type": "code",
   "execution_count": null,
   "id": "rapid-mathematics",
   "metadata": {},
   "outputs": [],
   "source": [
    "df_fb_type = pd.Series('-', index=adata_reynolds_fb_4820STDY7389007_loom.obs_names)\n",
    "df_fb_type.loc[adata_reynolds_fb_4820STDY7389007.obs_names & adata_reynolds_fb_4820STDY7389007_loom.obs_names] = adata_reynolds_fb_4820STDY7389007[adata_reynolds_fb_4820STDY7389007.obs_names & adata_reynolds_fb_4820STDY7389007_loom.obs_names].obs['full_clustering']\n",
    "adata_reynolds_fb_4820STDY7389007_loom.obs['science_clustering'] = df_fb_type"
   ]
  },
  {
   "cell_type": "code",
   "execution_count": null,
   "id": "potential-dance",
   "metadata": {},
   "outputs": [],
   "source": [
    "sc.pp.calculate_qc_metrics(adata_reynolds_fb_4820STDY7389007_loom, inplace=True)"
   ]
  },
  {
   "cell_type": "code",
   "execution_count": null,
   "id": "native-yugoslavia",
   "metadata": {},
   "outputs": [],
   "source": [
    "sc.pl.violin(adata_reynolds_fb_4820STDY7389007_loom, ['n_genes_by_counts'])\n",
    "sc.pl.violin(adata_reynolds_fb_4820STDY7389007_loom, ['log1p_total_counts'])"
   ]
  },
  {
   "cell_type": "code",
   "execution_count": null,
   "id": "technological-beverage",
   "metadata": {},
   "outputs": [],
   "source": [
    "sc.pp.filter_genes(adata_reynolds_fb_4820STDY7389007_loom, min_counts=30)\n",
    "adata_reynolds_fb_4820STDY7389007_loom.raw = adata_reynolds_fb_4820STDY7389007_loom"
   ]
  },
  {
   "cell_type": "code",
   "execution_count": null,
   "id": "friendly-softball",
   "metadata": {},
   "outputs": [],
   "source": [
    "sc.pp.normalize_per_cell(adata_reynolds_fb_4820STDY7389007_loom)\n",
    "sc.pp.log1p(adata_reynolds_fb_4820STDY7389007_loom)"
   ]
  },
  {
   "cell_type": "code",
   "execution_count": null,
   "id": "cordless-white",
   "metadata": {},
   "outputs": [],
   "source": [
    "sc.pp.pca(adata_reynolds_fb_4820STDY7389007_loom, random_state=seed, n_comps=30)\n",
    "tk.tl.triku(adata_reynolds_fb_4820STDY7389007_loom, n_procs=1, random_state=seed, use_adata_knn=True)\n",
    "sc.pp.neighbors(adata_reynolds_fb_4820STDY7389007_loom, metric='cosine')"
   ]
  },
  {
   "cell_type": "code",
   "execution_count": null,
   "id": "flying-phenomenon",
   "metadata": {},
   "outputs": [],
   "source": [
    "sc.tl.umap(adata_reynolds_fb_4820STDY7389007_loom, min_dist=0.3, random_state=seed)\n",
    "sc.tl.leiden(adata_reynolds_fb_4820STDY7389007_loom, resolution=0.8, random_state=seed)"
   ]
  },
  {
   "cell_type": "code",
   "execution_count": null,
   "id": "ordered-factory",
   "metadata": {},
   "outputs": [],
   "source": [
    "sc.pl.umap(adata_reynolds_fb_4820STDY7389007_loom, color=['leiden', 'science_clustering'], legend_loc='on data')"
   ]
  },
  {
   "cell_type": "code",
   "execution_count": null,
   "id": "norwegian-cleaner",
   "metadata": {},
   "outputs": [],
   "source": [
    "sc.pl.umap(adata_reynolds_fb_4820STDY7389007_loom, color=['LUM', 'PDGFRA', 'VIM', 'COL1A1', 'SFRP2', 'APOE', 'POSTN', 'RGS5', 'MYL9', 'NDUFA4L2', 'HBB'], legend_loc='on data', cmap=magma)"
   ]
  },
  {
   "cell_type": "code",
   "execution_count": null,
   "id": "noticed-switzerland",
   "metadata": {},
   "outputs": [],
   "source": [
    "sc.pl.umap(adata_reynolds_fb_4820STDY7389007_loom, color=['leiden', 'SFRP2', 'PI16', 'SLPI', 'WIF1', 'COL18A1', 'COMP', \n",
    "                                               'APOE', 'CCL2',  'ITM2A', 'SPSB1', \n",
    "                                               'CCDC146', 'CCL19', 'CD74'], cmap=magma, use_raw=False, legend_loc='on data')"
   ]
  },
  {
   "cell_type": "code",
   "execution_count": null,
   "id": "fifth-ready",
   "metadata": {},
   "outputs": [],
   "source": [
    "dict_cat = {'fb': ['LUM', 'PDGFRA', 'COL1A1', 'SFRP2', 'CCL19'], 'peri': ['RGS5', 'MYL9', 'NDUFA4L2'], 'eritro': ['HBB', 'HBA2', 'HBA1'], \n",
    "            'immune': ['TPSB2', 'TRAC', 'TPSAB1', 'HLA-DRA', 'FCER1G'], 'kerato': ['DMKN', 'KRT1'],\n",
    "            'mt': ['MTND2P28', 'MTND4P12', 'MTCO1P40', 'ADAM33', 'RN7SL2', 'MTRNR2L6']}\n",
    "\n",
    "assign_cats(adata_reynolds_fb_4820STDY7389007_loom, dict_cat)"
   ]
  },
  {
   "cell_type": "code",
   "execution_count": null,
   "id": "prescribed-liechtenstein",
   "metadata": {},
   "outputs": [],
   "source": [
    "sc.pl.umap(adata_reynolds_fb_4820STDY7389007_loom, color=['leiden', 'science_clustering', 'assigned_cats'], legend_loc='on data', cmap=magma)"
   ]
  },
  {
   "cell_type": "code",
   "execution_count": null,
   "id": "twenty-knight",
   "metadata": {},
   "outputs": [],
   "source": [
    "sc.tl.rank_genes_groups(adata_reynolds_fb_4820STDY7389007_loom, groupby='leiden')\n",
    "sc.pl.rank_genes_groups(adata_reynolds_fb_4820STDY7389007_loom)"
   ]
  },
  {
   "cell_type": "code",
   "execution_count": null,
   "id": "medium-prescription",
   "metadata": {},
   "outputs": [],
   "source": [
    "adata_reynolds_fb_4820STDY7389007_loom = adata_reynolds_fb_4820STDY7389007_loom[adata_reynolds_fb_4820STDY7389007_loom.obs['assigned_cats'] == 'fb']"
   ]
  },
  {
   "cell_type": "code",
   "execution_count": null,
   "id": "extensive-myrtle",
   "metadata": {},
   "outputs": [],
   "source": [
    "sc.pp.filter_genes(adata_reynolds_fb_4820STDY7389007_loom, min_counts=1)"
   ]
  },
  {
   "cell_type": "code",
   "execution_count": null,
   "id": "painted-finance",
   "metadata": {},
   "outputs": [],
   "source": [
    "sc.pp.pca(adata_reynolds_fb_4820STDY7389007_loom, random_state=seed, n_comps=30)\n",
    "tk.tl.triku(adata_reynolds_fb_4820STDY7389007_loom, n_procs=1, random_state=seed, use_adata_knn=True)\n",
    "sc.pp.neighbors(adata_reynolds_fb_4820STDY7389007_loom, metric='cosine')"
   ]
  },
  {
   "cell_type": "code",
   "execution_count": null,
   "id": "earned-party",
   "metadata": {},
   "outputs": [],
   "source": [
    "sc.tl.umap(adata_reynolds_fb_4820STDY7389007_loom, min_dist=0.05, random_state=seed)\n",
    "sc.tl.leiden(adata_reynolds_fb_4820STDY7389007_loom, resolution=1.2, random_state=seed)"
   ]
  },
  {
   "cell_type": "code",
   "execution_count": null,
   "id": "complete-nicholas",
   "metadata": {},
   "outputs": [],
   "source": [
    "adata_reynolds_fb_4820STDY7389007_loom"
   ]
  },
  {
   "cell_type": "code",
   "execution_count": null,
   "id": "posted-associate",
   "metadata": {},
   "outputs": [],
   "source": [
    "sc.pl.umap(adata_reynolds_fb_4820STDY7389007_loom, color=['leiden', 'science_clustering'], cmap=magma, use_raw=False, legend_loc='on data')"
   ]
  },
  {
   "cell_type": "code",
   "execution_count": null,
   "id": "identical-minnesota",
   "metadata": {},
   "outputs": [],
   "source": [
    "sc.pl.umap(adata_reynolds_fb_4820STDY7389007_loom, color=['leiden', 'SFRP2', 'PI16', 'SLPI', 'WIF1', 'COL18A1', 'COMP', \n",
    "                                               'APOE', 'CCL2',  'ITM2A', 'SPSB1', \n",
    "                                               'CCDC146', 'CCL19', 'CD74'], cmap=magma, use_raw=False, legend_loc='on data')"
   ]
  },
  {
   "cell_type": "markdown",
   "id": "overall-williams",
   "metadata": {},
   "source": [
    "## SKN8104899 (S4)"
   ]
  },
  {
   "cell_type": "markdown",
   "id": "specific-front",
   "metadata": {},
   "source": [
    "### Reynolds preprocessed"
   ]
  },
  {
   "cell_type": "code",
   "execution_count": null,
   "id": "dramatic-nirvana",
   "metadata": {},
   "outputs": [],
   "source": [
    "adata_reynolds_fb_SKN8104899 = adata_reynolds_fb_healthy[adata_reynolds_fb_healthy.obs['sample_id'].isin(['SKN8104899'])]  #selected_samples)]"
   ]
  },
  {
   "cell_type": "code",
   "execution_count": null,
   "id": "editorial-compression",
   "metadata": {},
   "outputs": [],
   "source": [
    "adata_reynolds_fb_SKN8104899"
   ]
  },
  {
   "cell_type": "code",
   "execution_count": null,
   "id": "spread-rapid",
   "metadata": {},
   "outputs": [],
   "source": [
    "sc.pp.filter_genes(adata_reynolds_fb_SKN8104899, min_counts=1)"
   ]
  },
  {
   "cell_type": "code",
   "execution_count": null,
   "id": "cellular-tsunami",
   "metadata": {},
   "outputs": [],
   "source": [
    "sc.pp.pca(adata_reynolds_fb_SKN8104899, random_state=seed, n_comps=30)\n",
    "tk.tl.triku(adata_reynolds_fb_SKN8104899, n_procs=1, random_state=seed, use_adata_knn=True)\n",
    "sc.pp.neighbors(adata_reynolds_fb_SKN8104899, metric='cosine')"
   ]
  },
  {
   "cell_type": "code",
   "execution_count": null,
   "id": "level-hierarchy",
   "metadata": {},
   "outputs": [],
   "source": [
    "sc.tl.umap(adata_reynolds_fb_SKN8104899, min_dist=0.3, random_state=seed)"
   ]
  },
  {
   "cell_type": "code",
   "execution_count": null,
   "id": "editorial-paper",
   "metadata": {},
   "outputs": [],
   "source": [
    "sc.tl.leiden(adata_reynolds_fb_SKN8104899, resolution=1, random_state=seed)"
   ]
  },
  {
   "cell_type": "code",
   "execution_count": null,
   "id": "boolean-heather",
   "metadata": {},
   "outputs": [],
   "source": [
    "sc.pl.umap(adata_reynolds_fb_SKN8104899, color=['leiden', 'sample_id', 'full_clustering'], legend_loc='on data')"
   ]
  },
  {
   "cell_type": "code",
   "execution_count": null,
   "id": "italic-macintosh",
   "metadata": {},
   "outputs": [],
   "source": [
    "sc.pl.umap(adata_reynolds_fb_SKN8104899, color=['APCDD1', 'COL18A1', 'COMP', 'SLPI', 'WIF1'], cmap=magma, use_raw=False)"
   ]
  },
  {
   "cell_type": "code",
   "execution_count": null,
   "id": "quarterly-catering",
   "metadata": {},
   "outputs": [],
   "source": [
    "sc.pl.umap(adata_reynolds_fb_SKN8104899, color=['MT2A', 'CCL19', 'CCL2', 'CD46'], cmap=magma, use_raw=False)"
   ]
  },
  {
   "cell_type": "markdown",
   "id": "opened-constant",
   "metadata": {},
   "source": [
    "### Direct loom"
   ]
  },
  {
   "cell_type": "code",
   "execution_count": null,
   "id": "elegant-knife",
   "metadata": {},
   "outputs": [],
   "source": [
    "adata_reynolds_fb_SKN8104899_loom = sc.read('reynolds_2020/reynolds_2020_84_SKN8104899_S4_dermis_fibroblasts.loom', \n",
    "                                                 backup_url='https://zenodo.org/record/4596375/files/reynolds_2020_84_SKN8104899_S4_dermis_fibroblasts.loom')\n",
    "\n",
    "adata_reynolds_fb_SKN8104899_loom.var_names_make_unique()"
   ]
  },
  {
   "cell_type": "code",
   "execution_count": null,
   "id": "amazing-stephen",
   "metadata": {},
   "outputs": [],
   "source": [
    "adata_reynolds_fb_SKN8104899_loom.obs_names = [f\"{i.split('_')[-1]}-1-{i.split('_')[1]}\" for i in adata_reynolds_fb_SKN8104899_loom.obs_names]"
   ]
  },
  {
   "cell_type": "code",
   "execution_count": null,
   "id": "static-plaza",
   "metadata": {},
   "outputs": [],
   "source": [
    "df_fb_type = pd.Series('-', index=adata_reynolds_fb_SKN8104899_loom.obs_names)\n",
    "df_fb_type.loc[adata_reynolds_fb_SKN8104899.obs_names & adata_reynolds_fb_SKN8104899_loom.obs_names] = adata_reynolds_fb_SKN8104899[adata_reynolds_fb_SKN8104899.obs_names & adata_reynolds_fb_SKN8104899_loom.obs_names].obs['full_clustering']\n",
    "adata_reynolds_fb_SKN8104899_loom.obs['science_clustering'] = df_fb_type"
   ]
  },
  {
   "cell_type": "code",
   "execution_count": null,
   "id": "fewer-adapter",
   "metadata": {},
   "outputs": [],
   "source": [
    "sc.pp.calculate_qc_metrics(adata_reynolds_fb_SKN8104899_loom, inplace=True)"
   ]
  },
  {
   "cell_type": "code",
   "execution_count": null,
   "id": "dirty-solid",
   "metadata": {},
   "outputs": [],
   "source": [
    "sc.pl.violin(adata_reynolds_fb_SKN8104899_loom, ['n_genes_by_counts'])\n",
    "sc.pl.violin(adata_reynolds_fb_SKN8104899_loom, ['log1p_total_counts'])"
   ]
  },
  {
   "cell_type": "code",
   "execution_count": null,
   "id": "lightweight-clock",
   "metadata": {},
   "outputs": [],
   "source": [
    "sc.pp.filter_genes(adata_reynolds_fb_SKN8104899_loom, min_counts=30)\n",
    "adata_reynolds_fb_SKN8104899_loom.raw = adata_reynolds_fb_SKN8104899_loom"
   ]
  },
  {
   "cell_type": "code",
   "execution_count": null,
   "id": "personal-kernel",
   "metadata": {},
   "outputs": [],
   "source": [
    "sc.pp.normalize_per_cell(adata_reynolds_fb_SKN8104899_loom)\n",
    "sc.pp.log1p(adata_reynolds_fb_SKN8104899_loom)"
   ]
  },
  {
   "cell_type": "code",
   "execution_count": null,
   "id": "separated-cornwall",
   "metadata": {},
   "outputs": [],
   "source": [
    "sc.pp.pca(adata_reynolds_fb_SKN8104899_loom, random_state=seed, n_comps=30)\n",
    "tk.tl.triku(adata_reynolds_fb_SKN8104899_loom, n_procs=1, random_state=seed, use_adata_knn=True)\n",
    "sc.pp.neighbors(adata_reynolds_fb_SKN8104899_loom, metric='cosine')"
   ]
  },
  {
   "cell_type": "code",
   "execution_count": null,
   "id": "patent-seafood",
   "metadata": {},
   "outputs": [],
   "source": [
    "sc.tl.umap(adata_reynolds_fb_SKN8104899_loom, min_dist=0.3, random_state=seed)\n",
    "sc.tl.leiden(adata_reynolds_fb_SKN8104899_loom, resolution=0.8, random_state=seed)"
   ]
  },
  {
   "cell_type": "code",
   "execution_count": null,
   "id": "random-breathing",
   "metadata": {},
   "outputs": [],
   "source": [
    "sc.pl.umap(adata_reynolds_fb_SKN8104899_loom, color=['leiden', 'science_clustering'], legend_loc='on data')"
   ]
  },
  {
   "cell_type": "code",
   "execution_count": null,
   "id": "cutting-george",
   "metadata": {},
   "outputs": [],
   "source": [
    "sc.pl.umap(adata_reynolds_fb_SKN8104899_loom, color=['LUM', 'PDGFRA', 'VIM', 'COL1A1', 'SFRP2', 'APOE', 'POSTN', 'RGS5', 'MYL9', 'NDUFA4L2', 'HBB'], legend_loc='on data', cmap=magma)"
   ]
  },
  {
   "cell_type": "code",
   "execution_count": null,
   "id": "colored-celebration",
   "metadata": {},
   "outputs": [],
   "source": [
    "sc.pl.umap(adata_reynolds_fb_SKN8104899_loom, color=['leiden', 'SFRP2', 'PI16', 'SLPI', 'WIF1', 'COL18A1', 'COMP', \n",
    "                                               'APOE', 'CCL2',  'ITM2A', 'SPSB1', \n",
    "                                               'CCDC146', 'CCL19', 'CD74', 'POSTN'], cmap=magma, use_raw=False, legend_loc='on data')"
   ]
  },
  {
   "cell_type": "code",
   "execution_count": null,
   "id": "fantastic-password",
   "metadata": {},
   "outputs": [],
   "source": [
    "dict_cat = {'fb': ['LUM', 'PDGFRA', 'COL1A1', 'SFRP2', 'CCL19'], 'peri': ['RGS5', 'MYL9', 'NDUFA4L2'], 'eritro': ['HBB', 'HBA2', 'HBA1'], \n",
    "            'immune': ['TRAC', 'HLA-DRA', 'FCER1G'], 'kerato': ['DMKN', 'KRT1'],\n",
    "            'mt': ['MTND4P12', 'ADAM33', 'RN7SL2', ]}\n",
    "\n",
    "assign_cats(adata_reynolds_fb_SKN8104899_loom, dict_cat)"
   ]
  },
  {
   "cell_type": "code",
   "execution_count": null,
   "id": "least-scott",
   "metadata": {},
   "outputs": [],
   "source": [
    "sc.pl.umap(adata_reynolds_fb_SKN8104899_loom, color=['leiden', 'science_clustering', 'assigned_cats'], legend_loc='on data', cmap=magma)"
   ]
  },
  {
   "cell_type": "code",
   "execution_count": null,
   "id": "romance-exchange",
   "metadata": {},
   "outputs": [],
   "source": [
    "sc.tl.rank_genes_groups(adata_reynolds_fb_SKN8104899_loom, groupby='leiden')\n",
    "sc.pl.rank_genes_groups(adata_reynolds_fb_SKN8104899_loom)"
   ]
  },
  {
   "cell_type": "code",
   "execution_count": null,
   "id": "right-rover",
   "metadata": {},
   "outputs": [],
   "source": [
    "adata_reynolds_fb_SKN8104899_loom = adata_reynolds_fb_SKN8104899_loom[adata_reynolds_fb_SKN8104899_loom.obs['assigned_cats'] == 'fb']"
   ]
  },
  {
   "cell_type": "code",
   "execution_count": null,
   "id": "structural-object",
   "metadata": {},
   "outputs": [],
   "source": [
    "sc.pp.filter_genes(adata_reynolds_fb_SKN8104899_loom, min_counts=1)"
   ]
  },
  {
   "cell_type": "code",
   "execution_count": null,
   "id": "wound-novel",
   "metadata": {},
   "outputs": [],
   "source": [
    "sc.pp.pca(adata_reynolds_fb_SKN8104899_loom, random_state=seed, n_comps=30)\n",
    "tk.tl.triku(adata_reynolds_fb_SKN8104899_loom, n_procs=1, random_state=seed, use_adata_knn=True)\n",
    "sc.pp.neighbors(adata_reynolds_fb_SKN8104899_loom, metric='cosine')"
   ]
  },
  {
   "cell_type": "code",
   "execution_count": null,
   "id": "threatened-vietnamese",
   "metadata": {},
   "outputs": [],
   "source": [
    "sc.tl.umap(adata_reynolds_fb_SKN8104899_loom, min_dist=0.05, random_state=seed)\n",
    "sc.tl.leiden(adata_reynolds_fb_SKN8104899_loom, resolution=1.2, random_state=seed)"
   ]
  },
  {
   "cell_type": "code",
   "execution_count": null,
   "id": "freelance-carter",
   "metadata": {},
   "outputs": [],
   "source": [
    "sc.pl.umap(adata_reynolds_fb_SKN8104899_loom, color=['leiden', 'science_clustering'], cmap=magma, use_raw=False, legend_loc='on data')"
   ]
  },
  {
   "cell_type": "code",
   "execution_count": null,
   "id": "senior-criminal",
   "metadata": {},
   "outputs": [],
   "source": [
    "sc.pl.umap(adata_reynolds_fb_SKN8104899_loom, color=['leiden', 'SFRP2', 'PI16', 'SLPI', 'WIF1', 'COL18A1', 'COMP', \n",
    "                                               'APOE', 'CCL2',  'ITM2A', 'SPSB1', \n",
    "                                               'CCDC146', 'CCL19', 'CD74'], cmap=magma, use_raw=False, legend_loc='on data')"
   ]
  },
  {
   "cell_type": "code",
   "execution_count": null,
   "id": "sonic-sudan",
   "metadata": {},
   "outputs": [],
   "source": [
    "sc.tl.rank_genes_groups(adata_reynolds_fb_SKN8104899_loom, groupby='leiden')\n",
    "sc.pl.rank_genes_groups(adata_reynolds_fb_SKN8104899_loom)"
   ]
  },
  {
   "cell_type": "markdown",
   "id": "adjustable-seeker",
   "metadata": {},
   "source": [
    "## SKN8105197 (S5)"
   ]
  },
  {
   "cell_type": "markdown",
   "id": "loose-element",
   "metadata": {},
   "source": [
    "### Reynolds preprocessed"
   ]
  },
  {
   "cell_type": "code",
   "execution_count": null,
   "id": "understanding-serum",
   "metadata": {},
   "outputs": [],
   "source": [
    "adata_reynolds_fb_SKN8105197 = adata_reynolds_fb_healthy[adata_reynolds_fb_healthy.obs['sample_id'].isin(['SKN8105197'])]  #selected_samples)]"
   ]
  },
  {
   "cell_type": "code",
   "execution_count": null,
   "id": "vital-temple",
   "metadata": {},
   "outputs": [],
   "source": [
    "adata_reynolds_fb_SKN8105197"
   ]
  },
  {
   "cell_type": "code",
   "execution_count": null,
   "id": "cloudy-dating",
   "metadata": {},
   "outputs": [],
   "source": [
    "sc.pp.filter_genes(adata_reynolds_fb_SKN8105197, min_counts=1)"
   ]
  },
  {
   "cell_type": "code",
   "execution_count": null,
   "id": "provincial-alloy",
   "metadata": {},
   "outputs": [],
   "source": [
    "sc.pp.pca(adata_reynolds_fb_SKN8105197, random_state=seed, n_comps=30)\n",
    "tk.tl.triku(adata_reynolds_fb_SKN8105197, n_procs=1, random_state=seed, use_adata_knn=True)\n",
    "sc.pp.neighbors(adata_reynolds_fb_SKN8105197, metric='cosine')"
   ]
  },
  {
   "cell_type": "code",
   "execution_count": null,
   "id": "answering-controversy",
   "metadata": {},
   "outputs": [],
   "source": [
    "sc.tl.umap(adata_reynolds_fb_SKN8105197, min_dist=0.3, random_state=seed)"
   ]
  },
  {
   "cell_type": "code",
   "execution_count": null,
   "id": "ignored-specification",
   "metadata": {},
   "outputs": [],
   "source": [
    "sc.tl.leiden(adata_reynolds_fb_SKN8105197, resolution=1, random_state=seed)"
   ]
  },
  {
   "cell_type": "code",
   "execution_count": null,
   "id": "removed-ukraine",
   "metadata": {},
   "outputs": [],
   "source": [
    "sc.pl.umap(adata_reynolds_fb_SKN8105197, color=['leiden', 'sample_id', 'full_clustering'], legend_loc='on data')"
   ]
  },
  {
   "cell_type": "code",
   "execution_count": null,
   "id": "approximate-liberty",
   "metadata": {},
   "outputs": [],
   "source": [
    "sc.pl.umap(adata_reynolds_fb_SKN8105197, color=['APCDD1', 'COL18A1', 'COMP', 'SLPI', 'WIF1'], cmap=magma, use_raw=False)"
   ]
  },
  {
   "cell_type": "code",
   "execution_count": null,
   "id": "explicit-adobe",
   "metadata": {},
   "outputs": [],
   "source": [
    "sc.pl.umap(adata_reynolds_fb_SKN8105197, color=['MT2A', 'CCL19', 'CCL2', 'CD46'], cmap=magma, use_raw=False)"
   ]
  },
  {
   "cell_type": "markdown",
   "id": "desperate-pharmaceutical",
   "metadata": {},
   "source": [
    "### Direct loom"
   ]
  },
  {
   "cell_type": "code",
   "execution_count": null,
   "id": "amazing-pontiac",
   "metadata": {},
   "outputs": [],
   "source": [
    "adata_reynolds_fb_SKN8105197_loom = sc.read('reynolds_2020/reynolds_2020_92_SKN8105197_S5_dermis_fibroblasts.loom', \n",
    "                                                 backup_url='https://zenodo.org/record/4596375/files/reynolds_2020_92_SKN8105197_S5_dermis_fibroblasts.loom')\n",
    "adata_reynolds_fb_SKN8105197_loom.var_names_make_unique()"
   ]
  },
  {
   "cell_type": "code",
   "execution_count": null,
   "id": "continent-sociology",
   "metadata": {},
   "outputs": [],
   "source": [
    "adata_reynolds_fb_SKN8105197_loom.obs_names = [f\"{i.split('_')[-1]}-1-{i.split('_')[1]}\" for i in adata_reynolds_fb_SKN8105197_loom.obs_names]"
   ]
  },
  {
   "cell_type": "code",
   "execution_count": null,
   "id": "seven-proposition",
   "metadata": {},
   "outputs": [],
   "source": [
    "df_fb_type = pd.Series('-', index=adata_reynolds_fb_SKN8105197_loom.obs_names)\n",
    "df_fb_type.loc[adata_reynolds_fb_SKN8105197.obs_names & adata_reynolds_fb_SKN8105197_loom.obs_names] = adata_reynolds_fb_SKN8105197[adata_reynolds_fb_SKN8105197.obs_names & adata_reynolds_fb_SKN8105197_loom.obs_names].obs['full_clustering']\n",
    "adata_reynolds_fb_SKN8105197_loom.obs['science_clustering'] = df_fb_type"
   ]
  },
  {
   "cell_type": "code",
   "execution_count": null,
   "id": "virgin-multimedia",
   "metadata": {},
   "outputs": [],
   "source": [
    "sc.pp.calculate_qc_metrics(adata_reynolds_fb_SKN8105197_loom, inplace=True)"
   ]
  },
  {
   "cell_type": "code",
   "execution_count": null,
   "id": "active-diamond",
   "metadata": {},
   "outputs": [],
   "source": [
    "sc.pl.violin(adata_reynolds_fb_SKN8105197_loom, ['n_genes_by_counts'])\n",
    "sc.pl.violin(adata_reynolds_fb_SKN8105197_loom, ['log1p_total_counts'])"
   ]
  },
  {
   "cell_type": "code",
   "execution_count": null,
   "id": "canadian-mixture",
   "metadata": {},
   "outputs": [],
   "source": [
    "sc.pp.filter_genes(adata_reynolds_fb_SKN8105197_loom, min_counts=30)\n",
    "adata_reynolds_fb_SKN8105197_loom.raw = adata_reynolds_fb_SKN8105197_loom"
   ]
  },
  {
   "cell_type": "code",
   "execution_count": null,
   "id": "northern-academy",
   "metadata": {},
   "outputs": [],
   "source": [
    "sc.pp.normalize_per_cell(adata_reynolds_fb_SKN8105197_loom)\n",
    "sc.pp.log1p(adata_reynolds_fb_SKN8105197_loom)"
   ]
  },
  {
   "cell_type": "code",
   "execution_count": null,
   "id": "sitting-usage",
   "metadata": {},
   "outputs": [],
   "source": [
    "sc.pp.pca(adata_reynolds_fb_SKN8105197_loom, random_state=seed, n_comps=30)\n",
    "tk.tl.triku(adata_reynolds_fb_SKN8105197_loom, n_procs=1, random_state=seed, use_adata_knn=True)\n",
    "sc.pp.neighbors(adata_reynolds_fb_SKN8105197_loom, metric='cosine')"
   ]
  },
  {
   "cell_type": "code",
   "execution_count": null,
   "id": "transsexual-rental",
   "metadata": {},
   "outputs": [],
   "source": [
    "sc.tl.umap(adata_reynolds_fb_SKN8105197_loom, min_dist=0.3, random_state=seed)\n",
    "sc.tl.leiden(adata_reynolds_fb_SKN8105197_loom, resolution=1, random_state=seed)"
   ]
  },
  {
   "cell_type": "code",
   "execution_count": null,
   "id": "champion-forward",
   "metadata": {},
   "outputs": [],
   "source": [
    "sc.pl.umap(adata_reynolds_fb_SKN8105197_loom, color=['leiden', 'science_clustering'], legend_loc='on data')"
   ]
  },
  {
   "cell_type": "code",
   "execution_count": null,
   "id": "built-choir",
   "metadata": {},
   "outputs": [],
   "source": [
    "sc.pl.umap(adata_reynolds_fb_SKN8105197_loom, color=['LUM', 'PDGFRA', 'VIM', 'COL1A1', 'SFRP2', 'APOE', 'RGS5', 'MYL9', 'NDUFA4L2', 'HBB'], legend_loc='on data', cmap=magma)"
   ]
  },
  {
   "cell_type": "code",
   "execution_count": null,
   "id": "native-secondary",
   "metadata": {},
   "outputs": [],
   "source": [
    "sc.pl.umap(adata_reynolds_fb_SKN8105197_loom, color=['leiden', 'SFRP2', 'SLPI', 'WIF1', 'COL18A1', 'COMP', \n",
    "                                               'APOE', 'CCL2',  'ITM2A', 'SPSB1', \n",
    "                                               'CCDC146', 'CCL19', 'CD74'], cmap=magma, use_raw=False, legend_loc='on data')"
   ]
  },
  {
   "cell_type": "code",
   "execution_count": null,
   "id": "sixth-mixture",
   "metadata": {},
   "outputs": [],
   "source": [
    "dict_cat = {'fb': ['LUM', 'PDGFRA', 'COL1A1', 'SFRP2', 'CCL19'], 'peri': ['RGS5', 'MYL9', 'NDUFA4L2'], 'eritro': ['HBB', 'HBA2', 'HBA1'], \n",
    "            'immune': ['HLA-DRA', 'FCER1G'], 'melano':['PMEL', 'MLANA']}\n",
    "\n",
    "assign_cats(adata_reynolds_fb_SKN8105197_loom, dict_cat)"
   ]
  },
  {
   "cell_type": "code",
   "execution_count": null,
   "id": "understood-effects",
   "metadata": {},
   "outputs": [],
   "source": [
    "sc.pl.umap(adata_reynolds_fb_SKN8105197_loom, color=['leiden', 'science_clustering', 'assigned_cats'], legend_loc='on data', cmap=magma)"
   ]
  },
  {
   "cell_type": "code",
   "execution_count": null,
   "id": "running-pharmaceutical",
   "metadata": {},
   "outputs": [],
   "source": [
    "sc.tl.rank_genes_groups(adata_reynolds_fb_SKN8105197_loom, groupby='leiden')\n",
    "sc.pl.rank_genes_groups(adata_reynolds_fb_SKN8105197_loom)"
   ]
  },
  {
   "cell_type": "code",
   "execution_count": null,
   "id": "suitable-coverage",
   "metadata": {},
   "outputs": [],
   "source": [
    "adata_reynolds_fb_SKN8105197_loom = adata_reynolds_fb_SKN8105197_loom[adata_reynolds_fb_SKN8105197_loom.obs['assigned_cats'] == 'fb']"
   ]
  },
  {
   "cell_type": "code",
   "execution_count": null,
   "id": "regulated-fishing",
   "metadata": {},
   "outputs": [],
   "source": [
    "sc.pp.filter_genes(adata_reynolds_fb_SKN8105197_loom, min_counts=1)"
   ]
  },
  {
   "cell_type": "code",
   "execution_count": null,
   "id": "shaped-porter",
   "metadata": {},
   "outputs": [],
   "source": [
    "sc.pp.pca(adata_reynolds_fb_SKN8105197_loom, random_state=seed, n_comps=30)\n",
    "tk.tl.triku(adata_reynolds_fb_SKN8105197_loom, n_procs=1, random_state=seed, use_adata_knn=True)\n",
    "sc.pp.neighbors(adata_reynolds_fb_SKN8105197_loom, metric='cosine')"
   ]
  },
  {
   "cell_type": "code",
   "execution_count": null,
   "id": "simplified-communist",
   "metadata": {},
   "outputs": [],
   "source": [
    "sc.tl.umap(adata_reynolds_fb_SKN8105197_loom, min_dist=0.05, random_state=seed)\n",
    "sc.tl.leiden(adata_reynolds_fb_SKN8105197_loom, resolution=1.2, random_state=seed)"
   ]
  },
  {
   "cell_type": "code",
   "execution_count": null,
   "id": "adjustable-budapest",
   "metadata": {},
   "outputs": [],
   "source": [
    "sc.pl.umap(adata_reynolds_fb_SKN8105197_loom, color=['leiden', 'science_clustering'], cmap=magma, use_raw=False, legend_loc='on data')"
   ]
  },
  {
   "cell_type": "code",
   "execution_count": null,
   "id": "played-attachment",
   "metadata": {},
   "outputs": [],
   "source": [
    "sc.pl.umap(adata_reynolds_fb_SKN8105197_loom, color=['leiden', 'SFRP2', 'SLPI', 'WIF1', 'COL18A1', 'COMP', \n",
    "                                               'APOE', 'CCL2',  'ITM2A', 'SPSB1', \n",
    "                                               'CCDC146', 'CCL19', 'CD74'], cmap=magma, use_raw=False, legend_loc='on data')"
   ]
  },
  {
   "cell_type": "markdown",
   "id": "adjusted-buffer",
   "metadata": {},
   "source": [
    "### SKN8105197 exclusion\n",
    "We do not see SFRP2 expression, which has been a through fb marker, together with APOE. We will not include this sample in the analysis."
   ]
  },
  {
   "cell_type": "markdown",
   "id": "binding-hayes",
   "metadata": {},
   "source": [
    "# Preparing adatas for FB1+3 and FB2\n",
    "\n",
    "We've realized that FB1+3 and FB2 showed the same main populations based on JID (A1, A2 and B2 mainly). We want to obtain distinct populations based on the marker expression, and also be able to separate these two populations. The problem is that the FB1+3 and FB2 populations, although not fully overlapping, they do show some overlap between them, and we would like to separate them only based on marker genes and clustering. These markers should be shared between all datasets. To do that, we are going to do a preeliminar DEG analysis and find markers that separate these populations in an unbiased manner."
   ]
  },
  {
   "cell_type": "markdown",
   "id": "latest-garden",
   "metadata": {},
   "source": [
    "## Finding markers to separate 1+3 from 2"
   ]
  },
  {
   "cell_type": "markdown",
   "id": "surrounded-genetics",
   "metadata": {},
   "source": [
    "**This part may not be reproducible in other notebooks. This part is to get markers that will be reproducible later on**"
   ]
  },
  {
   "cell_type": "code",
   "execution_count": null,
   "id": "distinguished-newport",
   "metadata": {},
   "outputs": [],
   "source": [
    "# S1\n",
    "sc.tl.leiden(adata_reynolds_fb_4820STDY7388991_loom_fb, resolution=3, random_state=seed)\n",
    "sc.pl.umap(adata_reynolds_fb_4820STDY7388991_loom_fb, color=['leiden', 'science_clustering'], cmap=magma, use_raw=False, legend_loc='on data')\n",
    "adata_reynolds_fb_4820STDY7388991_loom_fb.obs['fb_type'] = ['1+3' if i in ['3', '16', '12', '19', '6', '17', '8', '2', '9', '11', '12', '14', '0', '21', '22'] else '2' for i in adata_reynolds_fb_4820STDY7388991_loom_fb.obs['leiden']]\n",
    "sc.pl.umap(adata_reynolds_fb_4820STDY7388991_loom_fb, color=['fb_type', 'science_clustering'], cmap=magma, use_raw=False, legend_loc='on data')"
   ]
  },
  {
   "cell_type": "code",
   "execution_count": null,
   "id": "academic-laundry",
   "metadata": {},
   "outputs": [],
   "source": [
    "sc.tl.rank_genes_groups(adata_reynolds_fb_4820STDY7388991_loom_fb, groupby='fb_type', groups=['1+3'], reference='2', rankby_abs=True)\n",
    "df_rank_s1 = pd.DataFrame(adata_reynolds_fb_4820STDY7388991_loom_fb.uns['rank_genes_groups']['names']['1+3'],\n",
    "adata_reynolds_fb_4820STDY7388991_loom_fb.uns['rank_genes_groups']['scores']['1+3']).sort_index(ascending=False)"
   ]
  },
  {
   "cell_type": "code",
   "execution_count": null,
   "id": "static-omega",
   "metadata": {},
   "outputs": [],
   "source": [
    "# S2\n",
    "sc.tl.leiden(adata_reynolds_fb_4820STDY7388999_loom, resolution=3, random_state=seed)\n",
    "sc.pl.umap(adata_reynolds_fb_4820STDY7388999_loom, color=['leiden', 'science_clustering'], cmap=magma, use_raw=False, legend_loc='on data')\n",
    "adata_reynolds_fb_4820STDY7388999_loom.obs['fb_type'] = ['2' if i in ['15', '16', '19'] else '1+3' for i in adata_reynolds_fb_4820STDY7388999_loom.obs['leiden']]\n",
    "sc.pl.umap(adata_reynolds_fb_4820STDY7388999_loom, color=['fb_type', 'science_clustering'], cmap=magma, use_raw=False, legend_loc='on data')"
   ]
  },
  {
   "cell_type": "code",
   "execution_count": null,
   "id": "mental-change",
   "metadata": {},
   "outputs": [],
   "source": [
    "sc.tl.rank_genes_groups(adata_reynolds_fb_4820STDY7388999_loom, groupby='fb_type', groups=['1+3'], reference='2', rankby_abs=True)\n",
    "df_rank_s2 = pd.DataFrame(adata_reynolds_fb_4820STDY7388999_loom.uns['rank_genes_groups']['names']['1+3'],\n",
    "adata_reynolds_fb_4820STDY7388999_loom.uns['rank_genes_groups']['scores']['1+3']).sort_index(ascending=False)"
   ]
  },
  {
   "cell_type": "code",
   "execution_count": null,
   "id": "generic-context",
   "metadata": {},
   "outputs": [],
   "source": [
    "# S3\n",
    "sc.tl.leiden(adata_reynolds_fb_4820STDY7389007_loom, resolution=2.8, random_state=seed)\n",
    "sc.pl.umap(adata_reynolds_fb_4820STDY7389007_loom, color=['leiden', 'science_clustering'], cmap=magma, use_raw=False, legend_loc='on data')\n",
    "adata_reynolds_fb_4820STDY7389007_loom.obs['fb_type'] = ['2' if i in ['0', '17', '16', '13', '4', '1', '19'] else '1+3' for i in adata_reynolds_fb_4820STDY7389007_loom.obs['leiden']]\n",
    "sc.pl.umap(adata_reynolds_fb_4820STDY7389007_loom, color=['fb_type', 'science_clustering'], cmap=magma, use_raw=False, legend_loc='on data')"
   ]
  },
  {
   "cell_type": "code",
   "execution_count": null,
   "id": "optimum-exemption",
   "metadata": {},
   "outputs": [],
   "source": [
    "sc.tl.rank_genes_groups(adata_reynolds_fb_4820STDY7389007_loom, groupby='fb_type', groups=['1+3'], reference='2', rankby_abs=True)\n",
    "df_rank_s3 = pd.DataFrame(adata_reynolds_fb_4820STDY7389007_loom.uns['rank_genes_groups']['names']['1+3'],\n",
    "adata_reynolds_fb_4820STDY7389007_loom.uns['rank_genes_groups']['scores']['1+3']).sort_index(ascending=False)"
   ]
  },
  {
   "cell_type": "code",
   "execution_count": null,
   "id": "sunrise-helen",
   "metadata": {},
   "outputs": [],
   "source": [
    "# S4\n",
    "sc.tl.leiden(adata_reynolds_fb_SKN8104899_loom, resolution=3, random_state=seed)\n",
    "sc.pl.umap(adata_reynolds_fb_SKN8104899_loom, color=['leiden', 'science_clustering'], cmap=magma, use_raw=False, legend_loc='on data')\n",
    "adata_reynolds_fb_SKN8104899_loom.obs['fb_type'] = ['2' if i in ['8', '6', '14', '27'] else '1+3' for i in adata_reynolds_fb_SKN8104899_loom.obs['leiden']]\n",
    "sc.pl.umap(adata_reynolds_fb_SKN8104899_loom, color=['fb_type', 'science_clustering'], cmap=magma, use_raw=False, legend_loc='on data')"
   ]
  },
  {
   "cell_type": "code",
   "execution_count": null,
   "id": "binary-composer",
   "metadata": {},
   "outputs": [],
   "source": [
    "sc.tl.rank_genes_groups(adata_reynolds_fb_SKN8104899_loom, groupby='fb_type', groups=['1+3'], reference='2', rankby_abs=True)\n",
    "df_rank_s4 = pd.DataFrame(adata_reynolds_fb_SKN8104899_loom.uns['rank_genes_groups']['names']['1+3'],\n",
    "adata_reynolds_fb_SKN8104899_loom.uns['rank_genes_groups']['scores']['1+3']).sort_index(ascending=False)"
   ]
  },
  {
   "cell_type": "code",
   "execution_count": null,
   "id": "three-houston",
   "metadata": {},
   "outputs": [],
   "source": [
    "N = 30\n",
    "\n",
    "genes_13, counts_13 = np.unique(list(df_rank_s1.iloc[:N, 0].values) + list(df_rank_s2.iloc[:N, 0].values) + list(df_rank_s3.iloc[:N, 0].values) + list(df_rank_s4.iloc[:N, 0].values), return_counts=True)\n",
    "genes_13_shared = genes_13[counts_13 >= 3]\n",
    "\n",
    "genes_2, counts_2 = np.unique(list(df_rank_s1.iloc[-N:, 0].values) + list(df_rank_s2.iloc[-N:, 0].values) + list(df_rank_s3.iloc[-N:, 0].values) + list(df_rank_s4.iloc[-N:, 0].values), return_counts=True)\n",
    "genes_2_shared = genes_2[counts_2 >= 3]"
   ]
  },
  {
   "cell_type": "code",
   "execution_count": null,
   "id": "athletic-parameter",
   "metadata": {},
   "outputs": [],
   "source": [
    "genes_13_shared"
   ]
  },
  {
   "cell_type": "code",
   "execution_count": null,
   "id": "atmospheric-capital",
   "metadata": {},
   "outputs": [],
   "source": [
    "genes_2_shared"
   ]
  },
  {
   "cell_type": "markdown",
   "id": "virgin-valve",
   "metadata": {},
   "source": [
    "## Separe the 1+3 from 2"
   ]
  },
  {
   "cell_type": "code",
   "execution_count": null,
   "id": "capable-helping",
   "metadata": {},
   "outputs": [],
   "source": [
    "genes_13_shared = ['BNIP3L', 'BNIP3P1', 'CEMIP', 'ENO1', 'GSTO1', 'MEDAG', 'NAMPT', 'NAMPTP1', 'NRN1', ]"
   ]
  },
  {
   "cell_type": "code",
   "execution_count": null,
   "id": "major-beatles",
   "metadata": {},
   "outputs": [],
   "source": [
    "genes_2_shared = ['ANXA2', 'CALM1', 'FOSB', 'LMNA', 'MTRNR2L12', 'S100A10', 'S100A4', 'S100A6', 'TMSB4X', 'TPPP3']"
   ]
  },
  {
   "cell_type": "code",
   "execution_count": null,
   "id": "patient-karaoke",
   "metadata": {},
   "outputs": [],
   "source": [
    "dict_cat = {'1+3': genes_13_shared, '2': genes_2_shared}\n",
    "\n",
    "for adata in [adata_reynolds_fb_4820STDY7388991_loom_fb, adata_reynolds_fb_4820STDY7388999_loom, adata_reynolds_fb_4820STDY7389007_loom, adata_reynolds_fb_SKN8104899_loom]:\n",
    "    assign_cats(adata, dict_cat)"
   ]
  },
  {
   "cell_type": "code",
   "execution_count": null,
   "id": "corporate-ebony",
   "metadata": {},
   "outputs": [],
   "source": [
    "sc.pl.umap(adata_reynolds_fb_4820STDY7388991_loom_fb, color=['leiden', 'science_clustering', 'fb_type', 'assigned_cats',  'score_assign_1+3', 'score_assign_2', 'assigned_cats_CV'], legend_loc='on data', cmap=magma)"
   ]
  },
  {
   "cell_type": "code",
   "execution_count": null,
   "id": "corresponding-plastic",
   "metadata": {},
   "outputs": [],
   "source": [
    "sc.pl.umap(adata_reynolds_fb_4820STDY7388991_loom_fb, color=['leiden'] + genes_13_shared, legend_loc='on data', cmap=magma, use_raw=False)"
   ]
  },
  {
   "cell_type": "code",
   "execution_count": null,
   "id": "wrapped-panic",
   "metadata": {},
   "outputs": [],
   "source": [
    "sc.pl.umap(adata_reynolds_fb_4820STDY7388991_loom_fb, color=['leiden'] + genes_2_shared, legend_loc='on data', cmap=magma, use_raw=False)"
   ]
  },
  {
   "cell_type": "code",
   "execution_count": null,
   "id": "accomplished-kenya",
   "metadata": {},
   "outputs": [],
   "source": [
    "sc.pl.umap(adata_reynolds_fb_4820STDY7388999_loom, color=['leiden', 'science_clustering', 'fb_type', 'assigned_cats', 'score_assign_1+3', 'score_assign_2', 'assigned_cats_CV'], legend_loc='on data', cmap=magma)"
   ]
  },
  {
   "cell_type": "code",
   "execution_count": null,
   "id": "elementary-accused",
   "metadata": {},
   "outputs": [],
   "source": [
    "sc.pl.umap(adata_reynolds_fb_4820STDY7388999_loom, color=['leiden'] + genes_13_shared, legend_loc='on data', cmap=magma, use_raw=False)"
   ]
  },
  {
   "cell_type": "code",
   "execution_count": null,
   "id": "suitable-literature",
   "metadata": {},
   "outputs": [],
   "source": [
    "sc.pl.umap(adata_reynolds_fb_4820STDY7388999_loom, color=['leiden'] + genes_2_shared, legend_loc='on data', cmap=magma, use_raw=False)"
   ]
  },
  {
   "cell_type": "code",
   "execution_count": null,
   "id": "driven-array",
   "metadata": {},
   "outputs": [],
   "source": [
    "sc.pl.umap(adata_reynolds_fb_4820STDY7389007_loom, color=['leiden', 'science_clustering', 'fb_type', 'assigned_cats',  'score_assign_1+3', 'score_assign_2', 'assigned_cats_CV'], legend_loc='on data', cmap=magma)"
   ]
  },
  {
   "cell_type": "code",
   "execution_count": null,
   "id": "composite-shakespeare",
   "metadata": {},
   "outputs": [],
   "source": [
    "sc.pl.umap(adata_reynolds_fb_4820STDY7389007_loom, color=['leiden'] + genes_13_shared, legend_loc='on data', cmap=magma, use_raw=False)"
   ]
  },
  {
   "cell_type": "code",
   "execution_count": null,
   "id": "italic-vertical",
   "metadata": {},
   "outputs": [],
   "source": [
    "sc.pl.umap(adata_reynolds_fb_4820STDY7389007_loom, color=['leiden'] + genes_2_shared, legend_loc='on data', cmap=magma, use_raw=False)"
   ]
  },
  {
   "cell_type": "code",
   "execution_count": null,
   "id": "actual-climate",
   "metadata": {},
   "outputs": [],
   "source": [
    "sc.pl.umap(adata_reynolds_fb_SKN8104899_loom, color=['leiden', 'science_clustering', 'fb_type', 'assigned_cats',  'score_assign_1+3', 'score_assign_2', 'assigned_cats_CV'], legend_loc='on data', cmap=magma)"
   ]
  },
  {
   "cell_type": "code",
   "execution_count": null,
   "id": "changing-submission",
   "metadata": {},
   "outputs": [],
   "source": [
    "sc.pl.umap(adata_reynolds_fb_SKN8104899_loom, color=['leiden'] + genes_13_shared, legend_loc='on data', cmap=magma, use_raw=False)"
   ]
  },
  {
   "cell_type": "code",
   "execution_count": null,
   "id": "regional-yacht",
   "metadata": {},
   "outputs": [],
   "source": [
    "sc.pl.umap(adata_reynolds_fb_SKN8104899_loom, color=['leiden'] + genes_2_shared, legend_loc='on data', cmap=magma, use_raw=False)"
   ]
  },
  {
   "cell_type": "markdown",
   "id": "happy-communist",
   "metadata": {},
   "source": [
    "## Create the adatas"
   ]
  },
  {
   "cell_type": "code",
   "execution_count": null,
   "id": "affected-tonight",
   "metadata": {},
   "outputs": [],
   "source": [
    "adata_s1_13 = adata_reynolds_fb_4820STDY7388991_loom_fb[adata_reynolds_fb_4820STDY7388991_loom_fb.obs['assigned_cats'] == '1+3'].copy()\n",
    "adata_s1_2 = adata_reynolds_fb_4820STDY7388991_loom_fb[adata_reynolds_fb_4820STDY7388991_loom_fb.obs['assigned_cats'] == '2'].copy()\n",
    "\n",
    "adata_s2_13 = adata_reynolds_fb_4820STDY7388999_loom[adata_reynolds_fb_4820STDY7388999_loom.obs['assigned_cats'] == '1+3'].copy()\n",
    "adata_s2_2 = adata_reynolds_fb_4820STDY7388999_loom[adata_reynolds_fb_4820STDY7388999_loom.obs['assigned_cats'] == '2'].copy()\n",
    "\n",
    "adata_s3_13 = adata_reynolds_fb_4820STDY7389007_loom[adata_reynolds_fb_4820STDY7389007_loom.obs['assigned_cats'] == '1+3'].copy()\n",
    "adata_s3_2 = adata_reynolds_fb_4820STDY7389007_loom[adata_reynolds_fb_4820STDY7389007_loom.obs['assigned_cats'] == '2'].copy()\n",
    "\n",
    "adata_s4_13 = adata_reynolds_fb_SKN8104899_loom[adata_reynolds_fb_SKN8104899_loom.obs['assigned_cats'] == '1+3'].copy()\n",
    "adata_s4_2 = adata_reynolds_fb_SKN8104899_loom[adata_reynolds_fb_SKN8104899_loom.obs['assigned_cats'] == '2'].copy()"
   ]
  },
  {
   "cell_type": "code",
   "execution_count": null,
   "id": "acceptable-error",
   "metadata": {},
   "outputs": [],
   "source": [
    "for adata_s_name in ['adata_s1_13', 'adata_s1_2', 'adata_s2_13', 'adata_s2_2', 'adata_s3_13', 'adata_s3_2', 'adata_s4_13', 'adata_s4_2']:  # We do this because with the adata name by itselft it won't work!!!\n",
    "    sc.pp.filter_genes(eval(adata_s_name), min_counts=1)\n",
    "    sc.pp.pca(eval(adata_s_name), random_state=seed, n_comps=30)\n",
    "    tk.tl.triku(eval(adata_s_name), n_procs=1, random_state=seed)\n",
    "    sc.pp.neighbors(eval(adata_s_name), metric='cosine')\n",
    "    sc.tl.umap(eval(adata_s_name), min_dist=0.05, random_state=seed)"
   ]
  },
  {
   "cell_type": "code",
   "execution_count": null,
   "id": "intellectual-continent",
   "metadata": {},
   "outputs": [],
   "source": [
    "fig, axs = plt.subplots(1, 2, figsize=(6, 3))\n",
    "sc.pl.umap(adata_s1_13, color=['science_clustering'], legend_loc='on data', cmap=magma, ax=axs[0], show=False)\n",
    "sc.pl.umap(adata_s1_2, color=['science_clustering'], legend_loc='on data', cmap=magma, ax=axs[1], show=False)"
   ]
  },
  {
   "cell_type": "code",
   "execution_count": null,
   "id": "prime-plastic",
   "metadata": {},
   "outputs": [],
   "source": [
    "fig, axs = plt.subplots(1, 2, figsize=(6, 3))\n",
    "sc.pl.umap(adata_s2_13, color=['science_clustering'], legend_loc='on data', cmap=magma, ax=axs[0], show=False)\n",
    "sc.pl.umap(adata_s2_2, color=['science_clustering'], legend_loc='on data', cmap=magma, ax=axs[1], show=False)"
   ]
  },
  {
   "cell_type": "code",
   "execution_count": null,
   "id": "checked-butter",
   "metadata": {},
   "outputs": [],
   "source": [
    "fig, axs = plt.subplots(1, 2, figsize=(6, 3))\n",
    "sc.pl.umap(adata_s3_13, color=['science_clustering'], legend_loc='on data', cmap=magma, ax=axs[0], show=False)\n",
    "sc.pl.umap(adata_s3_2, color=['science_clustering'], legend_loc='on data', cmap=magma, ax=axs[1], show=False)"
   ]
  },
  {
   "cell_type": "code",
   "execution_count": null,
   "id": "superb-incidence",
   "metadata": {},
   "outputs": [],
   "source": [
    "fig, axs = plt.subplots(1, 2, figsize=(6, 3))\n",
    "sc.pl.umap(adata_s4_13, color=['science_clustering'], legend_loc='on data', cmap=magma, ax=axs[0], show=False)\n",
    "sc.pl.umap(adata_s4_2, color=['science_clustering'], legend_loc='on data', cmap=magma, ax=axs[1], show=False)"
   ]
  },
  {
   "cell_type": "markdown",
   "id": "colored-hawaiian",
   "metadata": {},
   "source": [
    "## Assigning JID categories\n",
    "Based on this we do not see any discordancies in the dataset. We are going to apply the category assignation to assign the JID clusters to the dataset."
   ]
  },
  {
   "cell_type": "code",
   "execution_count": null,
   "id": "united-expression",
   "metadata": {},
   "outputs": [],
   "source": [
    "def assign_cats(adata, dict_cats, column_groupby='leiden', quantile_gene_sel=0.85, per_outlier=98, do_return=False, intermediate_states=False, diff=0.05):\n",
    "    \"\"\"\n",
    "    This functions uses a set of genes assigned to different categories so that leiden clusters can be assigned to one of these categories.\n",
    "    For example, to categorize fibroblasts from pericytes, endothelial cells, or cells with high mitochondrial content.\n",
    "    It could be done with each cell individually, but it is better to use clusters to discern the different categories because\n",
    "    the method, although efficient, can sometimes be noisy due to the noisiness of the sc datasets.\n",
    "    \"\"\"\n",
    "    \n",
    "    for cat in list(dict_cats.keys()):\n",
    "        mat_cat = np.zeros((len(adata), len(dict_cat[cat])), dtype=float)\n",
    "        \n",
    "        for gene_idx, gene in enumerate(dict_cat[cat]):\n",
    "            try:\n",
    "                mat_cat[:, gene_idx] = np.asarray(np.dot(adata.obsp['connectivities'], adata[:, gene].X).todense()).ravel()\n",
    "                # We normalize the expression to the maximum (per 98) of expression ** 0.5 to account to some extent for the expression of the gene. \n",
    "                # In the end, a gene highly expressed must account for more than a gene with lower expression\n",
    "                mat_cat[:, gene_idx] /= np.percentile(mat_cat[:, gene_idx][mat_cat[:, gene_idx] > 0], per_outlier) ** 0.5\n",
    "            except:\n",
    "                print(f'Gene {gene} is not on the list')            \n",
    "        \n",
    "        sum_mat_cat = np.asarray(mat_cat.sum(1)).ravel()\n",
    "        try:\n",
    "            sum_mat_cat /= np.percentile(sum_mat_cat[sum_mat_cat > 0], per_outlier, axis=0)\n",
    "        except:\n",
    "            pass\n",
    "        \n",
    "        adata.obs[cat] = sum_mat_cat\n",
    "    \n",
    "    score_per_cluster = adata.obs[[column_groupby] + list(dict_cats.keys())].groupby(column_groupby).quantile(quantile_gene_sel)\n",
    "    max_cat_dict_std = dict(zip(score_per_cluster.std(1).index, score_per_cluster.std(1).values))\n",
    "    adata.obs['assigned_cats_std'] = [max_cat_dict_std[i] for i in adata.obs[column_groupby]]\n",
    "    max_cat_dict_mean = dict(zip(score_per_cluster.mean(1).index, score_per_cluster.mean(1).values))\n",
    "    adata.obs['assigned_cats_mean'] = [max_cat_dict_mean[i] for i in adata.obs[column_groupby]]\n",
    "    adata.obs['assigned_cats_CV'] = adata.obs['assigned_cats_mean'] / adata.obs['assigned_cats_std']\n",
    "    \n",
    "    for cat in score_per_cluster.columns:\n",
    "        max_cat_dict = dict(zip(score_per_cluster.index, score_per_cluster[cat].values))\n",
    "        adata.obs[f'score_assign_{cat}'] = [max_cat_dict[i] for i in adata.obs[column_groupby]]\n",
    "    \n",
    "    if intermediate_states: # For each cluster we will identify which categories are close to the highest one, and merge their names.\n",
    "        list_names_cats_per_cluster = []\n",
    "        for cluster in score_per_cluster.index:\n",
    "            scores_cluster = score_per_cluster.loc[cluster]\n",
    "            scores_cluster = scores_cluster[scores_cluster > scores_cluster.max() - diff]\n",
    "            list_names_cats_per_cluster.append('/'.join(scores_cluster.index))\n",
    "            \n",
    "        inter_cat_dict = dict(zip(score_per_cluster.idxmax(axis=1).index, list_names_cats_per_cluster))\n",
    "        adata.obs['assigned_cats'] = [str(inter_cat_dict[i]) for i in adata.obs[column_groupby]]\n",
    "    else:\n",
    "        max_cat_dict = dict(zip(score_per_cluster.idxmax(axis=1).index, score_per_cluster.idxmax(axis=1).values))\n",
    "        adata.obs['assigned_cats'] = [str(max_cat_dict[i]) for i in adata.obs[column_groupby]]\n",
    "    \n",
    "    if do_return:\n",
    "        return score_per_cluster"
   ]
  },
  {
   "cell_type": "code",
   "execution_count": null,
   "id": "front-reasoning",
   "metadata": {},
   "outputs": [],
   "source": [
    "## MAP JID populations\n",
    "\n",
    "dict_cat = {'A1': ['PI16', 'QPCT', 'SLPI', 'WISP2', 'CPE', 'CTHRC1', 'MFAP5', 'PCOLCE2', 'SCARA5', 'TSPAN8'], \n",
    "            'A2': ['APCDD1', 'COL18A1', 'COMP', 'NKD2', 'F13A1', 'HSPB3', 'LEPR', 'TGFBI'], \n",
    "            'B1': ['CCL2', 'ITM2A', 'SPSB1', 'SOD2', 'APOD', 'C3', 'C7', 'CXCL2', 'CXCL12', 'DNAJA1', 'GGT5', 'IGFBP7', 'MYC'], \n",
    "            'B2': ['SOCS3', 'CCL19', 'CD74', 'RARRES2', 'C3', 'CCDC146', 'IGFBP3', 'TNFSF13B'], \n",
    "            'C1': ['COL11A1', 'DPEP1', 'EDNRA', 'TMEM119'],\n",
    "            'C2': ['COCH', 'CRABP1', 'EMID', 'ARHGAP15', 'PLXDC1', 'FIBIN', 'F13A1', 'GPM6B', 'HSPA2', 'MEOX',  'RSPO4', 'SERTAD4-AS1', 'SLITRK6', 'TNN', 'TRSP1'], \n",
    "            'C3': ['ASPN', 'F2R', 'POSTN', 'PTN', 'GPM6B'], \n",
    "            'C4': ['ANGPTL7', 'C2orf40', 'SCN7A', 'TM4SF1', 'CLDN1', 'CYP1B1', 'FGFBP2', 'NGFR', 'NRP2', 'SLC22A3']}"
   ]
  },
  {
   "cell_type": "markdown",
   "id": "polish-anxiety",
   "metadata": {},
   "source": [
    "A1: TSPAN8, SCARA5 less expressed in 1+3 datasets\n",
    "A2: F13A1, HSPB3 less expressed in 1+3 datasets. APCDD1 is not a good marker for all samples\n",
    "B2: CCDC146 + TNFSF13B not expressed in 1+3 datasets"
   ]
  },
  {
   "cell_type": "markdown",
   "id": "tracked-wright",
   "metadata": {},
   "source": [
    "### S1 1+3"
   ]
  },
  {
   "cell_type": "code",
   "execution_count": null,
   "id": "prostate-medium",
   "metadata": {},
   "outputs": [],
   "source": [
    "adata_s = adata_s1_13"
   ]
  },
  {
   "cell_type": "code",
   "execution_count": null,
   "id": "cleared-craft",
   "metadata": {
    "scrolled": true
   },
   "outputs": [],
   "source": [
    "genes = \n",
    "sc.pl.umap(adata_s1_13, color=['science_clustering'] + [i for i in genes if i in adata_s1_13.var_names], legend_loc='on data', cmap=magma, use_raw=False, ncols=5)\n",
    "sc.pl.umap(adata_s2_13, color=['science_clustering'] + [i for i in genes if i in adata_s2_13.var_names], legend_loc='on data', cmap=magma, use_raw=False, ncols=5)\n",
    "sc.pl.umap(adata_s3_13, color=['science_clustering'] + [i for i in genes if i in adata_s3_13.var_names], legend_loc='on data', cmap=magma, use_raw=False, ncols=5)\n",
    "sc.pl.umap(adata_s4_13, color=['science_clustering'] + [i for i in genes if i in adata_s4_13.var_names], legend_loc='on data', cmap=magma, use_raw=False, ncols=5)\n",
    "\n",
    "sc.pl.umap(adata_s1_2, color=['science_clustering'] + [i for i in genes if i in adata_s1_2.var_names], legend_loc='on data', cmap=magma, use_raw=False, ncols=5)\n",
    "sc.pl.umap(adata_s2_2, color=['science_clustering'] + [i for i in genes if i in adata_s2_2.var_names], legend_loc='on data', cmap=magma, use_raw=False, ncols=5)\n",
    "sc.pl.umap(adata_s3_2, color=['science_clustering'] + [i for i in genes if i in adata_s3_2.var_names], legend_loc='on data', cmap=magma, use_raw=False, ncols=5)\n",
    "sc.pl.umap(adata_s4_2, color=['science_clustering'] + [i for i in genes if i in adata_s4_2.var_names], legend_loc='on data', cmap=magma, use_raw=False, ncols=5)"
   ]
  },
  {
   "cell_type": "code",
   "execution_count": null,
   "id": "proved-enclosure",
   "metadata": {},
   "outputs": [],
   "source": [
    "for key, val in dict_cat.items():\n",
    "        print(key, val)\n",
    "        sc.pl.umap(adata_s, color=['science_clustering'] + [i for i in val[:4] if i in eval(adata_s_name).var_names], legend_loc='on data', cmap=magma, use_raw=False, ncols=5)"
   ]
  },
  {
   "cell_type": "code",
   "execution_count": null,
   "id": "alive-three",
   "metadata": {},
   "outputs": [],
   "source": [
    "sc.tl.leiden(adata_s, resolution=2)\n",
    "assign_cats(adata_s, dict_cats=dict_cat, column_groupby='leiden', intermediate_states=True, diff=0.1)\n",
    "sc.pl.umap(adata_s, color=['leiden', 'assigned_cats', 'score_assign_A1', 'score_assign_A2', 'score_assign_B1', 'score_assign_B2', 'score_assign_C2', 'score_assign_C3'], legend_loc='on data', vmax=1, cmap=magma, use_raw=False)"
   ]
  },
  {
   "cell_type": "markdown",
   "id": "split-history",
   "metadata": {},
   "source": [
    "### S1 2"
   ]
  },
  {
   "cell_type": "code",
   "execution_count": null,
   "id": "combined-confusion",
   "metadata": {},
   "outputs": [],
   "source": [
    "adata_s = adata_s1_2"
   ]
  },
  {
   "cell_type": "code",
   "execution_count": null,
   "id": "cognitive-broad",
   "metadata": {},
   "outputs": [],
   "source": [
    "for key, val in dict_cat.items():\n",
    "        print(key, val)\n",
    "        sc.pl.umap(adata_s, color=['science_clustering'] + [i for i in val if i in eval(adata_s_name).var_names], legend_loc='on data', cmap=magma, use_raw=False)"
   ]
  },
  {
   "cell_type": "code",
   "execution_count": null,
   "id": "monetary-person",
   "metadata": {},
   "outputs": [],
   "source": [
    "sc.tl.leiden(adata_s, resolution=2)\n",
    "assign_cats(adata_s, dict_cats=dict_cat, column_groupby='leiden', intermediate_states=True, diff=0.1)\n",
    "sc.pl.umap(adata_s, color=['leiden', 'assigned_cats', 'score_assign_A1', 'score_assign_A2', 'score_assign_B1', 'score_assign_B2', 'score_assign_C2', 'score_assign_C3'], legend_loc='on data', vmax=1, cmap=magma, use_raw=False)"
   ]
  },
  {
   "cell_type": "markdown",
   "id": "wound-blink",
   "metadata": {},
   "source": [
    "### S2 1+3"
   ]
  },
  {
   "cell_type": "code",
   "execution_count": null,
   "id": "eight-glass",
   "metadata": {},
   "outputs": [],
   "source": [
    "adata_s = adata_s2_13"
   ]
  },
  {
   "cell_type": "code",
   "execution_count": null,
   "id": "lonely-hometown",
   "metadata": {},
   "outputs": [],
   "source": [
    "for key, val in dict_cat.items():\n",
    "        print(key, val)\n",
    "        sc.pl.umap(adata_s, color=['science_clustering'] + [i for i in val if i in eval(adata_s_name).var_names], legend_loc='on data', cmap=magma, use_raw=False)"
   ]
  },
  {
   "cell_type": "code",
   "execution_count": null,
   "id": "surgical-armor",
   "metadata": {},
   "outputs": [],
   "source": [
    "sc.tl.leiden(adata_s, resolution=2)\n",
    "assign_cats(adata_s, dict_cats=dict_cat, column_groupby='leiden', intermediate_states=True, diff=0.1)\n",
    "sc.pl.umap(adata_s, color=['leiden', 'assigned_cats', 'score_assign_A1', 'score_assign_A2', 'score_assign_B1', 'score_assign_B2', 'score_assign_C2', 'score_assign_C3'], legend_loc='on data', vmax=1, cmap=magma, use_raw=False)"
   ]
  },
  {
   "cell_type": "markdown",
   "id": "unavailable-comedy",
   "metadata": {},
   "source": [
    "### S2 2"
   ]
  },
  {
   "cell_type": "code",
   "execution_count": null,
   "id": "sealed-atlanta",
   "metadata": {},
   "outputs": [],
   "source": [
    "adata_s = adata_s2_2"
   ]
  },
  {
   "cell_type": "code",
   "execution_count": null,
   "id": "horizontal-county",
   "metadata": {},
   "outputs": [],
   "source": [
    "for key, val in dict_cat.items():\n",
    "        print(key, val)\n",
    "        sc.pl.umap(adata_s, color=['science_clustering'] + [i for i in val if i in eval(adata_s_name).var_names], legend_loc='on data', cmap=magma, use_raw=False)"
   ]
  },
  {
   "cell_type": "code",
   "execution_count": null,
   "id": "damaged-overhead",
   "metadata": {},
   "outputs": [],
   "source": [
    "sc.tl.leiden(adata_s, resolution=1)\n",
    "assign_cats(adata_s, dict_cats=dict_cat, column_groupby='leiden', intermediate_states=True, diff=0.1)\n",
    "sc.pl.umap(adata_s, color=['leiden', 'assigned_cats', 'score_assign_A1', 'score_assign_A2', 'score_assign_B1', 'score_assign_B2', 'score_assign_C2', 'score_assign_C3'], legend_loc='on data', vmax=1, cmap=magma, use_raw=False)"
   ]
  },
  {
   "cell_type": "markdown",
   "id": "continued-spare",
   "metadata": {},
   "source": [
    "### S3 1+3"
   ]
  },
  {
   "cell_type": "code",
   "execution_count": null,
   "id": "exempt-charles",
   "metadata": {},
   "outputs": [],
   "source": [
    "adata_s = adata_s3_13"
   ]
  },
  {
   "cell_type": "code",
   "execution_count": null,
   "id": "empty-citizenship",
   "metadata": {},
   "outputs": [],
   "source": [
    "for key, val in dict_cat.items():\n",
    "        print(key, val)\n",
    "        sc.pl.umap(adata_s, color=['science_clustering'] + [i for i in val if i in eval(adata_s_name).var_names], legend_loc='on data', cmap=magma, use_raw=False)"
   ]
  },
  {
   "cell_type": "code",
   "execution_count": null,
   "id": "artistic-diameter",
   "metadata": {},
   "outputs": [],
   "source": [
    "sc.tl.leiden(adata_s, resolution=2)\n",
    "assign_cats(adata_s, dict_cats=dict_cat, column_groupby='leiden', intermediate_states=True, diff=0.1)\n",
    "sc.pl.umap(adata_s, color=['leiden', 'assigned_cats', 'score_assign_A1', 'score_assign_A2', 'score_assign_B1', 'score_assign_B2', 'score_assign_C2', 'score_assign_C3'], legend_loc='on data', vmax=1, cmap=magma, use_raw=False)"
   ]
  },
  {
   "cell_type": "markdown",
   "id": "noble-sleeve",
   "metadata": {},
   "source": [
    "### S3 2"
   ]
  },
  {
   "cell_type": "code",
   "execution_count": null,
   "id": "academic-hebrew",
   "metadata": {},
   "outputs": [],
   "source": [
    "adata_s = adata_s3_2"
   ]
  },
  {
   "cell_type": "code",
   "execution_count": null,
   "id": "scheduled-hands",
   "metadata": {},
   "outputs": [],
   "source": [
    "for key, val in dict_cat.items():\n",
    "        print(key, val)\n",
    "        sc.pl.umap(adata_s, color=['science_clustering'] + [i for i in val if i in eval(adata_s_name).var_names], legend_loc='on data', cmap=magma, use_raw=False)"
   ]
  },
  {
   "cell_type": "code",
   "execution_count": null,
   "id": "behind-temperature",
   "metadata": {},
   "outputs": [],
   "source": [
    "sc.tl.leiden(adata_s, resolution=2)\n",
    "assign_cats(adata_s, dict_cats=dict_cat, column_groupby='leiden', intermediate_states=True, diff=0.1)\n",
    "sc.pl.umap(adata_s, color=['leiden', 'assigned_cats', 'score_assign_A1', 'score_assign_A2', 'score_assign_B1', 'score_assign_B2', 'score_assign_C2', 'score_assign_C3'], legend_loc='on data', vmax=1, cmap=magma, use_raw=False)"
   ]
  },
  {
   "cell_type": "markdown",
   "id": "single-queensland",
   "metadata": {},
   "source": [
    "### S4 1+3"
   ]
  },
  {
   "cell_type": "code",
   "execution_count": null,
   "id": "checked-stock",
   "metadata": {},
   "outputs": [],
   "source": [
    "adata_s = adata_s4_13"
   ]
  },
  {
   "cell_type": "code",
   "execution_count": null,
   "id": "going-shirt",
   "metadata": {},
   "outputs": [],
   "source": [
    "for key, val in dict_cat.items():\n",
    "        print(key, val)\n",
    "        sc.pl.umap(adata_s, color=['science_clustering'] + [i for i in val if i in eval(adata_s_name).var_names], legend_loc='on data', cmap=magma, use_raw=False)"
   ]
  },
  {
   "cell_type": "code",
   "execution_count": null,
   "id": "excessive-phase",
   "metadata": {},
   "outputs": [],
   "source": [
    "sc.tl.leiden(adata_s, resolution=2)\n",
    "assign_cats(adata_s, dict_cats=dict_cat, column_groupby='leiden', intermediate_states=True, diff=0.1)\n",
    "sc.pl.umap(adata_s, color=['leiden', 'assigned_cats', 'score_assign_A1', 'score_assign_A2', 'score_assign_B1', 'score_assign_B2', 'score_assign_C2', 'score_assign_C3'], legend_loc='on data', vmax=1, cmap=magma, use_raw=False)"
   ]
  },
  {
   "cell_type": "markdown",
   "id": "convertible-convenience",
   "metadata": {},
   "source": [
    "### S4 2"
   ]
  },
  {
   "cell_type": "code",
   "execution_count": null,
   "id": "metropolitan-bumper",
   "metadata": {},
   "outputs": [],
   "source": [
    "adata_s = adata_s4_2"
   ]
  },
  {
   "cell_type": "code",
   "execution_count": null,
   "id": "quiet-world",
   "metadata": {},
   "outputs": [],
   "source": [
    "for key, val in dict_cat.items():\n",
    "        print(key, val)\n",
    "        sc.pl.umap(adata_s, color=['science_clustering'] + [i for i in val if i in eval(adata_s_name).var_names], legend_loc='on data', cmap=magma, use_raw=False)"
   ]
  },
  {
   "cell_type": "code",
   "execution_count": null,
   "id": "available-cemetery",
   "metadata": {},
   "outputs": [],
   "source": [
    "sc.tl.leiden(adata_s, resolution=2)\n",
    "assign_cats(adata_s, dict_cats=dict_cat, column_groupby='leiden', intermediate_states=True, diff=0.1)\n",
    "sc.pl.umap(adata_s, color=['leiden', 'assigned_cats', 'score_assign_A1', 'score_assign_A2', 'score_assign_B1', 'score_assign_B2', 'score_assign_C2', 'score_assign_C3'], legend_loc='on data', vmax=1, cmap=magma, use_raw=False)"
   ]
  },
  {
   "cell_type": "code",
   "execution_count": null,
   "id": "postal-decimal",
   "metadata": {},
   "outputs": [],
   "source": []
  }
 ],
 "metadata": {
  "kernelspec": {
   "display_name": "Python [conda env:alex-base] *",
   "language": "python",
   "name": "conda-env-alex-base-py"
  },
  "language_info": {
   "codemirror_mode": {
    "name": "ipython",
    "version": 3
   },
   "file_extension": ".py",
   "mimetype": "text/x-python",
   "name": "python",
   "nbconvert_exporter": "python",
   "pygments_lexer": "ipython3",
   "version": "3.8.0"
  }
 },
 "nbformat": 4,
 "nbformat_minor": 5
}
