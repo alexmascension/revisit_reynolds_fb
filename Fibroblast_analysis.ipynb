{
 "cells": [
  {
   "cell_type": "code",
   "execution_count": null,
   "id": "atmospheric-creator",
   "metadata": {},
   "outputs": [],
   "source": [
    "# !wget https://raw.githubusercontent.com/alexmascension/revisit_reynolds_fb/master/requirements.txt\n",
    "# !pip install -r requirements.txt"
   ]
  },
  {
   "cell_type": "code",
   "execution_count": null,
   "id": "standard-battery",
   "metadata": {},
   "outputs": [],
   "source": [
    "import scanpy as sc\n",
    "import scanpy.external as sce\n",
    "\n",
    "import pandas as pd\n",
    "import numpy as np\n",
    "import os\n",
    "from functools import reduce\n",
    "import gseapy as gp\n",
    "\n",
    "import triku as tk\n",
    "\n",
    "import matplotlib.pyplot as plt\n",
    "import matplotlib as mpl\n",
    "import seaborn as sns\n",
    "\n",
    "import scipy.stats as sts"
   ]
  },
  {
   "cell_type": "code",
   "execution_count": null,
   "id": "closed-singer",
   "metadata": {},
   "outputs": [],
   "source": [
    "# To print versions of imports \n",
    "\n",
    "import types\n",
    "\n",
    "def imports():\n",
    "    for name, val in globals().items():\n",
    "        if isinstance(val, types.ModuleType):\n",
    "            yield val.__name__\n",
    "\n",
    "excludes = ['builtins', 'types', 'sys']\n",
    "\n",
    "imported_modules = [module for module in imports() if module not in excludes]\n",
    "\n",
    "clean_modules = []\n",
    "\n",
    "for module in imported_modules:\n",
    "\n",
    "    sep = '.'  # to handle 'matplotlib.pyplot' cases\n",
    "    rest = module.split(sep, 1)[0]\n",
    "    clean_modules.append(rest)\n",
    "\n",
    "changed_imported_modules = list(set(clean_modules))  # drop duplicates\n",
    "\n",
    "pip_modules = !pip freeze  # you could also use `!conda list` with anaconda\n",
    "\n",
    "for module in pip_modules:\n",
    "    try:\n",
    "        name, version = module.split('==')\n",
    "        if name in changed_imported_modules:\n",
    "            print(name + '\\t' + version)\n",
    "    except:\n",
    "        pass"
   ]
  },
  {
   "cell_type": "code",
   "execution_count": null,
   "id": "upper-clarity",
   "metadata": {},
   "outputs": [],
   "source": [
    "seed = 0"
   ]
  },
  {
   "cell_type": "code",
   "execution_count": null,
   "id": "danish-principal",
   "metadata": {},
   "outputs": [],
   "source": [
    "# Palettes for UMAP gene expression\n",
    "\n",
    "magma = [plt.get_cmap('magma')(i) for i in np.linspace(0,1, 80)]\n",
    "magma[0] = (0.88, 0.88, 0.88, 1)\n",
    "magma = mpl.colors.LinearSegmentedColormap.from_list(\"\", magma[:65])"
   ]
  },
  {
   "cell_type": "code",
   "execution_count": null,
   "id": "earned-imagination",
   "metadata": {},
   "outputs": [],
   "source": [
    "selected_enr_cols = ['Gene_set', 'Term', 'Adjusted P-value', 'Odds Ratio', 'Genes']"
   ]
  },
  {
   "cell_type": "code",
   "execution_count": null,
   "id": "likely-difference",
   "metadata": {},
   "outputs": [],
   "source": [
    "mpl.rcParams['figure.dpi'] = 150"
   ]
  },
  {
   "cell_type": "code",
   "execution_count": null,
   "id": "perceived-contamination",
   "metadata": {},
   "outputs": [],
   "source": [
    "def assign_cats(adata, dict_cats, column_groupby='leiden', quantile_gene_sel=0.7, do_return=False, intermediate_states=False, diff=0.05, \n",
    "                key_added='assigned_cats', min_score=0.6, others_name='unassigned'):\n",
    "    \"\"\"\n",
    "    This functions uses a set of genes assigned to different categories so that leiden clusters can be assigned to one of these categories.\n",
    "    For example, to categorize fibroblasts from pericytes, endothelial cells, or cells with high mitochondrial content.\n",
    "    It could be done with each cell individually, but it is better to use clusters to discern the different categories because\n",
    "    the method, although efficient, can sometimes be noisy due to the noisiness of the sc datasets.\n",
    "    \"\"\"\n",
    "    \n",
    "    for cat in list(dict_cats.keys()):\n",
    "        mat_cat = np.zeros((len(adata), len(dict_cats[cat])), dtype=float)\n",
    "        \n",
    "        for gene_idx, gene in enumerate(dict_cats[cat]):\n",
    "            try:\n",
    "                mat_cat[:, gene_idx] = np.asarray(np.dot(adata.obsp['connectivities'], adata[:, gene].X).todense()).ravel() / adata.uns['neighbors']['params']['n_neighbors']\n",
    "                mat_cat[mat_cat[:, gene_idx] > 0, gene_idx] = np.argsort(np.argsort(mat_cat[mat_cat[:, gene_idx] > 0, gene_idx]))\n",
    "                mat_cat[:, gene_idx] /= np.max(mat_cat[:, gene_idx])\n",
    "            except:\n",
    "                print(f'Gene {gene} is not on the list')    \n",
    "            \n",
    "        sum_mat_cat = np.asarray(mat_cat.mean(1)).ravel()       \n",
    "        adata.obs[cat] = sum_mat_cat\n",
    "    \n",
    "    score_per_cluster = adata.obs[[column_groupby] + list(dict_cats.keys())].groupby(column_groupby).quantile(quantile_gene_sel)\n",
    "    max_cat_dict_std = dict(zip(score_per_cluster.std(1).index, score_per_cluster.std(1).values))\n",
    "    adata.obs[f'{key_added}_std'] = [max_cat_dict_std[i] for i in adata.obs[column_groupby]]\n",
    "    max_cat_dict_mean = dict(zip(score_per_cluster.mean(1).index, score_per_cluster.mean(1).values))\n",
    "    adata.obs[f'{key_added}_mean'] = [max_cat_dict_mean[i] for i in adata.obs[column_groupby]]\n",
    "    max_cat_dict_max = dict(zip(score_per_cluster.max(1).index, score_per_cluster.max(1).values))\n",
    "    adata.obs[f'{key_added}_max'] = [max_cat_dict_max[i] for i in adata.obs[column_groupby]]\n",
    "    adata.obs[f'{key_added}_CV'] = adata.obs[f'{key_added}_mean'] / adata.obs[f'{key_added}_std']\n",
    "    \n",
    "    for cat in score_per_cluster.columns:\n",
    "        max_cat_dict = dict(zip(score_per_cluster.index, score_per_cluster[cat].values))        \n",
    "        adata.obs[f'{key_added}_{cat}'] = [max_cat_dict[i] for i in adata.obs[column_groupby]]\n",
    "    \n",
    "    if intermediate_states: # For each cluster we will identify which categories are close to the highest one, and merge their names.\n",
    "        list_names_cats_per_cluster = []\n",
    "        for cluster in score_per_cluster.index:\n",
    "            scores_cluster = score_per_cluster.loc[cluster]\n",
    "            scores_cluster = scores_cluster[scores_cluster > scores_cluster.max() - diff]\n",
    "            list_names_cats_per_cluster.append('/'.join(scores_cluster.index))\n",
    "        \n",
    "        final_cat_dict = dict(zip(score_per_cluster.idxmax(axis=1).index, list_names_cats_per_cluster))\n",
    "    else:        \n",
    "        final_cat_dict = dict(zip(score_per_cluster.idxmax(axis=1).index, score_per_cluster.idxmax(axis=1).values))\n",
    "    \n",
    "    adata.obs[f'{key_added}'] = [str(final_cat_dict[i]) for i in adata.obs[column_groupby]]\n",
    "    \n",
    "    adata.obs[f'{key_added}'][adata.obs[f'{key_added}_max'] < min_score] = others_name\n",
    "    \n",
    "    if do_return:\n",
    "        return score_per_cluster"
   ]
  },
  {
   "cell_type": "markdown",
   "id": "standing-oliver",
   "metadata": {},
   "source": [
    "# Reynolds et al. 2020 dataset download and preprocess\n",
    "In this section we are going to download and process the anndata files for the 5 healthy samples (S1 to S5). We are first going to use the processed files from Reynolds et al., because they contain the main fb populations, which we are interested in (FB1-3). With that, we can partially replicate the analysis. However, the data richness is not that good (the UMAPs are more *blooby*) so we preprocess the FASTQ files on our own, and used the processed adatas.\n",
    "\n",
    "Once we have our own anndatas, the preprocessing is the following:\n",
    "* Assign FB types based on Reynolds adatas to our adatas. Some cells will be unassigned.\n",
    "* QC metrics \n",
    "* Filter genes (min counts = 30)\n",
    "* Set raw X\n",
    "* Normalize and log1p\n",
    "* PCA + triku + neighbors + umap + leiden\n",
    "* Use  `assign_cats` to assign leiden clusters to cell populations with selected markers (markers for each dataset may vary!)\n",
    "* Filter adata to retain only fibroblasts\n",
    "* Filter genes to remove 0 counts\n",
    "* PCA + triku + neighbors + umap + leiden [leiden is not used here but may be used later]\n",
    "* Check if strange populations appear and filter them in `assign_cats`, then repeat the last steps."
   ]
  },
  {
   "cell_type": "code",
   "execution_count": null,
   "id": "running-carol",
   "metadata": {},
   "outputs": [],
   "source": [
    "os.getcwd()"
   ]
  },
  {
   "cell_type": "code",
   "execution_count": null,
   "id": "advised-toddler",
   "metadata": {},
   "outputs": [],
   "source": [
    "reynolds_dir = 'reynolds_2020'\n",
    "os.makedirs(reynolds_dir, exist_ok=True)\n",
    "\n",
    "\n",
    "papers_dir = 'papers_genes_bad_quality'\n",
    "os.makedirs(papers_dir, exist_ok=True)"
   ]
  },
  {
   "cell_type": "markdown",
   "id": "aerial-world",
   "metadata": {},
   "source": [
    "### Making and saving the fb healthy dataset to zenodo"
   ]
  },
  {
   "cell_type": "code",
   "execution_count": null,
   "id": "floppy-arlington",
   "metadata": {},
   "outputs": [],
   "source": [
    "# adata_reynolds = sc.read('submission_210120.h5ad', backup_url='https://zenodo.org/record/4536165/files/submission_210120.h5ad')\n",
    "# adata_reynolds_fb = adata_reynolds[(adata_reynolds.obs['full_clustering'].isin(['F1', 'F2', 'F3'])) & \n",
    "#                                    (adata_reynolds.obs['Status'] == 'Healthy')]\n",
    "# sc.pp.filter_genes(adata_reynolds_fb, min_counts=100)\n",
    "# del adata_reynolds_fb.var\n",
    "\n",
    "# for obs in ['mad_prd', 'Status', 'Site', 'Tissue', 'Enrichment', 'Location', 'Sex', 'Age', 'stage']:\n",
    "#     del adata_reynolds_fb.obs[obs]\n",
    "    \n",
    "# adata_reynolds_fb.write_h5ad(reynolds_dir + '/reynolds_2020_fb_healthy.h5ad')"
   ]
  },
  {
   "cell_type": "markdown",
   "id": "composed-shelf",
   "metadata": {},
   "source": [
    "### Direct h5ad download"
   ]
  },
  {
   "cell_type": "code",
   "execution_count": null,
   "id": "expensive-madagascar",
   "metadata": {},
   "outputs": [],
   "source": [
    "adata_reynolds_fb_healthy = sc.read(reynolds_dir + '/reynolds_2020_fb_healthy.h5ad', \n",
    "                                    backup_url='https://zenodo.org/record/4605340/files/reynolds_2020_fb_healthy.h5ad?download=1')"
   ]
  },
  {
   "cell_type": "code",
   "execution_count": null,
   "id": "prerequisite-dragon",
   "metadata": {},
   "outputs": [],
   "source": [
    "sc.pp.filter_genes(adata_reynolds_fb_healthy, min_counts=50)"
   ]
  },
  {
   "cell_type": "code",
   "execution_count": null,
   "id": "numerous-allah",
   "metadata": {},
   "outputs": [],
   "source": [
    "sc.pp.log1p(adata_reynolds_fb_healthy)\n",
    "sc.pp.normalize_total(adata_reynolds_fb_healthy)"
   ]
  },
  {
   "cell_type": "code",
   "execution_count": null,
   "id": "common-burlington",
   "metadata": {},
   "outputs": [],
   "source": [
    "df_batches = pd.DataFrame(np.unique(adata_reynolds_fb_healthy.obs['sample_id'], return_counts=True)).transpose()"
   ]
  },
  {
   "cell_type": "code",
   "execution_count": null,
   "id": "insured-christian",
   "metadata": {},
   "outputs": [],
   "source": [
    "df_batches.sort_values(by=1, ascending=False)"
   ]
  },
  {
   "cell_type": "code",
   "execution_count": null,
   "id": "owned-advertiser",
   "metadata": {},
   "outputs": [],
   "source": [
    "selected_samples = df_batches[df_batches[1] > 50][0].values"
   ]
  },
  {
   "cell_type": "code",
   "execution_count": null,
   "id": "strong-conjunction",
   "metadata": {},
   "outputs": [],
   "source": [
    "adata_reynolds_fb_healthy = adata_reynolds_fb_healthy[adata_reynolds_fb_healthy.obs['sample_id'].isin(selected_samples)]  #selected_samples)]"
   ]
  },
  {
   "cell_type": "code",
   "execution_count": null,
   "id": "formal-struggle",
   "metadata": {},
   "outputs": [],
   "source": [
    "adata_reynolds_fb_healthy"
   ]
  },
  {
   "cell_type": "code",
   "execution_count": null,
   "id": "raised-placement",
   "metadata": {},
   "outputs": [],
   "source": [
    "sc.pp.filter_genes(adata_reynolds_fb_healthy, min_counts=1)"
   ]
  },
  {
   "cell_type": "code",
   "execution_count": null,
   "id": "loaded-preserve",
   "metadata": {},
   "outputs": [],
   "source": [
    "sc.pp.pca(adata_reynolds_fb_healthy, random_state=seed, n_comps=30)\n",
    "sce.pp.bbknn(adata_reynolds_fb_healthy, metric='angular', batch_key='sample_id')\n",
    "tk.tl.triku(adata_reynolds_fb_healthy, n_procs=1, random_state=seed, use_adata_knn=True)"
   ]
  },
  {
   "cell_type": "code",
   "execution_count": null,
   "id": "hawaiian-nursery",
   "metadata": {},
   "outputs": [],
   "source": [
    "sc.tl.umap(adata_reynolds_fb_healthy, min_dist=0.1, random_state=seed)"
   ]
  },
  {
   "cell_type": "code",
   "execution_count": null,
   "id": "closed-calcium",
   "metadata": {},
   "outputs": [],
   "source": [
    "sc.tl.leiden(adata_reynolds_fb_healthy, resolution=1.5, random_state=seed)"
   ]
  },
  {
   "cell_type": "code",
   "execution_count": null,
   "id": "liberal-figure",
   "metadata": {},
   "outputs": [],
   "source": [
    "sc.pl.umap(adata_reynolds_fb_healthy, color=['leiden', 'sample_id', 'full_clustering'], legend_loc='on data')"
   ]
  },
  {
   "cell_type": "code",
   "execution_count": null,
   "id": "international-prior",
   "metadata": {},
   "outputs": [],
   "source": [
    "sc.pl.umap(adata_reynolds_fb_healthy, color=['APCDD1', 'COL18A1', 'COMP', 'SLPI', 'WIF1'], cmap=magma, use_raw=False)"
   ]
  },
  {
   "cell_type": "code",
   "execution_count": null,
   "id": "affiliated-order",
   "metadata": {},
   "outputs": [],
   "source": [
    "sc.pl.umap(adata_reynolds_fb_healthy, color=['MT2A', 'CCL19', 'CCL2', 'CD46'], cmap=magma, use_raw=False)"
   ]
  },
  {
   "cell_type": "code",
   "execution_count": null,
   "id": "turkish-visibility",
   "metadata": {},
   "outputs": [],
   "source": [
    "sc.pl.umap(adata_reynolds_fb_healthy, color=['POSTN', 'COMP', 'COCH'], cmap=magma, use_raw=False)"
   ]
  },
  {
   "cell_type": "markdown",
   "id": "environmental-small",
   "metadata": {},
   "source": [
    "## 4820STDY7388991 (S1)"
   ]
  },
  {
   "cell_type": "markdown",
   "id": "pleased-interview",
   "metadata": {},
   "source": [
    "### Reynolds preprocessed"
   ]
  },
  {
   "cell_type": "code",
   "execution_count": null,
   "id": "smooth-audio",
   "metadata": {},
   "outputs": [],
   "source": [
    "adata_reynolds_fb_4820STDY7388991 = adata_reynolds_fb_healthy[adata_reynolds_fb_healthy.obs['sample_id'].isin(['4820STDY7388991'])]  #selected_samples)]"
   ]
  },
  {
   "cell_type": "code",
   "execution_count": null,
   "id": "latter-analysis",
   "metadata": {},
   "outputs": [],
   "source": [
    "adata_reynolds_fb_4820STDY7388991"
   ]
  },
  {
   "cell_type": "code",
   "execution_count": null,
   "id": "regulated-plymouth",
   "metadata": {},
   "outputs": [],
   "source": [
    "sc.pp.filter_genes(adata_reynolds_fb_4820STDY7388991, min_counts=1)\n",
    "adata_reynolds_fb_4820STDY7388991 = adata_reynolds_fb_4820STDY7388991[:, adata_reynolds_fb_4820STDY7388991.var_names != 'C3']"
   ]
  },
  {
   "cell_type": "code",
   "execution_count": null,
   "id": "beginning-instrument",
   "metadata": {},
   "outputs": [],
   "source": [
    "sc.pp.pca(adata_reynolds_fb_4820STDY7388991, random_state=seed, n_comps=30)\n",
    "tk.tl.triku(adata_reynolds_fb_4820STDY7388991, n_procs=1, random_state=seed, use_adata_knn=True)\n",
    "sc.pp.neighbors(adata_reynolds_fb_4820STDY7388991, metric='cosine', random_state=seed)"
   ]
  },
  {
   "cell_type": "code",
   "execution_count": null,
   "id": "fixed-glory",
   "metadata": {},
   "outputs": [],
   "source": [
    "sc.tl.umap(adata_reynolds_fb_4820STDY7388991, min_dist=0.3, random_state=seed)"
   ]
  },
  {
   "cell_type": "code",
   "execution_count": null,
   "id": "backed-withdrawal",
   "metadata": {},
   "outputs": [],
   "source": [
    "sc.tl.leiden(adata_reynolds_fb_4820STDY7388991, resolution=1, random_state=seed)"
   ]
  },
  {
   "cell_type": "code",
   "execution_count": null,
   "id": "comic-legislation",
   "metadata": {},
   "outputs": [],
   "source": [
    "sc.pl.umap(adata_reynolds_fb_4820STDY7388991, color=['leiden', 'sample_id', 'full_clustering'], legend_loc='on data')"
   ]
  },
  {
   "cell_type": "code",
   "execution_count": null,
   "id": "aging-answer",
   "metadata": {},
   "outputs": [],
   "source": [
    "sc.pl.umap(adata_reynolds_fb_4820STDY7388991, color=['APCDD1', 'COL18A1', 'COMP', 'SLPI', 'WIF1'], cmap=magma, use_raw=False)"
   ]
  },
  {
   "cell_type": "code",
   "execution_count": null,
   "id": "south-turner",
   "metadata": {},
   "outputs": [],
   "source": [
    "sc.pl.umap(adata_reynolds_fb_4820STDY7388991, color=['MT2A', 'CCL19', 'CCL2', 'CD46'], cmap=magma, use_raw=False)"
   ]
  },
  {
   "cell_type": "code",
   "execution_count": null,
   "id": "senior-distance",
   "metadata": {},
   "outputs": [],
   "source": [
    "sc.pl.umap(adata_reynolds_fb_4820STDY7388991, color=['POSTN', 'COMP', 'COCH'], cmap=magma, use_raw=False)"
   ]
  },
  {
   "cell_type": "markdown",
   "id": "confidential-perspective",
   "metadata": {},
   "source": [
    "### Direct loom"
   ]
  },
  {
   "cell_type": "code",
   "execution_count": null,
   "id": "copyrighted-nature",
   "metadata": {},
   "outputs": [],
   "source": [
    "adata_reynolds_fb_4820STDY7388991_loom = sc.read('reynolds_2020/reynolds_2020_0_4820STDY7388991_s1_dermis_fibroblasts.loom', \n",
    "                                                 backup_url='https://zenodo.org/record/4596375/files/reynolds_2020_0_4820STDY7388991_s1_dermis_fibroblasts.loom')\n",
    "adata_reynolds_fb_4820STDY7388991_loom.var_names_make_unique()\n",
    "\n",
    "adata_reynolds_fb_4820STDY7388991_loom = adata_reynolds_fb_4820STDY7388991_loom[:, adata_reynolds_fb_4820STDY7388991_loom.var_names != 'C3']"
   ]
  },
  {
   "cell_type": "code",
   "execution_count": null,
   "id": "simple-buyer",
   "metadata": {},
   "outputs": [],
   "source": [
    "adata_reynolds_fb_4820STDY7388991_loom.obs_names = [f\"{i.split('_')[-1]}-1-{i.split('_')[1]}\" for i in adata_reynolds_fb_4820STDY7388991_loom.obs_names]"
   ]
  },
  {
   "cell_type": "code",
   "execution_count": null,
   "id": "surface-mineral",
   "metadata": {},
   "outputs": [],
   "source": [
    "df_fb_type = pd.Series('-', index=adata_reynolds_fb_4820STDY7388991_loom.obs_names)\n",
    "df_fb_type.loc[adata_reynolds_fb_4820STDY7388991.obs_names & adata_reynolds_fb_4820STDY7388991_loom.obs_names] = adata_reynolds_fb_4820STDY7388991[adata_reynolds_fb_4820STDY7388991.obs_names & adata_reynolds_fb_4820STDY7388991_loom.obs_names].obs['full_clustering']\n",
    "adata_reynolds_fb_4820STDY7388991_loom.obs['science_clustering'] = df_fb_type"
   ]
  },
  {
   "cell_type": "code",
   "execution_count": null,
   "id": "fundamental-statement",
   "metadata": {},
   "outputs": [],
   "source": [
    "sc.pp.calculate_qc_metrics(adata_reynolds_fb_4820STDY7388991_loom, inplace=True)"
   ]
  },
  {
   "cell_type": "code",
   "execution_count": null,
   "id": "third-triangle",
   "metadata": {},
   "outputs": [],
   "source": [
    "sc.pl.violin(adata_reynolds_fb_4820STDY7388991_loom, ['n_genes_by_counts'])\n",
    "sc.pl.violin(adata_reynolds_fb_4820STDY7388991_loom, ['log1p_total_counts'])"
   ]
  },
  {
   "cell_type": "code",
   "execution_count": null,
   "id": "applicable-congress",
   "metadata": {},
   "outputs": [],
   "source": [
    "sc.pp.filter_genes(adata_reynolds_fb_4820STDY7388991_loom, min_counts=30)\n",
    "adata_reynolds_fb_4820STDY7388991_loom.raw = adata_reynolds_fb_4820STDY7388991_loom"
   ]
  },
  {
   "cell_type": "code",
   "execution_count": null,
   "id": "chemical-vietnamese",
   "metadata": {},
   "outputs": [],
   "source": [
    "sc.pp.normalize_per_cell(adata_reynolds_fb_4820STDY7388991_loom)\n",
    "sc.pp.log1p(adata_reynolds_fb_4820STDY7388991_loom)"
   ]
  },
  {
   "cell_type": "code",
   "execution_count": null,
   "id": "center-eclipse",
   "metadata": {},
   "outputs": [],
   "source": [
    "sc.pp.pca(adata_reynolds_fb_4820STDY7388991_loom, random_state=seed, n_comps=30)\n",
    "tk.tl.triku(adata_reynolds_fb_4820STDY7388991_loom, n_procs=1, random_state=seed, use_adata_knn=True)\n",
    "sc.pp.neighbors(adata_reynolds_fb_4820STDY7388991_loom, metric='cosine', random_state=seed)"
   ]
  },
  {
   "cell_type": "code",
   "execution_count": null,
   "id": "wooden-quarter",
   "metadata": {},
   "outputs": [],
   "source": [
    "sc.tl.umap(adata_reynolds_fb_4820STDY7388991_loom, min_dist=0.3, random_state=seed)\n",
    "sc.tl.leiden(adata_reynolds_fb_4820STDY7388991_loom, resolution=3.2, random_state=seed)"
   ]
  },
  {
   "cell_type": "code",
   "execution_count": null,
   "id": "retired-galaxy",
   "metadata": {},
   "outputs": [],
   "source": [
    "sc.pl.umap(adata_reynolds_fb_4820STDY7388991_loom, color=['leiden', 'science_clustering'], legend_loc='on data')"
   ]
  },
  {
   "cell_type": "code",
   "execution_count": null,
   "id": "pleased-senior",
   "metadata": {},
   "outputs": [],
   "source": [
    "sc.pl.umap(adata_reynolds_fb_4820STDY7388991_loom, color=['LUM', 'PDGFRA', 'VIM', 'DCN', 'COL1A1', 'SFRP2', 'APOE', 'POSTN'], legend_loc='on data', cmap=magma)"
   ]
  },
  {
   "cell_type": "code",
   "execution_count": null,
   "id": "tutorial-hearts",
   "metadata": {},
   "outputs": [],
   "source": [
    "sc.tl.rank_genes_groups(adata_reynolds_fb_4820STDY7388991_loom, groupby='leiden')\n",
    "sc.pl.rank_genes_groups(adata_reynolds_fb_4820STDY7388991_loom)"
   ]
  },
  {
   "cell_type": "code",
   "execution_count": null,
   "id": "wooden-shock",
   "metadata": {},
   "outputs": [],
   "source": [
    "dict_cat = {'fb': ['LUM', 'PDGFRA', 'COL1A1'], 'peri': ['RGS5', 'MYL9', 'NDUFA4L2'], 'eritro': ['HBB', 'HBA2', 'HBA1'], \n",
    "            'immune': ['TPSB2', 'TPSAB1', 'HLA-DRA', 'FCER1G', 'CD74'], 'melanocyte': ['PMEL', 'MLANA'], \n",
    "            'mt': ['MTND2P28', 'MTND4P12', 'MTCO1P40', 'ADAM33', 'RN7SL2', 'MTRNR2L6']}\n",
    "\n",
    "assign_cats(adata_reynolds_fb_4820STDY7388991_loom, dict_cat, min_score=0.05)"
   ]
  },
  {
   "cell_type": "code",
   "execution_count": null,
   "id": "comic-lincoln",
   "metadata": {},
   "outputs": [],
   "source": [
    "sc.pl.umap(adata_reynolds_fb_4820STDY7388991_loom, color=['leiden', 'science_clustering', 'assigned_cats'], legend_loc='on data', cmap=magma)"
   ]
  },
  {
   "cell_type": "code",
   "execution_count": null,
   "id": "adjustable-worcester",
   "metadata": {},
   "outputs": [],
   "source": [
    "adata_reynolds_fb_4820STDY7388991_loom_fb = adata_reynolds_fb_4820STDY7388991_loom[adata_reynolds_fb_4820STDY7388991_loom.obs['assigned_cats'] == 'fb']"
   ]
  },
  {
   "cell_type": "code",
   "execution_count": null,
   "id": "crude-devices",
   "metadata": {},
   "outputs": [],
   "source": [
    "sc.pp.filter_genes(adata_reynolds_fb_4820STDY7388991_loom_fb, min_counts=1)"
   ]
  },
  {
   "cell_type": "code",
   "execution_count": null,
   "id": "sorted-arlington",
   "metadata": {},
   "outputs": [],
   "source": [
    "sc.pp.pca(adata_reynolds_fb_4820STDY7388991_loom_fb, random_state=seed, n_comps=30)\n",
    "tk.tl.triku(adata_reynolds_fb_4820STDY7388991_loom_fb, n_procs=1, random_state=seed, use_adata_knn=True)\n",
    "sc.pp.neighbors(adata_reynolds_fb_4820STDY7388991_loom_fb, metric='cosine', random_state=seed)"
   ]
  },
  {
   "cell_type": "code",
   "execution_count": null,
   "id": "based-century",
   "metadata": {},
   "outputs": [],
   "source": [
    "sc.tl.umap(adata_reynolds_fb_4820STDY7388991_loom_fb, min_dist=0.2, random_state=seed)\n",
    "sc.tl.leiden(adata_reynolds_fb_4820STDY7388991_loom_fb, resolution=1, random_state=seed)"
   ]
  },
  {
   "cell_type": "code",
   "execution_count": null,
   "id": "alternate-apple",
   "metadata": {},
   "outputs": [],
   "source": [
    "sc.pl.umap(adata_reynolds_fb_4820STDY7388991_loom_fb, color=['leiden', 'science_clustering'], cmap=magma, use_raw=False, legend_loc='on data')"
   ]
  },
  {
   "cell_type": "code",
   "execution_count": null,
   "id": "boolean-christmas",
   "metadata": {},
   "outputs": [],
   "source": [
    "sc.pl.umap(adata_reynolds_fb_4820STDY7388991_loom_fb, color=['leiden', 'SFRP2', 'PI16', 'SLPI', 'WIF1', 'COL18A1', 'COMP', \n",
    "                                               'APOE', 'CCL2',  'ITM2A', 'SPSB1', \n",
    "                                               'CCDC146', 'CCL19', 'CD74', \n",
    "                                               'DKK3', 'TNN', 'SFRP1', 'POSTN'], cmap=magma, use_raw=False, legend_loc='on data')"
   ]
  },
  {
   "cell_type": "markdown",
   "id": "northern-routine",
   "metadata": {},
   "source": [
    "## 4820STDY7388999 (S2)"
   ]
  },
  {
   "cell_type": "markdown",
   "id": "protective-gateway",
   "metadata": {},
   "source": [
    "### Reynolds preprocessed"
   ]
  },
  {
   "cell_type": "code",
   "execution_count": null,
   "id": "appropriate-voltage",
   "metadata": {},
   "outputs": [],
   "source": [
    "adata_reynolds_fb_4820STDY7388999 = adata_reynolds_fb_healthy[adata_reynolds_fb_healthy.obs['sample_id'].isin(['4820STDY7388999'])]  #selected_samples)]"
   ]
  },
  {
   "cell_type": "code",
   "execution_count": null,
   "id": "bronze-challenge",
   "metadata": {},
   "outputs": [],
   "source": [
    "adata_reynolds_fb_4820STDY7388999"
   ]
  },
  {
   "cell_type": "code",
   "execution_count": null,
   "id": "appropriate-bandwidth",
   "metadata": {},
   "outputs": [],
   "source": [
    "sc.pp.filter_genes(adata_reynolds_fb_4820STDY7388999, min_counts=1)\n",
    "adata_reynolds_fb_4820STDY7388999 = adata_reynolds_fb_4820STDY7388999[:, adata_reynolds_fb_4820STDY7388999.var_names != 'C3']"
   ]
  },
  {
   "cell_type": "code",
   "execution_count": null,
   "id": "heavy-india",
   "metadata": {},
   "outputs": [],
   "source": [
    "sc.pp.pca(adata_reynolds_fb_4820STDY7388999, random_state=seed, n_comps=30)\n",
    "tk.tl.triku(adata_reynolds_fb_4820STDY7388999, n_procs=1, random_state=seed, use_adata_knn=True)\n",
    "sc.pp.neighbors(adata_reynolds_fb_4820STDY7388999, metric='cosine', random_state=seed)"
   ]
  },
  {
   "cell_type": "code",
   "execution_count": null,
   "id": "destroyed-mandate",
   "metadata": {},
   "outputs": [],
   "source": [
    "sc.tl.umap(adata_reynolds_fb_4820STDY7388999, min_dist=0.3, random_state=seed)"
   ]
  },
  {
   "cell_type": "code",
   "execution_count": null,
   "id": "romance-calculator",
   "metadata": {},
   "outputs": [],
   "source": [
    "sc.tl.leiden(adata_reynolds_fb_4820STDY7388999, resolution=1, random_state=seed)"
   ]
  },
  {
   "cell_type": "code",
   "execution_count": null,
   "id": "initial-greensboro",
   "metadata": {},
   "outputs": [],
   "source": [
    "sc.pl.umap(adata_reynolds_fb_4820STDY7388999, color=['leiden', 'sample_id', 'full_clustering'], legend_loc='on data')"
   ]
  },
  {
   "cell_type": "code",
   "execution_count": null,
   "id": "solved-romance",
   "metadata": {},
   "outputs": [],
   "source": [
    "sc.pl.umap(adata_reynolds_fb_4820STDY7388999, color=['APCDD1', 'COL18A1', 'COMP', 'SLPI', 'WIF1'], cmap=magma, use_raw=False)"
   ]
  },
  {
   "cell_type": "code",
   "execution_count": null,
   "id": "adapted-cotton",
   "metadata": {},
   "outputs": [],
   "source": [
    "sc.pl.umap(adata_reynolds_fb_4820STDY7388999, color=['MT2A', 'CCL19', 'CCL2', 'CD46'], cmap=magma, use_raw=False)"
   ]
  },
  {
   "cell_type": "code",
   "execution_count": null,
   "id": "narrative-squad",
   "metadata": {},
   "outputs": [],
   "source": [
    "sc.pl.umap(adata_reynolds_fb_4820STDY7388999, color=['POSTN', 'COMP', 'COCH'], cmap=magma, use_raw=False)"
   ]
  },
  {
   "cell_type": "markdown",
   "id": "latest-trustee",
   "metadata": {},
   "source": [
    "### Direct loom"
   ]
  },
  {
   "cell_type": "code",
   "execution_count": null,
   "id": "measured-dominant",
   "metadata": {},
   "outputs": [],
   "source": [
    "adata_reynolds_fb_4820STDY7388999_loom = sc.read('reynolds_2020/reynolds_2020_8_4820STDY7388999_s2_dermis_fibroblasts.loom', \n",
    "                                                 backup_url='https://zenodo.org/record/4596375/files/reynolds_2020_8_4820STDY7388999_s2_dermis_fibroblasts.loom')\n",
    "\n",
    "adata_reynolds_fb_4820STDY7388999_loom.var_names_make_unique()\n",
    "adata_reynolds_fb_4820STDY7388999_loom = adata_reynolds_fb_4820STDY7388999_loom[:, adata_reynolds_fb_4820STDY7388999_loom.var_names != 'C3']"
   ]
  },
  {
   "cell_type": "code",
   "execution_count": null,
   "id": "fundamental-bathroom",
   "metadata": {},
   "outputs": [],
   "source": [
    "adata_reynolds_fb_4820STDY7388999_loom.obs_names = [f\"{i.split('_')[-1]}-1-{i.split('_')[1]}\" for i in adata_reynolds_fb_4820STDY7388999_loom.obs_names]"
   ]
  },
  {
   "cell_type": "code",
   "execution_count": null,
   "id": "imposed-spelling",
   "metadata": {},
   "outputs": [],
   "source": [
    "df_fb_type = pd.Series('Other', index=adata_reynolds_fb_4820STDY7388999_loom.obs_names)\n",
    "df_fb_type.loc[adata_reynolds_fb_4820STDY7388999.obs_names & adata_reynolds_fb_4820STDY7388999_loom.obs_names] = adata_reynolds_fb_4820STDY7388999[adata_reynolds_fb_4820STDY7388999.obs_names & adata_reynolds_fb_4820STDY7388999_loom.obs_names].obs['full_clustering']\n",
    "adata_reynolds_fb_4820STDY7388999_loom.obs['science_clustering'] = df_fb_type"
   ]
  },
  {
   "cell_type": "code",
   "execution_count": null,
   "id": "southern-vitamin",
   "metadata": {},
   "outputs": [],
   "source": [
    "sc.pp.calculate_qc_metrics(adata_reynolds_fb_4820STDY7388999_loom, inplace=True)"
   ]
  },
  {
   "cell_type": "code",
   "execution_count": null,
   "id": "quiet-marriage",
   "metadata": {},
   "outputs": [],
   "source": [
    "sc.pl.violin(adata_reynolds_fb_4820STDY7388999_loom, ['n_genes_by_counts'])\n",
    "sc.pl.violin(adata_reynolds_fb_4820STDY7388999_loom, ['log1p_total_counts'])"
   ]
  },
  {
   "cell_type": "code",
   "execution_count": null,
   "id": "gothic-priest",
   "metadata": {},
   "outputs": [],
   "source": [
    "sc.pp.filter_genes(adata_reynolds_fb_4820STDY7388999_loom, min_counts=30)\n",
    "adata_reynolds_fb_4820STDY7388999_loom.raw = adata_reynolds_fb_4820STDY7388999_loom"
   ]
  },
  {
   "cell_type": "code",
   "execution_count": null,
   "id": "treated-vegetation",
   "metadata": {},
   "outputs": [],
   "source": [
    "sc.pp.normalize_per_cell(adata_reynolds_fb_4820STDY7388999_loom)\n",
    "sc.pp.log1p(adata_reynolds_fb_4820STDY7388999_loom)"
   ]
  },
  {
   "cell_type": "code",
   "execution_count": null,
   "id": "celtic-content",
   "metadata": {},
   "outputs": [],
   "source": [
    "sc.pp.pca(adata_reynolds_fb_4820STDY7388999_loom, random_state=seed, n_comps=30)\n",
    "tk.tl.triku(adata_reynolds_fb_4820STDY7388999_loom, n_procs=1, random_state=seed, use_adata_knn=True)\n",
    "sc.pp.neighbors(adata_reynolds_fb_4820STDY7388999_loom, metric='cosine', random_state=seed)"
   ]
  },
  {
   "cell_type": "code",
   "execution_count": null,
   "id": "minimal-bolivia",
   "metadata": {},
   "outputs": [],
   "source": [
    "sc.tl.umap(adata_reynolds_fb_4820STDY7388999_loom, min_dist=0.3, random_state=seed)\n",
    "sc.tl.leiden(adata_reynolds_fb_4820STDY7388999_loom, resolution=0.5, random_state=seed)"
   ]
  },
  {
   "cell_type": "code",
   "execution_count": null,
   "id": "raised-height",
   "metadata": {},
   "outputs": [],
   "source": [
    "sc.pl.umap(adata_reynolds_fb_4820STDY7388999_loom, color=['leiden', 'science_clustering'], legend_loc='on data')"
   ]
  },
  {
   "cell_type": "code",
   "execution_count": null,
   "id": "representative-white",
   "metadata": {},
   "outputs": [],
   "source": [
    "sc.pl.umap(adata_reynolds_fb_4820STDY7388999_loom, color=['LUM', 'PDGFRA', 'VIM', 'COL1A1', 'SFRP2', 'APOE', 'POSTN'], legend_loc='on data', cmap=magma)"
   ]
  },
  {
   "cell_type": "code",
   "execution_count": null,
   "id": "authentic-silicon",
   "metadata": {},
   "outputs": [],
   "source": [
    "sc.pl.umap(adata_reynolds_fb_4820STDY7388999_loom, color=['leiden', 'SFRP2', 'PI16', 'SLPI', 'WIF1', 'COL18A1', 'COMP', \n",
    "                                               'APOE', 'CCL2',  'ITM2A', 'SPSB1', \n",
    "                                               'CCDC146', 'CCL19', 'CD74', \n",
    "                                               'DKK3', 'TNN', 'SFRP1'], cmap=magma, use_raw=False, legend_loc='on data')"
   ]
  },
  {
   "cell_type": "code",
   "execution_count": null,
   "id": "cardiac-briefing",
   "metadata": {},
   "outputs": [],
   "source": [
    "sc.pl.umap(adata_reynolds_fb_4820STDY7388999_loom, color=['leiden', \n",
    "                                                          'DMKN', 'KRT1'], cmap=magma, use_raw=False, legend_loc='on data')"
   ]
  },
  {
   "cell_type": "code",
   "execution_count": null,
   "id": "announced-spare",
   "metadata": {},
   "outputs": [],
   "source": [
    "dict_cat = {'fb': ['LUM', 'PDGFRA', 'COL1A1', 'SFRP2', 'CCL19'], 'peri': ['RGS5', 'MYL9', 'NDUFA4L2'], 'eritro': ['HBB', 'HBA2', 'HBA1'], \n",
    "            'immune': ['TPSB2', 'TRAC', 'TPSAB1', 'HLA-DRA', 'FCER1G', 'CD74'], 'endo': ['CLDN5', 'PECAM1'], 'kerato': ['DMKN', 'KRT1'],\n",
    "            'mt': ['MTND2P28', 'MTND4P12', 'MTCO1P40', 'ADAM33', 'RN7SL2', 'MTRNR2L6']}\n",
    "\n",
    "assign_cats(adata_reynolds_fb_4820STDY7388999_loom, dict_cat, min_score=0.05)"
   ]
  },
  {
   "cell_type": "code",
   "execution_count": null,
   "id": "third-elizabeth",
   "metadata": {},
   "outputs": [],
   "source": [
    "sc.pl.umap(adata_reynolds_fb_4820STDY7388999_loom, color=['leiden', 'science_clustering', 'assigned_cats'], legend_loc='on data', cmap=magma)"
   ]
  },
  {
   "cell_type": "code",
   "execution_count": null,
   "id": "serious-bottom",
   "metadata": {},
   "outputs": [],
   "source": [
    "sc.tl.rank_genes_groups(adata_reynolds_fb_4820STDY7388999_loom, groupby='leiden')\n",
    "sc.pl.rank_genes_groups(adata_reynolds_fb_4820STDY7388999_loom)"
   ]
  },
  {
   "cell_type": "code",
   "execution_count": null,
   "id": "marine-guinea",
   "metadata": {},
   "outputs": [],
   "source": [
    "adata_reynolds_fb_4820STDY7388999_loom = adata_reynolds_fb_4820STDY7388999_loom[adata_reynolds_fb_4820STDY7388999_loom.obs['assigned_cats'] == 'fb']"
   ]
  },
  {
   "cell_type": "code",
   "execution_count": null,
   "id": "cordless-nothing",
   "metadata": {},
   "outputs": [],
   "source": [
    "sc.pp.filter_genes(adata_reynolds_fb_4820STDY7388999_loom, min_counts=1)"
   ]
  },
  {
   "cell_type": "code",
   "execution_count": null,
   "id": "closed-patrick",
   "metadata": {},
   "outputs": [],
   "source": [
    "sc.pp.pca(adata_reynolds_fb_4820STDY7388999_loom, random_state=seed, n_comps=30)\n",
    "tk.tl.triku(adata_reynolds_fb_4820STDY7388999_loom, n_procs=1, random_state=seed, use_adata_knn=True)\n",
    "sc.pp.neighbors(adata_reynolds_fb_4820STDY7388999_loom, metric='cosine', random_state=seed)"
   ]
  },
  {
   "cell_type": "code",
   "execution_count": null,
   "id": "unknown-dryer",
   "metadata": {},
   "outputs": [],
   "source": [
    "sc.tl.umap(adata_reynolds_fb_4820STDY7388999_loom, min_dist=0.05, random_state=seed)\n",
    "sc.tl.leiden(adata_reynolds_fb_4820STDY7388999_loom, resolution=1.2, random_state=seed)"
   ]
  },
  {
   "cell_type": "code",
   "execution_count": null,
   "id": "invalid-coast",
   "metadata": {},
   "outputs": [],
   "source": [
    "sc.pl.umap(adata_reynolds_fb_4820STDY7388999_loom, color=['leiden', 'science_clustering'], cmap=magma, use_raw=False, legend_loc='on data')"
   ]
  },
  {
   "cell_type": "code",
   "execution_count": null,
   "id": "american-fellowship",
   "metadata": {},
   "outputs": [],
   "source": [
    "sc.pl.umap(adata_reynolds_fb_4820STDY7388999_loom, color=['leiden', 'SFRP2', 'PI16', 'SLPI', 'WIF1', 'COL18A1', 'COMP', \n",
    "                                               'APOE', 'CCL2',  'ITM2A', 'SPSB1', \n",
    "                                               'CCDC146', 'CCL19', 'CD74', \n",
    "                                               'DKK3', 'TNN', 'SFRP1', 'EDNRB', 'IGFBP7'], cmap=magma, use_raw=False, legend_loc='on data')"
   ]
  },
  {
   "cell_type": "code",
   "execution_count": null,
   "id": "adjacent-protocol",
   "metadata": {},
   "outputs": [],
   "source": [
    "sc.tl.rank_genes_groups(adata_reynolds_fb_4820STDY7388999_loom, groupby='leiden')"
   ]
  },
  {
   "cell_type": "code",
   "execution_count": null,
   "id": "eligible-journalist",
   "metadata": {},
   "outputs": [],
   "source": [
    "sc.pl.rank_genes_groups(adata_reynolds_fb_4820STDY7388999_loom)"
   ]
  },
  {
   "cell_type": "markdown",
   "id": "turkish-cooper",
   "metadata": {},
   "source": [
    "## 4820STDY7389007 (S3)"
   ]
  },
  {
   "cell_type": "markdown",
   "id": "unsigned-disabled",
   "metadata": {},
   "source": [
    "### Reynolds preprocessed"
   ]
  },
  {
   "cell_type": "code",
   "execution_count": null,
   "id": "built-future",
   "metadata": {},
   "outputs": [],
   "source": [
    "adata_reynolds_fb_4820STDY7389007 = adata_reynolds_fb_healthy[adata_reynolds_fb_healthy.obs['sample_id'].isin(['4820STDY7389007'])]  #selected_samples)]"
   ]
  },
  {
   "cell_type": "code",
   "execution_count": null,
   "id": "closing-michael",
   "metadata": {},
   "outputs": [],
   "source": [
    "adata_reynolds_fb_4820STDY7389007"
   ]
  },
  {
   "cell_type": "code",
   "execution_count": null,
   "id": "accessible-basin",
   "metadata": {},
   "outputs": [],
   "source": [
    "sc.pp.filter_genes(adata_reynolds_fb_4820STDY7389007, min_counts=1)\n",
    "adata_reynolds_fb_4820STDY7389007 = adata_reynolds_fb_4820STDY7389007[:, adata_reynolds_fb_4820STDY7389007.var_names != 'C3']"
   ]
  },
  {
   "cell_type": "code",
   "execution_count": null,
   "id": "atlantic-section",
   "metadata": {},
   "outputs": [],
   "source": [
    "sc.pp.pca(adata_reynolds_fb_4820STDY7389007, random_state=seed, n_comps=30)\n",
    "tk.tl.triku(adata_reynolds_fb_4820STDY7389007, n_procs=1, random_state=seed, use_adata_knn=True)\n",
    "sc.pp.neighbors(adata_reynolds_fb_4820STDY7389007, metric='cosine', random_state=seed)"
   ]
  },
  {
   "cell_type": "code",
   "execution_count": null,
   "id": "loved-anime",
   "metadata": {},
   "outputs": [],
   "source": [
    "sc.tl.umap(adata_reynolds_fb_4820STDY7389007, min_dist=0.3, random_state=seed)"
   ]
  },
  {
   "cell_type": "code",
   "execution_count": null,
   "id": "subjective-vision",
   "metadata": {},
   "outputs": [],
   "source": [
    "sc.tl.leiden(adata_reynolds_fb_4820STDY7389007, resolution=1, random_state=seed)"
   ]
  },
  {
   "cell_type": "code",
   "execution_count": null,
   "id": "portuguese-fishing",
   "metadata": {},
   "outputs": [],
   "source": [
    "sc.pl.umap(adata_reynolds_fb_4820STDY7389007, color=['leiden', 'sample_id', 'full_clustering'], legend_loc='on data')"
   ]
  },
  {
   "cell_type": "code",
   "execution_count": null,
   "id": "serious-claim",
   "metadata": {},
   "outputs": [],
   "source": [
    "sc.pl.umap(adata_reynolds_fb_4820STDY7389007, color=['APCDD1', 'COL18A1', 'COMP', 'SLPI', 'WIF1'], cmap=magma, use_raw=False)"
   ]
  },
  {
   "cell_type": "code",
   "execution_count": null,
   "id": "recovered-rebecca",
   "metadata": {},
   "outputs": [],
   "source": [
    "sc.pl.umap(adata_reynolds_fb_4820STDY7389007, color=['MT2A', 'CCL19', 'CCL2', 'CD46'], cmap=magma, use_raw=False)"
   ]
  },
  {
   "cell_type": "code",
   "execution_count": null,
   "id": "funny-belfast",
   "metadata": {},
   "outputs": [],
   "source": [
    "sc.pl.umap(adata_reynolds_fb_4820STDY7389007, color=['POSTN', 'COMP', 'COCH'], cmap=magma, use_raw=False)"
   ]
  },
  {
   "cell_type": "markdown",
   "id": "leading-jersey",
   "metadata": {},
   "source": [
    "### Direct loom"
   ]
  },
  {
   "cell_type": "code",
   "execution_count": null,
   "id": "democratic-joyce",
   "metadata": {},
   "outputs": [],
   "source": [
    "adata_reynolds_fb_4820STDY7389007_loom = sc.read('reynolds_2020/reynolds_2020_16_4820STDY7389007_s3_dermis_fibroblasts.loom', \n",
    "                                                 backup_url='https://zenodo.org/record/4596375/files/reynolds_2020_16_4820STDY7389007_s3_dermis_fibroblasts.loom')\n",
    "\n",
    "adata_reynolds_fb_4820STDY7389007_loom.var_names_make_unique()\n",
    "\n",
    "adata_reynolds_fb_4820STDY7389007_loom = adata_reynolds_fb_4820STDY7389007_loom[:, adata_reynolds_fb_4820STDY7389007_loom.var_names != 'C3']"
   ]
  },
  {
   "cell_type": "code",
   "execution_count": null,
   "id": "promotional-approach",
   "metadata": {},
   "outputs": [],
   "source": [
    "adata_reynolds_fb_4820STDY7389007_loom.obs_names = [f\"{i.split('_')[-1]}-1-{i.split('_')[1]}\" for i in adata_reynolds_fb_4820STDY7389007_loom.obs_names]"
   ]
  },
  {
   "cell_type": "code",
   "execution_count": null,
   "id": "perceived-authority",
   "metadata": {},
   "outputs": [],
   "source": [
    "df_fb_type = pd.Series('-', index=adata_reynolds_fb_4820STDY7389007_loom.obs_names)\n",
    "df_fb_type.loc[adata_reynolds_fb_4820STDY7389007.obs_names & adata_reynolds_fb_4820STDY7389007_loom.obs_names] = adata_reynolds_fb_4820STDY7389007[adata_reynolds_fb_4820STDY7389007.obs_names & adata_reynolds_fb_4820STDY7389007_loom.obs_names].obs['full_clustering']\n",
    "adata_reynolds_fb_4820STDY7389007_loom.obs['science_clustering'] = df_fb_type"
   ]
  },
  {
   "cell_type": "code",
   "execution_count": null,
   "id": "valuable-affiliation",
   "metadata": {},
   "outputs": [],
   "source": [
    "sc.pp.calculate_qc_metrics(adata_reynolds_fb_4820STDY7389007_loom, inplace=True)"
   ]
  },
  {
   "cell_type": "code",
   "execution_count": null,
   "id": "exposed-apache",
   "metadata": {},
   "outputs": [],
   "source": [
    "sc.pl.violin(adata_reynolds_fb_4820STDY7389007_loom, ['n_genes_by_counts'])\n",
    "sc.pl.violin(adata_reynolds_fb_4820STDY7389007_loom, ['log1p_total_counts'])"
   ]
  },
  {
   "cell_type": "code",
   "execution_count": null,
   "id": "designing-hybrid",
   "metadata": {},
   "outputs": [],
   "source": [
    "sc.pp.filter_genes(adata_reynolds_fb_4820STDY7389007_loom, min_counts=30)\n",
    "adata_reynolds_fb_4820STDY7389007_loom.raw = adata_reynolds_fb_4820STDY7389007_loom"
   ]
  },
  {
   "cell_type": "code",
   "execution_count": null,
   "id": "referenced-virgin",
   "metadata": {},
   "outputs": [],
   "source": [
    "sc.pp.normalize_per_cell(adata_reynolds_fb_4820STDY7389007_loom)\n",
    "sc.pp.log1p(adata_reynolds_fb_4820STDY7389007_loom)"
   ]
  },
  {
   "cell_type": "code",
   "execution_count": null,
   "id": "tired-installation",
   "metadata": {},
   "outputs": [],
   "source": [
    "sc.pp.pca(adata_reynolds_fb_4820STDY7389007_loom, random_state=seed, n_comps=30)\n",
    "tk.tl.triku(adata_reynolds_fb_4820STDY7389007_loom, n_procs=1, random_state=seed, use_adata_knn=True)\n",
    "sc.pp.neighbors(adata_reynolds_fb_4820STDY7389007_loom, metric='cosine', random_state=seed)"
   ]
  },
  {
   "cell_type": "code",
   "execution_count": null,
   "id": "proprietary-hypothesis",
   "metadata": {},
   "outputs": [],
   "source": [
    "sc.tl.umap(adata_reynolds_fb_4820STDY7389007_loom, min_dist=0.3, random_state=seed)\n",
    "sc.tl.leiden(adata_reynolds_fb_4820STDY7389007_loom, resolution=0.8, random_state=seed)"
   ]
  },
  {
   "cell_type": "code",
   "execution_count": null,
   "id": "efficient-shark",
   "metadata": {},
   "outputs": [],
   "source": [
    "sc.pl.umap(adata_reynolds_fb_4820STDY7389007_loom, color=['leiden', 'science_clustering'], legend_loc='on data')"
   ]
  },
  {
   "cell_type": "code",
   "execution_count": null,
   "id": "steady-rainbow",
   "metadata": {},
   "outputs": [],
   "source": [
    "sc.pl.umap(adata_reynolds_fb_4820STDY7389007_loom, color=['LUM', 'PDGFRA', 'VIM', 'COL1A1', 'SFRP2', 'APOE', \n",
    "                                                          'POSTN', 'RGS5', 'MYL9', 'NDUFA4L2', 'HBB', \n",
    "                                                          'DMKN', 'KRT1', 'KRT5'], legend_loc='on data', cmap=magma)"
   ]
  },
  {
   "cell_type": "code",
   "execution_count": null,
   "id": "received-sierra",
   "metadata": {},
   "outputs": [],
   "source": [
    "sc.pl.umap(adata_reynolds_fb_4820STDY7389007_loom, color=['leiden', 'SFRP2', 'PI16', 'SLPI', 'WIF1', 'COL18A1', 'COMP', \n",
    "                                               'APOE', 'CCL2',  'ITM2A', 'SPSB1', \n",
    "                                               'CCDC146', 'CCL19', 'CD74'], cmap=magma, use_raw=False, legend_loc='on data')"
   ]
  },
  {
   "cell_type": "code",
   "execution_count": null,
   "id": "quick-distance",
   "metadata": {},
   "outputs": [],
   "source": [
    "dict_cat = {'fb': ['LUM', 'PDGFRA', 'COL1A1', 'SFRP2', 'CCL19'], 'peri': ['RGS5', 'MYL9', 'NDUFA4L2'], 'eritro': ['HBB', 'HBA2', 'HBA1'], \n",
    "            'immune': ['TPSB2', 'TRAC', 'TPSAB1', 'HLA-DRA', 'FCER1G'], 'kerato': ['DMKN', 'KRT1', 'KRT5'],\n",
    "            'mt': ['MTND2P28', 'MTND4P12', 'MTCO1P40', 'ADAM33', 'RN7SL2', 'MTRNR2L6']}\n",
    "\n",
    "assign_cats(adata_reynolds_fb_4820STDY7389007_loom, dict_cat, quantile_gene_sel=0.85, min_score=0.05)"
   ]
  },
  {
   "cell_type": "code",
   "execution_count": null,
   "id": "specific-great",
   "metadata": {},
   "outputs": [],
   "source": [
    "sc.pl.umap(adata_reynolds_fb_4820STDY7389007_loom, color=['leiden', 'science_clustering', 'assigned_cats'], legend_loc='on data', cmap=magma)"
   ]
  },
  {
   "cell_type": "code",
   "execution_count": null,
   "id": "honey-particular",
   "metadata": {},
   "outputs": [],
   "source": [
    "sc.tl.rank_genes_groups(adata_reynolds_fb_4820STDY7389007_loom, groupby='leiden')\n",
    "sc.pl.rank_genes_groups(adata_reynolds_fb_4820STDY7389007_loom)"
   ]
  },
  {
   "cell_type": "code",
   "execution_count": null,
   "id": "liquid-gravity",
   "metadata": {},
   "outputs": [],
   "source": [
    "adata_reynolds_fb_4820STDY7389007_loom = adata_reynolds_fb_4820STDY7389007_loom[adata_reynolds_fb_4820STDY7389007_loom.obs['assigned_cats'] == 'fb']"
   ]
  },
  {
   "cell_type": "code",
   "execution_count": null,
   "id": "interpreted-patrick",
   "metadata": {},
   "outputs": [],
   "source": [
    "sc.pp.filter_genes(adata_reynolds_fb_4820STDY7389007_loom, min_counts=1)"
   ]
  },
  {
   "cell_type": "code",
   "execution_count": null,
   "id": "academic-heather",
   "metadata": {},
   "outputs": [],
   "source": [
    "sc.pp.pca(adata_reynolds_fb_4820STDY7389007_loom, random_state=seed, n_comps=30)\n",
    "tk.tl.triku(adata_reynolds_fb_4820STDY7389007_loom, n_procs=1, random_state=seed, use_adata_knn=True)\n",
    "sc.pp.neighbors(adata_reynolds_fb_4820STDY7389007_loom, metric='cosine', random_state=seed)"
   ]
  },
  {
   "cell_type": "code",
   "execution_count": null,
   "id": "medieval-format",
   "metadata": {},
   "outputs": [],
   "source": [
    "sc.tl.umap(adata_reynolds_fb_4820STDY7389007_loom, min_dist=0.05, random_state=seed)\n",
    "sc.tl.leiden(adata_reynolds_fb_4820STDY7389007_loom, resolution=1.2, random_state=seed)"
   ]
  },
  {
   "cell_type": "code",
   "execution_count": null,
   "id": "european-commission",
   "metadata": {},
   "outputs": [],
   "source": [
    "adata_reynolds_fb_4820STDY7389007_loom"
   ]
  },
  {
   "cell_type": "code",
   "execution_count": null,
   "id": "attempted-opening",
   "metadata": {},
   "outputs": [],
   "source": [
    "sc.pl.umap(adata_reynolds_fb_4820STDY7389007_loom, color=['leiden', 'science_clustering'], cmap=magma, use_raw=False, legend_loc='on data')"
   ]
  },
  {
   "cell_type": "code",
   "execution_count": null,
   "id": "tribal-dispatch",
   "metadata": {},
   "outputs": [],
   "source": [
    "sc.pl.umap(adata_reynolds_fb_4820STDY7389007_loom, color=['leiden', 'SFRP2', 'PI16', 'SLPI', 'WIF1', 'COL18A1', 'COMP', \n",
    "                                               'APOE', 'CCL2',  'ITM2A', 'SPSB1', \n",
    "                                               'CCDC146', 'CCL19', 'CD74'], cmap=magma, use_raw=False, legend_loc='on data')"
   ]
  },
  {
   "cell_type": "markdown",
   "id": "harmful-preference",
   "metadata": {},
   "source": [
    "## SKN8104899 (S4)"
   ]
  },
  {
   "cell_type": "markdown",
   "id": "faced-company",
   "metadata": {},
   "source": [
    "### Reynolds preprocessed"
   ]
  },
  {
   "cell_type": "code",
   "execution_count": null,
   "id": "reflected-basis",
   "metadata": {},
   "outputs": [],
   "source": [
    "adata_reynolds_fb_SKN8104899 = adata_reynolds_fb_healthy[adata_reynolds_fb_healthy.obs['sample_id'].isin(['SKN8104899'])]  #selected_samples)]"
   ]
  },
  {
   "cell_type": "code",
   "execution_count": null,
   "id": "choice-transsexual",
   "metadata": {},
   "outputs": [],
   "source": [
    "adata_reynolds_fb_SKN8104899"
   ]
  },
  {
   "cell_type": "code",
   "execution_count": null,
   "id": "perceived-thought",
   "metadata": {},
   "outputs": [],
   "source": [
    "sc.pp.filter_genes(adata_reynolds_fb_SKN8104899, min_counts=1)\n",
    "adata_reynolds_fb_SKN8104899 = adata_reynolds_fb_SKN8104899[:, adata_reynolds_fb_SKN8104899.var_names != 'C3']"
   ]
  },
  {
   "cell_type": "code",
   "execution_count": null,
   "id": "signed-nowhere",
   "metadata": {},
   "outputs": [],
   "source": [
    "sc.pp.pca(adata_reynolds_fb_SKN8104899, random_state=seed, n_comps=30)\n",
    "tk.tl.triku(adata_reynolds_fb_SKN8104899, n_procs=1, random_state=seed, use_adata_knn=True)\n",
    "sc.pp.neighbors(adata_reynolds_fb_SKN8104899, metric='cosine', random_state=seed)"
   ]
  },
  {
   "cell_type": "code",
   "execution_count": null,
   "id": "unusual-venice",
   "metadata": {},
   "outputs": [],
   "source": [
    "sc.tl.umap(adata_reynolds_fb_SKN8104899, min_dist=0.3, random_state=seed)"
   ]
  },
  {
   "cell_type": "code",
   "execution_count": null,
   "id": "endless-hearts",
   "metadata": {},
   "outputs": [],
   "source": [
    "sc.tl.leiden(adata_reynolds_fb_SKN8104899, resolution=1, random_state=seed)"
   ]
  },
  {
   "cell_type": "code",
   "execution_count": null,
   "id": "laden-stuff",
   "metadata": {},
   "outputs": [],
   "source": [
    "sc.pl.umap(adata_reynolds_fb_SKN8104899, color=['leiden', 'sample_id', 'full_clustering'], legend_loc='on data')"
   ]
  },
  {
   "cell_type": "code",
   "execution_count": null,
   "id": "helpful-empty",
   "metadata": {},
   "outputs": [],
   "source": [
    "sc.pl.umap(adata_reynolds_fb_SKN8104899, color=['APCDD1', 'COL18A1', 'COMP', 'SLPI', 'WIF1'], cmap=magma, use_raw=False)"
   ]
  },
  {
   "cell_type": "code",
   "execution_count": null,
   "id": "unauthorized-immune",
   "metadata": {},
   "outputs": [],
   "source": [
    "sc.pl.umap(adata_reynolds_fb_SKN8104899, color=['MT2A', 'CCL19', 'CCL2', 'CD46'], cmap=magma, use_raw=False)"
   ]
  },
  {
   "cell_type": "markdown",
   "id": "tamil-arizona",
   "metadata": {},
   "source": [
    "### Direct loom"
   ]
  },
  {
   "cell_type": "code",
   "execution_count": null,
   "id": "imperial-butler",
   "metadata": {},
   "outputs": [],
   "source": [
    "adata_reynolds_fb_SKN8104899_loom = sc.read('reynolds_2020/reynolds_2020_84_SKN8104899_S4_dermis_fibroblasts.loom', \n",
    "                                                 backup_url='https://zenodo.org/record/4596375/files/reynolds_2020_84_SKN8104899_S4_dermis_fibroblasts.loom')\n",
    "\n",
    "adata_reynolds_fb_SKN8104899_loom.var_names_make_unique()\n",
    "\n",
    "adata_reynolds_fb_SKN8104899_loom = adata_reynolds_fb_SKN8104899_loom[:, adata_reynolds_fb_SKN8104899_loom.var_names != 'C3']"
   ]
  },
  {
   "cell_type": "code",
   "execution_count": null,
   "id": "least-federal",
   "metadata": {},
   "outputs": [],
   "source": [
    "adata_reynolds_fb_SKN8104899_loom.obs_names = [f\"{i.split('_')[-1]}-1-{i.split('_')[1]}\" for i in adata_reynolds_fb_SKN8104899_loom.obs_names]"
   ]
  },
  {
   "cell_type": "code",
   "execution_count": null,
   "id": "measured-option",
   "metadata": {},
   "outputs": [],
   "source": [
    "df_fb_type = pd.Series('-', index=adata_reynolds_fb_SKN8104899_loom.obs_names)\n",
    "df_fb_type.loc[adata_reynolds_fb_SKN8104899.obs_names & adata_reynolds_fb_SKN8104899_loom.obs_names] = adata_reynolds_fb_SKN8104899[adata_reynolds_fb_SKN8104899.obs_names & adata_reynolds_fb_SKN8104899_loom.obs_names].obs['full_clustering']\n",
    "adata_reynolds_fb_SKN8104899_loom.obs['science_clustering'] = df_fb_type"
   ]
  },
  {
   "cell_type": "code",
   "execution_count": null,
   "id": "corresponding-horizon",
   "metadata": {},
   "outputs": [],
   "source": [
    "sc.pp.calculate_qc_metrics(adata_reynolds_fb_SKN8104899_loom, inplace=True)"
   ]
  },
  {
   "cell_type": "code",
   "execution_count": null,
   "id": "superb-seller",
   "metadata": {},
   "outputs": [],
   "source": [
    "sc.pl.violin(adata_reynolds_fb_SKN8104899_loom, ['n_genes_by_counts'])\n",
    "sc.pl.violin(adata_reynolds_fb_SKN8104899_loom, ['log1p_total_counts'])"
   ]
  },
  {
   "cell_type": "code",
   "execution_count": null,
   "id": "italian-palmer",
   "metadata": {},
   "outputs": [],
   "source": [
    "sc.pp.filter_genes(adata_reynolds_fb_SKN8104899_loom, min_counts=30)\n",
    "adata_reynolds_fb_SKN8104899_loom.raw = adata_reynolds_fb_SKN8104899_loom"
   ]
  },
  {
   "cell_type": "code",
   "execution_count": null,
   "id": "textile-sequence",
   "metadata": {},
   "outputs": [],
   "source": [
    "sc.pp.normalize_per_cell(adata_reynolds_fb_SKN8104899_loom)\n",
    "sc.pp.log1p(adata_reynolds_fb_SKN8104899_loom)"
   ]
  },
  {
   "cell_type": "code",
   "execution_count": null,
   "id": "material-terrace",
   "metadata": {},
   "outputs": [],
   "source": [
    "sc.pp.pca(adata_reynolds_fb_SKN8104899_loom, random_state=seed, n_comps=30)\n",
    "tk.tl.triku(adata_reynolds_fb_SKN8104899_loom, n_procs=1, random_state=seed, use_adata_knn=True)\n",
    "sc.pp.neighbors(adata_reynolds_fb_SKN8104899_loom, metric='cosine', random_state=seed)"
   ]
  },
  {
   "cell_type": "code",
   "execution_count": null,
   "id": "registered-surfing",
   "metadata": {},
   "outputs": [],
   "source": [
    "sc.tl.umap(adata_reynolds_fb_SKN8104899_loom, min_dist=0.3, random_state=seed)\n",
    "sc.tl.leiden(adata_reynolds_fb_SKN8104899_loom, resolution=0.8, random_state=seed)"
   ]
  },
  {
   "cell_type": "code",
   "execution_count": null,
   "id": "behavioral-medicine",
   "metadata": {},
   "outputs": [],
   "source": [
    "sc.pl.umap(adata_reynolds_fb_SKN8104899_loom, color=['leiden', 'science_clustering'], legend_loc='on data')"
   ]
  },
  {
   "cell_type": "code",
   "execution_count": null,
   "id": "armed-lebanon",
   "metadata": {},
   "outputs": [],
   "source": [
    "sc.pl.umap(adata_reynolds_fb_SKN8104899_loom, color=['LUM', 'PDGFRA', 'VIM', 'COL1A1', 'SFRP2', 'APOE', \n",
    "                                                     'POSTN', 'RGS5', 'MYL9', 'NDUFA4L2', 'HBB'], legend_loc='on data', cmap=magma, use_raw=False)"
   ]
  },
  {
   "cell_type": "code",
   "execution_count": null,
   "id": "continent-funds",
   "metadata": {},
   "outputs": [],
   "source": [
    "sc.pl.umap(adata_reynolds_fb_SKN8104899_loom, color=['leiden', 'SFRP2', 'PI16', 'SLPI', 'WIF1', 'COL18A1', 'COMP', \n",
    "                                               'APOE', 'CCL2',  'ITM2A', 'SPSB1', \n",
    "                                               'CCDC146', 'CCL19', 'CD74', 'POSTN'], cmap=magma, use_raw=False, legend_loc='on data')"
   ]
  },
  {
   "cell_type": "code",
   "execution_count": null,
   "id": "distant-velvet",
   "metadata": {},
   "outputs": [],
   "source": [
    "dict_cat = {'fb': ['LUM', 'PDGFRA', 'COL1A1', 'SFRP2', 'CCL19'], 'peri': ['RGS5', 'MYL9', 'NDUFA4L2'], 'eritro': ['HBB', 'HBA2', 'HBA1'], \n",
    "            'immune': ['TRAC', 'HLA-DRA', 'FCER1G'], 'kerato': ['DMKN', 'KRT1'],\n",
    "            'mt': ['MTND4P12', 'ADAM33', 'RN7SL2', ]}\n",
    "\n",
    "assign_cats(adata_reynolds_fb_SKN8104899_loom, dict_cat, min_score=0.05)"
   ]
  },
  {
   "cell_type": "code",
   "execution_count": null,
   "id": "japanese-raising",
   "metadata": {},
   "outputs": [],
   "source": [
    "sc.pl.umap(adata_reynolds_fb_SKN8104899_loom, color=['leiden', 'science_clustering', 'assigned_cats'], legend_loc='on data', cmap=magma)"
   ]
  },
  {
   "cell_type": "code",
   "execution_count": null,
   "id": "experienced-checklist",
   "metadata": {},
   "outputs": [],
   "source": [
    "sc.tl.rank_genes_groups(adata_reynolds_fb_SKN8104899_loom, groupby='leiden')\n",
    "sc.pl.rank_genes_groups(adata_reynolds_fb_SKN8104899_loom)"
   ]
  },
  {
   "cell_type": "code",
   "execution_count": null,
   "id": "numerical-spain",
   "metadata": {},
   "outputs": [],
   "source": [
    "adata_reynolds_fb_SKN8104899_loom = adata_reynolds_fb_SKN8104899_loom[adata_reynolds_fb_SKN8104899_loom.obs['assigned_cats'] == 'fb']"
   ]
  },
  {
   "cell_type": "code",
   "execution_count": null,
   "id": "impaired-teach",
   "metadata": {},
   "outputs": [],
   "source": [
    "sc.pp.filter_genes(adata_reynolds_fb_SKN8104899_loom, min_counts=1)"
   ]
  },
  {
   "cell_type": "code",
   "execution_count": null,
   "id": "limiting-fever",
   "metadata": {},
   "outputs": [],
   "source": [
    "sc.pp.pca(adata_reynolds_fb_SKN8104899_loom, random_state=seed, n_comps=30)\n",
    "tk.tl.triku(adata_reynolds_fb_SKN8104899_loom, n_procs=1, random_state=seed, use_adata_knn=True)\n",
    "sc.pp.neighbors(adata_reynolds_fb_SKN8104899_loom, metric='cosine', random_state=seed)"
   ]
  },
  {
   "cell_type": "code",
   "execution_count": null,
   "id": "consistent-composite",
   "metadata": {},
   "outputs": [],
   "source": [
    "sc.tl.umap(adata_reynolds_fb_SKN8104899_loom, min_dist=0.05, random_state=seed)\n",
    "sc.tl.leiden(adata_reynolds_fb_SKN8104899_loom, resolution=1.2, random_state=seed)"
   ]
  },
  {
   "cell_type": "code",
   "execution_count": null,
   "id": "oriented-scheme",
   "metadata": {},
   "outputs": [],
   "source": [
    "sc.pl.umap(adata_reynolds_fb_SKN8104899_loom, color=['leiden', 'science_clustering'], cmap=magma, use_raw=False, legend_loc='on data')"
   ]
  },
  {
   "cell_type": "code",
   "execution_count": null,
   "id": "continuous-landscape",
   "metadata": {},
   "outputs": [],
   "source": [
    "sc.pl.umap(adata_reynolds_fb_SKN8104899_loom, color=['leiden', 'SFRP2', 'PI16', 'SLPI', 'WIF1', 'COL18A1', 'COMP', \n",
    "                                               'APOE', 'CCL2',  'ITM2A', 'SPSB1', \n",
    "                                               'CCDC146', 'CCL19', 'CD74'], cmap=magma, use_raw=False, legend_loc='on data')"
   ]
  },
  {
   "cell_type": "code",
   "execution_count": null,
   "id": "opened-insurance",
   "metadata": {},
   "outputs": [],
   "source": [
    "sc.tl.rank_genes_groups(adata_reynolds_fb_SKN8104899_loom, groupby='leiden')\n",
    "sc.pl.rank_genes_groups(adata_reynolds_fb_SKN8104899_loom)"
   ]
  },
  {
   "cell_type": "markdown",
   "id": "improving-ferry",
   "metadata": {},
   "source": [
    "## SKN8105197 (S5)"
   ]
  },
  {
   "cell_type": "markdown",
   "id": "naked-armor",
   "metadata": {},
   "source": [
    "### Reynolds preprocessed"
   ]
  },
  {
   "cell_type": "code",
   "execution_count": null,
   "id": "dramatic-entry",
   "metadata": {},
   "outputs": [],
   "source": [
    "adata_reynolds_fb_SKN8105197 = adata_reynolds_fb_healthy[adata_reynolds_fb_healthy.obs['sample_id'].isin(['SKN8105197'])]  #selected_samples)]"
   ]
  },
  {
   "cell_type": "code",
   "execution_count": null,
   "id": "solved-quarter",
   "metadata": {},
   "outputs": [],
   "source": [
    "adata_reynolds_fb_SKN8105197"
   ]
  },
  {
   "cell_type": "code",
   "execution_count": null,
   "id": "responsible-syntax",
   "metadata": {},
   "outputs": [],
   "source": [
    "sc.pp.filter_genes(adata_reynolds_fb_SKN8105197, min_counts=1)\n",
    "adata_reynolds_fb_SKN8105197 = adata_reynolds_fb_SKN8105197[:, adata_reynolds_fb_SKN8105197.var_names != 'C3']"
   ]
  },
  {
   "cell_type": "code",
   "execution_count": null,
   "id": "intended-determination",
   "metadata": {},
   "outputs": [],
   "source": [
    "sc.pp.pca(adata_reynolds_fb_SKN8105197, random_state=seed, n_comps=30)\n",
    "tk.tl.triku(adata_reynolds_fb_SKN8105197, n_procs=1, random_state=seed, use_adata_knn=True)\n",
    "sc.pp.neighbors(adata_reynolds_fb_SKN8105197, metric='cosine', random_state=seed)"
   ]
  },
  {
   "cell_type": "code",
   "execution_count": null,
   "id": "polar-arizona",
   "metadata": {},
   "outputs": [],
   "source": [
    "sc.tl.umap(adata_reynolds_fb_SKN8105197, min_dist=0.3, random_state=seed)"
   ]
  },
  {
   "cell_type": "code",
   "execution_count": null,
   "id": "available-token",
   "metadata": {},
   "outputs": [],
   "source": [
    "sc.tl.leiden(adata_reynolds_fb_SKN8105197, resolution=1, random_state=seed)"
   ]
  },
  {
   "cell_type": "code",
   "execution_count": null,
   "id": "suspected-density",
   "metadata": {},
   "outputs": [],
   "source": [
    "sc.pl.umap(adata_reynolds_fb_SKN8105197, color=['leiden', 'sample_id', 'full_clustering'], legend_loc='on data')"
   ]
  },
  {
   "cell_type": "code",
   "execution_count": null,
   "id": "maritime-wallet",
   "metadata": {},
   "outputs": [],
   "source": [
    "sc.pl.umap(adata_reynolds_fb_SKN8105197, color=['APCDD1', 'COL18A1', 'COMP', 'SLPI', 'WIF1'], cmap=magma, use_raw=False)"
   ]
  },
  {
   "cell_type": "code",
   "execution_count": null,
   "id": "moving-associate",
   "metadata": {},
   "outputs": [],
   "source": [
    "sc.pl.umap(adata_reynolds_fb_SKN8105197, color=['MT2A', 'CCL19', 'CCL2', 'CD46'], cmap=magma, use_raw=False)"
   ]
  },
  {
   "cell_type": "markdown",
   "id": "recovered-stranger",
   "metadata": {},
   "source": [
    "### Direct loom"
   ]
  },
  {
   "cell_type": "code",
   "execution_count": null,
   "id": "constitutional-religion",
   "metadata": {},
   "outputs": [],
   "source": [
    "adata_reynolds_fb_SKN8105197_loom = sc.read('reynolds_2020/reynolds_2020_92_SKN8105197_S5_dermis_fibroblasts.loom', \n",
    "                                                 backup_url='https://zenodo.org/record/4596375/files/reynolds_2020_92_SKN8105197_S5_dermis_fibroblasts.loom')\n",
    "adata_reynolds_fb_SKN8105197_loom.var_names_make_unique()\n",
    "\n",
    "adata_reynolds_fb_SKN8105197_loom = adata_reynolds_fb_SKN8105197_loom[:, adata_reynolds_fb_SKN8105197_loom.var_names != 'C3']"
   ]
  },
  {
   "cell_type": "code",
   "execution_count": null,
   "id": "religious-bacteria",
   "metadata": {},
   "outputs": [],
   "source": [
    "adata_reynolds_fb_SKN8105197_loom.obs_names = [f\"{i.split('_')[-1]}-1-{i.split('_')[1]}\" for i in adata_reynolds_fb_SKN8105197_loom.obs_names]"
   ]
  },
  {
   "cell_type": "code",
   "execution_count": null,
   "id": "artificial-commander",
   "metadata": {},
   "outputs": [],
   "source": [
    "df_fb_type = pd.Series('-', index=adata_reynolds_fb_SKN8105197_loom.obs_names)\n",
    "df_fb_type.loc[adata_reynolds_fb_SKN8105197.obs_names & adata_reynolds_fb_SKN8105197_loom.obs_names] = adata_reynolds_fb_SKN8105197[adata_reynolds_fb_SKN8105197.obs_names & adata_reynolds_fb_SKN8105197_loom.obs_names].obs['full_clustering']\n",
    "adata_reynolds_fb_SKN8105197_loom.obs['science_clustering'] = df_fb_type"
   ]
  },
  {
   "cell_type": "code",
   "execution_count": null,
   "id": "graduate-allowance",
   "metadata": {},
   "outputs": [],
   "source": [
    "sc.pp.calculate_qc_metrics(adata_reynolds_fb_SKN8105197_loom, inplace=True)"
   ]
  },
  {
   "cell_type": "code",
   "execution_count": null,
   "id": "opponent-factor",
   "metadata": {},
   "outputs": [],
   "source": [
    "sc.pl.violin(adata_reynolds_fb_SKN8105197_loom, ['n_genes_by_counts'])\n",
    "sc.pl.violin(adata_reynolds_fb_SKN8105197_loom, ['log1p_total_counts'])"
   ]
  },
  {
   "cell_type": "code",
   "execution_count": null,
   "id": "piano-throat",
   "metadata": {},
   "outputs": [],
   "source": [
    "sc.pp.filter_genes(adata_reynolds_fb_SKN8105197_loom, min_counts=30)\n",
    "adata_reynolds_fb_SKN8105197_loom.raw = adata_reynolds_fb_SKN8105197_loom"
   ]
  },
  {
   "cell_type": "code",
   "execution_count": null,
   "id": "middle-hughes",
   "metadata": {},
   "outputs": [],
   "source": [
    "sc.pp.normalize_per_cell(adata_reynolds_fb_SKN8105197_loom)\n",
    "sc.pp.log1p(adata_reynolds_fb_SKN8105197_loom)"
   ]
  },
  {
   "cell_type": "code",
   "execution_count": null,
   "id": "worst-mumbai",
   "metadata": {},
   "outputs": [],
   "source": [
    "sc.pp.pca(adata_reynolds_fb_SKN8105197_loom, random_state=seed, n_comps=30)\n",
    "tk.tl.triku(adata_reynolds_fb_SKN8105197_loom, n_procs=1, random_state=seed, use_adata_knn=True)\n",
    "sc.pp.neighbors(adata_reynolds_fb_SKN8105197_loom, metric='cosine', random_state=seed)"
   ]
  },
  {
   "cell_type": "code",
   "execution_count": null,
   "id": "direct-forth",
   "metadata": {},
   "outputs": [],
   "source": [
    "sc.tl.umap(adata_reynolds_fb_SKN8105197_loom, min_dist=0.3, random_state=seed)\n",
    "sc.tl.leiden(adata_reynolds_fb_SKN8105197_loom, resolution=1, random_state=seed)"
   ]
  },
  {
   "cell_type": "code",
   "execution_count": null,
   "id": "centered-explorer",
   "metadata": {},
   "outputs": [],
   "source": [
    "sc.pl.umap(adata_reynolds_fb_SKN8105197_loom, color=['leiden', 'science_clustering'], legend_loc='on data')"
   ]
  },
  {
   "cell_type": "code",
   "execution_count": null,
   "id": "primary-block",
   "metadata": {},
   "outputs": [],
   "source": [
    "sc.pl.umap(adata_reynolds_fb_SKN8105197_loom, color=['LUM', 'PDGFRA', 'VIM', 'COL1A1', 'SFRP2', 'APOE', 'RGS5', 'MYL9', 'NDUFA4L2', 'HBB'], legend_loc='on data', cmap=magma)"
   ]
  },
  {
   "cell_type": "code",
   "execution_count": null,
   "id": "fantastic-nursing",
   "metadata": {},
   "outputs": [],
   "source": [
    "sc.pl.umap(adata_reynolds_fb_SKN8105197_loom, color=['leiden', 'SFRP2', 'SLPI', 'WIF1', 'COL18A1', 'COMP', \n",
    "                                               'APOE', 'CCL2',  'ITM2A', 'SPSB1', \n",
    "                                               'CCDC146', 'CCL19', 'CD74'], cmap=magma, use_raw=False, legend_loc='on data')"
   ]
  },
  {
   "cell_type": "code",
   "execution_count": null,
   "id": "severe-startup",
   "metadata": {},
   "outputs": [],
   "source": [
    "dict_cat = {'fb': ['LUM', 'PDGFRA', 'COL1A1', 'SFRP2', 'CCL19'], 'peri': ['RGS5', 'MYL9', 'NDUFA4L2'], 'eritro': ['HBB', 'HBA2', 'HBA1'], \n",
    "            'immune': ['HLA-DRA', 'FCER1G'], 'melano':['PMEL', 'MLANA']}\n",
    "\n",
    "assign_cats(adata_reynolds_fb_SKN8105197_loom, dict_cat, min_score=0.05)"
   ]
  },
  {
   "cell_type": "code",
   "execution_count": null,
   "id": "incorporated-toddler",
   "metadata": {},
   "outputs": [],
   "source": [
    "sc.pl.umap(adata_reynolds_fb_SKN8105197_loom, color=['leiden', 'science_clustering', 'assigned_cats'], legend_loc='on data', cmap=magma)"
   ]
  },
  {
   "cell_type": "code",
   "execution_count": null,
   "id": "lonely-boston",
   "metadata": {},
   "outputs": [],
   "source": [
    "sc.tl.rank_genes_groups(adata_reynolds_fb_SKN8105197_loom, groupby='leiden')\n",
    "sc.pl.rank_genes_groups(adata_reynolds_fb_SKN8105197_loom)"
   ]
  },
  {
   "cell_type": "code",
   "execution_count": null,
   "id": "animal-administrator",
   "metadata": {},
   "outputs": [],
   "source": [
    "adata_reynolds_fb_SKN8105197_loom = adata_reynolds_fb_SKN8105197_loom[adata_reynolds_fb_SKN8105197_loom.obs['assigned_cats'] == 'fb']"
   ]
  },
  {
   "cell_type": "code",
   "execution_count": null,
   "id": "vulnerable-anderson",
   "metadata": {},
   "outputs": [],
   "source": [
    "sc.pp.filter_genes(adata_reynolds_fb_SKN8105197_loom, min_counts=1)"
   ]
  },
  {
   "cell_type": "code",
   "execution_count": null,
   "id": "political-mortality",
   "metadata": {},
   "outputs": [],
   "source": [
    "sc.pp.pca(adata_reynolds_fb_SKN8105197_loom, random_state=seed, n_comps=30)\n",
    "tk.tl.triku(adata_reynolds_fb_SKN8105197_loom, n_procs=1, random_state=seed, use_adata_knn=True)\n",
    "sc.pp.neighbors(adata_reynolds_fb_SKN8105197_loom, metric='cosine', random_state=seed)"
   ]
  },
  {
   "cell_type": "code",
   "execution_count": null,
   "id": "dressed-cooperation",
   "metadata": {},
   "outputs": [],
   "source": [
    "sc.tl.umap(adata_reynolds_fb_SKN8105197_loom, min_dist=0.05, random_state=seed)\n",
    "sc.tl.leiden(adata_reynolds_fb_SKN8105197_loom, resolution=1.2, random_state=seed)"
   ]
  },
  {
   "cell_type": "code",
   "execution_count": null,
   "id": "moving-bridge",
   "metadata": {},
   "outputs": [],
   "source": [
    "sc.pl.umap(adata_reynolds_fb_SKN8105197_loom, color=['leiden', 'science_clustering'], cmap=magma, use_raw=False, legend_loc='on data')"
   ]
  },
  {
   "cell_type": "code",
   "execution_count": null,
   "id": "prompt-start",
   "metadata": {},
   "outputs": [],
   "source": [
    "sc.pl.umap(adata_reynolds_fb_SKN8105197_loom, color=['leiden', 'SFRP2', 'SLPI', 'WIF1', 'COL18A1', 'COMP', \n",
    "                                               'APOE', 'CCL2',  'ITM2A', 'SPSB1', \n",
    "                                               'CCDC146', 'CCL19', 'CD74'], cmap=magma, use_raw=False, legend_loc='on data')"
   ]
  },
  {
   "cell_type": "markdown",
   "id": "coated-puppy",
   "metadata": {},
   "source": [
    "## SKN8105197 exclusion\n",
    "We do not see SFRP2 expression, which has been a through fb marker, together with APOE. We will not include this sample in the analysis."
   ]
  },
  {
   "cell_type": "code",
   "execution_count": null,
   "id": "binary-brooks",
   "metadata": {},
   "outputs": [],
   "source": [
    "genes = ['science_clustering', 'SFRP2', 'APOE', 'CCL19']\n",
    "\n",
    "sc.pl.umap(adata_reynolds_fb_4820STDY7388991_loom_fb, color=genes, cmap=magma, use_raw=False, legend_loc='on data')\n",
    "sc.pl.umap(adata_reynolds_fb_4820STDY7388999_loom, color=genes, cmap=magma, use_raw=False, legend_loc='on data')\n",
    "sc.pl.umap(adata_reynolds_fb_4820STDY7389007_loom, color=genes, cmap=magma, use_raw=False, legend_loc='on data')\n",
    "\n",
    "sc.pl.umap(adata_reynolds_fb_SKN8104899_loom, color=genes, cmap=magma, use_raw=False, legend_loc='on data')\n",
    "sc.pl.umap(adata_reynolds_fb_SKN8105197_loom, color=genes, cmap=magma, use_raw=False, legend_loc='on data')"
   ]
  },
  {
   "cell_type": "markdown",
   "id": "challenging-cinema",
   "metadata": {},
   "source": [
    "# Preparing adatas for FB1+3 and FB2\n",
    "\n",
    "We've realized that FB1+3 and FB2 showed the same main populations based on JID (A1, A2 and B2 mainly). We want to obtain distinct populations based on the marker expression, and also be able to separate these two populations. The problem is that the FB1+3 and FB2 populations, although not fully overlapping, they do show some overlap between them, and we would like to separate them only based on marker genes and clustering. These markers should be shared between all datasets. To do that, we are going to do a preeliminar DEG analysis and find markers that separate these populations in an unbiased manner."
   ]
  },
  {
   "cell_type": "markdown",
   "id": "noted-honor",
   "metadata": {},
   "source": [
    "## Finding markers to separate 1+3 from 2"
   ]
  },
  {
   "cell_type": "markdown",
   "id": "prostate-zealand",
   "metadata": {},
   "source": [
    "**This part may not be reproducible in other notebooks. This part is to get markers that will be reproducible later on**"
   ]
  },
  {
   "cell_type": "code",
   "execution_count": null,
   "id": "meaning-oxford",
   "metadata": {},
   "outputs": [],
   "source": [
    "# S1\n",
    "sc.tl.leiden(adata_reynolds_fb_4820STDY7388991_loom_fb, resolution=3, random_state=seed)\n",
    "sc.pl.umap(adata_reynolds_fb_4820STDY7388991_loom_fb, color=['leiden', 'science_clustering'], cmap=magma, use_raw=False, legend_loc='on data')\n",
    "adata_reynolds_fb_4820STDY7388991_loom_fb.obs['fb_type'] = ['1+3' if i in ['3', '16', '12', '19', '6', '17', '8', '2', '9', '11', '12', '14', '0', '21', '22'] else '2' for i in adata_reynolds_fb_4820STDY7388991_loom_fb.obs['leiden']]\n",
    "sc.pl.umap(adata_reynolds_fb_4820STDY7388991_loom_fb, color=['fb_type', 'science_clustering'], cmap=magma, use_raw=False, legend_loc='on data')"
   ]
  },
  {
   "cell_type": "code",
   "execution_count": null,
   "id": "monthly-evans",
   "metadata": {},
   "outputs": [],
   "source": [
    "sc.tl.rank_genes_groups(adata_reynolds_fb_4820STDY7388991_loom_fb, groupby='fb_type', groups=['1+3'], reference='2', rankby_abs=True)\n",
    "df_rank_s1 = pd.DataFrame(adata_reynolds_fb_4820STDY7388991_loom_fb.uns['rank_genes_groups']['names']['1+3'],\n",
    "adata_reynolds_fb_4820STDY7388991_loom_fb.uns['rank_genes_groups']['scores']['1+3']).sort_index(ascending=False)"
   ]
  },
  {
   "cell_type": "code",
   "execution_count": null,
   "id": "rotary-skating",
   "metadata": {},
   "outputs": [],
   "source": [
    "# S2\n",
    "sc.tl.leiden(adata_reynolds_fb_4820STDY7388999_loom, resolution=3, random_state=seed)\n",
    "sc.pl.umap(adata_reynolds_fb_4820STDY7388999_loom, color=['leiden', 'science_clustering'], cmap=magma, use_raw=False, legend_loc='on data')\n",
    "adata_reynolds_fb_4820STDY7388999_loom.obs['fb_type'] = ['2' if i in ['15', '16', '19'] else '1+3' for i in adata_reynolds_fb_4820STDY7388999_loom.obs['leiden']]\n",
    "sc.pl.umap(adata_reynolds_fb_4820STDY7388999_loom, color=['fb_type', 'science_clustering'], cmap=magma, use_raw=False, legend_loc='on data')"
   ]
  },
  {
   "cell_type": "code",
   "execution_count": null,
   "id": "bronze-encyclopedia",
   "metadata": {},
   "outputs": [],
   "source": [
    "sc.tl.rank_genes_groups(adata_reynolds_fb_4820STDY7388999_loom, groupby='fb_type', groups=['1+3'], reference='2', rankby_abs=True)\n",
    "df_rank_s2 = pd.DataFrame(adata_reynolds_fb_4820STDY7388999_loom.uns['rank_genes_groups']['names']['1+3'],\n",
    "adata_reynolds_fb_4820STDY7388999_loom.uns['rank_genes_groups']['scores']['1+3']).sort_index(ascending=False)"
   ]
  },
  {
   "cell_type": "code",
   "execution_count": null,
   "id": "functioning-interview",
   "metadata": {},
   "outputs": [],
   "source": [
    "# S3\n",
    "sc.tl.leiden(adata_reynolds_fb_4820STDY7389007_loom, resolution=2.8, random_state=seed)\n",
    "sc.pl.umap(adata_reynolds_fb_4820STDY7389007_loom, color=['leiden', 'science_clustering'], cmap=magma, use_raw=False, legend_loc='on data')\n",
    "adata_reynolds_fb_4820STDY7389007_loom.obs['fb_type'] = ['2' if i in ['0', '17', '16', '13', '4', '1', '19'] else '1+3' for i in adata_reynolds_fb_4820STDY7389007_loom.obs['leiden']]\n",
    "sc.pl.umap(adata_reynolds_fb_4820STDY7389007_loom, color=['fb_type', 'science_clustering'], cmap=magma, use_raw=False, legend_loc='on data')"
   ]
  },
  {
   "cell_type": "code",
   "execution_count": null,
   "id": "reliable-metro",
   "metadata": {},
   "outputs": [],
   "source": [
    "sc.tl.rank_genes_groups(adata_reynolds_fb_4820STDY7389007_loom, groupby='fb_type', groups=['1+3'], reference='2', rankby_abs=True)\n",
    "df_rank_s3 = pd.DataFrame(adata_reynolds_fb_4820STDY7389007_loom.uns['rank_genes_groups']['names']['1+3'],\n",
    "adata_reynolds_fb_4820STDY7389007_loom.uns['rank_genes_groups']['scores']['1+3']).sort_index(ascending=False)"
   ]
  },
  {
   "cell_type": "code",
   "execution_count": null,
   "id": "divine-details",
   "metadata": {},
   "outputs": [],
   "source": [
    "# S4\n",
    "sc.tl.leiden(adata_reynolds_fb_SKN8104899_loom, resolution=3, random_state=seed)\n",
    "sc.pl.umap(adata_reynolds_fb_SKN8104899_loom, color=['leiden', 'science_clustering'], cmap=magma, use_raw=False, legend_loc='on data')\n",
    "adata_reynolds_fb_SKN8104899_loom.obs['fb_type'] = ['2' if i in ['8', '6', '14', '27'] else '1+3' for i in adata_reynolds_fb_SKN8104899_loom.obs['leiden']]\n",
    "sc.pl.umap(adata_reynolds_fb_SKN8104899_loom, color=['fb_type', 'science_clustering'], cmap=magma, use_raw=False, legend_loc='on data')"
   ]
  },
  {
   "cell_type": "code",
   "execution_count": null,
   "id": "micro-coast",
   "metadata": {},
   "outputs": [],
   "source": [
    "sc.tl.rank_genes_groups(adata_reynolds_fb_SKN8104899_loom, groupby='fb_type', groups=['1+3'], reference='2', rankby_abs=True)\n",
    "df_rank_s4 = pd.DataFrame(adata_reynolds_fb_SKN8104899_loom.uns['rank_genes_groups']['names']['1+3'],\n",
    "adata_reynolds_fb_SKN8104899_loom.uns['rank_genes_groups']['scores']['1+3']).sort_index(ascending=False)"
   ]
  },
  {
   "cell_type": "code",
   "execution_count": null,
   "id": "danish-teacher",
   "metadata": {},
   "outputs": [],
   "source": [
    "N = 100\n",
    "\n",
    "genes_13, counts_13 = np.unique(list(df_rank_s1.iloc[:N, 0].values) + list(df_rank_s2.iloc[:N, 0].values) + list(df_rank_s3.iloc[:N, 0].values) + list(df_rank_s4.iloc[:N, 0].values), return_counts=True)\n",
    "genes_13_shared = genes_13[counts_13 >= 3]\n",
    "\n",
    "genes_2, counts_2 = np.unique(list(df_rank_s1.iloc[-N:, 0].values) + list(df_rank_s2.iloc[-N:, 0].values) + list(df_rank_s3.iloc[-N:, 0].values) + list(df_rank_s4.iloc[-N:, 0].values), return_counts=True)\n",
    "genes_2_shared = genes_2[counts_2 >= 3]"
   ]
  },
  {
   "cell_type": "code",
   "execution_count": null,
   "id": "elect-wheat",
   "metadata": {},
   "outputs": [],
   "source": [
    "genes_13_shared"
   ]
  },
  {
   "cell_type": "code",
   "execution_count": null,
   "id": "fundamental-prophet",
   "metadata": {},
   "outputs": [],
   "source": [
    "genes_2_shared"
   ]
  },
  {
   "cell_type": "markdown",
   "id": "bizarre-chicken",
   "metadata": {},
   "source": [
    "## Separe the 1+3 from 2"
   ]
  },
  {
   "cell_type": "code",
   "execution_count": null,
   "id": "irish-travel",
   "metadata": {},
   "outputs": [],
   "source": [
    "genes_13_shared = ['BNIP3L', 'BNIP3P1', 'CEMIP', 'ENO1', 'GSTO1', 'MEDAG', 'NAMPT', 'NAMPTP1', 'NRN1', ]"
   ]
  },
  {
   "cell_type": "code",
   "execution_count": null,
   "id": "duplicate-runner",
   "metadata": {},
   "outputs": [],
   "source": [
    "genes_2_shared = ['ANXA2', 'CALM1', 'FOSB', 'LMNA', 'MTRNR2L12', 'S100A10', 'S100A4', 'S100A6', 'TMSB4X', 'TPPP3']"
   ]
  },
  {
   "cell_type": "code",
   "execution_count": null,
   "id": "demographic-dominican",
   "metadata": {},
   "outputs": [],
   "source": [
    "dict_cat = {'1+3': genes_13_shared, '2': genes_2_shared}\n",
    "\n",
    "for adata in [adata_reynolds_fb_4820STDY7388991_loom_fb, adata_reynolds_fb_4820STDY7388999_loom, adata_reynolds_fb_4820STDY7389007_loom, adata_reynolds_fb_SKN8104899_loom]:\n",
    "    assign_cats(adata, dict_cat, min_score=0.3)"
   ]
  },
  {
   "cell_type": "code",
   "execution_count": null,
   "id": "charged-market",
   "metadata": {},
   "outputs": [],
   "source": [
    "sc.pl.umap(adata_reynolds_fb_4820STDY7388991_loom_fb, color=['leiden', 'science_clustering', 'fb_type', 'assigned_cats',  \n",
    "                                                             'assigned_cats_1+3', 'assigned_cats_2', 'assigned_cats_CV'], legend_loc='on data', cmap=magma)"
   ]
  },
  {
   "cell_type": "code",
   "execution_count": null,
   "id": "british-validity",
   "metadata": {},
   "outputs": [],
   "source": [
    "sc.pl.umap(adata_reynolds_fb_4820STDY7388991_loom_fb, color=['leiden'] + genes_13_shared, legend_loc='on data', cmap=magma, use_raw=False)"
   ]
  },
  {
   "cell_type": "code",
   "execution_count": null,
   "id": "wrong-sullivan",
   "metadata": {},
   "outputs": [],
   "source": [
    "sc.pl.umap(adata_reynolds_fb_4820STDY7388991_loom_fb, color=['leiden'] + genes_2_shared, legend_loc='on data', cmap=magma, use_raw=False)"
   ]
  },
  {
   "cell_type": "code",
   "execution_count": null,
   "id": "square-battery",
   "metadata": {},
   "outputs": [],
   "source": [
    "sc.pl.umap(adata_reynolds_fb_4820STDY7388999_loom, color=['leiden', 'science_clustering', 'fb_type', 'assigned_cats', \n",
    "                                                          'assigned_cats_1+3', 'assigned_cats_2', 'assigned_cats_CV'], legend_loc='on data', cmap=magma)"
   ]
  },
  {
   "cell_type": "code",
   "execution_count": null,
   "id": "numeric-bearing",
   "metadata": {},
   "outputs": [],
   "source": [
    "sc.pl.umap(adata_reynolds_fb_4820STDY7388999_loom, color=['leiden'] + genes_13_shared, legend_loc='on data', cmap=magma, use_raw=False)"
   ]
  },
  {
   "cell_type": "code",
   "execution_count": null,
   "id": "wireless-touch",
   "metadata": {},
   "outputs": [],
   "source": [
    "sc.pl.umap(adata_reynolds_fb_4820STDY7388999_loom, color=['leiden'] + genes_2_shared, legend_loc='on data', cmap=magma, use_raw=False)"
   ]
  },
  {
   "cell_type": "code",
   "execution_count": null,
   "id": "numeric-drove",
   "metadata": {},
   "outputs": [],
   "source": [
    "sc.pl.umap(adata_reynolds_fb_4820STDY7389007_loom, color=['leiden', 'science_clustering', 'fb_type', 'assigned_cats',  \n",
    "                                                          'assigned_cats_1+3', 'assigned_cats_2', 'assigned_cats_CV'], legend_loc='on data', cmap=magma)"
   ]
  },
  {
   "cell_type": "code",
   "execution_count": null,
   "id": "worldwide-locator",
   "metadata": {},
   "outputs": [],
   "source": [
    "sc.pl.umap(adata_reynolds_fb_4820STDY7389007_loom, color=['leiden'] + genes_13_shared, legend_loc='on data', cmap=magma, use_raw=False)"
   ]
  },
  {
   "cell_type": "code",
   "execution_count": null,
   "id": "palestinian-settlement",
   "metadata": {},
   "outputs": [],
   "source": [
    "sc.pl.umap(adata_reynolds_fb_4820STDY7389007_loom, color=['leiden'] + genes_2_shared, legend_loc='on data', cmap=magma, use_raw=False)"
   ]
  },
  {
   "cell_type": "code",
   "execution_count": null,
   "id": "domestic-facial",
   "metadata": {},
   "outputs": [],
   "source": [
    "sc.pl.umap(adata_reynolds_fb_SKN8104899_loom, color=['leiden', 'science_clustering', 'fb_type', 'assigned_cats',  \n",
    "                                                     'assigned_cats_1+3', 'assigned_cats_2', 'assigned_cats_CV'], legend_loc='on data', cmap=magma)"
   ]
  },
  {
   "cell_type": "code",
   "execution_count": null,
   "id": "convertible-documentation",
   "metadata": {},
   "outputs": [],
   "source": [
    "sc.pl.umap(adata_reynolds_fb_SKN8104899_loom, color=['leiden'] + genes_13_shared, legend_loc='on data', cmap=magma, use_raw=False)"
   ]
  },
  {
   "cell_type": "code",
   "execution_count": null,
   "id": "progressive-nicaragua",
   "metadata": {},
   "outputs": [],
   "source": [
    "sc.pl.umap(adata_reynolds_fb_SKN8104899_loom, color=['leiden'] + genes_2_shared, legend_loc='on data', cmap=magma, use_raw=False)"
   ]
  },
  {
   "cell_type": "markdown",
   "id": "committed-separate",
   "metadata": {},
   "source": [
    "## Create the adatas"
   ]
  },
  {
   "cell_type": "code",
   "execution_count": null,
   "id": "resident-footwear",
   "metadata": {},
   "outputs": [],
   "source": [
    "adata_s1_13 = adata_reynolds_fb_4820STDY7388991_loom_fb[adata_reynolds_fb_4820STDY7388991_loom_fb.obs['assigned_cats'] == '1+3'].copy()\n",
    "adata_s1_2 = adata_reynolds_fb_4820STDY7388991_loom_fb[adata_reynolds_fb_4820STDY7388991_loom_fb.obs['assigned_cats'] == '2'].copy()\n",
    "\n",
    "adata_s2_13 = adata_reynolds_fb_4820STDY7388999_loom[adata_reynolds_fb_4820STDY7388999_loom.obs['assigned_cats'] == '1+3'].copy()\n",
    "adata_s2_2 = adata_reynolds_fb_4820STDY7388999_loom[adata_reynolds_fb_4820STDY7388999_loom.obs['assigned_cats'] == '2'].copy()\n",
    "\n",
    "adata_s3_13 = adata_reynolds_fb_4820STDY7389007_loom[adata_reynolds_fb_4820STDY7389007_loom.obs['assigned_cats'] == '1+3'].copy()\n",
    "adata_s3_2 = adata_reynolds_fb_4820STDY7389007_loom[adata_reynolds_fb_4820STDY7389007_loom.obs['assigned_cats'] == '2'].copy()\n",
    "\n",
    "adata_s4_13 = adata_reynolds_fb_SKN8104899_loom[adata_reynolds_fb_SKN8104899_loom.obs['assigned_cats'] == '1+3'].copy()\n",
    "adata_s4_2 = adata_reynolds_fb_SKN8104899_loom[adata_reynolds_fb_SKN8104899_loom.obs['assigned_cats'] == '2'].copy()"
   ]
  },
  {
   "cell_type": "code",
   "execution_count": null,
   "id": "reduced-doctor",
   "metadata": {},
   "outputs": [],
   "source": [
    "for adata_s_name in ['adata_s1_13', 'adata_s1_2', 'adata_s2_13', 'adata_s2_2', 'adata_s3_13', 'adata_s3_2', 'adata_s4_13', 'adata_s4_2']:  # We do this because with the adata name by itselft it won't work!!!\n",
    "    sc.pp.filter_genes(eval(adata_s_name), min_counts=1)\n",
    "    sc.pp.pca(eval(adata_s_name), random_state=seed, n_comps=30)\n",
    "    tk.tl.triku(eval(adata_s_name), n_procs=1, random_state=seed)\n",
    "    sc.pp.neighbors(eval(adata_s_name), metric='cosine')\n",
    "    sc.tl.umap(eval(adata_s_name), min_dist=0.05, random_state=seed)"
   ]
  },
  {
   "cell_type": "code",
   "execution_count": null,
   "id": "reduced-property",
   "metadata": {},
   "outputs": [],
   "source": [
    "fig, axs = plt.subplots(1, 2, figsize=(6, 3))\n",
    "sc.pl.umap(adata_s1_13, color=['science_clustering'], legend_loc='on data', cmap=magma, ax=axs[0], show=False)\n",
    "sc.pl.umap(adata_s1_2, color=['science_clustering'], legend_loc='on data', cmap=magma, ax=axs[1], show=False)"
   ]
  },
  {
   "cell_type": "code",
   "execution_count": null,
   "id": "adolescent-connectivity",
   "metadata": {},
   "outputs": [],
   "source": [
    "fig, axs = plt.subplots(1, 2, figsize=(6, 3))\n",
    "sc.pl.umap(adata_s2_13, color=['science_clustering'], legend_loc='on data', cmap=magma, ax=axs[0], show=False)\n",
    "sc.pl.umap(adata_s2_2, color=['science_clustering'], legend_loc='on data', cmap=magma, ax=axs[1], show=False)"
   ]
  },
  {
   "cell_type": "code",
   "execution_count": null,
   "id": "infrared-indicator",
   "metadata": {},
   "outputs": [],
   "source": [
    "fig, axs = plt.subplots(1, 2, figsize=(6, 3))\n",
    "sc.pl.umap(adata_s3_13, color=['science_clustering'], legend_loc='on data', cmap=magma, ax=axs[0], show=False)\n",
    "sc.pl.umap(adata_s3_2, color=['science_clustering'], legend_loc='on data', cmap=magma, ax=axs[1], show=False)"
   ]
  },
  {
   "cell_type": "code",
   "execution_count": null,
   "id": "elect-washington",
   "metadata": {},
   "outputs": [],
   "source": [
    "fig, axs = plt.subplots(1, 2, figsize=(6, 3))\n",
    "sc.pl.umap(adata_s4_13, color=['science_clustering'], legend_loc='on data', cmap=magma, ax=axs[0], show=False)\n",
    "sc.pl.umap(adata_s4_2, color=['science_clustering'], legend_loc='on data', cmap=magma, ax=axs[1], show=False)"
   ]
  },
  {
   "cell_type": "markdown",
   "id": "smaller-maintenance",
   "metadata": {},
   "source": [
    "## Assigning JID categories\n",
    "Based on this we do not see any discordancies in the dataset. We are going to apply the category assignation to assign the JID clusters to the dataset."
   ]
  },
  {
   "cell_type": "code",
   "execution_count": null,
   "id": "operating-blocking",
   "metadata": {},
   "outputs": [],
   "source": [
    "## MAP JID populations\n",
    "\n",
    "dict_cat = {'A1': ['PI16', 'QPCT', 'SLPI', 'CCN5', 'CPE', 'CTHRC1', 'MFAP5', 'PCOLCE2', 'SCARA5', 'TSPAN8'], \n",
    "            'A2': ['APCDD1', 'COL18A1', 'COMP', 'NKD2', 'F13A1', 'HSPB3', 'LEPR', 'TGFBI'], \n",
    "            'B1': ['CXCL2', 'MYC', 'C7', 'SPSB1', 'ITM2A'], #['CCL2', 'ITM2A', 'SPSB1', 'SOD2', 'APOD', 'C3', 'C7', 'CXCL2', 'CXCL12', 'DNAJA1', 'GGT5', 'IGFBP7', 'MYC'], \n",
    "            'B2': ['SOCS3', 'CCL19', 'CD74', 'RARRES2', 'CCDC146', 'IGFBP3', 'TNFSF13B'], \n",
    "            'C': ['CRABP1', 'PLXDC1', 'RSPO4', 'ASPN', 'F2R', 'POSTN', 'TNN']}\n",
    "#             'C2': ['COCH', 'CRABP1', 'ARHGAP15', 'PLXDC1', 'RSPO4'], \n",
    "#             'C3': ['ASPN', 'F2R', 'POSTN', 'TNN'],}\n",
    "\n",
    "# dict_cat = {key: val[:4] for key, val in dict_cat.items()}"
   ]
  },
  {
   "cell_type": "markdown",
   "id": "senior-general",
   "metadata": {},
   "source": [
    "* A1: TSPAN8, SCARA5 less expressed in 1+3 datasets\n",
    "* A2: F13A1, HSPB3 less expressed in 1+3 datasets. APCDD1 is not a good marker for all samples\n",
    "* B1: removed many genes because expression patter is not consistent\n",
    "* B2: CCDC146 + TNFSF13B not expressed in 1+3 datasets\n",
    "* C1: Is not appearing\n",
    "* C2: Is not appearing except in 2 datasets of some patients (s2 and S4)\n",
    "* C3: Is not completely expressed, and sometimes POSTN does not collocalize with F2R\n",
    "* C4: Is not present in the data"
   ]
  },
  {
   "cell_type": "markdown",
   "id": "determined-drain",
   "metadata": {},
   "source": [
    "### S1 1+3"
   ]
  },
  {
   "cell_type": "code",
   "execution_count": null,
   "id": "comprehensive-router",
   "metadata": {},
   "outputs": [],
   "source": [
    "adata_s = adata_s1_13"
   ]
  },
  {
   "cell_type": "code",
   "execution_count": null,
   "id": "elder-personality",
   "metadata": {},
   "outputs": [],
   "source": [
    "for key, val in dict_cat.items():\n",
    "        print(key, val)\n",
    "        sc.pl.umap(adata_s, color=['science_clustering'] + [i for i in val[:4] if i in eval(adata_s_name).var_names], legend_loc='on data', cmap=magma, use_raw=False, ncols=5)"
   ]
  },
  {
   "cell_type": "code",
   "execution_count": null,
   "id": "professional-chinese",
   "metadata": {},
   "outputs": [],
   "source": [
    "sc.tl.leiden(adata_s, resolution=1.4, random_state=seed)\n",
    "assign_cats(adata_s, dict_cats=dict_cat, column_groupby='leiden', intermediate_states=True, diff=0.05, min_score=0.6)\n",
    "sc.pl.umap(adata_s, color=['leiden', 'assigned_cats', 'assigned_cats_max',\n",
    "                           'assigned_cats_A1', 'assigned_cats_A2', 'assigned_cats_B1', 'assigned_cats_B2', 'assigned_cats_C'], legend_loc='on data', vmax=1, vmin=0, cmap=magma, use_raw=False)"
   ]
  },
  {
   "cell_type": "markdown",
   "id": "strange-cooperative",
   "metadata": {},
   "source": [
    "### S1 2"
   ]
  },
  {
   "cell_type": "code",
   "execution_count": null,
   "id": "close-church",
   "metadata": {},
   "outputs": [],
   "source": [
    "adata_s = adata_s1_2"
   ]
  },
  {
   "cell_type": "code",
   "execution_count": null,
   "id": "determined-liverpool",
   "metadata": {},
   "outputs": [],
   "source": [
    "for key, val in dict_cat.items():\n",
    "        print(key, val)\n",
    "        sc.pl.umap(adata_s, color=['science_clustering'] + [i for i in val if i in eval(adata_s_name).var_names], legend_loc='on data', cmap=magma, use_raw=False, ncols=5)"
   ]
  },
  {
   "cell_type": "code",
   "execution_count": null,
   "id": "broad-speech",
   "metadata": {},
   "outputs": [],
   "source": [
    "sc.tl.leiden(adata_s, resolution=1.5, random_state=seed)\n",
    "assign_cats(adata_s, dict_cats=dict_cat, column_groupby='leiden', intermediate_states=True, diff=0.07)\n",
    "sc.pl.umap(adata_s, color=['leiden', 'assigned_cats', \n",
    "                           'assigned_cats_A1', 'assigned_cats_A2', 'assigned_cats_B1', 'assigned_cats_B2', 'assigned_cats_C'], legend_loc='on data', vmax=1, cmap=magma, use_raw=False)"
   ]
  },
  {
   "cell_type": "markdown",
   "id": "medical-tiffany",
   "metadata": {},
   "source": [
    "### S2 1+3"
   ]
  },
  {
   "cell_type": "code",
   "execution_count": null,
   "id": "eligible-skill",
   "metadata": {},
   "outputs": [],
   "source": [
    "adata_s = adata_s2_13"
   ]
  },
  {
   "cell_type": "code",
   "execution_count": null,
   "id": "textile-evening",
   "metadata": {},
   "outputs": [],
   "source": [
    "for key, val in dict_cat.items():\n",
    "        print(key, val)\n",
    "        sc.pl.umap(adata_s, color=['science_clustering'] + [i for i in val if i in eval(adata_s_name).var_names], legend_loc='on data', cmap=magma, use_raw=False, ncols=5)"
   ]
  },
  {
   "cell_type": "code",
   "execution_count": null,
   "id": "bound-speech",
   "metadata": {},
   "outputs": [],
   "source": [
    "sc.tl.leiden(adata_s, resolution=1.5, random_state=seed)\n",
    "assign_cats(adata_s, dict_cats=dict_cat, column_groupby='leiden', intermediate_states=True, diff=0.07)\n",
    "sc.pl.umap(adata_s, color=['leiden', 'assigned_cats', \n",
    "                           'assigned_cats_A1', 'assigned_cats_A2', 'assigned_cats_B1', 'assigned_cats_B2', 'assigned_cats_C'], legend_loc='on data', vmax=1, cmap=magma, use_raw=False)"
   ]
  },
  {
   "cell_type": "markdown",
   "id": "fabulous-instrumentation",
   "metadata": {},
   "source": [
    "### S2 2"
   ]
  },
  {
   "cell_type": "code",
   "execution_count": null,
   "id": "induced-place",
   "metadata": {},
   "outputs": [],
   "source": [
    "adata_s = adata_s2_2"
   ]
  },
  {
   "cell_type": "code",
   "execution_count": null,
   "id": "higher-singing",
   "metadata": {},
   "outputs": [],
   "source": [
    "for key, val in dict_cat.items():\n",
    "        print(key, val)\n",
    "        sc.pl.umap(adata_s, color=['science_clustering'] + [i for i in val if i in eval(adata_s_name).var_names], legend_loc='on data', cmap=magma, use_raw=False, ncols=5)"
   ]
  },
  {
   "cell_type": "code",
   "execution_count": null,
   "id": "conventional-memphis",
   "metadata": {},
   "outputs": [],
   "source": [
    "sc.tl.leiden(adata_s, resolution=1, random_state=seed)\n",
    "assign_cats(adata_s, dict_cats=dict_cat, column_groupby='leiden', intermediate_states=True, diff=0.07)\n",
    "sc.pl.umap(adata_s, color=['leiden', 'assigned_cats', \n",
    "                           'assigned_cats_A1', 'assigned_cats_A2', 'assigned_cats_B1', 'assigned_cats_B2', 'assigned_cats_C'], legend_loc='on data', vmax=1, cmap=magma, use_raw=False)"
   ]
  },
  {
   "cell_type": "markdown",
   "id": "enhanced-insertion",
   "metadata": {},
   "source": [
    "### S3 1+3"
   ]
  },
  {
   "cell_type": "code",
   "execution_count": null,
   "id": "acquired-token",
   "metadata": {},
   "outputs": [],
   "source": [
    "adata_s = adata_s3_13"
   ]
  },
  {
   "cell_type": "code",
   "execution_count": null,
   "id": "cosmetic-fifty",
   "metadata": {},
   "outputs": [],
   "source": [
    "for key, val in dict_cat.items():\n",
    "        print(key, val)\n",
    "        sc.pl.umap(adata_s, color=['science_clustering'] + [i for i in val if i in adata_s.var_names], legend_loc='on data', cmap=magma, use_raw=False, ncols=5)"
   ]
  },
  {
   "cell_type": "code",
   "execution_count": null,
   "id": "broadband-lawyer",
   "metadata": {},
   "outputs": [],
   "source": [
    "sc.tl.leiden(adata_s, resolution=2, random_state=seed)\n",
    "assign_cats(adata_s, dict_cats=dict_cat, column_groupby='leiden', intermediate_states=True, diff=0.05)\n",
    "sc.pl.umap(adata_s, color=['leiden', 'assigned_cats', \n",
    "                           'assigned_cats_A1', 'assigned_cats_A2', 'assigned_cats_B1', 'assigned_cats_B2', 'assigned_cats_C'], legend_loc='on data', vmax=1, cmap=magma, use_raw=False)"
   ]
  },
  {
   "cell_type": "markdown",
   "id": "mature-production",
   "metadata": {},
   "source": [
    "### S3 2"
   ]
  },
  {
   "cell_type": "code",
   "execution_count": null,
   "id": "acoustic-professional",
   "metadata": {},
   "outputs": [],
   "source": [
    "adata_s = adata_s3_2"
   ]
  },
  {
   "cell_type": "code",
   "execution_count": null,
   "id": "distant-religion",
   "metadata": {},
   "outputs": [],
   "source": [
    "for key, val in dict_cat.items():\n",
    "        print(key, val)\n",
    "        sc.pl.umap(adata_s, color=['science_clustering'] + [i for i in val if i in adata_s.var_names], legend_loc='on data', cmap=magma, use_raw=False)"
   ]
  },
  {
   "cell_type": "code",
   "execution_count": null,
   "id": "bacterial-breed",
   "metadata": {},
   "outputs": [],
   "source": [
    "sc.tl.leiden(adata_s, resolution=1.4, random_state=seed)\n",
    "assign_cats(adata_s, dict_cats=dict_cat, column_groupby='leiden', intermediate_states=True, diff=0.07)\n",
    "sc.pl.umap(adata_s, color=['leiden', 'assigned_cats', \n",
    "                           'assigned_cats_A1', 'assigned_cats_A2', 'assigned_cats_B1', 'assigned_cats_B2', 'assigned_cats_C'], legend_loc='on data', vmax=1, cmap=magma, use_raw=False)"
   ]
  },
  {
   "cell_type": "markdown",
   "id": "finished-soundtrack",
   "metadata": {},
   "source": [
    "### S4 1+3"
   ]
  },
  {
   "cell_type": "code",
   "execution_count": null,
   "id": "daily-medline",
   "metadata": {},
   "outputs": [],
   "source": [
    "adata_s = adata_s4_13"
   ]
  },
  {
   "cell_type": "code",
   "execution_count": null,
   "id": "underlying-bidder",
   "metadata": {},
   "outputs": [],
   "source": [
    "for key, val in dict_cat.items():\n",
    "        print(key, val)\n",
    "        sc.pl.umap(adata_s, color=['science_clustering'] + [i for i in val if i in adata_s.var_names], legend_loc='on data', cmap=magma, use_raw=False)"
   ]
  },
  {
   "cell_type": "code",
   "execution_count": null,
   "id": "reserved-conversion",
   "metadata": {},
   "outputs": [],
   "source": [
    "sc.tl.leiden(adata_s, resolution=2, random_state=seed)\n",
    "assign_cats(adata_s, dict_cats=dict_cat, column_groupby='leiden', intermediate_states=True, diff=0.07)\n",
    "sc.pl.umap(adata_s, color=['leiden', 'assigned_cats', \n",
    "                           'assigned_cats_A1', 'assigned_cats_A2', 'assigned_cats_B1', 'assigned_cats_B2', 'assigned_cats_C'], legend_loc='on data', vmax=1, cmap=magma, use_raw=False)"
   ]
  },
  {
   "cell_type": "markdown",
   "id": "twenty-glass",
   "metadata": {},
   "source": [
    "### S4 2"
   ]
  },
  {
   "cell_type": "code",
   "execution_count": null,
   "id": "revolutionary-bibliography",
   "metadata": {},
   "outputs": [],
   "source": [
    "adata_s = adata_s4_2"
   ]
  },
  {
   "cell_type": "code",
   "execution_count": null,
   "id": "coral-astronomy",
   "metadata": {},
   "outputs": [],
   "source": [
    "for key, val in dict_cat.items():\n",
    "        print(key, val)\n",
    "        sc.pl.umap(adata_s, color=['science_clustering'] + [i for i in val if i in adata_s.var_names], legend_loc='on data', cmap=magma, use_raw=False)"
   ]
  },
  {
   "cell_type": "code",
   "execution_count": null,
   "id": "fitted-driving",
   "metadata": {},
   "outputs": [],
   "source": [
    "sc.tl.leiden(adata_s, resolution=2, random_state=seed)\n",
    "assign_cats(adata_s, dict_cats=dict_cat, column_groupby='leiden', intermediate_states=True, diff=0.07)\n",
    "sc.pl.umap(adata_s, color=['leiden', 'assigned_cats', \n",
    "                           'assigned_cats_A1', 'assigned_cats_A2', 'assigned_cats_B1', 'assigned_cats_B2', 'assigned_cats_C'], legend_loc='on data', vmax=1, cmap=magma, use_raw=False)"
   ]
  },
  {
   "cell_type": "markdown",
   "id": "scenic-board",
   "metadata": {},
   "source": [
    "## Joining 1+3 and 2 adatas\n",
    "Now we are going to join all adatas into two: one for each category. We should find that the predicted categories should match between them across adatas.\n",
    "\n",
    "**OUTER JOIN IS APPLIED TO KEEPS GENES NOT EXPRESSED IN ALL ADATAS**"
   ]
  },
  {
   "cell_type": "markdown",
   "id": "effective-negative",
   "metadata": {},
   "source": [
    "### No batch effect correction"
   ]
  },
  {
   "cell_type": "code",
   "execution_count": null,
   "id": "shaped-raising",
   "metadata": {},
   "outputs": [],
   "source": [
    "adata_all_13 = sc.AnnData.concatenate(adata_s1_13, adata_s2_13, adata_s3_13, adata_s4_13, batch_categories=['s1', 's2', 's3', 's4'], batch_key='s_dataset', join='outer')\n",
    "adata_all_2 = sc.AnnData.concatenate(adata_s1_2, adata_s2_2, adata_s3_2, adata_s4_2, batch_categories=['s1', 's2', 's3', 's4'], batch_key='s_dataset', join='outer')"
   ]
  },
  {
   "cell_type": "code",
   "execution_count": null,
   "id": "emotional-precipitation",
   "metadata": {},
   "outputs": [],
   "source": [
    "for adata_name in ['adata_all_13', 'adata_all_2']:\n",
    "    sc.pp.filter_genes(eval(adata_name), min_counts=1)\n",
    "    sc.pp.pca(eval(adata_name), random_state=seed, n_comps=30)\n",
    "    tk.tl.triku(eval(adata_name), n_procs=1, random_state=seed, use_adata_knn=True)\n",
    "    sc.pp.neighbors(eval(adata_name), metric='cosine', random_state=seed)\n",
    "    sc.tl.umap(eval(adata_name), min_dist=0.3, random_state=seed)"
   ]
  },
  {
   "cell_type": "code",
   "execution_count": null,
   "id": "sexual-maximum",
   "metadata": {},
   "outputs": [],
   "source": [
    "for adata_name in ['adata_all_13', 'adata_all_2']:\n",
    "    sc.pl.umap(eval(adata_name),  color=['s_dataset', 'assigned_cats'])"
   ]
  },
  {
   "cell_type": "markdown",
   "id": "practical-maple",
   "metadata": {},
   "source": [
    "### bbknn"
   ]
  },
  {
   "cell_type": "markdown",
   "id": "disabled-bottom",
   "metadata": {},
   "source": [
    "#### kNN within batch: 2"
   ]
  },
  {
   "cell_type": "code",
   "execution_count": null,
   "id": "touched-compromise",
   "metadata": {},
   "outputs": [],
   "source": [
    "adata_all_13 = sc.AnnData.concatenate(adata_s1_13, adata_s2_13, adata_s3_13, adata_s4_13, batch_categories=['s1', 's2', 's3', 's4'], batch_key='s_dataset', join='outer')\n",
    "adata_all_2 = sc.AnnData.concatenate(adata_s1_2, adata_s2_2, adata_s3_2, adata_s4_2, batch_categories=['s1', 's2', 's3', 's4'], batch_key='s_dataset', join='outer')"
   ]
  },
  {
   "cell_type": "code",
   "execution_count": null,
   "id": "confused-exhaust",
   "metadata": {},
   "outputs": [],
   "source": [
    "for adata_name in ['adata_all_13', 'adata_all_2']:\n",
    "    sc.pp.filter_genes(eval(adata_name), min_counts=30)\n",
    "    sc.pp.pca(eval(adata_name), random_state=seed, n_comps=30)\n",
    "    sce.pp.bbknn(eval(adata_name), metric='angular', batch_key='s_dataset', neighbors_within_batch=2)\n",
    "    tk.tl.triku(eval(adata_name), n_procs=1, random_state=seed, use_adata_knn=True)\n",
    "    sc.tl.umap(eval(adata_name), min_dist=0.05, random_state=seed)"
   ]
  },
  {
   "cell_type": "code",
   "execution_count": null,
   "id": "blind-china",
   "metadata": {},
   "outputs": [],
   "source": [
    "for adata_name in ['adata_all_13', 'adata_all_2']:\n",
    "    sc.tl.leiden(eval(adata_name), resolution=1.5)\n",
    "    sc.pl.umap(eval(adata_name),  color=['s_dataset', 'leiden', 'assigned_cats'])"
   ]
  },
  {
   "cell_type": "markdown",
   "id": "intelligent-porcelain",
   "metadata": {},
   "source": [
    "#### kNN within batch: 3"
   ]
  },
  {
   "cell_type": "code",
   "execution_count": null,
   "id": "dramatic-mapping",
   "metadata": {},
   "outputs": [],
   "source": [
    "adata_all_13 = sc.AnnData.concatenate(adata_s1_13, adata_s2_13, adata_s3_13, adata_s4_13, batch_categories=['s1', 's2', 's3', 's4'], batch_key='s_dataset', join='outer')\n",
    "adata_all_2 = sc.AnnData.concatenate(adata_s1_2, adata_s2_2, adata_s3_2, adata_s4_2, batch_categories=['s1', 's2', 's3', 's4'], batch_key='s_dataset', join='outer')"
   ]
  },
  {
   "cell_type": "code",
   "execution_count": null,
   "id": "tight-joint",
   "metadata": {},
   "outputs": [],
   "source": [
    "for adata_name in ['adata_all_13', 'adata_all_2']:\n",
    "    sc.pp.filter_genes(eval(adata_name), min_counts=30)\n",
    "    sc.pp.pca(eval(adata_name), random_state=seed, n_comps=30)\n",
    "    sce.pp.bbknn(eval(adata_name), metric='angular', batch_key='s_dataset', neighbors_within_batch=3)\n",
    "    tk.tl.triku(eval(adata_name), n_procs=1, random_state=seed, use_adata_knn=True)\n",
    "    sc.tl.umap(eval(adata_name), min_dist=0.05, random_state=seed)"
   ]
  },
  {
   "cell_type": "code",
   "execution_count": null,
   "id": "bearing-spider",
   "metadata": {},
   "outputs": [],
   "source": [
    "for adata_name in ['adata_all_13', 'adata_all_2']:\n",
    "    sc.tl.leiden(eval(adata_name), resolution=1.5)\n",
    "    sc.pl.umap(eval(adata_name),  color=['s_dataset', 'leiden', 'assigned_cats'])"
   ]
  },
  {
   "cell_type": "markdown",
   "id": "economic-alexander",
   "metadata": {},
   "source": [
    "#### kNN within batch: 6"
   ]
  },
  {
   "cell_type": "code",
   "execution_count": null,
   "id": "accepted-stanley",
   "metadata": {},
   "outputs": [],
   "source": [
    "adata_all_13 = sc.AnnData.concatenate(adata_s1_13, adata_s2_13, adata_s3_13, adata_s4_13, batch_categories=['s1', 's2', 's3', 's4'], batch_key='s_dataset', join='outer')\n",
    "adata_all_2 = sc.AnnData.concatenate(adata_s1_2, adata_s2_2, adata_s3_2, adata_s4_2, batch_categories=['s1', 's2', 's3', 's4'], batch_key='s_dataset', join='outer')"
   ]
  },
  {
   "cell_type": "code",
   "execution_count": null,
   "id": "dramatic-delay",
   "metadata": {},
   "outputs": [],
   "source": [
    "for adata_name in ['adata_all_13', 'adata_all_2']:\n",
    "    sc.pp.filter_genes(eval(adata_name), min_counts=30)\n",
    "    sc.pp.pca(eval(adata_name), random_state=seed, n_comps=30)\n",
    "    sce.pp.bbknn(eval(adata_name), metric='angular', batch_key='s_dataset', neighbors_within_batch=6)\n",
    "    tk.tl.triku(eval(adata_name), n_procs=1, random_state=seed, use_adata_knn=True)\n",
    "    sc.tl.umap(eval(adata_name), min_dist=0.05, random_state=seed)"
   ]
  },
  {
   "cell_type": "code",
   "execution_count": null,
   "id": "miniature-innocent",
   "metadata": {},
   "outputs": [],
   "source": [
    "for adata_name in ['adata_all_13', 'adata_all_2']:\n",
    "    sc.pl.umap(eval(adata_name),  color=['s_dataset', 'assigned_cats'])"
   ]
  },
  {
   "cell_type": "markdown",
   "id": "curious-assembly",
   "metadata": {},
   "source": [
    "#### kNN within batch: 8"
   ]
  },
  {
   "cell_type": "code",
   "execution_count": null,
   "id": "significant-raleigh",
   "metadata": {},
   "outputs": [],
   "source": [
    "adata_all_13 = sc.AnnData.concatenate(adata_s1_13, adata_s2_13, adata_s3_13, adata_s4_13, batch_categories=['s1', 's2', 's3', 's4'], batch_key='s_dataset', join='outer')\n",
    "adata_all_2 = sc.AnnData.concatenate(adata_s1_2, adata_s2_2, adata_s3_2, adata_s4_2, batch_categories=['s1', 's2', 's3', 's4'], batch_key='s_dataset', join='outer')"
   ]
  },
  {
   "cell_type": "code",
   "execution_count": null,
   "id": "drawn-disposal",
   "metadata": {},
   "outputs": [],
   "source": [
    "for adata_name in ['adata_all_13', 'adata_all_2']:\n",
    "    sc.pp.filter_genes(eval(adata_name), min_counts=30)\n",
    "    sc.pp.pca(eval(adata_name), random_state=seed, n_comps=30)\n",
    "    sce.pp.bbknn(eval(adata_name), metric='angular', batch_key='s_dataset', neighbors_within_batch=8)\n",
    "    tk.tl.triku(eval(adata_name), n_procs=1, random_state=seed, use_adata_knn=True)\n",
    "    sc.tl.umap(eval(adata_name), min_dist=0.05, random_state=seed)"
   ]
  },
  {
   "cell_type": "code",
   "execution_count": null,
   "id": "cheap-victorian",
   "metadata": {},
   "outputs": [],
   "source": [
    "for adata_name in ['adata_all_13', 'adata_all_2']:\n",
    "    sc.pl.umap(eval(adata_name),  color=['s_dataset', 'assigned_cats'])"
   ]
  },
  {
   "cell_type": "markdown",
   "id": "alleged-kentucky",
   "metadata": {},
   "source": [
    "### harmonypy"
   ]
  },
  {
   "cell_type": "markdown",
   "id": "indie-copying",
   "metadata": {},
   "source": [
    "#### sigma = 0.1"
   ]
  },
  {
   "cell_type": "code",
   "execution_count": null,
   "id": "fossil-protocol",
   "metadata": {},
   "outputs": [],
   "source": [
    "adata_all_13 = sc.AnnData.concatenate(adata_s1_13, adata_s2_13, adata_s3_13, adata_s4_13, batch_categories=['s1', 's2', 's3', 's4'], batch_key='s_dataset', join='outer')\n",
    "adata_all_2 = sc.AnnData.concatenate(adata_s1_2, adata_s2_2, adata_s3_2, adata_s4_2, batch_categories=['s1', 's2', 's3', 's4'], batch_key='s_dataset', join='outer')"
   ]
  },
  {
   "cell_type": "code",
   "execution_count": null,
   "id": "alert-bangkok",
   "metadata": {},
   "outputs": [],
   "source": [
    "for adata_name in ['adata_all_13', 'adata_all_2']:\n",
    "    sc.pp.filter_genes(eval(adata_name), min_counts=30)\n",
    "    sc.pp.pca(eval(adata_name), random_state=seed, n_comps=30)\n",
    "    sce.pp.harmony_integrate(eval(adata_name), key='s_dataset', basis='X_pca', \n",
    "                             adjusted_basis='X_pca_harmony', random_state=seed, \n",
    "                             epsilon_cluster=1e-06, epsilon_harmony=0.00001, \n",
    "                             max_iter_harmony=25, sigma=0.1)\n",
    "    sc.pp.neighbors(eval(adata_name), metric='cosine', use_rep='X_pca_harmony', random_state=seed)\n",
    "    tk.tl.triku(eval(adata_name), n_procs=1, random_state=seed, use_adata_knn=True)\n",
    "    sc.tl.umap(eval(adata_name), min_dist=0.3, random_state=seed)"
   ]
  },
  {
   "cell_type": "code",
   "execution_count": null,
   "id": "random-nudist",
   "metadata": {},
   "outputs": [],
   "source": [
    "for adata_name in ['adata_all_13', 'adata_all_2']:\n",
    "    sc.tl.leiden(eval(adata_name), resolution=0.2)\n",
    "    sc.tl.rank_genes_groups(eval(adata_name), method='wilcoxon', groupby='leiden')\n",
    "    sc.pl.umap(eval(adata_name),  color=['s_dataset', 'leiden', 'assigned_cats',])"
   ]
  },
  {
   "cell_type": "code",
   "execution_count": null,
   "id": "executive-cornwall",
   "metadata": {},
   "outputs": [],
   "source": [
    "sc.pl.umap(adata_all_13,  color=['s_dataset', 'leiden', 'assigned_cats',])"
   ]
  },
  {
   "cell_type": "markdown",
   "id": "scheduled-present",
   "metadata": {},
   "source": [
    "#### sigma = 0.25"
   ]
  },
  {
   "cell_type": "code",
   "execution_count": null,
   "id": "statutory-constant",
   "metadata": {},
   "outputs": [],
   "source": [
    "adata_all_13 = sc.AnnData.concatenate(adata_s1_13, adata_s2_13, adata_s3_13, adata_s4_13, batch_categories=['s1', 's2', 's3', 's4'], batch_key='s_dataset', join='outer')\n",
    "adata_all_2 = sc.AnnData.concatenate(adata_s1_2, adata_s2_2, adata_s3_2, adata_s4_2, batch_categories=['s1', 's2', 's3', 's4'], batch_key='s_dataset', join='outer')"
   ]
  },
  {
   "cell_type": "code",
   "execution_count": null,
   "id": "saving-louis",
   "metadata": {},
   "outputs": [],
   "source": [
    "for adata_name in ['adata_all_13', 'adata_all_2']:\n",
    "    sc.pp.filter_genes(eval(adata_name), min_counts=30)\n",
    "    sc.pp.pca(eval(adata_name), random_state=seed, n_comps=30)\n",
    "    sce.pp.harmony_integrate(eval(adata_name), key='s_dataset', basis='X_pca', \n",
    "                             adjusted_basis='X_pca_harmony', random_state=seed, \n",
    "                             epsilon_cluster=1e-06, epsilon_harmony=0.00001, \n",
    "                             max_iter_harmony=25, sigma=0.25)\n",
    "    sc.pp.neighbors(eval(adata_name), metric='cosine', use_rep='X_pca_harmony', random_state=seed)\n",
    "    tk.tl.triku(eval(adata_name), n_procs=1, random_state=seed, use_adata_knn=True)\n",
    "    sc.tl.umap(eval(adata_name), min_dist=0.3, random_state=seed)"
   ]
  },
  {
   "cell_type": "code",
   "execution_count": null,
   "id": "physical-butterfly",
   "metadata": {},
   "outputs": [],
   "source": [
    "for adata_name in ['adata_all_13', 'adata_all_2']:\n",
    "    sc.tl.leiden(eval(adata_name), resolution=0.6)\n",
    "    sc.tl.rank_genes_groups(eval(adata_name), method='wilcoxon', groupby='leiden')\n",
    "    sc.pl.umap(eval(adata_name),  color=['s_dataset', 'leiden', 'assigned_cats',])"
   ]
  },
  {
   "cell_type": "code",
   "execution_count": null,
   "id": "governing-termination",
   "metadata": {},
   "outputs": [],
   "source": [
    "sc.pl.umap(adata_all_13,  color=['s_dataset', 'leiden', 'assigned_cats',])\n",
    "sc.pl.rank_genes_groups_tracksplot(adata_all_13, dendrogram=False, use_raw=False, n_genes=20)"
   ]
  },
  {
   "cell_type": "code",
   "execution_count": null,
   "id": "polar-beads",
   "metadata": {},
   "outputs": [],
   "source": [
    "sc.pl.umap(adata_all_2,  color=['s_dataset', 'leiden', 'assigned_cats',])\n",
    "sc.pl.rank_genes_groups_tracksplot(adata_all_2, dendrogram=False, use_raw=False, n_genes=20)"
   ]
  },
  {
   "cell_type": "markdown",
   "id": "instant-peoples",
   "metadata": {},
   "source": [
    "#### sigma = 0.5"
   ]
  },
  {
   "cell_type": "code",
   "execution_count": null,
   "id": "offshore-picking",
   "metadata": {},
   "outputs": [],
   "source": [
    "adata_all_13 = sc.AnnData.concatenate(adata_s1_13, adata_s2_13, adata_s3_13, adata_s4_13, batch_categories=['s1', 's2', 's3', 's4'], batch_key='s_dataset', join='outer')\n",
    "adata_all_2 = sc.AnnData.concatenate(adata_s1_2, adata_s2_2, adata_s3_2, adata_s4_2, batch_categories=['s1', 's2', 's3', 's4'], batch_key='s_dataset', join='outer')"
   ]
  },
  {
   "cell_type": "code",
   "execution_count": null,
   "id": "bottom-blues",
   "metadata": {},
   "outputs": [],
   "source": [
    "for adata_name in ['adata_all_13', 'adata_all_2']:\n",
    "    sc.pp.filter_genes(eval(adata_name), min_counts=30)\n",
    "    sc.pp.pca(eval(adata_name), random_state=seed, n_comps=30)\n",
    "    sce.pp.harmony_integrate(eval(adata_name), key='s_dataset', basis='X_pca', \n",
    "                             adjusted_basis='X_pca_harmony', random_state=seed, \n",
    "                             epsilon_cluster=1e-06, epsilon_harmony=0.00001, \n",
    "                             max_iter_harmony=25, sigma=0.5)\n",
    "    sc.pp.neighbors(eval(adata_name), metric='cosine', use_rep='X_pca_harmony', random_state=seed)\n",
    "    tk.tl.triku(eval(adata_name), n_procs=1, random_state=seed, use_adata_knn=True)\n",
    "    sc.tl.umap(eval(adata_name), min_dist=0.3, random_state=seed)"
   ]
  },
  {
   "cell_type": "code",
   "execution_count": null,
   "id": "processed-excuse",
   "metadata": {},
   "outputs": [],
   "source": [
    "for adata_name in ['adata_all_13', 'adata_all_2']:\n",
    "    sc.tl.leiden(eval(adata_name), resolution=0.6)\n",
    "    sc.tl.rank_genes_groups(eval(adata_name), method='wilcoxon', groupby='leiden')\n",
    "    sc.pl.umap(eval(adata_name),  color=['s_dataset', 'leiden', 'assigned_cats',])"
   ]
  },
  {
   "cell_type": "code",
   "execution_count": null,
   "id": "cultural-absence",
   "metadata": {
    "scrolled": true
   },
   "outputs": [],
   "source": [
    "sc.pl.umap(adata_all_13,  color=['s_dataset', 'leiden', 'assigned_cats',])\n",
    "sc.pl.rank_genes_groups_tracksplot(adata_all_13, dendrogram=False, use_raw=False, n_genes=20)"
   ]
  },
  {
   "cell_type": "code",
   "execution_count": null,
   "id": "official-neighbor",
   "metadata": {
    "scrolled": true
   },
   "outputs": [],
   "source": [
    "sc.pl.umap(adata_all_2,  color=['s_dataset', 'leiden', 'assigned_cats',])\n",
    "sc.pl.rank_genes_groups_tracksplot(adata_all_2, dendrogram=False, use_raw=False, n_genes=20)"
   ]
  },
  {
   "cell_type": "markdown",
   "id": "applicable-asian",
   "metadata": {},
   "source": [
    "### Selecting the definitive option with bbknn with k=2"
   ]
  },
  {
   "cell_type": "code",
   "execution_count": null,
   "id": "tough-silly",
   "metadata": {},
   "outputs": [],
   "source": [
    "adata_all_13 = sc.AnnData.concatenate(adata_s1_13, adata_s2_13, adata_s3_13, adata_s4_13, batch_categories=['s1', 's2', 's3', 's4'], batch_key='s_dataset', join='outer')\n",
    "adata_all_2 = sc.AnnData.concatenate(adata_s1_2, adata_s2_2, adata_s3_2, adata_s4_2, batch_categories=['s1', 's2', 's3', 's4'], batch_key='s_dataset', join='outer')"
   ]
  },
  {
   "cell_type": "code",
   "execution_count": null,
   "id": "opening-expense",
   "metadata": {},
   "outputs": [],
   "source": [
    "for adata_name in ['adata_all_13', 'adata_all_2']:\n",
    "    sc.pp.filter_genes(eval(adata_name), min_counts=30)\n",
    "    sc.pp.pca(eval(adata_name), random_state=seed, n_comps=30)\n",
    "    sce.pp.bbknn(eval(adata_name), metric='angular', batch_key='s_dataset', neighbors_within_batch=2)\n",
    "    tk.tl.triku(eval(adata_name), n_procs=1, random_state=seed, use_adata_knn=True)\n",
    "    sc.tl.umap(eval(adata_name), min_dist=0.05, random_state=seed)"
   ]
  },
  {
   "cell_type": "code",
   "execution_count": null,
   "id": "editorial-eight",
   "metadata": {},
   "outputs": [],
   "source": [
    "for adata_name in ['adata_all_13', 'adata_all_2']:\n",
    "    sc.tl.leiden(eval(adata_name), resolution=1.5)\n",
    "    sc.pl.umap(eval(adata_name),  color=['s_dataset', 'leiden', 'assigned_cats'])"
   ]
  },
  {
   "cell_type": "markdown",
   "id": "familiar-china",
   "metadata": {},
   "source": [
    "## Analysis\n",
    "We observe that either FB1+FB3 or FB2 cells show an A1, an A2 and a B1/B2 population. Moreover, in the FB1+FB3 clusters there are two A2 clusters, and the A1 and B1/B2 clusters seem \"enlarged\", that is, can be differentiated along a \"differentiation\" axis. We are going to understand why are there 3 copies of the A and B populations. To do that we are going to answer two questions:\n",
    "* What genes separate FB2 from FB1+FB3 clusters?\n",
    "* What genes separate the two axes from the FB2 cluster?"
   ]
  },
  {
   "cell_type": "markdown",
   "id": "further-rally",
   "metadata": {},
   "source": [
    "## What genes separate clusters FB2 from FB1+FB3?\n",
    "To answer that question we are going to get the DEGs from FB2 and FB1+FB3 clusters, and get ontology terms to discern any pattern."
   ]
  },
  {
   "cell_type": "code",
   "execution_count": null,
   "id": "worldwide-fishing",
   "metadata": {},
   "outputs": [],
   "source": [
    "adata_all_123 = sc.AnnData.concatenate(adata_all_2, adata_all_13, batch_categories=['2', '1+3'], batch_key='a_dataset', join='outer')"
   ]
  },
  {
   "cell_type": "code",
   "execution_count": null,
   "id": "technological-memory",
   "metadata": {},
   "outputs": [],
   "source": [
    "sc.pp.filter_genes(adata_all_123, min_counts=30)\n",
    "sc.pp.pca(adata_all_123, random_state=seed, n_comps=30)\n",
    "sce.pp.bbknn(adata_all_123, metric='angular', batch_key='s_dataset', neighbors_within_batch=2)\n",
    "tk.tl.triku(adata_all_123, n_procs=1, random_state=seed, use_adata_knn=True)\n",
    "sc.tl.umap(adata_all_123, min_dist=0.05, random_state=seed)"
   ]
  },
  {
   "cell_type": "code",
   "execution_count": null,
   "id": "surface-volleyball",
   "metadata": {},
   "outputs": [],
   "source": [
    "sc.tl.leiden(adata_all_123, resolution=1.5)\n",
    "sc.pl.umap(adata_all_123,  color=['a_dataset', 'science_clustering', 's_dataset', 'leiden', 'assigned_cats'])"
   ]
  },
  {
   "cell_type": "code",
   "execution_count": null,
   "id": "exempt-laser",
   "metadata": {},
   "outputs": [],
   "source": [
    "sc.tl.rank_genes_groups(adata_all_123, groupby='a_dataset', method='wilcoxon', use_raw=False)"
   ]
  },
  {
   "cell_type": "code",
   "execution_count": null,
   "id": "human-robin",
   "metadata": {},
   "outputs": [],
   "source": [
    "DEGs_123_2 = adata_all_123.uns['rank_genes_groups']['names']['2'][:150]\n",
    "# there are many MT and RP, so we are going to remove them to make GOs easier to interpret\n",
    "DEGs_123_2 = np.array([i for i in DEGs_123_2 if (i[:2] != 'RP') & (i[:3] != 'MT-')])\n",
    "\n",
    "DEGs_123_13 = adata_all_123.uns['rank_genes_groups']['names']['1+3'][:150]"
   ]
  },
  {
   "cell_type": "code",
   "execution_count": null,
   "id": "stuffed-cuisine",
   "metadata": {},
   "outputs": [],
   "source": [
    "DEGs_123_2.sort()\n",
    "DEGs_123_2"
   ]
  },
  {
   "cell_type": "code",
   "execution_count": null,
   "id": "international-momentum",
   "metadata": {},
   "outputs": [],
   "source": [
    "DEGs_123_13.sort()\n",
    "DEGs_123_13"
   ]
  },
  {
   "cell_type": "markdown",
   "id": "excited-teens",
   "metadata": {},
   "source": [
    "In DEGs from the 2 cluster dataset we see genes like FOS, JUN, JUND, GADD45B, IER2, IRF, which are classic stress-related genes. \n",
    "\n",
    "In the DEGs from the 1+3 cluster we see glicolysis-related genes (ALDOA, LDHA, PGK1, GAPDH) and, some hypoxia-related genes (BNIP3, BNIP3L), so it might be related to hypoxia.   \n",
    "\n",
    "**We are going to focus on the DEGs / GOs associated to the cluster 2.**"
   ]
  },
  {
   "cell_type": "code",
   "execution_count": null,
   "id": "marked-sugar",
   "metadata": {},
   "outputs": [],
   "source": [
    "enr_123_2 = gp.enrichr(gene_list=list(DEGs_123_2),\n",
    "                    gene_sets=['GO_Biological_Process_2018'],\n",
    "                 organism='Human', # don't forget to set organism to the one you desired! e.g. Yeast\n",
    "                 description='test_name',\n",
    "                 cutoff=0.5 # test dataset, use lower value from range(0,1)\n",
    "                )"
   ]
  },
  {
   "cell_type": "code",
   "execution_count": null,
   "id": "liable-carolina",
   "metadata": {},
   "outputs": [],
   "source": [
    "enr_123_2.results.sort_values(by='Adjusted P-value').iloc[:15][selected_enr_cols]"
   ]
  },
  {
   "cell_type": "code",
   "execution_count": null,
   "id": "external-particle",
   "metadata": {},
   "outputs": [],
   "source": [
    "enr_123_13 = gp.enrichr(gene_list=list(DEGs_123_13),\n",
    "                    gene_sets=['GO_Biological_Process_2018'],\n",
    "                 organism='Human', # don't forget to set organism to the one you desired! e.g. Yeast\n",
    "                 description='test_name',\n",
    "                 cutoff=0.5 # test dataset, use lower value from range(0,1)\n",
    "                )"
   ]
  },
  {
   "cell_type": "code",
   "execution_count": null,
   "id": "beneficial-cedar",
   "metadata": {},
   "outputs": [],
   "source": [
    "enr_123_13.results.sort_values(by='Adjusted P-value').iloc[:15][selected_enr_cols]"
   ]
  },
  {
   "cell_type": "markdown",
   "id": "excess-thermal",
   "metadata": {},
   "source": [
    "The GO terms are clearly replicating the same results from *de visu* analysis. DEGs from FB2 dataset reveal GO terms related to stress (*response to unfolded protein*, *regulation of apoptotic process*, *mRNA catabolic process*). To make sure of these results, we are going to search in the literature for stress-related genes, and we will map them to our dataset. We should expect cluster FB2 to show an increased expression of many of the genes set in the literature."
   ]
  },
  {
   "cell_type": "markdown",
   "id": "aerial-statement",
   "metadata": {},
   "source": [
    "### Mapping stress-related genes to populations\n",
    "In this section we are going to use a set of genes from the following references:\n",
    "* [van den Brick et al. (2017)](https://www.nature.com/articles/nmeth.4437) Table S1\n",
    "* [O'Flanagan et al. (2019)](https://genomebiology.biomedcentral.com/articles/10.1186/s13059-019-1830-0) Figure 3, and [Github](https://github.com/kieranrcampbell/scrnaseq-digestion-paper/blob/master/data/deliverables/coregene_df-FALSE-v3.csv)\n",
    "* [Denisenko et al. (2020)](https://genomebiology.biomedcentral.com/articles/10.1186/s13059-020-02048-6) Tables S1 and S3\n",
    "* [Adam et al. (2017)](https://journals.biologists.com/dev/article/144/19/3625/48196/Psychrophilic-proteases-dramatically-reduce-single) Tables S1 and S2\n",
    "\n",
    "These tables include genes overexpressed in different tissues (kidney, tumours, etc.) and hot (37 ºC) and cold conditions. Most of the authors assess that these conditions are not tissue-specific and appear, overall, in all samples with a certain degree of processing. Therefore, we are going to use these gene lists and map their genes to the dataset to see how apparent the gene expression patterns are. "
   ]
  },
  {
   "cell_type": "code",
   "execution_count": null,
   "id": "critical-tulsa",
   "metadata": {},
   "outputs": [],
   "source": [
    "try:\n",
    "    gene_list_adam_2017_s1_hot = np.loadtxt('papers_genes_bad_quality/adam_2017_s1_hot.txt', dtype=str)\n",
    "    gene_list_adam_2017_s1_cold = np.loadtxt('papers_genes_bad_quality/adam_2017_s1_cold.txt', dtype=str)\n",
    "\n",
    "    gene_list_adam_2017_s2_hot = np.loadtxt('papers_genes_bad_quality/adam_2017_s2_hot.txt', dtype=str)\n",
    "    gene_list_adam_2017_s2_cold = np.loadtxt('papers_genes_bad_quality/adam_2017_s2_cold.txt', dtype=str)\n",
    "except:\n",
    "    gene_list_adam_2017_s1_hot = np.loadtxt('https://raw.githubusercontent.com/alexmascension/revisit_reynolds_fb/master/papers_genes_bad_quality/adam_2017_s1_hot.txt', dtype=str)\n",
    "    gene_list_adam_2017_s1_cold = np.loadtxt('https://raw.githubusercontent.com/alexmascension/revisit_reynolds_fb/master/papers_genes_bad_quality/adam_2017_s1_cold.txt', dtype=str)\n",
    "\n",
    "    gene_list_adam_2017_s2_hot = np.loadtxt('https://raw.githubusercontent.com/alexmascension/revisit_reynolds_fb/master/papers_genes_bad_quality/adam_2017_s2_hot.txt', dtype=str)\n",
    "    gene_list_adam_2017_s2_cold = np.loadtxt('https://raw.githubusercontent.com/alexmascension/revisit_reynolds_fb/master/papers_genes_bad_quality/adam_2017_s2_cold.txt', dtype=str)"
   ]
  },
  {
   "cell_type": "code",
   "execution_count": null,
   "id": "southeast-workshop",
   "metadata": {},
   "outputs": [],
   "source": [
    "try:\n",
    "    gene_list_denisenko_2020_s1_hot = np.loadtxt('papers_genes_bad_quality/denisenko_2020_s1.txt', dtype=str)\n",
    "    gene_list_denisenko_2020_s1_cold = np.loadtxt('papers_genes_bad_quality/denisenko_2020_s1_cold.txt', dtype=str)\n",
    "\n",
    "    gene_list_denisenko_2020_s3_hot = np.loadtxt('papers_genes_bad_quality/denisenko_2020_s3.txt', dtype=str)\n",
    "except:\n",
    "    gene_list_denisenko_2020_s1_hot = np.loadtxt('https://raw.githubusercontent.com/alexmascension/revisit_reynolds_fb/master/papers_genes_bad_quality/denisenko_2020_s1.txt', dtype=str)\n",
    "    gene_list_denisenko_2020_s1_cold = np.loadtxt('https://raw.githubusercontent.com/alexmascension/revisit_reynolds_fb/master/papers_genes_bad_quality/denisenko_2020_s1_cold.txt', dtype=str)\n",
    "\n",
    "    gene_list_denisenko_2020_s3_hot = np.loadtxt('https://raw.githubusercontent.com/alexmascension/revisit_reynolds_fb/master/papers_genes_bad_quality/denisenko_2020_s3.txt', dtype=str)"
   ]
  },
  {
   "cell_type": "code",
   "execution_count": null,
   "id": "heavy-tumor",
   "metadata": {},
   "outputs": [],
   "source": [
    "try:\n",
    "    gene_list_oflanagan_2019_supp_hot = np.loadtxt('papers_genes_bad_quality/oflanagan_2019_gene_list_supp_hot.txt', dtype=str)\n",
    "    gene_list_oflanagan_2019_supp_cold = np.loadtxt('papers_genes_bad_quality/oflanagan_2019_gene_list_supp_cold.txt', dtype=str)\n",
    "\n",
    "    gene_list_oflanagan_2019_fig3_hot = np.loadtxt('papers_genes_bad_quality/oflanagan_2019_gene_list_fig3.txt', dtype=str)\n",
    "except:\n",
    "    gene_list_oflanagan_2019_supp_hot = np.loadtxt('https://raw.githubusercontent.com/alexmascension/revisit_reynolds_fb/master/papers_genes_bad_quality/oflanagan_2019_gene_list_supp_hot.txt', dtype=str)\n",
    "    gene_list_oflanagan_2019_supp_cold = np.loadtxt('https://raw.githubusercontent.com/alexmascension/revisit_reynolds_fb/master/papers_genes_bad_quality/oflanagan_2019_gene_list_supp_cold.txt', dtype=str)\n",
    "\n",
    "    gene_list_oflanagan_2019_fig3_hot = np.loadtxt('https://raw.githubusercontent.com/alexmascension/revisit_reynolds_fb/master/papers_genes_bad_quality/oflanagan_2019_gene_list_fig3.txt', dtype=str)"
   ]
  },
  {
   "cell_type": "code",
   "execution_count": null,
   "id": "systematic-athletics",
   "metadata": {},
   "outputs": [],
   "source": [
    "try:\n",
    "    gene_list_vandenbrick_2017_hot = np.loadtxt('papers_genes_bad_quality/vandenbrink_2017_gene_list.txt', dtype=str)\n",
    "except:\n",
    "    gene_list_vandenbrick_2017_hot = np.loadtxt('https://raw.githubusercontent.com/alexmascension/revisit_reynolds_fb/master/papers_genes_bad_quality/vandenbrink_2017_gene_list.txt', dtype=str)"
   ]
  },
  {
   "cell_type": "code",
   "execution_count": null,
   "id": "thorough-angola",
   "metadata": {},
   "outputs": [],
   "source": [
    "hot_genes = np.concatenate((gene_list_adam_2017_s1_hot, gene_list_adam_2017_s2_hot, gene_list_denisenko_2020_s1_hot, gene_list_denisenko_2020_s3_hot, \n",
    "                            gene_list_oflanagan_2019_supp_hot, gene_list_oflanagan_2019_fig3_hot, gene_list_vandenbrick_2017_hot))\n",
    "\n",
    "cold_genes = np.concatenate((gene_list_adam_2017_s1_cold, gene_list_adam_2017_s2_cold, gene_list_denisenko_2020_s1_cold, gene_list_oflanagan_2019_supp_cold))"
   ]
  },
  {
   "cell_type": "code",
   "execution_count": null,
   "id": "american-boulder",
   "metadata": {},
   "outputs": [],
   "source": [
    "hot_genes, hot_counts = np.unique(hot_genes, return_counts=True)\n",
    "cold_genes, cold_counts = np.unique(cold_genes, return_counts=True)"
   ]
  },
  {
   "cell_type": "markdown",
   "id": "infinite-tablet",
   "metadata": {},
   "source": [
    "We are going to keep genes that appear at least once across the different *cold*-related gene lists, and at least twice across the *hot*-related gene lists."
   ]
  },
  {
   "cell_type": "code",
   "execution_count": null,
   "id": "distinguished-lewis",
   "metadata": {},
   "outputs": [],
   "source": [
    "hot_genes_good = hot_genes[hot_counts > 2]\n",
    "hot_genes_good"
   ]
  },
  {
   "cell_type": "code",
   "execution_count": null,
   "id": "chronic-session",
   "metadata": {},
   "outputs": [],
   "source": [
    "np.savetxt('papers_genes_bad_quality/stress_genes.txt', hot_genes_good, fmt='%s')"
   ]
  },
  {
   "cell_type": "code",
   "execution_count": null,
   "id": "linear-nashville",
   "metadata": {},
   "outputs": [],
   "source": [
    "cold_genes_good = cold_genes[cold_counts > 1]\n",
    "cold_genes_good"
   ]
  },
  {
   "cell_type": "code",
   "execution_count": null,
   "id": "wanted-lottery",
   "metadata": {},
   "outputs": [],
   "source": [
    "np.intersect1d(DEGs_123_2, hot_genes_good)"
   ]
  },
  {
   "cell_type": "markdown",
   "id": "complicated-lodge",
   "metadata": {},
   "source": [
    "We see that there is a certain grade of intersect between the selected genes and the DEGs from Reynolds cluster FB2."
   ]
  },
  {
   "cell_type": "code",
   "execution_count": null,
   "id": "upset-throat",
   "metadata": {},
   "outputs": [],
   "source": [
    "sc.pl.umap(adata_all_123,  color=['a_dataset', 'assigned_cats'] + [i for i in list(hot_genes_good) if i in adata_all_123.var_names], \n",
    "           cmap=magma, use_raw=False)"
   ]
  },
  {
   "cell_type": "markdown",
   "id": "selective-procurement",
   "metadata": {},
   "source": [
    "We see that most of the genes are more expressed in the FB2 cluster. Moreover, some of them (BTG2, FOSB, KLF2, PHLDA2, HSPA1B) are mainly expressed in cluster FB2!"
   ]
  },
  {
   "cell_type": "code",
   "execution_count": null,
   "id": "organizational-belize",
   "metadata": {},
   "outputs": [],
   "source": [
    "dict_cats = {'Stress': ['ATF3', 'BTG2', 'CEBPB', 'CEBPD', 'CLDN4', 'CSRNP1', 'CTGF',\n",
    "       'CXCL1', 'CXCL2', 'CYR61', 'DNAJA1', 'DNAJB1', 'DUSP1', 'DUSP2',\n",
    "       'DUSP5', 'EGR1', 'ELF3', 'FOS', 'FOSB', 'GADD45B', 'GADD45G',\n",
    "       'HSP90AA1', 'HSPA1A', 'HSPA1B', 'HSPB1', 'IER2', 'IER3', 'IFRD1',\n",
    "       'IRF1', 'JUN', 'JUNB', 'JUND', 'KLF2', 'KLF4', 'KLF6', 'MAFF',\n",
    "       'NFKBIA', 'NFKBIZ', 'NR4A1', 'NR4A2', 'PHLDA2', 'PIM1', 'PLAUR',\n",
    "       'PLK3', 'PPP1R15A', 'RASD1', 'RHOB', 'SOCS3', 'TNFAIP3', 'UBC',\n",
    "       'ZFP36']}\n",
    "assign_cats(adata_all_123, dict_cats=dict_cats, column_groupby='leiden', intermediate_states=True, \n",
    "            others_name='Non-stress', min_score=0.55, key_added='assigned_cats_stress')"
   ]
  },
  {
   "cell_type": "code",
   "execution_count": null,
   "id": "formal-consequence",
   "metadata": {},
   "outputs": [],
   "source": [
    "sc.pl.umap(adata_all_123,  color=['a_dataset', 'assigned_cats', 'assigned_cats_stress'], legend_loc='on data',\n",
    "           cmap=magma, use_raw=False)"
   ]
  },
  {
   "cell_type": "markdown",
   "id": "julian-thing",
   "metadata": {},
   "source": [
    "## What genes separate A1/A2/B fibroblasts within FB1+FB3?\n",
    "To answer that question we are going to get the DEGs from A2 clusters within FB1+FB3 cells, and get ontology terms to discern any pattern."
   ]
  },
  {
   "cell_type": "code",
   "execution_count": null,
   "id": "worse-temperature",
   "metadata": {},
   "outputs": [],
   "source": [
    "sc.tl.leiden(adata_all_13, resolution=2)\n",
    "\n",
    "sc.pl.umap(adata_all_13,  color=['s_dataset', 'leiden', 'assigned_cats'])\n",
    "sc.tl.rank_genes_groups(adata_all_13, groupby='leiden', method='wilcoxon', use_raw=False)"
   ]
  },
  {
   "cell_type": "code",
   "execution_count": null,
   "id": "quick-thomson",
   "metadata": {
    "scrolled": true
   },
   "outputs": [],
   "source": [
    "sc.pl.rank_genes_groups_tracksplot(adata_all_13, dendrogram=False, use_raw=False, n_genes=50)"
   ]
  },
  {
   "cell_type": "code",
   "execution_count": null,
   "id": "cutting-excuse",
   "metadata": {
    "scrolled": true
   },
   "outputs": [],
   "source": [
    "# THIS PART MIGHT NOT BE REPLICABLE OUTSIDE!!! Clusters are set to detect differences in A2 left VS right\n",
    "sc.tl.rank_genes_groups(adata_all_13, groupby='leiden', method='wilcoxon', groups=['1'], reference='0')\n",
    "sc.pl.rank_genes_groups_tracksplot(adata_all_13, dendrogram=False, use_raw=False, n_genes=150)"
   ]
  },
  {
   "cell_type": "code",
   "execution_count": null,
   "id": "engaging-attack",
   "metadata": {
    "scrolled": true
   },
   "outputs": [],
   "source": [
    "sc.pl.umap(adata_all_13, color=['leiden'] + list(adata_all_13.uns['rank_genes_groups']['names']['1'][:150]), cmap=magma, use_raw=False)"
   ]
  },
  {
   "cell_type": "code",
   "execution_count": null,
   "id": "renewable-corner",
   "metadata": {
    "scrolled": true
   },
   "outputs": [],
   "source": [
    "# THIS PART MIGHT NOT BE REPLICABLE OUTSIDE!!! Clusters are set to detect differences in A2 left VS right\n",
    "sc.tl.rank_genes_groups(adata_all_13, groupby='leiden', method='wilcoxon', groups=['0'], reference='1')\n",
    "sc.pl.rank_genes_groups_tracksplot(adata_all_13, dendrogram=False, use_raw=False, n_genes=150)"
   ]
  },
  {
   "cell_type": "code",
   "execution_count": null,
   "id": "tired-regulation",
   "metadata": {
    "scrolled": true
   },
   "outputs": [],
   "source": [
    "sc.tl.rank_genes_groups(adata_all_13, groupby='leiden', method='wilcoxon', groups=['1'], reference='0')\n",
    "sc.pl.umap(adata_all_13, color=['leiden'] + list(adata_all_13.uns['rank_genes_groups']['names']['1'][:150]), cmap=magma, use_raw=False)"
   ]
  },
  {
   "cell_type": "code",
   "execution_count": null,
   "id": "revolutionary-series",
   "metadata": {},
   "outputs": [],
   "source": [
    "genes_cluster_A2_A = ['HILPDA', 'VIM', 'FAM162A', 'VEGFA', 'LDHA', 'ADM', 'SNHG7', 'SYNPO', 'INSIG2', 'ERO1A', 'ZNF395', 'ANGPTL4', \n",
    "                      'NRN1', 'SLC2A1', 'EHD2', 'DDIT4', 'P4HA2', 'DPYSL2', 'WSB1', 'SNHG1', 'SNHG8', 'SLC16A3', 'BNIP3', 'RAB20', 'VKORC1',\n",
    "                      'LOXL2', 'KLF6', 'PGM1', 'SLC2A14', 'PPP1R18', 'BAIAP2', 'CDON', 'CLK1', 'PDK1', 'PYGL', 'NFIX', 'AK4', 'RORA',\n",
    "                      'NGLY1', 'SCD', 'GPRC5A', 'RASSF5', 'COPS2', 'COL27A1', 'SH3BP5', 'EGLN3', 'JUN', 'PGF', 'CXCR4', 'PPP1R3B', \n",
    "                      'HSD3B7', 'SNX33', 'KCTD11', 'MAFF', 'BEND5', 'SEPTIN9', 'PPP1R3C', 'SMIM3', 'SFXN3', 'SNHG18', 'OSBPL5',\n",
    "                      ]\n",
    "genes_cluster_A2_B = ['HSPE1', 'HMGB1', 'CEMIP', 'SNRPG', 'ERH', 'PRDX1', 'AKR1C1', 'PSMB3', 'DDX5', 'ATP5MF', 'CCT7', 'NDUFS6', \n",
    "                      'COX6B1', 'PSMA4', 'SPON1', 'NDUFAF3', 'ACTB', 'ADAMTS5', 'SLIRP', 'SSB', 'MRPL41', 'POLR2K', 'NQO2']"
   ]
  },
  {
   "cell_type": "markdown",
   "id": "identified-barrel",
   "metadata": {},
   "source": [
    "From the gene sets, we are going to assume that A gene set represents hypoxic conditions ('hypoxia') and B represents normoxic conditions ('normoxia')"
   ]
  },
  {
   "cell_type": "code",
   "execution_count": null,
   "id": "third-effects",
   "metadata": {},
   "outputs": [],
   "source": [
    "sc.pl.umap(adata_all_13, color=genes_cluster_A2_A, cmap=magma, use_raw=False)"
   ]
  },
  {
   "cell_type": "code",
   "execution_count": null,
   "id": "flexible-southwest",
   "metadata": {},
   "outputs": [],
   "source": [
    "sc.pl.umap(adata_all_13, color=genes_cluster_A2_B, cmap=magma, use_raw=False)"
   ]
  },
  {
   "cell_type": "code",
   "execution_count": null,
   "id": "unknown-entertainment",
   "metadata": {},
   "outputs": [],
   "source": [
    "assign_cats(adata_all_13, min_score=0.3, key_added='cats_hypoxia',\n",
    "            dict_cats={'Hypoxia': genes_cluster_A2_A, 'Normoxia': genes_cluster_A2_B})"
   ]
  },
  {
   "cell_type": "code",
   "execution_count": null,
   "id": "equipped-orleans",
   "metadata": {},
   "outputs": [],
   "source": [
    "sc.pl.umap(adata_all_13, color=['assigned_cats', 'leiden', 'cats_hypoxia'], cmap=magma, use_raw=False)"
   ]
  },
  {
   "cell_type": "code",
   "execution_count": null,
   "id": "hearing-consent",
   "metadata": {
    "scrolled": true
   },
   "outputs": [],
   "source": [
    "sc.tl.rank_genes_groups(adata_all_13, groupby='cats_hypoxia', method='wilcoxon')\n",
    "sc.pl.rank_genes_groups_tracksplot(adata_all_13, dendrogram=False, use_raw=False, n_genes=150)"
   ]
  },
  {
   "cell_type": "code",
   "execution_count": null,
   "id": "thorough-vitamin",
   "metadata": {
    "scrolled": true
   },
   "outputs": [],
   "source": [
    "DEGs_hypoxia =  list(adata_all_13.uns['rank_genes_groups']['names']['Hypoxia'][:150])\n",
    "DEGs_hypoxia = np.array([i for i in DEGs_hypoxia if (i[:2] != 'RP') & (i[:3] != 'MT-')])\n",
    "\n",
    "DEGs_normoxia =  list(adata_all_13.uns['rank_genes_groups']['names']['Normoxia'][:150])\n",
    "DEGs_normoxia = np.array([i for i in DEGs_normoxia if (i[:2] != 'RP') & (i[:3] != 'MT-')])"
   ]
  },
  {
   "cell_type": "code",
   "execution_count": null,
   "id": "ordinary-vessel",
   "metadata": {},
   "outputs": [],
   "source": [
    "DEGs_hypoxia.sort()\n",
    "DEGs_hypoxia"
   ]
  },
  {
   "cell_type": "code",
   "execution_count": null,
   "id": "continuing-english",
   "metadata": {},
   "outputs": [],
   "source": [
    "DEGs_normoxia.sort()\n",
    "DEGs_normoxia"
   ]
  },
  {
   "cell_type": "code",
   "execution_count": null,
   "id": "interior-exhibit",
   "metadata": {},
   "outputs": [],
   "source": [
    "enr_hypoxia = gp.enrichr(gene_list=list(DEGs_hypoxia),\n",
    "                    gene_sets=['GO_Biological_Process_2018'],\n",
    "                 organism='Human', # don't forget to set organism to the one you desired! e.g. Yeast\n",
    "                 description='test_name',\n",
    "                 cutoff=0.5 # test dataset, use lower value from range(0,1)\n",
    "                )"
   ]
  },
  {
   "cell_type": "code",
   "execution_count": null,
   "id": "heated-richardson",
   "metadata": {},
   "outputs": [],
   "source": [
    "enr_hypoxia.results.sort_values(by='Adjusted P-value').iloc[:15][selected_enr_cols]"
   ]
  },
  {
   "cell_type": "code",
   "execution_count": null,
   "id": "greek-winter",
   "metadata": {},
   "outputs": [],
   "source": [
    "enr_normoxia = gp.enrichr(gene_list=list(DEGs_normoxia),\n",
    "                    gene_sets=['GO_Biological_Process_2018'],\n",
    "                 organism='Human', # don't forget to set organism to the one you desired! e.g. Yeast\n",
    "                 description='test_name',\n",
    "                 cutoff=0.5 # test dataset, use lower value from range(0,1)\n",
    "                )"
   ]
  },
  {
   "cell_type": "code",
   "execution_count": null,
   "id": "lasting-medline",
   "metadata": {},
   "outputs": [],
   "source": [
    "enr_normoxia.results.sort_values(by='Adjusted P-value').iloc[:15][selected_enr_cols]"
   ]
  },
  {
   "cell_type": "markdown",
   "id": "homeless-cathedral",
   "metadata": {},
   "source": [
    "We confirm that the cell set with genes related to hypoxic conditions show a clear enrichment of glicolysis-related genes and hypoxia. It has been observed that cells in hypoxic conditions upregulate glicolysis to produce energy under hypoxic conditions. Therefore, these cell will underexpress genes related to energy production with oxygen, such as the NDUFA proteins, subunits of the mitochondrial complex III; PSMAs, which are involved in general metabolism; or the ATPase subunits.\n",
    "\n",
    "Interestingly, normoxic cells overexpress *HIF1A*. Maybe it is an underexpression of *HIF1A* because hypoxic cells are already under hypoxia, and normoxic cells are starting to express it to signal hypoxic conditions?"
   ]
  },
  {
   "cell_type": "code",
   "execution_count": null,
   "id": "appointed-problem",
   "metadata": {},
   "outputs": [],
   "source": [
    "sc.pl.umap(adata_all_13, color=['leiden', 'VEGFA', 'HIF1A', 'ATR'] , cmap=magma, use_raw=False)"
   ]
  },
  {
   "cell_type": "markdown",
   "id": "large-lawyer",
   "metadata": {},
   "source": [
    "### Mapping hypoxia-related genes to populations\n",
    "In this section we are going to use a set of genes from the following references:\n",
    "* HALLMARK_HYPOXIA, and HALLMARK_GLICOLYSIS gene lists from GSEA. The use of these lists are supported by different references ([Evers et al. (2019)](https://doi.org/10.1021/acs.analchem.9b02410), \n",
    "[Xiao et al. (2019)](https://doi.org/10.1038/s41467-019-11738-0), \n",
    "[Mohyeldin et al. (2010)](https://doi.org/10.1016/j.stem.2010.07.007), \n",
    "[Simon et al. (2008)](https://doi.org/10.1038/nrm2354))\n",
    "* [Wu et al. (2021)](https://doi.org/10.7554/eLife.63003) \n",
    "* [Guo et al. (2020)](https://doi.org/10.3389/fcell.2021.624711) Supplementary File 1"
   ]
  },
  {
   "cell_type": "code",
   "execution_count": null,
   "id": "modified-reform",
   "metadata": {},
   "outputs": [],
   "source": [
    "try:\n",
    "    gene_list_GSEA_hallmark_hypoxia = np.loadtxt('papers_genes_bad_quality/GSEA_hallmark_hypoxia.txt', dtype=str)\n",
    "    gene_list_GSEA_hallmark_glicolysis = np.loadtxt('papers_genes_bad_quality/GSEA_hallmark_glicolysis.txt', dtype=str)\n",
    "except:\n",
    "    gene_list_GSEA_hallmark_hypoxia = np.loadtxt('https://raw.githubusercontent.com/alexmascension/revisit_reynolds_fb/master/papers_genes_bad_quality/GSEA_hallmark_hypoxia.txt', dtype=str)\n",
    "    gene_list_GSEA_hallmark_glicolysis = np.loadtxt('https://raw.githubusercontent.com/alexmascension/revisit_reynolds_fb/master/papers_genes_bad_quality/GSEA_hallmark_glicolysis.txt', dtype=str)"
   ]
  },
  {
   "cell_type": "code",
   "execution_count": null,
   "id": "african-discount",
   "metadata": {},
   "outputs": [],
   "source": [
    "try:\n",
    "    gene_list_guo_2021 = np.loadtxt('papers_genes_bad_quality/guo_2021_brain_hypoxia.txt', dtype=str)\n",
    "except:\n",
    "    gene_list_guo_2021 = np.loadtxt('https://raw.githubusercontent.com/alexmascension/revisit_reynolds_fb/master/papers_genes_bad_quality/guo_2021_brain_hypoxia.txt', dtype=str)"
   ]
  },
  {
   "cell_type": "code",
   "execution_count": null,
   "id": "sized-genius",
   "metadata": {},
   "outputs": [],
   "source": [
    "try:\n",
    "    gene_list_wu_2021_bulk = np.loadtxt('papers_genes_bad_quality/wu_2021_lung_hypoxia_bulk.txt', dtype=str)\n",
    "    gene_list_wu_2021_endo = np.loadtxt('papers_genes_bad_quality/wu_2021_lung_hypoxia_bulk.txt', dtype=str)\n",
    "except:\n",
    "    gene_list_wu_2021_bulk = np.loadtxt('https://raw.githubusercontent.com/alexmascension/revisit_reynolds_fb/master/papers_genes_bad_quality/wu_2021_lung_hypoxia_bulk.txt', dtype=str)\n",
    "    gene_list_wu_2021_endo = np.loadtxt('https://raw.githubusercontent.com/alexmascension/revisit_reynolds_fb/master/papers_genes_bad_quality/wu_2021_lung_hypoxia_bulk.txt', dtype=str)    "
   ]
  },
  {
   "cell_type": "code",
   "execution_count": null,
   "id": "surface-forest",
   "metadata": {},
   "outputs": [],
   "source": [
    "try:\n",
    "    gene_list_ferreira_2018_s1_all = np.loadtxt('papers_genes_bad_quality/ferreira_2018_s1_all.txt', dtype=str)\n",
    "    gene_list_ferreira_2018_s1_filtered = np.loadtxt('papers_genes_bad_quality/ferreira_2018_s1_filtered.txt', dtype=str)\n",
    "    gene_list_ferreira_2018_s2_blood = np.loadtxt('papers_genes_bad_quality/ferreira_2018_s2_blood.txt', dtype=str)\n",
    "except:\n",
    "    gene_list_ferreira_2018_s1_all = np.loadtxt('https://raw.githubusercontent.com/alexmascension/revisit_reynolds_fb/master/papers_genes_bad_quality/ferreira_2018_s1_all.txt', dtype=str)\n",
    "    gene_list_ferreira_2018_s1_filtered = np.loadtxt('https://raw.githubusercontent.com/alexmascension/revisit_reynolds_fb/master/papers_genes_bad_quality/ferreira_2018_s1_filtered.txt', dtype=str)\n",
    "    gene_list_ferreira_2018_s2_blood = np.loadtxt('https://raw.githubusercontent.com/alexmascension/revisit_reynolds_fb/master/papers_genes_bad_quality/ferreira_2018_s2_blood.txt', dtype=str)    "
   ]
  },
  {
   "cell_type": "code",
   "execution_count": null,
   "id": "swiss-challenge",
   "metadata": {},
   "outputs": [],
   "source": [
    "manual_list_hypoxia_genes = ['ADM', 'ANGPTL4', 'ANKRD37', 'ARID5B', 'ARRDC3', 'BHLHE40', 'BNIP3', 'BNIP3L', 'C4orf3', 'CD44', 'CLN8', \n",
    "'COPS2', 'DDIT3', 'DDIT4', 'DHRS3', 'EHD2', 'EIF4A2', 'ENO1', 'ENO2', 'ERO1A', 'FAM162A', 'FGF11', 'FGFR1', 'FNBP1', \n",
    "'GBE1', 'GPI', 'HIF1A-AS2', 'HILPDA', 'HK2', 'INSIG2', 'LDHA', 'LOXL2', 'NDRG1', 'NGLY1', 'NRN1', 'P4HA1', 'PDE2A', \n",
    "'PGK1', 'PLIN2', 'PLOD2', 'PLP2', 'RBPJ', 'SERPINE1', 'SLC2A1', 'SLC2A3', 'SNHG12', 'SNHG7', 'SYNPO', 'TAF1D', 'TNFAIP8', \n",
    "'TNIP1', 'TPI1', 'VEGFA', 'ZFAS1', 'ZNF267', 'ZNF395', ]"
   ]
  },
  {
   "cell_type": "code",
   "execution_count": null,
   "id": "planned-gates",
   "metadata": {},
   "outputs": [],
   "source": [
    "hypoxia_genes = np.concatenate((gene_list_GSEA_hallmark_hypoxia, gene_list_GSEA_hallmark_glicolysis\n",
    "                                , gene_list_guo_2021, gene_list_wu_2021_bulk, \n",
    "                                gene_list_wu_2021_endo, gene_list_ferreira_2018_s1_all, gene_list_ferreira_2018_s1_filtered, \n",
    "                                gene_list_ferreira_2018_s2_blood))\n",
    "hypoxia_genes, hypoxia_counts = np.unique(hypoxia_genes, return_counts=True)\n",
    "hypoxia_genes_good = np.array(sorted(list(set(hypoxia_genes[hypoxia_counts > 2]) | set(manual_list_hypoxia_genes))))\n",
    "hypoxia_genes_good"
   ]
  },
  {
   "cell_type": "code",
   "execution_count": null,
   "id": "quality-audit",
   "metadata": {},
   "outputs": [],
   "source": [
    "np.savetxt('papers_genes_bad_quality/hypoxia_genes.txt', hypoxia_genes_good, fmt='%s')"
   ]
  },
  {
   "cell_type": "code",
   "execution_count": null,
   "id": "unable-queue",
   "metadata": {},
   "outputs": [],
   "source": [
    "dict_cats = {'Stress': hot_genes_good, 'Hypoxia': hypoxia_genes_good,}"
   ]
  },
  {
   "cell_type": "code",
   "execution_count": null,
   "id": "through-capture",
   "metadata": {},
   "outputs": [],
   "source": [
    "sc.tl.leiden(adata_all_123, resolution=1.7)\n",
    "assign_cats(adata_all_123, dict_cats=dict_cats, column_groupby='leiden', intermediate_states=False, min_score=0.5,\n",
    "            key_added='hypoxia_stress', others_name='Normal')\n",
    "sc.pl.umap(adata_all_123, color=['hypoxia_stress', 'assigned_cats'], \n",
    "           cmap=magma, use_raw=False)"
   ]
  },
  {
   "cell_type": "code",
   "execution_count": null,
   "id": "sixth-interest",
   "metadata": {},
   "outputs": [],
   "source": [
    "sc.pl.umap(adata_all_123, color=['leiden', 'hypoxia_stress', 'assigned_cats', 'hypoxia_stress_Stress', 'hypoxia_stress_Hypoxia'], \n",
    "           cmap=magma, use_raw=False, ncols=3, legend_loc='on data')"
   ]
  },
  {
   "cell_type": "code",
   "execution_count": null,
   "id": "pursuant-bullet",
   "metadata": {},
   "outputs": [],
   "source": []
  }
 ],
 "metadata": {
  "kernelspec": {
   "display_name": "Python [conda env:alex-base] *",
   "language": "python",
   "name": "conda-env-alex-base-py"
  },
  "language_info": {
   "codemirror_mode": {
    "name": "ipython",
    "version": 3
   },
   "file_extension": ".py",
   "mimetype": "text/x-python",
   "name": "python",
   "nbconvert_exporter": "python",
   "pygments_lexer": "ipython3",
   "version": "3.8.0"
  }
 },
 "nbformat": 4,
 "nbformat_minor": 5
}
