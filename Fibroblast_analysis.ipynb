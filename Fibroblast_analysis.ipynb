{
 "cells": [
  {
   "cell_type": "code",
   "execution_count": null,
   "id": "athletic-innocent",
   "metadata": {},
   "outputs": [],
   "source": [
    "# !wget https://raw.githubusercontent.com/alexmascension/revisit_reynolds_fb/master/requirements.txt\n",
    "# !pip install -r requirements.txt"
   ]
  },
  {
   "cell_type": "code",
   "execution_count": null,
   "id": "ongoing-softball",
   "metadata": {},
   "outputs": [],
   "source": [
    "import scanpy as sc\n",
    "import scanpy.external as sce\n",
    "\n",
    "import pandas as pd\n",
    "import numpy as np\n",
    "import os\n",
    "from functools import reduce\n",
    "import gseapy as gp\n",
    "\n",
    "import triku as tk\n",
    "\n",
    "import matplotlib.pyplot as plt\n",
    "import matplotlib as mpl\n",
    "import seaborn as sns\n",
    "\n",
    "import scipy.stats as sts"
   ]
  },
  {
   "cell_type": "code",
   "execution_count": null,
   "id": "disciplinary-tennis",
   "metadata": {},
   "outputs": [],
   "source": [
    "# To print versions of imports \n",
    "\n",
    "import types\n",
    "\n",
    "def imports():\n",
    "    for name, val in globals().items():\n",
    "        if isinstance(val, types.ModuleType):\n",
    "            yield val.__name__\n",
    "\n",
    "excludes = ['builtins', 'types', 'sys']\n",
    "\n",
    "imported_modules = [module for module in imports() if module not in excludes]\n",
    "\n",
    "clean_modules = []\n",
    "\n",
    "for module in imported_modules:\n",
    "\n",
    "    sep = '.'  # to handle 'matplotlib.pyplot' cases\n",
    "    rest = module.split(sep, 1)[0]\n",
    "    clean_modules.append(rest)\n",
    "\n",
    "changed_imported_modules = list(set(clean_modules))  # drop duplicates\n",
    "\n",
    "pip_modules = !pip freeze  # you could also use `!conda list` with anaconda\n",
    "\n",
    "for module in pip_modules:\n",
    "    try:\n",
    "        name, version = module.split('==')\n",
    "        if name in changed_imported_modules:\n",
    "            print(name + '\\t' + version)\n",
    "    except:\n",
    "        pass"
   ]
  },
  {
   "cell_type": "code",
   "execution_count": null,
   "id": "spread-niger",
   "metadata": {},
   "outputs": [],
   "source": [
    "seed = 0"
   ]
  },
  {
   "cell_type": "code",
   "execution_count": null,
   "id": "union-sending",
   "metadata": {},
   "outputs": [],
   "source": [
    "# Palettes for UMAP gene expression\n",
    "\n",
    "magma = [plt.get_cmap('magma')(i) for i in np.linspace(0,1, 80)]\n",
    "magma[0] = (0.88, 0.88, 0.88, 1)\n",
    "magma = mpl.colors.LinearSegmentedColormap.from_list(\"\", magma[:65])"
   ]
  },
  {
   "cell_type": "code",
   "execution_count": null,
   "id": "invisible-webster",
   "metadata": {},
   "outputs": [],
   "source": [
    "mpl.rcParams['figure.dpi'] = 150"
   ]
  },
  {
   "cell_type": "code",
   "execution_count": null,
   "id": "assigned-california",
   "metadata": {},
   "outputs": [],
   "source": [
    "def assign_cats(adata, dict_cats, column_groupby='leiden', quantile_gene_sel=0.7, do_return=False, intermediate_states=False, diff=0.05, \n",
    "                key_added='assigned_cats'):\n",
    "    \"\"\"\n",
    "    This functions uses a set of genes assigned to different categories so that leiden clusters can be assigned to one of these categories.\n",
    "    For example, to categorize fibroblasts from pericytes, endothelial cells, or cells with high mitochondrial content.\n",
    "    It could be done with each cell individually, but it is better to use clusters to discern the different categories because\n",
    "    the method, although efficient, can sometimes be noisy due to the noisiness of the sc datasets.\n",
    "    \"\"\"\n",
    "    \n",
    "    for cat in list(dict_cats.keys()):\n",
    "        mat_cat = np.zeros((len(adata), len(dict_cats[cat])), dtype=float)\n",
    "        \n",
    "        for gene_idx, gene in enumerate(dict_cats[cat]):\n",
    "            try:\n",
    "                mat_cat[:, gene_idx] = np.asarray(np.dot(adata.obsp['connectivities'], adata[:, gene].X).todense()).ravel() / adata.uns['neighbors']['params']['n_neighbors']\n",
    "                \n",
    "                # We normalize the expression to the maximum (per 98) of expression ** 0.5 to account to some extent for the expression of the gene. \n",
    "                # In the end, a gene highly expressed must account for more than a gene with lower expression\n",
    "                mat_cat[mat_cat[:, gene_idx] > 0, gene_idx] = np.argsort(np.argsort(mat_cat[mat_cat[:, gene_idx] > 0, gene_idx]))\n",
    "                mat_cat[:, gene_idx] /= np.max(mat_cat[:, gene_idx])\n",
    "            except:\n",
    "                print(f'Gene {gene} is not on the list')    \n",
    "            \n",
    "        sum_mat_cat = np.asarray(mat_cat.mean(1)).ravel()       \n",
    "        adata.obs[cat] = sum_mat_cat\n",
    "    \n",
    "    score_per_cluster = adata.obs[[column_groupby] + list(dict_cats.keys())].groupby(column_groupby).quantile(quantile_gene_sel)\n",
    "    max_cat_dict_std = dict(zip(score_per_cluster.std(1).index, score_per_cluster.std(1).values))\n",
    "    adata.obs[f'{key_added}_std'] = [max_cat_dict_std[i] for i in adata.obs[column_groupby]]\n",
    "    max_cat_dict_mean = dict(zip(score_per_cluster.mean(1).index, score_per_cluster.mean(1).values))\n",
    "    adata.obs[f'{key_added}_mean'] = [max_cat_dict_mean[i] for i in adata.obs[column_groupby]]\n",
    "    adata.obs[f'{key_added}_CV'] = adata.obs[f'{key_added}_mean'] / adata.obs[f'{key_added}_std']\n",
    "    \n",
    "    for cat in score_per_cluster.columns:\n",
    "        max_cat_dict = dict(zip(score_per_cluster.index, score_per_cluster[cat].values))\n",
    "        adata.obs[f'{key_added}_{cat}'] = [max_cat_dict[i] for i in adata.obs[column_groupby]]\n",
    "    \n",
    "    if intermediate_states: # For each cluster we will identify which categories are close to the highest one, and merge their names.\n",
    "        list_names_cats_per_cluster = []\n",
    "        for cluster in score_per_cluster.index:\n",
    "            scores_cluster = score_per_cluster.loc[cluster]\n",
    "            scores_cluster = scores_cluster[scores_cluster > scores_cluster.max() - diff]\n",
    "            list_names_cats_per_cluster.append('/'.join(scores_cluster.index))\n",
    "            \n",
    "        inter_cat_dict = dict(zip(score_per_cluster.idxmax(axis=1).index, list_names_cats_per_cluster))\n",
    "        adata.obs[f'{key_added}'] = [str(inter_cat_dict[i]) for i in adata.obs[column_groupby]]\n",
    "    else:\n",
    "        max_cat_dict = dict(zip(score_per_cluster.idxmax(axis=1).index, score_per_cluster.idxmax(axis=1).values))\n",
    "        adata.obs[f'{key_added}'] = [str(max_cat_dict[i]) for i in adata.obs[column_groupby]]\n",
    "    \n",
    "    if do_return:\n",
    "        return score_per_cluster"
   ]
  },
  {
   "cell_type": "markdown",
   "id": "seven-lying",
   "metadata": {},
   "source": [
    "# Reynolds et al. 2020 dataset download and preprocess\n",
    "In this section we are going to download and process the anndata files for the 5 healthy samples (S1 to S5). We are first going to use the processed files from Reynolds et al., because they contain the main fb populations, which we are interested in (FB1-3). With that, we can partially replicate the analysis. However, the data richness is not that good (the UMAPs are more *blooby*) so we preprocess the FASTQ files on our own, and used the processed adatas.\n",
    "\n",
    "Once we have our own anndatas, the preprocessing is the following:\n",
    "* Assign FB types based on Reynolds adatas to our adatas. Some cells will be unassigned.\n",
    "* QC metrics \n",
    "* Filter genes (min counts = 30)\n",
    "* Set raw X\n",
    "* Normalize and log1p\n",
    "* PCA + triku + neighbors + umap + leiden\n",
    "* Use  `assign_cats` to assign leiden clusters to cell populations with selected markers (markers for each dataset may vary!)\n",
    "* Filter adata to retain only fibroblasts\n",
    "* Filter genes to remove 0 counts\n",
    "* PCA + triku + neighbors + umap + leiden [leiden is not used here but may be used later]\n",
    "* Check if strange populations appear and filter them in `assign_cats`, then repeat the last steps."
   ]
  },
  {
   "cell_type": "code",
   "execution_count": null,
   "id": "important-capture",
   "metadata": {},
   "outputs": [],
   "source": [
    "os.getcwd()"
   ]
  },
  {
   "cell_type": "code",
   "execution_count": null,
   "id": "treated-pollution",
   "metadata": {},
   "outputs": [],
   "source": [
    "reynolds_dir = 'reynolds_2020'\n",
    "os.makedirs(reynolds_dir, exist_ok=True)"
   ]
  },
  {
   "cell_type": "markdown",
   "id": "renewable-farmer",
   "metadata": {},
   "source": [
    "### Making and saving the fb healthy dataset to zenodo"
   ]
  },
  {
   "cell_type": "code",
   "execution_count": null,
   "id": "composed-browse",
   "metadata": {},
   "outputs": [],
   "source": [
    "# adata_reynolds = sc.read('submission_210120.h5ad', backup_url='https://zenodo.org/record/4536165/files/submission_210120.h5ad')\n",
    "# adata_reynolds_fb = adata_reynolds[(adata_reynolds.obs['full_clustering'].isin(['F1', 'F2', 'F3'])) & \n",
    "#                                    (adata_reynolds.obs['Status'] == 'Healthy')]\n",
    "# sc.pp.filter_genes(adata_reynolds_fb, min_counts=100)\n",
    "# del adata_reynolds_fb.var\n",
    "\n",
    "# for obs in ['mad_prd', 'Status', 'Site', 'Tissue', 'Enrichment', 'Location', 'Sex', 'Age', 'stage']:\n",
    "#     del adata_reynolds_fb.obs[obs]\n",
    "    \n",
    "# adata_reynolds_fb.write_h5ad(reynolds_dir + '/reynolds_2020_fb_healthy.h5ad')"
   ]
  },
  {
   "cell_type": "markdown",
   "id": "favorite-justice",
   "metadata": {},
   "source": [
    "### Direct h5ad download"
   ]
  },
  {
   "cell_type": "code",
   "execution_count": null,
   "id": "sought-elite",
   "metadata": {},
   "outputs": [],
   "source": [
    "adata_reynolds_fb_healthy = sc.read(reynolds_dir + '/reynolds_2020_fb_healthy.h5ad', \n",
    "                                    backup_url='https://zenodo.org/record/4605340/files/reynolds_2020_fb_healthy.h5ad?download=1')"
   ]
  },
  {
   "cell_type": "code",
   "execution_count": null,
   "id": "agricultural-found",
   "metadata": {},
   "outputs": [],
   "source": [
    "sc.pp.filter_genes(adata_reynolds_fb_healthy, min_counts=50)"
   ]
  },
  {
   "cell_type": "code",
   "execution_count": null,
   "id": "vital-former",
   "metadata": {},
   "outputs": [],
   "source": [
    "sc.pp.log1p(adata_reynolds_fb_healthy)\n",
    "sc.pp.normalize_total(adata_reynolds_fb_healthy)"
   ]
  },
  {
   "cell_type": "code",
   "execution_count": null,
   "id": "blessed-communications",
   "metadata": {},
   "outputs": [],
   "source": [
    "df_batches = pd.DataFrame(np.unique(adata_reynolds_fb_healthy.obs['sample_id'], return_counts=True)).transpose()"
   ]
  },
  {
   "cell_type": "code",
   "execution_count": null,
   "id": "fatal-superior",
   "metadata": {},
   "outputs": [],
   "source": [
    "df_batches.sort_values(by=1, ascending=False)"
   ]
  },
  {
   "cell_type": "code",
   "execution_count": null,
   "id": "allied-division",
   "metadata": {},
   "outputs": [],
   "source": [
    "selected_samples = df_batches[df_batches[1] > 50][0].values"
   ]
  },
  {
   "cell_type": "code",
   "execution_count": null,
   "id": "solid-progressive",
   "metadata": {},
   "outputs": [],
   "source": [
    "adata_reynolds_fb_healthy = adata_reynolds_fb_healthy[adata_reynolds_fb_healthy.obs['sample_id'].isin(selected_samples)]  #selected_samples)]"
   ]
  },
  {
   "cell_type": "code",
   "execution_count": null,
   "id": "pediatric-michigan",
   "metadata": {},
   "outputs": [],
   "source": [
    "adata_reynolds_fb_healthy"
   ]
  },
  {
   "cell_type": "code",
   "execution_count": null,
   "id": "centered-memory",
   "metadata": {},
   "outputs": [],
   "source": [
    "sc.pp.filter_genes(adata_reynolds_fb_healthy, min_counts=1)"
   ]
  },
  {
   "cell_type": "code",
   "execution_count": null,
   "id": "parallel-bunch",
   "metadata": {},
   "outputs": [],
   "source": [
    "sc.pp.pca(adata_reynolds_fb_healthy, random_state=seed, n_comps=30)\n",
    "sce.pp.bbknn(adata_reynolds_fb_healthy, metric='angular', batch_key='sample_id')\n",
    "tk.tl.triku(adata_reynolds_fb_healthy, n_procs=1, random_state=seed, use_adata_knn=True)"
   ]
  },
  {
   "cell_type": "code",
   "execution_count": null,
   "id": "nasty-russia",
   "metadata": {},
   "outputs": [],
   "source": [
    "sc.tl.umap(adata_reynolds_fb_healthy, min_dist=0.1, random_state=seed)"
   ]
  },
  {
   "cell_type": "code",
   "execution_count": null,
   "id": "opposed-calendar",
   "metadata": {},
   "outputs": [],
   "source": [
    "sc.tl.leiden(adata_reynolds_fb_healthy, resolution=1.5, random_state=seed)"
   ]
  },
  {
   "cell_type": "code",
   "execution_count": null,
   "id": "abroad-personality",
   "metadata": {},
   "outputs": [],
   "source": [
    "sc.pl.umap(adata_reynolds_fb_healthy, color=['leiden', 'sample_id', 'full_clustering'], legend_loc='on data')"
   ]
  },
  {
   "cell_type": "code",
   "execution_count": null,
   "id": "diverse-communist",
   "metadata": {},
   "outputs": [],
   "source": [
    "sc.pl.umap(adata_reynolds_fb_healthy, color=['APCDD1', 'COL18A1', 'COMP', 'SLPI', 'WIF1'], cmap=magma, use_raw=False)"
   ]
  },
  {
   "cell_type": "code",
   "execution_count": null,
   "id": "important-corruption",
   "metadata": {},
   "outputs": [],
   "source": [
    "sc.pl.umap(adata_reynolds_fb_healthy, color=['MT2A', 'CCL19', 'CCL2', 'CD46'], cmap=magma, use_raw=False)"
   ]
  },
  {
   "cell_type": "code",
   "execution_count": null,
   "id": "fabulous-proposition",
   "metadata": {},
   "outputs": [],
   "source": [
    "sc.pl.umap(adata_reynolds_fb_healthy, color=['POSTN', 'COMP', 'COCH'], cmap=magma, use_raw=False)"
   ]
  },
  {
   "cell_type": "markdown",
   "id": "assigned-dancing",
   "metadata": {},
   "source": [
    "## 4820STDY7388991 (S1)"
   ]
  },
  {
   "cell_type": "markdown",
   "id": "specified-devon",
   "metadata": {},
   "source": [
    "### Reynolds preprocessed"
   ]
  },
  {
   "cell_type": "code",
   "execution_count": null,
   "id": "solved-active",
   "metadata": {},
   "outputs": [],
   "source": [
    "adata_reynolds_fb_4820STDY7388991 = adata_reynolds_fb_healthy[adata_reynolds_fb_healthy.obs['sample_id'].isin(['4820STDY7388991'])]  #selected_samples)]"
   ]
  },
  {
   "cell_type": "code",
   "execution_count": null,
   "id": "instrumental-christmas",
   "metadata": {},
   "outputs": [],
   "source": [
    "adata_reynolds_fb_4820STDY7388991"
   ]
  },
  {
   "cell_type": "code",
   "execution_count": null,
   "id": "private-girlfriend",
   "metadata": {},
   "outputs": [],
   "source": [
    "sc.pp.filter_genes(adata_reynolds_fb_4820STDY7388991, min_counts=1)\n",
    "adata_reynolds_fb_4820STDY7388991 = adata_reynolds_fb_4820STDY7388991[:, adata_reynolds_fb_4820STDY7388991.var_names != 'C3']"
   ]
  },
  {
   "cell_type": "code",
   "execution_count": null,
   "id": "boring-encoding",
   "metadata": {},
   "outputs": [],
   "source": [
    "sc.pp.pca(adata_reynolds_fb_4820STDY7388991, random_state=seed, n_comps=30)\n",
    "tk.tl.triku(adata_reynolds_fb_4820STDY7388991, n_procs=1, random_state=seed, use_adata_knn=True)\n",
    "sc.pp.neighbors(adata_reynolds_fb_4820STDY7388991, metric='cosine', random_state=seed)"
   ]
  },
  {
   "cell_type": "code",
   "execution_count": null,
   "id": "canadian-hearts",
   "metadata": {},
   "outputs": [],
   "source": [
    "sc.tl.umap(adata_reynolds_fb_4820STDY7388991, min_dist=0.3, random_state=seed)"
   ]
  },
  {
   "cell_type": "code",
   "execution_count": null,
   "id": "robust-screen",
   "metadata": {},
   "outputs": [],
   "source": [
    "sc.tl.leiden(adata_reynolds_fb_4820STDY7388991, resolution=1, random_state=seed)"
   ]
  },
  {
   "cell_type": "code",
   "execution_count": null,
   "id": "western-liechtenstein",
   "metadata": {},
   "outputs": [],
   "source": [
    "sc.pl.umap(adata_reynolds_fb_4820STDY7388991, color=['leiden', 'sample_id', 'full_clustering'], legend_loc='on data')"
   ]
  },
  {
   "cell_type": "code",
   "execution_count": null,
   "id": "suffering-newton",
   "metadata": {},
   "outputs": [],
   "source": [
    "sc.pl.umap(adata_reynolds_fb_4820STDY7388991, color=['APCDD1', 'COL18A1', 'COMP', 'SLPI', 'WIF1'], cmap=magma, use_raw=False)"
   ]
  },
  {
   "cell_type": "code",
   "execution_count": null,
   "id": "exclusive-surface",
   "metadata": {},
   "outputs": [],
   "source": [
    "sc.pl.umap(adata_reynolds_fb_4820STDY7388991, color=['MT2A', 'CCL19', 'CCL2', 'CD46'], cmap=magma, use_raw=False)"
   ]
  },
  {
   "cell_type": "code",
   "execution_count": null,
   "id": "characteristic-blade",
   "metadata": {},
   "outputs": [],
   "source": [
    "sc.pl.umap(adata_reynolds_fb_4820STDY7388991, color=['POSTN', 'COMP', 'COCH'], cmap=magma, use_raw=False)"
   ]
  },
  {
   "cell_type": "markdown",
   "id": "planned-error",
   "metadata": {},
   "source": [
    "### Direct loom"
   ]
  },
  {
   "cell_type": "code",
   "execution_count": null,
   "id": "specialized-closing",
   "metadata": {},
   "outputs": [],
   "source": [
    "adata_reynolds_fb_4820STDY7388991_loom = sc.read('reynolds_2020/reynolds_2020_0_4820STDY7388991_s1_dermis_fibroblasts.loom', \n",
    "                                                 backup_url='https://zenodo.org/record/4596375/files/reynolds_2020_0_4820STDY7388991_s1_dermis_fibroblasts.loom')\n",
    "adata_reynolds_fb_4820STDY7388991_loom.var_names_make_unique()\n",
    "\n",
    "adata_reynolds_fb_4820STDY7388991_loom = adata_reynolds_fb_4820STDY7388991_loom[:, adata_reynolds_fb_4820STDY7388991_loom.var_names != 'C3']"
   ]
  },
  {
   "cell_type": "code",
   "execution_count": null,
   "id": "advance-moses",
   "metadata": {},
   "outputs": [],
   "source": [
    "adata_reynolds_fb_4820STDY7388991_loom.obs_names = [f\"{i.split('_')[-1]}-1-{i.split('_')[1]}\" for i in adata_reynolds_fb_4820STDY7388991_loom.obs_names]"
   ]
  },
  {
   "cell_type": "code",
   "execution_count": null,
   "id": "dental-roads",
   "metadata": {},
   "outputs": [],
   "source": [
    "df_fb_type = pd.Series('-', index=adata_reynolds_fb_4820STDY7388991_loom.obs_names)\n",
    "df_fb_type.loc[adata_reynolds_fb_4820STDY7388991.obs_names & adata_reynolds_fb_4820STDY7388991_loom.obs_names] = adata_reynolds_fb_4820STDY7388991[adata_reynolds_fb_4820STDY7388991.obs_names & adata_reynolds_fb_4820STDY7388991_loom.obs_names].obs['full_clustering']\n",
    "adata_reynolds_fb_4820STDY7388991_loom.obs['science_clustering'] = df_fb_type"
   ]
  },
  {
   "cell_type": "code",
   "execution_count": null,
   "id": "native-explosion",
   "metadata": {},
   "outputs": [],
   "source": [
    "sc.pp.calculate_qc_metrics(adata_reynolds_fb_4820STDY7388991_loom, inplace=True)"
   ]
  },
  {
   "cell_type": "code",
   "execution_count": null,
   "id": "traditional-breast",
   "metadata": {},
   "outputs": [],
   "source": [
    "sc.pl.violin(adata_reynolds_fb_4820STDY7388991_loom, ['n_genes_by_counts'])\n",
    "sc.pl.violin(adata_reynolds_fb_4820STDY7388991_loom, ['log1p_total_counts'])"
   ]
  },
  {
   "cell_type": "code",
   "execution_count": null,
   "id": "forward-appreciation",
   "metadata": {},
   "outputs": [],
   "source": [
    "sc.pp.filter_genes(adata_reynolds_fb_4820STDY7388991_loom, min_counts=30)\n",
    "adata_reynolds_fb_4820STDY7388991_loom.raw = adata_reynolds_fb_4820STDY7388991_loom"
   ]
  },
  {
   "cell_type": "code",
   "execution_count": null,
   "id": "attached-parts",
   "metadata": {},
   "outputs": [],
   "source": [
    "sc.pp.normalize_per_cell(adata_reynolds_fb_4820STDY7388991_loom)\n",
    "sc.pp.log1p(adata_reynolds_fb_4820STDY7388991_loom)"
   ]
  },
  {
   "cell_type": "code",
   "execution_count": null,
   "id": "cheap-riding",
   "metadata": {},
   "outputs": [],
   "source": [
    "sc.pp.pca(adata_reynolds_fb_4820STDY7388991_loom, random_state=seed, n_comps=30)\n",
    "tk.tl.triku(adata_reynolds_fb_4820STDY7388991_loom, n_procs=1, random_state=seed, use_adata_knn=True)\n",
    "sc.pp.neighbors(adata_reynolds_fb_4820STDY7388991_loom, metric='cosine', random_state=seed)"
   ]
  },
  {
   "cell_type": "code",
   "execution_count": null,
   "id": "transparent-polls",
   "metadata": {},
   "outputs": [],
   "source": [
    "sc.tl.umap(adata_reynolds_fb_4820STDY7388991_loom, min_dist=0.3, random_state=seed)\n",
    "sc.tl.leiden(adata_reynolds_fb_4820STDY7388991_loom, resolution=3.2, random_state=seed)"
   ]
  },
  {
   "cell_type": "code",
   "execution_count": null,
   "id": "herbal-explosion",
   "metadata": {},
   "outputs": [],
   "source": [
    "sc.pl.umap(adata_reynolds_fb_4820STDY7388991_loom, color=['leiden', 'science_clustering'], legend_loc='on data')"
   ]
  },
  {
   "cell_type": "code",
   "execution_count": null,
   "id": "prerequisite-roulette",
   "metadata": {},
   "outputs": [],
   "source": [
    "sc.pl.umap(adata_reynolds_fb_4820STDY7388991_loom, color=['LUM', 'PDGFRA', 'VIM', 'DCN', 'COL1A1', 'SFRP2', 'APOE', 'POSTN'], legend_loc='on data', cmap=magma)"
   ]
  },
  {
   "cell_type": "code",
   "execution_count": null,
   "id": "received-albany",
   "metadata": {},
   "outputs": [],
   "source": [
    "sc.tl.rank_genes_groups(adata_reynolds_fb_4820STDY7388991_loom, groupby='leiden')\n",
    "sc.pl.rank_genes_groups(adata_reynolds_fb_4820STDY7388991_loom)"
   ]
  },
  {
   "cell_type": "code",
   "execution_count": null,
   "id": "cross-arthritis",
   "metadata": {},
   "outputs": [],
   "source": [
    "dict_cat = {'fb': ['LUM', 'PDGFRA', 'COL1A1'], 'peri': ['RGS5', 'MYL9', 'NDUFA4L2'], 'eritro': ['HBB', 'HBA2', 'HBA1'], \n",
    "            'immune': ['TPSB2', 'TPSAB1', 'HLA-DRA', 'FCER1G', 'CD74'], 'melanocyte': ['PMEL', 'MLANA'], \n",
    "            'mt': ['MTND2P28', 'MTND4P12', 'MTCO1P40', 'ADAM33', 'RN7SL2', 'MTRNR2L6']}\n",
    "\n",
    "assign_cats(adata_reynolds_fb_4820STDY7388991_loom, dict_cat)"
   ]
  },
  {
   "cell_type": "code",
   "execution_count": null,
   "id": "eight-shame",
   "metadata": {},
   "outputs": [],
   "source": [
    "sc.pl.umap(adata_reynolds_fb_4820STDY7388991_loom, color=['leiden', 'science_clustering', 'assigned_cats'], legend_loc='on data', cmap=magma)"
   ]
  },
  {
   "cell_type": "code",
   "execution_count": null,
   "id": "collected-legislation",
   "metadata": {},
   "outputs": [],
   "source": [
    "adata_reynolds_fb_4820STDY7388991_loom_fb = adata_reynolds_fb_4820STDY7388991_loom[adata_reynolds_fb_4820STDY7388991_loom.obs['assigned_cats'] == 'fb']"
   ]
  },
  {
   "cell_type": "code",
   "execution_count": null,
   "id": "compliant-bachelor",
   "metadata": {},
   "outputs": [],
   "source": [
    "sc.pp.filter_genes(adata_reynolds_fb_4820STDY7388991_loom_fb, min_counts=1)"
   ]
  },
  {
   "cell_type": "code",
   "execution_count": null,
   "id": "medium-journalist",
   "metadata": {},
   "outputs": [],
   "source": [
    "sc.pp.pca(adata_reynolds_fb_4820STDY7388991_loom_fb, random_state=seed, n_comps=30)\n",
    "tk.tl.triku(adata_reynolds_fb_4820STDY7388991_loom_fb, n_procs=1, random_state=seed, use_adata_knn=True)\n",
    "sc.pp.neighbors(adata_reynolds_fb_4820STDY7388991_loom_fb, metric='cosine', random_state=seed)"
   ]
  },
  {
   "cell_type": "code",
   "execution_count": null,
   "id": "happy-metropolitan",
   "metadata": {},
   "outputs": [],
   "source": [
    "sc.tl.umap(adata_reynolds_fb_4820STDY7388991_loom_fb, min_dist=0.2, random_state=seed)\n",
    "sc.tl.leiden(adata_reynolds_fb_4820STDY7388991_loom_fb, resolution=1, random_state=seed)"
   ]
  },
  {
   "cell_type": "code",
   "execution_count": null,
   "id": "ceramic-forest",
   "metadata": {},
   "outputs": [],
   "source": [
    "sc.pl.umap(adata_reynolds_fb_4820STDY7388991_loom_fb, color=['leiden', 'science_clustering'], cmap=magma, use_raw=False, legend_loc='on data')"
   ]
  },
  {
   "cell_type": "code",
   "execution_count": null,
   "id": "blind-classics",
   "metadata": {},
   "outputs": [],
   "source": [
    "sc.pl.umap(adata_reynolds_fb_4820STDY7388991_loom_fb, color=['leiden', 'SFRP2', 'PI16', 'SLPI', 'WIF1', 'COL18A1', 'COMP', \n",
    "                                               'APOE', 'CCL2',  'ITM2A', 'SPSB1', \n",
    "                                               'CCDC146', 'CCL19', 'CD74', \n",
    "                                               'DKK3', 'TNN', 'SFRP1', 'POSTN'], cmap=magma, use_raw=False, legend_loc='on data')"
   ]
  },
  {
   "cell_type": "markdown",
   "id": "judicial-literature",
   "metadata": {},
   "source": [
    "## 4820STDY7388999 (S2)"
   ]
  },
  {
   "cell_type": "markdown",
   "id": "logical-constitutional",
   "metadata": {},
   "source": [
    "### Reynolds preprocessed"
   ]
  },
  {
   "cell_type": "code",
   "execution_count": null,
   "id": "wrong-detector",
   "metadata": {},
   "outputs": [],
   "source": [
    "adata_reynolds_fb_4820STDY7388999 = adata_reynolds_fb_healthy[adata_reynolds_fb_healthy.obs['sample_id'].isin(['4820STDY7388999'])]  #selected_samples)]"
   ]
  },
  {
   "cell_type": "code",
   "execution_count": null,
   "id": "still-louisiana",
   "metadata": {},
   "outputs": [],
   "source": [
    "adata_reynolds_fb_4820STDY7388999"
   ]
  },
  {
   "cell_type": "code",
   "execution_count": null,
   "id": "static-refund",
   "metadata": {},
   "outputs": [],
   "source": [
    "sc.pp.filter_genes(adata_reynolds_fb_4820STDY7388999, min_counts=1)\n",
    "adata_reynolds_fb_4820STDY7388999 = adata_reynolds_fb_4820STDY7388999[:, adata_reynolds_fb_4820STDY7388999.var_names != 'C3']"
   ]
  },
  {
   "cell_type": "code",
   "execution_count": null,
   "id": "discrete-awareness",
   "metadata": {},
   "outputs": [],
   "source": [
    "sc.pp.pca(adata_reynolds_fb_4820STDY7388999, random_state=seed, n_comps=30)\n",
    "tk.tl.triku(adata_reynolds_fb_4820STDY7388999, n_procs=1, random_state=seed, use_adata_knn=True)\n",
    "sc.pp.neighbors(adata_reynolds_fb_4820STDY7388999, metric='cosine', random_state=seed)"
   ]
  },
  {
   "cell_type": "code",
   "execution_count": null,
   "id": "colored-fleece",
   "metadata": {},
   "outputs": [],
   "source": [
    "sc.tl.umap(adata_reynolds_fb_4820STDY7388999, min_dist=0.3, random_state=seed)"
   ]
  },
  {
   "cell_type": "code",
   "execution_count": null,
   "id": "nutritional-hudson",
   "metadata": {},
   "outputs": [],
   "source": [
    "sc.tl.leiden(adata_reynolds_fb_4820STDY7388999, resolution=1, random_state=seed)"
   ]
  },
  {
   "cell_type": "code",
   "execution_count": null,
   "id": "secret-egyptian",
   "metadata": {},
   "outputs": [],
   "source": [
    "sc.pl.umap(adata_reynolds_fb_4820STDY7388999, color=['leiden', 'sample_id', 'full_clustering'], legend_loc='on data')"
   ]
  },
  {
   "cell_type": "code",
   "execution_count": null,
   "id": "reported-biotechnology",
   "metadata": {},
   "outputs": [],
   "source": [
    "sc.pl.umap(adata_reynolds_fb_4820STDY7388999, color=['APCDD1', 'COL18A1', 'COMP', 'SLPI', 'WIF1'], cmap=magma, use_raw=False)"
   ]
  },
  {
   "cell_type": "code",
   "execution_count": null,
   "id": "worth-start",
   "metadata": {},
   "outputs": [],
   "source": [
    "sc.pl.umap(adata_reynolds_fb_4820STDY7388999, color=['MT2A', 'CCL19', 'CCL2', 'CD46'], cmap=magma, use_raw=False)"
   ]
  },
  {
   "cell_type": "code",
   "execution_count": null,
   "id": "corrected-plane",
   "metadata": {},
   "outputs": [],
   "source": [
    "sc.pl.umap(adata_reynolds_fb_4820STDY7388999, color=['POSTN', 'COMP', 'COCH'], cmap=magma, use_raw=False)"
   ]
  },
  {
   "cell_type": "markdown",
   "id": "recognized-wisdom",
   "metadata": {},
   "source": [
    "### Direct loom"
   ]
  },
  {
   "cell_type": "code",
   "execution_count": null,
   "id": "dress-mediterranean",
   "metadata": {},
   "outputs": [],
   "source": [
    "adata_reynolds_fb_4820STDY7388999_loom = sc.read('reynolds_2020/reynolds_2020_8_4820STDY7388999_s2_dermis_fibroblasts.loom', \n",
    "                                                 backup_url='https://zenodo.org/record/4596375/files/reynolds_2020_8_4820STDY7388999_s2_dermis_fibroblasts.loom')\n",
    "\n",
    "adata_reynolds_fb_4820STDY7388999_loom.var_names_make_unique()\n",
    "adata_reynolds_fb_4820STDY7388999_loom = adata_reynolds_fb_4820STDY7388999_loom[:, adata_reynolds_fb_4820STDY7388999_loom.var_names != 'C3']"
   ]
  },
  {
   "cell_type": "code",
   "execution_count": null,
   "id": "rubber-climate",
   "metadata": {},
   "outputs": [],
   "source": [
    "adata_reynolds_fb_4820STDY7388999_loom.obs_names = [f\"{i.split('_')[-1]}-1-{i.split('_')[1]}\" for i in adata_reynolds_fb_4820STDY7388999_loom.obs_names]"
   ]
  },
  {
   "cell_type": "code",
   "execution_count": null,
   "id": "dedicated-amendment",
   "metadata": {},
   "outputs": [],
   "source": [
    "df_fb_type = pd.Series('Other', index=adata_reynolds_fb_4820STDY7388999_loom.obs_names)\n",
    "df_fb_type.loc[adata_reynolds_fb_4820STDY7388999.obs_names & adata_reynolds_fb_4820STDY7388999_loom.obs_names] = adata_reynolds_fb_4820STDY7388999[adata_reynolds_fb_4820STDY7388999.obs_names & adata_reynolds_fb_4820STDY7388999_loom.obs_names].obs['full_clustering']\n",
    "adata_reynolds_fb_4820STDY7388999_loom.obs['science_clustering'] = df_fb_type"
   ]
  },
  {
   "cell_type": "code",
   "execution_count": null,
   "id": "political-cisco",
   "metadata": {},
   "outputs": [],
   "source": [
    "sc.pp.calculate_qc_metrics(adata_reynolds_fb_4820STDY7388999_loom, inplace=True)"
   ]
  },
  {
   "cell_type": "code",
   "execution_count": null,
   "id": "dominican-pearl",
   "metadata": {},
   "outputs": [],
   "source": [
    "sc.pl.violin(adata_reynolds_fb_4820STDY7388999_loom, ['n_genes_by_counts'])\n",
    "sc.pl.violin(adata_reynolds_fb_4820STDY7388999_loom, ['log1p_total_counts'])"
   ]
  },
  {
   "cell_type": "code",
   "execution_count": null,
   "id": "graphic-schema",
   "metadata": {},
   "outputs": [],
   "source": [
    "sc.pp.filter_genes(adata_reynolds_fb_4820STDY7388999_loom, min_counts=30)\n",
    "adata_reynolds_fb_4820STDY7388999_loom.raw = adata_reynolds_fb_4820STDY7388999_loom"
   ]
  },
  {
   "cell_type": "code",
   "execution_count": null,
   "id": "dominant-staff",
   "metadata": {},
   "outputs": [],
   "source": [
    "sc.pp.normalize_per_cell(adata_reynolds_fb_4820STDY7388999_loom)\n",
    "sc.pp.log1p(adata_reynolds_fb_4820STDY7388999_loom)"
   ]
  },
  {
   "cell_type": "code",
   "execution_count": null,
   "id": "dynamic-skirt",
   "metadata": {},
   "outputs": [],
   "source": [
    "sc.pp.pca(adata_reynolds_fb_4820STDY7388999_loom, random_state=seed, n_comps=30)\n",
    "tk.tl.triku(adata_reynolds_fb_4820STDY7388999_loom, n_procs=1, random_state=seed, use_adata_knn=True)\n",
    "sc.pp.neighbors(adata_reynolds_fb_4820STDY7388999_loom, metric='cosine', random_state=seed)"
   ]
  },
  {
   "cell_type": "code",
   "execution_count": null,
   "id": "stopped-convention",
   "metadata": {},
   "outputs": [],
   "source": [
    "sc.tl.umap(adata_reynolds_fb_4820STDY7388999_loom, min_dist=0.3, random_state=seed)\n",
    "sc.tl.leiden(adata_reynolds_fb_4820STDY7388999_loom, resolution=0.5, random_state=seed)"
   ]
  },
  {
   "cell_type": "code",
   "execution_count": null,
   "id": "fewer-petroleum",
   "metadata": {},
   "outputs": [],
   "source": [
    "sc.pl.umap(adata_reynolds_fb_4820STDY7388999_loom, color=['leiden', 'science_clustering'], legend_loc='on data')"
   ]
  },
  {
   "cell_type": "code",
   "execution_count": null,
   "id": "brave-collective",
   "metadata": {},
   "outputs": [],
   "source": [
    "sc.pl.umap(adata_reynolds_fb_4820STDY7388999_loom, color=['LUM', 'PDGFRA', 'VIM', 'COL1A1', 'SFRP2', 'APOE', 'POSTN'], legend_loc='on data', cmap=magma)"
   ]
  },
  {
   "cell_type": "code",
   "execution_count": null,
   "id": "hawaiian-democracy",
   "metadata": {},
   "outputs": [],
   "source": [
    "sc.pl.umap(adata_reynolds_fb_4820STDY7388999_loom, color=['leiden', 'SFRP2', 'PI16', 'SLPI', 'WIF1', 'COL18A1', 'COMP', \n",
    "                                               'APOE', 'CCL2',  'ITM2A', 'SPSB1', \n",
    "                                               'CCDC146', 'CCL19', 'CD74', \n",
    "                                               'DKK3', 'TNN', 'SFRP1'], cmap=magma, use_raw=False, legend_loc='on data')"
   ]
  },
  {
   "cell_type": "code",
   "execution_count": null,
   "id": "immune-belarus",
   "metadata": {},
   "outputs": [],
   "source": [
    "sc.pl.umap(adata_reynolds_fb_4820STDY7388999_loom, color=['leiden', \n",
    "                                                          'DMKN', 'KRT1'], cmap=magma, use_raw=False, legend_loc='on data')"
   ]
  },
  {
   "cell_type": "code",
   "execution_count": null,
   "id": "found-russian",
   "metadata": {},
   "outputs": [],
   "source": [
    "dict_cat = {'fb': ['LUM', 'PDGFRA', 'COL1A1', 'SFRP2', 'CCL19'], 'peri': ['RGS5', 'MYL9', 'NDUFA4L2'], 'eritro': ['HBB', 'HBA2', 'HBA1'], \n",
    "            'immune': ['TPSB2', 'TRAC', 'TPSAB1', 'HLA-DRA', 'FCER1G', 'CD74'], 'endo': ['CLDN5', 'PECAM1'], 'kerato': ['DMKN', 'KRT1'],\n",
    "            'mt': ['MTND2P28', 'MTND4P12', 'MTCO1P40', 'ADAM33', 'RN7SL2', 'MTRNR2L6']}\n",
    "\n",
    "assign_cats(adata_reynolds_fb_4820STDY7388999_loom, dict_cat)"
   ]
  },
  {
   "cell_type": "code",
   "execution_count": null,
   "id": "centered-resource",
   "metadata": {},
   "outputs": [],
   "source": [
    "sc.pl.umap(adata_reynolds_fb_4820STDY7388999_loom, color=['leiden', 'science_clustering', 'assigned_cats'], legend_loc='on data', cmap=magma)"
   ]
  },
  {
   "cell_type": "code",
   "execution_count": null,
   "id": "still-words",
   "metadata": {},
   "outputs": [],
   "source": [
    "sc.tl.rank_genes_groups(adata_reynolds_fb_4820STDY7388999_loom, groupby='leiden')\n",
    "sc.pl.rank_genes_groups(adata_reynolds_fb_4820STDY7388999_loom)"
   ]
  },
  {
   "cell_type": "code",
   "execution_count": null,
   "id": "silent-consultancy",
   "metadata": {},
   "outputs": [],
   "source": [
    "adata_reynolds_fb_4820STDY7388999_loom = adata_reynolds_fb_4820STDY7388999_loom[adata_reynolds_fb_4820STDY7388999_loom.obs['assigned_cats'] == 'fb']"
   ]
  },
  {
   "cell_type": "code",
   "execution_count": null,
   "id": "interracial-solomon",
   "metadata": {},
   "outputs": [],
   "source": [
    "sc.pp.filter_genes(adata_reynolds_fb_4820STDY7388999_loom, min_counts=1)"
   ]
  },
  {
   "cell_type": "code",
   "execution_count": null,
   "id": "binary-robert",
   "metadata": {},
   "outputs": [],
   "source": [
    "sc.pp.pca(adata_reynolds_fb_4820STDY7388999_loom, random_state=seed, n_comps=30)\n",
    "tk.tl.triku(adata_reynolds_fb_4820STDY7388999_loom, n_procs=1, random_state=seed, use_adata_knn=True)\n",
    "sc.pp.neighbors(adata_reynolds_fb_4820STDY7388999_loom, metric='cosine', random_state=seed)"
   ]
  },
  {
   "cell_type": "code",
   "execution_count": null,
   "id": "israeli-employment",
   "metadata": {},
   "outputs": [],
   "source": [
    "sc.tl.umap(adata_reynolds_fb_4820STDY7388999_loom, min_dist=0.05, random_state=seed)\n",
    "sc.tl.leiden(adata_reynolds_fb_4820STDY7388999_loom, resolution=1.2, random_state=seed)"
   ]
  },
  {
   "cell_type": "code",
   "execution_count": null,
   "id": "social-thompson",
   "metadata": {},
   "outputs": [],
   "source": [
    "sc.pl.umap(adata_reynolds_fb_4820STDY7388999_loom, color=['leiden', 'science_clustering'], cmap=magma, use_raw=False, legend_loc='on data')"
   ]
  },
  {
   "cell_type": "code",
   "execution_count": null,
   "id": "competent-practice",
   "metadata": {},
   "outputs": [],
   "source": [
    "sc.pl.umap(adata_reynolds_fb_4820STDY7388999_loom, color=['leiden', 'SFRP2', 'PI16', 'SLPI', 'WIF1', 'COL18A1', 'COMP', \n",
    "                                               'APOE', 'CCL2',  'ITM2A', 'SPSB1', \n",
    "                                               'CCDC146', 'CCL19', 'CD74', \n",
    "                                               'DKK3', 'TNN', 'SFRP1', 'EDNRB', 'IGFBP7'], cmap=magma, use_raw=False, legend_loc='on data')"
   ]
  },
  {
   "cell_type": "code",
   "execution_count": null,
   "id": "tamil-bruce",
   "metadata": {},
   "outputs": [],
   "source": [
    "sc.tl.rank_genes_groups(adata_reynolds_fb_4820STDY7388999_loom, groupby='leiden')"
   ]
  },
  {
   "cell_type": "code",
   "execution_count": null,
   "id": "objective-newsletter",
   "metadata": {},
   "outputs": [],
   "source": [
    "sc.pl.rank_genes_groups(adata_reynolds_fb_4820STDY7388999_loom)"
   ]
  },
  {
   "cell_type": "markdown",
   "id": "elegant-bangladesh",
   "metadata": {},
   "source": [
    "## 4820STDY7389007 (S3)"
   ]
  },
  {
   "cell_type": "markdown",
   "id": "concerned-stone",
   "metadata": {},
   "source": [
    "### Reynolds preprocessed"
   ]
  },
  {
   "cell_type": "code",
   "execution_count": null,
   "id": "copyrighted-student",
   "metadata": {},
   "outputs": [],
   "source": [
    "adata_reynolds_fb_4820STDY7389007 = adata_reynolds_fb_healthy[adata_reynolds_fb_healthy.obs['sample_id'].isin(['4820STDY7389007'])]  #selected_samples)]"
   ]
  },
  {
   "cell_type": "code",
   "execution_count": null,
   "id": "italic-fitting",
   "metadata": {},
   "outputs": [],
   "source": [
    "adata_reynolds_fb_4820STDY7389007"
   ]
  },
  {
   "cell_type": "code",
   "execution_count": null,
   "id": "canadian-glance",
   "metadata": {},
   "outputs": [],
   "source": [
    "sc.pp.filter_genes(adata_reynolds_fb_4820STDY7389007, min_counts=1)\n",
    "adata_reynolds_fb_4820STDY7389007 = adata_reynolds_fb_4820STDY7389007[:, adata_reynolds_fb_4820STDY7389007.var_names != 'C3']"
   ]
  },
  {
   "cell_type": "code",
   "execution_count": null,
   "id": "quality-assets",
   "metadata": {},
   "outputs": [],
   "source": [
    "sc.pp.pca(adata_reynolds_fb_4820STDY7389007, random_state=seed, n_comps=30)\n",
    "tk.tl.triku(adata_reynolds_fb_4820STDY7389007, n_procs=1, random_state=seed, use_adata_knn=True)\n",
    "sc.pp.neighbors(adata_reynolds_fb_4820STDY7389007, metric='cosine', random_state=seed)"
   ]
  },
  {
   "cell_type": "code",
   "execution_count": null,
   "id": "functional-kelly",
   "metadata": {},
   "outputs": [],
   "source": [
    "sc.tl.umap(adata_reynolds_fb_4820STDY7389007, min_dist=0.3, random_state=seed)"
   ]
  },
  {
   "cell_type": "code",
   "execution_count": null,
   "id": "complicated-hearing",
   "metadata": {},
   "outputs": [],
   "source": [
    "sc.tl.leiden(adata_reynolds_fb_4820STDY7389007, resolution=1, random_state=seed)"
   ]
  },
  {
   "cell_type": "code",
   "execution_count": null,
   "id": "going-block",
   "metadata": {},
   "outputs": [],
   "source": [
    "sc.pl.umap(adata_reynolds_fb_4820STDY7389007, color=['leiden', 'sample_id', 'full_clustering'], legend_loc='on data')"
   ]
  },
  {
   "cell_type": "code",
   "execution_count": null,
   "id": "common-retirement",
   "metadata": {},
   "outputs": [],
   "source": [
    "sc.pl.umap(adata_reynolds_fb_4820STDY7389007, color=['APCDD1', 'COL18A1', 'COMP', 'SLPI', 'WIF1'], cmap=magma, use_raw=False)"
   ]
  },
  {
   "cell_type": "code",
   "execution_count": null,
   "id": "wound-citizen",
   "metadata": {},
   "outputs": [],
   "source": [
    "sc.pl.umap(adata_reynolds_fb_4820STDY7389007, color=['MT2A', 'CCL19', 'CCL2', 'CD46'], cmap=magma, use_raw=False)"
   ]
  },
  {
   "cell_type": "code",
   "execution_count": null,
   "id": "atmospheric-start",
   "metadata": {},
   "outputs": [],
   "source": [
    "sc.pl.umap(adata_reynolds_fb_4820STDY7389007, color=['POSTN', 'COMP', 'COCH'], cmap=magma, use_raw=False)"
   ]
  },
  {
   "cell_type": "markdown",
   "id": "rocky-vacation",
   "metadata": {},
   "source": [
    "### Direct loom"
   ]
  },
  {
   "cell_type": "code",
   "execution_count": null,
   "id": "surprising-ratio",
   "metadata": {},
   "outputs": [],
   "source": [
    "adata_reynolds_fb_4820STDY7389007_loom = sc.read('reynolds_2020/reynolds_2020_16_4820STDY7389007_s3_dermis_fibroblasts.loom', \n",
    "                                                 backup_url='https://zenodo.org/record/4596375/files/reynolds_2020_16_4820STDY7389007_s3_dermis_fibroblasts.loom')\n",
    "\n",
    "adata_reynolds_fb_4820STDY7389007_loom.var_names_make_unique()\n",
    "\n",
    "adata_reynolds_fb_4820STDY7389007_loom = adata_reynolds_fb_4820STDY7389007_loom[:, adata_reynolds_fb_4820STDY7389007_loom.var_names != 'C3']"
   ]
  },
  {
   "cell_type": "code",
   "execution_count": null,
   "id": "royal-smooth",
   "metadata": {},
   "outputs": [],
   "source": [
    "adata_reynolds_fb_4820STDY7389007_loom.obs_names = [f\"{i.split('_')[-1]}-1-{i.split('_')[1]}\" for i in adata_reynolds_fb_4820STDY7389007_loom.obs_names]"
   ]
  },
  {
   "cell_type": "code",
   "execution_count": null,
   "id": "casual-cigarette",
   "metadata": {},
   "outputs": [],
   "source": [
    "df_fb_type = pd.Series('-', index=adata_reynolds_fb_4820STDY7389007_loom.obs_names)\n",
    "df_fb_type.loc[adata_reynolds_fb_4820STDY7389007.obs_names & adata_reynolds_fb_4820STDY7389007_loom.obs_names] = adata_reynolds_fb_4820STDY7389007[adata_reynolds_fb_4820STDY7389007.obs_names & adata_reynolds_fb_4820STDY7389007_loom.obs_names].obs['full_clustering']\n",
    "adata_reynolds_fb_4820STDY7389007_loom.obs['science_clustering'] = df_fb_type"
   ]
  },
  {
   "cell_type": "code",
   "execution_count": null,
   "id": "consolidated-chicago",
   "metadata": {},
   "outputs": [],
   "source": [
    "sc.pp.calculate_qc_metrics(adata_reynolds_fb_4820STDY7389007_loom, inplace=True)"
   ]
  },
  {
   "cell_type": "code",
   "execution_count": null,
   "id": "veterinary-longitude",
   "metadata": {},
   "outputs": [],
   "source": [
    "sc.pl.violin(adata_reynolds_fb_4820STDY7389007_loom, ['n_genes_by_counts'])\n",
    "sc.pl.violin(adata_reynolds_fb_4820STDY7389007_loom, ['log1p_total_counts'])"
   ]
  },
  {
   "cell_type": "code",
   "execution_count": null,
   "id": "considerable-omega",
   "metadata": {},
   "outputs": [],
   "source": [
    "sc.pp.filter_genes(adata_reynolds_fb_4820STDY7389007_loom, min_counts=30)\n",
    "adata_reynolds_fb_4820STDY7389007_loom.raw = adata_reynolds_fb_4820STDY7389007_loom"
   ]
  },
  {
   "cell_type": "code",
   "execution_count": null,
   "id": "excessive-lecture",
   "metadata": {},
   "outputs": [],
   "source": [
    "sc.pp.normalize_per_cell(adata_reynolds_fb_4820STDY7389007_loom)\n",
    "sc.pp.log1p(adata_reynolds_fb_4820STDY7389007_loom)"
   ]
  },
  {
   "cell_type": "code",
   "execution_count": null,
   "id": "radio-ticket",
   "metadata": {},
   "outputs": [],
   "source": [
    "sc.pp.pca(adata_reynolds_fb_4820STDY7389007_loom, random_state=seed, n_comps=30)\n",
    "tk.tl.triku(adata_reynolds_fb_4820STDY7389007_loom, n_procs=1, random_state=seed, use_adata_knn=True)\n",
    "sc.pp.neighbors(adata_reynolds_fb_4820STDY7389007_loom, metric='cosine', random_state=seed)"
   ]
  },
  {
   "cell_type": "code",
   "execution_count": null,
   "id": "overhead-argument",
   "metadata": {},
   "outputs": [],
   "source": [
    "sc.tl.umap(adata_reynolds_fb_4820STDY7389007_loom, min_dist=0.3, random_state=seed)\n",
    "sc.tl.leiden(adata_reynolds_fb_4820STDY7389007_loom, resolution=0.8, random_state=seed)"
   ]
  },
  {
   "cell_type": "code",
   "execution_count": null,
   "id": "great-column",
   "metadata": {},
   "outputs": [],
   "source": [
    "sc.pl.umap(adata_reynolds_fb_4820STDY7389007_loom, color=['leiden', 'science_clustering'], legend_loc='on data')"
   ]
  },
  {
   "cell_type": "code",
   "execution_count": null,
   "id": "global-prisoner",
   "metadata": {},
   "outputs": [],
   "source": [
    "sc.pl.umap(adata_reynolds_fb_4820STDY7389007_loom, color=['LUM', 'PDGFRA', 'VIM', 'COL1A1', 'SFRP2', 'APOE', \n",
    "                                                          'POSTN', 'RGS5', 'MYL9', 'NDUFA4L2', 'HBB', \n",
    "                                                          'DMKN', 'KRT1', 'KRT5'], legend_loc='on data', cmap=magma)"
   ]
  },
  {
   "cell_type": "code",
   "execution_count": null,
   "id": "mathematical-significance",
   "metadata": {},
   "outputs": [],
   "source": [
    "sc.pl.umap(adata_reynolds_fb_4820STDY7389007_loom, color=['leiden', 'SFRP2', 'PI16', 'SLPI', 'WIF1', 'COL18A1', 'COMP', \n",
    "                                               'APOE', 'CCL2',  'ITM2A', 'SPSB1', \n",
    "                                               'CCDC146', 'CCL19', 'CD74'], cmap=magma, use_raw=False, legend_loc='on data')"
   ]
  },
  {
   "cell_type": "code",
   "execution_count": null,
   "id": "romance-blade",
   "metadata": {},
   "outputs": [],
   "source": [
    "dict_cat = {'fb': ['LUM', 'PDGFRA', 'COL1A1', 'SFRP2', 'CCL19'], 'peri': ['RGS5', 'MYL9', 'NDUFA4L2'], 'eritro': ['HBB', 'HBA2', 'HBA1'], \n",
    "            'immune': ['TPSB2', 'TRAC', 'TPSAB1', 'HLA-DRA', 'FCER1G'], 'kerato': ['DMKN', 'KRT1', 'KRT5'],\n",
    "            'mt': ['MTND2P28', 'MTND4P12', 'MTCO1P40', 'ADAM33', 'RN7SL2', 'MTRNR2L6']}\n",
    "\n",
    "assign_cats(adata_reynolds_fb_4820STDY7389007_loom, dict_cat, quantile_gene_sel=0.85)"
   ]
  },
  {
   "cell_type": "code",
   "execution_count": null,
   "id": "owned-criterion",
   "metadata": {},
   "outputs": [],
   "source": [
    "sc.pl.umap(adata_reynolds_fb_4820STDY7389007_loom, color=['leiden', 'science_clustering', 'assigned_cats'], legend_loc='on data', cmap=magma)"
   ]
  },
  {
   "cell_type": "code",
   "execution_count": null,
   "id": "collaborative-bunch",
   "metadata": {},
   "outputs": [],
   "source": [
    "sc.tl.rank_genes_groups(adata_reynolds_fb_4820STDY7389007_loom, groupby='leiden')\n",
    "sc.pl.rank_genes_groups(adata_reynolds_fb_4820STDY7389007_loom)"
   ]
  },
  {
   "cell_type": "code",
   "execution_count": null,
   "id": "dietary-geometry",
   "metadata": {},
   "outputs": [],
   "source": [
    "adata_reynolds_fb_4820STDY7389007_loom = adata_reynolds_fb_4820STDY7389007_loom[adata_reynolds_fb_4820STDY7389007_loom.obs['assigned_cats'] == 'fb']"
   ]
  },
  {
   "cell_type": "code",
   "execution_count": null,
   "id": "twelve-physiology",
   "metadata": {},
   "outputs": [],
   "source": [
    "sc.pp.filter_genes(adata_reynolds_fb_4820STDY7389007_loom, min_counts=1)"
   ]
  },
  {
   "cell_type": "code",
   "execution_count": null,
   "id": "historic-fleet",
   "metadata": {},
   "outputs": [],
   "source": [
    "sc.pp.pca(adata_reynolds_fb_4820STDY7389007_loom, random_state=seed, n_comps=30)\n",
    "tk.tl.triku(adata_reynolds_fb_4820STDY7389007_loom, n_procs=1, random_state=seed, use_adata_knn=True)\n",
    "sc.pp.neighbors(adata_reynolds_fb_4820STDY7389007_loom, metric='cosine', random_state=seed)"
   ]
  },
  {
   "cell_type": "code",
   "execution_count": null,
   "id": "powerful-update",
   "metadata": {},
   "outputs": [],
   "source": [
    "sc.tl.umap(adata_reynolds_fb_4820STDY7389007_loom, min_dist=0.05, random_state=seed)\n",
    "sc.tl.leiden(adata_reynolds_fb_4820STDY7389007_loom, resolution=1.2, random_state=seed)"
   ]
  },
  {
   "cell_type": "code",
   "execution_count": null,
   "id": "conceptual-surge",
   "metadata": {},
   "outputs": [],
   "source": [
    "adata_reynolds_fb_4820STDY7389007_loom"
   ]
  },
  {
   "cell_type": "code",
   "execution_count": null,
   "id": "warming-department",
   "metadata": {},
   "outputs": [],
   "source": [
    "sc.pl.umap(adata_reynolds_fb_4820STDY7389007_loom, color=['leiden', 'science_clustering'], cmap=magma, use_raw=False, legend_loc='on data')"
   ]
  },
  {
   "cell_type": "code",
   "execution_count": null,
   "id": "recovered-knight",
   "metadata": {},
   "outputs": [],
   "source": [
    "sc.pl.umap(adata_reynolds_fb_4820STDY7389007_loom, color=['leiden', 'SFRP2', 'PI16', 'SLPI', 'WIF1', 'COL18A1', 'COMP', \n",
    "                                               'APOE', 'CCL2',  'ITM2A', 'SPSB1', \n",
    "                                               'CCDC146', 'CCL19', 'CD74'], cmap=magma, use_raw=False, legend_loc='on data')"
   ]
  },
  {
   "cell_type": "markdown",
   "id": "sacred-smoke",
   "metadata": {},
   "source": [
    "## SKN8104899 (S4)"
   ]
  },
  {
   "cell_type": "markdown",
   "id": "amended-motel",
   "metadata": {},
   "source": [
    "### Reynolds preprocessed"
   ]
  },
  {
   "cell_type": "code",
   "execution_count": null,
   "id": "annual-silence",
   "metadata": {},
   "outputs": [],
   "source": [
    "adata_reynolds_fb_SKN8104899 = adata_reynolds_fb_healthy[adata_reynolds_fb_healthy.obs['sample_id'].isin(['SKN8104899'])]  #selected_samples)]"
   ]
  },
  {
   "cell_type": "code",
   "execution_count": null,
   "id": "satisfied-reach",
   "metadata": {},
   "outputs": [],
   "source": [
    "adata_reynolds_fb_SKN8104899"
   ]
  },
  {
   "cell_type": "code",
   "execution_count": null,
   "id": "stopped-crown",
   "metadata": {},
   "outputs": [],
   "source": [
    "sc.pp.filter_genes(adata_reynolds_fb_SKN8104899, min_counts=1)\n",
    "adata_reynolds_fb_SKN8104899 = adata_reynolds_fb_SKN8104899[:, adata_reynolds_fb_SKN8104899.var_names != 'C3']"
   ]
  },
  {
   "cell_type": "code",
   "execution_count": null,
   "id": "charming-ceramic",
   "metadata": {},
   "outputs": [],
   "source": [
    "sc.pp.pca(adata_reynolds_fb_SKN8104899, random_state=seed, n_comps=30)\n",
    "tk.tl.triku(adata_reynolds_fb_SKN8104899, n_procs=1, random_state=seed, use_adata_knn=True)\n",
    "sc.pp.neighbors(adata_reynolds_fb_SKN8104899, metric='cosine', random_state=seed)"
   ]
  },
  {
   "cell_type": "code",
   "execution_count": null,
   "id": "french-thirty",
   "metadata": {},
   "outputs": [],
   "source": [
    "sc.tl.umap(adata_reynolds_fb_SKN8104899, min_dist=0.3, random_state=seed)"
   ]
  },
  {
   "cell_type": "code",
   "execution_count": null,
   "id": "alpine-patient",
   "metadata": {},
   "outputs": [],
   "source": [
    "sc.tl.leiden(adata_reynolds_fb_SKN8104899, resolution=1, random_state=seed)"
   ]
  },
  {
   "cell_type": "code",
   "execution_count": null,
   "id": "closing-looking",
   "metadata": {},
   "outputs": [],
   "source": [
    "sc.pl.umap(adata_reynolds_fb_SKN8104899, color=['leiden', 'sample_id', 'full_clustering'], legend_loc='on data')"
   ]
  },
  {
   "cell_type": "code",
   "execution_count": null,
   "id": "radical-shoulder",
   "metadata": {},
   "outputs": [],
   "source": [
    "sc.pl.umap(adata_reynolds_fb_SKN8104899, color=['APCDD1', 'COL18A1', 'COMP', 'SLPI', 'WIF1'], cmap=magma, use_raw=False)"
   ]
  },
  {
   "cell_type": "code",
   "execution_count": null,
   "id": "blocked-forest",
   "metadata": {},
   "outputs": [],
   "source": [
    "sc.pl.umap(adata_reynolds_fb_SKN8104899, color=['MT2A', 'CCL19', 'CCL2', 'CD46'], cmap=magma, use_raw=False)"
   ]
  },
  {
   "cell_type": "markdown",
   "id": "intellectual-smile",
   "metadata": {},
   "source": [
    "### Direct loom"
   ]
  },
  {
   "cell_type": "code",
   "execution_count": null,
   "id": "latin-carter",
   "metadata": {},
   "outputs": [],
   "source": [
    "adata_reynolds_fb_SKN8104899_loom = sc.read('reynolds_2020/reynolds_2020_84_SKN8104899_S4_dermis_fibroblasts.loom', \n",
    "                                                 backup_url='https://zenodo.org/record/4596375/files/reynolds_2020_84_SKN8104899_S4_dermis_fibroblasts.loom')\n",
    "\n",
    "adata_reynolds_fb_SKN8104899_loom.var_names_make_unique()\n",
    "\n",
    "adata_reynolds_fb_SKN8104899_loom = adata_reynolds_fb_SKN8104899_loom[:, adata_reynolds_fb_SKN8104899_loom.var_names != 'C3']"
   ]
  },
  {
   "cell_type": "code",
   "execution_count": null,
   "id": "complete-choir",
   "metadata": {},
   "outputs": [],
   "source": [
    "adata_reynolds_fb_SKN8104899_loom.obs_names = [f\"{i.split('_')[-1]}-1-{i.split('_')[1]}\" for i in adata_reynolds_fb_SKN8104899_loom.obs_names]"
   ]
  },
  {
   "cell_type": "code",
   "execution_count": null,
   "id": "emotional-merchandise",
   "metadata": {},
   "outputs": [],
   "source": [
    "df_fb_type = pd.Series('-', index=adata_reynolds_fb_SKN8104899_loom.obs_names)\n",
    "df_fb_type.loc[adata_reynolds_fb_SKN8104899.obs_names & adata_reynolds_fb_SKN8104899_loom.obs_names] = adata_reynolds_fb_SKN8104899[adata_reynolds_fb_SKN8104899.obs_names & adata_reynolds_fb_SKN8104899_loom.obs_names].obs['full_clustering']\n",
    "adata_reynolds_fb_SKN8104899_loom.obs['science_clustering'] = df_fb_type"
   ]
  },
  {
   "cell_type": "code",
   "execution_count": null,
   "id": "wanted-pizza",
   "metadata": {},
   "outputs": [],
   "source": [
    "sc.pp.calculate_qc_metrics(adata_reynolds_fb_SKN8104899_loom, inplace=True)"
   ]
  },
  {
   "cell_type": "code",
   "execution_count": null,
   "id": "inner-layout",
   "metadata": {},
   "outputs": [],
   "source": [
    "sc.pl.violin(adata_reynolds_fb_SKN8104899_loom, ['n_genes_by_counts'])\n",
    "sc.pl.violin(adata_reynolds_fb_SKN8104899_loom, ['log1p_total_counts'])"
   ]
  },
  {
   "cell_type": "code",
   "execution_count": null,
   "id": "whole-market",
   "metadata": {},
   "outputs": [],
   "source": [
    "sc.pp.filter_genes(adata_reynolds_fb_SKN8104899_loom, min_counts=30)\n",
    "adata_reynolds_fb_SKN8104899_loom.raw = adata_reynolds_fb_SKN8104899_loom"
   ]
  },
  {
   "cell_type": "code",
   "execution_count": null,
   "id": "streaming-latin",
   "metadata": {},
   "outputs": [],
   "source": [
    "sc.pp.normalize_per_cell(adata_reynolds_fb_SKN8104899_loom)\n",
    "sc.pp.log1p(adata_reynolds_fb_SKN8104899_loom)"
   ]
  },
  {
   "cell_type": "code",
   "execution_count": null,
   "id": "changed-packet",
   "metadata": {},
   "outputs": [],
   "source": [
    "sc.pp.pca(adata_reynolds_fb_SKN8104899_loom, random_state=seed, n_comps=30)\n",
    "tk.tl.triku(adata_reynolds_fb_SKN8104899_loom, n_procs=1, random_state=seed, use_adata_knn=True)\n",
    "sc.pp.neighbors(adata_reynolds_fb_SKN8104899_loom, metric='cosine', random_state=seed)"
   ]
  },
  {
   "cell_type": "code",
   "execution_count": null,
   "id": "intelligent-cooling",
   "metadata": {},
   "outputs": [],
   "source": [
    "sc.tl.umap(adata_reynolds_fb_SKN8104899_loom, min_dist=0.3, random_state=seed)\n",
    "sc.tl.leiden(adata_reynolds_fb_SKN8104899_loom, resolution=0.8, random_state=seed)"
   ]
  },
  {
   "cell_type": "code",
   "execution_count": null,
   "id": "voluntary-comfort",
   "metadata": {},
   "outputs": [],
   "source": [
    "sc.pl.umap(adata_reynolds_fb_SKN8104899_loom, color=['leiden', 'science_clustering'], legend_loc='on data')"
   ]
  },
  {
   "cell_type": "code",
   "execution_count": null,
   "id": "known-financing",
   "metadata": {},
   "outputs": [],
   "source": [
    "sc.pl.umap(adata_reynolds_fb_SKN8104899_loom, color=['LUM', 'PDGFRA', 'VIM', 'COL1A1', 'SFRP2', 'APOE', \n",
    "                                                     'POSTN', 'RGS5', 'MYL9', 'NDUFA4L2', 'HBB'], legend_loc='on data', cmap=magma, use_raw=False)"
   ]
  },
  {
   "cell_type": "code",
   "execution_count": null,
   "id": "attractive-loading",
   "metadata": {},
   "outputs": [],
   "source": [
    "sc.pl.umap(adata_reynolds_fb_SKN8104899_loom, color=['leiden', 'SFRP2', 'PI16', 'SLPI', 'WIF1', 'COL18A1', 'COMP', \n",
    "                                               'APOE', 'CCL2',  'ITM2A', 'SPSB1', \n",
    "                                               'CCDC146', 'CCL19', 'CD74', 'POSTN'], cmap=magma, use_raw=False, legend_loc='on data')"
   ]
  },
  {
   "cell_type": "code",
   "execution_count": null,
   "id": "overhead-princess",
   "metadata": {},
   "outputs": [],
   "source": [
    "dict_cat = {'fb': ['LUM', 'PDGFRA', 'COL1A1', 'SFRP2', 'CCL19'], 'peri': ['RGS5', 'MYL9', 'NDUFA4L2'], 'eritro': ['HBB', 'HBA2', 'HBA1'], \n",
    "            'immune': ['TRAC', 'HLA-DRA', 'FCER1G'], 'kerato': ['DMKN', 'KRT1'],\n",
    "            'mt': ['MTND4P12', 'ADAM33', 'RN7SL2', ]}\n",
    "\n",
    "assign_cats(adata_reynolds_fb_SKN8104899_loom, dict_cat)"
   ]
  },
  {
   "cell_type": "code",
   "execution_count": null,
   "id": "frank-bobby",
   "metadata": {},
   "outputs": [],
   "source": [
    "sc.pl.umap(adata_reynolds_fb_SKN8104899_loom, color=['leiden', 'science_clustering', 'assigned_cats'], legend_loc='on data', cmap=magma)"
   ]
  },
  {
   "cell_type": "code",
   "execution_count": null,
   "id": "emotional-skating",
   "metadata": {},
   "outputs": [],
   "source": [
    "sc.tl.rank_genes_groups(adata_reynolds_fb_SKN8104899_loom, groupby='leiden')\n",
    "sc.pl.rank_genes_groups(adata_reynolds_fb_SKN8104899_loom)"
   ]
  },
  {
   "cell_type": "code",
   "execution_count": null,
   "id": "magnetic-knock",
   "metadata": {},
   "outputs": [],
   "source": [
    "adata_reynolds_fb_SKN8104899_loom = adata_reynolds_fb_SKN8104899_loom[adata_reynolds_fb_SKN8104899_loom.obs['assigned_cats'] == 'fb']"
   ]
  },
  {
   "cell_type": "code",
   "execution_count": null,
   "id": "proof-pepper",
   "metadata": {},
   "outputs": [],
   "source": [
    "sc.pp.filter_genes(adata_reynolds_fb_SKN8104899_loom, min_counts=1)"
   ]
  },
  {
   "cell_type": "code",
   "execution_count": null,
   "id": "spread-operations",
   "metadata": {},
   "outputs": [],
   "source": [
    "sc.pp.pca(adata_reynolds_fb_SKN8104899_loom, random_state=seed, n_comps=30)\n",
    "tk.tl.triku(adata_reynolds_fb_SKN8104899_loom, n_procs=1, random_state=seed, use_adata_knn=True)\n",
    "sc.pp.neighbors(adata_reynolds_fb_SKN8104899_loom, metric='cosine', random_state=seed)"
   ]
  },
  {
   "cell_type": "code",
   "execution_count": null,
   "id": "opposed-victim",
   "metadata": {},
   "outputs": [],
   "source": [
    "sc.tl.umap(adata_reynolds_fb_SKN8104899_loom, min_dist=0.05, random_state=seed)\n",
    "sc.tl.leiden(adata_reynolds_fb_SKN8104899_loom, resolution=1.2, random_state=seed)"
   ]
  },
  {
   "cell_type": "code",
   "execution_count": null,
   "id": "cardiovascular-queensland",
   "metadata": {},
   "outputs": [],
   "source": [
    "sc.pl.umap(adata_reynolds_fb_SKN8104899_loom, color=['leiden', 'science_clustering'], cmap=magma, use_raw=False, legend_loc='on data')"
   ]
  },
  {
   "cell_type": "code",
   "execution_count": null,
   "id": "veterinary-vaccine",
   "metadata": {},
   "outputs": [],
   "source": [
    "sc.pl.umap(adata_reynolds_fb_SKN8104899_loom, color=['leiden', 'SFRP2', 'PI16', 'SLPI', 'WIF1', 'COL18A1', 'COMP', \n",
    "                                               'APOE', 'CCL2',  'ITM2A', 'SPSB1', \n",
    "                                               'CCDC146', 'CCL19', 'CD74'], cmap=magma, use_raw=False, legend_loc='on data')"
   ]
  },
  {
   "cell_type": "code",
   "execution_count": null,
   "id": "vocal-briefs",
   "metadata": {},
   "outputs": [],
   "source": [
    "sc.tl.rank_genes_groups(adata_reynolds_fb_SKN8104899_loom, groupby='leiden')\n",
    "sc.pl.rank_genes_groups(adata_reynolds_fb_SKN8104899_loom)"
   ]
  },
  {
   "cell_type": "markdown",
   "id": "unavailable-supervision",
   "metadata": {},
   "source": [
    "## SKN8105197 (S5)"
   ]
  },
  {
   "cell_type": "markdown",
   "id": "moving-exercise",
   "metadata": {},
   "source": [
    "### Reynolds preprocessed"
   ]
  },
  {
   "cell_type": "code",
   "execution_count": null,
   "id": "intended-bacteria",
   "metadata": {},
   "outputs": [],
   "source": [
    "adata_reynolds_fb_SKN8105197 = adata_reynolds_fb_healthy[adata_reynolds_fb_healthy.obs['sample_id'].isin(['SKN8105197'])]  #selected_samples)]"
   ]
  },
  {
   "cell_type": "code",
   "execution_count": null,
   "id": "coupled-truck",
   "metadata": {},
   "outputs": [],
   "source": [
    "adata_reynolds_fb_SKN8105197"
   ]
  },
  {
   "cell_type": "code",
   "execution_count": null,
   "id": "frozen-coordinator",
   "metadata": {},
   "outputs": [],
   "source": [
    "sc.pp.filter_genes(adata_reynolds_fb_SKN8105197, min_counts=1)\n",
    "adata_reynolds_fb_SKN8105197 = adata_reynolds_fb_SKN8105197[:, adata_reynolds_fb_SKN8105197.var_names != 'C3']"
   ]
  },
  {
   "cell_type": "code",
   "execution_count": null,
   "id": "every-nashville",
   "metadata": {},
   "outputs": [],
   "source": [
    "sc.pp.pca(adata_reynolds_fb_SKN8105197, random_state=seed, n_comps=30)\n",
    "tk.tl.triku(adata_reynolds_fb_SKN8105197, n_procs=1, random_state=seed, use_adata_knn=True)\n",
    "sc.pp.neighbors(adata_reynolds_fb_SKN8105197, metric='cosine', random_state=seed)"
   ]
  },
  {
   "cell_type": "code",
   "execution_count": null,
   "id": "stretch-divorce",
   "metadata": {},
   "outputs": [],
   "source": [
    "sc.tl.umap(adata_reynolds_fb_SKN8105197, min_dist=0.3, random_state=seed)"
   ]
  },
  {
   "cell_type": "code",
   "execution_count": null,
   "id": "powered-straight",
   "metadata": {},
   "outputs": [],
   "source": [
    "sc.tl.leiden(adata_reynolds_fb_SKN8105197, resolution=1, random_state=seed)"
   ]
  },
  {
   "cell_type": "code",
   "execution_count": null,
   "id": "future-authorization",
   "metadata": {},
   "outputs": [],
   "source": [
    "sc.pl.umap(adata_reynolds_fb_SKN8105197, color=['leiden', 'sample_id', 'full_clustering'], legend_loc='on data')"
   ]
  },
  {
   "cell_type": "code",
   "execution_count": null,
   "id": "amber-backup",
   "metadata": {},
   "outputs": [],
   "source": [
    "sc.pl.umap(adata_reynolds_fb_SKN8105197, color=['APCDD1', 'COL18A1', 'COMP', 'SLPI', 'WIF1'], cmap=magma, use_raw=False)"
   ]
  },
  {
   "cell_type": "code",
   "execution_count": null,
   "id": "hearing-operation",
   "metadata": {},
   "outputs": [],
   "source": [
    "sc.pl.umap(adata_reynolds_fb_SKN8105197, color=['MT2A', 'CCL19', 'CCL2', 'CD46'], cmap=magma, use_raw=False)"
   ]
  },
  {
   "cell_type": "markdown",
   "id": "binding-angola",
   "metadata": {},
   "source": [
    "### Direct loom"
   ]
  },
  {
   "cell_type": "code",
   "execution_count": null,
   "id": "enormous-compensation",
   "metadata": {},
   "outputs": [],
   "source": [
    "adata_reynolds_fb_SKN8105197_loom = sc.read('reynolds_2020/reynolds_2020_92_SKN8105197_S5_dermis_fibroblasts.loom', \n",
    "                                                 backup_url='https://zenodo.org/record/4596375/files/reynolds_2020_92_SKN8105197_S5_dermis_fibroblasts.loom')\n",
    "adata_reynolds_fb_SKN8105197_loom.var_names_make_unique()\n",
    "\n",
    "adata_reynolds_fb_SKN8105197_loom = adata_reynolds_fb_SKN8105197_loom[:, adata_reynolds_fb_SKN8105197_loom.var_names != 'C3']"
   ]
  },
  {
   "cell_type": "code",
   "execution_count": null,
   "id": "gothic-symposium",
   "metadata": {},
   "outputs": [],
   "source": [
    "adata_reynolds_fb_SKN8105197_loom.obs_names = [f\"{i.split('_')[-1]}-1-{i.split('_')[1]}\" for i in adata_reynolds_fb_SKN8105197_loom.obs_names]"
   ]
  },
  {
   "cell_type": "code",
   "execution_count": null,
   "id": "welsh-protein",
   "metadata": {},
   "outputs": [],
   "source": [
    "df_fb_type = pd.Series('-', index=adata_reynolds_fb_SKN8105197_loom.obs_names)\n",
    "df_fb_type.loc[adata_reynolds_fb_SKN8105197.obs_names & adata_reynolds_fb_SKN8105197_loom.obs_names] = adata_reynolds_fb_SKN8105197[adata_reynolds_fb_SKN8105197.obs_names & adata_reynolds_fb_SKN8105197_loom.obs_names].obs['full_clustering']\n",
    "adata_reynolds_fb_SKN8105197_loom.obs['science_clustering'] = df_fb_type"
   ]
  },
  {
   "cell_type": "code",
   "execution_count": null,
   "id": "norman-competition",
   "metadata": {},
   "outputs": [],
   "source": [
    "sc.pp.calculate_qc_metrics(adata_reynolds_fb_SKN8105197_loom, inplace=True)"
   ]
  },
  {
   "cell_type": "code",
   "execution_count": null,
   "id": "chicken-metropolitan",
   "metadata": {},
   "outputs": [],
   "source": [
    "sc.pl.violin(adata_reynolds_fb_SKN8105197_loom, ['n_genes_by_counts'])\n",
    "sc.pl.violin(adata_reynolds_fb_SKN8105197_loom, ['log1p_total_counts'])"
   ]
  },
  {
   "cell_type": "code",
   "execution_count": null,
   "id": "extra-rebel",
   "metadata": {},
   "outputs": [],
   "source": [
    "sc.pp.filter_genes(adata_reynolds_fb_SKN8105197_loom, min_counts=30)\n",
    "adata_reynolds_fb_SKN8105197_loom.raw = adata_reynolds_fb_SKN8105197_loom"
   ]
  },
  {
   "cell_type": "code",
   "execution_count": null,
   "id": "curious-atmosphere",
   "metadata": {},
   "outputs": [],
   "source": [
    "sc.pp.normalize_per_cell(adata_reynolds_fb_SKN8105197_loom)\n",
    "sc.pp.log1p(adata_reynolds_fb_SKN8105197_loom)"
   ]
  },
  {
   "cell_type": "code",
   "execution_count": null,
   "id": "realistic-video",
   "metadata": {},
   "outputs": [],
   "source": [
    "sc.pp.pca(adata_reynolds_fb_SKN8105197_loom, random_state=seed, n_comps=30)\n",
    "tk.tl.triku(adata_reynolds_fb_SKN8105197_loom, n_procs=1, random_state=seed, use_adata_knn=True)\n",
    "sc.pp.neighbors(adata_reynolds_fb_SKN8105197_loom, metric='cosine', random_state=seed)"
   ]
  },
  {
   "cell_type": "code",
   "execution_count": null,
   "id": "spectacular-vector",
   "metadata": {},
   "outputs": [],
   "source": [
    "sc.tl.umap(adata_reynolds_fb_SKN8105197_loom, min_dist=0.3, random_state=seed)\n",
    "sc.tl.leiden(adata_reynolds_fb_SKN8105197_loom, resolution=1, random_state=seed)"
   ]
  },
  {
   "cell_type": "code",
   "execution_count": null,
   "id": "apparent-interference",
   "metadata": {},
   "outputs": [],
   "source": [
    "sc.pl.umap(adata_reynolds_fb_SKN8105197_loom, color=['leiden', 'science_clustering'], legend_loc='on data')"
   ]
  },
  {
   "cell_type": "code",
   "execution_count": null,
   "id": "thermal-briefing",
   "metadata": {},
   "outputs": [],
   "source": [
    "sc.pl.umap(adata_reynolds_fb_SKN8105197_loom, color=['LUM', 'PDGFRA', 'VIM', 'COL1A1', 'SFRP2', 'APOE', 'RGS5', 'MYL9', 'NDUFA4L2', 'HBB'], legend_loc='on data', cmap=magma)"
   ]
  },
  {
   "cell_type": "code",
   "execution_count": null,
   "id": "coastal-break",
   "metadata": {},
   "outputs": [],
   "source": [
    "sc.pl.umap(adata_reynolds_fb_SKN8105197_loom, color=['leiden', 'SFRP2', 'SLPI', 'WIF1', 'COL18A1', 'COMP', \n",
    "                                               'APOE', 'CCL2',  'ITM2A', 'SPSB1', \n",
    "                                               'CCDC146', 'CCL19', 'CD74'], cmap=magma, use_raw=False, legend_loc='on data')"
   ]
  },
  {
   "cell_type": "code",
   "execution_count": null,
   "id": "offshore-fountain",
   "metadata": {},
   "outputs": [],
   "source": [
    "dict_cat = {'fb': ['LUM', 'PDGFRA', 'COL1A1', 'SFRP2', 'CCL19'], 'peri': ['RGS5', 'MYL9', 'NDUFA4L2'], 'eritro': ['HBB', 'HBA2', 'HBA1'], \n",
    "            'immune': ['HLA-DRA', 'FCER1G'], 'melano':['PMEL', 'MLANA']}\n",
    "\n",
    "assign_cats(adata_reynolds_fb_SKN8105197_loom, dict_cat)"
   ]
  },
  {
   "cell_type": "code",
   "execution_count": null,
   "id": "daily-shark",
   "metadata": {},
   "outputs": [],
   "source": [
    "sc.pl.umap(adata_reynolds_fb_SKN8105197_loom, color=['leiden', 'science_clustering', 'assigned_cats'], legend_loc='on data', cmap=magma)"
   ]
  },
  {
   "cell_type": "code",
   "execution_count": null,
   "id": "fifteen-movement",
   "metadata": {},
   "outputs": [],
   "source": [
    "sc.tl.rank_genes_groups(adata_reynolds_fb_SKN8105197_loom, groupby='leiden')\n",
    "sc.pl.rank_genes_groups(adata_reynolds_fb_SKN8105197_loom)"
   ]
  },
  {
   "cell_type": "code",
   "execution_count": null,
   "id": "valued-briefing",
   "metadata": {},
   "outputs": [],
   "source": [
    "adata_reynolds_fb_SKN8105197_loom = adata_reynolds_fb_SKN8105197_loom[adata_reynolds_fb_SKN8105197_loom.obs['assigned_cats'] == 'fb']"
   ]
  },
  {
   "cell_type": "code",
   "execution_count": null,
   "id": "spectacular-price",
   "metadata": {},
   "outputs": [],
   "source": [
    "sc.pp.filter_genes(adata_reynolds_fb_SKN8105197_loom, min_counts=1)"
   ]
  },
  {
   "cell_type": "code",
   "execution_count": null,
   "id": "parallel-complement",
   "metadata": {},
   "outputs": [],
   "source": [
    "sc.pp.pca(adata_reynolds_fb_SKN8105197_loom, random_state=seed, n_comps=30)\n",
    "tk.tl.triku(adata_reynolds_fb_SKN8105197_loom, n_procs=1, random_state=seed, use_adata_knn=True)\n",
    "sc.pp.neighbors(adata_reynolds_fb_SKN8105197_loom, metric='cosine', random_state=seed)"
   ]
  },
  {
   "cell_type": "code",
   "execution_count": null,
   "id": "august-letters",
   "metadata": {},
   "outputs": [],
   "source": [
    "sc.tl.umap(adata_reynolds_fb_SKN8105197_loom, min_dist=0.05, random_state=seed)\n",
    "sc.tl.leiden(adata_reynolds_fb_SKN8105197_loom, resolution=1.2, random_state=seed)"
   ]
  },
  {
   "cell_type": "code",
   "execution_count": null,
   "id": "comic-graham",
   "metadata": {},
   "outputs": [],
   "source": [
    "sc.pl.umap(adata_reynolds_fb_SKN8105197_loom, color=['leiden', 'science_clustering'], cmap=magma, use_raw=False, legend_loc='on data')"
   ]
  },
  {
   "cell_type": "code",
   "execution_count": null,
   "id": "italian-mistress",
   "metadata": {},
   "outputs": [],
   "source": [
    "sc.pl.umap(adata_reynolds_fb_SKN8105197_loom, color=['leiden', 'SFRP2', 'SLPI', 'WIF1', 'COL18A1', 'COMP', \n",
    "                                               'APOE', 'CCL2',  'ITM2A', 'SPSB1', \n",
    "                                               'CCDC146', 'CCL19', 'CD74'], cmap=magma, use_raw=False, legend_loc='on data')"
   ]
  },
  {
   "cell_type": "markdown",
   "id": "recovered-seeking",
   "metadata": {},
   "source": [
    "## SKN8105197 exclusion\n",
    "We do not see SFRP2 expression, which has been a through fb marker, together with APOE. We will not include this sample in the analysis."
   ]
  },
  {
   "cell_type": "code",
   "execution_count": null,
   "id": "assumed-thanks",
   "metadata": {},
   "outputs": [],
   "source": [
    "genes = ['science_clustering', 'SFRP2', 'APOE', 'CCL19']\n",
    "\n",
    "sc.pl.umap(adata_reynolds_fb_4820STDY7388991_loom_fb, color=genes, cmap=magma, use_raw=False, legend_loc='on data')\n",
    "sc.pl.umap(adata_reynolds_fb_4820STDY7388999_loom, color=genes, cmap=magma, use_raw=False, legend_loc='on data')\n",
    "sc.pl.umap(adata_reynolds_fb_4820STDY7389007_loom, color=genes, cmap=magma, use_raw=False, legend_loc='on data')\n",
    "\n",
    "sc.pl.umap(adata_reynolds_fb_SKN8104899_loom, color=genes, cmap=magma, use_raw=False, legend_loc='on data')\n",
    "sc.pl.umap(adata_reynolds_fb_SKN8105197_loom, color=genes, cmap=magma, use_raw=False, legend_loc='on data')"
   ]
  },
  {
   "cell_type": "markdown",
   "id": "superb-colorado",
   "metadata": {},
   "source": [
    "# Preparing adatas for FB1+3 and FB2\n",
    "\n",
    "We've realized that FB1+3 and FB2 showed the same main populations based on JID (A1, A2 and B2 mainly). We want to obtain distinct populations based on the marker expression, and also be able to separate these two populations. The problem is that the FB1+3 and FB2 populations, although not fully overlapping, they do show some overlap between them, and we would like to separate them only based on marker genes and clustering. These markers should be shared between all datasets. To do that, we are going to do a preeliminar DEG analysis and find markers that separate these populations in an unbiased manner."
   ]
  },
  {
   "cell_type": "markdown",
   "id": "another-timing",
   "metadata": {},
   "source": [
    "## Finding markers to separate 1+3 from 2"
   ]
  },
  {
   "cell_type": "markdown",
   "id": "olive-christmas",
   "metadata": {},
   "source": [
    "**This part may not be reproducible in other notebooks. This part is to get markers that will be reproducible later on**"
   ]
  },
  {
   "cell_type": "code",
   "execution_count": null,
   "id": "functioning-chamber",
   "metadata": {},
   "outputs": [],
   "source": [
    "# S1\n",
    "sc.tl.leiden(adata_reynolds_fb_4820STDY7388991_loom_fb, resolution=3, random_state=seed)\n",
    "sc.pl.umap(adata_reynolds_fb_4820STDY7388991_loom_fb, color=['leiden', 'science_clustering'], cmap=magma, use_raw=False, legend_loc='on data')\n",
    "adata_reynolds_fb_4820STDY7388991_loom_fb.obs['fb_type'] = ['1+3' if i in ['3', '16', '12', '19', '6', '17', '8', '2', '9', '11', '12', '14', '0', '21', '22'] else '2' for i in adata_reynolds_fb_4820STDY7388991_loom_fb.obs['leiden']]\n",
    "sc.pl.umap(adata_reynolds_fb_4820STDY7388991_loom_fb, color=['fb_type', 'science_clustering'], cmap=magma, use_raw=False, legend_loc='on data')"
   ]
  },
  {
   "cell_type": "code",
   "execution_count": null,
   "id": "funky-bulletin",
   "metadata": {},
   "outputs": [],
   "source": [
    "sc.tl.rank_genes_groups(adata_reynolds_fb_4820STDY7388991_loom_fb, groupby='fb_type', groups=['1+3'], reference='2', rankby_abs=True)\n",
    "df_rank_s1 = pd.DataFrame(adata_reynolds_fb_4820STDY7388991_loom_fb.uns['rank_genes_groups']['names']['1+3'],\n",
    "adata_reynolds_fb_4820STDY7388991_loom_fb.uns['rank_genes_groups']['scores']['1+3']).sort_index(ascending=False)"
   ]
  },
  {
   "cell_type": "code",
   "execution_count": null,
   "id": "unnecessary-dryer",
   "metadata": {},
   "outputs": [],
   "source": [
    "# S2\n",
    "sc.tl.leiden(adata_reynolds_fb_4820STDY7388999_loom, resolution=3, random_state=seed)\n",
    "sc.pl.umap(adata_reynolds_fb_4820STDY7388999_loom, color=['leiden', 'science_clustering'], cmap=magma, use_raw=False, legend_loc='on data')\n",
    "adata_reynolds_fb_4820STDY7388999_loom.obs['fb_type'] = ['2' if i in ['15', '16', '19'] else '1+3' for i in adata_reynolds_fb_4820STDY7388999_loom.obs['leiden']]\n",
    "sc.pl.umap(adata_reynolds_fb_4820STDY7388999_loom, color=['fb_type', 'science_clustering'], cmap=magma, use_raw=False, legend_loc='on data')"
   ]
  },
  {
   "cell_type": "code",
   "execution_count": null,
   "id": "mature-scenario",
   "metadata": {},
   "outputs": [],
   "source": [
    "sc.tl.rank_genes_groups(adata_reynolds_fb_4820STDY7388999_loom, groupby='fb_type', groups=['1+3'], reference='2', rankby_abs=True)\n",
    "df_rank_s2 = pd.DataFrame(adata_reynolds_fb_4820STDY7388999_loom.uns['rank_genes_groups']['names']['1+3'],\n",
    "adata_reynolds_fb_4820STDY7388999_loom.uns['rank_genes_groups']['scores']['1+3']).sort_index(ascending=False)"
   ]
  },
  {
   "cell_type": "code",
   "execution_count": null,
   "id": "starting-maintenance",
   "metadata": {},
   "outputs": [],
   "source": [
    "# S3\n",
    "sc.tl.leiden(adata_reynolds_fb_4820STDY7389007_loom, resolution=2.8, random_state=seed)\n",
    "sc.pl.umap(adata_reynolds_fb_4820STDY7389007_loom, color=['leiden', 'science_clustering'], cmap=magma, use_raw=False, legend_loc='on data')\n",
    "adata_reynolds_fb_4820STDY7389007_loom.obs['fb_type'] = ['2' if i in ['0', '17', '16', '13', '4', '1', '19'] else '1+3' for i in adata_reynolds_fb_4820STDY7389007_loom.obs['leiden']]\n",
    "sc.pl.umap(adata_reynolds_fb_4820STDY7389007_loom, color=['fb_type', 'science_clustering'], cmap=magma, use_raw=False, legend_loc='on data')"
   ]
  },
  {
   "cell_type": "code",
   "execution_count": null,
   "id": "better-clarity",
   "metadata": {},
   "outputs": [],
   "source": [
    "sc.tl.rank_genes_groups(adata_reynolds_fb_4820STDY7389007_loom, groupby='fb_type', groups=['1+3'], reference='2', rankby_abs=True)\n",
    "df_rank_s3 = pd.DataFrame(adata_reynolds_fb_4820STDY7389007_loom.uns['rank_genes_groups']['names']['1+3'],\n",
    "adata_reynolds_fb_4820STDY7389007_loom.uns['rank_genes_groups']['scores']['1+3']).sort_index(ascending=False)"
   ]
  },
  {
   "cell_type": "code",
   "execution_count": null,
   "id": "devoted-gather",
   "metadata": {},
   "outputs": [],
   "source": [
    "# S4\n",
    "sc.tl.leiden(adata_reynolds_fb_SKN8104899_loom, resolution=3, random_state=seed)\n",
    "sc.pl.umap(adata_reynolds_fb_SKN8104899_loom, color=['leiden', 'science_clustering'], cmap=magma, use_raw=False, legend_loc='on data')\n",
    "adata_reynolds_fb_SKN8104899_loom.obs['fb_type'] = ['2' if i in ['8', '6', '14', '27'] else '1+3' for i in adata_reynolds_fb_SKN8104899_loom.obs['leiden']]\n",
    "sc.pl.umap(adata_reynolds_fb_SKN8104899_loom, color=['fb_type', 'science_clustering'], cmap=magma, use_raw=False, legend_loc='on data')"
   ]
  },
  {
   "cell_type": "code",
   "execution_count": null,
   "id": "overhead-shaft",
   "metadata": {},
   "outputs": [],
   "source": [
    "sc.tl.rank_genes_groups(adata_reynolds_fb_SKN8104899_loom, groupby='fb_type', groups=['1+3'], reference='2', rankby_abs=True)\n",
    "df_rank_s4 = pd.DataFrame(adata_reynolds_fb_SKN8104899_loom.uns['rank_genes_groups']['names']['1+3'],\n",
    "adata_reynolds_fb_SKN8104899_loom.uns['rank_genes_groups']['scores']['1+3']).sort_index(ascending=False)"
   ]
  },
  {
   "cell_type": "code",
   "execution_count": null,
   "id": "traditional-chamber",
   "metadata": {},
   "outputs": [],
   "source": [
    "N = 100\n",
    "\n",
    "genes_13, counts_13 = np.unique(list(df_rank_s1.iloc[:N, 0].values) + list(df_rank_s2.iloc[:N, 0].values) + list(df_rank_s3.iloc[:N, 0].values) + list(df_rank_s4.iloc[:N, 0].values), return_counts=True)\n",
    "genes_13_shared = genes_13[counts_13 >= 3]\n",
    "\n",
    "genes_2, counts_2 = np.unique(list(df_rank_s1.iloc[-N:, 0].values) + list(df_rank_s2.iloc[-N:, 0].values) + list(df_rank_s3.iloc[-N:, 0].values) + list(df_rank_s4.iloc[-N:, 0].values), return_counts=True)\n",
    "genes_2_shared = genes_2[counts_2 >= 3]"
   ]
  },
  {
   "cell_type": "code",
   "execution_count": null,
   "id": "facial-elimination",
   "metadata": {},
   "outputs": [],
   "source": [
    "genes_13_shared"
   ]
  },
  {
   "cell_type": "code",
   "execution_count": null,
   "id": "adaptive-coral",
   "metadata": {},
   "outputs": [],
   "source": [
    "genes_2_shared"
   ]
  },
  {
   "cell_type": "markdown",
   "id": "challenging-explanation",
   "metadata": {},
   "source": [
    "## Separe the 1+3 from 2"
   ]
  },
  {
   "cell_type": "code",
   "execution_count": null,
   "id": "sunrise-revision",
   "metadata": {},
   "outputs": [],
   "source": [
    "genes_13_shared = ['BNIP3L', 'BNIP3P1', 'CEMIP', 'ENO1', 'GSTO1', 'MEDAG', 'NAMPT', 'NAMPTP1', 'NRN1', ]"
   ]
  },
  {
   "cell_type": "code",
   "execution_count": null,
   "id": "still-atlanta",
   "metadata": {},
   "outputs": [],
   "source": [
    "genes_2_shared = ['ANXA2', 'CALM1', 'FOSB', 'LMNA', 'MTRNR2L12', 'S100A10', 'S100A4', 'S100A6', 'TMSB4X', 'TPPP3']"
   ]
  },
  {
   "cell_type": "code",
   "execution_count": null,
   "id": "double-consensus",
   "metadata": {},
   "outputs": [],
   "source": [
    "dict_cat = {'1+3': genes_13_shared, '2': genes_2_shared}\n",
    "\n",
    "for adata in [adata_reynolds_fb_4820STDY7388991_loom_fb, adata_reynolds_fb_4820STDY7388999_loom, adata_reynolds_fb_4820STDY7389007_loom, adata_reynolds_fb_SKN8104899_loom]:\n",
    "    assign_cats(adata, dict_cat)"
   ]
  },
  {
   "cell_type": "code",
   "execution_count": null,
   "id": "spread-update",
   "metadata": {},
   "outputs": [],
   "source": [
    "sc.pl.umap(adata_reynolds_fb_4820STDY7388991_loom_fb, color=['leiden', 'science_clustering', 'fb_type', 'assigned_cats',  \n",
    "                                                             'assigned_cats_1+3', 'assigned_cats_2', 'assigned_cats_CV'], legend_loc='on data', cmap=magma)"
   ]
  },
  {
   "cell_type": "code",
   "execution_count": null,
   "id": "danish-pearl",
   "metadata": {},
   "outputs": [],
   "source": [
    "sc.pl.umap(adata_reynolds_fb_4820STDY7388991_loom_fb, color=['leiden'] + genes_13_shared, legend_loc='on data', cmap=magma, use_raw=False)"
   ]
  },
  {
   "cell_type": "code",
   "execution_count": null,
   "id": "varied-absence",
   "metadata": {},
   "outputs": [],
   "source": [
    "sc.pl.umap(adata_reynolds_fb_4820STDY7388991_loom_fb, color=['leiden'] + genes_2_shared, legend_loc='on data', cmap=magma, use_raw=False)"
   ]
  },
  {
   "cell_type": "code",
   "execution_count": null,
   "id": "outer-second",
   "metadata": {},
   "outputs": [],
   "source": [
    "sc.pl.umap(adata_reynolds_fb_4820STDY7388999_loom, color=['leiden', 'science_clustering', 'fb_type', 'assigned_cats', \n",
    "                                                          'assigned_cats_1+3', 'assigned_cats_2', 'assigned_cats_CV'], legend_loc='on data', cmap=magma)"
   ]
  },
  {
   "cell_type": "code",
   "execution_count": null,
   "id": "perfect-howard",
   "metadata": {},
   "outputs": [],
   "source": [
    "sc.pl.umap(adata_reynolds_fb_4820STDY7388999_loom, color=['leiden'] + genes_13_shared, legend_loc='on data', cmap=magma, use_raw=False)"
   ]
  },
  {
   "cell_type": "code",
   "execution_count": null,
   "id": "trying-translation",
   "metadata": {},
   "outputs": [],
   "source": [
    "sc.pl.umap(adata_reynolds_fb_4820STDY7388999_loom, color=['leiden'] + genes_2_shared, legend_loc='on data', cmap=magma, use_raw=False)"
   ]
  },
  {
   "cell_type": "code",
   "execution_count": null,
   "id": "frank-birmingham",
   "metadata": {},
   "outputs": [],
   "source": [
    "sc.pl.umap(adata_reynolds_fb_4820STDY7389007_loom, color=['leiden', 'science_clustering', 'fb_type', 'assigned_cats',  \n",
    "                                                          'assigned_cats_1+3', 'assigned_cats_2', 'assigned_cats_CV'], legend_loc='on data', cmap=magma)"
   ]
  },
  {
   "cell_type": "code",
   "execution_count": null,
   "id": "joint-survivor",
   "metadata": {},
   "outputs": [],
   "source": [
    "sc.pl.umap(adata_reynolds_fb_4820STDY7389007_loom, color=['leiden'] + genes_13_shared, legend_loc='on data', cmap=magma, use_raw=False)"
   ]
  },
  {
   "cell_type": "code",
   "execution_count": null,
   "id": "spectacular-mining",
   "metadata": {},
   "outputs": [],
   "source": [
    "sc.pl.umap(adata_reynolds_fb_4820STDY7389007_loom, color=['leiden'] + genes_2_shared, legend_loc='on data', cmap=magma, use_raw=False)"
   ]
  },
  {
   "cell_type": "code",
   "execution_count": null,
   "id": "choice-electron",
   "metadata": {},
   "outputs": [],
   "source": [
    "sc.pl.umap(adata_reynolds_fb_SKN8104899_loom, color=['leiden', 'science_clustering', 'fb_type', 'assigned_cats',  \n",
    "                                                     'assigned_cats_1+3', 'assigned_cats_2', 'assigned_cats_CV'], legend_loc='on data', cmap=magma)"
   ]
  },
  {
   "cell_type": "code",
   "execution_count": null,
   "id": "functional-space",
   "metadata": {},
   "outputs": [],
   "source": [
    "sc.pl.umap(adata_reynolds_fb_SKN8104899_loom, color=['leiden'] + genes_13_shared, legend_loc='on data', cmap=magma, use_raw=False)"
   ]
  },
  {
   "cell_type": "code",
   "execution_count": null,
   "id": "dying-study",
   "metadata": {},
   "outputs": [],
   "source": [
    "sc.pl.umap(adata_reynolds_fb_SKN8104899_loom, color=['leiden'] + genes_2_shared, legend_loc='on data', cmap=magma, use_raw=False)"
   ]
  },
  {
   "cell_type": "markdown",
   "id": "surface-converter",
   "metadata": {},
   "source": [
    "## Create the adatas"
   ]
  },
  {
   "cell_type": "code",
   "execution_count": null,
   "id": "limiting-quick",
   "metadata": {},
   "outputs": [],
   "source": [
    "adata_s1_13 = adata_reynolds_fb_4820STDY7388991_loom_fb[adata_reynolds_fb_4820STDY7388991_loom_fb.obs['assigned_cats'] == '1+3'].copy()\n",
    "adata_s1_2 = adata_reynolds_fb_4820STDY7388991_loom_fb[adata_reynolds_fb_4820STDY7388991_loom_fb.obs['assigned_cats'] == '2'].copy()\n",
    "\n",
    "adata_s2_13 = adata_reynolds_fb_4820STDY7388999_loom[adata_reynolds_fb_4820STDY7388999_loom.obs['assigned_cats'] == '1+3'].copy()\n",
    "adata_s2_2 = adata_reynolds_fb_4820STDY7388999_loom[adata_reynolds_fb_4820STDY7388999_loom.obs['assigned_cats'] == '2'].copy()\n",
    "\n",
    "adata_s3_13 = adata_reynolds_fb_4820STDY7389007_loom[adata_reynolds_fb_4820STDY7389007_loom.obs['assigned_cats'] == '1+3'].copy()\n",
    "adata_s3_2 = adata_reynolds_fb_4820STDY7389007_loom[adata_reynolds_fb_4820STDY7389007_loom.obs['assigned_cats'] == '2'].copy()\n",
    "\n",
    "adata_s4_13 = adata_reynolds_fb_SKN8104899_loom[adata_reynolds_fb_SKN8104899_loom.obs['assigned_cats'] == '1+3'].copy()\n",
    "adata_s4_2 = adata_reynolds_fb_SKN8104899_loom[adata_reynolds_fb_SKN8104899_loom.obs['assigned_cats'] == '2'].copy()"
   ]
  },
  {
   "cell_type": "code",
   "execution_count": null,
   "id": "choice-economy",
   "metadata": {},
   "outputs": [],
   "source": [
    "for adata_s_name in ['adata_s1_13', 'adata_s1_2', 'adata_s2_13', 'adata_s2_2', 'adata_s3_13', 'adata_s3_2', 'adata_s4_13', 'adata_s4_2']:  # We do this because with the adata name by itselft it won't work!!!\n",
    "    sc.pp.filter_genes(eval(adata_s_name), min_counts=1)\n",
    "    sc.pp.pca(eval(adata_s_name), random_state=seed, n_comps=30)\n",
    "    tk.tl.triku(eval(adata_s_name), n_procs=1, random_state=seed)\n",
    "    sc.pp.neighbors(eval(adata_s_name), metric='cosine')\n",
    "    sc.tl.umap(eval(adata_s_name), min_dist=0.05, random_state=seed)"
   ]
  },
  {
   "cell_type": "code",
   "execution_count": null,
   "id": "quality-explanation",
   "metadata": {},
   "outputs": [],
   "source": [
    "fig, axs = plt.subplots(1, 2, figsize=(6, 3))\n",
    "sc.pl.umap(adata_s1_13, color=['science_clustering'], legend_loc='on data', cmap=magma, ax=axs[0], show=False)\n",
    "sc.pl.umap(adata_s1_2, color=['science_clustering'], legend_loc='on data', cmap=magma, ax=axs[1], show=False)"
   ]
  },
  {
   "cell_type": "code",
   "execution_count": null,
   "id": "industrial-volume",
   "metadata": {},
   "outputs": [],
   "source": [
    "fig, axs = plt.subplots(1, 2, figsize=(6, 3))\n",
    "sc.pl.umap(adata_s2_13, color=['science_clustering'], legend_loc='on data', cmap=magma, ax=axs[0], show=False)\n",
    "sc.pl.umap(adata_s2_2, color=['science_clustering'], legend_loc='on data', cmap=magma, ax=axs[1], show=False)"
   ]
  },
  {
   "cell_type": "code",
   "execution_count": null,
   "id": "initial-shade",
   "metadata": {},
   "outputs": [],
   "source": [
    "fig, axs = plt.subplots(1, 2, figsize=(6, 3))\n",
    "sc.pl.umap(adata_s3_13, color=['science_clustering'], legend_loc='on data', cmap=magma, ax=axs[0], show=False)\n",
    "sc.pl.umap(adata_s3_2, color=['science_clustering'], legend_loc='on data', cmap=magma, ax=axs[1], show=False)"
   ]
  },
  {
   "cell_type": "code",
   "execution_count": null,
   "id": "baking-second",
   "metadata": {},
   "outputs": [],
   "source": [
    "fig, axs = plt.subplots(1, 2, figsize=(6, 3))\n",
    "sc.pl.umap(adata_s4_13, color=['science_clustering'], legend_loc='on data', cmap=magma, ax=axs[0], show=False)\n",
    "sc.pl.umap(adata_s4_2, color=['science_clustering'], legend_loc='on data', cmap=magma, ax=axs[1], show=False)"
   ]
  },
  {
   "cell_type": "markdown",
   "id": "appreciated-horror",
   "metadata": {},
   "source": [
    "## Assigning JID categories\n",
    "Based on this we do not see any discordancies in the dataset. We are going to apply the category assignation to assign the JID clusters to the dataset."
   ]
  },
  {
   "cell_type": "code",
   "execution_count": null,
   "id": "arctic-party",
   "metadata": {},
   "outputs": [],
   "source": [
    "## MAP JID populations\n",
    "\n",
    "dict_cat = {'A1': ['PI16', 'QPCT', 'SLPI', 'CCN5', 'CPE', 'CTHRC1', 'MFAP5', 'PCOLCE2', 'SCARA5', 'TSPAN8'], \n",
    "            'A2': ['APCDD1', 'COL18A1', 'COMP', 'NKD2', 'F13A1', 'HSPB3', 'LEPR', 'TGFBI'], \n",
    "            'B1': ['CXCL2', 'MYC', 'C7', 'SPSB1', 'ITM2A'], #['CCL2', 'ITM2A', 'SPSB1', 'SOD2', 'APOD', 'C3', 'C7', 'CXCL2', 'CXCL12', 'DNAJA1', 'GGT5', 'IGFBP7', 'MYC'], \n",
    "            'B2': ['SOCS3', 'CCL19', 'CD74', 'RARRES2', 'CCDC146', 'IGFBP3', 'TNFSF13B'], \n",
    "            'C2': ['COCH', 'CRABP1', 'ARHGAP15', 'PLXDC1', 'RSPO4'], \n",
    "            'C3': ['ASPN', 'F2R', 'POSTN', 'TNN'],}\n",
    "\n",
    "# dict_cat = {key: val[:4] for key, val in dict_cat.items()}"
   ]
  },
  {
   "cell_type": "markdown",
   "id": "limiting-alignment",
   "metadata": {},
   "source": [
    "* A1: TSPAN8, SCARA5 less expressed in 1+3 datasets\n",
    "* A2: F13A1, HSPB3 less expressed in 1+3 datasets. APCDD1 is not a good marker for all samples\n",
    "* B1: removed many genes because expression patter is not consistent\n",
    "* B2: CCDC146 + TNFSF13B not expressed in 1+3 datasets\n",
    "* C1: Is not appearing\n",
    "* C2: Is not appearing except in 2 datasets of some patients (s2 and S4)\n",
    "* C3: Is not completely expressed, and sometimes POSTN does not collocalize with F2R\n",
    "* C4: Is not present in the data"
   ]
  },
  {
   "cell_type": "markdown",
   "id": "authorized-fault",
   "metadata": {},
   "source": [
    "### S1 1+3"
   ]
  },
  {
   "cell_type": "code",
   "execution_count": null,
   "id": "advanced-flexibility",
   "metadata": {},
   "outputs": [],
   "source": [
    "adata_s = adata_s1_13"
   ]
  },
  {
   "cell_type": "code",
   "execution_count": null,
   "id": "turkish-papua",
   "metadata": {},
   "outputs": [],
   "source": [
    "for key, val in dict_cat.items():\n",
    "        print(key, val)\n",
    "        sc.pl.umap(adata_s, color=['science_clustering'] + [i for i in val[:4] if i in eval(adata_s_name).var_names], legend_loc='on data', cmap=magma, use_raw=False, ncols=5)"
   ]
  },
  {
   "cell_type": "code",
   "execution_count": null,
   "id": "appointed-junction",
   "metadata": {},
   "outputs": [],
   "source": [
    "sc.tl.leiden(adata_s, resolution=1.4, random_state=seed)\n",
    "assign_cats(adata_s, dict_cats=dict_cat, column_groupby='leiden', intermediate_states=True, diff=0.05)\n",
    "sc.pl.umap(adata_s, color=['leiden', 'assigned_cats', \n",
    "                           'assigned_cats_A1', 'assigned_cats_A2', 'assigned_cats_B1', 'assigned_cats_B2', 'assigned_cats_C2', 'assigned_cats_C3'], legend_loc='on data', vmax=1, vmin=0, cmap=magma, use_raw=False)"
   ]
  },
  {
   "cell_type": "markdown",
   "id": "interpreted-basics",
   "metadata": {},
   "source": [
    "### S1 2"
   ]
  },
  {
   "cell_type": "code",
   "execution_count": null,
   "id": "cardiac-championship",
   "metadata": {},
   "outputs": [],
   "source": [
    "adata_s = adata_s1_2"
   ]
  },
  {
   "cell_type": "code",
   "execution_count": null,
   "id": "dimensional-porcelain",
   "metadata": {},
   "outputs": [],
   "source": [
    "for key, val in dict_cat.items():\n",
    "        print(key, val)\n",
    "        sc.pl.umap(adata_s, color=['science_clustering'] + [i for i in val if i in eval(adata_s_name).var_names], legend_loc='on data', cmap=magma, use_raw=False, ncols=5)"
   ]
  },
  {
   "cell_type": "code",
   "execution_count": null,
   "id": "cross-ribbon",
   "metadata": {},
   "outputs": [],
   "source": [
    "sc.tl.leiden(adata_s, resolution=1.5, random_state=seed)\n",
    "assign_cats(adata_s, dict_cats=dict_cat, column_groupby='leiden', intermediate_states=True, diff=0.07)\n",
    "sc.pl.umap(adata_s, color=['leiden', 'assigned_cats', \n",
    "                           'assigned_cats_A1', 'assigned_cats_A2', 'assigned_cats_B1', 'assigned_cats_B2', 'assigned_cats_C2', 'assigned_cats_C3'], legend_loc='on data', vmax=1, cmap=magma, use_raw=False)"
   ]
  },
  {
   "cell_type": "markdown",
   "id": "appreciated-security",
   "metadata": {},
   "source": [
    "### S2 1+3"
   ]
  },
  {
   "cell_type": "code",
   "execution_count": null,
   "id": "functioning-auckland",
   "metadata": {},
   "outputs": [],
   "source": [
    "adata_s = adata_s2_13"
   ]
  },
  {
   "cell_type": "code",
   "execution_count": null,
   "id": "contemporary-egyptian",
   "metadata": {},
   "outputs": [],
   "source": [
    "for key, val in dict_cat.items():\n",
    "        print(key, val)\n",
    "        sc.pl.umap(adata_s, color=['science_clustering'] + [i for i in val if i in eval(adata_s_name).var_names], legend_loc='on data', cmap=magma, use_raw=False, ncols=5)"
   ]
  },
  {
   "cell_type": "code",
   "execution_count": null,
   "id": "parental-composite",
   "metadata": {},
   "outputs": [],
   "source": [
    "sc.tl.leiden(adata_s, resolution=1.5, random_state=seed)\n",
    "assign_cats(adata_s, dict_cats=dict_cat, column_groupby='leiden', intermediate_states=True, diff=0.07)\n",
    "sc.pl.umap(adata_s, color=['leiden', 'assigned_cats', \n",
    "                           'assigned_cats_A1', 'assigned_cats_A2', 'assigned_cats_B1', 'assigned_cats_B2', 'assigned_cats_C2', 'assigned_cats_C3'], legend_loc='on data', vmax=1, cmap=magma, use_raw=False)"
   ]
  },
  {
   "cell_type": "markdown",
   "id": "international-norwegian",
   "metadata": {},
   "source": [
    "### S2 2"
   ]
  },
  {
   "cell_type": "code",
   "execution_count": null,
   "id": "about-alcohol",
   "metadata": {},
   "outputs": [],
   "source": [
    "adata_s = adata_s2_2"
   ]
  },
  {
   "cell_type": "code",
   "execution_count": null,
   "id": "weird-result",
   "metadata": {},
   "outputs": [],
   "source": [
    "for key, val in dict_cat.items():\n",
    "        print(key, val)\n",
    "        sc.pl.umap(adata_s, color=['science_clustering'] + [i for i in val if i in eval(adata_s_name).var_names], legend_loc='on data', cmap=magma, use_raw=False, ncols=5)"
   ]
  },
  {
   "cell_type": "code",
   "execution_count": null,
   "id": "meaning-documentation",
   "metadata": {},
   "outputs": [],
   "source": [
    "sc.tl.leiden(adata_s, resolution=1, random_state=seed)\n",
    "assign_cats(adata_s, dict_cats=dict_cat, column_groupby='leiden', intermediate_states=True, diff=0.07)\n",
    "sc.pl.umap(adata_s, color=['leiden', 'assigned_cats', \n",
    "                           'assigned_cats_A1', 'assigned_cats_A2', 'assigned_cats_B1', 'assigned_cats_B2', 'assigned_cats_C2', 'assigned_cats_C3'], legend_loc='on data', vmax=1, cmap=magma, use_raw=False)"
   ]
  },
  {
   "cell_type": "markdown",
   "id": "certified-fleet",
   "metadata": {},
   "source": [
    "### S3 1+3"
   ]
  },
  {
   "cell_type": "code",
   "execution_count": null,
   "id": "engaged-strike",
   "metadata": {},
   "outputs": [],
   "source": [
    "adata_s = adata_s3_13"
   ]
  },
  {
   "cell_type": "code",
   "execution_count": null,
   "id": "still-navigation",
   "metadata": {},
   "outputs": [],
   "source": [
    "for key, val in dict_cat.items():\n",
    "        print(key, val)\n",
    "        sc.pl.umap(adata_s, color=['science_clustering'] + [i for i in val if i in adata_s.var_names], legend_loc='on data', cmap=magma, use_raw=False, ncols=5)"
   ]
  },
  {
   "cell_type": "code",
   "execution_count": null,
   "id": "hidden-moore",
   "metadata": {},
   "outputs": [],
   "source": [
    "sc.tl.leiden(adata_s, resolution=2, random_state=seed)\n",
    "assign_cats(adata_s, dict_cats=dict_cat, column_groupby='leiden', intermediate_states=True, diff=0.05)\n",
    "sc.pl.umap(adata_s, color=['leiden', 'assigned_cats', \n",
    "                           'assigned_cats_A1', 'assigned_cats_A2', 'assigned_cats_B1', 'assigned_cats_B2', 'assigned_cats_C2', 'assigned_cats_C3'], legend_loc='on data', vmax=1, cmap=magma, use_raw=False)"
   ]
  },
  {
   "cell_type": "markdown",
   "id": "eastern-fantasy",
   "metadata": {},
   "source": [
    "### S3 2"
   ]
  },
  {
   "cell_type": "code",
   "execution_count": null,
   "id": "normal-pursuit",
   "metadata": {},
   "outputs": [],
   "source": [
    "adata_s = adata_s3_2"
   ]
  },
  {
   "cell_type": "code",
   "execution_count": null,
   "id": "bearing-fancy",
   "metadata": {},
   "outputs": [],
   "source": [
    "for key, val in dict_cat.items():\n",
    "        print(key, val)\n",
    "        sc.pl.umap(adata_s, color=['science_clustering'] + [i for i in val if i in adata_s.var_names], legend_loc='on data', cmap=magma, use_raw=False)"
   ]
  },
  {
   "cell_type": "code",
   "execution_count": null,
   "id": "local-harvest",
   "metadata": {},
   "outputs": [],
   "source": [
    "sc.tl.leiden(adata_s, resolution=1.4, random_state=seed)\n",
    "assign_cats(adata_s, dict_cats=dict_cat, column_groupby='leiden', intermediate_states=True, diff=0.07)\n",
    "sc.pl.umap(adata_s, color=['leiden', 'assigned_cats', \n",
    "                           'assigned_cats_A1', 'assigned_cats_A2', 'assigned_cats_B1', 'assigned_cats_B2', 'assigned_cats_C2', 'assigned_cats_C3'], legend_loc='on data', vmax=1, cmap=magma, use_raw=False)"
   ]
  },
  {
   "cell_type": "markdown",
   "id": "accessory-program",
   "metadata": {},
   "source": [
    "### S4 1+3"
   ]
  },
  {
   "cell_type": "code",
   "execution_count": null,
   "id": "labeled-injection",
   "metadata": {},
   "outputs": [],
   "source": [
    "adata_s = adata_s4_13"
   ]
  },
  {
   "cell_type": "code",
   "execution_count": null,
   "id": "other-munich",
   "metadata": {},
   "outputs": [],
   "source": [
    "for key, val in dict_cat.items():\n",
    "        print(key, val)\n",
    "        sc.pl.umap(adata_s, color=['science_clustering'] + [i for i in val if i in adata_s.var_names], legend_loc='on data', cmap=magma, use_raw=False)"
   ]
  },
  {
   "cell_type": "code",
   "execution_count": null,
   "id": "split-sport",
   "metadata": {},
   "outputs": [],
   "source": [
    "sc.tl.leiden(adata_s, resolution=2, random_state=seed)\n",
    "assign_cats(adata_s, dict_cats=dict_cat, column_groupby='leiden', intermediate_states=True, diff=0.07)\n",
    "sc.pl.umap(adata_s, color=['leiden', 'assigned_cats', \n",
    "                           'assigned_cats_A1', 'assigned_cats_A2', 'assigned_cats_B1', 'assigned_cats_B2', 'assigned_cats_C2', 'assigned_cats_C3'], legend_loc='on data', vmax=1, cmap=magma, use_raw=False)"
   ]
  },
  {
   "cell_type": "markdown",
   "id": "engaging-dance",
   "metadata": {},
   "source": [
    "### S4 2"
   ]
  },
  {
   "cell_type": "code",
   "execution_count": null,
   "id": "sapphire-january",
   "metadata": {},
   "outputs": [],
   "source": [
    "adata_s = adata_s4_2"
   ]
  },
  {
   "cell_type": "code",
   "execution_count": null,
   "id": "advance-pilot",
   "metadata": {},
   "outputs": [],
   "source": [
    "for key, val in dict_cat.items():\n",
    "        print(key, val)\n",
    "        sc.pl.umap(adata_s, color=['science_clustering'] + [i for i in val if i in adata_s.var_names], legend_loc='on data', cmap=magma, use_raw=False)"
   ]
  },
  {
   "cell_type": "code",
   "execution_count": null,
   "id": "afraid-device",
   "metadata": {},
   "outputs": [],
   "source": [
    "sc.tl.leiden(adata_s, resolution=2, random_state=seed)\n",
    "assign_cats(adata_s, dict_cats=dict_cat, column_groupby='leiden', intermediate_states=True, diff=0.07)\n",
    "sc.pl.umap(adata_s, color=['leiden', 'assigned_cats', \n",
    "                           'assigned_cats_A1', 'assigned_cats_A2', 'assigned_cats_B1', 'assigned_cats_B2', 'assigned_cats_C2', 'assigned_cats_C3'], legend_loc='on data', vmax=1, cmap=magma, use_raw=False)"
   ]
  },
  {
   "cell_type": "markdown",
   "id": "instant-capability",
   "metadata": {},
   "source": [
    "## Joining 1+3 and 2 adatas\n",
    "Now we are going to join all adatas into two: one for each category. We should find that the predicted categories should match between them across adatas.\n",
    "\n",
    "**OUTER JOIN IS APPLIED TO KEEPS GENES NOT EXPRESSED IN ALL ADATAS**"
   ]
  },
  {
   "cell_type": "markdown",
   "id": "descending-heath",
   "metadata": {},
   "source": [
    "### No batch effect correction"
   ]
  },
  {
   "cell_type": "code",
   "execution_count": null,
   "id": "japanese-spray",
   "metadata": {},
   "outputs": [],
   "source": [
    "adata_all_13 = sc.AnnData.concatenate(adata_s1_13, adata_s2_13, adata_s3_13, adata_s4_13, batch_categories=['s1', 's2', 's3', 's4'], batch_key='s_dataset', join='outer')\n",
    "adata_all_2 = sc.AnnData.concatenate(adata_s1_2, adata_s2_2, adata_s3_2, adata_s4_2, batch_categories=['s1', 's2', 's3', 's4'], batch_key='s_dataset', join='outer')"
   ]
  },
  {
   "cell_type": "code",
   "execution_count": null,
   "id": "fitting-flash",
   "metadata": {},
   "outputs": [],
   "source": [
    "for adata_name in ['adata_all_13', 'adata_all_2']:\n",
    "    sc.pp.filter_genes(eval(adata_name), min_counts=1)\n",
    "    sc.pp.pca(eval(adata_name), random_state=seed, n_comps=30)\n",
    "    tk.tl.triku(eval(adata_name), n_procs=1, random_state=seed, use_adata_knn=True)\n",
    "    sc.pp.neighbors(eval(adata_name), metric='cosine', random_state=seed)\n",
    "    sc.tl.umap(eval(adata_name), min_dist=0.3, random_state=seed)"
   ]
  },
  {
   "cell_type": "code",
   "execution_count": null,
   "id": "protecting-payment",
   "metadata": {},
   "outputs": [],
   "source": [
    "for adata_name in ['adata_all_13', 'adata_all_2']:\n",
    "    sc.pl.umap(eval(adata_name),  color=['s_dataset', 'assigned_cats'])"
   ]
  },
  {
   "cell_type": "markdown",
   "id": "deluxe-installation",
   "metadata": {},
   "source": [
    "### bbknn"
   ]
  },
  {
   "cell_type": "markdown",
   "id": "chief-probability",
   "metadata": {},
   "source": [
    "#### kNN within batch: 2"
   ]
  },
  {
   "cell_type": "code",
   "execution_count": null,
   "id": "careful-doctrine",
   "metadata": {},
   "outputs": [],
   "source": [
    "adata_all_13 = sc.AnnData.concatenate(adata_s1_13, adata_s2_13, adata_s3_13, adata_s4_13, batch_categories=['s1', 's2', 's3', 's4'], batch_key='s_dataset', join='outer')\n",
    "adata_all_2 = sc.AnnData.concatenate(adata_s1_2, adata_s2_2, adata_s3_2, adata_s4_2, batch_categories=['s1', 's2', 's3', 's4'], batch_key='s_dataset', join='outer')"
   ]
  },
  {
   "cell_type": "code",
   "execution_count": null,
   "id": "indoor-rendering",
   "metadata": {},
   "outputs": [],
   "source": [
    "for adata_name in ['adata_all_13', 'adata_all_2']:\n",
    "    sc.pp.filter_genes(eval(adata_name), min_counts=30)\n",
    "    sc.pp.pca(eval(adata_name), random_state=seed, n_comps=30)\n",
    "    sce.pp.bbknn(eval(adata_name), metric='angular', batch_key='s_dataset', neighbors_within_batch=2)\n",
    "    tk.tl.triku(eval(adata_name), n_procs=1, random_state=seed, use_adata_knn=True)\n",
    "    sc.tl.umap(eval(adata_name), min_dist=0.05, random_state=seed)"
   ]
  },
  {
   "cell_type": "code",
   "execution_count": null,
   "id": "limited-durham",
   "metadata": {},
   "outputs": [],
   "source": [
    "for adata_name in ['adata_all_13', 'adata_all_2']:\n",
    "    sc.tl.leiden(eval(adata_name), resolution=1.5)\n",
    "    sc.pl.umap(eval(adata_name),  color=['s_dataset', 'leiden', 'assigned_cats'])"
   ]
  },
  {
   "cell_type": "markdown",
   "id": "dense-invitation",
   "metadata": {},
   "source": [
    "#### kNN within batch: 3"
   ]
  },
  {
   "cell_type": "code",
   "execution_count": null,
   "id": "superb-dover",
   "metadata": {},
   "outputs": [],
   "source": [
    "adata_all_13 = sc.AnnData.concatenate(adata_s1_13, adata_s2_13, adata_s3_13, adata_s4_13, batch_categories=['s1', 's2', 's3', 's4'], batch_key='s_dataset', join='outer')\n",
    "adata_all_2 = sc.AnnData.concatenate(adata_s1_2, adata_s2_2, adata_s3_2, adata_s4_2, batch_categories=['s1', 's2', 's3', 's4'], batch_key='s_dataset', join='outer')"
   ]
  },
  {
   "cell_type": "code",
   "execution_count": null,
   "id": "assisted-competition",
   "metadata": {},
   "outputs": [],
   "source": [
    "for adata_name in ['adata_all_13', 'adata_all_2']:\n",
    "    sc.pp.filter_genes(eval(adata_name), min_counts=30)\n",
    "    sc.pp.pca(eval(adata_name), random_state=seed, n_comps=30)\n",
    "    sce.pp.bbknn(eval(adata_name), metric='angular', batch_key='s_dataset', neighbors_within_batch=3)\n",
    "    tk.tl.triku(eval(adata_name), n_procs=1, random_state=seed, use_adata_knn=True)\n",
    "    sc.tl.umap(eval(adata_name), min_dist=0.05, random_state=seed)"
   ]
  },
  {
   "cell_type": "code",
   "execution_count": null,
   "id": "timely-receipt",
   "metadata": {},
   "outputs": [],
   "source": [
    "for adata_name in ['adata_all_13', 'adata_all_2']:\n",
    "    sc.tl.leiden(eval(adata_name), resolution=1.5)\n",
    "    sc.pl.umap(eval(adata_name),  color=['s_dataset', 'leiden', 'assigned_cats'])"
   ]
  },
  {
   "cell_type": "markdown",
   "id": "muslim-court",
   "metadata": {},
   "source": [
    "#### kNN within batch: 6"
   ]
  },
  {
   "cell_type": "code",
   "execution_count": null,
   "id": "romantic-evanescence",
   "metadata": {},
   "outputs": [],
   "source": [
    "adata_all_13 = sc.AnnData.concatenate(adata_s1_13, adata_s2_13, adata_s3_13, adata_s4_13, batch_categories=['s1', 's2', 's3', 's4'], batch_key='s_dataset', join='outer')\n",
    "adata_all_2 = sc.AnnData.concatenate(adata_s1_2, adata_s2_2, adata_s3_2, adata_s4_2, batch_categories=['s1', 's2', 's3', 's4'], batch_key='s_dataset', join='outer')"
   ]
  },
  {
   "cell_type": "code",
   "execution_count": null,
   "id": "dominant-cardiff",
   "metadata": {},
   "outputs": [],
   "source": [
    "for adata_name in ['adata_all_13', 'adata_all_2']:\n",
    "    sc.pp.filter_genes(eval(adata_name), min_counts=30)\n",
    "    sc.pp.pca(eval(adata_name), random_state=seed, n_comps=30)\n",
    "    sce.pp.bbknn(eval(adata_name), metric='angular', batch_key='s_dataset', neighbors_within_batch=6)\n",
    "    tk.tl.triku(eval(adata_name), n_procs=1, random_state=seed, use_adata_knn=True)\n",
    "    sc.tl.umap(eval(adata_name), min_dist=0.05, random_state=seed)"
   ]
  },
  {
   "cell_type": "code",
   "execution_count": null,
   "id": "forty-tragedy",
   "metadata": {},
   "outputs": [],
   "source": [
    "for adata_name in ['adata_all_13', 'adata_all_2']:\n",
    "    sc.pl.umap(eval(adata_name),  color=['s_dataset', 'assigned_cats'])"
   ]
  },
  {
   "cell_type": "markdown",
   "id": "directed-merit",
   "metadata": {},
   "source": [
    "#### kNN within batch: 8"
   ]
  },
  {
   "cell_type": "code",
   "execution_count": null,
   "id": "public-straight",
   "metadata": {},
   "outputs": [],
   "source": [
    "adata_all_13 = sc.AnnData.concatenate(adata_s1_13, adata_s2_13, adata_s3_13, adata_s4_13, batch_categories=['s1', 's2', 's3', 's4'], batch_key='s_dataset', join='outer')\n",
    "adata_all_2 = sc.AnnData.concatenate(adata_s1_2, adata_s2_2, adata_s3_2, adata_s4_2, batch_categories=['s1', 's2', 's3', 's4'], batch_key='s_dataset', join='outer')"
   ]
  },
  {
   "cell_type": "code",
   "execution_count": null,
   "id": "ordered-parts",
   "metadata": {},
   "outputs": [],
   "source": [
    "for adata_name in ['adata_all_13', 'adata_all_2']:\n",
    "    sc.pp.filter_genes(eval(adata_name), min_counts=30)\n",
    "    sc.pp.pca(eval(adata_name), random_state=seed, n_comps=30)\n",
    "    sce.pp.bbknn(eval(adata_name), metric='angular', batch_key='s_dataset', neighbors_within_batch=8)\n",
    "    tk.tl.triku(eval(adata_name), n_procs=1, random_state=seed, use_adata_knn=True)\n",
    "    sc.tl.umap(eval(adata_name), min_dist=0.05, random_state=seed)"
   ]
  },
  {
   "cell_type": "code",
   "execution_count": null,
   "id": "fewer-roman",
   "metadata": {},
   "outputs": [],
   "source": [
    "for adata_name in ['adata_all_13', 'adata_all_2']:\n",
    "    sc.pl.umap(eval(adata_name),  color=['s_dataset', 'assigned_cats'])"
   ]
  },
  {
   "cell_type": "markdown",
   "id": "downtown-cyprus",
   "metadata": {},
   "source": [
    "### harmonypy"
   ]
  },
  {
   "cell_type": "markdown",
   "id": "coated-basement",
   "metadata": {},
   "source": [
    "#### sigma = 0.1"
   ]
  },
  {
   "cell_type": "code",
   "execution_count": null,
   "id": "fallen-booth",
   "metadata": {},
   "outputs": [],
   "source": [
    "adata_all_13 = sc.AnnData.concatenate(adata_s1_13, adata_s2_13, adata_s3_13, adata_s4_13, batch_categories=['s1', 's2', 's3', 's4'], batch_key='s_dataset', join='outer')\n",
    "adata_all_2 = sc.AnnData.concatenate(adata_s1_2, adata_s2_2, adata_s3_2, adata_s4_2, batch_categories=['s1', 's2', 's3', 's4'], batch_key='s_dataset', join='outer')"
   ]
  },
  {
   "cell_type": "code",
   "execution_count": null,
   "id": "moving-affiliation",
   "metadata": {},
   "outputs": [],
   "source": [
    "for adata_name in ['adata_all_13', 'adata_all_2']:\n",
    "    sc.pp.filter_genes(eval(adata_name), min_counts=30)\n",
    "    sc.pp.pca(eval(adata_name), random_state=seed, n_comps=30)\n",
    "    sce.pp.harmony_integrate(eval(adata_name), key='s_dataset', basis='X_pca', \n",
    "                             adjusted_basis='X_pca_harmony', random_state=seed, \n",
    "                             epsilon_cluster=1e-06, epsilon_harmony=0.00001, \n",
    "                             max_iter_harmony=25, sigma=0.1)\n",
    "    sc.pp.neighbors(eval(adata_name), metric='cosine', use_rep='X_pca_harmony', random_state=seed)\n",
    "    tk.tl.triku(eval(adata_name), n_procs=1, random_state=seed, use_adata_knn=True)\n",
    "    sc.tl.umap(eval(adata_name), min_dist=0.3, random_state=seed)"
   ]
  },
  {
   "cell_type": "code",
   "execution_count": null,
   "id": "controlled-airplane",
   "metadata": {},
   "outputs": [],
   "source": [
    "for adata_name in ['adata_all_13', 'adata_all_2']:\n",
    "    sc.tl.leiden(eval(adata_name), resolution=0.2)\n",
    "    sc.tl.rank_genes_groups(eval(adata_name), method='wilcoxon', groupby='leiden')\n",
    "    sc.pl.umap(eval(adata_name),  color=['s_dataset', 'leiden', 'assigned_cats',])"
   ]
  },
  {
   "cell_type": "code",
   "execution_count": null,
   "id": "graduate-thomas",
   "metadata": {},
   "outputs": [],
   "source": [
    "sc.pl.umap(adata_all_13,  color=['s_dataset', 'leiden', 'assigned_cats',])"
   ]
  },
  {
   "cell_type": "markdown",
   "id": "differential-consolidation",
   "metadata": {},
   "source": [
    "#### sigma = 0.25"
   ]
  },
  {
   "cell_type": "code",
   "execution_count": null,
   "id": "naked-score",
   "metadata": {},
   "outputs": [],
   "source": [
    "adata_all_13 = sc.AnnData.concatenate(adata_s1_13, adata_s2_13, adata_s3_13, adata_s4_13, batch_categories=['s1', 's2', 's3', 's4'], batch_key='s_dataset', join='outer')\n",
    "adata_all_2 = sc.AnnData.concatenate(adata_s1_2, adata_s2_2, adata_s3_2, adata_s4_2, batch_categories=['s1', 's2', 's3', 's4'], batch_key='s_dataset', join='outer')"
   ]
  },
  {
   "cell_type": "code",
   "execution_count": null,
   "id": "municipal-theater",
   "metadata": {},
   "outputs": [],
   "source": [
    "for adata_name in ['adata_all_13', 'adata_all_2']:\n",
    "    sc.pp.filter_genes(eval(adata_name), min_counts=30)\n",
    "    sc.pp.pca(eval(adata_name), random_state=seed, n_comps=30)\n",
    "    sce.pp.harmony_integrate(eval(adata_name), key='s_dataset', basis='X_pca', \n",
    "                             adjusted_basis='X_pca_harmony', random_state=seed, \n",
    "                             epsilon_cluster=1e-06, epsilon_harmony=0.00001, \n",
    "                             max_iter_harmony=25, sigma=0.25)\n",
    "    sc.pp.neighbors(eval(adata_name), metric='cosine', use_rep='X_pca_harmony', random_state=seed)\n",
    "    tk.tl.triku(eval(adata_name), n_procs=1, random_state=seed, use_adata_knn=True)\n",
    "    sc.tl.umap(eval(adata_name), min_dist=0.3, random_state=seed)"
   ]
  },
  {
   "cell_type": "code",
   "execution_count": null,
   "id": "considerable-yorkshire",
   "metadata": {},
   "outputs": [],
   "source": [
    "for adata_name in ['adata_all_13', 'adata_all_2']:\n",
    "    sc.tl.leiden(eval(adata_name), resolution=0.6)\n",
    "    sc.tl.rank_genes_groups(eval(adata_name), method='wilcoxon', groupby='leiden')\n",
    "    sc.pl.umap(eval(adata_name),  color=['s_dataset', 'leiden', 'assigned_cats',])"
   ]
  },
  {
   "cell_type": "code",
   "execution_count": null,
   "id": "legislative-fantasy",
   "metadata": {},
   "outputs": [],
   "source": [
    "sc.pl.umap(adata_all_13,  color=['s_dataset', 'leiden', 'assigned_cats',])\n",
    "sc.pl.rank_genes_groups_tracksplot(adata_all_13, dendrogram=False, use_raw=False, n_genes=20)"
   ]
  },
  {
   "cell_type": "code",
   "execution_count": null,
   "id": "absent-amateur",
   "metadata": {},
   "outputs": [],
   "source": [
    "sc.pl.umap(adata_all_2,  color=['s_dataset', 'leiden', 'assigned_cats',])\n",
    "sc.pl.rank_genes_groups_tracksplot(adata_all_2, dendrogram=False, use_raw=False, n_genes=20)"
   ]
  },
  {
   "cell_type": "markdown",
   "id": "decimal-crystal",
   "metadata": {},
   "source": [
    "#### sigma = 0.5"
   ]
  },
  {
   "cell_type": "code",
   "execution_count": null,
   "id": "electrical-investigation",
   "metadata": {},
   "outputs": [],
   "source": [
    "adata_all_13 = sc.AnnData.concatenate(adata_s1_13, adata_s2_13, adata_s3_13, adata_s4_13, batch_categories=['s1', 's2', 's3', 's4'], batch_key='s_dataset', join='outer')\n",
    "adata_all_2 = sc.AnnData.concatenate(adata_s1_2, adata_s2_2, adata_s3_2, adata_s4_2, batch_categories=['s1', 's2', 's3', 's4'], batch_key='s_dataset', join='outer')"
   ]
  },
  {
   "cell_type": "code",
   "execution_count": null,
   "id": "hungarian-oliver",
   "metadata": {},
   "outputs": [],
   "source": [
    "for adata_name in ['adata_all_13', 'adata_all_2']:\n",
    "    sc.pp.filter_genes(eval(adata_name), min_counts=30)\n",
    "    sc.pp.pca(eval(adata_name), random_state=seed, n_comps=30)\n",
    "    sce.pp.harmony_integrate(eval(adata_name), key='s_dataset', basis='X_pca', \n",
    "                             adjusted_basis='X_pca_harmony', random_state=seed, \n",
    "                             epsilon_cluster=1e-06, epsilon_harmony=0.00001, \n",
    "                             max_iter_harmony=25, sigma=0.5)\n",
    "    sc.pp.neighbors(eval(adata_name), metric='cosine', use_rep='X_pca_harmony', random_state=seed)\n",
    "    tk.tl.triku(eval(adata_name), n_procs=1, random_state=seed, use_adata_knn=True)\n",
    "    sc.tl.umap(eval(adata_name), min_dist=0.3, random_state=seed)"
   ]
  },
  {
   "cell_type": "code",
   "execution_count": null,
   "id": "occupational-phrase",
   "metadata": {},
   "outputs": [],
   "source": [
    "for adata_name in ['adata_all_13', 'adata_all_2']:\n",
    "    sc.tl.leiden(eval(adata_name), resolution=0.6)\n",
    "    sc.tl.rank_genes_groups(eval(adata_name), method='wilcoxon', groupby='leiden')\n",
    "    sc.pl.umap(eval(adata_name),  color=['s_dataset', 'leiden', 'assigned_cats',])"
   ]
  },
  {
   "cell_type": "code",
   "execution_count": null,
   "id": "equivalent-demonstration",
   "metadata": {
    "scrolled": true
   },
   "outputs": [],
   "source": [
    "sc.pl.umap(adata_all_13,  color=['s_dataset', 'leiden', 'assigned_cats',])\n",
    "sc.pl.rank_genes_groups_tracksplot(adata_all_13, dendrogram=False, use_raw=False, n_genes=20)"
   ]
  },
  {
   "cell_type": "code",
   "execution_count": null,
   "id": "different-provincial",
   "metadata": {
    "scrolled": true
   },
   "outputs": [],
   "source": [
    "sc.pl.umap(adata_all_2,  color=['s_dataset', 'leiden', 'assigned_cats',])\n",
    "sc.pl.rank_genes_groups_tracksplot(adata_all_2, dendrogram=False, use_raw=False, n_genes=20)"
   ]
  },
  {
   "cell_type": "markdown",
   "id": "boolean-minority",
   "metadata": {},
   "source": [
    "### Selecting the definitive option with bbknn with k=2"
   ]
  },
  {
   "cell_type": "code",
   "execution_count": null,
   "id": "adequate-occupation",
   "metadata": {},
   "outputs": [],
   "source": [
    "adata_all_13 = sc.AnnData.concatenate(adata_s1_13, adata_s2_13, adata_s3_13, adata_s4_13, batch_categories=['s1', 's2', 's3', 's4'], batch_key='s_dataset', join='outer')\n",
    "adata_all_2 = sc.AnnData.concatenate(adata_s1_2, adata_s2_2, adata_s3_2, adata_s4_2, batch_categories=['s1', 's2', 's3', 's4'], batch_key='s_dataset', join='outer')"
   ]
  },
  {
   "cell_type": "code",
   "execution_count": null,
   "id": "polish-indiana",
   "metadata": {},
   "outputs": [],
   "source": [
    "for adata_name in ['adata_all_13', 'adata_all_2']:\n",
    "    sc.pp.filter_genes(eval(adata_name), min_counts=30)\n",
    "    sc.pp.pca(eval(adata_name), random_state=seed, n_comps=30)\n",
    "    sce.pp.bbknn(eval(adata_name), metric='angular', batch_key='s_dataset', neighbors_within_batch=2)\n",
    "    tk.tl.triku(eval(adata_name), n_procs=1, random_state=seed, use_adata_knn=True)\n",
    "    sc.tl.umap(eval(adata_name), min_dist=0.05, random_state=seed)"
   ]
  },
  {
   "cell_type": "code",
   "execution_count": null,
   "id": "emotional-dialogue",
   "metadata": {},
   "outputs": [],
   "source": [
    "for adata_name in ['adata_all_13', 'adata_all_2']:\n",
    "    sc.tl.leiden(eval(adata_name), resolution=1.5)\n",
    "    sc.pl.umap(eval(adata_name),  color=['s_dataset', 'leiden', 'assigned_cats'])"
   ]
  },
  {
   "cell_type": "markdown",
   "id": "republican-colombia",
   "metadata": {},
   "source": [
    "#### Determing genes separating 1+3 populations"
   ]
  },
  {
   "cell_type": "code",
   "execution_count": null,
   "id": "empirical-draft",
   "metadata": {},
   "outputs": [],
   "source": [
    "sc.tl.leiden(adata_all_13, resolution=2)\n",
    "\n",
    "sc.pl.umap(adata_all_13,  color=['s_dataset', 'leiden', 'assigned_cats'])\n",
    "sc.tl.rank_genes_groups(adata_all_13, groupby='leiden', method='wilcoxon', use_raw=False)"
   ]
  },
  {
   "cell_type": "code",
   "execution_count": null,
   "id": "still-academy",
   "metadata": {
    "scrolled": true
   },
   "outputs": [],
   "source": [
    "sc.pl.rank_genes_groups_tracksplot(adata_all_13, dendrogram=False, use_raw=False, n_genes=50)"
   ]
  },
  {
   "cell_type": "code",
   "execution_count": null,
   "id": "supposed-electron",
   "metadata": {
    "scrolled": true
   },
   "outputs": [],
   "source": [
    "# THIS PART MIGHT NOT BE REPLICABLE OUTSIDE!!! Clusters 5 and 1 are set to detect differences in A2 left VS right\n",
    "sc.tl.rank_genes_groups(adata_all_13, groupby='leiden', method='wilcoxon', groups=['5'], reference='1')\n",
    "sc.pl.rank_genes_groups_tracksplot(adata_all_13, dendrogram=False, use_raw=False, n_genes=150)"
   ]
  },
  {
   "cell_type": "code",
   "execution_count": null,
   "id": "collective-discount",
   "metadata": {
    "scrolled": true
   },
   "outputs": [],
   "source": [
    "sc.pl.umap(adata_all_13, color=['leiden'] + list(adata_all_13.uns['rank_genes_groups']['names']['5'][:150]), cmap=magma, use_raw=False)"
   ]
  },
  {
   "cell_type": "code",
   "execution_count": null,
   "id": "alike-index",
   "metadata": {
    "scrolled": true
   },
   "outputs": [],
   "source": [
    "# THIS PART MIGHT NOT BE REPLICABLE OUTSIDE!!! Clusters 5 and 1 are set to detect differences in A2 left VS right\n",
    "sc.tl.rank_genes_groups(adata_all_13, groupby='leiden', method='wilcoxon', groups=['1'], reference='5')\n",
    "sc.pl.rank_genes_groups_tracksplot(adata_all_13, dendrogram=False, use_raw=False, n_genes=150)"
   ]
  },
  {
   "cell_type": "code",
   "execution_count": null,
   "id": "personalized-arthur",
   "metadata": {
    "scrolled": true
   },
   "outputs": [],
   "source": [
    "sc.pl.umap(adata_all_13, color=['leiden'] + list(adata_all_13.uns['rank_genes_groups']['names']['1'][:150]), cmap=magma, use_raw=False)"
   ]
  },
  {
   "cell_type": "code",
   "execution_count": null,
   "id": "apart-ballot",
   "metadata": {},
   "outputs": [],
   "source": [
    "genes_cluster_A2_L = ['HILPDA', 'VIM', 'FAM162A', 'VEGFA', 'LDHA', 'ADM', 'SNHG7', 'SYNPO', 'INSIG2', 'ERO1A', 'ZNF395', 'ANGPTL4', \n",
    "                      'NRN1', 'SLC2A1', 'EHD2', 'DDIT4', 'P4HA2', 'DPYSL2', 'WSB1', 'SNHG1', 'SNHG8', 'SLC16A3', 'BNIP3', 'RAB20', 'VKORC1',\n",
    "                      'LOXL2', 'KLF6', 'PGM1', 'SLC2A14', 'PPP1R18', 'BAIAP2', 'CDON', 'CLK1', 'PDK1', 'PYGL', 'NFIX', 'AK4', 'RORA',\n",
    "                      'NGLY1', 'SCD', 'GPRC5A', 'RASSF5', 'COPS2', 'COL27A1', 'SH3BP5', 'EGLN3', 'JUN', 'PGF', 'CXCR4', 'PPP1R3B', \n",
    "                      'HSD3B7', 'SNX33', 'KCTD11', 'MAFF', 'BEND5', 'SEPTIN9', 'PPP1R3C', 'SMIM3', 'SFXN3', 'SNHG18', 'OSBPL5',\n",
    "                      ]\n",
    "genes_cluster_A2_R = ['HSPE1', 'HMGB1', 'CEMIP', 'SNRPG', 'ERH', 'PRDX1', 'AKR1C1', 'PSMB3', 'DDX5', 'ATP5MF', 'CCT7', 'NDUFS6', \n",
    "                      'COX6B1', 'PSMA4', 'SPON1', 'NDUFAF3', 'ACTB', 'ADAMTS5', 'SLIRP', 'SSB', 'MRPL41', 'POLR2K', 'NQO2']"
   ]
  },
  {
   "cell_type": "code",
   "execution_count": null,
   "id": "confused-telephone",
   "metadata": {},
   "outputs": [],
   "source": [
    "sc.pl.umap(adata_all_13, color=genes_cluster_A2_L, cmap=magma, use_raw=False)"
   ]
  },
  {
   "cell_type": "code",
   "execution_count": null,
   "id": "criminal-hometown",
   "metadata": {},
   "outputs": [],
   "source": [
    "sc.pl.umap(adata_all_13, color=genes_cluster_A2_R, cmap=magma, use_raw=False)"
   ]
  },
  {
   "cell_type": "code",
   "execution_count": null,
   "id": "robust-kitty",
   "metadata": {},
   "outputs": [],
   "source": [
    "assign_cats(adata_all_13, dict_cats={'L': genes_cluster_A2_L, 'R': genes_cluster_A2_R}, key_added='cats_A2_axis')"
   ]
  },
  {
   "cell_type": "code",
   "execution_count": null,
   "id": "united-terrorist",
   "metadata": {},
   "outputs": [],
   "source": [
    "sc.pl.umap(adata_all_13, color=['assigned_cats', 'leiden', 'cats_A2_axis'], cmap=magma, use_raw=False)"
   ]
  },
  {
   "cell_type": "code",
   "execution_count": null,
   "id": "bigger-laundry",
   "metadata": {
    "scrolled": true
   },
   "outputs": [],
   "source": [
    "sc.tl.rank_genes_groups(adata_all_13, groupby='cats_A2_axis', method='wilcoxon')\n",
    "sc.pl.rank_genes_groups_tracksplot(adata_all_13, dendrogram=False, use_raw=False, n_genes=150)"
   ]
  },
  {
   "cell_type": "code",
   "execution_count": null,
   "id": "handled-overview",
   "metadata": {
    "scrolled": true
   },
   "outputs": [],
   "source": [
    "genes_L_13 =  list(adata_all_13.uns['rank_genes_groups']['names']['L'][:100])\n",
    "genes_R_13 =  list(adata_all_13.uns['rank_genes_groups']['names']['R'][:100])"
   ]
  },
  {
   "cell_type": "markdown",
   "id": "civilian-thomson",
   "metadata": {},
   "source": [
    "We are going to see how different is the expression between the genes. \n",
    "To do that, we are going to calculate the difference in expression for each gene between L and R. That is, we are going to compute the ratio between the mean expression of the gene in the L cells, and the R cells, for each gene."
   ]
  },
  {
   "cell_type": "code",
   "execution_count": null,
   "id": "absolute-fiber",
   "metadata": {},
   "outputs": [],
   "source": [
    "L_R_diff, R_L_diff = [], []\n",
    "\n",
    "for gene in genes_L:\n",
    "    expr_L = np.mean(adata_all_13[adata_all_13.obs['cats_A2_axis'] == 'L', gene].X)\n",
    "    expr_R = np.mean(adata_all_13[adata_all_13.obs['cats_A2_axis'] == 'R', gene].X)\n",
    "    \n",
    "    L_R_diff.append(expr_L / expr_R)\n",
    "    \n",
    "for gene in genes_R:\n",
    "    expr_L = np.mean(adata_all_13[adata_all_13.obs['cats_A2_axis'] == 'L', gene].X)\n",
    "    expr_R = np.mean(adata_all_13[adata_all_13.obs['cats_A2_axis'] == 'R', gene].X)\n",
    "    \n",
    "    R_L_diff.append(expr_R / expr_L)"
   ]
  },
  {
   "cell_type": "code",
   "execution_count": null,
   "id": "ordered-encounter",
   "metadata": {},
   "outputs": [],
   "source": [
    "data_df = pd.DataFrame({'x': ['L vs R'] * len(L_R_diff) + ['R vs L'] * len(R_L_diff), 'y': L_R_diff + R_L_diff})\n",
    "# sns.violinplot(x='x', y='y', data=data_df)\n",
    "sns.swarmplot(x='x', y='y', data=data_df)\n",
    "sts.mannwhitneyu(L_R_diff, R_L_diff)"
   ]
  },
  {
   "cell_type": "markdown",
   "id": "dangerous-project",
   "metadata": {},
   "source": [
    "We see that the difference in expression is highest for genes in L vs R group. We are going to find associations between the gene lists and ontologies to try to see if any of the genes is of value."
   ]
  },
  {
   "cell_type": "code",
   "execution_count": null,
   "id": "other-sapphire",
   "metadata": {},
   "outputs": [],
   "source": [
    "enr_L = gp.enrichr(gene_list=list(genes_L),\n",
    "                    gene_sets=['GO_Biological_Process_2018'],\n",
    "                 organism='Human', # don't forget to set organism to the one you desired! e.g. Yeast\n",
    "                 description='test_name',\n",
    "                 cutoff=0.5 # test dataset, use lower value from range(0,1)\n",
    "                )"
   ]
  },
  {
   "cell_type": "code",
   "execution_count": null,
   "id": "composite-intensity",
   "metadata": {},
   "outputs": [],
   "source": [
    "selected_cols = ['Gene_set', 'Term', 'Adjusted P-value', 'Odds Ratio', 'Genes']"
   ]
  },
  {
   "cell_type": "code",
   "execution_count": null,
   "id": "natural-internet",
   "metadata": {},
   "outputs": [],
   "source": [
    "enr_L.results.sort_values(by='Adjusted P-value').iloc[:15][selected_cols]"
   ]
  },
  {
   "cell_type": "code",
   "execution_count": null,
   "id": "second-cabin",
   "metadata": {},
   "outputs": [],
   "source": [
    "enr_R = gp.enrichr(gene_list=list(genes_R),\n",
    "                    gene_sets=['GO_Biological_Process_2018'],\n",
    "                 organism='Human', # don't forget to set organism to the one you desired! e.g. Yeast\n",
    "                 description='test_name',\n",
    "                 cutoff=0.5 # test dataset, use lower value from range(0,1)\n",
    "                )"
   ]
  },
  {
   "cell_type": "code",
   "execution_count": null,
   "id": "theoretical-civilian",
   "metadata": {},
   "outputs": [],
   "source": [
    "enr_R.results.sort_values(by='Adjusted P-value').iloc[:15][selected_cols]"
   ]
  },
  {
   "cell_type": "markdown",
   "id": "republican-optimum",
   "metadata": {},
   "source": [
    "We see that in the L axis there is an overexpression of genes related to hypoxia / HIF1-$\\alpha$ signalling, which coupled with glucose metabolism, might indicate a stress response by the cells.\n",
    "\n",
    "On the other hand, R axis shows an overexpression os NDUFA and PSMA proteins. NDUFA proteins are subunits of the mitochondrial complex III and PSMA are involved in general metabolism."
   ]
  },
  {
   "cell_type": "markdown",
   "id": "advanced-protocol",
   "metadata": {},
   "source": [
    "##### GSEA"
   ]
  },
  {
   "cell_type": "code",
   "execution_count": null,
   "id": "ranking-count",
   "metadata": {},
   "outputs": [],
   "source": [
    "rnk_L = pd.DataFrame({'gene': list(adata_all_13.uns['rank_genes_groups']['names']['L'][:3000]) , \n",
    "                    'score': list(adata_all_13.uns['rank_genes_groups']['scores']['L'][:3000])})\n",
    "\n",
    "rnk_R = pd.DataFrame({'gene': list(adata_all_13.uns['rank_genes_groups']['names']['R'][:3000]), \n",
    "                    'score': list(adata_all_13.uns['rank_genes_groups']['scores']['R'][:3000])})"
   ]
  },
  {
   "cell_type": "code",
   "execution_count": null,
   "id": "unexpected-clause",
   "metadata": {},
   "outputs": [],
   "source": [
    "pre_res_L = gp.prerank(rnk=rnk_L, gene_sets='GO_Biological_Process_2018',\n",
    "                     processes=32,\n",
    "                     permutation_num=15, # reduce number to speed up testing\n",
    "                     seed=seed)\n",
    "\n",
    "terms_L = pre_res_L.res2d[pre_res_L.res2d['pval'] < 0.01].sort_values(by='pval').index"
   ]
  },
  {
   "cell_type": "code",
   "execution_count": null,
   "id": "massive-handbook",
   "metadata": {},
   "outputs": [],
   "source": [
    "terms_L"
   ]
  },
  {
   "cell_type": "code",
   "execution_count": null,
   "id": "activated-fiber",
   "metadata": {
    "scrolled": true
   },
   "outputs": [],
   "source": [
    "pre_res_L.res2d[pre_res_L.res2d['pval'] < 0.01]"
   ]
  },
  {
   "cell_type": "code",
   "execution_count": null,
   "id": "excited-freedom",
   "metadata": {
    "scrolled": true
   },
   "outputs": [],
   "source": [
    "for i in range(min(len(terms_L), 100)):\n",
    "    gp.gseaplot(rank_metric=pre_res_L.ranking, term=terms_L[i], figsize=(4, 6), **pre_res_L.results[terms_L[i]])"
   ]
  },
  {
   "cell_type": "code",
   "execution_count": null,
   "id": "continuous-nomination",
   "metadata": {},
   "outputs": [],
   "source": [
    "pre_res_R = gp.prerank(rnk=rnk_R, gene_sets='GO_Biological_Process_2018',\n",
    "                     processes=32,\n",
    "                     permutation_num=15, # reduce number to speed up testing\n",
    "                     seed=seed)\n",
    "\n",
    "terms_R = pre_res_R.res2d[pre_res_R.res2d['pval'] < 0.01].sort_values(by='pval').index"
   ]
  },
  {
   "cell_type": "code",
   "execution_count": null,
   "id": "pointed-repair",
   "metadata": {},
   "outputs": [],
   "source": [
    "terms_R"
   ]
  },
  {
   "cell_type": "code",
   "execution_count": null,
   "id": "alleged-coating",
   "metadata": {
    "scrolled": true
   },
   "outputs": [],
   "source": [
    "pre_res_R.res2d[pre_res_R.res2d['pval'] < 0.01]"
   ]
  },
  {
   "cell_type": "code",
   "execution_count": null,
   "id": "liberal-japanese",
   "metadata": {
    "scrolled": true
   },
   "outputs": [],
   "source": [
    "for i in range(min(len(terms_R), 100)):\n",
    "    gp.gseaplot(rank_metric=pre_res_R.ranking, term=terms_R[i], figsize=(4, 6), **pre_res_R.results[terms_R[i]])"
   ]
  },
  {
   "cell_type": "markdown",
   "id": "sharp-catholic",
   "metadata": {},
   "source": [
    "#### Determing genes separating 2 populations"
   ]
  },
  {
   "cell_type": "code",
   "execution_count": null,
   "id": "weekly-birmingham",
   "metadata": {},
   "outputs": [],
   "source": [
    "sc.tl.leiden(adata_all_2, resolution=0.1)\n",
    "\n",
    "sc.pl.umap(adata_all_2,  color=['s_dataset', 'leiden', 'assigned_cats'])\n",
    "sc.tl.rank_genes_groups(adata_all_2, groupby='leiden', method='wilcoxon', use_raw=False)"
   ]
  },
  {
   "cell_type": "code",
   "execution_count": null,
   "id": "special-authentication",
   "metadata": {
    "scrolled": true
   },
   "outputs": [],
   "source": [
    "# THIS PART MIGHT NOT BE REPLICABLE OUTSIDE!!! Clusters 5 and 1 are set to detect differences in A2 left VS right\n",
    "sc.tl.rank_genes_groups(adata_all_2, groupby='leiden', method='wilcoxon', groups=['0'], reference='1')\n",
    "sc.pl.rank_genes_groups_tracksplot(adata_all_2, dendrogram=False, use_raw=False, n_genes=150)"
   ]
  },
  {
   "cell_type": "code",
   "execution_count": null,
   "id": "marine-tablet",
   "metadata": {
    "scrolled": true
   },
   "outputs": [],
   "source": [
    "sc.pl.umap(adata_all_2, color=['leiden'] + list(adata_all_2.uns['rank_genes_groups']['names']['0'][:150]), cmap=magma, use_raw=False)"
   ]
  },
  {
   "cell_type": "code",
   "execution_count": null,
   "id": "renewable-memorabilia",
   "metadata": {
    "scrolled": true
   },
   "outputs": [],
   "source": [
    "# THIS PART MIGHT NOT BE REPLICABLE OUTSIDE!!! Clusters 5 and 1 are set to detect differences in A2 left VS right\n",
    "sc.tl.rank_genes_groups(adata_all_2, groupby='leiden', method='wilcoxon', groups=['1'], reference='0')\n",
    "sc.pl.rank_genes_groups_tracksplot(adata_all_2, dendrogram=False, use_raw=False, n_genes=150)"
   ]
  },
  {
   "cell_type": "code",
   "execution_count": null,
   "id": "configured-match",
   "metadata": {
    "scrolled": true
   },
   "outputs": [],
   "source": [
    "sc.pl.umap(adata_all_2, color=['leiden'] + list(adata_all_2.uns['rank_genes_groups']['names']['1'][:150]), cmap=magma, use_raw=False)"
   ]
  },
  {
   "cell_type": "code",
   "execution_count": null,
   "id": "comfortable-retrieval",
   "metadata": {},
   "outputs": [],
   "source": [
    "genes_cluster_L = ['PTMA', 'SLC3A2', 'ZFAS1', 'FTH1', 'RAN', 'HNRNPC', 'HSP90AB1', \n",
    "                   'SLC39A14', 'ENO1', 'TNFAIP6', 'HSPD1', 'HMOX1', 'TAF1D', 'EIF5', 'H2AZ1', 'HSPA9',]\n",
    "genes_cluster_R = ['CXCL12', 'PLAC9', 'TPPP3', 'HMGN3', 'HSPA1A', 'EID1', 'CRIP1', 'HSPA1B', 'ADIRF', 'MGST3', 'FOS']"
   ]
  },
  {
   "cell_type": "code",
   "execution_count": null,
   "id": "associate-refrigerator",
   "metadata": {},
   "outputs": [],
   "source": [
    "sc.tl.leiden(adata_all_2, resolution=1.2)"
   ]
  },
  {
   "cell_type": "code",
   "execution_count": null,
   "id": "indian-resource",
   "metadata": {},
   "outputs": [],
   "source": [
    "assign_cats(adata_all_2, dict_cats={'L': genes_cluster_L, 'R': genes_cluster_R}, key_added='cats_2_axis')"
   ]
  },
  {
   "cell_type": "code",
   "execution_count": null,
   "id": "comparable-homework",
   "metadata": {},
   "outputs": [],
   "source": [
    "sc.pl.umap(adata_all_2, color=['assigned_cats', 'leiden', 'cats_2_axis'], cmap=magma, use_raw=False)"
   ]
  },
  {
   "cell_type": "code",
   "execution_count": null,
   "id": "musical-louisville",
   "metadata": {
    "scrolled": true
   },
   "outputs": [],
   "source": [
    "sc.tl.rank_genes_groups(adata_all_2, groupby='leiden', method='wilcoxon')\n",
    "sc.pl.rank_genes_groups_tracksplot(adata_all_2, dendrogram=False, use_raw=False, n_genes=15)"
   ]
  },
  {
   "cell_type": "code",
   "execution_count": null,
   "id": "secondary-scroll",
   "metadata": {
    "scrolled": true
   },
   "outputs": [],
   "source": [
    "sc.tl.rank_genes_groups(adata_all_2, groupby='cats_2_axis', method='wilcoxon')\n",
    "sc.pl.rank_genes_groups_tracksplot(adata_all_2, dendrogram=False, use_raw=False, n_genes=150)"
   ]
  },
  {
   "cell_type": "code",
   "execution_count": null,
   "id": "upset-biotechnology",
   "metadata": {
    "scrolled": true
   },
   "outputs": [],
   "source": [
    "genes_L =  list(adata_all_2.uns['rank_genes_groups']['names']['L'][:100])\n",
    "genes_R =  list(adata_all_2.uns['rank_genes_groups']['names']['R'][:100])"
   ]
  },
  {
   "cell_type": "markdown",
   "id": "unlike-plenty",
   "metadata": {},
   "source": [
    "We are going to see how different is the expression between the genes. \n",
    "To do that, we are going to calculate the difference in expression for each gene between L and R. That is, we are going to compute the ratio between the mean expression of the gene in the L cells, and the R cells, for each gene."
   ]
  },
  {
   "cell_type": "code",
   "execution_count": null,
   "id": "allied-process",
   "metadata": {},
   "outputs": [],
   "source": [
    "L_R_diff, R_L_diff = [], []\n",
    "\n",
    "for gene in genes_L:\n",
    "    expr_L = np.mean(adata_all_2[adata_all_2.obs['cats_A2_axis'] == 'L', gene].X)\n",
    "    expr_R = np.mean(adata_all_2[adata_all_2.obs['cats_A2_axis'] == 'R', gene].X)\n",
    "    \n",
    "    L_R_diff.append(expr_L / expr_R)\n",
    "    \n",
    "for gene in genes_R:\n",
    "    expr_L = np.mean(adata_all_2[adata_all_2.obs['cats_A2_axis'] == 'L', gene].X)\n",
    "    expr_R = np.mean(adata_all_2[adata_all_2.obs['cats_A2_axis'] == 'R', gene].X)\n",
    "    \n",
    "    R_L_diff.append(expr_R / expr_L)"
   ]
  },
  {
   "cell_type": "code",
   "execution_count": null,
   "id": "commercial-westminster",
   "metadata": {},
   "outputs": [],
   "source": [
    "data_df = pd.DataFrame({'x': ['L vs R'] * len(L_R_diff) + ['R vs L'] * len(R_L_diff), 'y': L_R_diff + R_L_diff})\n",
    "# sns.violinplot(x='x', y='y', data=data_df)\n",
    "sns.swarmplot(x='x', y='y', data=data_df)\n",
    "sts.mannwhitneyu(L_R_diff, R_L_diff)"
   ]
  },
  {
   "cell_type": "markdown",
   "id": "boxed-dryer",
   "metadata": {},
   "source": [
    "We see that the difference in expression is highest for genes in L vs R group. We are going to find associations between the gene lists and ontologies to try to see if any of the genes is of value."
   ]
  },
  {
   "cell_type": "code",
   "execution_count": null,
   "id": "postal-explanation",
   "metadata": {},
   "outputs": [],
   "source": [
    "enr_L = gp.enrichr(gene_list=list(genes_L),\n",
    "                    gene_sets=['GO_Biological_Process_2018'],\n",
    "                 organism='Human', # don't forget to set organism to the one you desired! e.g. Yeast\n",
    "                 description='test_name',\n",
    "                 cutoff=0.5 # test dataset, use lower value from range(0,1)\n",
    "                )"
   ]
  },
  {
   "cell_type": "code",
   "execution_count": null,
   "id": "precious-society",
   "metadata": {},
   "outputs": [],
   "source": [
    "enr_L.results.sort_values(by='Adjusted P-value').iloc[:15][selected_cols]"
   ]
  },
  {
   "cell_type": "code",
   "execution_count": null,
   "id": "designed-today",
   "metadata": {},
   "outputs": [],
   "source": [
    "enr_R = gp.enrichr(gene_list=list(genes_R),\n",
    "                    gene_sets=['GO_Biological_Process_2018'],\n",
    "                 organism='Human', # don't forget to set organism to the one you desired! e.g. Yeast\n",
    "                 description='test_name',\n",
    "                 cutoff=0.5 # test dataset, use lower value from range(0,1)\n",
    "                )"
   ]
  },
  {
   "cell_type": "code",
   "execution_count": null,
   "id": "express-cable",
   "metadata": {},
   "outputs": [],
   "source": [
    "enr_R.results.sort_values(by='Adjusted P-value').iloc[:15][selected_cols]"
   ]
  },
  {
   "cell_type": "markdown",
   "id": "another-appendix",
   "metadata": {},
   "source": [
    "We see that in the L axis there is an overexpression of genes related to hypoxia / HIF1-$\\alpha$ signalling, which coupled with glucose metabolism, might indicate a stress response by the cells.\n",
    "\n",
    "On the other hand, R axis shows an overexpression os NDUFA and PSMA proteins. NDUFA proteins are subunits of the mitochondrial complex III and PSMA are involved in general metabolism."
   ]
  },
  {
   "cell_type": "markdown",
   "id": "flying-blowing",
   "metadata": {},
   "source": [
    "##### GSEA"
   ]
  },
  {
   "cell_type": "code",
   "execution_count": null,
   "id": "single-marking",
   "metadata": {},
   "outputs": [],
   "source": [
    "rnk_L = pd.DataFrame({'gene': list(adata_all_2.uns['rank_genes_groups']['names']['L'][:3000]) , \n",
    "                    'score': list(adata_all_2.uns['rank_genes_groups']['scores']['L'][:3000])})\n",
    "\n",
    "rnk_R = pd.DataFrame({'gene': list(adata_all_2.uns['rank_genes_groups']['names']['R'][:3000]), \n",
    "                    'score': list(adata_all_2.uns['rank_genes_groups']['scores']['R'][:3000])})"
   ]
  },
  {
   "cell_type": "code",
   "execution_count": null,
   "id": "caroline-comfort",
   "metadata": {},
   "outputs": [],
   "source": [
    "pre_res_L = gp.prerank(rnk=rnk_L, gene_sets='GO_Biological_Process_2018',\n",
    "                     processes=32,\n",
    "                     permutation_num=15, # reduce number to speed up testing\n",
    "                     seed=seed)\n",
    "\n",
    "terms_L = pre_res_L.res2d[pre_res_L.res2d['pval'] < 0.01].sort_values(by='pval').index"
   ]
  },
  {
   "cell_type": "code",
   "execution_count": null,
   "id": "beginning-nitrogen",
   "metadata": {},
   "outputs": [],
   "source": [
    "terms_L"
   ]
  },
  {
   "cell_type": "code",
   "execution_count": null,
   "id": "sporting-federation",
   "metadata": {
    "scrolled": true
   },
   "outputs": [],
   "source": [
    "pre_res_L.res2d[pre_res_L.res2d['pval'] < 0.01]"
   ]
  },
  {
   "cell_type": "code",
   "execution_count": null,
   "id": "mysterious-brunswick",
   "metadata": {
    "scrolled": true
   },
   "outputs": [],
   "source": [
    "for i in range(min(len(terms_L), 100)):\n",
    "    gp.gseaplot(rank_metric=pre_res_L.ranking, term=terms_L[i], figsize=(4, 6), **pre_res_L.results[terms_L[i]])"
   ]
  },
  {
   "cell_type": "code",
   "execution_count": null,
   "id": "grave-appointment",
   "metadata": {},
   "outputs": [],
   "source": [
    "pre_res_R = gp.prerank(rnk=rnk_R, gene_sets='GO_Biological_Process_2018',\n",
    "                     processes=32,\n",
    "                     permutation_num=15, # reduce number to speed up testing\n",
    "                     seed=seed)\n",
    "\n",
    "terms_R = pre_res_R.res2d[pre_res_R.res2d['pval'] < 0.01].sort_values(by='pval').index"
   ]
  },
  {
   "cell_type": "code",
   "execution_count": null,
   "id": "dying-cabinet",
   "metadata": {},
   "outputs": [],
   "source": [
    "terms_R"
   ]
  },
  {
   "cell_type": "code",
   "execution_count": null,
   "id": "suffering-impression",
   "metadata": {
    "scrolled": true
   },
   "outputs": [],
   "source": [
    "pre_res_R.res2d[pre_res_R.res2d['pval'] < 0.01]"
   ]
  },
  {
   "cell_type": "code",
   "execution_count": null,
   "id": "identified-function",
   "metadata": {
    "scrolled": true
   },
   "outputs": [],
   "source": [
    "for i in range(min(len(terms_R), 100)):\n",
    "    gp.gseaplot(rank_metric=pre_res_R.ranking, term=terms_R[i], figsize=(4, 6), **pre_res_R.results[terms_R[i]])"
   ]
  },
  {
   "cell_type": "code",
   "execution_count": null,
   "id": "bright-layer",
   "metadata": {},
   "outputs": [],
   "source": [
    "### Select Non-stress population and "
   ]
  },
  {
   "cell_type": "code",
   "execution_count": null,
   "id": "advanced-rocket",
   "metadata": {},
   "outputs": [],
   "source": []
  },
  {
   "cell_type": "code",
   "execution_count": null,
   "id": "rising-fault",
   "metadata": {},
   "outputs": [],
   "source": []
  },
  {
   "cell_type": "code",
   "execution_count": null,
   "id": "bacterial-announcement",
   "metadata": {},
   "outputs": [],
   "source": []
  },
  {
   "cell_type": "markdown",
   "id": "subjective-thomas",
   "metadata": {},
   "source": [
    "## Mapping stress-related genes to populations\n",
    "In this section we are going to use a set of genes from the following references:\n",
    "* [van den Brick et al. (2017)](https://www.nature.com/articles/nmeth.4437) Table S1\n",
    "* [O'Flanagan et al. (2019)](https://genomebiology.biomedcentral.com/articles/10.1186/s13059-019-1830-0) Figure 3, and [Github](https://github.com/kieranrcampbell/scrnaseq-digestion-paper/blob/master/data/deliverables/coregene_df-FALSE-v3.csv)\n",
    "* [Denisenko et al. (2020)](https://genomebiology.biomedcentral.com/articles/10.1186/s13059-020-02048-6) Tables S1 and S3\n",
    "* [Adam et al. (2017)](https://journals.biologists.com/dev/article/144/19/3625/48196/Psychrophilic-proteases-dramatically-reduce-single) Tables S1 and S2\n",
    "\n",
    "These tables include genes overexpressed in different tissues (kidney, tumours, etc.) and hot (37 ºC) and cold conditions. Most of the authors assess that these conditions are not tissue-specific and appear, overall, in all samples with a certain degree of processing. Therefore, we are going to use these gene lists and map their genes to the dataset to see how apparent the gene expression patterns are. "
   ]
  },
  {
   "cell_type": "markdown",
   "id": "south-capacity",
   "metadata": {},
   "source": [
    "### Load gene lists"
   ]
  },
  {
   "cell_type": "code",
   "execution_count": null,
   "id": "monthly-xerox",
   "metadata": {},
   "outputs": [],
   "source": [
    "gene_list_adam_2017_s1_hot = np.loadtxt('papers_genes_bad_quality/adam_2017_s1_hot.txt', dtype=str)\n",
    "gene_list_adam_2017_s1_cold = np.loadtxt('papers_genes_bad_quality/adam_2017_s1_cold.txt', dtype=str)\n",
    "\n",
    "gene_list_adam_2017_s2_hot = np.loadtxt('papers_genes_bad_quality/adam_2017_s2_hot.txt', dtype=str)\n",
    "gene_list_adam_2017_s2_cold = np.loadtxt('papers_genes_bad_quality/adam_2017_s2_cold.txt', dtype=str)"
   ]
  },
  {
   "cell_type": "code",
   "execution_count": null,
   "id": "informative-discipline",
   "metadata": {},
   "outputs": [],
   "source": [
    "gene_list_denisenko_2020_s1_hot = np.loadtxt('papers_genes_bad_quality/denisenko_2020_s1.txt', dtype=str)\n",
    "gene_list_denisenko_2020_s1_cold = np.loadtxt('papers_genes_bad_quality/denisenko_2020_s1_cold.txt', dtype=str)\n",
    "\n",
    "gene_list_denisenko_2020_s3_hot = np.loadtxt('papers_genes_bad_quality/denisenko_2020_s3.txt', dtype=str)"
   ]
  },
  {
   "cell_type": "code",
   "execution_count": null,
   "id": "fabulous-program",
   "metadata": {},
   "outputs": [],
   "source": [
    "gene_list_oflanagan_2019_supp_hot = np.loadtxt('papers_genes_bad_quality/oflanagan_2019_gene_list_supp_hot.txt', dtype=str)\n",
    "gene_list_oflanagan_2019_supp_cold = np.loadtxt('papers_genes_bad_quality/oflanagan_2019_gene_list_supp_cold.txt', dtype=str)\n",
    "\n",
    "gene_list_oflanagan_2019_fig3_hot = np.loadtxt('papers_genes_bad_quality/oflanagan_2019_gene_list_fig3.txt', dtype=str)"
   ]
  },
  {
   "cell_type": "code",
   "execution_count": null,
   "id": "ambient-webmaster",
   "metadata": {},
   "outputs": [],
   "source": [
    "gene_list_vandenbrick_2017_hot = np.loadtxt('papers_genes_bad_quality/vandenbrink_2017_gene_list.txt', dtype=str)"
   ]
  },
  {
   "cell_type": "code",
   "execution_count": null,
   "id": "understanding-draft",
   "metadata": {},
   "outputs": [],
   "source": [
    "hot_genes = np.concatenate((gene_list_adam_2017_s1_hot, gene_list_adam_2017_s2_hot, gene_list_denisenko_2020_s1_hot, gene_list_denisenko_2020_s3_hot, \n",
    "                            gene_list_oflanagan_2019_supp_hot, gene_list_oflanagan_2019_fig3_hot, gene_list_vandenbrick_2017_hot))\n",
    "\n",
    "cold_genes = np.concatenate((gene_list_adam_2017_s1_cold, gene_list_adam_2017_s2_cold, gene_list_denisenko_2020_s1_cold, gene_list_oflanagan_2019_supp_cold))"
   ]
  },
  {
   "cell_type": "code",
   "execution_count": null,
   "id": "dirty-overview",
   "metadata": {},
   "outputs": [],
   "source": [
    "hot_genes, hot_counts = np.unique(hot_genes, return_counts=True)\n",
    "cold_genes, cold_counts = np.unique(cold_genes, return_counts=True)"
   ]
  },
  {
   "cell_type": "code",
   "execution_count": null,
   "id": "purple-breeding",
   "metadata": {},
   "outputs": [],
   "source": [
    "hot_genes_good = hot_genes[hot_counts > 2]\n",
    "hot_genes_good"
   ]
  },
  {
   "cell_type": "code",
   "execution_count": null,
   "id": "clear-aspect",
   "metadata": {},
   "outputs": [],
   "source": [
    "cold_genes_good = cold_genes[cold_counts > 1]\n",
    "cold_genes_good"
   ]
  },
  {
   "cell_type": "markdown",
   "id": "backed-taxation",
   "metadata": {},
   "source": [
    "### Set dataset"
   ]
  },
  {
   "cell_type": "markdown",
   "id": "another-weapon",
   "metadata": {},
   "source": [
    "We are going to begin with the whole S1-S5 datasets (loom files)"
   ]
  },
  {
   "cell_type": "code",
   "execution_count": null,
   "id": "wrapped-roads",
   "metadata": {},
   "outputs": [],
   "source": [
    "genes = ['science_clustering'] + [i for i in hot_genes_good if i in adata_reynolds_fb_4820STDY7388991_loom_fb.var_names]\n",
    "\n",
    "sc.pl.umap(adata_reynolds_fb_4820STDY7388991_loom_fb, color=genes, cmap=magma, use_raw=False, legend_loc='on data')"
   ]
  },
  {
   "cell_type": "code",
   "execution_count": null,
   "id": "final-biotechnology",
   "metadata": {},
   "outputs": [],
   "source": [
    "genes = ['science_clustering'] + [i for i in hot_genes_good if i in adata_reynolds_fb_4820STDY7388999_loom.var_names]\n",
    "\n",
    "sc.pl.umap(adata_reynolds_fb_4820STDY7388999_loom, color=genes, cmap=magma, use_raw=False, legend_loc='on data')"
   ]
  },
  {
   "cell_type": "code",
   "execution_count": null,
   "id": "czech-priority",
   "metadata": {},
   "outputs": [],
   "source": [
    "genes = ['science_clustering'] + [i for i in hot_genes_good if i in adata_reynolds_fb_4820STDY7389007_loom.var_names]\n",
    "\n",
    "sc.pl.umap(adata_reynolds_fb_4820STDY7389007_loom, color=genes, cmap=magma, use_raw=False, legend_loc='on data')"
   ]
  },
  {
   "cell_type": "code",
   "execution_count": null,
   "id": "norwegian-montreal",
   "metadata": {},
   "outputs": [],
   "source": [
    "genes = ['science_clustering'] + [i for i in hot_genes_good if i in adata_reynolds_fb_SKN8104899_loom.var_names]\n",
    "\n",
    "sc.pl.umap(adata_reynolds_fb_SKN8104899_loom, color=genes, cmap=magma, use_raw=False, legend_loc='on data')"
   ]
  },
  {
   "cell_type": "code",
   "execution_count": null,
   "id": "enabling-buying",
   "metadata": {},
   "outputs": [],
   "source": [
    "genes = ['science_clustering'] + [i for i in hot_genes_good if i in adata_reynolds_fb_SKN8105197_loom.var_names]\n",
    "\n",
    "sc.pl.umap(adata_reynolds_fb_SKN8105197_loom, color=genes, cmap=magma, use_raw=False, legend_loc='on data')"
   ]
  },
  {
   "cell_type": "code",
   "execution_count": null,
   "id": "metric-tissue",
   "metadata": {},
   "outputs": [],
   "source": []
  },
  {
   "cell_type": "code",
   "execution_count": null,
   "id": "nasty-petite",
   "metadata": {},
   "outputs": [],
   "source": []
  },
  {
   "cell_type": "code",
   "execution_count": null,
   "id": "precise-watershed",
   "metadata": {},
   "outputs": [],
   "source": [
    "genes = ['science_clustering'] + [i for i in ['BNIP3', 'FAM162A', 'LDHA', 'GPL1', 'ALDOC', 'BNIP3L', 'PFKL', 'PFKP', 'PRDX5', \n",
    "                                              'BSG', 'MIF', 'TPL1', 'GADPH', 'ENO1', 'ALDOA', 'PDK2'] \n",
    "                                  if i in adata_all_13.var_names]\n",
    "\n",
    "sc.pl.umap(adata_all_13, color=genes, cmap=magma, use_raw=False, legend_loc='on data')"
   ]
  },
  {
   "cell_type": "code",
   "execution_count": null,
   "id": "aggregate-landing",
   "metadata": {},
   "outputs": [],
   "source": [
    "sc.pl.umap(adata_reynolds_fb_4820STDY7388999_loom, color=genes, cmap=magma, use_raw=False, legend_loc='on data')"
   ]
  },
  {
   "cell_type": "code",
   "execution_count": null,
   "id": "fifth-liverpool",
   "metadata": {},
   "outputs": [],
   "source": [
    "sc.pl.umap(adata_reynolds_fb_4820STDY7389007_loom, color=genes, cmap=magma, use_raw=False, legend_loc='on data')"
   ]
  },
  {
   "cell_type": "code",
   "execution_count": null,
   "id": "architectural-performer",
   "metadata": {},
   "outputs": [],
   "source": []
  },
  {
   "cell_type": "code",
   "execution_count": null,
   "id": "dependent-toolbox",
   "metadata": {},
   "outputs": [],
   "source": [
    "genes = ['science_clustering'] + ['BNIP3', 'EDN1', 'PGF', 'HIF3A', 'BNIP3L', 'FLT1', 'LOXL2', 'VEGFC', 'CXCL12', 'GADD45B', 'B4GALT1']\n",
    "\n",
    "sc.pl.umap(adata_reynolds_fb_SKN8104899_loom, color=genes, cmap=magma, use_raw=False, legend_loc='on data')"
   ]
  },
  {
   "cell_type": "code",
   "execution_count": null,
   "id": "aggregate-canon",
   "metadata": {},
   "outputs": [],
   "source": []
  },
  {
   "cell_type": "code",
   "execution_count": null,
   "id": "creative-potential",
   "metadata": {},
   "outputs": [],
   "source": []
  },
  {
   "cell_type": "code",
   "execution_count": null,
   "id": "retained-fitness",
   "metadata": {},
   "outputs": [],
   "source": []
  },
  {
   "cell_type": "code",
   "execution_count": null,
   "id": "cardiovascular-integer",
   "metadata": {},
   "outputs": [],
   "source": []
  },
  {
   "cell_type": "code",
   "execution_count": null,
   "id": "federal-diving",
   "metadata": {},
   "outputs": [],
   "source": []
  },
  {
   "cell_type": "code",
   "execution_count": null,
   "id": "developmental-eight",
   "metadata": {},
   "outputs": [],
   "source": [
    "adata_reynolds = sc.read('submission_210120.h5ad', backup_url='https://zenodo.org/record/4536165/files/submission_210120.h5ad')"
   ]
  },
  {
   "cell_type": "code",
   "execution_count": null,
   "id": "labeled-asbestos",
   "metadata": {},
   "outputs": [],
   "source": [
    "for adata_name in ['adata_reynolds']:\n",
    "    sc.pp.filter_genes(eval(adata_name), min_counts=30)\n",
    "    sc.pp.pca(eval(adata_name), random_state=seed, n_comps=30)\n",
    "    sce.pp.bbknn(eval(adata_name), metric='angular', batch_key='sample_id', neighbors_within_batch=2)\n",
    "    tk.tl.triku(eval(adata_name), n_procs=1, random_state=seed, use_adata_knn=True)\n",
    "    sc.tl.umap(eval(adata_name), min_dist=0.05, random_state=seed)"
   ]
  },
  {
   "cell_type": "code",
   "execution_count": null,
   "id": "blocked-action",
   "metadata": {},
   "outputs": [],
   "source": [
    "sc.tl.umap(adata_reynolds, min_dist=0.05, color=['sample_id', 'full_clustering'])"
   ]
  }
 ],
 "metadata": {
  "kernelspec": {
   "display_name": "Python [conda env:alex-base] *",
   "language": "python",
   "name": "conda-env-alex-base-py"
  },
  "language_info": {
   "codemirror_mode": {
    "name": "ipython",
    "version": 3
   },
   "file_extension": ".py",
   "mimetype": "text/x-python",
   "name": "python",
   "nbconvert_exporter": "python",
   "pygments_lexer": "ipython3",
   "version": "3.8.0"
  }
 },
 "nbformat": 4,
 "nbformat_minor": 5
}
